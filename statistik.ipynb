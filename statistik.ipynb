{
 "cells": [
  {
   "cell_type": "code",
   "execution_count": 1,
   "id": "efe555bf",
   "metadata": {},
   "outputs": [],
   "source": [
    "# === 1. Import library ===\n",
    "import re\n",
    "import glob\n",
    "import pandas as pd\n",
    "import plotly.express as px\n",
    "import plotly.graph_objects as go\n",
    "from IPython.display import display, HTML\n"
   ]
  },
  {
   "cell_type": "code",
   "execution_count": 2,
   "id": "85142e00",
   "metadata": {},
   "outputs": [],
   "source": [
    "# === 2. Ambil semua file teks dalam folder ===\n",
    "files = glob.glob(\"datatext/*.txt\")  # ganti sesuai folder kamu\n",
    "\n",
    "punct_pattern = re.compile(r\"[!\\\"#$%&'()*+,\\-./:;<=>?@[\\\\\\]^_`{|}~¡«»…‘’“”–—´]\")\n",
    "\n",
    "all_data = []\n",
    "summary = []\n"
   ]
  },
  {
   "cell_type": "code",
   "execution_count": 9,
   "id": "7de077f3",
   "metadata": {},
   "outputs": [],
   "source": [
    "# === 3. Proses setiap file ===\n",
    "for file in files:\n",
    "    with open(file, \"r\", encoding=\"utf-8\") as f:\n",
    "        text = f.read()\n",
    "\n",
    "    sentences = re.split(r'(?<=[.!?])\\s+|\\n+', text.strip())\n",
    "    sentences = [s for s in sentences if s]\n",
    "\n",
    "    for i, sentence in enumerate(sentences, start=1):\n",
    "        words = sentence.split()\n",
    "        word_count = sum(1 for w in words if not punct_pattern.fullmatch(w))\n",
    "        punct_count = sum(1 for w in words if punct_pattern.fullmatch(w))\n",
    "        all_data.append({\n",
    "            \"File\": file.split(\"\\\\\")[-1],  # hanya nama file\n",
    "            \"Kalimat ke\": i,\n",
    "            \"Jumlah Kata\": word_count,\n",
    "            \"Jumlah Tanda Baca\": punct_count,\n",
    "            \"Total Token\": len(words)\n",
    "        })\n",
    "\n",
    "    df_file = pd.DataFrame([d for d in all_data if d[\"File\"] == file.split(\"\\\\\")[-1]])\n",
    "    summary.append({\n",
    "        \"File\": file.split(\"\\\\\")[-1],\n",
    "        \"Jumlah Kalimat\": len(sentences),\n",
    "        \"Jumlah Kata\": df_file[\"Jumlah Kata\"].sum(),\n",
    "        \"Jumlah Tanda Baca\": df_file[\"Jumlah Tanda Baca\"].sum(),\n",
    "        \"Rata-rata Kata/Kalimat\": df_file[\"Jumlah Kata\"].mean()\n",
    "    })\n",
    "\n"
   ]
  },
  {
   "cell_type": "code",
   "execution_count": 10,
   "id": "c7b65555",
   "metadata": {},
   "outputs": [],
   "source": [
    "# === 4. Buat DataFrame ===\n",
    "df = pd.DataFrame(all_data)\n",
    "df_summary = pd.DataFrame(summary)\n"
   ]
  },
  {
   "cell_type": "code",
   "execution_count": 11,
   "id": "0c82d839",
   "metadata": {},
   "outputs": [
    {
     "data": {
      "text/html": [
       "<h3>📊 Ringkasan Statistik per File</h3>"
      ],
      "text/plain": [
       "<IPython.core.display.HTML object>"
      ]
     },
     "metadata": {},
     "output_type": "display_data"
    },
    {
     "data": {
      "text/html": [
       "<style type=\"text/css\">\n",
       "#T_6bf53 th {\n",
       "  background-color: #1f77b4;\n",
       "  color: white;\n",
       "  font-weight: bold;\n",
       "}\n",
       "#T_6bf53_row0_col2, #T_6bf53_row0_col3 {\n",
       "  width: 10em;\n",
       "  background: linear-gradient(90deg, #ff7f0e 50.0%, transparent 50.0%);\n",
       "}\n",
       "#T_6bf53_row1_col2, #T_6bf53_row4_col2, #T_6bf53_row5_col2, #T_6bf53_row11_col3, #T_6bf53_row43_col2, #T_6bf53_row45_col3, #T_6bf53_row91_col3 {\n",
       "  width: 10em;\n",
       "  background: linear-gradient(90deg, #ff7f0e 0.1%, transparent 0.1%);\n",
       "}\n",
       "#T_6bf53_row1_col3, #T_6bf53_row2_col3, #T_6bf53_row3_col3, #T_6bf53_row4_col3, #T_6bf53_row5_col3, #T_6bf53_row6_col3, #T_6bf53_row7_col3, #T_6bf53_row8_col3, #T_6bf53_row9_col3, #T_6bf53_row12_col3, #T_6bf53_row13_col3, #T_6bf53_row14_col3, #T_6bf53_row15_col3, #T_6bf53_row16_col3, #T_6bf53_row17_col3, #T_6bf53_row18_col3, #T_6bf53_row19_col3, #T_6bf53_row20_col3, #T_6bf53_row21_col3, #T_6bf53_row22_col3, #T_6bf53_row23_col3, #T_6bf53_row24_col3, #T_6bf53_row25_col3, #T_6bf53_row26_col3, #T_6bf53_row27_col3, #T_6bf53_row28_col3, #T_6bf53_row29_col3, #T_6bf53_row30_col3, #T_6bf53_row31_col3, #T_6bf53_row32_col3, #T_6bf53_row33_col3, #T_6bf53_row34_col3, #T_6bf53_row35_col3, #T_6bf53_row36_col3, #T_6bf53_row37_col3, #T_6bf53_row38_col3, #T_6bf53_row40_col3, #T_6bf53_row41_col3, #T_6bf53_row42_col3, #T_6bf53_row43_col3, #T_6bf53_row44_col3, #T_6bf53_row47_col3, #T_6bf53_row48_col3, #T_6bf53_row49_col3, #T_6bf53_row50_col3, #T_6bf53_row51_col3, #T_6bf53_row52_col3, #T_6bf53_row53_col3, #T_6bf53_row54_col3, #T_6bf53_row55_col3, #T_6bf53_row58_col3, #T_6bf53_row59_col3, #T_6bf53_row60_col3, #T_6bf53_row61_col3, #T_6bf53_row62_col3, #T_6bf53_row63_col3, #T_6bf53_row64_col3, #T_6bf53_row65_col3, #T_6bf53_row66_col3, #T_6bf53_row67_col3, #T_6bf53_row68_col3, #T_6bf53_row69_col3, #T_6bf53_row70_col3, #T_6bf53_row71_col3, #T_6bf53_row72_col3, #T_6bf53_row73_col3, #T_6bf53_row74_col3, #T_6bf53_row75_col3, #T_6bf53_row76_col3, #T_6bf53_row77_col3, #T_6bf53_row78_col3, #T_6bf53_row79_col3, #T_6bf53_row80_col3, #T_6bf53_row81_col3, #T_6bf53_row82_col3, #T_6bf53_row83_col3, #T_6bf53_row84_col3, #T_6bf53_row86_col3, #T_6bf53_row87_col3, #T_6bf53_row88_col3, #T_6bf53_row89_col3, #T_6bf53_row90_col3 {\n",
       "  width: 10em;\n",
       "}\n",
       "#T_6bf53_row2_col2, #T_6bf53_row18_col2, #T_6bf53_row19_col2, #T_6bf53_row22_col2, #T_6bf53_row56_col3, #T_6bf53_row66_col2, #T_6bf53_row67_col2, #T_6bf53_row75_col2 {\n",
       "  width: 10em;\n",
       "  background: linear-gradient(90deg, #ff7f0e 0.4%, transparent 0.4%);\n",
       "}\n",
       "#T_6bf53_row3_col2, #T_6bf53_row6_col2, #T_6bf53_row7_col2, #T_6bf53_row10_col3, #T_6bf53_row20_col2, #T_6bf53_row21_col2, #T_6bf53_row23_col2, #T_6bf53_row26_col2, #T_6bf53_row29_col2, #T_6bf53_row30_col2, #T_6bf53_row42_col2, #T_6bf53_row47_col2, #T_6bf53_row57_col3, #T_6bf53_row89_col2 {\n",
       "  width: 10em;\n",
       "  background: linear-gradient(90deg, #ff7f0e 0.2%, transparent 0.2%);\n",
       "}\n",
       "#T_6bf53_row8_col2, #T_6bf53_row27_col2, #T_6bf53_row34_col2, #T_6bf53_row35_col2, #T_6bf53_row36_col2, #T_6bf53_row49_col2, #T_6bf53_row72_col2, #T_6bf53_row76_col2, #T_6bf53_row88_col2 {\n",
       "  width: 10em;\n",
       "  background: linear-gradient(90deg, #ff7f0e 0.5%, transparent 0.5%);\n",
       "}\n",
       "#T_6bf53_row9_col2 {\n",
       "  width: 10em;\n",
       "  background: linear-gradient(90deg, #ff7f0e 19.8%, transparent 19.8%);\n",
       "}\n",
       "#T_6bf53_row10_col2 {\n",
       "  width: 10em;\n",
       "  background: linear-gradient(90deg, #ff7f0e 15.0%, transparent 15.0%);\n",
       "}\n",
       "#T_6bf53_row11_col2 {\n",
       "  width: 10em;\n",
       "  background: linear-gradient(90deg, #ff7f0e 24.1%, transparent 24.1%);\n",
       "}\n",
       "#T_6bf53_row12_col2, #T_6bf53_row68_col2, #T_6bf53_row74_col2, #T_6bf53_row77_col2, #T_6bf53_row85_col3, #T_6bf53_row90_col2 {\n",
       "  width: 10em;\n",
       "  background: linear-gradient(90deg, #ff7f0e 0.7%, transparent 0.7%);\n",
       "}\n",
       "#T_6bf53_row13_col2, #T_6bf53_row61_col2 {\n",
       "  width: 10em;\n",
       "  background: linear-gradient(90deg, #ff7f0e 3.0%, transparent 3.0%);\n",
       "}\n",
       "#T_6bf53_row14_col2, #T_6bf53_row54_col2, #T_6bf53_row73_col2 {\n",
       "  width: 10em;\n",
       "  background: linear-gradient(90deg, #ff7f0e 1.0%, transparent 1.0%);\n",
       "}\n",
       "#T_6bf53_row15_col2 {\n",
       "  width: 10em;\n",
       "  background: linear-gradient(90deg, #ff7f0e 1.5%, transparent 1.5%);\n",
       "}\n",
       "#T_6bf53_row16_col2, #T_6bf53_row24_col2, #T_6bf53_row85_col2 {\n",
       "  width: 10em;\n",
       "  background: linear-gradient(90deg, #ff7f0e 1.2%, transparent 1.2%);\n",
       "}\n",
       "#T_6bf53_row17_col2, #T_6bf53_row64_col2 {\n",
       "  width: 10em;\n",
       "  background: linear-gradient(90deg, #ff7f0e 0.8%, transparent 0.8%);\n",
       "}\n",
       "#T_6bf53_row25_col2, #T_6bf53_row28_col2, #T_6bf53_row31_col2, #T_6bf53_row39_col3, #T_6bf53_row40_col2, #T_6bf53_row44_col2, #T_6bf53_row50_col2, #T_6bf53_row51_col2, #T_6bf53_row52_col2, #T_6bf53_row53_col2, #T_6bf53_row69_col2 {\n",
       "  width: 10em;\n",
       "  background: linear-gradient(90deg, #ff7f0e 0.3%, transparent 0.3%);\n",
       "}\n",
       "#T_6bf53_row32_col2, #T_6bf53_row81_col2, #T_6bf53_row82_col2 {\n",
       "  width: 10em;\n",
       "  background: linear-gradient(90deg, #ff7f0e 1.1%, transparent 1.1%);\n",
       "}\n",
       "#T_6bf53_row33_col2, #T_6bf53_row48_col2, #T_6bf53_row65_col2, #T_6bf53_row80_col2 {\n",
       "  width: 10em;\n",
       "  background: linear-gradient(90deg, #ff7f0e 0.9%, transparent 0.9%);\n",
       "}\n",
       "#T_6bf53_row37_col2, #T_6bf53_row38_col2, #T_6bf53_row62_col2, #T_6bf53_row70_col2 {\n",
       "  width: 10em;\n",
       "  background: linear-gradient(90deg, #ff7f0e 2.4%, transparent 2.4%);\n",
       "}\n",
       "#T_6bf53_row39_col2, #T_6bf53_row41_col2, #T_6bf53_row71_col2, #T_6bf53_row86_col2 {\n",
       "  width: 10em;\n",
       "  background: linear-gradient(90deg, #ff7f0e 0.6%, transparent 0.6%);\n",
       "}\n",
       "#T_6bf53_row45_col2, #T_6bf53_row63_col2 {\n",
       "  width: 10em;\n",
       "  background: linear-gradient(90deg, #ff7f0e 1.7%, transparent 1.7%);\n",
       "}\n",
       "#T_6bf53_row46_col2, #T_6bf53_row46_col3 {\n",
       "  width: 10em;\n",
       "  background: linear-gradient(90deg, #ff7f0e 100.0%, transparent 100.0%);\n",
       "}\n",
       "#T_6bf53_row55_col2 {\n",
       "  width: 10em;\n",
       "  background: linear-gradient(90deg, #ff7f0e 39.6%, transparent 39.6%);\n",
       "}\n",
       "#T_6bf53_row56_col2 {\n",
       "  width: 10em;\n",
       "  background: linear-gradient(90deg, #ff7f0e 29.9%, transparent 29.9%);\n",
       "}\n",
       "#T_6bf53_row57_col2 {\n",
       "  width: 10em;\n",
       "  background: linear-gradient(90deg, #ff7f0e 48.2%, transparent 48.2%);\n",
       "}\n",
       "#T_6bf53_row58_col2 {\n",
       "  width: 10em;\n",
       "  background: linear-gradient(90deg, #ff7f0e 1.4%, transparent 1.4%);\n",
       "}\n",
       "#T_6bf53_row59_col2 {\n",
       "  width: 10em;\n",
       "  background: linear-gradient(90deg, #ff7f0e 6.0%, transparent 6.0%);\n",
       "}\n",
       "#T_6bf53_row60_col2, #T_6bf53_row78_col2 {\n",
       "  width: 10em;\n",
       "  background: linear-gradient(90deg, #ff7f0e 2.1%, transparent 2.1%);\n",
       "}\n",
       "#T_6bf53_row79_col2 {\n",
       "  width: 10em;\n",
       "  background: linear-gradient(90deg, #ff7f0e 1.8%, transparent 1.8%);\n",
       "}\n",
       "#T_6bf53_row83_col2 {\n",
       "  width: 10em;\n",
       "  background: linear-gradient(90deg, #ff7f0e 4.8%, transparent 4.8%);\n",
       "}\n",
       "#T_6bf53_row84_col2 {\n",
       "  width: 10em;\n",
       "  background: linear-gradient(90deg, #ff7f0e 4.7%, transparent 4.7%);\n",
       "}\n",
       "#T_6bf53_row87_col2 {\n",
       "  width: 10em;\n",
       "  background: linear-gradient(90deg, #ff7f0e 1.3%, transparent 1.3%);\n",
       "}\n",
       "#T_6bf53_row91_col2 {\n",
       "  width: 10em;\n",
       "  background: linear-gradient(90deg, #ff7f0e 3.5%, transparent 3.5%);\n",
       "}\n",
       "</style>\n",
       "<table id=\"T_6bf53\">\n",
       "  <thead>\n",
       "    <tr>\n",
       "      <th class=\"blank level0\" >&nbsp;</th>\n",
       "      <th id=\"T_6bf53_level0_col0\" class=\"col_heading level0 col0\" >File</th>\n",
       "      <th id=\"T_6bf53_level0_col1\" class=\"col_heading level0 col1\" >Jumlah Kalimat</th>\n",
       "      <th id=\"T_6bf53_level0_col2\" class=\"col_heading level0 col2\" >Jumlah Kata</th>\n",
       "      <th id=\"T_6bf53_level0_col3\" class=\"col_heading level0 col3\" >Jumlah Tanda Baca</th>\n",
       "      <th id=\"T_6bf53_level0_col4\" class=\"col_heading level0 col4\" >Rata-rata Kata/Kalimat</th>\n",
       "    </tr>\n",
       "  </thead>\n",
       "  <tbody>\n",
       "    <tr>\n",
       "      <th id=\"T_6bf53_level0_row0\" class=\"row_heading level0 row0\" >0</th>\n",
       "      <td id=\"T_6bf53_row0_col0\" class=\"data row0 col0\" >babasan-paribasa.txt</td>\n",
       "      <td id=\"T_6bf53_row0_col1\" class=\"data row0 col1\" >953</td>\n",
       "      <td id=\"T_6bf53_row0_col2\" class=\"data row0 col2\" >9643</td>\n",
       "      <td id=\"T_6bf53_row0_col3\" class=\"data row0 col3\" >904</td>\n",
       "      <td id=\"T_6bf53_row0_col4\" class=\"data row0 col4\" >10.118573</td>\n",
       "    </tr>\n",
       "    <tr>\n",
       "      <th id=\"T_6bf53_level0_row1\" class=\"row_heading level0 row1\" >1</th>\n",
       "      <td id=\"T_6bf53_row1_col0\" class=\"data row1 col0\" >mantra-ajian-kabedasan.txt</td>\n",
       "      <td id=\"T_6bf53_row1_col1\" class=\"data row1 col1\" >1</td>\n",
       "      <td id=\"T_6bf53_row1_col2\" class=\"data row1 col2\" >19</td>\n",
       "      <td id=\"T_6bf53_row1_col3\" class=\"data row1 col3\" >0</td>\n",
       "      <td id=\"T_6bf53_row1_col4\" class=\"data row1 col4\" >19.000000</td>\n",
       "    </tr>\n",
       "    <tr>\n",
       "      <th id=\"T_6bf53_level0_row2\" class=\"row_heading level0 row2\" >2</th>\n",
       "      <td id=\"T_6bf53_row2_col0\" class=\"data row2 col0\" >mantra-jampe-nganjang.txt</td>\n",
       "      <td id=\"T_6bf53_row2_col1\" class=\"data row2 col1\" >1</td>\n",
       "      <td id=\"T_6bf53_row2_col2\" class=\"data row2 col2\" >84</td>\n",
       "      <td id=\"T_6bf53_row2_col3\" class=\"data row2 col3\" >0</td>\n",
       "      <td id=\"T_6bf53_row2_col4\" class=\"data row2 col4\" >84.000000</td>\n",
       "    </tr>\n",
       "    <tr>\n",
       "      <th id=\"T_6bf53_level0_row3\" class=\"row_heading level0 row3\" >3</th>\n",
       "      <td id=\"T_6bf53_row3_col0\" class=\"data row3 col0\" >mantra-jangjawokan-paranti-dipupur.txt</td>\n",
       "      <td id=\"T_6bf53_row3_col1\" class=\"data row3 col1\" >1</td>\n",
       "      <td id=\"T_6bf53_row3_col2\" class=\"data row3 col2\" >47</td>\n",
       "      <td id=\"T_6bf53_row3_col3\" class=\"data row3 col3\" >0</td>\n",
       "      <td id=\"T_6bf53_row3_col4\" class=\"data row3 col4\" >47.000000</td>\n",
       "    </tr>\n",
       "    <tr>\n",
       "      <th id=\"T_6bf53_level0_row4\" class=\"row_heading level0 row4\" >4</th>\n",
       "      <td id=\"T_6bf53_row4_col0\" class=\"data row4 col0\" >mantra-rajah-citra-kasunyian.txt</td>\n",
       "      <td id=\"T_6bf53_row4_col1\" class=\"data row4 col1\" >1</td>\n",
       "      <td id=\"T_6bf53_row4_col2\" class=\"data row4 col2\" >27</td>\n",
       "      <td id=\"T_6bf53_row4_col3\" class=\"data row4 col3\" >0</td>\n",
       "      <td id=\"T_6bf53_row4_col4\" class=\"data row4 col4\" >27.000000</td>\n",
       "    </tr>\n",
       "    <tr>\n",
       "      <th id=\"T_6bf53_level0_row5\" class=\"row_heading level0 row5\" >5</th>\n",
       "      <td id=\"T_6bf53_row5_col0\" class=\"data row5 col0\" >mantra-singlar-ka-musuh.txt</td>\n",
       "      <td id=\"T_6bf53_row5_col1\" class=\"data row5 col1\" >1</td>\n",
       "      <td id=\"T_6bf53_row5_col2\" class=\"data row5 col2\" >26</td>\n",
       "      <td id=\"T_6bf53_row5_col3\" class=\"data row5 col3\" >0</td>\n",
       "      <td id=\"T_6bf53_row5_col4\" class=\"data row5 col4\" >26.000000</td>\n",
       "    </tr>\n",
       "    <tr>\n",
       "      <th id=\"T_6bf53_level0_row6\" class=\"row_heading level0 row6\" >6</th>\n",
       "      <td id=\"T_6bf53_row6_col0\" class=\"data row6 col0\" >mantra-mantra-asihan-si-burung-pundung.txt</td>\n",
       "      <td id=\"T_6bf53_row6_col1\" class=\"data row6 col1\" >1</td>\n",
       "      <td id=\"T_6bf53_row6_col2\" class=\"data row6 col2\" >29</td>\n",
       "      <td id=\"T_6bf53_row6_col3\" class=\"data row6 col3\" >0</td>\n",
       "      <td id=\"T_6bf53_row6_col4\" class=\"data row6 col4\" >29.000000</td>\n",
       "    </tr>\n",
       "    <tr>\n",
       "      <th id=\"T_6bf53_level0_row7\" class=\"row_heading level0 row7\" >7</th>\n",
       "      <td id=\"T_6bf53_row7_col0\" class=\"data row7 col0\" >mantra-jampe-dicoco-kala.txt</td>\n",
       "      <td id=\"T_6bf53_row7_col1\" class=\"data row7 col1\" >1</td>\n",
       "      <td id=\"T_6bf53_row7_col2\" class=\"data row7 col2\" >31</td>\n",
       "      <td id=\"T_6bf53_row7_col3\" class=\"data row7 col3\" >0</td>\n",
       "      <td id=\"T_6bf53_row7_col4\" class=\"data row7 col4\" >31.000000</td>\n",
       "    </tr>\n",
       "    <tr>\n",
       "      <th id=\"T_6bf53_level0_row8\" class=\"row_heading level0 row8\" >8</th>\n",
       "      <td id=\"T_6bf53_row8_col0\" class=\"data row8 col0\" >mantra-jampe-nyimpen-beas.txt</td>\n",
       "      <td id=\"T_6bf53_row8_col1\" class=\"data row8 col1\" >2</td>\n",
       "      <td id=\"T_6bf53_row8_col2\" class=\"data row8 col2\" >92</td>\n",
       "      <td id=\"T_6bf53_row8_col3\" class=\"data row8 col3\" >0</td>\n",
       "      <td id=\"T_6bf53_row8_col4\" class=\"data row8 col4\" >46.000000</td>\n",
       "    </tr>\n",
       "    <tr>\n",
       "      <th id=\"T_6bf53_level0_row9\" class=\"row_heading level0 row9\" >9</th>\n",
       "      <td id=\"T_6bf53_row9_col0\" class=\"data row9 col0\" >wawacan-nabi-yusuf.txt</td>\n",
       "      <td id=\"T_6bf53_row9_col1\" class=\"data row9 col1\" >164</td>\n",
       "      <td id=\"T_6bf53_row9_col2\" class=\"data row9 col2\" >3820</td>\n",
       "      <td id=\"T_6bf53_row9_col3\" class=\"data row9 col3\" >0</td>\n",
       "      <td id=\"T_6bf53_row9_col4\" class=\"data row9 col4\" >23.292683</td>\n",
       "    </tr>\n",
       "    <tr>\n",
       "      <th id=\"T_6bf53_level0_row10\" class=\"row_heading level0 row10\" >10</th>\n",
       "      <td id=\"T_6bf53_row10_col0\" class=\"data row10 col0\" >wawacan-sanghyang-jagatrasa.txt</td>\n",
       "      <td id=\"T_6bf53_row10_col1\" class=\"data row10 col1\" >95</td>\n",
       "      <td id=\"T_6bf53_row10_col2\" class=\"data row10 col2\" >2886</td>\n",
       "      <td id=\"T_6bf53_row10_col3\" class=\"data row10 col3\" >4</td>\n",
       "      <td id=\"T_6bf53_row10_col4\" class=\"data row10 col4\" >30.378947</td>\n",
       "    </tr>\n",
       "    <tr>\n",
       "      <th id=\"T_6bf53_level0_row11\" class=\"row_heading level0 row11\" >11</th>\n",
       "      <td id=\"T_6bf53_row11_col0\" class=\"data row11 col0\" >wawacan-walang-sungsang.txt</td>\n",
       "      <td id=\"T_6bf53_row11_col1\" class=\"data row11 col1\" >179</td>\n",
       "      <td id=\"T_6bf53_row11_col2\" class=\"data row11 col2\" >4650</td>\n",
       "      <td id=\"T_6bf53_row11_col3\" class=\"data row11 col3\" >2</td>\n",
       "      <td id=\"T_6bf53_row11_col4\" class=\"data row11 col4\" >25.977654</td>\n",
       "    </tr>\n",
       "    <tr>\n",
       "      <th id=\"T_6bf53_level0_row12\" class=\"row_heading level0 row12\" >12</th>\n",
       "      <td id=\"T_6bf53_row12_col0\" class=\"data row12 col0\" >guguritan-di-mekah-tepung-silaturahmi.txt</td>\n",
       "      <td id=\"T_6bf53_row12_col1\" class=\"data row12 col1\" >6</td>\n",
       "      <td id=\"T_6bf53_row12_col2\" class=\"data row12 col2\" >134</td>\n",
       "      <td id=\"T_6bf53_row12_col3\" class=\"data row12 col3\" >0</td>\n",
       "      <td id=\"T_6bf53_row12_col4\" class=\"data row12 col4\" >22.333333</td>\n",
       "    </tr>\n",
       "    <tr>\n",
       "      <th id=\"T_6bf53_level0_row13\" class=\"row_heading level0 row13\" >13</th>\n",
       "      <td id=\"T_6bf53_row13_col0\" class=\"data row13 col0\" >guguritan-wulang-murid.txt</td>\n",
       "      <td id=\"T_6bf53_row13_col1\" class=\"data row13 col1\" >1</td>\n",
       "      <td id=\"T_6bf53_row13_col2\" class=\"data row13 col2\" >581</td>\n",
       "      <td id=\"T_6bf53_row13_col3\" class=\"data row13 col3\" >0</td>\n",
       "      <td id=\"T_6bf53_row13_col4\" class=\"data row13 col4\" >581.000000</td>\n",
       "    </tr>\n",
       "    <tr>\n",
       "      <th id=\"T_6bf53_level0_row14\" class=\"row_heading level0 row14\" >14</th>\n",
       "      <td id=\"T_6bf53_row14_col0\" class=\"data row14 col0\" >guguritan-antara-safa-jeung-marwah.txt</td>\n",
       "      <td id=\"T_6bf53_row14_col1\" class=\"data row14 col1\" >1</td>\n",
       "      <td id=\"T_6bf53_row14_col2\" class=\"data row14 col2\" >199</td>\n",
       "      <td id=\"T_6bf53_row14_col3\" class=\"data row14 col3\" >0</td>\n",
       "      <td id=\"T_6bf53_row14_col4\" class=\"data row14 col4\" >199.000000</td>\n",
       "    </tr>\n",
       "    <tr>\n",
       "      <th id=\"T_6bf53_level0_row15\" class=\"row_heading level0 row15\" >15</th>\n",
       "      <td id=\"T_6bf53_row15_col0\" class=\"data row15 col0\" >guguritan-wulang-krama.txt</td>\n",
       "      <td id=\"T_6bf53_row15_col1\" class=\"data row15 col1\" >12</td>\n",
       "      <td id=\"T_6bf53_row15_col2\" class=\"data row15 col2\" >285</td>\n",
       "      <td id=\"T_6bf53_row15_col3\" class=\"data row15 col3\" >0</td>\n",
       "      <td id=\"T_6bf53_row15_col4\" class=\"data row15 col4\" >23.750000</td>\n",
       "    </tr>\n",
       "    <tr>\n",
       "      <th id=\"T_6bf53_level0_row16\" class=\"row_heading level0 row16\" >16</th>\n",
       "      <td id=\"T_6bf53_row16_col0\" class=\"data row16 col0\" >guguritan-wulang-guru.txt</td>\n",
       "      <td id=\"T_6bf53_row16_col1\" class=\"data row16 col1\" >10</td>\n",
       "      <td id=\"T_6bf53_row16_col2\" class=\"data row16 col2\" >236</td>\n",
       "      <td id=\"T_6bf53_row16_col3\" class=\"data row16 col3\" >0</td>\n",
       "      <td id=\"T_6bf53_row16_col4\" class=\"data row16 col4\" >23.600000</td>\n",
       "    </tr>\n",
       "    <tr>\n",
       "      <th id=\"T_6bf53_level0_row17\" class=\"row_heading level0 row17\" >17</th>\n",
       "      <td id=\"T_6bf53_row17_col0\" class=\"data row17 col0\" >sisindiran-bratakoesoemah.txt</td>\n",
       "      <td id=\"T_6bf53_row17_col1\" class=\"data row17 col1\" >10</td>\n",
       "      <td id=\"T_6bf53_row17_col2\" class=\"data row17 col2\" >163</td>\n",
       "      <td id=\"T_6bf53_row17_col3\" class=\"data row17 col3\" >0</td>\n",
       "      <td id=\"T_6bf53_row17_col4\" class=\"data row17 col4\" >16.300000</td>\n",
       "    </tr>\n",
       "    <tr>\n",
       "      <th id=\"T_6bf53_level0_row18\" class=\"row_heading level0 row18\" >18</th>\n",
       "      <td id=\"T_6bf53_row18_col0\" class=\"data row18 col0\" >sisindiran-baduy-jero.txt</td>\n",
       "      <td id=\"T_6bf53_row18_col1\" class=\"data row18 col1\" >4</td>\n",
       "      <td id=\"T_6bf53_row18_col2\" class=\"data row18 col2\" >81</td>\n",
       "      <td id=\"T_6bf53_row18_col3\" class=\"data row18 col3\" >0</td>\n",
       "      <td id=\"T_6bf53_row18_col4\" class=\"data row18 col4\" >20.250000</td>\n",
       "    </tr>\n",
       "    <tr>\n",
       "      <th id=\"T_6bf53_level0_row19\" class=\"row_heading level0 row19\" >19</th>\n",
       "      <td id=\"T_6bf53_row19_col0\" class=\"data row19 col0\" >pupujian-kaum-muslimin.txt</td>\n",
       "      <td id=\"T_6bf53_row19_col1\" class=\"data row19 col1\" >1</td>\n",
       "      <td id=\"T_6bf53_row19_col2\" class=\"data row19 col2\" >86</td>\n",
       "      <td id=\"T_6bf53_row19_col3\" class=\"data row19 col3\" >0</td>\n",
       "      <td id=\"T_6bf53_row19_col4\" class=\"data row19 col4\" >86.000000</td>\n",
       "    </tr>\n",
       "    <tr>\n",
       "      <th id=\"T_6bf53_level0_row20\" class=\"row_heading level0 row20\" >20</th>\n",
       "      <td id=\"T_6bf53_row20_col0\" class=\"data row20 col0\" >pupujian-babawaan-ka-jero-kubur.txt</td>\n",
       "      <td id=\"T_6bf53_row20_col1\" class=\"data row20 col1\" >1</td>\n",
       "      <td id=\"T_6bf53_row20_col2\" class=\"data row20 col2\" >40</td>\n",
       "      <td id=\"T_6bf53_row20_col3\" class=\"data row20 col3\" >0</td>\n",
       "      <td id=\"T_6bf53_row20_col4\" class=\"data row20 col4\" >40.000000</td>\n",
       "    </tr>\n",
       "    <tr>\n",
       "      <th id=\"T_6bf53_level0_row21\" class=\"row_heading level0 row21\" >21</th>\n",
       "      <td id=\"T_6bf53_row21_col0\" class=\"data row21 col0\" >pupujian-tobat-ka-gusti.txt</td>\n",
       "      <td id=\"T_6bf53_row21_col1\" class=\"data row21 col1\" >1</td>\n",
       "      <td id=\"T_6bf53_row21_col2\" class=\"data row21 col2\" >43</td>\n",
       "      <td id=\"T_6bf53_row21_col3\" class=\"data row21 col3\" >0</td>\n",
       "      <td id=\"T_6bf53_row21_col4\" class=\"data row21 col4\" >43.000000</td>\n",
       "    </tr>\n",
       "    <tr>\n",
       "      <th id=\"T_6bf53_level0_row22\" class=\"row_heading level0 row22\" >22</th>\n",
       "      <td id=\"T_6bf53_row22_col0\" class=\"data row22 col0\" >pupujian-ciri-nu-ngabakti-ka-yangwidi.txt</td>\n",
       "      <td id=\"T_6bf53_row22_col1\" class=\"data row22 col1\" >2</td>\n",
       "      <td id=\"T_6bf53_row22_col2\" class=\"data row22 col2\" >70</td>\n",
       "      <td id=\"T_6bf53_row22_col3\" class=\"data row22 col3\" >0</td>\n",
       "      <td id=\"T_6bf53_row22_col4\" class=\"data row22 col4\" >35.000000</td>\n",
       "    </tr>\n",
       "    <tr>\n",
       "      <th id=\"T_6bf53_level0_row23\" class=\"row_heading level0 row23\" >23</th>\n",
       "      <td id=\"T_6bf53_row23_col0\" class=\"data row23 col0\" >pupujian-sarat-wajib-saum.txt</td>\n",
       "      <td id=\"T_6bf53_row23_col1\" class=\"data row23 col1\" >1</td>\n",
       "      <td id=\"T_6bf53_row23_col2\" class=\"data row23 col2\" >30</td>\n",
       "      <td id=\"T_6bf53_row23_col3\" class=\"data row23 col3\" >0</td>\n",
       "      <td id=\"T_6bf53_row23_col4\" class=\"data row23 col4\" >30.000000</td>\n",
       "    </tr>\n",
       "    <tr>\n",
       "      <th id=\"T_6bf53_level0_row24\" class=\"row_heading level0 row24\" >24</th>\n",
       "      <td id=\"T_6bf53_row24_col0\" class=\"data row24 col0\" >pupujian-kangjeng-nabi.txt</td>\n",
       "      <td id=\"T_6bf53_row24_col1\" class=\"data row24 col1\" >1</td>\n",
       "      <td id=\"T_6bf53_row24_col2\" class=\"data row24 col2\" >230</td>\n",
       "      <td id=\"T_6bf53_row24_col3\" class=\"data row24 col3\" >0</td>\n",
       "      <td id=\"T_6bf53_row24_col4\" class=\"data row24 col4\" >230.000000</td>\n",
       "    </tr>\n",
       "    <tr>\n",
       "      <th id=\"T_6bf53_level0_row25\" class=\"row_heading level0 row25\" >25</th>\n",
       "      <td id=\"T_6bf53_row25_col0\" class=\"data row25 col0\" >pupujian-eling-eling-dulur-kabeh.txt</td>\n",
       "      <td id=\"T_6bf53_row25_col1\" class=\"data row25 col1\" >1</td>\n",
       "      <td id=\"T_6bf53_row25_col2\" class=\"data row25 col2\" >54</td>\n",
       "      <td id=\"T_6bf53_row25_col3\" class=\"data row25 col3\" >0</td>\n",
       "      <td id=\"T_6bf53_row25_col4\" class=\"data row25 col4\" >54.000000</td>\n",
       "    </tr>\n",
       "    <tr>\n",
       "      <th id=\"T_6bf53_level0_row26\" class=\"row_heading level0 row26\" >26</th>\n",
       "      <td id=\"T_6bf53_row26_col0\" class=\"data row26 col0\" >pupujian-kautamaan-solat.txt</td>\n",
       "      <td id=\"T_6bf53_row26_col1\" class=\"data row26 col1\" >1</td>\n",
       "      <td id=\"T_6bf53_row26_col2\" class=\"data row26 col2\" >44</td>\n",
       "      <td id=\"T_6bf53_row26_col3\" class=\"data row26 col3\" >0</td>\n",
       "      <td id=\"T_6bf53_row26_col4\" class=\"data row26 col4\" >44.000000</td>\n",
       "    </tr>\n",
       "    <tr>\n",
       "      <th id=\"T_6bf53_level0_row27\" class=\"row_heading level0 row27\" >27</th>\n",
       "      <td id=\"T_6bf53_row27_col0\" class=\"data row27 col0\" >pupujian-anak-adam.txt</td>\n",
       "      <td id=\"T_6bf53_row27_col1\" class=\"data row27 col1\" >1</td>\n",
       "      <td id=\"T_6bf53_row27_col2\" class=\"data row27 col2\" >94</td>\n",
       "      <td id=\"T_6bf53_row27_col3\" class=\"data row27 col3\" >0</td>\n",
       "      <td id=\"T_6bf53_row27_col4\" class=\"data row27 col4\" >94.000000</td>\n",
       "    </tr>\n",
       "    <tr>\n",
       "      <th id=\"T_6bf53_level0_row28\" class=\"row_heading level0 row28\" >28</th>\n",
       "      <td id=\"T_6bf53_row28_col0\" class=\"data row28 col0\" >pupujian-he-djat-nu-kuat.txt</td>\n",
       "      <td id=\"T_6bf53_row28_col1\" class=\"data row28 col1\" >1</td>\n",
       "      <td id=\"T_6bf53_row28_col2\" class=\"data row28 col2\" >65</td>\n",
       "      <td id=\"T_6bf53_row28_col3\" class=\"data row28 col3\" >0</td>\n",
       "      <td id=\"T_6bf53_row28_col4\" class=\"data row28 col4\" >65.000000</td>\n",
       "    </tr>\n",
       "    <tr>\n",
       "      <th id=\"T_6bf53_level0_row29\" class=\"row_heading level0 row29\" >29</th>\n",
       "      <td id=\"T_6bf53_row29_col0\" class=\"data row29 col0\" >pupujian-pepeling.txt</td>\n",
       "      <td id=\"T_6bf53_row29_col1\" class=\"data row29 col1\" >1</td>\n",
       "      <td id=\"T_6bf53_row29_col2\" class=\"data row29 col2\" >39</td>\n",
       "      <td id=\"T_6bf53_row29_col3\" class=\"data row29 col3\" >0</td>\n",
       "      <td id=\"T_6bf53_row29_col4\" class=\"data row29 col4\" >39.000000</td>\n",
       "    </tr>\n",
       "    <tr>\n",
       "      <th id=\"T_6bf53_level0_row30\" class=\"row_heading level0 row30\" >30</th>\n",
       "      <td id=\"T_6bf53_row30_col0\" class=\"data row30 col0\" >pupujian-poe-kiamah.txt</td>\n",
       "      <td id=\"T_6bf53_row30_col1\" class=\"data row30 col1\" >1</td>\n",
       "      <td id=\"T_6bf53_row30_col2\" class=\"data row30 col2\" >46</td>\n",
       "      <td id=\"T_6bf53_row30_col3\" class=\"data row30 col3\" >0</td>\n",
       "      <td id=\"T_6bf53_row30_col4\" class=\"data row30 col4\" >46.000000</td>\n",
       "    </tr>\n",
       "    <tr>\n",
       "      <th id=\"T_6bf53_level0_row31\" class=\"row_heading level0 row31\" >31</th>\n",
       "      <td id=\"T_6bf53_row31_col0\" class=\"data row31 col0\" >tauhid.txt</td>\n",
       "      <td id=\"T_6bf53_row31_col1\" class=\"data row31 col1\" >1</td>\n",
       "      <td id=\"T_6bf53_row31_col2\" class=\"data row31 col2\" >67</td>\n",
       "      <td id=\"T_6bf53_row31_col3\" class=\"data row31 col3\" >0</td>\n",
       "      <td id=\"T_6bf53_row31_col4\" class=\"data row31 col4\" >67.000000</td>\n",
       "    </tr>\n",
       "    <tr>\n",
       "      <th id=\"T_6bf53_level0_row32\" class=\"row_heading level0 row32\" >32</th>\n",
       "      <td id=\"T_6bf53_row32_col0\" class=\"data row32 col0\" >pupujian-duh-pangeran.txt</td>\n",
       "      <td id=\"T_6bf53_row32_col1\" class=\"data row32 col1\" >1</td>\n",
       "      <td id=\"T_6bf53_row32_col2\" class=\"data row32 col2\" >203</td>\n",
       "      <td id=\"T_6bf53_row32_col3\" class=\"data row32 col3\" >0</td>\n",
       "      <td id=\"T_6bf53_row32_col4\" class=\"data row32 col4\" >203.000000</td>\n",
       "    </tr>\n",
       "    <tr>\n",
       "      <th id=\"T_6bf53_level0_row33\" class=\"row_heading level0 row33\" >33</th>\n",
       "      <td id=\"T_6bf53_row33_col0\" class=\"data row33 col0\" >pupujian-ki-mayit.txt</td>\n",
       "      <td id=\"T_6bf53_row33_col1\" class=\"data row33 col1\" >1</td>\n",
       "      <td id=\"T_6bf53_row33_col2\" class=\"data row33 col2\" >170</td>\n",
       "      <td id=\"T_6bf53_row33_col3\" class=\"data row33 col3\" >0</td>\n",
       "      <td id=\"T_6bf53_row33_col4\" class=\"data row33 col4\" >170.000000</td>\n",
       "    </tr>\n",
       "    <tr>\n",
       "      <th id=\"T_6bf53_level0_row34\" class=\"row_heading level0 row34\" >34</th>\n",
       "      <td id=\"T_6bf53_row34_col0\" class=\"data row34 col0\" >pupujian-tauhid.txt</td>\n",
       "      <td id=\"T_6bf53_row34_col1\" class=\"data row34 col1\" >1</td>\n",
       "      <td id=\"T_6bf53_row34_col2\" class=\"data row34 col2\" >90</td>\n",
       "      <td id=\"T_6bf53_row34_col3\" class=\"data row34 col3\" >0</td>\n",
       "      <td id=\"T_6bf53_row34_col4\" class=\"data row34 col4\" >90.000000</td>\n",
       "    </tr>\n",
       "    <tr>\n",
       "      <th id=\"T_6bf53_level0_row35\" class=\"row_heading level0 row35\" >35</th>\n",
       "      <td id=\"T_6bf53_row35_col0\" class=\"data row35 col0\" >pupujian-loba-eling.txt</td>\n",
       "      <td id=\"T_6bf53_row35_col1\" class=\"data row35 col1\" >1</td>\n",
       "      <td id=\"T_6bf53_row35_col2\" class=\"data row35 col2\" >102</td>\n",
       "      <td id=\"T_6bf53_row35_col3\" class=\"data row35 col3\" >0</td>\n",
       "      <td id=\"T_6bf53_row35_col4\" class=\"data row35 col4\" >102.000000</td>\n",
       "    </tr>\n",
       "    <tr>\n",
       "      <th id=\"T_6bf53_level0_row36\" class=\"row_heading level0 row36\" >36</th>\n",
       "      <td id=\"T_6bf53_row36_col0\" class=\"data row36 col0\" >pupujian-hayu-batur.txt</td>\n",
       "      <td id=\"T_6bf53_row36_col1\" class=\"data row36 col1\" >1</td>\n",
       "      <td id=\"T_6bf53_row36_col2\" class=\"data row36 col2\" >102</td>\n",
       "      <td id=\"T_6bf53_row36_col3\" class=\"data row36 col3\" >0</td>\n",
       "      <td id=\"T_6bf53_row36_col4\" class=\"data row36 col4\" >102.000000</td>\n",
       "    </tr>\n",
       "    <tr>\n",
       "      <th id=\"T_6bf53_level0_row37\" class=\"row_heading level0 row37\" >37</th>\n",
       "      <td id=\"T_6bf53_row37_col0\" class=\"data row37 col0\" >pupujian-hayu-geura-saradia.txt</td>\n",
       "      <td id=\"T_6bf53_row37_col1\" class=\"data row37 col1\" >1</td>\n",
       "      <td id=\"T_6bf53_row37_col2\" class=\"data row37 col2\" >464</td>\n",
       "      <td id=\"T_6bf53_row37_col3\" class=\"data row37 col3\" >0</td>\n",
       "      <td id=\"T_6bf53_row37_col4\" class=\"data row37 col4\" >464.000000</td>\n",
       "    </tr>\n",
       "    <tr>\n",
       "      <th id=\"T_6bf53_level0_row38\" class=\"row_heading level0 row38\" >38</th>\n",
       "      <td id=\"T_6bf53_row38_col0\" class=\"data row38 col0\" >novel-baruang-kanu-ngarora.txt</td>\n",
       "      <td id=\"T_6bf53_row38_col1\" class=\"data row38 col1\" >34</td>\n",
       "      <td id=\"T_6bf53_row38_col2\" class=\"data row38 col2\" >454</td>\n",
       "      <td id=\"T_6bf53_row38_col3\" class=\"data row38 col3\" >0</td>\n",
       "      <td id=\"T_6bf53_row38_col4\" class=\"data row38 col4\" >13.352941</td>\n",
       "    </tr>\n",
       "    <tr>\n",
       "      <th id=\"T_6bf53_level0_row39\" class=\"row_heading level0 row39\" >39</th>\n",
       "      <td id=\"T_6bf53_row39_col0\" class=\"data row39 col0\" >sajak-manusa-sunda-neangan-jalan.txt</td>\n",
       "      <td id=\"T_6bf53_row39_col1\" class=\"data row39 col1\" >1</td>\n",
       "      <td id=\"T_6bf53_row39_col2\" class=\"data row39 col2\" >111</td>\n",
       "      <td id=\"T_6bf53_row39_col3\" class=\"data row39 col3\" >6</td>\n",
       "      <td id=\"T_6bf53_row39_col4\" class=\"data row39 col4\" >111.000000</td>\n",
       "    </tr>\n",
       "    <tr>\n",
       "      <th id=\"T_6bf53_level0_row40\" class=\"row_heading level0 row40\" >40</th>\n",
       "      <td id=\"T_6bf53_row40_col0\" class=\"data row40 col0\" >sajak-dosa.txt</td>\n",
       "      <td id=\"T_6bf53_row40_col1\" class=\"data row40 col1\" >1</td>\n",
       "      <td id=\"T_6bf53_row40_col2\" class=\"data row40 col2\" >62</td>\n",
       "      <td id=\"T_6bf53_row40_col3\" class=\"data row40 col3\" >0</td>\n",
       "      <td id=\"T_6bf53_row40_col4\" class=\"data row40 col4\" >62.000000</td>\n",
       "    </tr>\n",
       "    <tr>\n",
       "      <th id=\"T_6bf53_level0_row41\" class=\"row_heading level0 row41\" >41</th>\n",
       "      <td id=\"T_6bf53_row41_col0\" class=\"data row41 col0\" >sajak-gupay-lembur.txt</td>\n",
       "      <td id=\"T_6bf53_row41_col1\" class=\"data row41 col1\" >1</td>\n",
       "      <td id=\"T_6bf53_row41_col2\" class=\"data row41 col2\" >121</td>\n",
       "      <td id=\"T_6bf53_row41_col3\" class=\"data row41 col3\" >0</td>\n",
       "      <td id=\"T_6bf53_row41_col4\" class=\"data row41 col4\" >121.000000</td>\n",
       "    </tr>\n",
       "    <tr>\n",
       "      <th id=\"T_6bf53_level0_row42\" class=\"row_heading level0 row42\" >42</th>\n",
       "      <td id=\"T_6bf53_row42_col0\" class=\"data row42 col0\" >sajak-kamerdikaan.txt</td>\n",
       "      <td id=\"T_6bf53_row42_col1\" class=\"data row42 col1\" >1</td>\n",
       "      <td id=\"T_6bf53_row42_col2\" class=\"data row42 col2\" >47</td>\n",
       "      <td id=\"T_6bf53_row42_col3\" class=\"data row42 col3\" >0</td>\n",
       "      <td id=\"T_6bf53_row42_col4\" class=\"data row42 col4\" >47.000000</td>\n",
       "    </tr>\n",
       "    <tr>\n",
       "      <th id=\"T_6bf53_level0_row43\" class=\"row_heading level0 row43\" >43</th>\n",
       "      <td id=\"T_6bf53_row43_col0\" class=\"data row43 col0\" >sajak-hujan-poyan.txt</td>\n",
       "      <td id=\"T_6bf53_row43_col1\" class=\"data row43 col1\" >1</td>\n",
       "      <td id=\"T_6bf53_row43_col2\" class=\"data row43 col2\" >23</td>\n",
       "      <td id=\"T_6bf53_row43_col3\" class=\"data row43 col3\" >0</td>\n",
       "      <td id=\"T_6bf53_row43_col4\" class=\"data row43 col4\" >23.000000</td>\n",
       "    </tr>\n",
       "    <tr>\n",
       "      <th id=\"T_6bf53_level0_row44\" class=\"row_heading level0 row44\" >44</th>\n",
       "      <td id=\"T_6bf53_row44_col0\" class=\"data row44 col0\" >sajak-meri.txt</td>\n",
       "      <td id=\"T_6bf53_row44_col1\" class=\"data row44 col1\" >2</td>\n",
       "      <td id=\"T_6bf53_row44_col2\" class=\"data row44 col2\" >66</td>\n",
       "      <td id=\"T_6bf53_row44_col3\" class=\"data row44 col3\" >0</td>\n",
       "      <td id=\"T_6bf53_row44_col4\" class=\"data row44 col4\" >33.000000</td>\n",
       "    </tr>\n",
       "    <tr>\n",
       "      <th id=\"T_6bf53_level0_row45\" class=\"row_heading level0 row45\" >45</th>\n",
       "      <td id=\"T_6bf53_row45_col0\" class=\"data row45 col0\" >sajak-pesta-demokrasi.txt</td>\n",
       "      <td id=\"T_6bf53_row45_col1\" class=\"data row45 col1\" >10</td>\n",
       "      <td id=\"T_6bf53_row45_col2\" class=\"data row45 col2\" >334</td>\n",
       "      <td id=\"T_6bf53_row45_col3\" class=\"data row45 col3\" >1</td>\n",
       "      <td id=\"T_6bf53_row45_col4\" class=\"data row45 col4\" >33.400000</td>\n",
       "    </tr>\n",
       "    <tr>\n",
       "      <th id=\"T_6bf53_level0_row46\" class=\"row_heading level0 row46\" >46</th>\n",
       "      <td id=\"T_6bf53_row46_col0\" class=\"data row46 col0\" >babasan-paribasa.txt</td>\n",
       "      <td id=\"T_6bf53_row46_col1\" class=\"data row46 col1\" >958</td>\n",
       "      <td id=\"T_6bf53_row46_col2\" class=\"data row46 col2\" >19286</td>\n",
       "      <td id=\"T_6bf53_row46_col3\" class=\"data row46 col3\" >1808</td>\n",
       "      <td id=\"T_6bf53_row46_col4\" class=\"data row46 col4\" >10.092098</td>\n",
       "    </tr>\n",
       "    <tr>\n",
       "      <th id=\"T_6bf53_level0_row47\" class=\"row_heading level0 row47\" >47</th>\n",
       "      <td id=\"T_6bf53_row47_col0\" class=\"data row47 col0\" >mantra-ajian-kabedasan.txt</td>\n",
       "      <td id=\"T_6bf53_row47_col1\" class=\"data row47 col1\" >6</td>\n",
       "      <td id=\"T_6bf53_row47_col2\" class=\"data row47 col2\" >38</td>\n",
       "      <td id=\"T_6bf53_row47_col3\" class=\"data row47 col3\" >0</td>\n",
       "      <td id=\"T_6bf53_row47_col4\" class=\"data row47 col4\" >5.428571</td>\n",
       "    </tr>\n",
       "    <tr>\n",
       "      <th id=\"T_6bf53_level0_row48\" class=\"row_heading level0 row48\" >48</th>\n",
       "      <td id=\"T_6bf53_row48_col0\" class=\"data row48 col0\" >mantra-jampe-nganjang.txt</td>\n",
       "      <td id=\"T_6bf53_row48_col1\" class=\"data row48 col1\" >22</td>\n",
       "      <td id=\"T_6bf53_row48_col2\" class=\"data row48 col2\" >168</td>\n",
       "      <td id=\"T_6bf53_row48_col3\" class=\"data row48 col3\" >0</td>\n",
       "      <td id=\"T_6bf53_row48_col4\" class=\"data row48 col4\" >7.304348</td>\n",
       "    </tr>\n",
       "    <tr>\n",
       "      <th id=\"T_6bf53_level0_row49\" class=\"row_heading level0 row49\" >49</th>\n",
       "      <td id=\"T_6bf53_row49_col0\" class=\"data row49 col0\" >mantra-jangjawokan-paranti-dipupur.txt</td>\n",
       "      <td id=\"T_6bf53_row49_col1\" class=\"data row49 col1\" >12</td>\n",
       "      <td id=\"T_6bf53_row49_col2\" class=\"data row49 col2\" >94</td>\n",
       "      <td id=\"T_6bf53_row49_col3\" class=\"data row49 col3\" >0</td>\n",
       "      <td id=\"T_6bf53_row49_col4\" class=\"data row49 col4\" >7.230769</td>\n",
       "    </tr>\n",
       "    <tr>\n",
       "      <th id=\"T_6bf53_level0_row50\" class=\"row_heading level0 row50\" >50</th>\n",
       "      <td id=\"T_6bf53_row50_col0\" class=\"data row50 col0\" >mantra-rajah-citra-kasunyian.txt</td>\n",
       "      <td id=\"T_6bf53_row50_col1\" class=\"data row50 col1\" >10</td>\n",
       "      <td id=\"T_6bf53_row50_col2\" class=\"data row50 col2\" >54</td>\n",
       "      <td id=\"T_6bf53_row50_col3\" class=\"data row50 col3\" >0</td>\n",
       "      <td id=\"T_6bf53_row50_col4\" class=\"data row50 col4\" >4.909091</td>\n",
       "    </tr>\n",
       "    <tr>\n",
       "      <th id=\"T_6bf53_level0_row51\" class=\"row_heading level0 row51\" >51</th>\n",
       "      <td id=\"T_6bf53_row51_col0\" class=\"data row51 col0\" >mantra-singlar-ka-musuh.txt</td>\n",
       "      <td id=\"T_6bf53_row51_col1\" class=\"data row51 col1\" >6</td>\n",
       "      <td id=\"T_6bf53_row51_col2\" class=\"data row51 col2\" >52</td>\n",
       "      <td id=\"T_6bf53_row51_col3\" class=\"data row51 col3\" >0</td>\n",
       "      <td id=\"T_6bf53_row51_col4\" class=\"data row51 col4\" >7.428571</td>\n",
       "    </tr>\n",
       "    <tr>\n",
       "      <th id=\"T_6bf53_level0_row52\" class=\"row_heading level0 row52\" >52</th>\n",
       "      <td id=\"T_6bf53_row52_col0\" class=\"data row52 col0\" >mantra-mantra-asihan-si-burung-pundung.txt</td>\n",
       "      <td id=\"T_6bf53_row52_col1\" class=\"data row52 col1\" >6</td>\n",
       "      <td id=\"T_6bf53_row52_col2\" class=\"data row52 col2\" >58</td>\n",
       "      <td id=\"T_6bf53_row52_col3\" class=\"data row52 col3\" >0</td>\n",
       "      <td id=\"T_6bf53_row52_col4\" class=\"data row52 col4\" >8.285714</td>\n",
       "    </tr>\n",
       "    <tr>\n",
       "      <th id=\"T_6bf53_level0_row53\" class=\"row_heading level0 row53\" >53</th>\n",
       "      <td id=\"T_6bf53_row53_col0\" class=\"data row53 col0\" >mantra-jampe-dicoco-kala.txt</td>\n",
       "      <td id=\"T_6bf53_row53_col1\" class=\"data row53 col1\" >8</td>\n",
       "      <td id=\"T_6bf53_row53_col2\" class=\"data row53 col2\" >62</td>\n",
       "      <td id=\"T_6bf53_row53_col3\" class=\"data row53 col3\" >0</td>\n",
       "      <td id=\"T_6bf53_row53_col4\" class=\"data row53 col4\" >6.888889</td>\n",
       "    </tr>\n",
       "    <tr>\n",
       "      <th id=\"T_6bf53_level0_row54\" class=\"row_heading level0 row54\" >54</th>\n",
       "      <td id=\"T_6bf53_row54_col0\" class=\"data row54 col0\" >mantra-jampe-nyimpen-beas.txt</td>\n",
       "      <td id=\"T_6bf53_row54_col1\" class=\"data row54 col1\" >21</td>\n",
       "      <td id=\"T_6bf53_row54_col2\" class=\"data row54 col2\" >184</td>\n",
       "      <td id=\"T_6bf53_row54_col3\" class=\"data row54 col3\" >0</td>\n",
       "      <td id=\"T_6bf53_row54_col4\" class=\"data row54 col4\" >8.000000</td>\n",
       "    </tr>\n",
       "    <tr>\n",
       "      <th id=\"T_6bf53_level0_row55\" class=\"row_heading level0 row55\" >55</th>\n",
       "      <td id=\"T_6bf53_row55_col0\" class=\"data row55 col0\" >wawacan-nabi-yusuf.txt</td>\n",
       "      <td id=\"T_6bf53_row55_col1\" class=\"data row55 col1\" >174</td>\n",
       "      <td id=\"T_6bf53_row55_col2\" class=\"data row55 col2\" >7640</td>\n",
       "      <td id=\"T_6bf53_row55_col3\" class=\"data row55 col3\" >0</td>\n",
       "      <td id=\"T_6bf53_row55_col4\" class=\"data row55 col4\" >22.603550</td>\n",
       "    </tr>\n",
       "    <tr>\n",
       "      <th id=\"T_6bf53_level0_row56\" class=\"row_heading level0 row56\" >56</th>\n",
       "      <td id=\"T_6bf53_row56_col0\" class=\"data row56 col0\" >wawacan-sanghyang-jagatrasa.txt</td>\n",
       "      <td id=\"T_6bf53_row56_col1\" class=\"data row56 col1\" >99</td>\n",
       "      <td id=\"T_6bf53_row56_col2\" class=\"data row56 col2\" >5772</td>\n",
       "      <td id=\"T_6bf53_row56_col3\" class=\"data row56 col3\" >8</td>\n",
       "      <td id=\"T_6bf53_row56_col4\" class=\"data row56 col4\" >29.752577</td>\n",
       "    </tr>\n",
       "    <tr>\n",
       "      <th id=\"T_6bf53_level0_row57\" class=\"row_heading level0 row57\" >57</th>\n",
       "      <td id=\"T_6bf53_row57_col0\" class=\"data row57 col0\" >wawacan-walang-sungsang.txt</td>\n",
       "      <td id=\"T_6bf53_row57_col1\" class=\"data row57 col1\" >185</td>\n",
       "      <td id=\"T_6bf53_row57_col2\" class=\"data row57 col2\" >9300</td>\n",
       "      <td id=\"T_6bf53_row57_col3\" class=\"data row57 col3\" >4</td>\n",
       "      <td id=\"T_6bf53_row57_col4\" class=\"data row57 col4\" >25.549451</td>\n",
       "    </tr>\n",
       "    <tr>\n",
       "      <th id=\"T_6bf53_level0_row58\" class=\"row_heading level0 row58\" >58</th>\n",
       "      <td id=\"T_6bf53_row58_col0\" class=\"data row58 col0\" >guguritan-di-mekah-tepung-silaturahmi.txt</td>\n",
       "      <td id=\"T_6bf53_row58_col1\" class=\"data row58 col1\" >37</td>\n",
       "      <td id=\"T_6bf53_row58_col2\" class=\"data row58 col2\" >268</td>\n",
       "      <td id=\"T_6bf53_row58_col3\" class=\"data row58 col3\" >0</td>\n",
       "      <td id=\"T_6bf53_row58_col4\" class=\"data row58 col4\" >6.232558</td>\n",
       "    </tr>\n",
       "    <tr>\n",
       "      <th id=\"T_6bf53_level0_row59\" class=\"row_heading level0 row59\" >59</th>\n",
       "      <td id=\"T_6bf53_row59_col0\" class=\"data row59 col0\" >guguritan-wulang-murid.txt</td>\n",
       "      <td id=\"T_6bf53_row59_col1\" class=\"data row59 col1\" >155</td>\n",
       "      <td id=\"T_6bf53_row59_col2\" class=\"data row59 col2\" >1162</td>\n",
       "      <td id=\"T_6bf53_row59_col3\" class=\"data row59 col3\" >0</td>\n",
       "      <td id=\"T_6bf53_row59_col4\" class=\"data row59 col4\" >7.448718</td>\n",
       "    </tr>\n",
       "    <tr>\n",
       "      <th id=\"T_6bf53_level0_row60\" class=\"row_heading level0 row60\" >60</th>\n",
       "      <td id=\"T_6bf53_row60_col0\" class=\"data row60 col0\" >guguritan-antara-safa-jeung-marwah.txt</td>\n",
       "      <td id=\"T_6bf53_row60_col1\" class=\"data row60 col1\" >56</td>\n",
       "      <td id=\"T_6bf53_row60_col2\" class=\"data row60 col2\" >398</td>\n",
       "      <td id=\"T_6bf53_row60_col3\" class=\"data row60 col3\" >0</td>\n",
       "      <td id=\"T_6bf53_row60_col4\" class=\"data row60 col4\" >6.982456</td>\n",
       "    </tr>\n",
       "    <tr>\n",
       "      <th id=\"T_6bf53_level0_row61\" class=\"row_heading level0 row61\" >61</th>\n",
       "      <td id=\"T_6bf53_row61_col0\" class=\"data row61 col0\" >guguritan-wulang-krama.txt</td>\n",
       "      <td id=\"T_6bf53_row61_col1\" class=\"data row61 col1\" >84</td>\n",
       "      <td id=\"T_6bf53_row61_col2\" class=\"data row61 col2\" >570</td>\n",
       "      <td id=\"T_6bf53_row61_col3\" class=\"data row61 col3\" >0</td>\n",
       "      <td id=\"T_6bf53_row61_col4\" class=\"data row61 col4\" >5.937500</td>\n",
       "    </tr>\n",
       "    <tr>\n",
       "      <th id=\"T_6bf53_level0_row62\" class=\"row_heading level0 row62\" >62</th>\n",
       "      <td id=\"T_6bf53_row62_col0\" class=\"data row62 col0\" >guguritan-wulang-guru.txt</td>\n",
       "      <td id=\"T_6bf53_row62_col1\" class=\"data row62 col1\" >71</td>\n",
       "      <td id=\"T_6bf53_row62_col2\" class=\"data row62 col2\" >472</td>\n",
       "      <td id=\"T_6bf53_row62_col3\" class=\"data row62 col3\" >0</td>\n",
       "      <td id=\"T_6bf53_row62_col4\" class=\"data row62 col4\" >5.827160</td>\n",
       "    </tr>\n",
       "    <tr>\n",
       "      <th id=\"T_6bf53_level0_row63\" class=\"row_heading level0 row63\" >63</th>\n",
       "      <td id=\"T_6bf53_row63_col0\" class=\"data row63 col0\" >sisindiran-bratakoesoemah.txt</td>\n",
       "      <td id=\"T_6bf53_row63_col1\" class=\"data row63 col1\" >44</td>\n",
       "      <td id=\"T_6bf53_row63_col2\" class=\"data row63 col2\" >326</td>\n",
       "      <td id=\"T_6bf53_row63_col3\" class=\"data row63 col3\" >0</td>\n",
       "      <td id=\"T_6bf53_row63_col4\" class=\"data row63 col4\" >6.037037</td>\n",
       "    </tr>\n",
       "    <tr>\n",
       "      <th id=\"T_6bf53_level0_row64\" class=\"row_heading level0 row64\" >64</th>\n",
       "      <td id=\"T_6bf53_row64_col0\" class=\"data row64 col0\" >sisindiran-baduy-jero.txt</td>\n",
       "      <td id=\"T_6bf53_row64_col1\" class=\"data row64 col1\" >24</td>\n",
       "      <td id=\"T_6bf53_row64_col2\" class=\"data row64 col2\" >162</td>\n",
       "      <td id=\"T_6bf53_row64_col3\" class=\"data row64 col3\" >0</td>\n",
       "      <td id=\"T_6bf53_row64_col4\" class=\"data row64 col4\" >5.785714</td>\n",
       "    </tr>\n",
       "    <tr>\n",
       "      <th id=\"T_6bf53_level0_row65\" class=\"row_heading level0 row65\" >65</th>\n",
       "      <td id=\"T_6bf53_row65_col0\" class=\"data row65 col0\" >pupujian-kaum-muslimin.txt</td>\n",
       "      <td id=\"T_6bf53_row65_col1\" class=\"data row65 col1\" >25</td>\n",
       "      <td id=\"T_6bf53_row65_col2\" class=\"data row65 col2\" >172</td>\n",
       "      <td id=\"T_6bf53_row65_col3\" class=\"data row65 col3\" >0</td>\n",
       "      <td id=\"T_6bf53_row65_col4\" class=\"data row65 col4\" >6.615385</td>\n",
       "    </tr>\n",
       "    <tr>\n",
       "      <th id=\"T_6bf53_level0_row66\" class=\"row_heading level0 row66\" >66</th>\n",
       "      <td id=\"T_6bf53_row66_col0\" class=\"data row66 col0\" >pupujian-babawaan-ka-jero-kubur.txt</td>\n",
       "      <td id=\"T_6bf53_row66_col1\" class=\"data row66 col1\" >6</td>\n",
       "      <td id=\"T_6bf53_row66_col2\" class=\"data row66 col2\" >80</td>\n",
       "      <td id=\"T_6bf53_row66_col3\" class=\"data row66 col3\" >0</td>\n",
       "      <td id=\"T_6bf53_row66_col4\" class=\"data row66 col4\" >11.428571</td>\n",
       "    </tr>\n",
       "    <tr>\n",
       "      <th id=\"T_6bf53_level0_row67\" class=\"row_heading level0 row67\" >67</th>\n",
       "      <td id=\"T_6bf53_row67_col0\" class=\"data row67 col0\" >pupujian-tobat-ka-gusti.txt</td>\n",
       "      <td id=\"T_6bf53_row67_col1\" class=\"data row67 col1\" >8</td>\n",
       "      <td id=\"T_6bf53_row67_col2\" class=\"data row67 col2\" >86</td>\n",
       "      <td id=\"T_6bf53_row67_col3\" class=\"data row67 col3\" >0</td>\n",
       "      <td id=\"T_6bf53_row67_col4\" class=\"data row67 col4\" >9.555556</td>\n",
       "    </tr>\n",
       "    <tr>\n",
       "      <th id=\"T_6bf53_level0_row68\" class=\"row_heading level0 row68\" >68</th>\n",
       "      <td id=\"T_6bf53_row68_col0\" class=\"data row68 col0\" >pupujian-ciri-nu-ngabakti-ka-yangwidi.txt</td>\n",
       "      <td id=\"T_6bf53_row68_col1\" class=\"data row68 col1\" >10</td>\n",
       "      <td id=\"T_6bf53_row68_col2\" class=\"data row68 col2\" >140</td>\n",
       "      <td id=\"T_6bf53_row68_col3\" class=\"data row68 col3\" >0</td>\n",
       "      <td id=\"T_6bf53_row68_col4\" class=\"data row68 col4\" >11.666667</td>\n",
       "    </tr>\n",
       "    <tr>\n",
       "      <th id=\"T_6bf53_level0_row69\" class=\"row_heading level0 row69\" >69</th>\n",
       "      <td id=\"T_6bf53_row69_col0\" class=\"data row69 col0\" >pupujian-sarat-wajib-saum.txt</td>\n",
       "      <td id=\"T_6bf53_row69_col1\" class=\"data row69 col1\" >8</td>\n",
       "      <td id=\"T_6bf53_row69_col2\" class=\"data row69 col2\" >60</td>\n",
       "      <td id=\"T_6bf53_row69_col3\" class=\"data row69 col3\" >0</td>\n",
       "      <td id=\"T_6bf53_row69_col4\" class=\"data row69 col4\" >6.666667</td>\n",
       "    </tr>\n",
       "    <tr>\n",
       "      <th id=\"T_6bf53_level0_row70\" class=\"row_heading level0 row70\" >70</th>\n",
       "      <td id=\"T_6bf53_row70_col0\" class=\"data row70 col0\" >pupujian-kangjeng-nabi.txt</td>\n",
       "      <td id=\"T_6bf53_row70_col1\" class=\"data row70 col1\" >68</td>\n",
       "      <td id=\"T_6bf53_row70_col2\" class=\"data row70 col2\" >460</td>\n",
       "      <td id=\"T_6bf53_row70_col3\" class=\"data row70 col3\" >0</td>\n",
       "      <td id=\"T_6bf53_row70_col4\" class=\"data row70 col4\" >6.666667</td>\n",
       "    </tr>\n",
       "    <tr>\n",
       "      <th id=\"T_6bf53_level0_row71\" class=\"row_heading level0 row71\" >71</th>\n",
       "      <td id=\"T_6bf53_row71_col0\" class=\"data row71 col0\" >pupujian-eling-eling-dulur-kabeh.txt</td>\n",
       "      <td id=\"T_6bf53_row71_col1\" class=\"data row71 col1\" >16</td>\n",
       "      <td id=\"T_6bf53_row71_col2\" class=\"data row71 col2\" >108</td>\n",
       "      <td id=\"T_6bf53_row71_col3\" class=\"data row71 col3\" >0</td>\n",
       "      <td id=\"T_6bf53_row71_col4\" class=\"data row71 col4\" >6.352941</td>\n",
       "    </tr>\n",
       "    <tr>\n",
       "      <th id=\"T_6bf53_level0_row72\" class=\"row_heading level0 row72\" >72</th>\n",
       "      <td id=\"T_6bf53_row72_col0\" class=\"data row72 col0\" >pupujian-kautamaan-solat.txt</td>\n",
       "      <td id=\"T_6bf53_row72_col1\" class=\"data row72 col1\" >10</td>\n",
       "      <td id=\"T_6bf53_row72_col2\" class=\"data row72 col2\" >88</td>\n",
       "      <td id=\"T_6bf53_row72_col3\" class=\"data row72 col3\" >0</td>\n",
       "      <td id=\"T_6bf53_row72_col4\" class=\"data row72 col4\" >8.000000</td>\n",
       "    </tr>\n",
       "    <tr>\n",
       "      <th id=\"T_6bf53_level0_row73\" class=\"row_heading level0 row73\" >73</th>\n",
       "      <td id=\"T_6bf53_row73_col0\" class=\"data row73 col0\" >pupujian-anak-adam.txt</td>\n",
       "      <td id=\"T_6bf53_row73_col1\" class=\"data row73 col1\" >16</td>\n",
       "      <td id=\"T_6bf53_row73_col2\" class=\"data row73 col2\" >188</td>\n",
       "      <td id=\"T_6bf53_row73_col3\" class=\"data row73 col3\" >0</td>\n",
       "      <td id=\"T_6bf53_row73_col4\" class=\"data row73 col4\" >11.058824</td>\n",
       "    </tr>\n",
       "    <tr>\n",
       "      <th id=\"T_6bf53_level0_row74\" class=\"row_heading level0 row74\" >74</th>\n",
       "      <td id=\"T_6bf53_row74_col0\" class=\"data row74 col0\" >pupujian-he-djat-nu-kuat.txt</td>\n",
       "      <td id=\"T_6bf53_row74_col1\" class=\"data row74 col1\" >16</td>\n",
       "      <td id=\"T_6bf53_row74_col2\" class=\"data row74 col2\" >130</td>\n",
       "      <td id=\"T_6bf53_row74_col3\" class=\"data row74 col3\" >0</td>\n",
       "      <td id=\"T_6bf53_row74_col4\" class=\"data row74 col4\" >7.647059</td>\n",
       "    </tr>\n",
       "    <tr>\n",
       "      <th id=\"T_6bf53_level0_row75\" class=\"row_heading level0 row75\" >75</th>\n",
       "      <td id=\"T_6bf53_row75_col0\" class=\"data row75 col0\" >pupujian-pepeling.txt</td>\n",
       "      <td id=\"T_6bf53_row75_col1\" class=\"data row75 col1\" >12</td>\n",
       "      <td id=\"T_6bf53_row75_col2\" class=\"data row75 col2\" >78</td>\n",
       "      <td id=\"T_6bf53_row75_col3\" class=\"data row75 col3\" >0</td>\n",
       "      <td id=\"T_6bf53_row75_col4\" class=\"data row75 col4\" >6.000000</td>\n",
       "    </tr>\n",
       "    <tr>\n",
       "      <th id=\"T_6bf53_level0_row76\" class=\"row_heading level0 row76\" >76</th>\n",
       "      <td id=\"T_6bf53_row76_col0\" class=\"data row76 col0\" >pupujian-poe-kiamah.txt</td>\n",
       "      <td id=\"T_6bf53_row76_col1\" class=\"data row76 col1\" >12</td>\n",
       "      <td id=\"T_6bf53_row76_col2\" class=\"data row76 col2\" >92</td>\n",
       "      <td id=\"T_6bf53_row76_col3\" class=\"data row76 col3\" >0</td>\n",
       "      <td id=\"T_6bf53_row76_col4\" class=\"data row76 col4\" >7.076923</td>\n",
       "    </tr>\n",
       "    <tr>\n",
       "      <th id=\"T_6bf53_level0_row77\" class=\"row_heading level0 row77\" >77</th>\n",
       "      <td id=\"T_6bf53_row77_col0\" class=\"data row77 col0\" >tauhid.txt</td>\n",
       "      <td id=\"T_6bf53_row77_col1\" class=\"data row77 col1\" >12</td>\n",
       "      <td id=\"T_6bf53_row77_col2\" class=\"data row77 col2\" >134</td>\n",
       "      <td id=\"T_6bf53_row77_col3\" class=\"data row77 col3\" >0</td>\n",
       "      <td id=\"T_6bf53_row77_col4\" class=\"data row77 col4\" >10.307692</td>\n",
       "    </tr>\n",
       "    <tr>\n",
       "      <th id=\"T_6bf53_level0_row78\" class=\"row_heading level0 row78\" >78</th>\n",
       "      <td id=\"T_6bf53_row78_col0\" class=\"data row78 col0\" >pupujian-duh-pangeran.txt</td>\n",
       "      <td id=\"T_6bf53_row78_col1\" class=\"data row78 col1\" >40</td>\n",
       "      <td id=\"T_6bf53_row78_col2\" class=\"data row78 col2\" >406</td>\n",
       "      <td id=\"T_6bf53_row78_col3\" class=\"data row78 col3\" >0</td>\n",
       "      <td id=\"T_6bf53_row78_col4\" class=\"data row78 col4\" >9.902439</td>\n",
       "    </tr>\n",
       "    <tr>\n",
       "      <th id=\"T_6bf53_level0_row79\" class=\"row_heading level0 row79\" >79</th>\n",
       "      <td id=\"T_6bf53_row79_col0\" class=\"data row79 col0\" >pupujian-ki-mayit.txt</td>\n",
       "      <td id=\"T_6bf53_row79_col1\" class=\"data row79 col1\" >31</td>\n",
       "      <td id=\"T_6bf53_row79_col2\" class=\"data row79 col2\" >340</td>\n",
       "      <td id=\"T_6bf53_row79_col3\" class=\"data row79 col3\" >0</td>\n",
       "      <td id=\"T_6bf53_row79_col4\" class=\"data row79 col4\" >10.625000</td>\n",
       "    </tr>\n",
       "    <tr>\n",
       "      <th id=\"T_6bf53_level0_row80\" class=\"row_heading level0 row80\" >80</th>\n",
       "      <td id=\"T_6bf53_row80_col0\" class=\"data row80 col0\" >pupujian-tauhid.txt</td>\n",
       "      <td id=\"T_6bf53_row80_col1\" class=\"data row80 col1\" >24</td>\n",
       "      <td id=\"T_6bf53_row80_col2\" class=\"data row80 col2\" >180</td>\n",
       "      <td id=\"T_6bf53_row80_col3\" class=\"data row80 col3\" >0</td>\n",
       "      <td id=\"T_6bf53_row80_col4\" class=\"data row80 col4\" >7.200000</td>\n",
       "    </tr>\n",
       "    <tr>\n",
       "      <th id=\"T_6bf53_level0_row81\" class=\"row_heading level0 row81\" >81</th>\n",
       "      <td id=\"T_6bf53_row81_col0\" class=\"data row81 col0\" >pupujian-loba-eling.txt</td>\n",
       "      <td id=\"T_6bf53_row81_col1\" class=\"data row81 col1\" >28</td>\n",
       "      <td id=\"T_6bf53_row81_col2\" class=\"data row81 col2\" >204</td>\n",
       "      <td id=\"T_6bf53_row81_col3\" class=\"data row81 col3\" >0</td>\n",
       "      <td id=\"T_6bf53_row81_col4\" class=\"data row81 col4\" >7.034483</td>\n",
       "    </tr>\n",
       "    <tr>\n",
       "      <th id=\"T_6bf53_level0_row82\" class=\"row_heading level0 row82\" >82</th>\n",
       "      <td id=\"T_6bf53_row82_col0\" class=\"data row82 col0\" >pupujian-hayu-batur.txt</td>\n",
       "      <td id=\"T_6bf53_row82_col1\" class=\"data row82 col1\" >19</td>\n",
       "      <td id=\"T_6bf53_row82_col2\" class=\"data row82 col2\" >204</td>\n",
       "      <td id=\"T_6bf53_row82_col3\" class=\"data row82 col3\" >0</td>\n",
       "      <td id=\"T_6bf53_row82_col4\" class=\"data row82 col4\" >10.200000</td>\n",
       "    </tr>\n",
       "    <tr>\n",
       "      <th id=\"T_6bf53_level0_row83\" class=\"row_heading level0 row83\" >83</th>\n",
       "      <td id=\"T_6bf53_row83_col0\" class=\"data row83 col0\" >pupujian-hayu-geura-saradia.txt</td>\n",
       "      <td id=\"T_6bf53_row83_col1\" class=\"data row83 col1\" >124</td>\n",
       "      <td id=\"T_6bf53_row83_col2\" class=\"data row83 col2\" >928</td>\n",
       "      <td id=\"T_6bf53_row83_col3\" class=\"data row83 col3\" >0</td>\n",
       "      <td id=\"T_6bf53_row83_col4\" class=\"data row83 col4\" >7.424000</td>\n",
       "    </tr>\n",
       "    <tr>\n",
       "      <th id=\"T_6bf53_level0_row84\" class=\"row_heading level0 row84\" >84</th>\n",
       "      <td id=\"T_6bf53_row84_col0\" class=\"data row84 col0\" >novel-baruang-kanu-ngarora.txt</td>\n",
       "      <td id=\"T_6bf53_row84_col1\" class=\"data row84 col1\" >34</td>\n",
       "      <td id=\"T_6bf53_row84_col2\" class=\"data row84 col2\" >908</td>\n",
       "      <td id=\"T_6bf53_row84_col3\" class=\"data row84 col3\" >0</td>\n",
       "      <td id=\"T_6bf53_row84_col4\" class=\"data row84 col4\" >13.352941</td>\n",
       "    </tr>\n",
       "    <tr>\n",
       "      <th id=\"T_6bf53_level0_row85\" class=\"row_heading level0 row85\" >85</th>\n",
       "      <td id=\"T_6bf53_row85_col0\" class=\"data row85 col0\" >sajak-manusa-sunda-neangan-jalan.txt</td>\n",
       "      <td id=\"T_6bf53_row85_col1\" class=\"data row85 col1\" >26</td>\n",
       "      <td id=\"T_6bf53_row85_col2\" class=\"data row85 col2\" >222</td>\n",
       "      <td id=\"T_6bf53_row85_col3\" class=\"data row85 col3\" >12</td>\n",
       "      <td id=\"T_6bf53_row85_col4\" class=\"data row85 col4\" >8.222222</td>\n",
       "    </tr>\n",
       "    <tr>\n",
       "      <th id=\"T_6bf53_level0_row86\" class=\"row_heading level0 row86\" >86</th>\n",
       "      <td id=\"T_6bf53_row86_col0\" class=\"data row86 col0\" >sajak-dosa.txt</td>\n",
       "      <td id=\"T_6bf53_row86_col1\" class=\"data row86 col1\" >15</td>\n",
       "      <td id=\"T_6bf53_row86_col2\" class=\"data row86 col2\" >124</td>\n",
       "      <td id=\"T_6bf53_row86_col3\" class=\"data row86 col3\" >0</td>\n",
       "      <td id=\"T_6bf53_row86_col4\" class=\"data row86 col4\" >7.750000</td>\n",
       "    </tr>\n",
       "    <tr>\n",
       "      <th id=\"T_6bf53_level0_row87\" class=\"row_heading level0 row87\" >87</th>\n",
       "      <td id=\"T_6bf53_row87_col0\" class=\"data row87 col0\" >sajak-gupay-lembur.txt</td>\n",
       "      <td id=\"T_6bf53_row87_col1\" class=\"data row87 col1\" >23</td>\n",
       "      <td id=\"T_6bf53_row87_col2\" class=\"data row87 col2\" >242</td>\n",
       "      <td id=\"T_6bf53_row87_col3\" class=\"data row87 col3\" >0</td>\n",
       "      <td id=\"T_6bf53_row87_col4\" class=\"data row87 col4\" >10.083333</td>\n",
       "    </tr>\n",
       "    <tr>\n",
       "      <th id=\"T_6bf53_level0_row88\" class=\"row_heading level0 row88\" >88</th>\n",
       "      <td id=\"T_6bf53_row88_col0\" class=\"data row88 col0\" >sajak-kamerdikaan.txt</td>\n",
       "      <td id=\"T_6bf53_row88_col1\" class=\"data row88 col1\" >13</td>\n",
       "      <td id=\"T_6bf53_row88_col2\" class=\"data row88 col2\" >94</td>\n",
       "      <td id=\"T_6bf53_row88_col3\" class=\"data row88 col3\" >0</td>\n",
       "      <td id=\"T_6bf53_row88_col4\" class=\"data row88 col4\" >6.714286</td>\n",
       "    </tr>\n",
       "    <tr>\n",
       "      <th id=\"T_6bf53_level0_row89\" class=\"row_heading level0 row89\" >89</th>\n",
       "      <td id=\"T_6bf53_row89_col0\" class=\"data row89 col0\" >sajak-hujan-poyan.txt</td>\n",
       "      <td id=\"T_6bf53_row89_col1\" class=\"data row89 col1\" >6</td>\n",
       "      <td id=\"T_6bf53_row89_col2\" class=\"data row89 col2\" >46</td>\n",
       "      <td id=\"T_6bf53_row89_col3\" class=\"data row89 col3\" >0</td>\n",
       "      <td id=\"T_6bf53_row89_col4\" class=\"data row89 col4\" >6.571429</td>\n",
       "    </tr>\n",
       "    <tr>\n",
       "      <th id=\"T_6bf53_level0_row90\" class=\"row_heading level0 row90\" >90</th>\n",
       "      <td id=\"T_6bf53_row90_col0\" class=\"data row90 col0\" >sajak-meri.txt</td>\n",
       "      <td id=\"T_6bf53_row90_col1\" class=\"data row90 col1\" >20</td>\n",
       "      <td id=\"T_6bf53_row90_col2\" class=\"data row90 col2\" >132</td>\n",
       "      <td id=\"T_6bf53_row90_col3\" class=\"data row90 col3\" >0</td>\n",
       "      <td id=\"T_6bf53_row90_col4\" class=\"data row90 col4\" >6.000000</td>\n",
       "    </tr>\n",
       "    <tr>\n",
       "      <th id=\"T_6bf53_level0_row91\" class=\"row_heading level0 row91\" >91</th>\n",
       "      <td id=\"T_6bf53_row91_col0\" class=\"data row91 col0\" >sajak-pesta-demokrasi.txt</td>\n",
       "      <td id=\"T_6bf53_row91_col1\" class=\"data row91 col1\" >36</td>\n",
       "      <td id=\"T_6bf53_row91_col2\" class=\"data row91 col2\" >668</td>\n",
       "      <td id=\"T_6bf53_row91_col3\" class=\"data row91 col3\" >2</td>\n",
       "      <td id=\"T_6bf53_row91_col4\" class=\"data row91 col4\" >14.521739</td>\n",
       "    </tr>\n",
       "  </tbody>\n",
       "</table>\n"
      ],
      "text/plain": [
       "<pandas.io.formats.style.Styler at 0x27df82ec260>"
      ]
     },
     "metadata": {},
     "output_type": "display_data"
    }
   ],
   "source": [
    "# === 5. Tabel ringkasan yang lebih cantik ===\n",
    "styled_summary = df_summary.style.set_table_styles(\n",
    "    [{'selector': 'th', 'props': [('background-color', '#1f77b4'),\n",
    "                                  ('color', 'white'),\n",
    "                                  ('font-weight', 'bold')]}]\n",
    ").bar(subset=[\"Jumlah Kata\", \"Jumlah Tanda Baca\"], color='#ff7f0e')\n",
    "display(HTML(\"<h3>📊 Ringkasan Statistik per File</h3>\"))\n",
    "display(styled_summary)\n"
   ]
  },
  {
   "cell_type": "code",
   "execution_count": 15,
   "id": "efa524fa",
   "metadata": {},
   "outputs": [
    {
     "data": {
      "application/vnd.plotly.v1+json": {
       "config": {
        "plotlyServerURL": "https://plot.ly"
       },
       "data": [
        {
         "alignmentgroup": "True",
         "hovertemplate": "Dokumen=%{y}<br>Jumlah Kalimat=%{text}<extra></extra>",
         "legendgroup": "babasan-paribasa.txt",
         "marker": {
          "color": "#636efa",
          "pattern": {
           "shape": ""
          }
         },
         "name": "babasan-paribasa.txt",
         "offsetgroup": "babasan-paribasa.txt",
         "orientation": "h",
         "showlegend": true,
         "text": [
          953,
          958
         ],
         "textposition": "outside",
         "type": "bar",
         "x": [
          953,
          958
         ],
         "xaxis": "x",
         "y": [
          "babasan-paribasa.txt",
          "babasan-paribasa.txt"
         ],
         "yaxis": "y"
        },
        {
         "alignmentgroup": "True",
         "hovertemplate": "Dokumen=%{y}<br>Jumlah Kalimat=%{text}<extra></extra>",
         "legendgroup": "mantra-ajian-kabedasan.txt",
         "marker": {
          "color": "#EF553B",
          "pattern": {
           "shape": ""
          }
         },
         "name": "mantra-ajian-kabedasan.txt",
         "offsetgroup": "mantra-ajian-kabedasan.txt",
         "orientation": "h",
         "showlegend": true,
         "text": [
          1,
          6
         ],
         "textposition": "outside",
         "type": "bar",
         "x": [
          1,
          6
         ],
         "xaxis": "x",
         "y": [
          "mantra-ajian-kabedasan.txt",
          "mantra-ajian-kabedasan.txt"
         ],
         "yaxis": "y"
        },
        {
         "alignmentgroup": "True",
         "hovertemplate": "Dokumen=%{y}<br>Jumlah Kalimat=%{text}<extra></extra>",
         "legendgroup": "mantra-jampe-nganjang.txt",
         "marker": {
          "color": "#00cc96",
          "pattern": {
           "shape": ""
          }
         },
         "name": "mantra-jampe-nganjang.txt",
         "offsetgroup": "mantra-jampe-nganjang.txt",
         "orientation": "h",
         "showlegend": true,
         "text": [
          1,
          22
         ],
         "textposition": "outside",
         "type": "bar",
         "x": [
          1,
          22
         ],
         "xaxis": "x",
         "y": [
          "mantra-jampe-nganjang.txt",
          "mantra-jampe-nganjang.txt"
         ],
         "yaxis": "y"
        },
        {
         "alignmentgroup": "True",
         "hovertemplate": "Dokumen=%{y}<br>Jumlah Kalimat=%{text}<extra></extra>",
         "legendgroup": "mantra-jangjawokan-paranti-dipupur.txt",
         "marker": {
          "color": "#ab63fa",
          "pattern": {
           "shape": ""
          }
         },
         "name": "mantra-jangjawokan-paranti-dipupur.txt",
         "offsetgroup": "mantra-jangjawokan-paranti-dipupur.txt",
         "orientation": "h",
         "showlegend": true,
         "text": [
          1,
          12
         ],
         "textposition": "outside",
         "type": "bar",
         "x": [
          1,
          12
         ],
         "xaxis": "x",
         "y": [
          "mantra-jangjawokan-paranti-dipupur.txt",
          "mantra-jangjawokan-paranti-dipupur.txt"
         ],
         "yaxis": "y"
        },
        {
         "alignmentgroup": "True",
         "hovertemplate": "Dokumen=%{y}<br>Jumlah Kalimat=%{text}<extra></extra>",
         "legendgroup": "mantra-rajah-citra-kasunyian.txt",
         "marker": {
          "color": "#FFA15A",
          "pattern": {
           "shape": ""
          }
         },
         "name": "mantra-rajah-citra-kasunyian.txt",
         "offsetgroup": "mantra-rajah-citra-kasunyian.txt",
         "orientation": "h",
         "showlegend": true,
         "text": [
          1,
          10
         ],
         "textposition": "outside",
         "type": "bar",
         "x": [
          1,
          10
         ],
         "xaxis": "x",
         "y": [
          "mantra-rajah-citra-kasunyian.txt",
          "mantra-rajah-citra-kasunyian.txt"
         ],
         "yaxis": "y"
        },
        {
         "alignmentgroup": "True",
         "hovertemplate": "Dokumen=%{y}<br>Jumlah Kalimat=%{text}<extra></extra>",
         "legendgroup": "mantra-singlar-ka-musuh.txt",
         "marker": {
          "color": "#19d3f3",
          "pattern": {
           "shape": ""
          }
         },
         "name": "mantra-singlar-ka-musuh.txt",
         "offsetgroup": "mantra-singlar-ka-musuh.txt",
         "orientation": "h",
         "showlegend": true,
         "text": [
          1,
          6
         ],
         "textposition": "outside",
         "type": "bar",
         "x": [
          1,
          6
         ],
         "xaxis": "x",
         "y": [
          "mantra-singlar-ka-musuh.txt",
          "mantra-singlar-ka-musuh.txt"
         ],
         "yaxis": "y"
        },
        {
         "alignmentgroup": "True",
         "hovertemplate": "Dokumen=%{y}<br>Jumlah Kalimat=%{text}<extra></extra>",
         "legendgroup": "mantra-mantra-asihan-si-burung-pundung.txt",
         "marker": {
          "color": "#FF6692",
          "pattern": {
           "shape": ""
          }
         },
         "name": "mantra-mantra-asihan-si-burung-pundung.txt",
         "offsetgroup": "mantra-mantra-asihan-si-burung-pundung.txt",
         "orientation": "h",
         "showlegend": true,
         "text": [
          1,
          6
         ],
         "textposition": "outside",
         "type": "bar",
         "x": [
          1,
          6
         ],
         "xaxis": "x",
         "y": [
          "mantra-mantra-asihan-si-burung-pundung.txt",
          "mantra-mantra-asihan-si-burung-pundung.txt"
         ],
         "yaxis": "y"
        },
        {
         "alignmentgroup": "True",
         "hovertemplate": "Dokumen=%{y}<br>Jumlah Kalimat=%{text}<extra></extra>",
         "legendgroup": "mantra-jampe-dicoco-kala.txt",
         "marker": {
          "color": "#B6E880",
          "pattern": {
           "shape": ""
          }
         },
         "name": "mantra-jampe-dicoco-kala.txt",
         "offsetgroup": "mantra-jampe-dicoco-kala.txt",
         "orientation": "h",
         "showlegend": true,
         "text": [
          1,
          8
         ],
         "textposition": "outside",
         "type": "bar",
         "x": [
          1,
          8
         ],
         "xaxis": "x",
         "y": [
          "mantra-jampe-dicoco-kala.txt",
          "mantra-jampe-dicoco-kala.txt"
         ],
         "yaxis": "y"
        },
        {
         "alignmentgroup": "True",
         "hovertemplate": "Dokumen=%{y}<br>Jumlah Kalimat=%{text}<extra></extra>",
         "legendgroup": "mantra-jampe-nyimpen-beas.txt",
         "marker": {
          "color": "#FF97FF",
          "pattern": {
           "shape": ""
          }
         },
         "name": "mantra-jampe-nyimpen-beas.txt",
         "offsetgroup": "mantra-jampe-nyimpen-beas.txt",
         "orientation": "h",
         "showlegend": true,
         "text": [
          2,
          21
         ],
         "textposition": "outside",
         "type": "bar",
         "x": [
          2,
          21
         ],
         "xaxis": "x",
         "y": [
          "mantra-jampe-nyimpen-beas.txt",
          "mantra-jampe-nyimpen-beas.txt"
         ],
         "yaxis": "y"
        },
        {
         "alignmentgroup": "True",
         "hovertemplate": "Dokumen=%{y}<br>Jumlah Kalimat=%{text}<extra></extra>",
         "legendgroup": "wawacan-nabi-yusuf.txt",
         "marker": {
          "color": "#FECB52",
          "pattern": {
           "shape": ""
          }
         },
         "name": "wawacan-nabi-yusuf.txt",
         "offsetgroup": "wawacan-nabi-yusuf.txt",
         "orientation": "h",
         "showlegend": true,
         "text": [
          164,
          174
         ],
         "textposition": "outside",
         "type": "bar",
         "x": [
          164,
          174
         ],
         "xaxis": "x",
         "y": [
          "wawacan-nabi-yusuf.txt",
          "wawacan-nabi-yusuf.txt"
         ],
         "yaxis": "y"
        },
        {
         "alignmentgroup": "True",
         "hovertemplate": "Dokumen=%{y}<br>Jumlah Kalimat=%{text}<extra></extra>",
         "legendgroup": "wawacan-sanghyang-jagatrasa.txt",
         "marker": {
          "color": "#636efa",
          "pattern": {
           "shape": ""
          }
         },
         "name": "wawacan-sanghyang-jagatrasa.txt",
         "offsetgroup": "wawacan-sanghyang-jagatrasa.txt",
         "orientation": "h",
         "showlegend": true,
         "text": [
          95,
          99
         ],
         "textposition": "outside",
         "type": "bar",
         "x": [
          95,
          99
         ],
         "xaxis": "x",
         "y": [
          "wawacan-sanghyang-jagatrasa.txt",
          "wawacan-sanghyang-jagatrasa.txt"
         ],
         "yaxis": "y"
        },
        {
         "alignmentgroup": "True",
         "hovertemplate": "Dokumen=%{y}<br>Jumlah Kalimat=%{text}<extra></extra>",
         "legendgroup": "wawacan-walang-sungsang.txt",
         "marker": {
          "color": "#EF553B",
          "pattern": {
           "shape": ""
          }
         },
         "name": "wawacan-walang-sungsang.txt",
         "offsetgroup": "wawacan-walang-sungsang.txt",
         "orientation": "h",
         "showlegend": true,
         "text": [
          179,
          185
         ],
         "textposition": "outside",
         "type": "bar",
         "x": [
          179,
          185
         ],
         "xaxis": "x",
         "y": [
          "wawacan-walang-sungsang.txt",
          "wawacan-walang-sungsang.txt"
         ],
         "yaxis": "y"
        },
        {
         "alignmentgroup": "True",
         "hovertemplate": "Dokumen=%{y}<br>Jumlah Kalimat=%{text}<extra></extra>",
         "legendgroup": "guguritan-di-mekah-tepung-silaturahmi.txt",
         "marker": {
          "color": "#00cc96",
          "pattern": {
           "shape": ""
          }
         },
         "name": "guguritan-di-mekah-tepung-silaturahmi.txt",
         "offsetgroup": "guguritan-di-mekah-tepung-silaturahmi.txt",
         "orientation": "h",
         "showlegend": true,
         "text": [
          6,
          37
         ],
         "textposition": "outside",
         "type": "bar",
         "x": [
          6,
          37
         ],
         "xaxis": "x",
         "y": [
          "guguritan-di-mekah-tepung-silaturahmi.txt",
          "guguritan-di-mekah-tepung-silaturahmi.txt"
         ],
         "yaxis": "y"
        },
        {
         "alignmentgroup": "True",
         "hovertemplate": "Dokumen=%{y}<br>Jumlah Kalimat=%{text}<extra></extra>",
         "legendgroup": "guguritan-wulang-murid.txt",
         "marker": {
          "color": "#ab63fa",
          "pattern": {
           "shape": ""
          }
         },
         "name": "guguritan-wulang-murid.txt",
         "offsetgroup": "guguritan-wulang-murid.txt",
         "orientation": "h",
         "showlegend": true,
         "text": [
          1,
          155
         ],
         "textposition": "outside",
         "type": "bar",
         "x": [
          1,
          155
         ],
         "xaxis": "x",
         "y": [
          "guguritan-wulang-murid.txt",
          "guguritan-wulang-murid.txt"
         ],
         "yaxis": "y"
        },
        {
         "alignmentgroup": "True",
         "hovertemplate": "Dokumen=%{y}<br>Jumlah Kalimat=%{text}<extra></extra>",
         "legendgroup": "guguritan-antara-safa-jeung-marwah.txt",
         "marker": {
          "color": "#FFA15A",
          "pattern": {
           "shape": ""
          }
         },
         "name": "guguritan-antara-safa-jeung-marwah.txt",
         "offsetgroup": "guguritan-antara-safa-jeung-marwah.txt",
         "orientation": "h",
         "showlegend": true,
         "text": [
          1,
          56
         ],
         "textposition": "outside",
         "type": "bar",
         "x": [
          1,
          56
         ],
         "xaxis": "x",
         "y": [
          "guguritan-antara-safa-jeung-marwah.txt",
          "guguritan-antara-safa-jeung-marwah.txt"
         ],
         "yaxis": "y"
        },
        {
         "alignmentgroup": "True",
         "hovertemplate": "Dokumen=%{y}<br>Jumlah Kalimat=%{text}<extra></extra>",
         "legendgroup": "guguritan-wulang-krama.txt",
         "marker": {
          "color": "#19d3f3",
          "pattern": {
           "shape": ""
          }
         },
         "name": "guguritan-wulang-krama.txt",
         "offsetgroup": "guguritan-wulang-krama.txt",
         "orientation": "h",
         "showlegend": true,
         "text": [
          12,
          84
         ],
         "textposition": "outside",
         "type": "bar",
         "x": [
          12,
          84
         ],
         "xaxis": "x",
         "y": [
          "guguritan-wulang-krama.txt",
          "guguritan-wulang-krama.txt"
         ],
         "yaxis": "y"
        },
        {
         "alignmentgroup": "True",
         "hovertemplate": "Dokumen=%{y}<br>Jumlah Kalimat=%{text}<extra></extra>",
         "legendgroup": "guguritan-wulang-guru.txt",
         "marker": {
          "color": "#FF6692",
          "pattern": {
           "shape": ""
          }
         },
         "name": "guguritan-wulang-guru.txt",
         "offsetgroup": "guguritan-wulang-guru.txt",
         "orientation": "h",
         "showlegend": true,
         "text": [
          10,
          71
         ],
         "textposition": "outside",
         "type": "bar",
         "x": [
          10,
          71
         ],
         "xaxis": "x",
         "y": [
          "guguritan-wulang-guru.txt",
          "guguritan-wulang-guru.txt"
         ],
         "yaxis": "y"
        },
        {
         "alignmentgroup": "True",
         "hovertemplate": "Dokumen=%{y}<br>Jumlah Kalimat=%{text}<extra></extra>",
         "legendgroup": "sisindiran-bratakoesoemah.txt",
         "marker": {
          "color": "#B6E880",
          "pattern": {
           "shape": ""
          }
         },
         "name": "sisindiran-bratakoesoemah.txt",
         "offsetgroup": "sisindiran-bratakoesoemah.txt",
         "orientation": "h",
         "showlegend": true,
         "text": [
          10,
          44
         ],
         "textposition": "outside",
         "type": "bar",
         "x": [
          10,
          44
         ],
         "xaxis": "x",
         "y": [
          "sisindiran-bratakoesoemah.txt",
          "sisindiran-bratakoesoemah.txt"
         ],
         "yaxis": "y"
        },
        {
         "alignmentgroup": "True",
         "hovertemplate": "Dokumen=%{y}<br>Jumlah Kalimat=%{text}<extra></extra>",
         "legendgroup": "sisindiran-baduy-jero.txt",
         "marker": {
          "color": "#FF97FF",
          "pattern": {
           "shape": ""
          }
         },
         "name": "sisindiran-baduy-jero.txt",
         "offsetgroup": "sisindiran-baduy-jero.txt",
         "orientation": "h",
         "showlegend": true,
         "text": [
          4,
          24
         ],
         "textposition": "outside",
         "type": "bar",
         "x": [
          4,
          24
         ],
         "xaxis": "x",
         "y": [
          "sisindiran-baduy-jero.txt",
          "sisindiran-baduy-jero.txt"
         ],
         "yaxis": "y"
        },
        {
         "alignmentgroup": "True",
         "hovertemplate": "Dokumen=%{y}<br>Jumlah Kalimat=%{text}<extra></extra>",
         "legendgroup": "pupujian-kaum-muslimin.txt",
         "marker": {
          "color": "#FECB52",
          "pattern": {
           "shape": ""
          }
         },
         "name": "pupujian-kaum-muslimin.txt",
         "offsetgroup": "pupujian-kaum-muslimin.txt",
         "orientation": "h",
         "showlegend": true,
         "text": [
          1,
          25
         ],
         "textposition": "outside",
         "type": "bar",
         "x": [
          1,
          25
         ],
         "xaxis": "x",
         "y": [
          "pupujian-kaum-muslimin.txt",
          "pupujian-kaum-muslimin.txt"
         ],
         "yaxis": "y"
        },
        {
         "alignmentgroup": "True",
         "hovertemplate": "Dokumen=%{y}<br>Jumlah Kalimat=%{text}<extra></extra>",
         "legendgroup": "pupujian-babawaan-ka-jero-kubur.txt",
         "marker": {
          "color": "#636efa",
          "pattern": {
           "shape": ""
          }
         },
         "name": "pupujian-babawaan-ka-jero-kubur.txt",
         "offsetgroup": "pupujian-babawaan-ka-jero-kubur.txt",
         "orientation": "h",
         "showlegend": true,
         "text": [
          1,
          6
         ],
         "textposition": "outside",
         "type": "bar",
         "x": [
          1,
          6
         ],
         "xaxis": "x",
         "y": [
          "pupujian-babawaan-ka-jero-kubur.txt",
          "pupujian-babawaan-ka-jero-kubur.txt"
         ],
         "yaxis": "y"
        },
        {
         "alignmentgroup": "True",
         "hovertemplate": "Dokumen=%{y}<br>Jumlah Kalimat=%{text}<extra></extra>",
         "legendgroup": "pupujian-tobat-ka-gusti.txt",
         "marker": {
          "color": "#EF553B",
          "pattern": {
           "shape": ""
          }
         },
         "name": "pupujian-tobat-ka-gusti.txt",
         "offsetgroup": "pupujian-tobat-ka-gusti.txt",
         "orientation": "h",
         "showlegend": true,
         "text": [
          1,
          8
         ],
         "textposition": "outside",
         "type": "bar",
         "x": [
          1,
          8
         ],
         "xaxis": "x",
         "y": [
          "pupujian-tobat-ka-gusti.txt",
          "pupujian-tobat-ka-gusti.txt"
         ],
         "yaxis": "y"
        },
        {
         "alignmentgroup": "True",
         "hovertemplate": "Dokumen=%{y}<br>Jumlah Kalimat=%{text}<extra></extra>",
         "legendgroup": "pupujian-ciri-nu-ngabakti-ka-yangwidi.txt",
         "marker": {
          "color": "#00cc96",
          "pattern": {
           "shape": ""
          }
         },
         "name": "pupujian-ciri-nu-ngabakti-ka-yangwidi.txt",
         "offsetgroup": "pupujian-ciri-nu-ngabakti-ka-yangwidi.txt",
         "orientation": "h",
         "showlegend": true,
         "text": [
          2,
          10
         ],
         "textposition": "outside",
         "type": "bar",
         "x": [
          2,
          10
         ],
         "xaxis": "x",
         "y": [
          "pupujian-ciri-nu-ngabakti-ka-yangwidi.txt",
          "pupujian-ciri-nu-ngabakti-ka-yangwidi.txt"
         ],
         "yaxis": "y"
        },
        {
         "alignmentgroup": "True",
         "hovertemplate": "Dokumen=%{y}<br>Jumlah Kalimat=%{text}<extra></extra>",
         "legendgroup": "pupujian-sarat-wajib-saum.txt",
         "marker": {
          "color": "#ab63fa",
          "pattern": {
           "shape": ""
          }
         },
         "name": "pupujian-sarat-wajib-saum.txt",
         "offsetgroup": "pupujian-sarat-wajib-saum.txt",
         "orientation": "h",
         "showlegend": true,
         "text": [
          1,
          8
         ],
         "textposition": "outside",
         "type": "bar",
         "x": [
          1,
          8
         ],
         "xaxis": "x",
         "y": [
          "pupujian-sarat-wajib-saum.txt",
          "pupujian-sarat-wajib-saum.txt"
         ],
         "yaxis": "y"
        },
        {
         "alignmentgroup": "True",
         "hovertemplate": "Dokumen=%{y}<br>Jumlah Kalimat=%{text}<extra></extra>",
         "legendgroup": "pupujian-kangjeng-nabi.txt",
         "marker": {
          "color": "#FFA15A",
          "pattern": {
           "shape": ""
          }
         },
         "name": "pupujian-kangjeng-nabi.txt",
         "offsetgroup": "pupujian-kangjeng-nabi.txt",
         "orientation": "h",
         "showlegend": true,
         "text": [
          1,
          68
         ],
         "textposition": "outside",
         "type": "bar",
         "x": [
          1,
          68
         ],
         "xaxis": "x",
         "y": [
          "pupujian-kangjeng-nabi.txt",
          "pupujian-kangjeng-nabi.txt"
         ],
         "yaxis": "y"
        },
        {
         "alignmentgroup": "True",
         "hovertemplate": "Dokumen=%{y}<br>Jumlah Kalimat=%{text}<extra></extra>",
         "legendgroup": "pupujian-eling-eling-dulur-kabeh.txt",
         "marker": {
          "color": "#19d3f3",
          "pattern": {
           "shape": ""
          }
         },
         "name": "pupujian-eling-eling-dulur-kabeh.txt",
         "offsetgroup": "pupujian-eling-eling-dulur-kabeh.txt",
         "orientation": "h",
         "showlegend": true,
         "text": [
          1,
          16
         ],
         "textposition": "outside",
         "type": "bar",
         "x": [
          1,
          16
         ],
         "xaxis": "x",
         "y": [
          "pupujian-eling-eling-dulur-kabeh.txt",
          "pupujian-eling-eling-dulur-kabeh.txt"
         ],
         "yaxis": "y"
        },
        {
         "alignmentgroup": "True",
         "hovertemplate": "Dokumen=%{y}<br>Jumlah Kalimat=%{text}<extra></extra>",
         "legendgroup": "pupujian-kautamaan-solat.txt",
         "marker": {
          "color": "#FF6692",
          "pattern": {
           "shape": ""
          }
         },
         "name": "pupujian-kautamaan-solat.txt",
         "offsetgroup": "pupujian-kautamaan-solat.txt",
         "orientation": "h",
         "showlegend": true,
         "text": [
          1,
          10
         ],
         "textposition": "outside",
         "type": "bar",
         "x": [
          1,
          10
         ],
         "xaxis": "x",
         "y": [
          "pupujian-kautamaan-solat.txt",
          "pupujian-kautamaan-solat.txt"
         ],
         "yaxis": "y"
        },
        {
         "alignmentgroup": "True",
         "hovertemplate": "Dokumen=%{y}<br>Jumlah Kalimat=%{text}<extra></extra>",
         "legendgroup": "pupujian-anak-adam.txt",
         "marker": {
          "color": "#B6E880",
          "pattern": {
           "shape": ""
          }
         },
         "name": "pupujian-anak-adam.txt",
         "offsetgroup": "pupujian-anak-adam.txt",
         "orientation": "h",
         "showlegend": true,
         "text": [
          1,
          16
         ],
         "textposition": "outside",
         "type": "bar",
         "x": [
          1,
          16
         ],
         "xaxis": "x",
         "y": [
          "pupujian-anak-adam.txt",
          "pupujian-anak-adam.txt"
         ],
         "yaxis": "y"
        },
        {
         "alignmentgroup": "True",
         "hovertemplate": "Dokumen=%{y}<br>Jumlah Kalimat=%{text}<extra></extra>",
         "legendgroup": "pupujian-he-djat-nu-kuat.txt",
         "marker": {
          "color": "#FF97FF",
          "pattern": {
           "shape": ""
          }
         },
         "name": "pupujian-he-djat-nu-kuat.txt",
         "offsetgroup": "pupujian-he-djat-nu-kuat.txt",
         "orientation": "h",
         "showlegend": true,
         "text": [
          1,
          16
         ],
         "textposition": "outside",
         "type": "bar",
         "x": [
          1,
          16
         ],
         "xaxis": "x",
         "y": [
          "pupujian-he-djat-nu-kuat.txt",
          "pupujian-he-djat-nu-kuat.txt"
         ],
         "yaxis": "y"
        },
        {
         "alignmentgroup": "True",
         "hovertemplate": "Dokumen=%{y}<br>Jumlah Kalimat=%{text}<extra></extra>",
         "legendgroup": "pupujian-pepeling.txt",
         "marker": {
          "color": "#FECB52",
          "pattern": {
           "shape": ""
          }
         },
         "name": "pupujian-pepeling.txt",
         "offsetgroup": "pupujian-pepeling.txt",
         "orientation": "h",
         "showlegend": true,
         "text": [
          1,
          12
         ],
         "textposition": "outside",
         "type": "bar",
         "x": [
          1,
          12
         ],
         "xaxis": "x",
         "y": [
          "pupujian-pepeling.txt",
          "pupujian-pepeling.txt"
         ],
         "yaxis": "y"
        },
        {
         "alignmentgroup": "True",
         "hovertemplate": "Dokumen=%{y}<br>Jumlah Kalimat=%{text}<extra></extra>",
         "legendgroup": "pupujian-poe-kiamah.txt",
         "marker": {
          "color": "#636efa",
          "pattern": {
           "shape": ""
          }
         },
         "name": "pupujian-poe-kiamah.txt",
         "offsetgroup": "pupujian-poe-kiamah.txt",
         "orientation": "h",
         "showlegend": true,
         "text": [
          1,
          12
         ],
         "textposition": "outside",
         "type": "bar",
         "x": [
          1,
          12
         ],
         "xaxis": "x",
         "y": [
          "pupujian-poe-kiamah.txt",
          "pupujian-poe-kiamah.txt"
         ],
         "yaxis": "y"
        },
        {
         "alignmentgroup": "True",
         "hovertemplate": "Dokumen=%{y}<br>Jumlah Kalimat=%{text}<extra></extra>",
         "legendgroup": "tauhid.txt",
         "marker": {
          "color": "#EF553B",
          "pattern": {
           "shape": ""
          }
         },
         "name": "tauhid.txt",
         "offsetgroup": "tauhid.txt",
         "orientation": "h",
         "showlegend": true,
         "text": [
          1,
          12
         ],
         "textposition": "outside",
         "type": "bar",
         "x": [
          1,
          12
         ],
         "xaxis": "x",
         "y": [
          "tauhid.txt",
          "tauhid.txt"
         ],
         "yaxis": "y"
        },
        {
         "alignmentgroup": "True",
         "hovertemplate": "Dokumen=%{y}<br>Jumlah Kalimat=%{text}<extra></extra>",
         "legendgroup": "pupujian-duh-pangeran.txt",
         "marker": {
          "color": "#00cc96",
          "pattern": {
           "shape": ""
          }
         },
         "name": "pupujian-duh-pangeran.txt",
         "offsetgroup": "pupujian-duh-pangeran.txt",
         "orientation": "h",
         "showlegend": true,
         "text": [
          1,
          40
         ],
         "textposition": "outside",
         "type": "bar",
         "x": [
          1,
          40
         ],
         "xaxis": "x",
         "y": [
          "pupujian-duh-pangeran.txt",
          "pupujian-duh-pangeran.txt"
         ],
         "yaxis": "y"
        },
        {
         "alignmentgroup": "True",
         "hovertemplate": "Dokumen=%{y}<br>Jumlah Kalimat=%{text}<extra></extra>",
         "legendgroup": "pupujian-ki-mayit.txt",
         "marker": {
          "color": "#ab63fa",
          "pattern": {
           "shape": ""
          }
         },
         "name": "pupujian-ki-mayit.txt",
         "offsetgroup": "pupujian-ki-mayit.txt",
         "orientation": "h",
         "showlegend": true,
         "text": [
          1,
          31
         ],
         "textposition": "outside",
         "type": "bar",
         "x": [
          1,
          31
         ],
         "xaxis": "x",
         "y": [
          "pupujian-ki-mayit.txt",
          "pupujian-ki-mayit.txt"
         ],
         "yaxis": "y"
        },
        {
         "alignmentgroup": "True",
         "hovertemplate": "Dokumen=%{y}<br>Jumlah Kalimat=%{text}<extra></extra>",
         "legendgroup": "pupujian-tauhid.txt",
         "marker": {
          "color": "#FFA15A",
          "pattern": {
           "shape": ""
          }
         },
         "name": "pupujian-tauhid.txt",
         "offsetgroup": "pupujian-tauhid.txt",
         "orientation": "h",
         "showlegend": true,
         "text": [
          1,
          24
         ],
         "textposition": "outside",
         "type": "bar",
         "x": [
          1,
          24
         ],
         "xaxis": "x",
         "y": [
          "pupujian-tauhid.txt",
          "pupujian-tauhid.txt"
         ],
         "yaxis": "y"
        },
        {
         "alignmentgroup": "True",
         "hovertemplate": "Dokumen=%{y}<br>Jumlah Kalimat=%{text}<extra></extra>",
         "legendgroup": "pupujian-loba-eling.txt",
         "marker": {
          "color": "#19d3f3",
          "pattern": {
           "shape": ""
          }
         },
         "name": "pupujian-loba-eling.txt",
         "offsetgroup": "pupujian-loba-eling.txt",
         "orientation": "h",
         "showlegend": true,
         "text": [
          1,
          28
         ],
         "textposition": "outside",
         "type": "bar",
         "x": [
          1,
          28
         ],
         "xaxis": "x",
         "y": [
          "pupujian-loba-eling.txt",
          "pupujian-loba-eling.txt"
         ],
         "yaxis": "y"
        },
        {
         "alignmentgroup": "True",
         "hovertemplate": "Dokumen=%{y}<br>Jumlah Kalimat=%{text}<extra></extra>",
         "legendgroup": "pupujian-hayu-batur.txt",
         "marker": {
          "color": "#FF6692",
          "pattern": {
           "shape": ""
          }
         },
         "name": "pupujian-hayu-batur.txt",
         "offsetgroup": "pupujian-hayu-batur.txt",
         "orientation": "h",
         "showlegend": true,
         "text": [
          1,
          19
         ],
         "textposition": "outside",
         "type": "bar",
         "x": [
          1,
          19
         ],
         "xaxis": "x",
         "y": [
          "pupujian-hayu-batur.txt",
          "pupujian-hayu-batur.txt"
         ],
         "yaxis": "y"
        },
        {
         "alignmentgroup": "True",
         "hovertemplate": "Dokumen=%{y}<br>Jumlah Kalimat=%{text}<extra></extra>",
         "legendgroup": "pupujian-hayu-geura-saradia.txt",
         "marker": {
          "color": "#B6E880",
          "pattern": {
           "shape": ""
          }
         },
         "name": "pupujian-hayu-geura-saradia.txt",
         "offsetgroup": "pupujian-hayu-geura-saradia.txt",
         "orientation": "h",
         "showlegend": true,
         "text": [
          1,
          124
         ],
         "textposition": "outside",
         "type": "bar",
         "x": [
          1,
          124
         ],
         "xaxis": "x",
         "y": [
          "pupujian-hayu-geura-saradia.txt",
          "pupujian-hayu-geura-saradia.txt"
         ],
         "yaxis": "y"
        },
        {
         "alignmentgroup": "True",
         "hovertemplate": "Dokumen=%{y}<br>Jumlah Kalimat=%{text}<extra></extra>",
         "legendgroup": "novel-baruang-kanu-ngarora.txt",
         "marker": {
          "color": "#FF97FF",
          "pattern": {
           "shape": ""
          }
         },
         "name": "novel-baruang-kanu-ngarora.txt",
         "offsetgroup": "novel-baruang-kanu-ngarora.txt",
         "orientation": "h",
         "showlegend": true,
         "text": [
          34,
          34
         ],
         "textposition": "outside",
         "type": "bar",
         "x": [
          34,
          34
         ],
         "xaxis": "x",
         "y": [
          "novel-baruang-kanu-ngarora.txt",
          "novel-baruang-kanu-ngarora.txt"
         ],
         "yaxis": "y"
        },
        {
         "alignmentgroup": "True",
         "hovertemplate": "Dokumen=%{y}<br>Jumlah Kalimat=%{text}<extra></extra>",
         "legendgroup": "sajak-manusa-sunda-neangan-jalan.txt",
         "marker": {
          "color": "#FECB52",
          "pattern": {
           "shape": ""
          }
         },
         "name": "sajak-manusa-sunda-neangan-jalan.txt",
         "offsetgroup": "sajak-manusa-sunda-neangan-jalan.txt",
         "orientation": "h",
         "showlegend": true,
         "text": [
          1,
          26
         ],
         "textposition": "outside",
         "type": "bar",
         "x": [
          1,
          26
         ],
         "xaxis": "x",
         "y": [
          "sajak-manusa-sunda-neangan-jalan.txt",
          "sajak-manusa-sunda-neangan-jalan.txt"
         ],
         "yaxis": "y"
        },
        {
         "alignmentgroup": "True",
         "hovertemplate": "Dokumen=%{y}<br>Jumlah Kalimat=%{text}<extra></extra>",
         "legendgroup": "sajak-dosa.txt",
         "marker": {
          "color": "#636efa",
          "pattern": {
           "shape": ""
          }
         },
         "name": "sajak-dosa.txt",
         "offsetgroup": "sajak-dosa.txt",
         "orientation": "h",
         "showlegend": true,
         "text": [
          1,
          15
         ],
         "textposition": "outside",
         "type": "bar",
         "x": [
          1,
          15
         ],
         "xaxis": "x",
         "y": [
          "sajak-dosa.txt",
          "sajak-dosa.txt"
         ],
         "yaxis": "y"
        },
        {
         "alignmentgroup": "True",
         "hovertemplate": "Dokumen=%{y}<br>Jumlah Kalimat=%{text}<extra></extra>",
         "legendgroup": "sajak-gupay-lembur.txt",
         "marker": {
          "color": "#EF553B",
          "pattern": {
           "shape": ""
          }
         },
         "name": "sajak-gupay-lembur.txt",
         "offsetgroup": "sajak-gupay-lembur.txt",
         "orientation": "h",
         "showlegend": true,
         "text": [
          1,
          23
         ],
         "textposition": "outside",
         "type": "bar",
         "x": [
          1,
          23
         ],
         "xaxis": "x",
         "y": [
          "sajak-gupay-lembur.txt",
          "sajak-gupay-lembur.txt"
         ],
         "yaxis": "y"
        },
        {
         "alignmentgroup": "True",
         "hovertemplate": "Dokumen=%{y}<br>Jumlah Kalimat=%{text}<extra></extra>",
         "legendgroup": "sajak-kamerdikaan.txt",
         "marker": {
          "color": "#00cc96",
          "pattern": {
           "shape": ""
          }
         },
         "name": "sajak-kamerdikaan.txt",
         "offsetgroup": "sajak-kamerdikaan.txt",
         "orientation": "h",
         "showlegend": true,
         "text": [
          1,
          13
         ],
         "textposition": "outside",
         "type": "bar",
         "x": [
          1,
          13
         ],
         "xaxis": "x",
         "y": [
          "sajak-kamerdikaan.txt",
          "sajak-kamerdikaan.txt"
         ],
         "yaxis": "y"
        },
        {
         "alignmentgroup": "True",
         "hovertemplate": "Dokumen=%{y}<br>Jumlah Kalimat=%{text}<extra></extra>",
         "legendgroup": "sajak-hujan-poyan.txt",
         "marker": {
          "color": "#ab63fa",
          "pattern": {
           "shape": ""
          }
         },
         "name": "sajak-hujan-poyan.txt",
         "offsetgroup": "sajak-hujan-poyan.txt",
         "orientation": "h",
         "showlegend": true,
         "text": [
          1,
          6
         ],
         "textposition": "outside",
         "type": "bar",
         "x": [
          1,
          6
         ],
         "xaxis": "x",
         "y": [
          "sajak-hujan-poyan.txt",
          "sajak-hujan-poyan.txt"
         ],
         "yaxis": "y"
        },
        {
         "alignmentgroup": "True",
         "hovertemplate": "Dokumen=%{y}<br>Jumlah Kalimat=%{text}<extra></extra>",
         "legendgroup": "sajak-meri.txt",
         "marker": {
          "color": "#FFA15A",
          "pattern": {
           "shape": ""
          }
         },
         "name": "sajak-meri.txt",
         "offsetgroup": "sajak-meri.txt",
         "orientation": "h",
         "showlegend": true,
         "text": [
          2,
          20
         ],
         "textposition": "outside",
         "type": "bar",
         "x": [
          2,
          20
         ],
         "xaxis": "x",
         "y": [
          "sajak-meri.txt",
          "sajak-meri.txt"
         ],
         "yaxis": "y"
        },
        {
         "alignmentgroup": "True",
         "hovertemplate": "Dokumen=%{y}<br>Jumlah Kalimat=%{text}<extra></extra>",
         "legendgroup": "sajak-pesta-demokrasi.txt",
         "marker": {
          "color": "#19d3f3",
          "pattern": {
           "shape": ""
          }
         },
         "name": "sajak-pesta-demokrasi.txt",
         "offsetgroup": "sajak-pesta-demokrasi.txt",
         "orientation": "h",
         "showlegend": true,
         "text": [
          10,
          36
         ],
         "textposition": "outside",
         "type": "bar",
         "x": [
          10,
          36
         ],
         "xaxis": "x",
         "y": [
          "sajak-pesta-demokrasi.txt",
          "sajak-pesta-demokrasi.txt"
         ],
         "yaxis": "y"
        }
       ],
       "layout": {
        "barmode": "relative",
        "legend": {
         "title": {
          "text": "Dokumen"
         },
         "tracegroupgap": 0
        },
        "template": {
         "data": {
          "bar": [
           {
            "error_x": {
             "color": "#2a3f5f"
            },
            "error_y": {
             "color": "#2a3f5f"
            },
            "marker": {
             "line": {
              "color": "#E5ECF6",
              "width": 0.5
             },
             "pattern": {
              "fillmode": "overlay",
              "size": 10,
              "solidity": 0.2
             }
            },
            "type": "bar"
           }
          ],
          "barpolar": [
           {
            "marker": {
             "line": {
              "color": "#E5ECF6",
              "width": 0.5
             },
             "pattern": {
              "fillmode": "overlay",
              "size": 10,
              "solidity": 0.2
             }
            },
            "type": "barpolar"
           }
          ],
          "carpet": [
           {
            "aaxis": {
             "endlinecolor": "#2a3f5f",
             "gridcolor": "white",
             "linecolor": "white",
             "minorgridcolor": "white",
             "startlinecolor": "#2a3f5f"
            },
            "baxis": {
             "endlinecolor": "#2a3f5f",
             "gridcolor": "white",
             "linecolor": "white",
             "minorgridcolor": "white",
             "startlinecolor": "#2a3f5f"
            },
            "type": "carpet"
           }
          ],
          "choropleth": [
           {
            "colorbar": {
             "outlinewidth": 0,
             "ticks": ""
            },
            "type": "choropleth"
           }
          ],
          "contour": [
           {
            "colorbar": {
             "outlinewidth": 0,
             "ticks": ""
            },
            "colorscale": [
             [
              0,
              "#0d0887"
             ],
             [
              0.1111111111111111,
              "#46039f"
             ],
             [
              0.2222222222222222,
              "#7201a8"
             ],
             [
              0.3333333333333333,
              "#9c179e"
             ],
             [
              0.4444444444444444,
              "#bd3786"
             ],
             [
              0.5555555555555556,
              "#d8576b"
             ],
             [
              0.6666666666666666,
              "#ed7953"
             ],
             [
              0.7777777777777778,
              "#fb9f3a"
             ],
             [
              0.8888888888888888,
              "#fdca26"
             ],
             [
              1,
              "#f0f921"
             ]
            ],
            "type": "contour"
           }
          ],
          "contourcarpet": [
           {
            "colorbar": {
             "outlinewidth": 0,
             "ticks": ""
            },
            "type": "contourcarpet"
           }
          ],
          "heatmap": [
           {
            "colorbar": {
             "outlinewidth": 0,
             "ticks": ""
            },
            "colorscale": [
             [
              0,
              "#0d0887"
             ],
             [
              0.1111111111111111,
              "#46039f"
             ],
             [
              0.2222222222222222,
              "#7201a8"
             ],
             [
              0.3333333333333333,
              "#9c179e"
             ],
             [
              0.4444444444444444,
              "#bd3786"
             ],
             [
              0.5555555555555556,
              "#d8576b"
             ],
             [
              0.6666666666666666,
              "#ed7953"
             ],
             [
              0.7777777777777778,
              "#fb9f3a"
             ],
             [
              0.8888888888888888,
              "#fdca26"
             ],
             [
              1,
              "#f0f921"
             ]
            ],
            "type": "heatmap"
           }
          ],
          "heatmapgl": [
           {
            "colorbar": {
             "outlinewidth": 0,
             "ticks": ""
            },
            "colorscale": [
             [
              0,
              "#0d0887"
             ],
             [
              0.1111111111111111,
              "#46039f"
             ],
             [
              0.2222222222222222,
              "#7201a8"
             ],
             [
              0.3333333333333333,
              "#9c179e"
             ],
             [
              0.4444444444444444,
              "#bd3786"
             ],
             [
              0.5555555555555556,
              "#d8576b"
             ],
             [
              0.6666666666666666,
              "#ed7953"
             ],
             [
              0.7777777777777778,
              "#fb9f3a"
             ],
             [
              0.8888888888888888,
              "#fdca26"
             ],
             [
              1,
              "#f0f921"
             ]
            ],
            "type": "heatmapgl"
           }
          ],
          "histogram": [
           {
            "marker": {
             "pattern": {
              "fillmode": "overlay",
              "size": 10,
              "solidity": 0.2
             }
            },
            "type": "histogram"
           }
          ],
          "histogram2d": [
           {
            "colorbar": {
             "outlinewidth": 0,
             "ticks": ""
            },
            "colorscale": [
             [
              0,
              "#0d0887"
             ],
             [
              0.1111111111111111,
              "#46039f"
             ],
             [
              0.2222222222222222,
              "#7201a8"
             ],
             [
              0.3333333333333333,
              "#9c179e"
             ],
             [
              0.4444444444444444,
              "#bd3786"
             ],
             [
              0.5555555555555556,
              "#d8576b"
             ],
             [
              0.6666666666666666,
              "#ed7953"
             ],
             [
              0.7777777777777778,
              "#fb9f3a"
             ],
             [
              0.8888888888888888,
              "#fdca26"
             ],
             [
              1,
              "#f0f921"
             ]
            ],
            "type": "histogram2d"
           }
          ],
          "histogram2dcontour": [
           {
            "colorbar": {
             "outlinewidth": 0,
             "ticks": ""
            },
            "colorscale": [
             [
              0,
              "#0d0887"
             ],
             [
              0.1111111111111111,
              "#46039f"
             ],
             [
              0.2222222222222222,
              "#7201a8"
             ],
             [
              0.3333333333333333,
              "#9c179e"
             ],
             [
              0.4444444444444444,
              "#bd3786"
             ],
             [
              0.5555555555555556,
              "#d8576b"
             ],
             [
              0.6666666666666666,
              "#ed7953"
             ],
             [
              0.7777777777777778,
              "#fb9f3a"
             ],
             [
              0.8888888888888888,
              "#fdca26"
             ],
             [
              1,
              "#f0f921"
             ]
            ],
            "type": "histogram2dcontour"
           }
          ],
          "mesh3d": [
           {
            "colorbar": {
             "outlinewidth": 0,
             "ticks": ""
            },
            "type": "mesh3d"
           }
          ],
          "parcoords": [
           {
            "line": {
             "colorbar": {
              "outlinewidth": 0,
              "ticks": ""
             }
            },
            "type": "parcoords"
           }
          ],
          "pie": [
           {
            "automargin": true,
            "type": "pie"
           }
          ],
          "scatter": [
           {
            "fillpattern": {
             "fillmode": "overlay",
             "size": 10,
             "solidity": 0.2
            },
            "type": "scatter"
           }
          ],
          "scatter3d": [
           {
            "line": {
             "colorbar": {
              "outlinewidth": 0,
              "ticks": ""
             }
            },
            "marker": {
             "colorbar": {
              "outlinewidth": 0,
              "ticks": ""
             }
            },
            "type": "scatter3d"
           }
          ],
          "scattercarpet": [
           {
            "marker": {
             "colorbar": {
              "outlinewidth": 0,
              "ticks": ""
             }
            },
            "type": "scattercarpet"
           }
          ],
          "scattergeo": [
           {
            "marker": {
             "colorbar": {
              "outlinewidth": 0,
              "ticks": ""
             }
            },
            "type": "scattergeo"
           }
          ],
          "scattergl": [
           {
            "marker": {
             "colorbar": {
              "outlinewidth": 0,
              "ticks": ""
             }
            },
            "type": "scattergl"
           }
          ],
          "scattermapbox": [
           {
            "marker": {
             "colorbar": {
              "outlinewidth": 0,
              "ticks": ""
             }
            },
            "type": "scattermapbox"
           }
          ],
          "scatterpolar": [
           {
            "marker": {
             "colorbar": {
              "outlinewidth": 0,
              "ticks": ""
             }
            },
            "type": "scatterpolar"
           }
          ],
          "scatterpolargl": [
           {
            "marker": {
             "colorbar": {
              "outlinewidth": 0,
              "ticks": ""
             }
            },
            "type": "scatterpolargl"
           }
          ],
          "scatterternary": [
           {
            "marker": {
             "colorbar": {
              "outlinewidth": 0,
              "ticks": ""
             }
            },
            "type": "scatterternary"
           }
          ],
          "surface": [
           {
            "colorbar": {
             "outlinewidth": 0,
             "ticks": ""
            },
            "colorscale": [
             [
              0,
              "#0d0887"
             ],
             [
              0.1111111111111111,
              "#46039f"
             ],
             [
              0.2222222222222222,
              "#7201a8"
             ],
             [
              0.3333333333333333,
              "#9c179e"
             ],
             [
              0.4444444444444444,
              "#bd3786"
             ],
             [
              0.5555555555555556,
              "#d8576b"
             ],
             [
              0.6666666666666666,
              "#ed7953"
             ],
             [
              0.7777777777777778,
              "#fb9f3a"
             ],
             [
              0.8888888888888888,
              "#fdca26"
             ],
             [
              1,
              "#f0f921"
             ]
            ],
            "type": "surface"
           }
          ],
          "table": [
           {
            "cells": {
             "fill": {
              "color": "#EBF0F8"
             },
             "line": {
              "color": "white"
             }
            },
            "header": {
             "fill": {
              "color": "#C8D4E3"
             },
             "line": {
              "color": "white"
             }
            },
            "type": "table"
           }
          ]
         },
         "layout": {
          "annotationdefaults": {
           "arrowcolor": "#2a3f5f",
           "arrowhead": 0,
           "arrowwidth": 1
          },
          "autotypenumbers": "strict",
          "coloraxis": {
           "colorbar": {
            "outlinewidth": 0,
            "ticks": ""
           }
          },
          "colorscale": {
           "diverging": [
            [
             0,
             "#8e0152"
            ],
            [
             0.1,
             "#c51b7d"
            ],
            [
             0.2,
             "#de77ae"
            ],
            [
             0.3,
             "#f1b6da"
            ],
            [
             0.4,
             "#fde0ef"
            ],
            [
             0.5,
             "#f7f7f7"
            ],
            [
             0.6,
             "#e6f5d0"
            ],
            [
             0.7,
             "#b8e186"
            ],
            [
             0.8,
             "#7fbc41"
            ],
            [
             0.9,
             "#4d9221"
            ],
            [
             1,
             "#276419"
            ]
           ],
           "sequential": [
            [
             0,
             "#0d0887"
            ],
            [
             0.1111111111111111,
             "#46039f"
            ],
            [
             0.2222222222222222,
             "#7201a8"
            ],
            [
             0.3333333333333333,
             "#9c179e"
            ],
            [
             0.4444444444444444,
             "#bd3786"
            ],
            [
             0.5555555555555556,
             "#d8576b"
            ],
            [
             0.6666666666666666,
             "#ed7953"
            ],
            [
             0.7777777777777778,
             "#fb9f3a"
            ],
            [
             0.8888888888888888,
             "#fdca26"
            ],
            [
             1,
             "#f0f921"
            ]
           ],
           "sequentialminus": [
            [
             0,
             "#0d0887"
            ],
            [
             0.1111111111111111,
             "#46039f"
            ],
            [
             0.2222222222222222,
             "#7201a8"
            ],
            [
             0.3333333333333333,
             "#9c179e"
            ],
            [
             0.4444444444444444,
             "#bd3786"
            ],
            [
             0.5555555555555556,
             "#d8576b"
            ],
            [
             0.6666666666666666,
             "#ed7953"
            ],
            [
             0.7777777777777778,
             "#fb9f3a"
            ],
            [
             0.8888888888888888,
             "#fdca26"
            ],
            [
             1,
             "#f0f921"
            ]
           ]
          },
          "colorway": [
           "#636efa",
           "#EF553B",
           "#00cc96",
           "#ab63fa",
           "#FFA15A",
           "#19d3f3",
           "#FF6692",
           "#B6E880",
           "#FF97FF",
           "#FECB52"
          ],
          "font": {
           "color": "#2a3f5f"
          },
          "geo": {
           "bgcolor": "white",
           "lakecolor": "white",
           "landcolor": "#E5ECF6",
           "showlakes": true,
           "showland": true,
           "subunitcolor": "white"
          },
          "hoverlabel": {
           "align": "left"
          },
          "hovermode": "closest",
          "mapbox": {
           "style": "light"
          },
          "paper_bgcolor": "white",
          "plot_bgcolor": "#E5ECF6",
          "polar": {
           "angularaxis": {
            "gridcolor": "white",
            "linecolor": "white",
            "ticks": ""
           },
           "bgcolor": "#E5ECF6",
           "radialaxis": {
            "gridcolor": "white",
            "linecolor": "white",
            "ticks": ""
           }
          },
          "scene": {
           "xaxis": {
            "backgroundcolor": "#E5ECF6",
            "gridcolor": "white",
            "gridwidth": 2,
            "linecolor": "white",
            "showbackground": true,
            "ticks": "",
            "zerolinecolor": "white"
           },
           "yaxis": {
            "backgroundcolor": "#E5ECF6",
            "gridcolor": "white",
            "gridwidth": 2,
            "linecolor": "white",
            "showbackground": true,
            "ticks": "",
            "zerolinecolor": "white"
           },
           "zaxis": {
            "backgroundcolor": "#E5ECF6",
            "gridcolor": "white",
            "gridwidth": 2,
            "linecolor": "white",
            "showbackground": true,
            "ticks": "",
            "zerolinecolor": "white"
           }
          },
          "shapedefaults": {
           "line": {
            "color": "#2a3f5f"
           }
          },
          "ternary": {
           "aaxis": {
            "gridcolor": "white",
            "linecolor": "white",
            "ticks": ""
           },
           "baxis": {
            "gridcolor": "white",
            "linecolor": "white",
            "ticks": ""
           },
           "bgcolor": "#E5ECF6",
           "caxis": {
            "gridcolor": "white",
            "linecolor": "white",
            "ticks": ""
           }
          },
          "title": {
           "x": 0.05
          },
          "xaxis": {
           "automargin": true,
           "gridcolor": "white",
           "linecolor": "white",
           "ticks": "",
           "title": {
            "standoff": 15
           },
           "zerolinecolor": "white",
           "zerolinewidth": 2
          },
          "yaxis": {
           "automargin": true,
           "gridcolor": "white",
           "linecolor": "white",
           "ticks": "",
           "title": {
            "standoff": 15
           },
           "zerolinecolor": "white",
           "zerolinewidth": 2
          }
         }
        },
        "title": {
         "text": "Jumlah Kalimat per Dokumen"
        },
        "xaxis": {
         "anchor": "y",
         "domain": [
          0,
          1
         ],
         "title": {
          "text": "Jumlah Kalimat"
         }
        },
        "yaxis": {
         "anchor": "x",
         "categoryarray": [
          "sajak-pesta-demokrasi.txt",
          "sajak-meri.txt",
          "sajak-hujan-poyan.txt",
          "sajak-kamerdikaan.txt",
          "sajak-gupay-lembur.txt",
          "sajak-dosa.txt",
          "sajak-manusa-sunda-neangan-jalan.txt",
          "novel-baruang-kanu-ngarora.txt",
          "pupujian-hayu-geura-saradia.txt",
          "pupujian-hayu-batur.txt",
          "pupujian-loba-eling.txt",
          "pupujian-tauhid.txt",
          "pupujian-ki-mayit.txt",
          "pupujian-duh-pangeran.txt",
          "tauhid.txt",
          "pupujian-poe-kiamah.txt",
          "pupujian-pepeling.txt",
          "pupujian-he-djat-nu-kuat.txt",
          "pupujian-anak-adam.txt",
          "pupujian-kautamaan-solat.txt",
          "pupujian-eling-eling-dulur-kabeh.txt",
          "pupujian-kangjeng-nabi.txt",
          "pupujian-sarat-wajib-saum.txt",
          "pupujian-ciri-nu-ngabakti-ka-yangwidi.txt",
          "pupujian-tobat-ka-gusti.txt",
          "pupujian-babawaan-ka-jero-kubur.txt",
          "pupujian-kaum-muslimin.txt",
          "sisindiran-baduy-jero.txt",
          "sisindiran-bratakoesoemah.txt",
          "guguritan-wulang-guru.txt",
          "guguritan-wulang-krama.txt",
          "guguritan-antara-safa-jeung-marwah.txt",
          "guguritan-wulang-murid.txt",
          "guguritan-di-mekah-tepung-silaturahmi.txt",
          "wawacan-walang-sungsang.txt",
          "wawacan-sanghyang-jagatrasa.txt",
          "wawacan-nabi-yusuf.txt",
          "mantra-jampe-nyimpen-beas.txt",
          "mantra-jampe-dicoco-kala.txt",
          "mantra-mantra-asihan-si-burung-pundung.txt",
          "mantra-singlar-ka-musuh.txt",
          "mantra-rajah-citra-kasunyian.txt",
          "mantra-jangjawokan-paranti-dipupur.txt",
          "mantra-jampe-nganjang.txt",
          "mantra-ajian-kabedasan.txt",
          "babasan-paribasa.txt"
         ],
         "categoryorder": "array",
         "domain": [
          0,
          1
         ],
         "title": {
          "text": "Dokumen"
         }
        }
       }
      }
     },
     "metadata": {},
     "output_type": "display_data"
    },
    {
     "data": {
      "application/vnd.plotly.v1+json": {
       "config": {
        "plotlyServerURL": "https://plot.ly"
       },
       "data": [
        {
         "hole": 0.4,
         "labels": [
          "Kata",
          "Tanda Baca"
         ],
         "type": "pie",
         "values": [
          52580,
          1834
         ]
        }
       ],
       "layout": {
        "template": {
         "data": {
          "bar": [
           {
            "error_x": {
             "color": "#2a3f5f"
            },
            "error_y": {
             "color": "#2a3f5f"
            },
            "marker": {
             "line": {
              "color": "#E5ECF6",
              "width": 0.5
             },
             "pattern": {
              "fillmode": "overlay",
              "size": 10,
              "solidity": 0.2
             }
            },
            "type": "bar"
           }
          ],
          "barpolar": [
           {
            "marker": {
             "line": {
              "color": "#E5ECF6",
              "width": 0.5
             },
             "pattern": {
              "fillmode": "overlay",
              "size": 10,
              "solidity": 0.2
             }
            },
            "type": "barpolar"
           }
          ],
          "carpet": [
           {
            "aaxis": {
             "endlinecolor": "#2a3f5f",
             "gridcolor": "white",
             "linecolor": "white",
             "minorgridcolor": "white",
             "startlinecolor": "#2a3f5f"
            },
            "baxis": {
             "endlinecolor": "#2a3f5f",
             "gridcolor": "white",
             "linecolor": "white",
             "minorgridcolor": "white",
             "startlinecolor": "#2a3f5f"
            },
            "type": "carpet"
           }
          ],
          "choropleth": [
           {
            "colorbar": {
             "outlinewidth": 0,
             "ticks": ""
            },
            "type": "choropleth"
           }
          ],
          "contour": [
           {
            "colorbar": {
             "outlinewidth": 0,
             "ticks": ""
            },
            "colorscale": [
             [
              0,
              "#0d0887"
             ],
             [
              0.1111111111111111,
              "#46039f"
             ],
             [
              0.2222222222222222,
              "#7201a8"
             ],
             [
              0.3333333333333333,
              "#9c179e"
             ],
             [
              0.4444444444444444,
              "#bd3786"
             ],
             [
              0.5555555555555556,
              "#d8576b"
             ],
             [
              0.6666666666666666,
              "#ed7953"
             ],
             [
              0.7777777777777778,
              "#fb9f3a"
             ],
             [
              0.8888888888888888,
              "#fdca26"
             ],
             [
              1,
              "#f0f921"
             ]
            ],
            "type": "contour"
           }
          ],
          "contourcarpet": [
           {
            "colorbar": {
             "outlinewidth": 0,
             "ticks": ""
            },
            "type": "contourcarpet"
           }
          ],
          "heatmap": [
           {
            "colorbar": {
             "outlinewidth": 0,
             "ticks": ""
            },
            "colorscale": [
             [
              0,
              "#0d0887"
             ],
             [
              0.1111111111111111,
              "#46039f"
             ],
             [
              0.2222222222222222,
              "#7201a8"
             ],
             [
              0.3333333333333333,
              "#9c179e"
             ],
             [
              0.4444444444444444,
              "#bd3786"
             ],
             [
              0.5555555555555556,
              "#d8576b"
             ],
             [
              0.6666666666666666,
              "#ed7953"
             ],
             [
              0.7777777777777778,
              "#fb9f3a"
             ],
             [
              0.8888888888888888,
              "#fdca26"
             ],
             [
              1,
              "#f0f921"
             ]
            ],
            "type": "heatmap"
           }
          ],
          "heatmapgl": [
           {
            "colorbar": {
             "outlinewidth": 0,
             "ticks": ""
            },
            "colorscale": [
             [
              0,
              "#0d0887"
             ],
             [
              0.1111111111111111,
              "#46039f"
             ],
             [
              0.2222222222222222,
              "#7201a8"
             ],
             [
              0.3333333333333333,
              "#9c179e"
             ],
             [
              0.4444444444444444,
              "#bd3786"
             ],
             [
              0.5555555555555556,
              "#d8576b"
             ],
             [
              0.6666666666666666,
              "#ed7953"
             ],
             [
              0.7777777777777778,
              "#fb9f3a"
             ],
             [
              0.8888888888888888,
              "#fdca26"
             ],
             [
              1,
              "#f0f921"
             ]
            ],
            "type": "heatmapgl"
           }
          ],
          "histogram": [
           {
            "marker": {
             "pattern": {
              "fillmode": "overlay",
              "size": 10,
              "solidity": 0.2
             }
            },
            "type": "histogram"
           }
          ],
          "histogram2d": [
           {
            "colorbar": {
             "outlinewidth": 0,
             "ticks": ""
            },
            "colorscale": [
             [
              0,
              "#0d0887"
             ],
             [
              0.1111111111111111,
              "#46039f"
             ],
             [
              0.2222222222222222,
              "#7201a8"
             ],
             [
              0.3333333333333333,
              "#9c179e"
             ],
             [
              0.4444444444444444,
              "#bd3786"
             ],
             [
              0.5555555555555556,
              "#d8576b"
             ],
             [
              0.6666666666666666,
              "#ed7953"
             ],
             [
              0.7777777777777778,
              "#fb9f3a"
             ],
             [
              0.8888888888888888,
              "#fdca26"
             ],
             [
              1,
              "#f0f921"
             ]
            ],
            "type": "histogram2d"
           }
          ],
          "histogram2dcontour": [
           {
            "colorbar": {
             "outlinewidth": 0,
             "ticks": ""
            },
            "colorscale": [
             [
              0,
              "#0d0887"
             ],
             [
              0.1111111111111111,
              "#46039f"
             ],
             [
              0.2222222222222222,
              "#7201a8"
             ],
             [
              0.3333333333333333,
              "#9c179e"
             ],
             [
              0.4444444444444444,
              "#bd3786"
             ],
             [
              0.5555555555555556,
              "#d8576b"
             ],
             [
              0.6666666666666666,
              "#ed7953"
             ],
             [
              0.7777777777777778,
              "#fb9f3a"
             ],
             [
              0.8888888888888888,
              "#fdca26"
             ],
             [
              1,
              "#f0f921"
             ]
            ],
            "type": "histogram2dcontour"
           }
          ],
          "mesh3d": [
           {
            "colorbar": {
             "outlinewidth": 0,
             "ticks": ""
            },
            "type": "mesh3d"
           }
          ],
          "parcoords": [
           {
            "line": {
             "colorbar": {
              "outlinewidth": 0,
              "ticks": ""
             }
            },
            "type": "parcoords"
           }
          ],
          "pie": [
           {
            "automargin": true,
            "type": "pie"
           }
          ],
          "scatter": [
           {
            "fillpattern": {
             "fillmode": "overlay",
             "size": 10,
             "solidity": 0.2
            },
            "type": "scatter"
           }
          ],
          "scatter3d": [
           {
            "line": {
             "colorbar": {
              "outlinewidth": 0,
              "ticks": ""
             }
            },
            "marker": {
             "colorbar": {
              "outlinewidth": 0,
              "ticks": ""
             }
            },
            "type": "scatter3d"
           }
          ],
          "scattercarpet": [
           {
            "marker": {
             "colorbar": {
              "outlinewidth": 0,
              "ticks": ""
             }
            },
            "type": "scattercarpet"
           }
          ],
          "scattergeo": [
           {
            "marker": {
             "colorbar": {
              "outlinewidth": 0,
              "ticks": ""
             }
            },
            "type": "scattergeo"
           }
          ],
          "scattergl": [
           {
            "marker": {
             "colorbar": {
              "outlinewidth": 0,
              "ticks": ""
             }
            },
            "type": "scattergl"
           }
          ],
          "scattermapbox": [
           {
            "marker": {
             "colorbar": {
              "outlinewidth": 0,
              "ticks": ""
             }
            },
            "type": "scattermapbox"
           }
          ],
          "scatterpolar": [
           {
            "marker": {
             "colorbar": {
              "outlinewidth": 0,
              "ticks": ""
             }
            },
            "type": "scatterpolar"
           }
          ],
          "scatterpolargl": [
           {
            "marker": {
             "colorbar": {
              "outlinewidth": 0,
              "ticks": ""
             }
            },
            "type": "scatterpolargl"
           }
          ],
          "scatterternary": [
           {
            "marker": {
             "colorbar": {
              "outlinewidth": 0,
              "ticks": ""
             }
            },
            "type": "scatterternary"
           }
          ],
          "surface": [
           {
            "colorbar": {
             "outlinewidth": 0,
             "ticks": ""
            },
            "colorscale": [
             [
              0,
              "#0d0887"
             ],
             [
              0.1111111111111111,
              "#46039f"
             ],
             [
              0.2222222222222222,
              "#7201a8"
             ],
             [
              0.3333333333333333,
              "#9c179e"
             ],
             [
              0.4444444444444444,
              "#bd3786"
             ],
             [
              0.5555555555555556,
              "#d8576b"
             ],
             [
              0.6666666666666666,
              "#ed7953"
             ],
             [
              0.7777777777777778,
              "#fb9f3a"
             ],
             [
              0.8888888888888888,
              "#fdca26"
             ],
             [
              1,
              "#f0f921"
             ]
            ],
            "type": "surface"
           }
          ],
          "table": [
           {
            "cells": {
             "fill": {
              "color": "#EBF0F8"
             },
             "line": {
              "color": "white"
             }
            },
            "header": {
             "fill": {
              "color": "#C8D4E3"
             },
             "line": {
              "color": "white"
             }
            },
            "type": "table"
           }
          ]
         },
         "layout": {
          "annotationdefaults": {
           "arrowcolor": "#2a3f5f",
           "arrowhead": 0,
           "arrowwidth": 1
          },
          "autotypenumbers": "strict",
          "coloraxis": {
           "colorbar": {
            "outlinewidth": 0,
            "ticks": ""
           }
          },
          "colorscale": {
           "diverging": [
            [
             0,
             "#8e0152"
            ],
            [
             0.1,
             "#c51b7d"
            ],
            [
             0.2,
             "#de77ae"
            ],
            [
             0.3,
             "#f1b6da"
            ],
            [
             0.4,
             "#fde0ef"
            ],
            [
             0.5,
             "#f7f7f7"
            ],
            [
             0.6,
             "#e6f5d0"
            ],
            [
             0.7,
             "#b8e186"
            ],
            [
             0.8,
             "#7fbc41"
            ],
            [
             0.9,
             "#4d9221"
            ],
            [
             1,
             "#276419"
            ]
           ],
           "sequential": [
            [
             0,
             "#0d0887"
            ],
            [
             0.1111111111111111,
             "#46039f"
            ],
            [
             0.2222222222222222,
             "#7201a8"
            ],
            [
             0.3333333333333333,
             "#9c179e"
            ],
            [
             0.4444444444444444,
             "#bd3786"
            ],
            [
             0.5555555555555556,
             "#d8576b"
            ],
            [
             0.6666666666666666,
             "#ed7953"
            ],
            [
             0.7777777777777778,
             "#fb9f3a"
            ],
            [
             0.8888888888888888,
             "#fdca26"
            ],
            [
             1,
             "#f0f921"
            ]
           ],
           "sequentialminus": [
            [
             0,
             "#0d0887"
            ],
            [
             0.1111111111111111,
             "#46039f"
            ],
            [
             0.2222222222222222,
             "#7201a8"
            ],
            [
             0.3333333333333333,
             "#9c179e"
            ],
            [
             0.4444444444444444,
             "#bd3786"
            ],
            [
             0.5555555555555556,
             "#d8576b"
            ],
            [
             0.6666666666666666,
             "#ed7953"
            ],
            [
             0.7777777777777778,
             "#fb9f3a"
            ],
            [
             0.8888888888888888,
             "#fdca26"
            ],
            [
             1,
             "#f0f921"
            ]
           ]
          },
          "colorway": [
           "#636efa",
           "#EF553B",
           "#00cc96",
           "#ab63fa",
           "#FFA15A",
           "#19d3f3",
           "#FF6692",
           "#B6E880",
           "#FF97FF",
           "#FECB52"
          ],
          "font": {
           "color": "#2a3f5f"
          },
          "geo": {
           "bgcolor": "white",
           "lakecolor": "white",
           "landcolor": "#E5ECF6",
           "showlakes": true,
           "showland": true,
           "subunitcolor": "white"
          },
          "hoverlabel": {
           "align": "left"
          },
          "hovermode": "closest",
          "mapbox": {
           "style": "light"
          },
          "paper_bgcolor": "white",
          "plot_bgcolor": "#E5ECF6",
          "polar": {
           "angularaxis": {
            "gridcolor": "white",
            "linecolor": "white",
            "ticks": ""
           },
           "bgcolor": "#E5ECF6",
           "radialaxis": {
            "gridcolor": "white",
            "linecolor": "white",
            "ticks": ""
           }
          },
          "scene": {
           "xaxis": {
            "backgroundcolor": "#E5ECF6",
            "gridcolor": "white",
            "gridwidth": 2,
            "linecolor": "white",
            "showbackground": true,
            "ticks": "",
            "zerolinecolor": "white"
           },
           "yaxis": {
            "backgroundcolor": "#E5ECF6",
            "gridcolor": "white",
            "gridwidth": 2,
            "linecolor": "white",
            "showbackground": true,
            "ticks": "",
            "zerolinecolor": "white"
           },
           "zaxis": {
            "backgroundcolor": "#E5ECF6",
            "gridcolor": "white",
            "gridwidth": 2,
            "linecolor": "white",
            "showbackground": true,
            "ticks": "",
            "zerolinecolor": "white"
           }
          },
          "shapedefaults": {
           "line": {
            "color": "#2a3f5f"
           }
          },
          "ternary": {
           "aaxis": {
            "gridcolor": "white",
            "linecolor": "white",
            "ticks": ""
           },
           "baxis": {
            "gridcolor": "white",
            "linecolor": "white",
            "ticks": ""
           },
           "bgcolor": "#E5ECF6",
           "caxis": {
            "gridcolor": "white",
            "linecolor": "white",
            "ticks": ""
           }
          },
          "title": {
           "x": 0.05
          },
          "xaxis": {
           "automargin": true,
           "gridcolor": "white",
           "linecolor": "white",
           "ticks": "",
           "title": {
            "standoff": 15
           },
           "zerolinecolor": "white",
           "zerolinewidth": 2
          },
          "yaxis": {
           "automargin": true,
           "gridcolor": "white",
           "linecolor": "white",
           "ticks": "",
           "title": {
            "standoff": 15
           },
           "zerolinecolor": "white",
           "zerolinewidth": 2
          }
         }
        },
        "title": {
         "text": "Distribusi Global Kata vs Tanda Baca"
        }
       }
      }
     },
     "metadata": {},
     "output_type": "display_data"
    }
   ],
   "source": [
    "# === 6. Grafik interaktif ===\n",
    "# Bar chart jumlah kalimat per dokumen\n",
    "fig1 = px.bar(\n",
    "    df_summary, x=\"Jumlah Kalimat\", y=\"File\", color=\"File\",\n",
    "    title=\"Jumlah Kalimat per Dokumen\",\n",
    "    labels={\"Jumlah Kalimat\": \"Jumlah Kalimat\", \"File\": \"Dokumen\"},\n",
    "    text=\"Jumlah Kalimat\"\n",
    ")\n",
    "fig1.update_traces(textposition=\"outside\")\n",
    "fig1.show()\n",
    "\n",
    "# Pie chart global\n",
    "total_words = df[\"Jumlah Kata\"].sum()\n",
    "total_punct = df[\"Jumlah Tanda Baca\"].sum()\n",
    "fig2 = go.Figure(data=[go.Pie(\n",
    "    labels=[\"Kata\", \"Tanda Baca\"],\n",
    "    values=[total_words, total_punct],\n",
    "    hole=0.4\n",
    ")])\n",
    "fig2.update_layout(title_text=\"Distribusi Global Kata vs Tanda Baca\")\n",
    "fig2.show()\n"
   ]
  },
  {
   "cell_type": "code",
   "execution_count": 7,
   "id": "7c6fd6d1",
   "metadata": {},
   "outputs": [
    {
     "data": {
      "application/vnd.plotly.v1+json": {
       "config": {
        "plotlyServerURL": "https://plot.ly"
       },
       "data": [
        {
         "alignmentgroup": "True",
         "hovertemplate": "Kata=%{x}<br>Frekuensi=%{text}<extra></extra>",
         "legendgroup": "",
         "marker": {
          "color": "#636efa",
          "pattern": {
           "shape": ""
          }
         },
         "name": "",
         "offsetgroup": "",
         "orientation": "v",
         "showlegend": false,
         "text": [
          541,
          528,
          508,
          336,
          257,
          248,
          236,
          234,
          213,
          153,
          147,
          110,
          105,
          103,
          103
         ],
         "textposition": "outside",
         "type": "bar",
         "x": [
          "nu",
          "teu",
          "ka",
          "ku",
          "jeung",
          "geus",
          "anu",
          "di",
          "atawa",
          "ti",
          "aya",
          "deui",
          "jadi",
          "pisan",
          "nya"
         ],
         "xaxis": "x",
         "y": [
          541,
          528,
          508,
          336,
          257,
          248,
          236,
          234,
          213,
          153,
          147,
          110,
          105,
          103,
          103
         ],
         "yaxis": "y"
        }
       ],
       "layout": {
        "barmode": "relative",
        "legend": {
         "tracegroupgap": 0
        },
        "template": {
         "data": {
          "bar": [
           {
            "error_x": {
             "color": "#2a3f5f"
            },
            "error_y": {
             "color": "#2a3f5f"
            },
            "marker": {
             "line": {
              "color": "#E5ECF6",
              "width": 0.5
             },
             "pattern": {
              "fillmode": "overlay",
              "size": 10,
              "solidity": 0.2
             }
            },
            "type": "bar"
           }
          ],
          "barpolar": [
           {
            "marker": {
             "line": {
              "color": "#E5ECF6",
              "width": 0.5
             },
             "pattern": {
              "fillmode": "overlay",
              "size": 10,
              "solidity": 0.2
             }
            },
            "type": "barpolar"
           }
          ],
          "carpet": [
           {
            "aaxis": {
             "endlinecolor": "#2a3f5f",
             "gridcolor": "white",
             "linecolor": "white",
             "minorgridcolor": "white",
             "startlinecolor": "#2a3f5f"
            },
            "baxis": {
             "endlinecolor": "#2a3f5f",
             "gridcolor": "white",
             "linecolor": "white",
             "minorgridcolor": "white",
             "startlinecolor": "#2a3f5f"
            },
            "type": "carpet"
           }
          ],
          "choropleth": [
           {
            "colorbar": {
             "outlinewidth": 0,
             "ticks": ""
            },
            "type": "choropleth"
           }
          ],
          "contour": [
           {
            "colorbar": {
             "outlinewidth": 0,
             "ticks": ""
            },
            "colorscale": [
             [
              0,
              "#0d0887"
             ],
             [
              0.1111111111111111,
              "#46039f"
             ],
             [
              0.2222222222222222,
              "#7201a8"
             ],
             [
              0.3333333333333333,
              "#9c179e"
             ],
             [
              0.4444444444444444,
              "#bd3786"
             ],
             [
              0.5555555555555556,
              "#d8576b"
             ],
             [
              0.6666666666666666,
              "#ed7953"
             ],
             [
              0.7777777777777778,
              "#fb9f3a"
             ],
             [
              0.8888888888888888,
              "#fdca26"
             ],
             [
              1,
              "#f0f921"
             ]
            ],
            "type": "contour"
           }
          ],
          "contourcarpet": [
           {
            "colorbar": {
             "outlinewidth": 0,
             "ticks": ""
            },
            "type": "contourcarpet"
           }
          ],
          "heatmap": [
           {
            "colorbar": {
             "outlinewidth": 0,
             "ticks": ""
            },
            "colorscale": [
             [
              0,
              "#0d0887"
             ],
             [
              0.1111111111111111,
              "#46039f"
             ],
             [
              0.2222222222222222,
              "#7201a8"
             ],
             [
              0.3333333333333333,
              "#9c179e"
             ],
             [
              0.4444444444444444,
              "#bd3786"
             ],
             [
              0.5555555555555556,
              "#d8576b"
             ],
             [
              0.6666666666666666,
              "#ed7953"
             ],
             [
              0.7777777777777778,
              "#fb9f3a"
             ],
             [
              0.8888888888888888,
              "#fdca26"
             ],
             [
              1,
              "#f0f921"
             ]
            ],
            "type": "heatmap"
           }
          ],
          "heatmapgl": [
           {
            "colorbar": {
             "outlinewidth": 0,
             "ticks": ""
            },
            "colorscale": [
             [
              0,
              "#0d0887"
             ],
             [
              0.1111111111111111,
              "#46039f"
             ],
             [
              0.2222222222222222,
              "#7201a8"
             ],
             [
              0.3333333333333333,
              "#9c179e"
             ],
             [
              0.4444444444444444,
              "#bd3786"
             ],
             [
              0.5555555555555556,
              "#d8576b"
             ],
             [
              0.6666666666666666,
              "#ed7953"
             ],
             [
              0.7777777777777778,
              "#fb9f3a"
             ],
             [
              0.8888888888888888,
              "#fdca26"
             ],
             [
              1,
              "#f0f921"
             ]
            ],
            "type": "heatmapgl"
           }
          ],
          "histogram": [
           {
            "marker": {
             "pattern": {
              "fillmode": "overlay",
              "size": 10,
              "solidity": 0.2
             }
            },
            "type": "histogram"
           }
          ],
          "histogram2d": [
           {
            "colorbar": {
             "outlinewidth": 0,
             "ticks": ""
            },
            "colorscale": [
             [
              0,
              "#0d0887"
             ],
             [
              0.1111111111111111,
              "#46039f"
             ],
             [
              0.2222222222222222,
              "#7201a8"
             ],
             [
              0.3333333333333333,
              "#9c179e"
             ],
             [
              0.4444444444444444,
              "#bd3786"
             ],
             [
              0.5555555555555556,
              "#d8576b"
             ],
             [
              0.6666666666666666,
              "#ed7953"
             ],
             [
              0.7777777777777778,
              "#fb9f3a"
             ],
             [
              0.8888888888888888,
              "#fdca26"
             ],
             [
              1,
              "#f0f921"
             ]
            ],
            "type": "histogram2d"
           }
          ],
          "histogram2dcontour": [
           {
            "colorbar": {
             "outlinewidth": 0,
             "ticks": ""
            },
            "colorscale": [
             [
              0,
              "#0d0887"
             ],
             [
              0.1111111111111111,
              "#46039f"
             ],
             [
              0.2222222222222222,
              "#7201a8"
             ],
             [
              0.3333333333333333,
              "#9c179e"
             ],
             [
              0.4444444444444444,
              "#bd3786"
             ],
             [
              0.5555555555555556,
              "#d8576b"
             ],
             [
              0.6666666666666666,
              "#ed7953"
             ],
             [
              0.7777777777777778,
              "#fb9f3a"
             ],
             [
              0.8888888888888888,
              "#fdca26"
             ],
             [
              1,
              "#f0f921"
             ]
            ],
            "type": "histogram2dcontour"
           }
          ],
          "mesh3d": [
           {
            "colorbar": {
             "outlinewidth": 0,
             "ticks": ""
            },
            "type": "mesh3d"
           }
          ],
          "parcoords": [
           {
            "line": {
             "colorbar": {
              "outlinewidth": 0,
              "ticks": ""
             }
            },
            "type": "parcoords"
           }
          ],
          "pie": [
           {
            "automargin": true,
            "type": "pie"
           }
          ],
          "scatter": [
           {
            "fillpattern": {
             "fillmode": "overlay",
             "size": 10,
             "solidity": 0.2
            },
            "type": "scatter"
           }
          ],
          "scatter3d": [
           {
            "line": {
             "colorbar": {
              "outlinewidth": 0,
              "ticks": ""
             }
            },
            "marker": {
             "colorbar": {
              "outlinewidth": 0,
              "ticks": ""
             }
            },
            "type": "scatter3d"
           }
          ],
          "scattercarpet": [
           {
            "marker": {
             "colorbar": {
              "outlinewidth": 0,
              "ticks": ""
             }
            },
            "type": "scattercarpet"
           }
          ],
          "scattergeo": [
           {
            "marker": {
             "colorbar": {
              "outlinewidth": 0,
              "ticks": ""
             }
            },
            "type": "scattergeo"
           }
          ],
          "scattergl": [
           {
            "marker": {
             "colorbar": {
              "outlinewidth": 0,
              "ticks": ""
             }
            },
            "type": "scattergl"
           }
          ],
          "scattermapbox": [
           {
            "marker": {
             "colorbar": {
              "outlinewidth": 0,
              "ticks": ""
             }
            },
            "type": "scattermapbox"
           }
          ],
          "scatterpolar": [
           {
            "marker": {
             "colorbar": {
              "outlinewidth": 0,
              "ticks": ""
             }
            },
            "type": "scatterpolar"
           }
          ],
          "scatterpolargl": [
           {
            "marker": {
             "colorbar": {
              "outlinewidth": 0,
              "ticks": ""
             }
            },
            "type": "scatterpolargl"
           }
          ],
          "scatterternary": [
           {
            "marker": {
             "colorbar": {
              "outlinewidth": 0,
              "ticks": ""
             }
            },
            "type": "scatterternary"
           }
          ],
          "surface": [
           {
            "colorbar": {
             "outlinewidth": 0,
             "ticks": ""
            },
            "colorscale": [
             [
              0,
              "#0d0887"
             ],
             [
              0.1111111111111111,
              "#46039f"
             ],
             [
              0.2222222222222222,
              "#7201a8"
             ],
             [
              0.3333333333333333,
              "#9c179e"
             ],
             [
              0.4444444444444444,
              "#bd3786"
             ],
             [
              0.5555555555555556,
              "#d8576b"
             ],
             [
              0.6666666666666666,
              "#ed7953"
             ],
             [
              0.7777777777777778,
              "#fb9f3a"
             ],
             [
              0.8888888888888888,
              "#fdca26"
             ],
             [
              1,
              "#f0f921"
             ]
            ],
            "type": "surface"
           }
          ],
          "table": [
           {
            "cells": {
             "fill": {
              "color": "#EBF0F8"
             },
             "line": {
              "color": "white"
             }
            },
            "header": {
             "fill": {
              "color": "#C8D4E3"
             },
             "line": {
              "color": "white"
             }
            },
            "type": "table"
           }
          ]
         },
         "layout": {
          "annotationdefaults": {
           "arrowcolor": "#2a3f5f",
           "arrowhead": 0,
           "arrowwidth": 1
          },
          "autotypenumbers": "strict",
          "coloraxis": {
           "colorbar": {
            "outlinewidth": 0,
            "ticks": ""
           }
          },
          "colorscale": {
           "diverging": [
            [
             0,
             "#8e0152"
            ],
            [
             0.1,
             "#c51b7d"
            ],
            [
             0.2,
             "#de77ae"
            ],
            [
             0.3,
             "#f1b6da"
            ],
            [
             0.4,
             "#fde0ef"
            ],
            [
             0.5,
             "#f7f7f7"
            ],
            [
             0.6,
             "#e6f5d0"
            ],
            [
             0.7,
             "#b8e186"
            ],
            [
             0.8,
             "#7fbc41"
            ],
            [
             0.9,
             "#4d9221"
            ],
            [
             1,
             "#276419"
            ]
           ],
           "sequential": [
            [
             0,
             "#0d0887"
            ],
            [
             0.1111111111111111,
             "#46039f"
            ],
            [
             0.2222222222222222,
             "#7201a8"
            ],
            [
             0.3333333333333333,
             "#9c179e"
            ],
            [
             0.4444444444444444,
             "#bd3786"
            ],
            [
             0.5555555555555556,
             "#d8576b"
            ],
            [
             0.6666666666666666,
             "#ed7953"
            ],
            [
             0.7777777777777778,
             "#fb9f3a"
            ],
            [
             0.8888888888888888,
             "#fdca26"
            ],
            [
             1,
             "#f0f921"
            ]
           ],
           "sequentialminus": [
            [
             0,
             "#0d0887"
            ],
            [
             0.1111111111111111,
             "#46039f"
            ],
            [
             0.2222222222222222,
             "#7201a8"
            ],
            [
             0.3333333333333333,
             "#9c179e"
            ],
            [
             0.4444444444444444,
             "#bd3786"
            ],
            [
             0.5555555555555556,
             "#d8576b"
            ],
            [
             0.6666666666666666,
             "#ed7953"
            ],
            [
             0.7777777777777778,
             "#fb9f3a"
            ],
            [
             0.8888888888888888,
             "#fdca26"
            ],
            [
             1,
             "#f0f921"
            ]
           ]
          },
          "colorway": [
           "#636efa",
           "#EF553B",
           "#00cc96",
           "#ab63fa",
           "#FFA15A",
           "#19d3f3",
           "#FF6692",
           "#B6E880",
           "#FF97FF",
           "#FECB52"
          ],
          "font": {
           "color": "#2a3f5f"
          },
          "geo": {
           "bgcolor": "white",
           "lakecolor": "white",
           "landcolor": "#E5ECF6",
           "showlakes": true,
           "showland": true,
           "subunitcolor": "white"
          },
          "hoverlabel": {
           "align": "left"
          },
          "hovermode": "closest",
          "mapbox": {
           "style": "light"
          },
          "paper_bgcolor": "white",
          "plot_bgcolor": "#E5ECF6",
          "polar": {
           "angularaxis": {
            "gridcolor": "white",
            "linecolor": "white",
            "ticks": ""
           },
           "bgcolor": "#E5ECF6",
           "radialaxis": {
            "gridcolor": "white",
            "linecolor": "white",
            "ticks": ""
           }
          },
          "scene": {
           "xaxis": {
            "backgroundcolor": "#E5ECF6",
            "gridcolor": "white",
            "gridwidth": 2,
            "linecolor": "white",
            "showbackground": true,
            "ticks": "",
            "zerolinecolor": "white"
           },
           "yaxis": {
            "backgroundcolor": "#E5ECF6",
            "gridcolor": "white",
            "gridwidth": 2,
            "linecolor": "white",
            "showbackground": true,
            "ticks": "",
            "zerolinecolor": "white"
           },
           "zaxis": {
            "backgroundcolor": "#E5ECF6",
            "gridcolor": "white",
            "gridwidth": 2,
            "linecolor": "white",
            "showbackground": true,
            "ticks": "",
            "zerolinecolor": "white"
           }
          },
          "shapedefaults": {
           "line": {
            "color": "#2a3f5f"
           }
          },
          "ternary": {
           "aaxis": {
            "gridcolor": "white",
            "linecolor": "white",
            "ticks": ""
           },
           "baxis": {
            "gridcolor": "white",
            "linecolor": "white",
            "ticks": ""
           },
           "bgcolor": "#E5ECF6",
           "caxis": {
            "gridcolor": "white",
            "linecolor": "white",
            "ticks": ""
           }
          },
          "title": {
           "x": 0.05
          },
          "xaxis": {
           "automargin": true,
           "gridcolor": "white",
           "linecolor": "white",
           "ticks": "",
           "title": {
            "standoff": 15
           },
           "zerolinecolor": "white",
           "zerolinewidth": 2
          },
          "yaxis": {
           "automargin": true,
           "gridcolor": "white",
           "linecolor": "white",
           "ticks": "",
           "title": {
            "standoff": 15
           },
           "zerolinecolor": "white",
           "zerolinewidth": 2
          }
         }
        },
        "title": {
         "text": "15 Kata Paling Sering Muncul (Semua File)"
        },
        "xaxis": {
         "anchor": "y",
         "domain": [
          0,
          1
         ],
         "title": {
          "text": "Kata"
         }
        },
        "yaxis": {
         "anchor": "x",
         "domain": [
          0,
          1
         ],
         "title": {
          "text": "Frekuensi"
         }
        }
       }
      }
     },
     "metadata": {},
     "output_type": "display_data"
    }
   ],
   "source": [
    "# === 7. Analisis tambahan: kata paling sering muncul ===\n",
    "from collections import Counter\n",
    "\n",
    "words_all = []\n",
    "for file in files:\n",
    "    with open(file, \"r\", encoding=\"utf-8\") as f:\n",
    "        text = f.read()\n",
    "    tokens = re.findall(r\"\\w+\", text.lower())\n",
    "    words_all.extend(tokens)\n",
    "\n",
    "word_freq = Counter(words_all).most_common(15)\n",
    "df_wordfreq = pd.DataFrame(word_freq, columns=[\"Kata\", \"Frekuensi\"])\n",
    "\n",
    "fig4 = px.bar(\n",
    "    df_wordfreq, x=\"Kata\", y=\"Frekuensi\",\n",
    "    title=\"15 Kata Paling Sering Muncul (Semua File)\",\n",
    "    text=\"Frekuensi\"\n",
    ")\n",
    "fig4.update_traces(textposition=\"outside\")\n",
    "fig4.show()\n"
   ]
  },
  {
   "cell_type": "code",
   "execution_count": null,
   "id": "c3e332ea",
   "metadata": {},
   "outputs": [
    {
     "name": "stdout",
     "output_type": "stream",
     "text": [
      "=== Statistik Kata ===\n",
      "Total kata        : 33048\n",
      "Kata terproses    : 27549\n",
      "Kata OOV (tidak ditemukan) : 5499\n"
     ]
    },
    {
     "data": {
      "application/vnd.plotly.v1+json": {
       "config": {
        "plotlyServerURL": "https://plot.ly"
       },
       "data": [
        {
         "colorscale": [
          [
           0,
           "#00083e"
          ],
          [
           0.5,
           "#ededee"
          ],
          [
           1,
           "#ffffff"
          ]
         ],
         "hoverinfo": "none",
         "opacity": 0.75,
         "showscale": false,
         "type": "heatmap",
         "z": [
          [
           0,
           0,
           0,
           0,
           0
          ],
          [
           0.5,
           0.5,
           0.5,
           0.5,
           0.5
          ],
          [
           1,
           1,
           1,
           1,
           1
          ],
          [
           0.5,
           0.5,
           0.5,
           0.5,
           0.5
          ],
          [
           1,
           1,
           1,
           1,
           1
          ],
          [
           0.5,
           0.5,
           0.5,
           0.5,
           0.5
          ],
          [
           1,
           1,
           1,
           1,
           1
          ],
          [
           0.5,
           0.5,
           0.5,
           0.5,
           0.5
          ],
          [
           1,
           1,
           1,
           1,
           1
          ],
          [
           0.5,
           0.5,
           0.5,
           0.5,
           0.5
          ],
          [
           1,
           1,
           1,
           1,
           1
          ],
          [
           0.5,
           0.5,
           0.5,
           0.5,
           0.5
          ],
          [
           1,
           1,
           1,
           1,
           1
          ],
          [
           0.5,
           0.5,
           0.5,
           0.5,
           0.5
          ],
          [
           1,
           1,
           1,
           1,
           1
          ],
          [
           0.5,
           0.5,
           0.5,
           0.5,
           0.5
          ],
          [
           1,
           1,
           1,
           1,
           1
          ],
          [
           0.5,
           0.5,
           0.5,
           0.5,
           0.5
          ],
          [
           1,
           1,
           1,
           1,
           1
          ],
          [
           0.5,
           0.5,
           0.5,
           0.5,
           0.5
          ],
          [
           1,
           1,
           1,
           1,
           1
          ],
          [
           0.5,
           0.5,
           0.5,
           0.5,
           0.5
          ],
          [
           1,
           1,
           1,
           1,
           1
          ],
          [
           0.5,
           0.5,
           0.5,
           0.5,
           0.5
          ],
          [
           1,
           1,
           1,
           1,
           1
          ],
          [
           0.5,
           0.5,
           0.5,
           0.5,
           0.5
          ],
          [
           1,
           1,
           1,
           1,
           1
          ],
          [
           0.5,
           0.5,
           0.5,
           0.5,
           0.5
          ],
          [
           1,
           1,
           1,
           1,
           1
          ],
          [
           0.5,
           0.5,
           0.5,
           0.5,
           0.5
          ],
          [
           1,
           1,
           1,
           1,
           1
          ],
          [
           0.5,
           0.5,
           0.5,
           0.5,
           0.5
          ],
          [
           1,
           1,
           1,
           1,
           1
          ],
          [
           0.5,
           0.5,
           0.5,
           0.5,
           0.5
          ],
          [
           1,
           1,
           1,
           1,
           1
          ],
          [
           0.5,
           0.5,
           0.5,
           0.5,
           0.5
          ],
          [
           1,
           1,
           1,
           1,
           1
          ],
          [
           0.5,
           0.5,
           0.5,
           0.5,
           0.5
          ],
          [
           1,
           1,
           1,
           1,
           1
          ],
          [
           0.5,
           0.5,
           0.5,
           0.5,
           0.5
          ],
          [
           1,
           1,
           1,
           1,
           1
          ],
          [
           0.5,
           0.5,
           0.5,
           0.5,
           0.5
          ],
          [
           1,
           1,
           1,
           1,
           1
          ],
          [
           0.5,
           0.5,
           0.5,
           0.5,
           0.5
          ],
          [
           1,
           1,
           1,
           1,
           1
          ],
          [
           0.5,
           0.5,
           0.5,
           0.5,
           0.5
          ],
          [
           1,
           1,
           1,
           1,
           1
          ],
          [
           0.5,
           0.5,
           0.5,
           0.5,
           0.5
          ],
          [
           1,
           1,
           1,
           1,
           1
          ],
          [
           0.5,
           0.5,
           0.5,
           0.5,
           0.5
          ],
          [
           1,
           1,
           1,
           1,
           1
          ]
         ]
        }
       ],
       "layout": {
        "annotations": [
         {
          "align": "left",
          "font": {
           "color": "#ffffff"
          },
          "showarrow": false,
          "text": "<b>File</b>",
          "x": -0.45,
          "xanchor": "left",
          "xref": "x",
          "y": 0,
          "yref": "y"
         },
         {
          "align": "left",
          "font": {
           "color": "#ffffff"
          },
          "showarrow": false,
          "text": "<b>Kalimat ke</b>",
          "x": 0.55,
          "xanchor": "left",
          "xref": "x",
          "y": 0,
          "yref": "y"
         },
         {
          "align": "left",
          "font": {
           "color": "#ffffff"
          },
          "showarrow": false,
          "text": "<b>Kata</b>",
          "x": 1.55,
          "xanchor": "left",
          "xref": "x",
          "y": 0,
          "yref": "y"
         },
         {
          "align": "left",
          "font": {
           "color": "#ffffff"
          },
          "showarrow": false,
          "text": "<b>POS Universal</b>",
          "x": 2.55,
          "xanchor": "left",
          "xref": "x",
          "y": 0,
          "yref": "y"
         },
         {
          "align": "left",
          "font": {
           "color": "#ffffff"
          },
          "showarrow": false,
          "text": "<b>POS Custom</b>",
          "x": 3.55,
          "xanchor": "left",
          "xref": "x",
          "y": 0,
          "yref": "y"
         },
         {
          "align": "left",
          "font": {
           "color": "#000000"
          },
          "showarrow": false,
          "text": "datatext\\babasan-paribasa.txt",
          "x": -0.45,
          "xanchor": "left",
          "xref": "x",
          "y": 1,
          "yref": "y"
         },
         {
          "align": "left",
          "font": {
           "color": "#000000"
          },
          "showarrow": false,
          "text": "1",
          "x": 0.55,
          "xanchor": "left",
          "xref": "x",
          "y": 1,
          "yref": "y"
         },
         {
          "align": "left",
          "font": {
           "color": "#000000"
          },
          "showarrow": false,
          "text": "Abang",
          "x": 1.55,
          "xanchor": "left",
          "xref": "x",
          "y": 1,
          "yref": "y"
         },
         {
          "align": "left",
          "font": {
           "color": "#000000"
          },
          "showarrow": false,
          "text": "UNK",
          "x": 2.55,
          "xanchor": "left",
          "xref": "x",
          "y": 1,
          "yref": "y"
         },
         {
          "align": "left",
          "font": {
           "color": "#000000"
          },
          "showarrow": false,
          "text": "UNK",
          "x": 3.55,
          "xanchor": "left",
          "xref": "x",
          "y": 1,
          "yref": "y"
         },
         {
          "align": "left",
          "font": {
           "color": "#000000"
          },
          "showarrow": false,
          "text": "datatext\\babasan-paribasa.txt",
          "x": -0.45,
          "xanchor": "left",
          "xref": "x",
          "y": 2,
          "yref": "y"
         },
         {
          "align": "left",
          "font": {
           "color": "#000000"
          },
          "showarrow": false,
          "text": "1",
          "x": 0.55,
          "xanchor": "left",
          "xref": "x",
          "y": 2,
          "yref": "y"
         },
         {
          "align": "left",
          "font": {
           "color": "#000000"
          },
          "showarrow": false,
          "text": "-",
          "x": 1.55,
          "xanchor": "left",
          "xref": "x",
          "y": 2,
          "yref": "y"
         },
         {
          "align": "left",
          "font": {
           "color": "#000000"
          },
          "showarrow": false,
          "text": "PUNCT",
          "x": 2.55,
          "xanchor": "left",
          "xref": "x",
          "y": 2,
          "yref": "y"
         },
         {
          "align": "left",
          "font": {
           "color": "#000000"
          },
          "showarrow": false,
          "text": "TANDA_BACA",
          "x": 3.55,
          "xanchor": "left",
          "xref": "x",
          "y": 2,
          "yref": "y"
         },
         {
          "align": "left",
          "font": {
           "color": "#000000"
          },
          "showarrow": false,
          "text": "datatext\\babasan-paribasa.txt",
          "x": -0.45,
          "xanchor": "left",
          "xref": "x",
          "y": 3,
          "yref": "y"
         },
         {
          "align": "left",
          "font": {
           "color": "#000000"
          },
          "showarrow": false,
          "text": "1",
          "x": 0.55,
          "xanchor": "left",
          "xref": "x",
          "y": 3,
          "yref": "y"
         },
         {
          "align": "left",
          "font": {
           "color": "#000000"
          },
          "showarrow": false,
          "text": "abang",
          "x": 1.55,
          "xanchor": "left",
          "xref": "x",
          "y": 3,
          "yref": "y"
         },
         {
          "align": "left",
          "font": {
           "color": "#000000"
          },
          "showarrow": false,
          "text": "UNK",
          "x": 2.55,
          "xanchor": "left",
          "xref": "x",
          "y": 3,
          "yref": "y"
         },
         {
          "align": "left",
          "font": {
           "color": "#000000"
          },
          "showarrow": false,
          "text": "UNK",
          "x": 3.55,
          "xanchor": "left",
          "xref": "x",
          "y": 3,
          "yref": "y"
         },
         {
          "align": "left",
          "font": {
           "color": "#000000"
          },
          "showarrow": false,
          "text": "datatext\\babasan-paribasa.txt",
          "x": -0.45,
          "xanchor": "left",
          "xref": "x",
          "y": 4,
          "yref": "y"
         },
         {
          "align": "left",
          "font": {
           "color": "#000000"
          },
          "showarrow": false,
          "text": "1",
          "x": 0.55,
          "xanchor": "left",
          "xref": "x",
          "y": 4,
          "yref": "y"
         },
         {
          "align": "left",
          "font": {
           "color": "#000000"
          },
          "showarrow": false,
          "text": "lambé",
          "x": 1.55,
          "xanchor": "left",
          "xref": "x",
          "y": 4,
          "yref": "y"
         },
         {
          "align": "left",
          "font": {
           "color": "#000000"
          },
          "showarrow": false,
          "text": "NOUN",
          "x": 2.55,
          "xanchor": "left",
          "xref": "x",
          "y": 4,
          "yref": "y"
         },
         {
          "align": "left",
          "font": {
           "color": "#000000"
          },
          "showarrow": false,
          "text": "KB",
          "x": 3.55,
          "xanchor": "left",
          "xref": "x",
          "y": 4,
          "yref": "y"
         },
         {
          "align": "left",
          "font": {
           "color": "#000000"
          },
          "showarrow": false,
          "text": "datatext\\babasan-paribasa.txt",
          "x": -0.45,
          "xanchor": "left",
          "xref": "x",
          "y": 5,
          "yref": "y"
         },
         {
          "align": "left",
          "font": {
           "color": "#000000"
          },
          "showarrow": false,
          "text": "1",
          "x": 0.55,
          "xanchor": "left",
          "xref": "x",
          "y": 5,
          "yref": "y"
         },
         {
          "align": "left",
          "font": {
           "color": "#000000"
          },
          "showarrow": false,
          "text": "=",
          "x": 1.55,
          "xanchor": "left",
          "xref": "x",
          "y": 5,
          "yref": "y"
         },
         {
          "align": "left",
          "font": {
           "color": "#000000"
          },
          "showarrow": false,
          "text": "PUNCT",
          "x": 2.55,
          "xanchor": "left",
          "xref": "x",
          "y": 5,
          "yref": "y"
         },
         {
          "align": "left",
          "font": {
           "color": "#000000"
          },
          "showarrow": false,
          "text": "TANDA_BACA",
          "x": 3.55,
          "xanchor": "left",
          "xref": "x",
          "y": 5,
          "yref": "y"
         },
         {
          "align": "left",
          "font": {
           "color": "#000000"
          },
          "showarrow": false,
          "text": "datatext\\babasan-paribasa.txt",
          "x": -0.45,
          "xanchor": "left",
          "xref": "x",
          "y": 6,
          "yref": "y"
         },
         {
          "align": "left",
          "font": {
           "color": "#000000"
          },
          "showarrow": false,
          "text": "1",
          "x": 0.55,
          "xanchor": "left",
          "xref": "x",
          "y": 6,
          "yref": "y"
         },
         {
          "align": "left",
          "font": {
           "color": "#000000"
          },
          "showarrow": false,
          "text": "beureum",
          "x": 1.55,
          "xanchor": "left",
          "xref": "x",
          "y": 6,
          "yref": "y"
         },
         {
          "align": "left",
          "font": {
           "color": "#000000"
          },
          "showarrow": false,
          "text": "ADJ",
          "x": 2.55,
          "xanchor": "left",
          "xref": "x",
          "y": 6,
          "yref": "y"
         },
         {
          "align": "left",
          "font": {
           "color": "#000000"
          },
          "showarrow": false,
          "text": "KS",
          "x": 3.55,
          "xanchor": "left",
          "xref": "x",
          "y": 6,
          "yref": "y"
         },
         {
          "align": "left",
          "font": {
           "color": "#000000"
          },
          "showarrow": false,
          "text": "datatext\\babasan-paribasa.txt",
          "x": -0.45,
          "xanchor": "left",
          "xref": "x",
          "y": 7,
          "yref": "y"
         },
         {
          "align": "left",
          "font": {
           "color": "#000000"
          },
          "showarrow": false,
          "text": "1",
          "x": 0.55,
          "xanchor": "left",
          "xref": "x",
          "y": 7,
          "yref": "y"
         },
         {
          "align": "left",
          "font": {
           "color": "#000000"
          },
          "showarrow": false,
          "text": "biwirna",
          "x": 1.55,
          "xanchor": "left",
          "xref": "x",
          "y": 7,
          "yref": "y"
         },
         {
          "align": "left",
          "font": {
           "color": "#000000"
          },
          "showarrow": false,
          "text": "UNK",
          "x": 2.55,
          "xanchor": "left",
          "xref": "x",
          "y": 7,
          "yref": "y"
         },
         {
          "align": "left",
          "font": {
           "color": "#000000"
          },
          "showarrow": false,
          "text": "UNK",
          "x": 3.55,
          "xanchor": "left",
          "xref": "x",
          "y": 7,
          "yref": "y"
         },
         {
          "align": "left",
          "font": {
           "color": "#000000"
          },
          "showarrow": false,
          "text": "datatext\\babasan-paribasa.txt",
          "x": -0.45,
          "xanchor": "left",
          "xref": "x",
          "y": 8,
          "yref": "y"
         },
         {
          "align": "left",
          "font": {
           "color": "#000000"
          },
          "showarrow": false,
          "text": "1",
          "x": 0.55,
          "xanchor": "left",
          "xref": "x",
          "y": 8,
          "yref": "y"
         },
         {
          "align": "left",
          "font": {
           "color": "#000000"
          },
          "showarrow": false,
          "text": "wungkul",
          "x": 1.55,
          "xanchor": "left",
          "xref": "x",
          "y": 8,
          "yref": "y"
         },
         {
          "align": "left",
          "font": {
           "color": "#000000"
          },
          "showarrow": false,
          "text": "ADV",
          "x": 2.55,
          "xanchor": "left",
          "xref": "x",
          "y": 8,
          "yref": "y"
         },
         {
          "align": "left",
          "font": {
           "color": "#000000"
          },
          "showarrow": false,
          "text": "KT",
          "x": 3.55,
          "xanchor": "left",
          "xref": "x",
          "y": 8,
          "yref": "y"
         },
         {
          "align": "left",
          "font": {
           "color": "#000000"
          },
          "showarrow": false,
          "text": "datatext\\babasan-paribasa.txt",
          "x": -0.45,
          "xanchor": "left",
          "xref": "x",
          "y": 9,
          "yref": "y"
         },
         {
          "align": "left",
          "font": {
           "color": "#000000"
          },
          "showarrow": false,
          "text": "1",
          "x": 0.55,
          "xanchor": "left",
          "xref": "x",
          "y": 9,
          "yref": "y"
         },
         {
          "align": "left",
          "font": {
           "color": "#000000"
          },
          "showarrow": false,
          "text": ",",
          "x": 1.55,
          "xanchor": "left",
          "xref": "x",
          "y": 9,
          "yref": "y"
         },
         {
          "align": "left",
          "font": {
           "color": "#000000"
          },
          "showarrow": false,
          "text": "PUNCT",
          "x": 2.55,
          "xanchor": "left",
          "xref": "x",
          "y": 9,
          "yref": "y"
         },
         {
          "align": "left",
          "font": {
           "color": "#000000"
          },
          "showarrow": false,
          "text": "TANDA_BACA",
          "x": 3.55,
          "xanchor": "left",
          "xref": "x",
          "y": 9,
          "yref": "y"
         },
         {
          "align": "left",
          "font": {
           "color": "#000000"
          },
          "showarrow": false,
          "text": "datatext\\babasan-paribasa.txt",
          "x": -0.45,
          "xanchor": "left",
          "xref": "x",
          "y": 10,
          "yref": "y"
         },
         {
          "align": "left",
          "font": {
           "color": "#000000"
          },
          "showarrow": false,
          "text": "1",
          "x": 0.55,
          "xanchor": "left",
          "xref": "x",
          "y": 10,
          "yref": "y"
         },
         {
          "align": "left",
          "font": {
           "color": "#000000"
          },
          "showarrow": false,
          "text": "caritaan",
          "x": 1.55,
          "xanchor": "left",
          "xref": "x",
          "y": 10,
          "yref": "y"
         },
         {
          "align": "left",
          "font": {
           "color": "#000000"
          },
          "showarrow": false,
          "text": "UNK",
          "x": 2.55,
          "xanchor": "left",
          "xref": "x",
          "y": 10,
          "yref": "y"
         },
         {
          "align": "left",
          "font": {
           "color": "#000000"
          },
          "showarrow": false,
          "text": "UNK",
          "x": 3.55,
          "xanchor": "left",
          "xref": "x",
          "y": 10,
          "yref": "y"
         },
         {
          "align": "left",
          "font": {
           "color": "#000000"
          },
          "showarrow": false,
          "text": "datatext\\babasan-paribasa.txt",
          "x": -0.45,
          "xanchor": "left",
          "xref": "x",
          "y": 11,
          "yref": "y"
         },
         {
          "align": "left",
          "font": {
           "color": "#000000"
          },
          "showarrow": false,
          "text": "1",
          "x": 0.55,
          "xanchor": "left",
          "xref": "x",
          "y": 11,
          "yref": "y"
         },
         {
          "align": "left",
          "font": {
           "color": "#000000"
          },
          "showarrow": false,
          "text": "nu",
          "x": 1.55,
          "xanchor": "left",
          "xref": "x",
          "y": 11,
          "yref": "y"
         },
         {
          "align": "left",
          "font": {
           "color": "#000000"
          },
          "showarrow": false,
          "text": "PRON",
          "x": 2.55,
          "xanchor": "left",
          "xref": "x",
          "y": 11,
          "yref": "y"
         },
         {
          "align": "left",
          "font": {
           "color": "#000000"
          },
          "showarrow": false,
          "text": "KG",
          "x": 3.55,
          "xanchor": "left",
          "xref": "x",
          "y": 11,
          "yref": "y"
         },
         {
          "align": "left",
          "font": {
           "color": "#000000"
          },
          "showarrow": false,
          "text": "datatext\\babasan-paribasa.txt",
          "x": -0.45,
          "xanchor": "left",
          "xref": "x",
          "y": 12,
          "yref": "y"
         },
         {
          "align": "left",
          "font": {
           "color": "#000000"
          },
          "showarrow": false,
          "text": "1",
          "x": 0.55,
          "xanchor": "left",
          "xref": "x",
          "y": 12,
          "yref": "y"
         },
         {
          "align": "left",
          "font": {
           "color": "#000000"
          },
          "showarrow": false,
          "text": "ngan",
          "x": 1.55,
          "xanchor": "left",
          "xref": "x",
          "y": 12,
          "yref": "y"
         },
         {
          "align": "left",
          "font": {
           "color": "#000000"
          },
          "showarrow": false,
          "text": "ADV",
          "x": 2.55,
          "xanchor": "left",
          "xref": "x",
          "y": 12,
          "yref": "y"
         },
         {
          "align": "left",
          "font": {
           "color": "#000000"
          },
          "showarrow": false,
          "text": "KT",
          "x": 3.55,
          "xanchor": "left",
          "xref": "x",
          "y": 12,
          "yref": "y"
         },
         {
          "align": "left",
          "font": {
           "color": "#000000"
          },
          "showarrow": false,
          "text": "datatext\\babasan-paribasa.txt",
          "x": -0.45,
          "xanchor": "left",
          "xref": "x",
          "y": 13,
          "yref": "y"
         },
         {
          "align": "left",
          "font": {
           "color": "#000000"
          },
          "showarrow": false,
          "text": "1",
          "x": 0.55,
          "xanchor": "left",
          "xref": "x",
          "y": 13,
          "yref": "y"
         },
         {
          "align": "left",
          "font": {
           "color": "#000000"
          },
          "showarrow": false,
          "text": "saukur",
          "x": 1.55,
          "xanchor": "left",
          "xref": "x",
          "y": 13,
          "yref": "y"
         },
         {
          "align": "left",
          "font": {
           "color": "#000000"
          },
          "showarrow": false,
          "text": "UNK",
          "x": 2.55,
          "xanchor": "left",
          "xref": "x",
          "y": 13,
          "yref": "y"
         },
         {
          "align": "left",
          "font": {
           "color": "#000000"
          },
          "showarrow": false,
          "text": "UNK",
          "x": 3.55,
          "xanchor": "left",
          "xref": "x",
          "y": 13,
          "yref": "y"
         },
         {
          "align": "left",
          "font": {
           "color": "#000000"
          },
          "showarrow": false,
          "text": "datatext\\babasan-paribasa.txt",
          "x": -0.45,
          "xanchor": "left",
          "xref": "x",
          "y": 14,
          "yref": "y"
         },
         {
          "align": "left",
          "font": {
           "color": "#000000"
          },
          "showarrow": false,
          "text": "1",
          "x": 0.55,
          "xanchor": "left",
          "xref": "x",
          "y": 14,
          "yref": "y"
         },
         {
          "align": "left",
          "font": {
           "color": "#000000"
          },
          "showarrow": false,
          "text": "keur",
          "x": 1.55,
          "xanchor": "left",
          "xref": "x",
          "y": 14,
          "yref": "y"
         },
         {
          "align": "left",
          "font": {
           "color": "#000000"
          },
          "showarrow": false,
          "text": "UNK",
          "x": 2.55,
          "xanchor": "left",
          "xref": "x",
          "y": 14,
          "yref": "y"
         },
         {
          "align": "left",
          "font": {
           "color": "#000000"
          },
          "showarrow": false,
          "text": "UNK",
          "x": 3.55,
          "xanchor": "left",
          "xref": "x",
          "y": 14,
          "yref": "y"
         },
         {
          "align": "left",
          "font": {
           "color": "#000000"
          },
          "showarrow": false,
          "text": "datatext\\babasan-paribasa.txt",
          "x": -0.45,
          "xanchor": "left",
          "xref": "x",
          "y": 15,
          "yref": "y"
         },
         {
          "align": "left",
          "font": {
           "color": "#000000"
          },
          "showarrow": false,
          "text": "1",
          "x": 0.55,
          "xanchor": "left",
          "xref": "x",
          "y": 15,
          "yref": "y"
         },
         {
          "align": "left",
          "font": {
           "color": "#000000"
          },
          "showarrow": false,
          "text": "ngangeunahkeun",
          "x": 1.55,
          "xanchor": "left",
          "xref": "x",
          "y": 15,
          "yref": "y"
         },
         {
          "align": "left",
          "font": {
           "color": "#000000"
          },
          "showarrow": false,
          "text": "UNK",
          "x": 2.55,
          "xanchor": "left",
          "xref": "x",
          "y": 15,
          "yref": "y"
         },
         {
          "align": "left",
          "font": {
           "color": "#000000"
          },
          "showarrow": false,
          "text": "UNK",
          "x": 3.55,
          "xanchor": "left",
          "xref": "x",
          "y": 15,
          "yref": "y"
         },
         {
          "align": "left",
          "font": {
           "color": "#000000"
          },
          "showarrow": false,
          "text": "datatext\\babasan-paribasa.txt",
          "x": -0.45,
          "xanchor": "left",
          "xref": "x",
          "y": 16,
          "yref": "y"
         },
         {
          "align": "left",
          "font": {
           "color": "#000000"
          },
          "showarrow": false,
          "text": "1",
          "x": 0.55,
          "xanchor": "left",
          "xref": "x",
          "y": 16,
          "yref": "y"
         },
         {
          "align": "left",
          "font": {
           "color": "#000000"
          },
          "showarrow": false,
          "text": "haté",
          "x": 1.55,
          "xanchor": "left",
          "xref": "x",
          "y": 16,
          "yref": "y"
         },
         {
          "align": "left",
          "font": {
           "color": "#000000"
          },
          "showarrow": false,
          "text": "NOUN",
          "x": 2.55,
          "xanchor": "left",
          "xref": "x",
          "y": 16,
          "yref": "y"
         },
         {
          "align": "left",
          "font": {
           "color": "#000000"
          },
          "showarrow": false,
          "text": "KB",
          "x": 3.55,
          "xanchor": "left",
          "xref": "x",
          "y": 16,
          "yref": "y"
         },
         {
          "align": "left",
          "font": {
           "color": "#000000"
          },
          "showarrow": false,
          "text": "datatext\\babasan-paribasa.txt",
          "x": -0.45,
          "xanchor": "left",
          "xref": "x",
          "y": 17,
          "yref": "y"
         },
         {
          "align": "left",
          "font": {
           "color": "#000000"
          },
          "showarrow": false,
          "text": "1",
          "x": 0.55,
          "xanchor": "left",
          "xref": "x",
          "y": 17,
          "yref": "y"
         },
         {
          "align": "left",
          "font": {
           "color": "#000000"
          },
          "showarrow": false,
          "text": "nu",
          "x": 1.55,
          "xanchor": "left",
          "xref": "x",
          "y": 17,
          "yref": "y"
         },
         {
          "align": "left",
          "font": {
           "color": "#000000"
          },
          "showarrow": false,
          "text": "PRON",
          "x": 2.55,
          "xanchor": "left",
          "xref": "x",
          "y": 17,
          "yref": "y"
         },
         {
          "align": "left",
          "font": {
           "color": "#000000"
          },
          "showarrow": false,
          "text": "KG",
          "x": 3.55,
          "xanchor": "left",
          "xref": "x",
          "y": 17,
          "yref": "y"
         },
         {
          "align": "left",
          "font": {
           "color": "#000000"
          },
          "showarrow": false,
          "text": "datatext\\babasan-paribasa.txt",
          "x": -0.45,
          "xanchor": "left",
          "xref": "x",
          "y": 18,
          "yref": "y"
         },
         {
          "align": "left",
          "font": {
           "color": "#000000"
          },
          "showarrow": false,
          "text": "1",
          "x": 0.55,
          "xanchor": "left",
          "xref": "x",
          "y": 18,
          "yref": "y"
         },
         {
          "align": "left",
          "font": {
           "color": "#000000"
          },
          "showarrow": false,
          "text": "séjén",
          "x": 1.55,
          "xanchor": "left",
          "xref": "x",
          "y": 18,
          "yref": "y"
         },
         {
          "align": "left",
          "font": {
           "color": "#000000"
          },
          "showarrow": false,
          "text": "ADJ",
          "x": 2.55,
          "xanchor": "left",
          "xref": "x",
          "y": 18,
          "yref": "y"
         },
         {
          "align": "left",
          "font": {
           "color": "#000000"
          },
          "showarrow": false,
          "text": "KS",
          "x": 3.55,
          "xanchor": "left",
          "xref": "x",
          "y": 18,
          "yref": "y"
         },
         {
          "align": "left",
          "font": {
           "color": "#000000"
          },
          "showarrow": false,
          "text": "datatext\\babasan-paribasa.txt",
          "x": -0.45,
          "xanchor": "left",
          "xref": "x",
          "y": 19,
          "yref": "y"
         },
         {
          "align": "left",
          "font": {
           "color": "#000000"
          },
          "showarrow": false,
          "text": "1",
          "x": 0.55,
          "xanchor": "left",
          "xref": "x",
          "y": 19,
          "yref": "y"
         },
         {
          "align": "left",
          "font": {
           "color": "#000000"
          },
          "showarrow": false,
          "text": ".",
          "x": 1.55,
          "xanchor": "left",
          "xref": "x",
          "y": 19,
          "yref": "y"
         },
         {
          "align": "left",
          "font": {
           "color": "#000000"
          },
          "showarrow": false,
          "text": "PUNCT",
          "x": 2.55,
          "xanchor": "left",
          "xref": "x",
          "y": 19,
          "yref": "y"
         },
         {
          "align": "left",
          "font": {
           "color": "#000000"
          },
          "showarrow": false,
          "text": "TANDA_BACA",
          "x": 3.55,
          "xanchor": "left",
          "xref": "x",
          "y": 19,
          "yref": "y"
         },
         {
          "align": "left",
          "font": {
           "color": "#000000"
          },
          "showarrow": false,
          "text": "datatext\\babasan-paribasa.txt",
          "x": -0.45,
          "xanchor": "left",
          "xref": "x",
          "y": 20,
          "yref": "y"
         },
         {
          "align": "left",
          "font": {
           "color": "#000000"
          },
          "showarrow": false,
          "text": "2",
          "x": 0.55,
          "xanchor": "left",
          "xref": "x",
          "y": 20,
          "yref": "y"
         },
         {
          "align": "left",
          "font": {
           "color": "#000000"
          },
          "showarrow": false,
          "text": "Abis",
          "x": 1.55,
          "xanchor": "left",
          "xref": "x",
          "y": 20,
          "yref": "y"
         },
         {
          "align": "left",
          "font": {
           "color": "#000000"
          },
          "showarrow": false,
          "text": "UNK",
          "x": 2.55,
          "xanchor": "left",
          "xref": "x",
          "y": 20,
          "yref": "y"
         },
         {
          "align": "left",
          "font": {
           "color": "#000000"
          },
          "showarrow": false,
          "text": "UNK",
          "x": 3.55,
          "xanchor": "left",
          "xref": "x",
          "y": 20,
          "yref": "y"
         },
         {
          "align": "left",
          "font": {
           "color": "#000000"
          },
          "showarrow": false,
          "text": "datatext\\babasan-paribasa.txt",
          "x": -0.45,
          "xanchor": "left",
          "xref": "x",
          "y": 21,
          "yref": "y"
         },
         {
          "align": "left",
          "font": {
           "color": "#000000"
          },
          "showarrow": false,
          "text": "2",
          "x": 0.55,
          "xanchor": "left",
          "xref": "x",
          "y": 21,
          "yref": "y"
         },
         {
          "align": "left",
          "font": {
           "color": "#000000"
          },
          "showarrow": false,
          "text": "bulan",
          "x": 1.55,
          "xanchor": "left",
          "xref": "x",
          "y": 21,
          "yref": "y"
         },
         {
          "align": "left",
          "font": {
           "color": "#000000"
          },
          "showarrow": false,
          "text": "NOUN",
          "x": 2.55,
          "xanchor": "left",
          "xref": "x",
          "y": 21,
          "yref": "y"
         },
         {
          "align": "left",
          "font": {
           "color": "#000000"
          },
          "showarrow": false,
          "text": "KB",
          "x": 3.55,
          "xanchor": "left",
          "xref": "x",
          "y": 21,
          "yref": "y"
         },
         {
          "align": "left",
          "font": {
           "color": "#000000"
          },
          "showarrow": false,
          "text": "datatext\\babasan-paribasa.txt",
          "x": -0.45,
          "xanchor": "left",
          "xref": "x",
          "y": 22,
          "yref": "y"
         },
         {
          "align": "left",
          "font": {
           "color": "#000000"
          },
          "showarrow": false,
          "text": "2",
          "x": 0.55,
          "xanchor": "left",
          "xref": "x",
          "y": 22,
          "yref": "y"
         },
         {
          "align": "left",
          "font": {
           "color": "#000000"
          },
          "showarrow": false,
          "text": ",",
          "x": 1.55,
          "xanchor": "left",
          "xref": "x",
          "y": 22,
          "yref": "y"
         },
         {
          "align": "left",
          "font": {
           "color": "#000000"
          },
          "showarrow": false,
          "text": "PUNCT",
          "x": 2.55,
          "xanchor": "left",
          "xref": "x",
          "y": 22,
          "yref": "y"
         },
         {
          "align": "left",
          "font": {
           "color": "#000000"
          },
          "showarrow": false,
          "text": "TANDA_BACA",
          "x": 3.55,
          "xanchor": "left",
          "xref": "x",
          "y": 22,
          "yref": "y"
         },
         {
          "align": "left",
          "font": {
           "color": "#000000"
          },
          "showarrow": false,
          "text": "datatext\\babasan-paribasa.txt",
          "x": -0.45,
          "xanchor": "left",
          "xref": "x",
          "y": 23,
          "yref": "y"
         },
         {
          "align": "left",
          "font": {
           "color": "#000000"
          },
          "showarrow": false,
          "text": "2",
          "x": 0.55,
          "xanchor": "left",
          "xref": "x",
          "y": 23,
          "yref": "y"
         },
         {
          "align": "left",
          "font": {
           "color": "#000000"
          },
          "showarrow": false,
          "text": "abis",
          "x": 1.55,
          "xanchor": "left",
          "xref": "x",
          "y": 23,
          "yref": "y"
         },
         {
          "align": "left",
          "font": {
           "color": "#000000"
          },
          "showarrow": false,
          "text": "UNK",
          "x": 2.55,
          "xanchor": "left",
          "xref": "x",
          "y": 23,
          "yref": "y"
         },
         {
          "align": "left",
          "font": {
           "color": "#000000"
          },
          "showarrow": false,
          "text": "UNK",
          "x": 3.55,
          "xanchor": "left",
          "xref": "x",
          "y": 23,
          "yref": "y"
         },
         {
          "align": "left",
          "font": {
           "color": "#000000"
          },
          "showarrow": false,
          "text": "datatext\\babasan-paribasa.txt",
          "x": -0.45,
          "xanchor": "left",
          "xref": "x",
          "y": 24,
          "yref": "y"
         },
         {
          "align": "left",
          "font": {
           "color": "#000000"
          },
          "showarrow": false,
          "text": "2",
          "x": 0.55,
          "xanchor": "left",
          "xref": "x",
          "y": 24,
          "yref": "y"
         },
         {
          "align": "left",
          "font": {
           "color": "#000000"
          },
          "showarrow": false,
          "text": "uang",
          "x": 1.55,
          "xanchor": "left",
          "xref": "x",
          "y": 24,
          "yref": "y"
         },
         {
          "align": "left",
          "font": {
           "color": "#000000"
          },
          "showarrow": false,
          "text": "UNK",
          "x": 2.55,
          "xanchor": "left",
          "xref": "x",
          "y": 24,
          "yref": "y"
         },
         {
          "align": "left",
          "font": {
           "color": "#000000"
          },
          "showarrow": false,
          "text": "UNK",
          "x": 3.55,
          "xanchor": "left",
          "xref": "x",
          "y": 24,
          "yref": "y"
         },
         {
          "align": "left",
          "font": {
           "color": "#000000"
          },
          "showarrow": false,
          "text": "datatext\\babasan-paribasa.txt",
          "x": -0.45,
          "xanchor": "left",
          "xref": "x",
          "y": 25,
          "yref": "y"
         },
         {
          "align": "left",
          "font": {
           "color": "#000000"
          },
          "showarrow": false,
          "text": "2",
          "x": 0.55,
          "xanchor": "left",
          "xref": "x",
          "y": 25,
          "yref": "y"
         },
         {
          "align": "left",
          "font": {
           "color": "#000000"
          },
          "showarrow": false,
          "text": "=",
          "x": 1.55,
          "xanchor": "left",
          "xref": "x",
          "y": 25,
          "yref": "y"
         },
         {
          "align": "left",
          "font": {
           "color": "#000000"
          },
          "showarrow": false,
          "text": "PUNCT",
          "x": 2.55,
          "xanchor": "left",
          "xref": "x",
          "y": 25,
          "yref": "y"
         },
         {
          "align": "left",
          "font": {
           "color": "#000000"
          },
          "showarrow": false,
          "text": "TANDA_BACA",
          "x": 3.55,
          "xanchor": "left",
          "xref": "x",
          "y": 25,
          "yref": "y"
         },
         {
          "align": "left",
          "font": {
           "color": "#000000"
          },
          "showarrow": false,
          "text": "datatext\\babasan-paribasa.txt",
          "x": -0.45,
          "xanchor": "left",
          "xref": "x",
          "y": 26,
          "yref": "y"
         },
         {
          "align": "left",
          "font": {
           "color": "#000000"
          },
          "showarrow": false,
          "text": "2",
          "x": 0.55,
          "xanchor": "left",
          "xref": "x",
          "y": 26,
          "yref": "y"
         },
         {
          "align": "left",
          "font": {
           "color": "#000000"
          },
          "showarrow": false,
          "text": "béak",
          "x": 1.55,
          "xanchor": "left",
          "xref": "x",
          "y": 26,
          "yref": "y"
         },
         {
          "align": "left",
          "font": {
           "color": "#000000"
          },
          "showarrow": false,
          "text": "ADJ",
          "x": 2.55,
          "xanchor": "left",
          "xref": "x",
          "y": 26,
          "yref": "y"
         },
         {
          "align": "left",
          "font": {
           "color": "#000000"
          },
          "showarrow": false,
          "text": "KS",
          "x": 3.55,
          "xanchor": "left",
          "xref": "x",
          "y": 26,
          "yref": "y"
         },
         {
          "align": "left",
          "font": {
           "color": "#000000"
          },
          "showarrow": false,
          "text": "datatext\\babasan-paribasa.txt",
          "x": -0.45,
          "xanchor": "left",
          "xref": "x",
          "y": 27,
          "yref": "y"
         },
         {
          "align": "left",
          "font": {
           "color": "#000000"
          },
          "showarrow": false,
          "text": "2",
          "x": 0.55,
          "xanchor": "left",
          "xref": "x",
          "y": 27,
          "yref": "y"
         },
         {
          "align": "left",
          "font": {
           "color": "#000000"
          },
          "showarrow": false,
          "text": "bulán",
          "x": 1.55,
          "xanchor": "left",
          "xref": "x",
          "y": 27,
          "yref": "y"
         },
         {
          "align": "left",
          "font": {
           "color": "#000000"
          },
          "showarrow": false,
          "text": "UNK",
          "x": 2.55,
          "xanchor": "left",
          "xref": "x",
          "y": 27,
          "yref": "y"
         },
         {
          "align": "left",
          "font": {
           "color": "#000000"
          },
          "showarrow": false,
          "text": "UNK",
          "x": 3.55,
          "xanchor": "left",
          "xref": "x",
          "y": 27,
          "yref": "y"
         },
         {
          "align": "left",
          "font": {
           "color": "#000000"
          },
          "showarrow": false,
          "text": "datatext\\babasan-paribasa.txt",
          "x": -0.45,
          "xanchor": "left",
          "xref": "x",
          "y": 28,
          "yref": "y"
         },
         {
          "align": "left",
          "font": {
           "color": "#000000"
          },
          "showarrow": false,
          "text": "2",
          "x": 0.55,
          "xanchor": "left",
          "xref": "x",
          "y": 28,
          "yref": "y"
         },
         {
          "align": "left",
          "font": {
           "color": "#000000"
          },
          "showarrow": false,
          "text": ",",
          "x": 1.55,
          "xanchor": "left",
          "xref": "x",
          "y": 28,
          "yref": "y"
         },
         {
          "align": "left",
          "font": {
           "color": "#000000"
          },
          "showarrow": false,
          "text": "PUNCT",
          "x": 2.55,
          "xanchor": "left",
          "xref": "x",
          "y": 28,
          "yref": "y"
         },
         {
          "align": "left",
          "font": {
           "color": "#000000"
          },
          "showarrow": false,
          "text": "TANDA_BACA",
          "x": 3.55,
          "xanchor": "left",
          "xref": "x",
          "y": 28,
          "yref": "y"
         },
         {
          "align": "left",
          "font": {
           "color": "#000000"
          },
          "showarrow": false,
          "text": "datatext\\babasan-paribasa.txt",
          "x": -0.45,
          "xanchor": "left",
          "xref": "x",
          "y": 29,
          "yref": "y"
         },
         {
          "align": "left",
          "font": {
           "color": "#000000"
          },
          "showarrow": false,
          "text": "2",
          "x": 0.55,
          "xanchor": "left",
          "xref": "x",
          "y": 29,
          "yref": "y"
         },
         {
          "align": "left",
          "font": {
           "color": "#000000"
          },
          "showarrow": false,
          "text": "duit",
          "x": 1.55,
          "xanchor": "left",
          "xref": "x",
          "y": 29,
          "yref": "y"
         },
         {
          "align": "left",
          "font": {
           "color": "#000000"
          },
          "showarrow": false,
          "text": "UNK",
          "x": 2.55,
          "xanchor": "left",
          "xref": "x",
          "y": 29,
          "yref": "y"
         },
         {
          "align": "left",
          "font": {
           "color": "#000000"
          },
          "showarrow": false,
          "text": "UNK",
          "x": 3.55,
          "xanchor": "left",
          "xref": "x",
          "y": 29,
          "yref": "y"
         },
         {
          "align": "left",
          "font": {
           "color": "#000000"
          },
          "showarrow": false,
          "text": "datatext\\babasan-paribasa.txt",
          "x": -0.45,
          "xanchor": "left",
          "xref": "x",
          "y": 30,
          "yref": "y"
         },
         {
          "align": "left",
          "font": {
           "color": "#000000"
          },
          "showarrow": false,
          "text": "2",
          "x": 0.55,
          "xanchor": "left",
          "xref": "x",
          "y": 30,
          "yref": "y"
         },
         {
          "align": "left",
          "font": {
           "color": "#000000"
          },
          "showarrow": false,
          "text": "gajih",
          "x": 1.55,
          "xanchor": "left",
          "xref": "x",
          "y": 30,
          "yref": "y"
         },
         {
          "align": "left",
          "font": {
           "color": "#000000"
          },
          "showarrow": false,
          "text": "UNK",
          "x": 2.55,
          "xanchor": "left",
          "xref": "x",
          "y": 30,
          "yref": "y"
         },
         {
          "align": "left",
          "font": {
           "color": "#000000"
          },
          "showarrow": false,
          "text": "UNK",
          "x": 3.55,
          "xanchor": "left",
          "xref": "x",
          "y": 30,
          "yref": "y"
         },
         {
          "align": "left",
          "font": {
           "color": "#000000"
          },
          "showarrow": false,
          "text": "datatext\\babasan-paribasa.txt",
          "x": -0.45,
          "xanchor": "left",
          "xref": "x",
          "y": 31,
          "yref": "y"
         },
         {
          "align": "left",
          "font": {
           "color": "#000000"
          },
          "showarrow": false,
          "text": "2",
          "x": 0.55,
          "xanchor": "left",
          "xref": "x",
          "y": 31,
          "yref": "y"
         },
         {
          "align": "left",
          "font": {
           "color": "#000000"
          },
          "showarrow": false,
          "text": "ogé",
          "x": 1.55,
          "xanchor": "left",
          "xref": "x",
          "y": 31,
          "yref": "y"
         },
         {
          "align": "left",
          "font": {
           "color": "#000000"
          },
          "showarrow": false,
          "text": "ADV",
          "x": 2.55,
          "xanchor": "left",
          "xref": "x",
          "y": 31,
          "yref": "y"
         },
         {
          "align": "left",
          "font": {
           "color": "#000000"
          },
          "showarrow": false,
          "text": "KT",
          "x": 3.55,
          "xanchor": "left",
          "xref": "x",
          "y": 31,
          "yref": "y"
         },
         {
          "align": "left",
          "font": {
           "color": "#000000"
          },
          "showarrow": false,
          "text": "datatext\\babasan-paribasa.txt",
          "x": -0.45,
          "xanchor": "left",
          "xref": "x",
          "y": 32,
          "yref": "y"
         },
         {
          "align": "left",
          "font": {
           "color": "#000000"
          },
          "showarrow": false,
          "text": "2",
          "x": 0.55,
          "xanchor": "left",
          "xref": "x",
          "y": 32,
          "yref": "y"
         },
         {
          "align": "left",
          "font": {
           "color": "#000000"
          },
          "showarrow": false,
          "text": "béak",
          "x": 1.55,
          "xanchor": "left",
          "xref": "x",
          "y": 32,
          "yref": "y"
         },
         {
          "align": "left",
          "font": {
           "color": "#000000"
          },
          "showarrow": false,
          "text": "ADJ",
          "x": 2.55,
          "xanchor": "left",
          "xref": "x",
          "y": 32,
          "yref": "y"
         },
         {
          "align": "left",
          "font": {
           "color": "#000000"
          },
          "showarrow": false,
          "text": "KS",
          "x": 3.55,
          "xanchor": "left",
          "xref": "x",
          "y": 32,
          "yref": "y"
         },
         {
          "align": "left",
          "font": {
           "color": "#000000"
          },
          "showarrow": false,
          "text": "datatext\\babasan-paribasa.txt",
          "x": -0.45,
          "xanchor": "left",
          "xref": "x",
          "y": 33,
          "yref": "y"
         },
         {
          "align": "left",
          "font": {
           "color": "#000000"
          },
          "showarrow": false,
          "text": "2",
          "x": 0.55,
          "xanchor": "left",
          "xref": "x",
          "y": 33,
          "yref": "y"
         },
         {
          "align": "left",
          "font": {
           "color": "#000000"
          },
          "showarrow": false,
          "text": "deuih",
          "x": 1.55,
          "xanchor": "left",
          "xref": "x",
          "y": 33,
          "yref": "y"
         },
         {
          "align": "left",
          "font": {
           "color": "#000000"
          },
          "showarrow": false,
          "text": "UNK",
          "x": 2.55,
          "xanchor": "left",
          "xref": "x",
          "y": 33,
          "yref": "y"
         },
         {
          "align": "left",
          "font": {
           "color": "#000000"
          },
          "showarrow": false,
          "text": "UNK",
          "x": 3.55,
          "xanchor": "left",
          "xref": "x",
          "y": 33,
          "yref": "y"
         },
         {
          "align": "left",
          "font": {
           "color": "#000000"
          },
          "showarrow": false,
          "text": "datatext\\babasan-paribasa.txt",
          "x": -0.45,
          "xanchor": "left",
          "xref": "x",
          "y": 34,
          "yref": "y"
         },
         {
          "align": "left",
          "font": {
           "color": "#000000"
          },
          "showarrow": false,
          "text": "2",
          "x": 0.55,
          "xanchor": "left",
          "xref": "x",
          "y": 34,
          "yref": "y"
         },
         {
          "align": "left",
          "font": {
           "color": "#000000"
          },
          "showarrow": false,
          "text": ".",
          "x": 1.55,
          "xanchor": "left",
          "xref": "x",
          "y": 34,
          "yref": "y"
         },
         {
          "align": "left",
          "font": {
           "color": "#000000"
          },
          "showarrow": false,
          "text": "PUNCT",
          "x": 2.55,
          "xanchor": "left",
          "xref": "x",
          "y": 34,
          "yref": "y"
         },
         {
          "align": "left",
          "font": {
           "color": "#000000"
          },
          "showarrow": false,
          "text": "TANDA_BACA",
          "x": 3.55,
          "xanchor": "left",
          "xref": "x",
          "y": 34,
          "yref": "y"
         },
         {
          "align": "left",
          "font": {
           "color": "#000000"
          },
          "showarrow": false,
          "text": "datatext\\babasan-paribasa.txt",
          "x": -0.45,
          "xanchor": "left",
          "xref": "x",
          "y": 35,
          "yref": "y"
         },
         {
          "align": "left",
          "font": {
           "color": "#000000"
          },
          "showarrow": false,
          "text": "3",
          "x": 0.55,
          "xanchor": "left",
          "xref": "x",
          "y": 35,
          "yref": "y"
         },
         {
          "align": "left",
          "font": {
           "color": "#000000"
          },
          "showarrow": false,
          "text": "Abong",
          "x": 1.55,
          "xanchor": "left",
          "xref": "x",
          "y": 35,
          "yref": "y"
         },
         {
          "align": "left",
          "font": {
           "color": "#000000"
          },
          "showarrow": false,
          "text": "ADV",
          "x": 2.55,
          "xanchor": "left",
          "xref": "x",
          "y": 35,
          "yref": "y"
         },
         {
          "align": "left",
          "font": {
           "color": "#000000"
          },
          "showarrow": false,
          "text": "KT",
          "x": 3.55,
          "xanchor": "left",
          "xref": "x",
          "y": 35,
          "yref": "y"
         },
         {
          "align": "left",
          "font": {
           "color": "#000000"
          },
          "showarrow": false,
          "text": "datatext\\babasan-paribasa.txt",
          "x": -0.45,
          "xanchor": "left",
          "xref": "x",
          "y": 36,
          "yref": "y"
         },
         {
          "align": "left",
          "font": {
           "color": "#000000"
          },
          "showarrow": false,
          "text": "3",
          "x": 0.55,
          "xanchor": "left",
          "xref": "x",
          "y": 36,
          "yref": "y"
         },
         {
          "align": "left",
          "font": {
           "color": "#000000"
          },
          "showarrow": false,
          "text": "biwir",
          "x": 1.55,
          "xanchor": "left",
          "xref": "x",
          "y": 36,
          "yref": "y"
         },
         {
          "align": "left",
          "font": {
           "color": "#000000"
          },
          "showarrow": false,
          "text": "NOUN",
          "x": 2.55,
          "xanchor": "left",
          "xref": "x",
          "y": 36,
          "yref": "y"
         },
         {
          "align": "left",
          "font": {
           "color": "#000000"
          },
          "showarrow": false,
          "text": "KB",
          "x": 3.55,
          "xanchor": "left",
          "xref": "x",
          "y": 36,
          "yref": "y"
         },
         {
          "align": "left",
          "font": {
           "color": "#000000"
          },
          "showarrow": false,
          "text": "datatext\\babasan-paribasa.txt",
          "x": -0.45,
          "xanchor": "left",
          "xref": "x",
          "y": 37,
          "yref": "y"
         },
         {
          "align": "left",
          "font": {
           "color": "#000000"
          },
          "showarrow": false,
          "text": "3",
          "x": 0.55,
          "xanchor": "left",
          "xref": "x",
          "y": 37,
          "yref": "y"
         },
         {
          "align": "left",
          "font": {
           "color": "#000000"
          },
          "showarrow": false,
          "text": "teu",
          "x": 1.55,
          "xanchor": "left",
          "xref": "x",
          "y": 37,
          "yref": "y"
         },
         {
          "align": "left",
          "font": {
           "color": "#000000"
          },
          "showarrow": false,
          "text": "PART",
          "x": 2.55,
          "xanchor": "left",
          "xref": "x",
          "y": 37,
          "yref": "y"
         },
         {
          "align": "left",
          "font": {
           "color": "#000000"
          },
          "showarrow": false,
          "text": "PL",
          "x": 3.55,
          "xanchor": "left",
          "xref": "x",
          "y": 37,
          "yref": "y"
         },
         {
          "align": "left",
          "font": {
           "color": "#000000"
          },
          "showarrow": false,
          "text": "datatext\\babasan-paribasa.txt",
          "x": -0.45,
          "xanchor": "left",
          "xref": "x",
          "y": 38,
          "yref": "y"
         },
         {
          "align": "left",
          "font": {
           "color": "#000000"
          },
          "showarrow": false,
          "text": "3",
          "x": 0.55,
          "xanchor": "left",
          "xref": "x",
          "y": 38,
          "yref": "y"
         },
         {
          "align": "left",
          "font": {
           "color": "#000000"
          },
          "showarrow": false,
          "text": "diwengku",
          "x": 1.55,
          "xanchor": "left",
          "xref": "x",
          "y": 38,
          "yref": "y"
         },
         {
          "align": "left",
          "font": {
           "color": "#000000"
          },
          "showarrow": false,
          "text": "UNK",
          "x": 2.55,
          "xanchor": "left",
          "xref": "x",
          "y": 38,
          "yref": "y"
         },
         {
          "align": "left",
          "font": {
           "color": "#000000"
          },
          "showarrow": false,
          "text": "UNK",
          "x": 3.55,
          "xanchor": "left",
          "xref": "x",
          "y": 38,
          "yref": "y"
         },
         {
          "align": "left",
          "font": {
           "color": "#000000"
          },
          "showarrow": false,
          "text": "datatext\\babasan-paribasa.txt",
          "x": -0.45,
          "xanchor": "left",
          "xref": "x",
          "y": 39,
          "yref": "y"
         },
         {
          "align": "left",
          "font": {
           "color": "#000000"
          },
          "showarrow": false,
          "text": "3",
          "x": 0.55,
          "xanchor": "left",
          "xref": "x",
          "y": 39,
          "yref": "y"
         },
         {
          "align": "left",
          "font": {
           "color": "#000000"
          },
          "showarrow": false,
          "text": ",",
          "x": 1.55,
          "xanchor": "left",
          "xref": "x",
          "y": 39,
          "yref": "y"
         },
         {
          "align": "left",
          "font": {
           "color": "#000000"
          },
          "showarrow": false,
          "text": "PUNCT",
          "x": 2.55,
          "xanchor": "left",
          "xref": "x",
          "y": 39,
          "yref": "y"
         },
         {
          "align": "left",
          "font": {
           "color": "#000000"
          },
          "showarrow": false,
          "text": "TANDA_BACA",
          "x": 3.55,
          "xanchor": "left",
          "xref": "x",
          "y": 39,
          "yref": "y"
         },
         {
          "align": "left",
          "font": {
           "color": "#000000"
          },
          "showarrow": false,
          "text": "datatext\\babasan-paribasa.txt",
          "x": -0.45,
          "xanchor": "left",
          "xref": "x",
          "y": 40,
          "yref": "y"
         },
         {
          "align": "left",
          "font": {
           "color": "#000000"
          },
          "showarrow": false,
          "text": "3",
          "x": 0.55,
          "xanchor": "left",
          "xref": "x",
          "y": 40,
          "yref": "y"
         },
         {
          "align": "left",
          "font": {
           "color": "#000000"
          },
          "showarrow": false,
          "text": "abong",
          "x": 1.55,
          "xanchor": "left",
          "xref": "x",
          "y": 40,
          "yref": "y"
         },
         {
          "align": "left",
          "font": {
           "color": "#000000"
          },
          "showarrow": false,
          "text": "ADV",
          "x": 2.55,
          "xanchor": "left",
          "xref": "x",
          "y": 40,
          "yref": "y"
         },
         {
          "align": "left",
          "font": {
           "color": "#000000"
          },
          "showarrow": false,
          "text": "KT",
          "x": 3.55,
          "xanchor": "left",
          "xref": "x",
          "y": 40,
          "yref": "y"
         },
         {
          "align": "left",
          "font": {
           "color": "#000000"
          },
          "showarrow": false,
          "text": "datatext\\babasan-paribasa.txt",
          "x": -0.45,
          "xanchor": "left",
          "xref": "x",
          "y": 41,
          "yref": "y"
         },
         {
          "align": "left",
          "font": {
           "color": "#000000"
          },
          "showarrow": false,
          "text": "3",
          "x": 0.55,
          "xanchor": "left",
          "xref": "x",
          "y": 41,
          "yref": "y"
         },
         {
          "align": "left",
          "font": {
           "color": "#000000"
          },
          "showarrow": false,
          "text": "létah",
          "x": 1.55,
          "xanchor": "left",
          "xref": "x",
          "y": 41,
          "yref": "y"
         },
         {
          "align": "left",
          "font": {
           "color": "#000000"
          },
          "showarrow": false,
          "text": "NOUN",
          "x": 2.55,
          "xanchor": "left",
          "xref": "x",
          "y": 41,
          "yref": "y"
         },
         {
          "align": "left",
          "font": {
           "color": "#000000"
          },
          "showarrow": false,
          "text": "KB",
          "x": 3.55,
          "xanchor": "left",
          "xref": "x",
          "y": 41,
          "yref": "y"
         },
         {
          "align": "left",
          "font": {
           "color": "#000000"
          },
          "showarrow": false,
          "text": "datatext\\babasan-paribasa.txt",
          "x": -0.45,
          "xanchor": "left",
          "xref": "x",
          "y": 42,
          "yref": "y"
         },
         {
          "align": "left",
          "font": {
           "color": "#000000"
          },
          "showarrow": false,
          "text": "3",
          "x": 0.55,
          "xanchor": "left",
          "xref": "x",
          "y": 42,
          "yref": "y"
         },
         {
          "align": "left",
          "font": {
           "color": "#000000"
          },
          "showarrow": false,
          "text": "teu",
          "x": 1.55,
          "xanchor": "left",
          "xref": "x",
          "y": 42,
          "yref": "y"
         },
         {
          "align": "left",
          "font": {
           "color": "#000000"
          },
          "showarrow": false,
          "text": "PART",
          "x": 2.55,
          "xanchor": "left",
          "xref": "x",
          "y": 42,
          "yref": "y"
         },
         {
          "align": "left",
          "font": {
           "color": "#000000"
          },
          "showarrow": false,
          "text": "PL",
          "x": 3.55,
          "xanchor": "left",
          "xref": "x",
          "y": 42,
          "yref": "y"
         },
         {
          "align": "left",
          "font": {
           "color": "#000000"
          },
          "showarrow": false,
          "text": "datatext\\babasan-paribasa.txt",
          "x": -0.45,
          "xanchor": "left",
          "xref": "x",
          "y": 43,
          "yref": "y"
         },
         {
          "align": "left",
          "font": {
           "color": "#000000"
          },
          "showarrow": false,
          "text": "3",
          "x": 0.55,
          "xanchor": "left",
          "xref": "x",
          "y": 43,
          "yref": "y"
         },
         {
          "align": "left",
          "font": {
           "color": "#000000"
          },
          "showarrow": false,
          "text": "tulangan",
          "x": 1.55,
          "xanchor": "left",
          "xref": "x",
          "y": 43,
          "yref": "y"
         },
         {
          "align": "left",
          "font": {
           "color": "#000000"
          },
          "showarrow": false,
          "text": "UNK",
          "x": 2.55,
          "xanchor": "left",
          "xref": "x",
          "y": 43,
          "yref": "y"
         },
         {
          "align": "left",
          "font": {
           "color": "#000000"
          },
          "showarrow": false,
          "text": "UNK",
          "x": 3.55,
          "xanchor": "left",
          "xref": "x",
          "y": 43,
          "yref": "y"
         },
         {
          "align": "left",
          "font": {
           "color": "#000000"
          },
          "showarrow": false,
          "text": "datatext\\babasan-paribasa.txt",
          "x": -0.45,
          "xanchor": "left",
          "xref": "x",
          "y": 44,
          "yref": "y"
         },
         {
          "align": "left",
          "font": {
           "color": "#000000"
          },
          "showarrow": false,
          "text": "3",
          "x": 0.55,
          "xanchor": "left",
          "xref": "x",
          "y": 44,
          "yref": "y"
         },
         {
          "align": "left",
          "font": {
           "color": "#000000"
          },
          "showarrow": false,
          "text": "=",
          "x": 1.55,
          "xanchor": "left",
          "xref": "x",
          "y": 44,
          "yref": "y"
         },
         {
          "align": "left",
          "font": {
           "color": "#000000"
          },
          "showarrow": false,
          "text": "PUNCT",
          "x": 2.55,
          "xanchor": "left",
          "xref": "x",
          "y": 44,
          "yref": "y"
         },
         {
          "align": "left",
          "font": {
           "color": "#000000"
          },
          "showarrow": false,
          "text": "TANDA_BACA",
          "x": 3.55,
          "xanchor": "left",
          "xref": "x",
          "y": 44,
          "yref": "y"
         },
         {
          "align": "left",
          "font": {
           "color": "#000000"
          },
          "showarrow": false,
          "text": "datatext\\babasan-paribasa.txt",
          "x": -0.45,
          "xanchor": "left",
          "xref": "x",
          "y": 45,
          "yref": "y"
         },
         {
          "align": "left",
          "font": {
           "color": "#000000"
          },
          "showarrow": false,
          "text": "3",
          "x": 0.55,
          "xanchor": "left",
          "xref": "x",
          "y": 45,
          "yref": "y"
         },
         {
          "align": "left",
          "font": {
           "color": "#000000"
          },
          "showarrow": false,
          "text": "jalma",
          "x": 1.55,
          "xanchor": "left",
          "xref": "x",
          "y": 45,
          "yref": "y"
         },
         {
          "align": "left",
          "font": {
           "color": "#000000"
          },
          "showarrow": false,
          "text": "UNK",
          "x": 2.55,
          "xanchor": "left",
          "xref": "x",
          "y": 45,
          "yref": "y"
         },
         {
          "align": "left",
          "font": {
           "color": "#000000"
          },
          "showarrow": false,
          "text": "UNK",
          "x": 3.55,
          "xanchor": "left",
          "xref": "x",
          "y": 45,
          "yref": "y"
         },
         {
          "align": "left",
          "font": {
           "color": "#000000"
          },
          "showarrow": false,
          "text": "datatext\\babasan-paribasa.txt",
          "x": -0.45,
          "xanchor": "left",
          "xref": "x",
          "y": 46,
          "yref": "y"
         },
         {
          "align": "left",
          "font": {
           "color": "#000000"
          },
          "showarrow": false,
          "text": "3",
          "x": 0.55,
          "xanchor": "left",
          "xref": "x",
          "y": 46,
          "yref": "y"
         },
         {
          "align": "left",
          "font": {
           "color": "#000000"
          },
          "showarrow": false,
          "text": "anu",
          "x": 1.55,
          "xanchor": "left",
          "xref": "x",
          "y": 46,
          "yref": "y"
         },
         {
          "align": "left",
          "font": {
           "color": "#000000"
          },
          "showarrow": false,
          "text": "UNK",
          "x": 2.55,
          "xanchor": "left",
          "xref": "x",
          "y": 46,
          "yref": "y"
         },
         {
          "align": "left",
          "font": {
           "color": "#000000"
          },
          "showarrow": false,
          "text": "UNK",
          "x": 3.55,
          "xanchor": "left",
          "xref": "x",
          "y": 46,
          "yref": "y"
         },
         {
          "align": "left",
          "font": {
           "color": "#000000"
          },
          "showarrow": false,
          "text": "datatext\\babasan-paribasa.txt",
          "x": -0.45,
          "xanchor": "left",
          "xref": "x",
          "y": 47,
          "yref": "y"
         },
         {
          "align": "left",
          "font": {
           "color": "#000000"
          },
          "showarrow": false,
          "text": "3",
          "x": 0.55,
          "xanchor": "left",
          "xref": "x",
          "y": 47,
          "yref": "y"
         },
         {
          "align": "left",
          "font": {
           "color": "#000000"
          },
          "showarrow": false,
          "text": "ngomongna",
          "x": 1.55,
          "xanchor": "left",
          "xref": "x",
          "y": 47,
          "yref": "y"
         },
         {
          "align": "left",
          "font": {
           "color": "#000000"
          },
          "showarrow": false,
          "text": "UNK",
          "x": 2.55,
          "xanchor": "left",
          "xref": "x",
          "y": 47,
          "yref": "y"
         },
         {
          "align": "left",
          "font": {
           "color": "#000000"
          },
          "showarrow": false,
          "text": "UNK",
          "x": 3.55,
          "xanchor": "left",
          "xref": "x",
          "y": 47,
          "yref": "y"
         },
         {
          "align": "left",
          "font": {
           "color": "#000000"
          },
          "showarrow": false,
          "text": "datatext\\babasan-paribasa.txt",
          "x": -0.45,
          "xanchor": "left",
          "xref": "x",
          "y": 48,
          "yref": "y"
         },
         {
          "align": "left",
          "font": {
           "color": "#000000"
          },
          "showarrow": false,
          "text": "3",
          "x": 0.55,
          "xanchor": "left",
          "xref": "x",
          "y": 48,
          "yref": "y"
         },
         {
          "align": "left",
          "font": {
           "color": "#000000"
          },
          "showarrow": false,
          "text": "sakarep",
          "x": 1.55,
          "xanchor": "left",
          "xref": "x",
          "y": 48,
          "yref": "y"
         },
         {
          "align": "left",
          "font": {
           "color": "#000000"
          },
          "showarrow": false,
          "text": "UNK",
          "x": 2.55,
          "xanchor": "left",
          "xref": "x",
          "y": 48,
          "yref": "y"
         },
         {
          "align": "left",
          "font": {
           "color": "#000000"
          },
          "showarrow": false,
          "text": "UNK",
          "x": 3.55,
          "xanchor": "left",
          "xref": "x",
          "y": 48,
          "yref": "y"
         },
         {
          "align": "left",
          "font": {
           "color": "#000000"
          },
          "showarrow": false,
          "text": "datatext\\babasan-paribasa.txt",
          "x": -0.45,
          "xanchor": "left",
          "xref": "x",
          "y": 49,
          "yref": "y"
         },
         {
          "align": "left",
          "font": {
           "color": "#000000"
          },
          "showarrow": false,
          "text": "3",
          "x": 0.55,
          "xanchor": "left",
          "xref": "x",
          "y": 49,
          "yref": "y"
         },
         {
          "align": "left",
          "font": {
           "color": "#000000"
          },
          "showarrow": false,
          "text": "-",
          "x": 1.55,
          "xanchor": "left",
          "xref": "x",
          "y": 49,
          "yref": "y"
         },
         {
          "align": "left",
          "font": {
           "color": "#000000"
          },
          "showarrow": false,
          "text": "PUNCT",
          "x": 2.55,
          "xanchor": "left",
          "xref": "x",
          "y": 49,
          "yref": "y"
         },
         {
          "align": "left",
          "font": {
           "color": "#000000"
          },
          "showarrow": false,
          "text": "TANDA_BACA",
          "x": 3.55,
          "xanchor": "left",
          "xref": "x",
          "y": 49,
          "yref": "y"
         },
         {
          "align": "left",
          "font": {
           "color": "#000000"
          },
          "showarrow": false,
          "text": "datatext\\babasan-paribasa.txt",
          "x": -0.45,
          "xanchor": "left",
          "xref": "x",
          "y": 50,
          "yref": "y"
         },
         {
          "align": "left",
          "font": {
           "color": "#000000"
          },
          "showarrow": false,
          "text": "3",
          "x": 0.55,
          "xanchor": "left",
          "xref": "x",
          "y": 50,
          "yref": "y"
         },
         {
          "align": "left",
          "font": {
           "color": "#000000"
          },
          "showarrow": false,
          "text": "karep",
          "x": 1.55,
          "xanchor": "left",
          "xref": "x",
          "y": 50,
          "yref": "y"
         },
         {
          "align": "left",
          "font": {
           "color": "#000000"
          },
          "showarrow": false,
          "text": "UNK",
          "x": 2.55,
          "xanchor": "left",
          "xref": "x",
          "y": 50,
          "yref": "y"
         },
         {
          "align": "left",
          "font": {
           "color": "#000000"
          },
          "showarrow": false,
          "text": "UNK",
          "x": 3.55,
          "xanchor": "left",
          "xref": "x",
          "y": 50,
          "yref": "y"
         }
        ],
        "height": 1580,
        "margin": {
         "b": 0,
         "l": 0,
         "r": 0,
         "t": 0
        },
        "template": {
         "data": {
          "bar": [
           {
            "error_x": {
             "color": "#2a3f5f"
            },
            "error_y": {
             "color": "#2a3f5f"
            },
            "marker": {
             "line": {
              "color": "#E5ECF6",
              "width": 0.5
             },
             "pattern": {
              "fillmode": "overlay",
              "size": 10,
              "solidity": 0.2
             }
            },
            "type": "bar"
           }
          ],
          "barpolar": [
           {
            "marker": {
             "line": {
              "color": "#E5ECF6",
              "width": 0.5
             },
             "pattern": {
              "fillmode": "overlay",
              "size": 10,
              "solidity": 0.2
             }
            },
            "type": "barpolar"
           }
          ],
          "carpet": [
           {
            "aaxis": {
             "endlinecolor": "#2a3f5f",
             "gridcolor": "white",
             "linecolor": "white",
             "minorgridcolor": "white",
             "startlinecolor": "#2a3f5f"
            },
            "baxis": {
             "endlinecolor": "#2a3f5f",
             "gridcolor": "white",
             "linecolor": "white",
             "minorgridcolor": "white",
             "startlinecolor": "#2a3f5f"
            },
            "type": "carpet"
           }
          ],
          "choropleth": [
           {
            "colorbar": {
             "outlinewidth": 0,
             "ticks": ""
            },
            "type": "choropleth"
           }
          ],
          "contour": [
           {
            "colorbar": {
             "outlinewidth": 0,
             "ticks": ""
            },
            "colorscale": [
             [
              0,
              "#0d0887"
             ],
             [
              0.1111111111111111,
              "#46039f"
             ],
             [
              0.2222222222222222,
              "#7201a8"
             ],
             [
              0.3333333333333333,
              "#9c179e"
             ],
             [
              0.4444444444444444,
              "#bd3786"
             ],
             [
              0.5555555555555556,
              "#d8576b"
             ],
             [
              0.6666666666666666,
              "#ed7953"
             ],
             [
              0.7777777777777778,
              "#fb9f3a"
             ],
             [
              0.8888888888888888,
              "#fdca26"
             ],
             [
              1,
              "#f0f921"
             ]
            ],
            "type": "contour"
           }
          ],
          "contourcarpet": [
           {
            "colorbar": {
             "outlinewidth": 0,
             "ticks": ""
            },
            "type": "contourcarpet"
           }
          ],
          "heatmap": [
           {
            "colorbar": {
             "outlinewidth": 0,
             "ticks": ""
            },
            "colorscale": [
             [
              0,
              "#0d0887"
             ],
             [
              0.1111111111111111,
              "#46039f"
             ],
             [
              0.2222222222222222,
              "#7201a8"
             ],
             [
              0.3333333333333333,
              "#9c179e"
             ],
             [
              0.4444444444444444,
              "#bd3786"
             ],
             [
              0.5555555555555556,
              "#d8576b"
             ],
             [
              0.6666666666666666,
              "#ed7953"
             ],
             [
              0.7777777777777778,
              "#fb9f3a"
             ],
             [
              0.8888888888888888,
              "#fdca26"
             ],
             [
              1,
              "#f0f921"
             ]
            ],
            "type": "heatmap"
           }
          ],
          "heatmapgl": [
           {
            "colorbar": {
             "outlinewidth": 0,
             "ticks": ""
            },
            "colorscale": [
             [
              0,
              "#0d0887"
             ],
             [
              0.1111111111111111,
              "#46039f"
             ],
             [
              0.2222222222222222,
              "#7201a8"
             ],
             [
              0.3333333333333333,
              "#9c179e"
             ],
             [
              0.4444444444444444,
              "#bd3786"
             ],
             [
              0.5555555555555556,
              "#d8576b"
             ],
             [
              0.6666666666666666,
              "#ed7953"
             ],
             [
              0.7777777777777778,
              "#fb9f3a"
             ],
             [
              0.8888888888888888,
              "#fdca26"
             ],
             [
              1,
              "#f0f921"
             ]
            ],
            "type": "heatmapgl"
           }
          ],
          "histogram": [
           {
            "marker": {
             "pattern": {
              "fillmode": "overlay",
              "size": 10,
              "solidity": 0.2
             }
            },
            "type": "histogram"
           }
          ],
          "histogram2d": [
           {
            "colorbar": {
             "outlinewidth": 0,
             "ticks": ""
            },
            "colorscale": [
             [
              0,
              "#0d0887"
             ],
             [
              0.1111111111111111,
              "#46039f"
             ],
             [
              0.2222222222222222,
              "#7201a8"
             ],
             [
              0.3333333333333333,
              "#9c179e"
             ],
             [
              0.4444444444444444,
              "#bd3786"
             ],
             [
              0.5555555555555556,
              "#d8576b"
             ],
             [
              0.6666666666666666,
              "#ed7953"
             ],
             [
              0.7777777777777778,
              "#fb9f3a"
             ],
             [
              0.8888888888888888,
              "#fdca26"
             ],
             [
              1,
              "#f0f921"
             ]
            ],
            "type": "histogram2d"
           }
          ],
          "histogram2dcontour": [
           {
            "colorbar": {
             "outlinewidth": 0,
             "ticks": ""
            },
            "colorscale": [
             [
              0,
              "#0d0887"
             ],
             [
              0.1111111111111111,
              "#46039f"
             ],
             [
              0.2222222222222222,
              "#7201a8"
             ],
             [
              0.3333333333333333,
              "#9c179e"
             ],
             [
              0.4444444444444444,
              "#bd3786"
             ],
             [
              0.5555555555555556,
              "#d8576b"
             ],
             [
              0.6666666666666666,
              "#ed7953"
             ],
             [
              0.7777777777777778,
              "#fb9f3a"
             ],
             [
              0.8888888888888888,
              "#fdca26"
             ],
             [
              1,
              "#f0f921"
             ]
            ],
            "type": "histogram2dcontour"
           }
          ],
          "mesh3d": [
           {
            "colorbar": {
             "outlinewidth": 0,
             "ticks": ""
            },
            "type": "mesh3d"
           }
          ],
          "parcoords": [
           {
            "line": {
             "colorbar": {
              "outlinewidth": 0,
              "ticks": ""
             }
            },
            "type": "parcoords"
           }
          ],
          "pie": [
           {
            "automargin": true,
            "type": "pie"
           }
          ],
          "scatter": [
           {
            "fillpattern": {
             "fillmode": "overlay",
             "size": 10,
             "solidity": 0.2
            },
            "type": "scatter"
           }
          ],
          "scatter3d": [
           {
            "line": {
             "colorbar": {
              "outlinewidth": 0,
              "ticks": ""
             }
            },
            "marker": {
             "colorbar": {
              "outlinewidth": 0,
              "ticks": ""
             }
            },
            "type": "scatter3d"
           }
          ],
          "scattercarpet": [
           {
            "marker": {
             "colorbar": {
              "outlinewidth": 0,
              "ticks": ""
             }
            },
            "type": "scattercarpet"
           }
          ],
          "scattergeo": [
           {
            "marker": {
             "colorbar": {
              "outlinewidth": 0,
              "ticks": ""
             }
            },
            "type": "scattergeo"
           }
          ],
          "scattergl": [
           {
            "marker": {
             "colorbar": {
              "outlinewidth": 0,
              "ticks": ""
             }
            },
            "type": "scattergl"
           }
          ],
          "scattermapbox": [
           {
            "marker": {
             "colorbar": {
              "outlinewidth": 0,
              "ticks": ""
             }
            },
            "type": "scattermapbox"
           }
          ],
          "scatterpolar": [
           {
            "marker": {
             "colorbar": {
              "outlinewidth": 0,
              "ticks": ""
             }
            },
            "type": "scatterpolar"
           }
          ],
          "scatterpolargl": [
           {
            "marker": {
             "colorbar": {
              "outlinewidth": 0,
              "ticks": ""
             }
            },
            "type": "scatterpolargl"
           }
          ],
          "scatterternary": [
           {
            "marker": {
             "colorbar": {
              "outlinewidth": 0,
              "ticks": ""
             }
            },
            "type": "scatterternary"
           }
          ],
          "surface": [
           {
            "colorbar": {
             "outlinewidth": 0,
             "ticks": ""
            },
            "colorscale": [
             [
              0,
              "#0d0887"
             ],
             [
              0.1111111111111111,
              "#46039f"
             ],
             [
              0.2222222222222222,
              "#7201a8"
             ],
             [
              0.3333333333333333,
              "#9c179e"
             ],
             [
              0.4444444444444444,
              "#bd3786"
             ],
             [
              0.5555555555555556,
              "#d8576b"
             ],
             [
              0.6666666666666666,
              "#ed7953"
             ],
             [
              0.7777777777777778,
              "#fb9f3a"
             ],
             [
              0.8888888888888888,
              "#fdca26"
             ],
             [
              1,
              "#f0f921"
             ]
            ],
            "type": "surface"
           }
          ],
          "table": [
           {
            "cells": {
             "fill": {
              "color": "#EBF0F8"
             },
             "line": {
              "color": "white"
             }
            },
            "header": {
             "fill": {
              "color": "#C8D4E3"
             },
             "line": {
              "color": "white"
             }
            },
            "type": "table"
           }
          ]
         },
         "layout": {
          "annotationdefaults": {
           "arrowcolor": "#2a3f5f",
           "arrowhead": 0,
           "arrowwidth": 1
          },
          "autotypenumbers": "strict",
          "coloraxis": {
           "colorbar": {
            "outlinewidth": 0,
            "ticks": ""
           }
          },
          "colorscale": {
           "diverging": [
            [
             0,
             "#8e0152"
            ],
            [
             0.1,
             "#c51b7d"
            ],
            [
             0.2,
             "#de77ae"
            ],
            [
             0.3,
             "#f1b6da"
            ],
            [
             0.4,
             "#fde0ef"
            ],
            [
             0.5,
             "#f7f7f7"
            ],
            [
             0.6,
             "#e6f5d0"
            ],
            [
             0.7,
             "#b8e186"
            ],
            [
             0.8,
             "#7fbc41"
            ],
            [
             0.9,
             "#4d9221"
            ],
            [
             1,
             "#276419"
            ]
           ],
           "sequential": [
            [
             0,
             "#0d0887"
            ],
            [
             0.1111111111111111,
             "#46039f"
            ],
            [
             0.2222222222222222,
             "#7201a8"
            ],
            [
             0.3333333333333333,
             "#9c179e"
            ],
            [
             0.4444444444444444,
             "#bd3786"
            ],
            [
             0.5555555555555556,
             "#d8576b"
            ],
            [
             0.6666666666666666,
             "#ed7953"
            ],
            [
             0.7777777777777778,
             "#fb9f3a"
            ],
            [
             0.8888888888888888,
             "#fdca26"
            ],
            [
             1,
             "#f0f921"
            ]
           ],
           "sequentialminus": [
            [
             0,
             "#0d0887"
            ],
            [
             0.1111111111111111,
             "#46039f"
            ],
            [
             0.2222222222222222,
             "#7201a8"
            ],
            [
             0.3333333333333333,
             "#9c179e"
            ],
            [
             0.4444444444444444,
             "#bd3786"
            ],
            [
             0.5555555555555556,
             "#d8576b"
            ],
            [
             0.6666666666666666,
             "#ed7953"
            ],
            [
             0.7777777777777778,
             "#fb9f3a"
            ],
            [
             0.8888888888888888,
             "#fdca26"
            ],
            [
             1,
             "#f0f921"
            ]
           ]
          },
          "colorway": [
           "#636efa",
           "#EF553B",
           "#00cc96",
           "#ab63fa",
           "#FFA15A",
           "#19d3f3",
           "#FF6692",
           "#B6E880",
           "#FF97FF",
           "#FECB52"
          ],
          "font": {
           "color": "#2a3f5f"
          },
          "geo": {
           "bgcolor": "white",
           "lakecolor": "white",
           "landcolor": "#E5ECF6",
           "showlakes": true,
           "showland": true,
           "subunitcolor": "white"
          },
          "hoverlabel": {
           "align": "left"
          },
          "hovermode": "closest",
          "mapbox": {
           "style": "light"
          },
          "paper_bgcolor": "white",
          "plot_bgcolor": "#E5ECF6",
          "polar": {
           "angularaxis": {
            "gridcolor": "white",
            "linecolor": "white",
            "ticks": ""
           },
           "bgcolor": "#E5ECF6",
           "radialaxis": {
            "gridcolor": "white",
            "linecolor": "white",
            "ticks": ""
           }
          },
          "scene": {
           "xaxis": {
            "backgroundcolor": "#E5ECF6",
            "gridcolor": "white",
            "gridwidth": 2,
            "linecolor": "white",
            "showbackground": true,
            "ticks": "",
            "zerolinecolor": "white"
           },
           "yaxis": {
            "backgroundcolor": "#E5ECF6",
            "gridcolor": "white",
            "gridwidth": 2,
            "linecolor": "white",
            "showbackground": true,
            "ticks": "",
            "zerolinecolor": "white"
           },
           "zaxis": {
            "backgroundcolor": "#E5ECF6",
            "gridcolor": "white",
            "gridwidth": 2,
            "linecolor": "white",
            "showbackground": true,
            "ticks": "",
            "zerolinecolor": "white"
           }
          },
          "shapedefaults": {
           "line": {
            "color": "#2a3f5f"
           }
          },
          "ternary": {
           "aaxis": {
            "gridcolor": "white",
            "linecolor": "white",
            "ticks": ""
           },
           "baxis": {
            "gridcolor": "white",
            "linecolor": "white",
            "ticks": ""
           },
           "bgcolor": "#E5ECF6",
           "caxis": {
            "gridcolor": "white",
            "linecolor": "white",
            "ticks": ""
           }
          },
          "title": {
           "x": 0.05
          },
          "xaxis": {
           "automargin": true,
           "gridcolor": "white",
           "linecolor": "white",
           "ticks": "",
           "title": {
            "standoff": 15
           },
           "zerolinecolor": "white",
           "zerolinewidth": 2
          },
          "yaxis": {
           "automargin": true,
           "gridcolor": "white",
           "linecolor": "white",
           "ticks": "",
           "title": {
            "standoff": 15
           },
           "zerolinecolor": "white",
           "zerolinewidth": 2
          }
         }
        },
        "xaxis": {
         "dtick": 1,
         "gridwidth": 2,
         "showticklabels": false,
         "tick0": -0.5,
         "ticks": "",
         "zeroline": false
        },
        "yaxis": {
         "autorange": "reversed",
         "dtick": 1,
         "gridwidth": 2,
         "showticklabels": false,
         "tick0": 0.5,
         "ticks": "",
         "zeroline": false
        }
       }
      }
     },
     "metadata": {},
     "output_type": "display_data"
    },
    {
     "data": {
      "application/vnd.plotly.v1+json": {
       "config": {
        "plotlyServerURL": "https://plot.ly"
       },
       "data": [
        {
         "alignmentgroup": "True",
         "hovertemplate": "POS=%{x}<br>Jumlah=%{text}<extra></extra>",
         "legendgroup": "UNK",
         "marker": {
          "color": "#636efa",
          "pattern": {
           "shape": ""
          }
         },
         "name": "UNK",
         "offsetgroup": "UNK",
         "orientation": "v",
         "showlegend": true,
         "text": [
          17033
         ],
         "textposition": "outside",
         "type": "bar",
         "x": [
          "UNK"
         ],
         "xaxis": "x",
         "y": [
          17033
         ],
         "yaxis": "y"
        },
        {
         "alignmentgroup": "True",
         "hovertemplate": "POS=%{x}<br>Jumlah=%{text}<extra></extra>",
         "legendgroup": "PUNCT",
         "marker": {
          "color": "#EF553B",
          "pattern": {
           "shape": ""
          }
         },
         "name": "PUNCT",
         "offsetgroup": "PUNCT",
         "orientation": "v",
         "showlegend": true,
         "text": [
          6299
         ],
         "textposition": "outside",
         "type": "bar",
         "x": [
          "PUNCT"
         ],
         "xaxis": "x",
         "y": [
          6299
         ],
         "yaxis": "y"
        },
        {
         "alignmentgroup": "True",
         "hovertemplate": "POS=%{x}<br>Jumlah=%{text}<extra></extra>",
         "legendgroup": "NOUN",
         "marker": {
          "color": "#00cc96",
          "pattern": {
           "shape": ""
          }
         },
         "name": "NOUN",
         "offsetgroup": "NOUN",
         "orientation": "v",
         "showlegend": true,
         "text": [
          2650
         ],
         "textposition": "outside",
         "type": "bar",
         "x": [
          "NOUN"
         ],
         "xaxis": "x",
         "y": [
          2650
         ],
         "yaxis": "y"
        },
        {
         "alignmentgroup": "True",
         "hovertemplate": "POS=%{x}<br>Jumlah=%{text}<extra></extra>",
         "legendgroup": "VERB",
         "marker": {
          "color": "#ab63fa",
          "pattern": {
           "shape": ""
          }
         },
         "name": "VERB",
         "offsetgroup": "VERB",
         "orientation": "v",
         "showlegend": true,
         "text": [
          1664
         ],
         "textposition": "outside",
         "type": "bar",
         "x": [
          "VERB"
         ],
         "xaxis": "x",
         "y": [
          1664
         ],
         "yaxis": "y"
        },
        {
         "alignmentgroup": "True",
         "hovertemplate": "POS=%{x}<br>Jumlah=%{text}<extra></extra>",
         "legendgroup": "ADJ",
         "marker": {
          "color": "#FFA15A",
          "pattern": {
           "shape": ""
          }
         },
         "name": "ADJ",
         "offsetgroup": "ADJ",
         "orientation": "v",
         "showlegend": true,
         "text": [
          1011
         ],
         "textposition": "outside",
         "type": "bar",
         "x": [
          "ADJ"
         ],
         "xaxis": "x",
         "y": [
          1011
         ],
         "yaxis": "y"
        },
        {
         "alignmentgroup": "True",
         "hovertemplate": "POS=%{x}<br>Jumlah=%{text}<extra></extra>",
         "legendgroup": "PART",
         "marker": {
          "color": "#19d3f3",
          "pattern": {
           "shape": ""
          }
         },
         "name": "PART",
         "offsetgroup": "PART",
         "orientation": "v",
         "showlegend": true,
         "text": [
          813
         ],
         "textposition": "outside",
         "type": "bar",
         "x": [
          "PART"
         ],
         "xaxis": "x",
         "y": [
          813
         ],
         "yaxis": "y"
        },
        {
         "alignmentgroup": "True",
         "hovertemplate": "POS=%{x}<br>Jumlah=%{text}<extra></extra>",
         "legendgroup": "PRON",
         "marker": {
          "color": "#FF6692",
          "pattern": {
           "shape": ""
          }
         },
         "name": "PRON",
         "offsetgroup": "PRON",
         "orientation": "v",
         "showlegend": true,
         "text": [
          796
         ],
         "textposition": "outside",
         "type": "bar",
         "x": [
          "PRON"
         ],
         "xaxis": "x",
         "y": [
          796
         ],
         "yaxis": "y"
        },
        {
         "alignmentgroup": "True",
         "hovertemplate": "POS=%{x}<br>Jumlah=%{text}<extra></extra>",
         "legendgroup": "ADV",
         "marker": {
          "color": "#B6E880",
          "pattern": {
           "shape": ""
          }
         },
         "name": "ADV",
         "offsetgroup": "ADV",
         "orientation": "v",
         "showlegend": true,
         "text": [
          576
         ],
         "textposition": "outside",
         "type": "bar",
         "x": [
          "ADV"
         ],
         "xaxis": "x",
         "y": [
          576
         ],
         "yaxis": "y"
        },
        {
         "alignmentgroup": "True",
         "hovertemplate": "POS=%{x}<br>Jumlah=%{text}<extra></extra>",
         "legendgroup": "ADP",
         "marker": {
          "color": "#FF97FF",
          "pattern": {
           "shape": ""
          }
         },
         "name": "ADP",
         "offsetgroup": "ADP",
         "orientation": "v",
         "showlegend": true,
         "text": [
          459
         ],
         "textposition": "outside",
         "type": "bar",
         "x": [
          "ADP"
         ],
         "xaxis": "x",
         "y": [
          459
         ],
         "yaxis": "y"
        },
        {
         "alignmentgroup": "True",
         "hovertemplate": "POS=%{x}<br>Jumlah=%{text}<extra></extra>",
         "legendgroup": "CCONJ",
         "marker": {
          "color": "#FECB52",
          "pattern": {
           "shape": ""
          }
         },
         "name": "CCONJ",
         "offsetgroup": "CCONJ",
         "orientation": "v",
         "showlegend": true,
         "text": [
          439
         ],
         "textposition": "outside",
         "type": "bar",
         "x": [
          "CCONJ"
         ],
         "xaxis": "x",
         "y": [
          439
         ],
         "yaxis": "y"
        },
        {
         "alignmentgroup": "True",
         "hovertemplate": "POS=%{x}<br>Jumlah=%{text}<extra></extra>",
         "legendgroup": "SCONJ",
         "marker": {
          "color": "#636efa",
          "pattern": {
           "shape": ""
          }
         },
         "name": "SCONJ",
         "offsetgroup": "SCONJ",
         "orientation": "v",
         "showlegend": true,
         "text": [
          439
         ],
         "textposition": "outside",
         "type": "bar",
         "x": [
          "SCONJ"
         ],
         "xaxis": "x",
         "y": [
          439
         ],
         "yaxis": "y"
        },
        {
         "alignmentgroup": "True",
         "hovertemplate": "POS=%{x}<br>Jumlah=%{text}<extra></extra>",
         "legendgroup": "AUX",
         "marker": {
          "color": "#EF553B",
          "pattern": {
           "shape": ""
          }
         },
         "name": "AUX",
         "offsetgroup": "AUX",
         "orientation": "v",
         "showlegend": true,
         "text": [
          425
         ],
         "textposition": "outside",
         "type": "bar",
         "x": [
          "AUX"
         ],
         "xaxis": "x",
         "y": [
          425
         ],
         "yaxis": "y"
        },
        {
         "alignmentgroup": "True",
         "hovertemplate": "POS=%{x}<br>Jumlah=%{text}<extra></extra>",
         "legendgroup": "PROPN",
         "marker": {
          "color": "#00cc96",
          "pattern": {
           "shape": ""
          }
         },
         "name": "PROPN",
         "offsetgroup": "PROPN",
         "orientation": "v",
         "showlegend": true,
         "text": [
          199
         ],
         "textposition": "outside",
         "type": "bar",
         "x": [
          "PROPN"
         ],
         "xaxis": "x",
         "y": [
          199
         ],
         "yaxis": "y"
        },
        {
         "alignmentgroup": "True",
         "hovertemplate": "POS=%{x}<br>Jumlah=%{text}<extra></extra>",
         "legendgroup": "DET",
         "marker": {
          "color": "#ab63fa",
          "pattern": {
           "shape": ""
          }
         },
         "name": "DET",
         "offsetgroup": "DET",
         "orientation": "v",
         "showlegend": true,
         "text": [
          121
         ],
         "textposition": "outside",
         "type": "bar",
         "x": [
          "DET"
         ],
         "xaxis": "x",
         "y": [
          121
         ],
         "yaxis": "y"
        },
        {
         "alignmentgroup": "True",
         "hovertemplate": "POS=%{x}<br>Jumlah=%{text}<extra></extra>",
         "legendgroup": "X",
         "marker": {
          "color": "#FFA15A",
          "pattern": {
           "shape": ""
          }
         },
         "name": "X",
         "offsetgroup": "X",
         "orientation": "v",
         "showlegend": true,
         "text": [
          67
         ],
         "textposition": "outside",
         "type": "bar",
         "x": [
          "X"
         ],
         "xaxis": "x",
         "y": [
          67
         ],
         "yaxis": "y"
        },
        {
         "alignmentgroup": "True",
         "hovertemplate": "POS=%{x}<br>Jumlah=%{text}<extra></extra>",
         "legendgroup": "NUM",
         "marker": {
          "color": "#19d3f3",
          "pattern": {
           "shape": ""
          }
         },
         "name": "NUM",
         "offsetgroup": "NUM",
         "orientation": "v",
         "showlegend": true,
         "text": [
          57
         ],
         "textposition": "outside",
         "type": "bar",
         "x": [
          "NUM"
         ],
         "xaxis": "x",
         "y": [
          57
         ],
         "yaxis": "y"
        }
       ],
       "layout": {
        "barmode": "relative",
        "legend": {
         "title": {
          "text": "POS"
         },
         "tracegroupgap": 0
        },
        "template": {
         "data": {
          "bar": [
           {
            "error_x": {
             "color": "#2a3f5f"
            },
            "error_y": {
             "color": "#2a3f5f"
            },
            "marker": {
             "line": {
              "color": "#E5ECF6",
              "width": 0.5
             },
             "pattern": {
              "fillmode": "overlay",
              "size": 10,
              "solidity": 0.2
             }
            },
            "type": "bar"
           }
          ],
          "barpolar": [
           {
            "marker": {
             "line": {
              "color": "#E5ECF6",
              "width": 0.5
             },
             "pattern": {
              "fillmode": "overlay",
              "size": 10,
              "solidity": 0.2
             }
            },
            "type": "barpolar"
           }
          ],
          "carpet": [
           {
            "aaxis": {
             "endlinecolor": "#2a3f5f",
             "gridcolor": "white",
             "linecolor": "white",
             "minorgridcolor": "white",
             "startlinecolor": "#2a3f5f"
            },
            "baxis": {
             "endlinecolor": "#2a3f5f",
             "gridcolor": "white",
             "linecolor": "white",
             "minorgridcolor": "white",
             "startlinecolor": "#2a3f5f"
            },
            "type": "carpet"
           }
          ],
          "choropleth": [
           {
            "colorbar": {
             "outlinewidth": 0,
             "ticks": ""
            },
            "type": "choropleth"
           }
          ],
          "contour": [
           {
            "colorbar": {
             "outlinewidth": 0,
             "ticks": ""
            },
            "colorscale": [
             [
              0,
              "#0d0887"
             ],
             [
              0.1111111111111111,
              "#46039f"
             ],
             [
              0.2222222222222222,
              "#7201a8"
             ],
             [
              0.3333333333333333,
              "#9c179e"
             ],
             [
              0.4444444444444444,
              "#bd3786"
             ],
             [
              0.5555555555555556,
              "#d8576b"
             ],
             [
              0.6666666666666666,
              "#ed7953"
             ],
             [
              0.7777777777777778,
              "#fb9f3a"
             ],
             [
              0.8888888888888888,
              "#fdca26"
             ],
             [
              1,
              "#f0f921"
             ]
            ],
            "type": "contour"
           }
          ],
          "contourcarpet": [
           {
            "colorbar": {
             "outlinewidth": 0,
             "ticks": ""
            },
            "type": "contourcarpet"
           }
          ],
          "heatmap": [
           {
            "colorbar": {
             "outlinewidth": 0,
             "ticks": ""
            },
            "colorscale": [
             [
              0,
              "#0d0887"
             ],
             [
              0.1111111111111111,
              "#46039f"
             ],
             [
              0.2222222222222222,
              "#7201a8"
             ],
             [
              0.3333333333333333,
              "#9c179e"
             ],
             [
              0.4444444444444444,
              "#bd3786"
             ],
             [
              0.5555555555555556,
              "#d8576b"
             ],
             [
              0.6666666666666666,
              "#ed7953"
             ],
             [
              0.7777777777777778,
              "#fb9f3a"
             ],
             [
              0.8888888888888888,
              "#fdca26"
             ],
             [
              1,
              "#f0f921"
             ]
            ],
            "type": "heatmap"
           }
          ],
          "heatmapgl": [
           {
            "colorbar": {
             "outlinewidth": 0,
             "ticks": ""
            },
            "colorscale": [
             [
              0,
              "#0d0887"
             ],
             [
              0.1111111111111111,
              "#46039f"
             ],
             [
              0.2222222222222222,
              "#7201a8"
             ],
             [
              0.3333333333333333,
              "#9c179e"
             ],
             [
              0.4444444444444444,
              "#bd3786"
             ],
             [
              0.5555555555555556,
              "#d8576b"
             ],
             [
              0.6666666666666666,
              "#ed7953"
             ],
             [
              0.7777777777777778,
              "#fb9f3a"
             ],
             [
              0.8888888888888888,
              "#fdca26"
             ],
             [
              1,
              "#f0f921"
             ]
            ],
            "type": "heatmapgl"
           }
          ],
          "histogram": [
           {
            "marker": {
             "pattern": {
              "fillmode": "overlay",
              "size": 10,
              "solidity": 0.2
             }
            },
            "type": "histogram"
           }
          ],
          "histogram2d": [
           {
            "colorbar": {
             "outlinewidth": 0,
             "ticks": ""
            },
            "colorscale": [
             [
              0,
              "#0d0887"
             ],
             [
              0.1111111111111111,
              "#46039f"
             ],
             [
              0.2222222222222222,
              "#7201a8"
             ],
             [
              0.3333333333333333,
              "#9c179e"
             ],
             [
              0.4444444444444444,
              "#bd3786"
             ],
             [
              0.5555555555555556,
              "#d8576b"
             ],
             [
              0.6666666666666666,
              "#ed7953"
             ],
             [
              0.7777777777777778,
              "#fb9f3a"
             ],
             [
              0.8888888888888888,
              "#fdca26"
             ],
             [
              1,
              "#f0f921"
             ]
            ],
            "type": "histogram2d"
           }
          ],
          "histogram2dcontour": [
           {
            "colorbar": {
             "outlinewidth": 0,
             "ticks": ""
            },
            "colorscale": [
             [
              0,
              "#0d0887"
             ],
             [
              0.1111111111111111,
              "#46039f"
             ],
             [
              0.2222222222222222,
              "#7201a8"
             ],
             [
              0.3333333333333333,
              "#9c179e"
             ],
             [
              0.4444444444444444,
              "#bd3786"
             ],
             [
              0.5555555555555556,
              "#d8576b"
             ],
             [
              0.6666666666666666,
              "#ed7953"
             ],
             [
              0.7777777777777778,
              "#fb9f3a"
             ],
             [
              0.8888888888888888,
              "#fdca26"
             ],
             [
              1,
              "#f0f921"
             ]
            ],
            "type": "histogram2dcontour"
           }
          ],
          "mesh3d": [
           {
            "colorbar": {
             "outlinewidth": 0,
             "ticks": ""
            },
            "type": "mesh3d"
           }
          ],
          "parcoords": [
           {
            "line": {
             "colorbar": {
              "outlinewidth": 0,
              "ticks": ""
             }
            },
            "type": "parcoords"
           }
          ],
          "pie": [
           {
            "automargin": true,
            "type": "pie"
           }
          ],
          "scatter": [
           {
            "fillpattern": {
             "fillmode": "overlay",
             "size": 10,
             "solidity": 0.2
            },
            "type": "scatter"
           }
          ],
          "scatter3d": [
           {
            "line": {
             "colorbar": {
              "outlinewidth": 0,
              "ticks": ""
             }
            },
            "marker": {
             "colorbar": {
              "outlinewidth": 0,
              "ticks": ""
             }
            },
            "type": "scatter3d"
           }
          ],
          "scattercarpet": [
           {
            "marker": {
             "colorbar": {
              "outlinewidth": 0,
              "ticks": ""
             }
            },
            "type": "scattercarpet"
           }
          ],
          "scattergeo": [
           {
            "marker": {
             "colorbar": {
              "outlinewidth": 0,
              "ticks": ""
             }
            },
            "type": "scattergeo"
           }
          ],
          "scattergl": [
           {
            "marker": {
             "colorbar": {
              "outlinewidth": 0,
              "ticks": ""
             }
            },
            "type": "scattergl"
           }
          ],
          "scattermapbox": [
           {
            "marker": {
             "colorbar": {
              "outlinewidth": 0,
              "ticks": ""
             }
            },
            "type": "scattermapbox"
           }
          ],
          "scatterpolar": [
           {
            "marker": {
             "colorbar": {
              "outlinewidth": 0,
              "ticks": ""
             }
            },
            "type": "scatterpolar"
           }
          ],
          "scatterpolargl": [
           {
            "marker": {
             "colorbar": {
              "outlinewidth": 0,
              "ticks": ""
             }
            },
            "type": "scatterpolargl"
           }
          ],
          "scatterternary": [
           {
            "marker": {
             "colorbar": {
              "outlinewidth": 0,
              "ticks": ""
             }
            },
            "type": "scatterternary"
           }
          ],
          "surface": [
           {
            "colorbar": {
             "outlinewidth": 0,
             "ticks": ""
            },
            "colorscale": [
             [
              0,
              "#0d0887"
             ],
             [
              0.1111111111111111,
              "#46039f"
             ],
             [
              0.2222222222222222,
              "#7201a8"
             ],
             [
              0.3333333333333333,
              "#9c179e"
             ],
             [
              0.4444444444444444,
              "#bd3786"
             ],
             [
              0.5555555555555556,
              "#d8576b"
             ],
             [
              0.6666666666666666,
              "#ed7953"
             ],
             [
              0.7777777777777778,
              "#fb9f3a"
             ],
             [
              0.8888888888888888,
              "#fdca26"
             ],
             [
              1,
              "#f0f921"
             ]
            ],
            "type": "surface"
           }
          ],
          "table": [
           {
            "cells": {
             "fill": {
              "color": "#EBF0F8"
             },
             "line": {
              "color": "white"
             }
            },
            "header": {
             "fill": {
              "color": "#C8D4E3"
             },
             "line": {
              "color": "white"
             }
            },
            "type": "table"
           }
          ]
         },
         "layout": {
          "annotationdefaults": {
           "arrowcolor": "#2a3f5f",
           "arrowhead": 0,
           "arrowwidth": 1
          },
          "autotypenumbers": "strict",
          "coloraxis": {
           "colorbar": {
            "outlinewidth": 0,
            "ticks": ""
           }
          },
          "colorscale": {
           "diverging": [
            [
             0,
             "#8e0152"
            ],
            [
             0.1,
             "#c51b7d"
            ],
            [
             0.2,
             "#de77ae"
            ],
            [
             0.3,
             "#f1b6da"
            ],
            [
             0.4,
             "#fde0ef"
            ],
            [
             0.5,
             "#f7f7f7"
            ],
            [
             0.6,
             "#e6f5d0"
            ],
            [
             0.7,
             "#b8e186"
            ],
            [
             0.8,
             "#7fbc41"
            ],
            [
             0.9,
             "#4d9221"
            ],
            [
             1,
             "#276419"
            ]
           ],
           "sequential": [
            [
             0,
             "#0d0887"
            ],
            [
             0.1111111111111111,
             "#46039f"
            ],
            [
             0.2222222222222222,
             "#7201a8"
            ],
            [
             0.3333333333333333,
             "#9c179e"
            ],
            [
             0.4444444444444444,
             "#bd3786"
            ],
            [
             0.5555555555555556,
             "#d8576b"
            ],
            [
             0.6666666666666666,
             "#ed7953"
            ],
            [
             0.7777777777777778,
             "#fb9f3a"
            ],
            [
             0.8888888888888888,
             "#fdca26"
            ],
            [
             1,
             "#f0f921"
            ]
           ],
           "sequentialminus": [
            [
             0,
             "#0d0887"
            ],
            [
             0.1111111111111111,
             "#46039f"
            ],
            [
             0.2222222222222222,
             "#7201a8"
            ],
            [
             0.3333333333333333,
             "#9c179e"
            ],
            [
             0.4444444444444444,
             "#bd3786"
            ],
            [
             0.5555555555555556,
             "#d8576b"
            ],
            [
             0.6666666666666666,
             "#ed7953"
            ],
            [
             0.7777777777777778,
             "#fb9f3a"
            ],
            [
             0.8888888888888888,
             "#fdca26"
            ],
            [
             1,
             "#f0f921"
            ]
           ]
          },
          "colorway": [
           "#636efa",
           "#EF553B",
           "#00cc96",
           "#ab63fa",
           "#FFA15A",
           "#19d3f3",
           "#FF6692",
           "#B6E880",
           "#FF97FF",
           "#FECB52"
          ],
          "font": {
           "color": "#2a3f5f"
          },
          "geo": {
           "bgcolor": "white",
           "lakecolor": "white",
           "landcolor": "#E5ECF6",
           "showlakes": true,
           "showland": true,
           "subunitcolor": "white"
          },
          "hoverlabel": {
           "align": "left"
          },
          "hovermode": "closest",
          "mapbox": {
           "style": "light"
          },
          "paper_bgcolor": "white",
          "plot_bgcolor": "#E5ECF6",
          "polar": {
           "angularaxis": {
            "gridcolor": "white",
            "linecolor": "white",
            "ticks": ""
           },
           "bgcolor": "#E5ECF6",
           "radialaxis": {
            "gridcolor": "white",
            "linecolor": "white",
            "ticks": ""
           }
          },
          "scene": {
           "xaxis": {
            "backgroundcolor": "#E5ECF6",
            "gridcolor": "white",
            "gridwidth": 2,
            "linecolor": "white",
            "showbackground": true,
            "ticks": "",
            "zerolinecolor": "white"
           },
           "yaxis": {
            "backgroundcolor": "#E5ECF6",
            "gridcolor": "white",
            "gridwidth": 2,
            "linecolor": "white",
            "showbackground": true,
            "ticks": "",
            "zerolinecolor": "white"
           },
           "zaxis": {
            "backgroundcolor": "#E5ECF6",
            "gridcolor": "white",
            "gridwidth": 2,
            "linecolor": "white",
            "showbackground": true,
            "ticks": "",
            "zerolinecolor": "white"
           }
          },
          "shapedefaults": {
           "line": {
            "color": "#2a3f5f"
           }
          },
          "ternary": {
           "aaxis": {
            "gridcolor": "white",
            "linecolor": "white",
            "ticks": ""
           },
           "baxis": {
            "gridcolor": "white",
            "linecolor": "white",
            "ticks": ""
           },
           "bgcolor": "#E5ECF6",
           "caxis": {
            "gridcolor": "white",
            "linecolor": "white",
            "ticks": ""
           }
          },
          "title": {
           "x": 0.05
          },
          "xaxis": {
           "automargin": true,
           "gridcolor": "white",
           "linecolor": "white",
           "ticks": "",
           "title": {
            "standoff": 15
           },
           "zerolinecolor": "white",
           "zerolinewidth": 2
          },
          "yaxis": {
           "automargin": true,
           "gridcolor": "white",
           "linecolor": "white",
           "ticks": "",
           "title": {
            "standoff": 15
           },
           "zerolinecolor": "white",
           "zerolinewidth": 2
          }
         }
        },
        "title": {
         "text": "Distribusi POS (Universal)"
        },
        "xaxis": {
         "anchor": "y",
         "categoryarray": [
          "UNK",
          "PUNCT",
          "NOUN",
          "VERB",
          "ADJ",
          "PART",
          "PRON",
          "ADV",
          "ADP",
          "CCONJ",
          "SCONJ",
          "AUX",
          "PROPN",
          "DET",
          "X",
          "NUM"
         ],
         "categoryorder": "array",
         "domain": [
          0,
          1
         ],
         "title": {
          "text": "POS"
         }
        },
        "yaxis": {
         "anchor": "x",
         "domain": [
          0,
          1
         ],
         "title": {
          "text": "Jumlah"
         }
        }
       }
      }
     },
     "metadata": {},
     "output_type": "display_data"
    },
    {
     "data": {
      "application/vnd.plotly.v1+json": {
       "config": {
        "plotlyServerURL": "https://plot.ly"
       },
       "data": [
        {
         "alignmentgroup": "True",
         "hovertemplate": "POS=%{x}<br>Jumlah=%{text}<extra></extra>",
         "legendgroup": "UNK",
         "marker": {
          "color": "#636efa",
          "pattern": {
           "shape": ""
          }
         },
         "name": "UNK",
         "offsetgroup": "UNK",
         "orientation": "v",
         "showlegend": true,
         "text": [
          17033
         ],
         "textposition": "outside",
         "type": "bar",
         "x": [
          "UNK"
         ],
         "xaxis": "x",
         "y": [
          17033
         ],
         "yaxis": "y"
        },
        {
         "alignmentgroup": "True",
         "hovertemplate": "POS=%{x}<br>Jumlah=%{text}<extra></extra>",
         "legendgroup": "TANDA_BACA",
         "marker": {
          "color": "#EF553B",
          "pattern": {
           "shape": ""
          }
         },
         "name": "TANDA_BACA",
         "offsetgroup": "TANDA_BACA",
         "orientation": "v",
         "showlegend": true,
         "text": [
          6291
         ],
         "textposition": "outside",
         "type": "bar",
         "x": [
          "TANDA_BACA"
         ],
         "xaxis": "x",
         "y": [
          6291
         ],
         "yaxis": "y"
        },
        {
         "alignmentgroup": "True",
         "hovertemplate": "POS=%{x}<br>Jumlah=%{text}<extra></extra>",
         "legendgroup": "KB",
         "marker": {
          "color": "#00cc96",
          "pattern": {
           "shape": ""
          }
         },
         "name": "KB",
         "offsetgroup": "KB",
         "orientation": "v",
         "showlegend": true,
         "text": [
          2650
         ],
         "textposition": "outside",
         "type": "bar",
         "x": [
          "KB"
         ],
         "xaxis": "x",
         "y": [
          2650
         ],
         "yaxis": "y"
        },
        {
         "alignmentgroup": "True",
         "hovertemplate": "POS=%{x}<br>Jumlah=%{text}<extra></extra>",
         "legendgroup": "KP",
         "marker": {
          "color": "#ab63fa",
          "pattern": {
           "shape": ""
          }
         },
         "name": "KP",
         "offsetgroup": "KP",
         "orientation": "v",
         "showlegend": true,
         "text": [
          1664
         ],
         "textposition": "outside",
         "type": "bar",
         "x": [
          "KP"
         ],
         "xaxis": "x",
         "y": [
          1664
         ],
         "yaxis": "y"
        },
        {
         "alignmentgroup": "True",
         "hovertemplate": "POS=%{x}<br>Jumlah=%{text}<extra></extra>",
         "legendgroup": "KS",
         "marker": {
          "color": "#FFA15A",
          "pattern": {
           "shape": ""
          }
         },
         "name": "KS",
         "offsetgroup": "KS",
         "orientation": "v",
         "showlegend": true,
         "text": [
          1011
         ],
         "textposition": "outside",
         "type": "bar",
         "x": [
          "KS"
         ],
         "xaxis": "x",
         "y": [
          1011
         ],
         "yaxis": "y"
        },
        {
         "alignmentgroup": "True",
         "hovertemplate": "POS=%{x}<br>Jumlah=%{text}<extra></extra>",
         "legendgroup": "PL",
         "marker": {
          "color": "#19d3f3",
          "pattern": {
           "shape": ""
          }
         },
         "name": "PL",
         "offsetgroup": "PL",
         "orientation": "v",
         "showlegend": true,
         "text": [
          813
         ],
         "textposition": "outside",
         "type": "bar",
         "x": [
          "PL"
         ],
         "xaxis": "x",
         "y": [
          813
         ],
         "yaxis": "y"
        },
        {
         "alignmentgroup": "True",
         "hovertemplate": "POS=%{x}<br>Jumlah=%{text}<extra></extra>",
         "legendgroup": "KG",
         "marker": {
          "color": "#FF6692",
          "pattern": {
           "shape": ""
          }
         },
         "name": "KG",
         "offsetgroup": "KG",
         "orientation": "v",
         "showlegend": true,
         "text": [
          796
         ],
         "textposition": "outside",
         "type": "bar",
         "x": [
          "KG"
         ],
         "xaxis": "x",
         "y": [
          796
         ],
         "yaxis": "y"
        },
        {
         "alignmentgroup": "True",
         "hovertemplate": "POS=%{x}<br>Jumlah=%{text}<extra></extra>",
         "legendgroup": "KT",
         "marker": {
          "color": "#B6E880",
          "pattern": {
           "shape": ""
          }
         },
         "name": "KT",
         "offsetgroup": "KT",
         "orientation": "v",
         "showlegend": true,
         "text": [
          576
         ],
         "textposition": "outside",
         "type": "bar",
         "x": [
          "KT"
         ],
         "xaxis": "x",
         "y": [
          576
         ],
         "yaxis": "y"
        },
        {
         "alignmentgroup": "True",
         "hovertemplate": "POS=%{x}<br>Jumlah=%{text}<extra></extra>",
         "legendgroup": "PA",
         "marker": {
          "color": "#FF97FF",
          "pattern": {
           "shape": ""
          }
         },
         "name": "PA",
         "offsetgroup": "PA",
         "orientation": "v",
         "showlegend": true,
         "text": [
          459
         ],
         "textposition": "outside",
         "type": "bar",
         "x": [
          "PA"
         ],
         "xaxis": "x",
         "y": [
          459
         ],
         "yaxis": "y"
        },
        {
         "alignmentgroup": "True",
         "hovertemplate": "POS=%{x}<br>Jumlah=%{text}<extra></extra>",
         "legendgroup": "KPN",
         "marker": {
          "color": "#FECB52",
          "pattern": {
           "shape": ""
          }
         },
         "name": "KPN",
         "offsetgroup": "KPN",
         "orientation": "v",
         "showlegend": true,
         "text": [
          439
         ],
         "textposition": "outside",
         "type": "bar",
         "x": [
          "KPN"
         ],
         "xaxis": "x",
         "y": [
          439
         ],
         "yaxis": "y"
        },
        {
         "alignmentgroup": "True",
         "hovertemplate": "POS=%{x}<br>Jumlah=%{text}<extra></extra>",
         "legendgroup": "KPB",
         "marker": {
          "color": "#636efa",
          "pattern": {
           "shape": ""
          }
         },
         "name": "KPB",
         "offsetgroup": "KPB",
         "orientation": "v",
         "showlegend": true,
         "text": [
          439
         ],
         "textposition": "outside",
         "type": "bar",
         "x": [
          "KPB"
         ],
         "xaxis": "x",
         "y": [
          439
         ],
         "yaxis": "y"
        },
        {
         "alignmentgroup": "True",
         "hovertemplate": "POS=%{x}<br>Jumlah=%{text}<extra></extra>",
         "legendgroup": "KBT",
         "marker": {
          "color": "#EF553B",
          "pattern": {
           "shape": ""
          }
         },
         "name": "KBT",
         "offsetgroup": "KBT",
         "orientation": "v",
         "showlegend": true,
         "text": [
          425
         ],
         "textposition": "outside",
         "type": "bar",
         "x": [
          "KBT"
         ],
         "xaxis": "x",
         "y": [
          425
         ],
         "yaxis": "y"
        },
        {
         "alignmentgroup": "True",
         "hovertemplate": "POS=%{x}<br>Jumlah=%{text}<extra></extra>",
         "legendgroup": "KN",
         "marker": {
          "color": "#00cc96",
          "pattern": {
           "shape": ""
          }
         },
         "name": "KN",
         "offsetgroup": "KN",
         "orientation": "v",
         "showlegend": true,
         "text": [
          199
         ],
         "textposition": "outside",
         "type": "bar",
         "x": [
          "KN"
         ],
         "xaxis": "x",
         "y": [
          199
         ],
         "yaxis": "y"
        },
        {
         "alignmentgroup": "True",
         "hovertemplate": "POS=%{x}<br>Jumlah=%{text}<extra></extra>",
         "legendgroup": "PNJ",
         "marker": {
          "color": "#ab63fa",
          "pattern": {
           "shape": ""
          }
         },
         "name": "PNJ",
         "offsetgroup": "PNJ",
         "orientation": "v",
         "showlegend": true,
         "text": [
          121
         ],
         "textposition": "outside",
         "type": "bar",
         "x": [
          "PNJ"
         ],
         "xaxis": "x",
         "y": [
          121
         ],
         "yaxis": "y"
        },
        {
         "alignmentgroup": "True",
         "hovertemplate": "POS=%{x}<br>Jumlah=%{text}<extra></extra>",
         "legendgroup": "X",
         "marker": {
          "color": "#FFA15A",
          "pattern": {
           "shape": ""
          }
         },
         "name": "X",
         "offsetgroup": "X",
         "orientation": "v",
         "showlegend": true,
         "text": [
          67
         ],
         "textposition": "outside",
         "type": "bar",
         "x": [
          "X"
         ],
         "xaxis": "x",
         "y": [
          67
         ],
         "yaxis": "y"
        },
        {
         "alignmentgroup": "True",
         "hovertemplate": "POS=%{x}<br>Jumlah=%{text}<extra></extra>",
         "legendgroup": "WIL",
         "marker": {
          "color": "#19d3f3",
          "pattern": {
           "shape": ""
          }
         },
         "name": "WIL",
         "offsetgroup": "WIL",
         "orientation": "v",
         "showlegend": true,
         "text": [
          54
         ],
         "textposition": "outside",
         "type": "bar",
         "x": [
          "WIL"
         ],
         "xaxis": "x",
         "y": [
          54
         ],
         "yaxis": "y"
        },
        {
         "alignmentgroup": "True",
         "hovertemplate": "POS=%{x}<br>Jumlah=%{text}<extra></extra>",
         "legendgroup": "TB",
         "marker": {
          "color": "#FF6692",
          "pattern": {
           "shape": ""
          }
         },
         "name": "TB",
         "offsetgroup": "TB",
         "orientation": "v",
         "showlegend": true,
         "text": [
          8
         ],
         "textposition": "outside",
         "type": "bar",
         "x": [
          "TB"
         ],
         "xaxis": "x",
         "y": [
          8
         ],
         "yaxis": "y"
        },
        {
         "alignmentgroup": "True",
         "hovertemplate": "POS=%{x}<br>Jumlah=%{text}<extra></extra>",
         "legendgroup": "ANGKA",
         "marker": {
          "color": "#B6E880",
          "pattern": {
           "shape": ""
          }
         },
         "name": "ANGKA",
         "offsetgroup": "ANGKA",
         "orientation": "v",
         "showlegend": true,
         "text": [
          3
         ],
         "textposition": "outside",
         "type": "bar",
         "x": [
          "ANGKA"
         ],
         "xaxis": "x",
         "y": [
          3
         ],
         "yaxis": "y"
        }
       ],
       "layout": {
        "barmode": "relative",
        "legend": {
         "title": {
          "text": "POS"
         },
         "tracegroupgap": 0
        },
        "template": {
         "data": {
          "bar": [
           {
            "error_x": {
             "color": "#2a3f5f"
            },
            "error_y": {
             "color": "#2a3f5f"
            },
            "marker": {
             "line": {
              "color": "#E5ECF6",
              "width": 0.5
             },
             "pattern": {
              "fillmode": "overlay",
              "size": 10,
              "solidity": 0.2
             }
            },
            "type": "bar"
           }
          ],
          "barpolar": [
           {
            "marker": {
             "line": {
              "color": "#E5ECF6",
              "width": 0.5
             },
             "pattern": {
              "fillmode": "overlay",
              "size": 10,
              "solidity": 0.2
             }
            },
            "type": "barpolar"
           }
          ],
          "carpet": [
           {
            "aaxis": {
             "endlinecolor": "#2a3f5f",
             "gridcolor": "white",
             "linecolor": "white",
             "minorgridcolor": "white",
             "startlinecolor": "#2a3f5f"
            },
            "baxis": {
             "endlinecolor": "#2a3f5f",
             "gridcolor": "white",
             "linecolor": "white",
             "minorgridcolor": "white",
             "startlinecolor": "#2a3f5f"
            },
            "type": "carpet"
           }
          ],
          "choropleth": [
           {
            "colorbar": {
             "outlinewidth": 0,
             "ticks": ""
            },
            "type": "choropleth"
           }
          ],
          "contour": [
           {
            "colorbar": {
             "outlinewidth": 0,
             "ticks": ""
            },
            "colorscale": [
             [
              0,
              "#0d0887"
             ],
             [
              0.1111111111111111,
              "#46039f"
             ],
             [
              0.2222222222222222,
              "#7201a8"
             ],
             [
              0.3333333333333333,
              "#9c179e"
             ],
             [
              0.4444444444444444,
              "#bd3786"
             ],
             [
              0.5555555555555556,
              "#d8576b"
             ],
             [
              0.6666666666666666,
              "#ed7953"
             ],
             [
              0.7777777777777778,
              "#fb9f3a"
             ],
             [
              0.8888888888888888,
              "#fdca26"
             ],
             [
              1,
              "#f0f921"
             ]
            ],
            "type": "contour"
           }
          ],
          "contourcarpet": [
           {
            "colorbar": {
             "outlinewidth": 0,
             "ticks": ""
            },
            "type": "contourcarpet"
           }
          ],
          "heatmap": [
           {
            "colorbar": {
             "outlinewidth": 0,
             "ticks": ""
            },
            "colorscale": [
             [
              0,
              "#0d0887"
             ],
             [
              0.1111111111111111,
              "#46039f"
             ],
             [
              0.2222222222222222,
              "#7201a8"
             ],
             [
              0.3333333333333333,
              "#9c179e"
             ],
             [
              0.4444444444444444,
              "#bd3786"
             ],
             [
              0.5555555555555556,
              "#d8576b"
             ],
             [
              0.6666666666666666,
              "#ed7953"
             ],
             [
              0.7777777777777778,
              "#fb9f3a"
             ],
             [
              0.8888888888888888,
              "#fdca26"
             ],
             [
              1,
              "#f0f921"
             ]
            ],
            "type": "heatmap"
           }
          ],
          "heatmapgl": [
           {
            "colorbar": {
             "outlinewidth": 0,
             "ticks": ""
            },
            "colorscale": [
             [
              0,
              "#0d0887"
             ],
             [
              0.1111111111111111,
              "#46039f"
             ],
             [
              0.2222222222222222,
              "#7201a8"
             ],
             [
              0.3333333333333333,
              "#9c179e"
             ],
             [
              0.4444444444444444,
              "#bd3786"
             ],
             [
              0.5555555555555556,
              "#d8576b"
             ],
             [
              0.6666666666666666,
              "#ed7953"
             ],
             [
              0.7777777777777778,
              "#fb9f3a"
             ],
             [
              0.8888888888888888,
              "#fdca26"
             ],
             [
              1,
              "#f0f921"
             ]
            ],
            "type": "heatmapgl"
           }
          ],
          "histogram": [
           {
            "marker": {
             "pattern": {
              "fillmode": "overlay",
              "size": 10,
              "solidity": 0.2
             }
            },
            "type": "histogram"
           }
          ],
          "histogram2d": [
           {
            "colorbar": {
             "outlinewidth": 0,
             "ticks": ""
            },
            "colorscale": [
             [
              0,
              "#0d0887"
             ],
             [
              0.1111111111111111,
              "#46039f"
             ],
             [
              0.2222222222222222,
              "#7201a8"
             ],
             [
              0.3333333333333333,
              "#9c179e"
             ],
             [
              0.4444444444444444,
              "#bd3786"
             ],
             [
              0.5555555555555556,
              "#d8576b"
             ],
             [
              0.6666666666666666,
              "#ed7953"
             ],
             [
              0.7777777777777778,
              "#fb9f3a"
             ],
             [
              0.8888888888888888,
              "#fdca26"
             ],
             [
              1,
              "#f0f921"
             ]
            ],
            "type": "histogram2d"
           }
          ],
          "histogram2dcontour": [
           {
            "colorbar": {
             "outlinewidth": 0,
             "ticks": ""
            },
            "colorscale": [
             [
              0,
              "#0d0887"
             ],
             [
              0.1111111111111111,
              "#46039f"
             ],
             [
              0.2222222222222222,
              "#7201a8"
             ],
             [
              0.3333333333333333,
              "#9c179e"
             ],
             [
              0.4444444444444444,
              "#bd3786"
             ],
             [
              0.5555555555555556,
              "#d8576b"
             ],
             [
              0.6666666666666666,
              "#ed7953"
             ],
             [
              0.7777777777777778,
              "#fb9f3a"
             ],
             [
              0.8888888888888888,
              "#fdca26"
             ],
             [
              1,
              "#f0f921"
             ]
            ],
            "type": "histogram2dcontour"
           }
          ],
          "mesh3d": [
           {
            "colorbar": {
             "outlinewidth": 0,
             "ticks": ""
            },
            "type": "mesh3d"
           }
          ],
          "parcoords": [
           {
            "line": {
             "colorbar": {
              "outlinewidth": 0,
              "ticks": ""
             }
            },
            "type": "parcoords"
           }
          ],
          "pie": [
           {
            "automargin": true,
            "type": "pie"
           }
          ],
          "scatter": [
           {
            "fillpattern": {
             "fillmode": "overlay",
             "size": 10,
             "solidity": 0.2
            },
            "type": "scatter"
           }
          ],
          "scatter3d": [
           {
            "line": {
             "colorbar": {
              "outlinewidth": 0,
              "ticks": ""
             }
            },
            "marker": {
             "colorbar": {
              "outlinewidth": 0,
              "ticks": ""
             }
            },
            "type": "scatter3d"
           }
          ],
          "scattercarpet": [
           {
            "marker": {
             "colorbar": {
              "outlinewidth": 0,
              "ticks": ""
             }
            },
            "type": "scattercarpet"
           }
          ],
          "scattergeo": [
           {
            "marker": {
             "colorbar": {
              "outlinewidth": 0,
              "ticks": ""
             }
            },
            "type": "scattergeo"
           }
          ],
          "scattergl": [
           {
            "marker": {
             "colorbar": {
              "outlinewidth": 0,
              "ticks": ""
             }
            },
            "type": "scattergl"
           }
          ],
          "scattermapbox": [
           {
            "marker": {
             "colorbar": {
              "outlinewidth": 0,
              "ticks": ""
             }
            },
            "type": "scattermapbox"
           }
          ],
          "scatterpolar": [
           {
            "marker": {
             "colorbar": {
              "outlinewidth": 0,
              "ticks": ""
             }
            },
            "type": "scatterpolar"
           }
          ],
          "scatterpolargl": [
           {
            "marker": {
             "colorbar": {
              "outlinewidth": 0,
              "ticks": ""
             }
            },
            "type": "scatterpolargl"
           }
          ],
          "scatterternary": [
           {
            "marker": {
             "colorbar": {
              "outlinewidth": 0,
              "ticks": ""
             }
            },
            "type": "scatterternary"
           }
          ],
          "surface": [
           {
            "colorbar": {
             "outlinewidth": 0,
             "ticks": ""
            },
            "colorscale": [
             [
              0,
              "#0d0887"
             ],
             [
              0.1111111111111111,
              "#46039f"
             ],
             [
              0.2222222222222222,
              "#7201a8"
             ],
             [
              0.3333333333333333,
              "#9c179e"
             ],
             [
              0.4444444444444444,
              "#bd3786"
             ],
             [
              0.5555555555555556,
              "#d8576b"
             ],
             [
              0.6666666666666666,
              "#ed7953"
             ],
             [
              0.7777777777777778,
              "#fb9f3a"
             ],
             [
              0.8888888888888888,
              "#fdca26"
             ],
             [
              1,
              "#f0f921"
             ]
            ],
            "type": "surface"
           }
          ],
          "table": [
           {
            "cells": {
             "fill": {
              "color": "#EBF0F8"
             },
             "line": {
              "color": "white"
             }
            },
            "header": {
             "fill": {
              "color": "#C8D4E3"
             },
             "line": {
              "color": "white"
             }
            },
            "type": "table"
           }
          ]
         },
         "layout": {
          "annotationdefaults": {
           "arrowcolor": "#2a3f5f",
           "arrowhead": 0,
           "arrowwidth": 1
          },
          "autotypenumbers": "strict",
          "coloraxis": {
           "colorbar": {
            "outlinewidth": 0,
            "ticks": ""
           }
          },
          "colorscale": {
           "diverging": [
            [
             0,
             "#8e0152"
            ],
            [
             0.1,
             "#c51b7d"
            ],
            [
             0.2,
             "#de77ae"
            ],
            [
             0.3,
             "#f1b6da"
            ],
            [
             0.4,
             "#fde0ef"
            ],
            [
             0.5,
             "#f7f7f7"
            ],
            [
             0.6,
             "#e6f5d0"
            ],
            [
             0.7,
             "#b8e186"
            ],
            [
             0.8,
             "#7fbc41"
            ],
            [
             0.9,
             "#4d9221"
            ],
            [
             1,
             "#276419"
            ]
           ],
           "sequential": [
            [
             0,
             "#0d0887"
            ],
            [
             0.1111111111111111,
             "#46039f"
            ],
            [
             0.2222222222222222,
             "#7201a8"
            ],
            [
             0.3333333333333333,
             "#9c179e"
            ],
            [
             0.4444444444444444,
             "#bd3786"
            ],
            [
             0.5555555555555556,
             "#d8576b"
            ],
            [
             0.6666666666666666,
             "#ed7953"
            ],
            [
             0.7777777777777778,
             "#fb9f3a"
            ],
            [
             0.8888888888888888,
             "#fdca26"
            ],
            [
             1,
             "#f0f921"
            ]
           ],
           "sequentialminus": [
            [
             0,
             "#0d0887"
            ],
            [
             0.1111111111111111,
             "#46039f"
            ],
            [
             0.2222222222222222,
             "#7201a8"
            ],
            [
             0.3333333333333333,
             "#9c179e"
            ],
            [
             0.4444444444444444,
             "#bd3786"
            ],
            [
             0.5555555555555556,
             "#d8576b"
            ],
            [
             0.6666666666666666,
             "#ed7953"
            ],
            [
             0.7777777777777778,
             "#fb9f3a"
            ],
            [
             0.8888888888888888,
             "#fdca26"
            ],
            [
             1,
             "#f0f921"
            ]
           ]
          },
          "colorway": [
           "#636efa",
           "#EF553B",
           "#00cc96",
           "#ab63fa",
           "#FFA15A",
           "#19d3f3",
           "#FF6692",
           "#B6E880",
           "#FF97FF",
           "#FECB52"
          ],
          "font": {
           "color": "#2a3f5f"
          },
          "geo": {
           "bgcolor": "white",
           "lakecolor": "white",
           "landcolor": "#E5ECF6",
           "showlakes": true,
           "showland": true,
           "subunitcolor": "white"
          },
          "hoverlabel": {
           "align": "left"
          },
          "hovermode": "closest",
          "mapbox": {
           "style": "light"
          },
          "paper_bgcolor": "white",
          "plot_bgcolor": "#E5ECF6",
          "polar": {
           "angularaxis": {
            "gridcolor": "white",
            "linecolor": "white",
            "ticks": ""
           },
           "bgcolor": "#E5ECF6",
           "radialaxis": {
            "gridcolor": "white",
            "linecolor": "white",
            "ticks": ""
           }
          },
          "scene": {
           "xaxis": {
            "backgroundcolor": "#E5ECF6",
            "gridcolor": "white",
            "gridwidth": 2,
            "linecolor": "white",
            "showbackground": true,
            "ticks": "",
            "zerolinecolor": "white"
           },
           "yaxis": {
            "backgroundcolor": "#E5ECF6",
            "gridcolor": "white",
            "gridwidth": 2,
            "linecolor": "white",
            "showbackground": true,
            "ticks": "",
            "zerolinecolor": "white"
           },
           "zaxis": {
            "backgroundcolor": "#E5ECF6",
            "gridcolor": "white",
            "gridwidth": 2,
            "linecolor": "white",
            "showbackground": true,
            "ticks": "",
            "zerolinecolor": "white"
           }
          },
          "shapedefaults": {
           "line": {
            "color": "#2a3f5f"
           }
          },
          "ternary": {
           "aaxis": {
            "gridcolor": "white",
            "linecolor": "white",
            "ticks": ""
           },
           "baxis": {
            "gridcolor": "white",
            "linecolor": "white",
            "ticks": ""
           },
           "bgcolor": "#E5ECF6",
           "caxis": {
            "gridcolor": "white",
            "linecolor": "white",
            "ticks": ""
           }
          },
          "title": {
           "x": 0.05
          },
          "xaxis": {
           "automargin": true,
           "gridcolor": "white",
           "linecolor": "white",
           "ticks": "",
           "title": {
            "standoff": 15
           },
           "zerolinecolor": "white",
           "zerolinewidth": 2
          },
          "yaxis": {
           "automargin": true,
           "gridcolor": "white",
           "linecolor": "white",
           "ticks": "",
           "title": {
            "standoff": 15
           },
           "zerolinecolor": "white",
           "zerolinewidth": 2
          }
         }
        },
        "title": {
         "text": "Distribusi POS (Custom)"
        },
        "xaxis": {
         "anchor": "y",
         "categoryarray": [
          "UNK",
          "TANDA_BACA",
          "KB",
          "KP",
          "KS",
          "PL",
          "KG",
          "KT",
          "PA",
          "KPN",
          "KPB",
          "KBT",
          "KN",
          "PNJ",
          "X",
          "WIL",
          "TB",
          "ANGKA"
         ],
         "categoryorder": "array",
         "domain": [
          0,
          1
         ],
         "title": {
          "text": "POS"
         }
        },
        "yaxis": {
         "anchor": "x",
         "domain": [
          0,
          1
         ],
         "title": {
          "text": "Jumlah"
         }
        }
       }
      }
     },
     "metadata": {},
     "output_type": "display_data"
    },
    {
     "data": {
      "application/vnd.plotly.v1+json": {
       "config": {
        "plotlyServerURL": "https://plot.ly"
       },
       "data": [
        {
         "hovertemplate": "POS Universal=%{x}<br>POS Custom=%{y}<br>Count=%{marker.color}<extra></extra>",
         "legendgroup": "",
         "marker": {
          "color": [
           1011,
           459,
           576,
           425,
           439,
           121,
           2650,
           3,
           54,
           813,
           796,
           199,
           6291,
           8,
           439,
           17033,
           1664,
           67
          ],
          "coloraxis": "coloraxis",
          "size": [
           1011,
           459,
           576,
           425,
           439,
           121,
           2650,
           3,
           54,
           813,
           796,
           199,
           6291,
           8,
           439,
           17033,
           1664,
           67
          ],
          "sizemode": "area",
          "sizeref": 42.5825,
          "symbol": "circle"
         },
         "mode": "markers",
         "name": "",
         "orientation": "v",
         "showlegend": false,
         "type": "scatter",
         "x": [
          "ADJ",
          "ADP",
          "ADV",
          "AUX",
          "CCONJ",
          "DET",
          "NOUN",
          "NUM",
          "NUM",
          "PART",
          "PRON",
          "PROPN",
          "PUNCT",
          "PUNCT",
          "SCONJ",
          "UNK",
          "VERB",
          "X"
         ],
         "xaxis": "x",
         "y": [
          "KS",
          "PA",
          "KT",
          "KBT",
          "KPN",
          "PNJ",
          "KB",
          "ANGKA",
          "WIL",
          "PL",
          "KG",
          "KN",
          "TANDA_BACA",
          "TB",
          "KPB",
          "UNK",
          "KP",
          "X"
         ],
         "yaxis": "y"
        }
       ],
       "layout": {
        "coloraxis": {
         "colorbar": {
          "title": {
           "text": "Count"
          }
         },
         "colorscale": [
          [
           0,
           "#0d0887"
          ],
          [
           0.1111111111111111,
           "#46039f"
          ],
          [
           0.2222222222222222,
           "#7201a8"
          ],
          [
           0.3333333333333333,
           "#9c179e"
          ],
          [
           0.4444444444444444,
           "#bd3786"
          ],
          [
           0.5555555555555556,
           "#d8576b"
          ],
          [
           0.6666666666666666,
           "#ed7953"
          ],
          [
           0.7777777777777778,
           "#fb9f3a"
          ],
          [
           0.8888888888888888,
           "#fdca26"
          ],
          [
           1,
           "#f0f921"
          ]
         ]
        },
        "legend": {
         "itemsizing": "constant",
         "tracegroupgap": 0
        },
        "template": {
         "data": {
          "bar": [
           {
            "error_x": {
             "color": "#2a3f5f"
            },
            "error_y": {
             "color": "#2a3f5f"
            },
            "marker": {
             "line": {
              "color": "#E5ECF6",
              "width": 0.5
             },
             "pattern": {
              "fillmode": "overlay",
              "size": 10,
              "solidity": 0.2
             }
            },
            "type": "bar"
           }
          ],
          "barpolar": [
           {
            "marker": {
             "line": {
              "color": "#E5ECF6",
              "width": 0.5
             },
             "pattern": {
              "fillmode": "overlay",
              "size": 10,
              "solidity": 0.2
             }
            },
            "type": "barpolar"
           }
          ],
          "carpet": [
           {
            "aaxis": {
             "endlinecolor": "#2a3f5f",
             "gridcolor": "white",
             "linecolor": "white",
             "minorgridcolor": "white",
             "startlinecolor": "#2a3f5f"
            },
            "baxis": {
             "endlinecolor": "#2a3f5f",
             "gridcolor": "white",
             "linecolor": "white",
             "minorgridcolor": "white",
             "startlinecolor": "#2a3f5f"
            },
            "type": "carpet"
           }
          ],
          "choropleth": [
           {
            "colorbar": {
             "outlinewidth": 0,
             "ticks": ""
            },
            "type": "choropleth"
           }
          ],
          "contour": [
           {
            "colorbar": {
             "outlinewidth": 0,
             "ticks": ""
            },
            "colorscale": [
             [
              0,
              "#0d0887"
             ],
             [
              0.1111111111111111,
              "#46039f"
             ],
             [
              0.2222222222222222,
              "#7201a8"
             ],
             [
              0.3333333333333333,
              "#9c179e"
             ],
             [
              0.4444444444444444,
              "#bd3786"
             ],
             [
              0.5555555555555556,
              "#d8576b"
             ],
             [
              0.6666666666666666,
              "#ed7953"
             ],
             [
              0.7777777777777778,
              "#fb9f3a"
             ],
             [
              0.8888888888888888,
              "#fdca26"
             ],
             [
              1,
              "#f0f921"
             ]
            ],
            "type": "contour"
           }
          ],
          "contourcarpet": [
           {
            "colorbar": {
             "outlinewidth": 0,
             "ticks": ""
            },
            "type": "contourcarpet"
           }
          ],
          "heatmap": [
           {
            "colorbar": {
             "outlinewidth": 0,
             "ticks": ""
            },
            "colorscale": [
             [
              0,
              "#0d0887"
             ],
             [
              0.1111111111111111,
              "#46039f"
             ],
             [
              0.2222222222222222,
              "#7201a8"
             ],
             [
              0.3333333333333333,
              "#9c179e"
             ],
             [
              0.4444444444444444,
              "#bd3786"
             ],
             [
              0.5555555555555556,
              "#d8576b"
             ],
             [
              0.6666666666666666,
              "#ed7953"
             ],
             [
              0.7777777777777778,
              "#fb9f3a"
             ],
             [
              0.8888888888888888,
              "#fdca26"
             ],
             [
              1,
              "#f0f921"
             ]
            ],
            "type": "heatmap"
           }
          ],
          "heatmapgl": [
           {
            "colorbar": {
             "outlinewidth": 0,
             "ticks": ""
            },
            "colorscale": [
             [
              0,
              "#0d0887"
             ],
             [
              0.1111111111111111,
              "#46039f"
             ],
             [
              0.2222222222222222,
              "#7201a8"
             ],
             [
              0.3333333333333333,
              "#9c179e"
             ],
             [
              0.4444444444444444,
              "#bd3786"
             ],
             [
              0.5555555555555556,
              "#d8576b"
             ],
             [
              0.6666666666666666,
              "#ed7953"
             ],
             [
              0.7777777777777778,
              "#fb9f3a"
             ],
             [
              0.8888888888888888,
              "#fdca26"
             ],
             [
              1,
              "#f0f921"
             ]
            ],
            "type": "heatmapgl"
           }
          ],
          "histogram": [
           {
            "marker": {
             "pattern": {
              "fillmode": "overlay",
              "size": 10,
              "solidity": 0.2
             }
            },
            "type": "histogram"
           }
          ],
          "histogram2d": [
           {
            "colorbar": {
             "outlinewidth": 0,
             "ticks": ""
            },
            "colorscale": [
             [
              0,
              "#0d0887"
             ],
             [
              0.1111111111111111,
              "#46039f"
             ],
             [
              0.2222222222222222,
              "#7201a8"
             ],
             [
              0.3333333333333333,
              "#9c179e"
             ],
             [
              0.4444444444444444,
              "#bd3786"
             ],
             [
              0.5555555555555556,
              "#d8576b"
             ],
             [
              0.6666666666666666,
              "#ed7953"
             ],
             [
              0.7777777777777778,
              "#fb9f3a"
             ],
             [
              0.8888888888888888,
              "#fdca26"
             ],
             [
              1,
              "#f0f921"
             ]
            ],
            "type": "histogram2d"
           }
          ],
          "histogram2dcontour": [
           {
            "colorbar": {
             "outlinewidth": 0,
             "ticks": ""
            },
            "colorscale": [
             [
              0,
              "#0d0887"
             ],
             [
              0.1111111111111111,
              "#46039f"
             ],
             [
              0.2222222222222222,
              "#7201a8"
             ],
             [
              0.3333333333333333,
              "#9c179e"
             ],
             [
              0.4444444444444444,
              "#bd3786"
             ],
             [
              0.5555555555555556,
              "#d8576b"
             ],
             [
              0.6666666666666666,
              "#ed7953"
             ],
             [
              0.7777777777777778,
              "#fb9f3a"
             ],
             [
              0.8888888888888888,
              "#fdca26"
             ],
             [
              1,
              "#f0f921"
             ]
            ],
            "type": "histogram2dcontour"
           }
          ],
          "mesh3d": [
           {
            "colorbar": {
             "outlinewidth": 0,
             "ticks": ""
            },
            "type": "mesh3d"
           }
          ],
          "parcoords": [
           {
            "line": {
             "colorbar": {
              "outlinewidth": 0,
              "ticks": ""
             }
            },
            "type": "parcoords"
           }
          ],
          "pie": [
           {
            "automargin": true,
            "type": "pie"
           }
          ],
          "scatter": [
           {
            "fillpattern": {
             "fillmode": "overlay",
             "size": 10,
             "solidity": 0.2
            },
            "type": "scatter"
           }
          ],
          "scatter3d": [
           {
            "line": {
             "colorbar": {
              "outlinewidth": 0,
              "ticks": ""
             }
            },
            "marker": {
             "colorbar": {
              "outlinewidth": 0,
              "ticks": ""
             }
            },
            "type": "scatter3d"
           }
          ],
          "scattercarpet": [
           {
            "marker": {
             "colorbar": {
              "outlinewidth": 0,
              "ticks": ""
             }
            },
            "type": "scattercarpet"
           }
          ],
          "scattergeo": [
           {
            "marker": {
             "colorbar": {
              "outlinewidth": 0,
              "ticks": ""
             }
            },
            "type": "scattergeo"
           }
          ],
          "scattergl": [
           {
            "marker": {
             "colorbar": {
              "outlinewidth": 0,
              "ticks": ""
             }
            },
            "type": "scattergl"
           }
          ],
          "scattermapbox": [
           {
            "marker": {
             "colorbar": {
              "outlinewidth": 0,
              "ticks": ""
             }
            },
            "type": "scattermapbox"
           }
          ],
          "scatterpolar": [
           {
            "marker": {
             "colorbar": {
              "outlinewidth": 0,
              "ticks": ""
             }
            },
            "type": "scatterpolar"
           }
          ],
          "scatterpolargl": [
           {
            "marker": {
             "colorbar": {
              "outlinewidth": 0,
              "ticks": ""
             }
            },
            "type": "scatterpolargl"
           }
          ],
          "scatterternary": [
           {
            "marker": {
             "colorbar": {
              "outlinewidth": 0,
              "ticks": ""
             }
            },
            "type": "scatterternary"
           }
          ],
          "surface": [
           {
            "colorbar": {
             "outlinewidth": 0,
             "ticks": ""
            },
            "colorscale": [
             [
              0,
              "#0d0887"
             ],
             [
              0.1111111111111111,
              "#46039f"
             ],
             [
              0.2222222222222222,
              "#7201a8"
             ],
             [
              0.3333333333333333,
              "#9c179e"
             ],
             [
              0.4444444444444444,
              "#bd3786"
             ],
             [
              0.5555555555555556,
              "#d8576b"
             ],
             [
              0.6666666666666666,
              "#ed7953"
             ],
             [
              0.7777777777777778,
              "#fb9f3a"
             ],
             [
              0.8888888888888888,
              "#fdca26"
             ],
             [
              1,
              "#f0f921"
             ]
            ],
            "type": "surface"
           }
          ],
          "table": [
           {
            "cells": {
             "fill": {
              "color": "#EBF0F8"
             },
             "line": {
              "color": "white"
             }
            },
            "header": {
             "fill": {
              "color": "#C8D4E3"
             },
             "line": {
              "color": "white"
             }
            },
            "type": "table"
           }
          ]
         },
         "layout": {
          "annotationdefaults": {
           "arrowcolor": "#2a3f5f",
           "arrowhead": 0,
           "arrowwidth": 1
          },
          "autotypenumbers": "strict",
          "coloraxis": {
           "colorbar": {
            "outlinewidth": 0,
            "ticks": ""
           }
          },
          "colorscale": {
           "diverging": [
            [
             0,
             "#8e0152"
            ],
            [
             0.1,
             "#c51b7d"
            ],
            [
             0.2,
             "#de77ae"
            ],
            [
             0.3,
             "#f1b6da"
            ],
            [
             0.4,
             "#fde0ef"
            ],
            [
             0.5,
             "#f7f7f7"
            ],
            [
             0.6,
             "#e6f5d0"
            ],
            [
             0.7,
             "#b8e186"
            ],
            [
             0.8,
             "#7fbc41"
            ],
            [
             0.9,
             "#4d9221"
            ],
            [
             1,
             "#276419"
            ]
           ],
           "sequential": [
            [
             0,
             "#0d0887"
            ],
            [
             0.1111111111111111,
             "#46039f"
            ],
            [
             0.2222222222222222,
             "#7201a8"
            ],
            [
             0.3333333333333333,
             "#9c179e"
            ],
            [
             0.4444444444444444,
             "#bd3786"
            ],
            [
             0.5555555555555556,
             "#d8576b"
            ],
            [
             0.6666666666666666,
             "#ed7953"
            ],
            [
             0.7777777777777778,
             "#fb9f3a"
            ],
            [
             0.8888888888888888,
             "#fdca26"
            ],
            [
             1,
             "#f0f921"
            ]
           ],
           "sequentialminus": [
            [
             0,
             "#0d0887"
            ],
            [
             0.1111111111111111,
             "#46039f"
            ],
            [
             0.2222222222222222,
             "#7201a8"
            ],
            [
             0.3333333333333333,
             "#9c179e"
            ],
            [
             0.4444444444444444,
             "#bd3786"
            ],
            [
             0.5555555555555556,
             "#d8576b"
            ],
            [
             0.6666666666666666,
             "#ed7953"
            ],
            [
             0.7777777777777778,
             "#fb9f3a"
            ],
            [
             0.8888888888888888,
             "#fdca26"
            ],
            [
             1,
             "#f0f921"
            ]
           ]
          },
          "colorway": [
           "#636efa",
           "#EF553B",
           "#00cc96",
           "#ab63fa",
           "#FFA15A",
           "#19d3f3",
           "#FF6692",
           "#B6E880",
           "#FF97FF",
           "#FECB52"
          ],
          "font": {
           "color": "#2a3f5f"
          },
          "geo": {
           "bgcolor": "white",
           "lakecolor": "white",
           "landcolor": "#E5ECF6",
           "showlakes": true,
           "showland": true,
           "subunitcolor": "white"
          },
          "hoverlabel": {
           "align": "left"
          },
          "hovermode": "closest",
          "mapbox": {
           "style": "light"
          },
          "paper_bgcolor": "white",
          "plot_bgcolor": "#E5ECF6",
          "polar": {
           "angularaxis": {
            "gridcolor": "white",
            "linecolor": "white",
            "ticks": ""
           },
           "bgcolor": "#E5ECF6",
           "radialaxis": {
            "gridcolor": "white",
            "linecolor": "white",
            "ticks": ""
           }
          },
          "scene": {
           "xaxis": {
            "backgroundcolor": "#E5ECF6",
            "gridcolor": "white",
            "gridwidth": 2,
            "linecolor": "white",
            "showbackground": true,
            "ticks": "",
            "zerolinecolor": "white"
           },
           "yaxis": {
            "backgroundcolor": "#E5ECF6",
            "gridcolor": "white",
            "gridwidth": 2,
            "linecolor": "white",
            "showbackground": true,
            "ticks": "",
            "zerolinecolor": "white"
           },
           "zaxis": {
            "backgroundcolor": "#E5ECF6",
            "gridcolor": "white",
            "gridwidth": 2,
            "linecolor": "white",
            "showbackground": true,
            "ticks": "",
            "zerolinecolor": "white"
           }
          },
          "shapedefaults": {
           "line": {
            "color": "#2a3f5f"
           }
          },
          "ternary": {
           "aaxis": {
            "gridcolor": "white",
            "linecolor": "white",
            "ticks": ""
           },
           "baxis": {
            "gridcolor": "white",
            "linecolor": "white",
            "ticks": ""
           },
           "bgcolor": "#E5ECF6",
           "caxis": {
            "gridcolor": "white",
            "linecolor": "white",
            "ticks": ""
           }
          },
          "title": {
           "x": 0.05
          },
          "xaxis": {
           "automargin": true,
           "gridcolor": "white",
           "linecolor": "white",
           "ticks": "",
           "title": {
            "standoff": 15
           },
           "zerolinecolor": "white",
           "zerolinewidth": 2
          },
          "yaxis": {
           "automargin": true,
           "gridcolor": "white",
           "linecolor": "white",
           "ticks": "",
           "title": {
            "standoff": 15
           },
           "zerolinecolor": "white",
           "zerolinewidth": 2
          }
         }
        },
        "title": {
         "text": "Perbandingan POS Universal vs Custom"
        },
        "xaxis": {
         "anchor": "y",
         "domain": [
          0,
          1
         ],
         "title": {
          "text": "POS Universal"
         }
        },
        "yaxis": {
         "anchor": "x",
         "domain": [
          0,
          1
         ],
         "title": {
          "text": "POS Custom"
         }
        }
       }
      }
     },
     "metadata": {},
     "output_type": "display_data"
    }
   ],
   "source": [
    "import glob\n",
    "import re\n",
    "import pandas as pd\n",
    "import plotly.express as px\n",
    "import plotly.figure_factory as ff\n",
    "\n",
    "# ==== 1. Fungsi untuk load corpus POS ====\n",
    "def load_corpus(path):\n",
    "    corpus = {}\n",
    "    with open(path, \"r\", encoding=\"utf-8\") as f:\n",
    "        for line in f:\n",
    "            line = line.strip()\n",
    "            if not line or \"/\" not in line:\n",
    "                continue\n",
    "            word, pos = line.split(\"/\", 1)\n",
    "            word = word.lower().replace(\"é\", \"e\")  # anggap é = e\n",
    "            corpus[word] = pos\n",
    "    return corpus\n",
    "\n",
    "# ==== 2. Load corpus universal & custom ====\n",
    "corpus_universal = load_corpus(\"corpus/pos-uni.txt\")\n",
    "corpus_custom = load_corpus(\"corpus/pos-sun.txt\")\n",
    "\n",
    "# ==== 3. Ambil semua file teks ====\n",
    "files = glob.glob(\"datatext/*.txt\")\n",
    "\n",
    "all_data = []\n",
    "oov_words = set()  # simpan kata yang tidak ada di corpus\n",
    "\n",
    "# ==== 4. Proses setiap file ====\n",
    "for file in files:\n",
    "    with open(file, \"r\", encoding=\"utf-8\") as f:\n",
    "        text = f.read()\n",
    "\n",
    "    # Pisahkan kalimat (akhiran .!? atau baris baru)\n",
    "    sentences = re.split(r'(?<=[.!?])\\s+|\\n+', text.strip())\n",
    "    sentences = [s for s in sentences if s]\n",
    "\n",
    "    for i, sentence in enumerate(sentences, start=1):\n",
    "        # Tokenisasi: pisahkan tanda baca dari kata\n",
    "        tokens = re.findall(r\"\\w+|[^\\w\\s]\", sentence, re.UNICODE)\n",
    "\n",
    "        for w in tokens:\n",
    "            w_norm = w.lower().replace(\"é\", \"e\")  # normalisasi huruf\n",
    "\n",
    "            # ==== Deteksi otomatis ====\n",
    "            if w_norm.isdigit():\n",
    "                pos_uni, pos_cus = \"NUM\", \"ANGKA\"\n",
    "            elif re.match(r\"^\\W+$\", w_norm):  # tanda baca murni\n",
    "                pos_uni, pos_cus = \"PUNCT\", \"TANDA_BACA\"\n",
    "            else:\n",
    "                pos_uni = corpus_universal.get(w_norm, \"UNK\")\n",
    "                pos_cus = corpus_custom.get(w_norm, \"UNK\")\n",
    "\n",
    "                if pos_uni == \"UNK\" and pos_cus == \"UNK\":\n",
    "                    oov_words.add(w_norm)  # masukkan ke daftar OOV\n",
    "\n",
    "            all_data.append({\n",
    "                \"File\": file,\n",
    "                \"Kalimat ke\": i,\n",
    "                \"Kata\": w,\n",
    "                \"POS Universal\": pos_uni,\n",
    "                \"POS Custom\": pos_cus\n",
    "            })\n",
    "\n",
    "# ==== 5. DataFrame hasil tagging ====\n",
    "df_pos = pd.DataFrame(all_data)\n",
    "\n",
    "# ==== 6. Statistik kata yang diproses vs OOV ====\n",
    "total_kata = len(df_pos)\n",
    "kata_oov = len(oov_words)\n",
    "kata_terproses = total_kata - kata_oov\n",
    "\n",
    "print(\"=== Statistik Kata ===\")\n",
    "print(f\"Total kata        : {total_kata}\")\n",
    "print(f\"Kata terproses    : {kata_terproses}\")\n",
    "print(f\"Kata OOV (tidak ditemukan) : {kata_oov}\")\n",
    "\n",
    "# Simpan kata OOV ke file\n",
    "with open(\"oov.txt\", \"w\", encoding=\"utf-8\") as f:\n",
    "    for w in sorted(oov_words):\n",
    "        f.write(w + \"\\n\")\n",
    "\n",
    "# ==== 7. Tabel interaktif (preview 50 baris pertama) ====\n",
    "fig_table = ff.create_table(df_pos.head(50))\n",
    "fig_table.show()\n",
    "\n",
    "# ==== 8. Distribusi POS Universal ====\n",
    "pos_counts_uni = df_pos[\"POS Universal\"].value_counts().reset_index()\n",
    "pos_counts_uni.columns = [\"POS\", \"Jumlah\"]\n",
    "\n",
    "fig_uni = px.bar(\n",
    "    pos_counts_uni, x=\"POS\", y=\"Jumlah\",\n",
    "    title=\"Distribusi POS (Universal)\", color=\"POS\",\n",
    "    text=\"Jumlah\"\n",
    ")\n",
    "fig_uni.update_traces(textposition=\"outside\")\n",
    "fig_uni.show()\n",
    "\n",
    "# ==== 9. Distribusi POS Custom ====\n",
    "pos_counts_cus = df_pos[\"POS Custom\"].value_counts().reset_index()\n",
    "pos_counts_cus.columns = [\"POS\", \"Jumlah\"]\n",
    "\n",
    "fig_cus = px.bar(\n",
    "    pos_counts_cus, x=\"POS\", y=\"Jumlah\",\n",
    "    title=\"Distribusi POS (Custom)\", color=\"POS\",\n",
    "    text=\"Jumlah\"\n",
    ")\n",
    "fig_cus.update_traces(textposition=\"outside\")\n",
    "fig_cus.show()\n",
    "\n",
    "# ==== 10. Perbandingan Universal vs Custom ====\n",
    "comparison = df_pos.groupby([\"POS Universal\", \"POS Custom\"]).size().reset_index(name=\"Count\")\n",
    "\n",
    "fig_comp = px.scatter(\n",
    "    comparison, x=\"POS Universal\", y=\"POS Custom\", size=\"Count\",\n",
    "    title=\"Perbandingan POS Universal vs Custom\", color=\"Count\"\n",
    ")\n",
    "fig_comp.show()\n"
   ]
  },
  {
   "cell_type": "code",
   "execution_count": null,
   "id": "e8cab9f5",
   "metadata": {},
   "outputs": [
    {
     "name": "stdout",
     "output_type": "stream",
     "text": [
      "=== Statistik Kata ===\n",
      "Total kata        : 33048\n",
      "Kata dari Corpus  : 16015\n",
      "Kata dari Rule    : 510\n",
      "Kata OOV          : 16523\n",
      "Daftar OOV berhasil disimpan ke: d:\\PENELITIAN\\2025\\PDP POS TAGGING BASA SUNDA\\Code POS\\sunda-pos\\oov.txt\n"
     ]
    },
    {
     "data": {
      "application/vnd.plotly.v1+json": {
       "config": {
        "plotlyServerURL": "https://plot.ly"
       },
       "data": [
        {
         "colorscale": [
          [
           0,
           "#00083e"
          ],
          [
           0.5,
           "#ededee"
          ],
          [
           1,
           "#ffffff"
          ]
         ],
         "hoverinfo": "none",
         "opacity": 0.75,
         "showscale": false,
         "type": "heatmap",
         "z": [
          [
           0,
           0,
           0,
           0,
           0,
           0
          ],
          [
           0.5,
           0.5,
           0.5,
           0.5,
           0.5,
           0.5
          ],
          [
           1,
           1,
           1,
           1,
           1,
           1
          ],
          [
           0.5,
           0.5,
           0.5,
           0.5,
           0.5,
           0.5
          ],
          [
           1,
           1,
           1,
           1,
           1,
           1
          ],
          [
           0.5,
           0.5,
           0.5,
           0.5,
           0.5,
           0.5
          ],
          [
           1,
           1,
           1,
           1,
           1,
           1
          ],
          [
           0.5,
           0.5,
           0.5,
           0.5,
           0.5,
           0.5
          ],
          [
           1,
           1,
           1,
           1,
           1,
           1
          ],
          [
           0.5,
           0.5,
           0.5,
           0.5,
           0.5,
           0.5
          ],
          [
           1,
           1,
           1,
           1,
           1,
           1
          ],
          [
           0.5,
           0.5,
           0.5,
           0.5,
           0.5,
           0.5
          ],
          [
           1,
           1,
           1,
           1,
           1,
           1
          ],
          [
           0.5,
           0.5,
           0.5,
           0.5,
           0.5,
           0.5
          ],
          [
           1,
           1,
           1,
           1,
           1,
           1
          ],
          [
           0.5,
           0.5,
           0.5,
           0.5,
           0.5,
           0.5
          ],
          [
           1,
           1,
           1,
           1,
           1,
           1
          ],
          [
           0.5,
           0.5,
           0.5,
           0.5,
           0.5,
           0.5
          ],
          [
           1,
           1,
           1,
           1,
           1,
           1
          ],
          [
           0.5,
           0.5,
           0.5,
           0.5,
           0.5,
           0.5
          ],
          [
           1,
           1,
           1,
           1,
           1,
           1
          ],
          [
           0.5,
           0.5,
           0.5,
           0.5,
           0.5,
           0.5
          ],
          [
           1,
           1,
           1,
           1,
           1,
           1
          ],
          [
           0.5,
           0.5,
           0.5,
           0.5,
           0.5,
           0.5
          ],
          [
           1,
           1,
           1,
           1,
           1,
           1
          ],
          [
           0.5,
           0.5,
           0.5,
           0.5,
           0.5,
           0.5
          ],
          [
           1,
           1,
           1,
           1,
           1,
           1
          ],
          [
           0.5,
           0.5,
           0.5,
           0.5,
           0.5,
           0.5
          ],
          [
           1,
           1,
           1,
           1,
           1,
           1
          ],
          [
           0.5,
           0.5,
           0.5,
           0.5,
           0.5,
           0.5
          ],
          [
           1,
           1,
           1,
           1,
           1,
           1
          ],
          [
           0.5,
           0.5,
           0.5,
           0.5,
           0.5,
           0.5
          ],
          [
           1,
           1,
           1,
           1,
           1,
           1
          ],
          [
           0.5,
           0.5,
           0.5,
           0.5,
           0.5,
           0.5
          ],
          [
           1,
           1,
           1,
           1,
           1,
           1
          ],
          [
           0.5,
           0.5,
           0.5,
           0.5,
           0.5,
           0.5
          ],
          [
           1,
           1,
           1,
           1,
           1,
           1
          ],
          [
           0.5,
           0.5,
           0.5,
           0.5,
           0.5,
           0.5
          ],
          [
           1,
           1,
           1,
           1,
           1,
           1
          ],
          [
           0.5,
           0.5,
           0.5,
           0.5,
           0.5,
           0.5
          ],
          [
           1,
           1,
           1,
           1,
           1,
           1
          ],
          [
           0.5,
           0.5,
           0.5,
           0.5,
           0.5,
           0.5
          ],
          [
           1,
           1,
           1,
           1,
           1,
           1
          ],
          [
           0.5,
           0.5,
           0.5,
           0.5,
           0.5,
           0.5
          ],
          [
           1,
           1,
           1,
           1,
           1,
           1
          ],
          [
           0.5,
           0.5,
           0.5,
           0.5,
           0.5,
           0.5
          ],
          [
           1,
           1,
           1,
           1,
           1,
           1
          ],
          [
           0.5,
           0.5,
           0.5,
           0.5,
           0.5,
           0.5
          ],
          [
           1,
           1,
           1,
           1,
           1,
           1
          ],
          [
           0.5,
           0.5,
           0.5,
           0.5,
           0.5,
           0.5
          ],
          [
           1,
           1,
           1,
           1,
           1,
           1
          ]
         ]
        }
       ],
       "layout": {
        "annotations": [
         {
          "align": "left",
          "font": {
           "color": "#ffffff"
          },
          "showarrow": false,
          "text": "<b>File</b>",
          "x": -0.45,
          "xanchor": "left",
          "xref": "x",
          "y": 0,
          "yref": "y"
         },
         {
          "align": "left",
          "font": {
           "color": "#ffffff"
          },
          "showarrow": false,
          "text": "<b>Kalimat ke</b>",
          "x": 0.55,
          "xanchor": "left",
          "xref": "x",
          "y": 0,
          "yref": "y"
         },
         {
          "align": "left",
          "font": {
           "color": "#ffffff"
          },
          "showarrow": false,
          "text": "<b>Kata</b>",
          "x": 1.55,
          "xanchor": "left",
          "xref": "x",
          "y": 0,
          "yref": "y"
         },
         {
          "align": "left",
          "font": {
           "color": "#ffffff"
          },
          "showarrow": false,
          "text": "<b>POS Universal</b>",
          "x": 2.55,
          "xanchor": "left",
          "xref": "x",
          "y": 0,
          "yref": "y"
         },
         {
          "align": "left",
          "font": {
           "color": "#ffffff"
          },
          "showarrow": false,
          "text": "<b>POS Custom</b>",
          "x": 3.55,
          "xanchor": "left",
          "xref": "x",
          "y": 0,
          "yref": "y"
         },
         {
          "align": "left",
          "font": {
           "color": "#ffffff"
          },
          "showarrow": false,
          "text": "<b>Sumber Tag</b>",
          "x": 4.55,
          "xanchor": "left",
          "xref": "x",
          "y": 0,
          "yref": "y"
         },
         {
          "align": "left",
          "font": {
           "color": "#000000"
          },
          "showarrow": false,
          "text": "datatext\\babasan-paribasa.txt",
          "x": -0.45,
          "xanchor": "left",
          "xref": "x",
          "y": 1,
          "yref": "y"
         },
         {
          "align": "left",
          "font": {
           "color": "#000000"
          },
          "showarrow": false,
          "text": "1",
          "x": 0.55,
          "xanchor": "left",
          "xref": "x",
          "y": 1,
          "yref": "y"
         },
         {
          "align": "left",
          "font": {
           "color": "#000000"
          },
          "showarrow": false,
          "text": "Abang",
          "x": 1.55,
          "xanchor": "left",
          "xref": "x",
          "y": 1,
          "yref": "y"
         },
         {
          "align": "left",
          "font": {
           "color": "#000000"
          },
          "showarrow": false,
          "text": "UNK",
          "x": 2.55,
          "xanchor": "left",
          "xref": "x",
          "y": 1,
          "yref": "y"
         },
         {
          "align": "left",
          "font": {
           "color": "#000000"
          },
          "showarrow": false,
          "text": "UNK",
          "x": 3.55,
          "xanchor": "left",
          "xref": "x",
          "y": 1,
          "yref": "y"
         },
         {
          "align": "left",
          "font": {
           "color": "#000000"
          },
          "showarrow": false,
          "text": "OOV",
          "x": 4.55,
          "xanchor": "left",
          "xref": "x",
          "y": 1,
          "yref": "y"
         },
         {
          "align": "left",
          "font": {
           "color": "#000000"
          },
          "showarrow": false,
          "text": "datatext\\babasan-paribasa.txt",
          "x": -0.45,
          "xanchor": "left",
          "xref": "x",
          "y": 2,
          "yref": "y"
         },
         {
          "align": "left",
          "font": {
           "color": "#000000"
          },
          "showarrow": false,
          "text": "1",
          "x": 0.55,
          "xanchor": "left",
          "xref": "x",
          "y": 2,
          "yref": "y"
         },
         {
          "align": "left",
          "font": {
           "color": "#000000"
          },
          "showarrow": false,
          "text": "-",
          "x": 1.55,
          "xanchor": "left",
          "xref": "x",
          "y": 2,
          "yref": "y"
         },
         {
          "align": "left",
          "font": {
           "color": "#000000"
          },
          "showarrow": false,
          "text": "PUNCT",
          "x": 2.55,
          "xanchor": "left",
          "xref": "x",
          "y": 2,
          "yref": "y"
         },
         {
          "align": "left",
          "font": {
           "color": "#000000"
          },
          "showarrow": false,
          "text": "TANDA_BACA",
          "x": 3.55,
          "xanchor": "left",
          "xref": "x",
          "y": 2,
          "yref": "y"
         },
         {
          "align": "left",
          "font": {
           "color": "#000000"
          },
          "showarrow": false,
          "text": "Corpus",
          "x": 4.55,
          "xanchor": "left",
          "xref": "x",
          "y": 2,
          "yref": "y"
         },
         {
          "align": "left",
          "font": {
           "color": "#000000"
          },
          "showarrow": false,
          "text": "datatext\\babasan-paribasa.txt",
          "x": -0.45,
          "xanchor": "left",
          "xref": "x",
          "y": 3,
          "yref": "y"
         },
         {
          "align": "left",
          "font": {
           "color": "#000000"
          },
          "showarrow": false,
          "text": "1",
          "x": 0.55,
          "xanchor": "left",
          "xref": "x",
          "y": 3,
          "yref": "y"
         },
         {
          "align": "left",
          "font": {
           "color": "#000000"
          },
          "showarrow": false,
          "text": "abang",
          "x": 1.55,
          "xanchor": "left",
          "xref": "x",
          "y": 3,
          "yref": "y"
         },
         {
          "align": "left",
          "font": {
           "color": "#000000"
          },
          "showarrow": false,
          "text": "UNK",
          "x": 2.55,
          "xanchor": "left",
          "xref": "x",
          "y": 3,
          "yref": "y"
         },
         {
          "align": "left",
          "font": {
           "color": "#000000"
          },
          "showarrow": false,
          "text": "UNK",
          "x": 3.55,
          "xanchor": "left",
          "xref": "x",
          "y": 3,
          "yref": "y"
         },
         {
          "align": "left",
          "font": {
           "color": "#000000"
          },
          "showarrow": false,
          "text": "OOV",
          "x": 4.55,
          "xanchor": "left",
          "xref": "x",
          "y": 3,
          "yref": "y"
         },
         {
          "align": "left",
          "font": {
           "color": "#000000"
          },
          "showarrow": false,
          "text": "datatext\\babasan-paribasa.txt",
          "x": -0.45,
          "xanchor": "left",
          "xref": "x",
          "y": 4,
          "yref": "y"
         },
         {
          "align": "left",
          "font": {
           "color": "#000000"
          },
          "showarrow": false,
          "text": "1",
          "x": 0.55,
          "xanchor": "left",
          "xref": "x",
          "y": 4,
          "yref": "y"
         },
         {
          "align": "left",
          "font": {
           "color": "#000000"
          },
          "showarrow": false,
          "text": "lambé",
          "x": 1.55,
          "xanchor": "left",
          "xref": "x",
          "y": 4,
          "yref": "y"
         },
         {
          "align": "left",
          "font": {
           "color": "#000000"
          },
          "showarrow": false,
          "text": "NOUN",
          "x": 2.55,
          "xanchor": "left",
          "xref": "x",
          "y": 4,
          "yref": "y"
         },
         {
          "align": "left",
          "font": {
           "color": "#000000"
          },
          "showarrow": false,
          "text": "KB",
          "x": 3.55,
          "xanchor": "left",
          "xref": "x",
          "y": 4,
          "yref": "y"
         },
         {
          "align": "left",
          "font": {
           "color": "#000000"
          },
          "showarrow": false,
          "text": "Corpus",
          "x": 4.55,
          "xanchor": "left",
          "xref": "x",
          "y": 4,
          "yref": "y"
         },
         {
          "align": "left",
          "font": {
           "color": "#000000"
          },
          "showarrow": false,
          "text": "datatext\\babasan-paribasa.txt",
          "x": -0.45,
          "xanchor": "left",
          "xref": "x",
          "y": 5,
          "yref": "y"
         },
         {
          "align": "left",
          "font": {
           "color": "#000000"
          },
          "showarrow": false,
          "text": "1",
          "x": 0.55,
          "xanchor": "left",
          "xref": "x",
          "y": 5,
          "yref": "y"
         },
         {
          "align": "left",
          "font": {
           "color": "#000000"
          },
          "showarrow": false,
          "text": "=",
          "x": 1.55,
          "xanchor": "left",
          "xref": "x",
          "y": 5,
          "yref": "y"
         },
         {
          "align": "left",
          "font": {
           "color": "#000000"
          },
          "showarrow": false,
          "text": "PUNCT",
          "x": 2.55,
          "xanchor": "left",
          "xref": "x",
          "y": 5,
          "yref": "y"
         },
         {
          "align": "left",
          "font": {
           "color": "#000000"
          },
          "showarrow": false,
          "text": "TANDA_BACA",
          "x": 3.55,
          "xanchor": "left",
          "xref": "x",
          "y": 5,
          "yref": "y"
         },
         {
          "align": "left",
          "font": {
           "color": "#000000"
          },
          "showarrow": false,
          "text": "Corpus",
          "x": 4.55,
          "xanchor": "left",
          "xref": "x",
          "y": 5,
          "yref": "y"
         },
         {
          "align": "left",
          "font": {
           "color": "#000000"
          },
          "showarrow": false,
          "text": "datatext\\babasan-paribasa.txt",
          "x": -0.45,
          "xanchor": "left",
          "xref": "x",
          "y": 6,
          "yref": "y"
         },
         {
          "align": "left",
          "font": {
           "color": "#000000"
          },
          "showarrow": false,
          "text": "1",
          "x": 0.55,
          "xanchor": "left",
          "xref": "x",
          "y": 6,
          "yref": "y"
         },
         {
          "align": "left",
          "font": {
           "color": "#000000"
          },
          "showarrow": false,
          "text": "beureum",
          "x": 1.55,
          "xanchor": "left",
          "xref": "x",
          "y": 6,
          "yref": "y"
         },
         {
          "align": "left",
          "font": {
           "color": "#000000"
          },
          "showarrow": false,
          "text": "ADJ",
          "x": 2.55,
          "xanchor": "left",
          "xref": "x",
          "y": 6,
          "yref": "y"
         },
         {
          "align": "left",
          "font": {
           "color": "#000000"
          },
          "showarrow": false,
          "text": "KS",
          "x": 3.55,
          "xanchor": "left",
          "xref": "x",
          "y": 6,
          "yref": "y"
         },
         {
          "align": "left",
          "font": {
           "color": "#000000"
          },
          "showarrow": false,
          "text": "Corpus",
          "x": 4.55,
          "xanchor": "left",
          "xref": "x",
          "y": 6,
          "yref": "y"
         },
         {
          "align": "left",
          "font": {
           "color": "#000000"
          },
          "showarrow": false,
          "text": "datatext\\babasan-paribasa.txt",
          "x": -0.45,
          "xanchor": "left",
          "xref": "x",
          "y": 7,
          "yref": "y"
         },
         {
          "align": "left",
          "font": {
           "color": "#000000"
          },
          "showarrow": false,
          "text": "1",
          "x": 0.55,
          "xanchor": "left",
          "xref": "x",
          "y": 7,
          "yref": "y"
         },
         {
          "align": "left",
          "font": {
           "color": "#000000"
          },
          "showarrow": false,
          "text": "biwirna",
          "x": 1.55,
          "xanchor": "left",
          "xref": "x",
          "y": 7,
          "yref": "y"
         },
         {
          "align": "left",
          "font": {
           "color": "#000000"
          },
          "showarrow": false,
          "text": "UNK",
          "x": 2.55,
          "xanchor": "left",
          "xref": "x",
          "y": 7,
          "yref": "y"
         },
         {
          "align": "left",
          "font": {
           "color": "#000000"
          },
          "showarrow": false,
          "text": "KB",
          "x": 3.55,
          "xanchor": "left",
          "xref": "x",
          "y": 7,
          "yref": "y"
         },
         {
          "align": "left",
          "font": {
           "color": "#000000"
          },
          "showarrow": false,
          "text": "Rule",
          "x": 4.55,
          "xanchor": "left",
          "xref": "x",
          "y": 7,
          "yref": "y"
         },
         {
          "align": "left",
          "font": {
           "color": "#000000"
          },
          "showarrow": false,
          "text": "datatext\\babasan-paribasa.txt",
          "x": -0.45,
          "xanchor": "left",
          "xref": "x",
          "y": 8,
          "yref": "y"
         },
         {
          "align": "left",
          "font": {
           "color": "#000000"
          },
          "showarrow": false,
          "text": "1",
          "x": 0.55,
          "xanchor": "left",
          "xref": "x",
          "y": 8,
          "yref": "y"
         },
         {
          "align": "left",
          "font": {
           "color": "#000000"
          },
          "showarrow": false,
          "text": "wungkul",
          "x": 1.55,
          "xanchor": "left",
          "xref": "x",
          "y": 8,
          "yref": "y"
         },
         {
          "align": "left",
          "font": {
           "color": "#000000"
          },
          "showarrow": false,
          "text": "ADV",
          "x": 2.55,
          "xanchor": "left",
          "xref": "x",
          "y": 8,
          "yref": "y"
         },
         {
          "align": "left",
          "font": {
           "color": "#000000"
          },
          "showarrow": false,
          "text": "KT",
          "x": 3.55,
          "xanchor": "left",
          "xref": "x",
          "y": 8,
          "yref": "y"
         },
         {
          "align": "left",
          "font": {
           "color": "#000000"
          },
          "showarrow": false,
          "text": "Corpus",
          "x": 4.55,
          "xanchor": "left",
          "xref": "x",
          "y": 8,
          "yref": "y"
         },
         {
          "align": "left",
          "font": {
           "color": "#000000"
          },
          "showarrow": false,
          "text": "datatext\\babasan-paribasa.txt",
          "x": -0.45,
          "xanchor": "left",
          "xref": "x",
          "y": 9,
          "yref": "y"
         },
         {
          "align": "left",
          "font": {
           "color": "#000000"
          },
          "showarrow": false,
          "text": "1",
          "x": 0.55,
          "xanchor": "left",
          "xref": "x",
          "y": 9,
          "yref": "y"
         },
         {
          "align": "left",
          "font": {
           "color": "#000000"
          },
          "showarrow": false,
          "text": ",",
          "x": 1.55,
          "xanchor": "left",
          "xref": "x",
          "y": 9,
          "yref": "y"
         },
         {
          "align": "left",
          "font": {
           "color": "#000000"
          },
          "showarrow": false,
          "text": "PUNCT",
          "x": 2.55,
          "xanchor": "left",
          "xref": "x",
          "y": 9,
          "yref": "y"
         },
         {
          "align": "left",
          "font": {
           "color": "#000000"
          },
          "showarrow": false,
          "text": "TANDA_BACA",
          "x": 3.55,
          "xanchor": "left",
          "xref": "x",
          "y": 9,
          "yref": "y"
         },
         {
          "align": "left",
          "font": {
           "color": "#000000"
          },
          "showarrow": false,
          "text": "Corpus",
          "x": 4.55,
          "xanchor": "left",
          "xref": "x",
          "y": 9,
          "yref": "y"
         },
         {
          "align": "left",
          "font": {
           "color": "#000000"
          },
          "showarrow": false,
          "text": "datatext\\babasan-paribasa.txt",
          "x": -0.45,
          "xanchor": "left",
          "xref": "x",
          "y": 10,
          "yref": "y"
         },
         {
          "align": "left",
          "font": {
           "color": "#000000"
          },
          "showarrow": false,
          "text": "1",
          "x": 0.55,
          "xanchor": "left",
          "xref": "x",
          "y": 10,
          "yref": "y"
         },
         {
          "align": "left",
          "font": {
           "color": "#000000"
          },
          "showarrow": false,
          "text": "caritaan",
          "x": 1.55,
          "xanchor": "left",
          "xref": "x",
          "y": 10,
          "yref": "y"
         },
         {
          "align": "left",
          "font": {
           "color": "#000000"
          },
          "showarrow": false,
          "text": "UNK",
          "x": 2.55,
          "xanchor": "left",
          "xref": "x",
          "y": 10,
          "yref": "y"
         },
         {
          "align": "left",
          "font": {
           "color": "#000000"
          },
          "showarrow": false,
          "text": "UNK",
          "x": 3.55,
          "xanchor": "left",
          "xref": "x",
          "y": 10,
          "yref": "y"
         },
         {
          "align": "left",
          "font": {
           "color": "#000000"
          },
          "showarrow": false,
          "text": "OOV",
          "x": 4.55,
          "xanchor": "left",
          "xref": "x",
          "y": 10,
          "yref": "y"
         },
         {
          "align": "left",
          "font": {
           "color": "#000000"
          },
          "showarrow": false,
          "text": "datatext\\babasan-paribasa.txt",
          "x": -0.45,
          "xanchor": "left",
          "xref": "x",
          "y": 11,
          "yref": "y"
         },
         {
          "align": "left",
          "font": {
           "color": "#000000"
          },
          "showarrow": false,
          "text": "1",
          "x": 0.55,
          "xanchor": "left",
          "xref": "x",
          "y": 11,
          "yref": "y"
         },
         {
          "align": "left",
          "font": {
           "color": "#000000"
          },
          "showarrow": false,
          "text": "nu",
          "x": 1.55,
          "xanchor": "left",
          "xref": "x",
          "y": 11,
          "yref": "y"
         },
         {
          "align": "left",
          "font": {
           "color": "#000000"
          },
          "showarrow": false,
          "text": "PRON",
          "x": 2.55,
          "xanchor": "left",
          "xref": "x",
          "y": 11,
          "yref": "y"
         },
         {
          "align": "left",
          "font": {
           "color": "#000000"
          },
          "showarrow": false,
          "text": "KG",
          "x": 3.55,
          "xanchor": "left",
          "xref": "x",
          "y": 11,
          "yref": "y"
         },
         {
          "align": "left",
          "font": {
           "color": "#000000"
          },
          "showarrow": false,
          "text": "Corpus",
          "x": 4.55,
          "xanchor": "left",
          "xref": "x",
          "y": 11,
          "yref": "y"
         },
         {
          "align": "left",
          "font": {
           "color": "#000000"
          },
          "showarrow": false,
          "text": "datatext\\babasan-paribasa.txt",
          "x": -0.45,
          "xanchor": "left",
          "xref": "x",
          "y": 12,
          "yref": "y"
         },
         {
          "align": "left",
          "font": {
           "color": "#000000"
          },
          "showarrow": false,
          "text": "1",
          "x": 0.55,
          "xanchor": "left",
          "xref": "x",
          "y": 12,
          "yref": "y"
         },
         {
          "align": "left",
          "font": {
           "color": "#000000"
          },
          "showarrow": false,
          "text": "ngan",
          "x": 1.55,
          "xanchor": "left",
          "xref": "x",
          "y": 12,
          "yref": "y"
         },
         {
          "align": "left",
          "font": {
           "color": "#000000"
          },
          "showarrow": false,
          "text": "ADV",
          "x": 2.55,
          "xanchor": "left",
          "xref": "x",
          "y": 12,
          "yref": "y"
         },
         {
          "align": "left",
          "font": {
           "color": "#000000"
          },
          "showarrow": false,
          "text": "KT",
          "x": 3.55,
          "xanchor": "left",
          "xref": "x",
          "y": 12,
          "yref": "y"
         },
         {
          "align": "left",
          "font": {
           "color": "#000000"
          },
          "showarrow": false,
          "text": "Corpus",
          "x": 4.55,
          "xanchor": "left",
          "xref": "x",
          "y": 12,
          "yref": "y"
         },
         {
          "align": "left",
          "font": {
           "color": "#000000"
          },
          "showarrow": false,
          "text": "datatext\\babasan-paribasa.txt",
          "x": -0.45,
          "xanchor": "left",
          "xref": "x",
          "y": 13,
          "yref": "y"
         },
         {
          "align": "left",
          "font": {
           "color": "#000000"
          },
          "showarrow": false,
          "text": "1",
          "x": 0.55,
          "xanchor": "left",
          "xref": "x",
          "y": 13,
          "yref": "y"
         },
         {
          "align": "left",
          "font": {
           "color": "#000000"
          },
          "showarrow": false,
          "text": "saukur",
          "x": 1.55,
          "xanchor": "left",
          "xref": "x",
          "y": 13,
          "yref": "y"
         },
         {
          "align": "left",
          "font": {
           "color": "#000000"
          },
          "showarrow": false,
          "text": "UNK",
          "x": 2.55,
          "xanchor": "left",
          "xref": "x",
          "y": 13,
          "yref": "y"
         },
         {
          "align": "left",
          "font": {
           "color": "#000000"
          },
          "showarrow": false,
          "text": "UNK",
          "x": 3.55,
          "xanchor": "left",
          "xref": "x",
          "y": 13,
          "yref": "y"
         },
         {
          "align": "left",
          "font": {
           "color": "#000000"
          },
          "showarrow": false,
          "text": "OOV",
          "x": 4.55,
          "xanchor": "left",
          "xref": "x",
          "y": 13,
          "yref": "y"
         },
         {
          "align": "left",
          "font": {
           "color": "#000000"
          },
          "showarrow": false,
          "text": "datatext\\babasan-paribasa.txt",
          "x": -0.45,
          "xanchor": "left",
          "xref": "x",
          "y": 14,
          "yref": "y"
         },
         {
          "align": "left",
          "font": {
           "color": "#000000"
          },
          "showarrow": false,
          "text": "1",
          "x": 0.55,
          "xanchor": "left",
          "xref": "x",
          "y": 14,
          "yref": "y"
         },
         {
          "align": "left",
          "font": {
           "color": "#000000"
          },
          "showarrow": false,
          "text": "keur",
          "x": 1.55,
          "xanchor": "left",
          "xref": "x",
          "y": 14,
          "yref": "y"
         },
         {
          "align": "left",
          "font": {
           "color": "#000000"
          },
          "showarrow": false,
          "text": "UNK",
          "x": 2.55,
          "xanchor": "left",
          "xref": "x",
          "y": 14,
          "yref": "y"
         },
         {
          "align": "left",
          "font": {
           "color": "#000000"
          },
          "showarrow": false,
          "text": "UNK",
          "x": 3.55,
          "xanchor": "left",
          "xref": "x",
          "y": 14,
          "yref": "y"
         },
         {
          "align": "left",
          "font": {
           "color": "#000000"
          },
          "showarrow": false,
          "text": "OOV",
          "x": 4.55,
          "xanchor": "left",
          "xref": "x",
          "y": 14,
          "yref": "y"
         },
         {
          "align": "left",
          "font": {
           "color": "#000000"
          },
          "showarrow": false,
          "text": "datatext\\babasan-paribasa.txt",
          "x": -0.45,
          "xanchor": "left",
          "xref": "x",
          "y": 15,
          "yref": "y"
         },
         {
          "align": "left",
          "font": {
           "color": "#000000"
          },
          "showarrow": false,
          "text": "1",
          "x": 0.55,
          "xanchor": "left",
          "xref": "x",
          "y": 15,
          "yref": "y"
         },
         {
          "align": "left",
          "font": {
           "color": "#000000"
          },
          "showarrow": false,
          "text": "ngangeunahkeun",
          "x": 1.55,
          "xanchor": "left",
          "xref": "x",
          "y": 15,
          "yref": "y"
         },
         {
          "align": "left",
          "font": {
           "color": "#000000"
          },
          "showarrow": false,
          "text": "UNK",
          "x": 2.55,
          "xanchor": "left",
          "xref": "x",
          "y": 15,
          "yref": "y"
         },
         {
          "align": "left",
          "font": {
           "color": "#000000"
          },
          "showarrow": false,
          "text": "UNK",
          "x": 3.55,
          "xanchor": "left",
          "xref": "x",
          "y": 15,
          "yref": "y"
         },
         {
          "align": "left",
          "font": {
           "color": "#000000"
          },
          "showarrow": false,
          "text": "OOV",
          "x": 4.55,
          "xanchor": "left",
          "xref": "x",
          "y": 15,
          "yref": "y"
         },
         {
          "align": "left",
          "font": {
           "color": "#000000"
          },
          "showarrow": false,
          "text": "datatext\\babasan-paribasa.txt",
          "x": -0.45,
          "xanchor": "left",
          "xref": "x",
          "y": 16,
          "yref": "y"
         },
         {
          "align": "left",
          "font": {
           "color": "#000000"
          },
          "showarrow": false,
          "text": "1",
          "x": 0.55,
          "xanchor": "left",
          "xref": "x",
          "y": 16,
          "yref": "y"
         },
         {
          "align": "left",
          "font": {
           "color": "#000000"
          },
          "showarrow": false,
          "text": "haté",
          "x": 1.55,
          "xanchor": "left",
          "xref": "x",
          "y": 16,
          "yref": "y"
         },
         {
          "align": "left",
          "font": {
           "color": "#000000"
          },
          "showarrow": false,
          "text": "NOUN",
          "x": 2.55,
          "xanchor": "left",
          "xref": "x",
          "y": 16,
          "yref": "y"
         },
         {
          "align": "left",
          "font": {
           "color": "#000000"
          },
          "showarrow": false,
          "text": "KB",
          "x": 3.55,
          "xanchor": "left",
          "xref": "x",
          "y": 16,
          "yref": "y"
         },
         {
          "align": "left",
          "font": {
           "color": "#000000"
          },
          "showarrow": false,
          "text": "Corpus",
          "x": 4.55,
          "xanchor": "left",
          "xref": "x",
          "y": 16,
          "yref": "y"
         },
         {
          "align": "left",
          "font": {
           "color": "#000000"
          },
          "showarrow": false,
          "text": "datatext\\babasan-paribasa.txt",
          "x": -0.45,
          "xanchor": "left",
          "xref": "x",
          "y": 17,
          "yref": "y"
         },
         {
          "align": "left",
          "font": {
           "color": "#000000"
          },
          "showarrow": false,
          "text": "1",
          "x": 0.55,
          "xanchor": "left",
          "xref": "x",
          "y": 17,
          "yref": "y"
         },
         {
          "align": "left",
          "font": {
           "color": "#000000"
          },
          "showarrow": false,
          "text": "nu",
          "x": 1.55,
          "xanchor": "left",
          "xref": "x",
          "y": 17,
          "yref": "y"
         },
         {
          "align": "left",
          "font": {
           "color": "#000000"
          },
          "showarrow": false,
          "text": "PRON",
          "x": 2.55,
          "xanchor": "left",
          "xref": "x",
          "y": 17,
          "yref": "y"
         },
         {
          "align": "left",
          "font": {
           "color": "#000000"
          },
          "showarrow": false,
          "text": "KG",
          "x": 3.55,
          "xanchor": "left",
          "xref": "x",
          "y": 17,
          "yref": "y"
         },
         {
          "align": "left",
          "font": {
           "color": "#000000"
          },
          "showarrow": false,
          "text": "Corpus",
          "x": 4.55,
          "xanchor": "left",
          "xref": "x",
          "y": 17,
          "yref": "y"
         },
         {
          "align": "left",
          "font": {
           "color": "#000000"
          },
          "showarrow": false,
          "text": "datatext\\babasan-paribasa.txt",
          "x": -0.45,
          "xanchor": "left",
          "xref": "x",
          "y": 18,
          "yref": "y"
         },
         {
          "align": "left",
          "font": {
           "color": "#000000"
          },
          "showarrow": false,
          "text": "1",
          "x": 0.55,
          "xanchor": "left",
          "xref": "x",
          "y": 18,
          "yref": "y"
         },
         {
          "align": "left",
          "font": {
           "color": "#000000"
          },
          "showarrow": false,
          "text": "séjén",
          "x": 1.55,
          "xanchor": "left",
          "xref": "x",
          "y": 18,
          "yref": "y"
         },
         {
          "align": "left",
          "font": {
           "color": "#000000"
          },
          "showarrow": false,
          "text": "ADJ",
          "x": 2.55,
          "xanchor": "left",
          "xref": "x",
          "y": 18,
          "yref": "y"
         },
         {
          "align": "left",
          "font": {
           "color": "#000000"
          },
          "showarrow": false,
          "text": "KS",
          "x": 3.55,
          "xanchor": "left",
          "xref": "x",
          "y": 18,
          "yref": "y"
         },
         {
          "align": "left",
          "font": {
           "color": "#000000"
          },
          "showarrow": false,
          "text": "Corpus",
          "x": 4.55,
          "xanchor": "left",
          "xref": "x",
          "y": 18,
          "yref": "y"
         },
         {
          "align": "left",
          "font": {
           "color": "#000000"
          },
          "showarrow": false,
          "text": "datatext\\babasan-paribasa.txt",
          "x": -0.45,
          "xanchor": "left",
          "xref": "x",
          "y": 19,
          "yref": "y"
         },
         {
          "align": "left",
          "font": {
           "color": "#000000"
          },
          "showarrow": false,
          "text": "1",
          "x": 0.55,
          "xanchor": "left",
          "xref": "x",
          "y": 19,
          "yref": "y"
         },
         {
          "align": "left",
          "font": {
           "color": "#000000"
          },
          "showarrow": false,
          "text": ".",
          "x": 1.55,
          "xanchor": "left",
          "xref": "x",
          "y": 19,
          "yref": "y"
         },
         {
          "align": "left",
          "font": {
           "color": "#000000"
          },
          "showarrow": false,
          "text": "PUNCT",
          "x": 2.55,
          "xanchor": "left",
          "xref": "x",
          "y": 19,
          "yref": "y"
         },
         {
          "align": "left",
          "font": {
           "color": "#000000"
          },
          "showarrow": false,
          "text": "TANDA_BACA",
          "x": 3.55,
          "xanchor": "left",
          "xref": "x",
          "y": 19,
          "yref": "y"
         },
         {
          "align": "left",
          "font": {
           "color": "#000000"
          },
          "showarrow": false,
          "text": "Corpus",
          "x": 4.55,
          "xanchor": "left",
          "xref": "x",
          "y": 19,
          "yref": "y"
         },
         {
          "align": "left",
          "font": {
           "color": "#000000"
          },
          "showarrow": false,
          "text": "datatext\\babasan-paribasa.txt",
          "x": -0.45,
          "xanchor": "left",
          "xref": "x",
          "y": 20,
          "yref": "y"
         },
         {
          "align": "left",
          "font": {
           "color": "#000000"
          },
          "showarrow": false,
          "text": "2",
          "x": 0.55,
          "xanchor": "left",
          "xref": "x",
          "y": 20,
          "yref": "y"
         },
         {
          "align": "left",
          "font": {
           "color": "#000000"
          },
          "showarrow": false,
          "text": "Abis",
          "x": 1.55,
          "xanchor": "left",
          "xref": "x",
          "y": 20,
          "yref": "y"
         },
         {
          "align": "left",
          "font": {
           "color": "#000000"
          },
          "showarrow": false,
          "text": "UNK",
          "x": 2.55,
          "xanchor": "left",
          "xref": "x",
          "y": 20,
          "yref": "y"
         },
         {
          "align": "left",
          "font": {
           "color": "#000000"
          },
          "showarrow": false,
          "text": "UNK",
          "x": 3.55,
          "xanchor": "left",
          "xref": "x",
          "y": 20,
          "yref": "y"
         },
         {
          "align": "left",
          "font": {
           "color": "#000000"
          },
          "showarrow": false,
          "text": "OOV",
          "x": 4.55,
          "xanchor": "left",
          "xref": "x",
          "y": 20,
          "yref": "y"
         },
         {
          "align": "left",
          "font": {
           "color": "#000000"
          },
          "showarrow": false,
          "text": "datatext\\babasan-paribasa.txt",
          "x": -0.45,
          "xanchor": "left",
          "xref": "x",
          "y": 21,
          "yref": "y"
         },
         {
          "align": "left",
          "font": {
           "color": "#000000"
          },
          "showarrow": false,
          "text": "2",
          "x": 0.55,
          "xanchor": "left",
          "xref": "x",
          "y": 21,
          "yref": "y"
         },
         {
          "align": "left",
          "font": {
           "color": "#000000"
          },
          "showarrow": false,
          "text": "bulan",
          "x": 1.55,
          "xanchor": "left",
          "xref": "x",
          "y": 21,
          "yref": "y"
         },
         {
          "align": "left",
          "font": {
           "color": "#000000"
          },
          "showarrow": false,
          "text": "NOUN",
          "x": 2.55,
          "xanchor": "left",
          "xref": "x",
          "y": 21,
          "yref": "y"
         },
         {
          "align": "left",
          "font": {
           "color": "#000000"
          },
          "showarrow": false,
          "text": "KB",
          "x": 3.55,
          "xanchor": "left",
          "xref": "x",
          "y": 21,
          "yref": "y"
         },
         {
          "align": "left",
          "font": {
           "color": "#000000"
          },
          "showarrow": false,
          "text": "Corpus",
          "x": 4.55,
          "xanchor": "left",
          "xref": "x",
          "y": 21,
          "yref": "y"
         },
         {
          "align": "left",
          "font": {
           "color": "#000000"
          },
          "showarrow": false,
          "text": "datatext\\babasan-paribasa.txt",
          "x": -0.45,
          "xanchor": "left",
          "xref": "x",
          "y": 22,
          "yref": "y"
         },
         {
          "align": "left",
          "font": {
           "color": "#000000"
          },
          "showarrow": false,
          "text": "2",
          "x": 0.55,
          "xanchor": "left",
          "xref": "x",
          "y": 22,
          "yref": "y"
         },
         {
          "align": "left",
          "font": {
           "color": "#000000"
          },
          "showarrow": false,
          "text": ",",
          "x": 1.55,
          "xanchor": "left",
          "xref": "x",
          "y": 22,
          "yref": "y"
         },
         {
          "align": "left",
          "font": {
           "color": "#000000"
          },
          "showarrow": false,
          "text": "PUNCT",
          "x": 2.55,
          "xanchor": "left",
          "xref": "x",
          "y": 22,
          "yref": "y"
         },
         {
          "align": "left",
          "font": {
           "color": "#000000"
          },
          "showarrow": false,
          "text": "TANDA_BACA",
          "x": 3.55,
          "xanchor": "left",
          "xref": "x",
          "y": 22,
          "yref": "y"
         },
         {
          "align": "left",
          "font": {
           "color": "#000000"
          },
          "showarrow": false,
          "text": "Corpus",
          "x": 4.55,
          "xanchor": "left",
          "xref": "x",
          "y": 22,
          "yref": "y"
         },
         {
          "align": "left",
          "font": {
           "color": "#000000"
          },
          "showarrow": false,
          "text": "datatext\\babasan-paribasa.txt",
          "x": -0.45,
          "xanchor": "left",
          "xref": "x",
          "y": 23,
          "yref": "y"
         },
         {
          "align": "left",
          "font": {
           "color": "#000000"
          },
          "showarrow": false,
          "text": "2",
          "x": 0.55,
          "xanchor": "left",
          "xref": "x",
          "y": 23,
          "yref": "y"
         },
         {
          "align": "left",
          "font": {
           "color": "#000000"
          },
          "showarrow": false,
          "text": "abis",
          "x": 1.55,
          "xanchor": "left",
          "xref": "x",
          "y": 23,
          "yref": "y"
         },
         {
          "align": "left",
          "font": {
           "color": "#000000"
          },
          "showarrow": false,
          "text": "UNK",
          "x": 2.55,
          "xanchor": "left",
          "xref": "x",
          "y": 23,
          "yref": "y"
         },
         {
          "align": "left",
          "font": {
           "color": "#000000"
          },
          "showarrow": false,
          "text": "UNK",
          "x": 3.55,
          "xanchor": "left",
          "xref": "x",
          "y": 23,
          "yref": "y"
         },
         {
          "align": "left",
          "font": {
           "color": "#000000"
          },
          "showarrow": false,
          "text": "OOV",
          "x": 4.55,
          "xanchor": "left",
          "xref": "x",
          "y": 23,
          "yref": "y"
         },
         {
          "align": "left",
          "font": {
           "color": "#000000"
          },
          "showarrow": false,
          "text": "datatext\\babasan-paribasa.txt",
          "x": -0.45,
          "xanchor": "left",
          "xref": "x",
          "y": 24,
          "yref": "y"
         },
         {
          "align": "left",
          "font": {
           "color": "#000000"
          },
          "showarrow": false,
          "text": "2",
          "x": 0.55,
          "xanchor": "left",
          "xref": "x",
          "y": 24,
          "yref": "y"
         },
         {
          "align": "left",
          "font": {
           "color": "#000000"
          },
          "showarrow": false,
          "text": "uang",
          "x": 1.55,
          "xanchor": "left",
          "xref": "x",
          "y": 24,
          "yref": "y"
         },
         {
          "align": "left",
          "font": {
           "color": "#000000"
          },
          "showarrow": false,
          "text": "UNK",
          "x": 2.55,
          "xanchor": "left",
          "xref": "x",
          "y": 24,
          "yref": "y"
         },
         {
          "align": "left",
          "font": {
           "color": "#000000"
          },
          "showarrow": false,
          "text": "UNK",
          "x": 3.55,
          "xanchor": "left",
          "xref": "x",
          "y": 24,
          "yref": "y"
         },
         {
          "align": "left",
          "font": {
           "color": "#000000"
          },
          "showarrow": false,
          "text": "OOV",
          "x": 4.55,
          "xanchor": "left",
          "xref": "x",
          "y": 24,
          "yref": "y"
         },
         {
          "align": "left",
          "font": {
           "color": "#000000"
          },
          "showarrow": false,
          "text": "datatext\\babasan-paribasa.txt",
          "x": -0.45,
          "xanchor": "left",
          "xref": "x",
          "y": 25,
          "yref": "y"
         },
         {
          "align": "left",
          "font": {
           "color": "#000000"
          },
          "showarrow": false,
          "text": "2",
          "x": 0.55,
          "xanchor": "left",
          "xref": "x",
          "y": 25,
          "yref": "y"
         },
         {
          "align": "left",
          "font": {
           "color": "#000000"
          },
          "showarrow": false,
          "text": "=",
          "x": 1.55,
          "xanchor": "left",
          "xref": "x",
          "y": 25,
          "yref": "y"
         },
         {
          "align": "left",
          "font": {
           "color": "#000000"
          },
          "showarrow": false,
          "text": "PUNCT",
          "x": 2.55,
          "xanchor": "left",
          "xref": "x",
          "y": 25,
          "yref": "y"
         },
         {
          "align": "left",
          "font": {
           "color": "#000000"
          },
          "showarrow": false,
          "text": "TANDA_BACA",
          "x": 3.55,
          "xanchor": "left",
          "xref": "x",
          "y": 25,
          "yref": "y"
         },
         {
          "align": "left",
          "font": {
           "color": "#000000"
          },
          "showarrow": false,
          "text": "Corpus",
          "x": 4.55,
          "xanchor": "left",
          "xref": "x",
          "y": 25,
          "yref": "y"
         },
         {
          "align": "left",
          "font": {
           "color": "#000000"
          },
          "showarrow": false,
          "text": "datatext\\babasan-paribasa.txt",
          "x": -0.45,
          "xanchor": "left",
          "xref": "x",
          "y": 26,
          "yref": "y"
         },
         {
          "align": "left",
          "font": {
           "color": "#000000"
          },
          "showarrow": false,
          "text": "2",
          "x": 0.55,
          "xanchor": "left",
          "xref": "x",
          "y": 26,
          "yref": "y"
         },
         {
          "align": "left",
          "font": {
           "color": "#000000"
          },
          "showarrow": false,
          "text": "béak",
          "x": 1.55,
          "xanchor": "left",
          "xref": "x",
          "y": 26,
          "yref": "y"
         },
         {
          "align": "left",
          "font": {
           "color": "#000000"
          },
          "showarrow": false,
          "text": "ADJ",
          "x": 2.55,
          "xanchor": "left",
          "xref": "x",
          "y": 26,
          "yref": "y"
         },
         {
          "align": "left",
          "font": {
           "color": "#000000"
          },
          "showarrow": false,
          "text": "KS",
          "x": 3.55,
          "xanchor": "left",
          "xref": "x",
          "y": 26,
          "yref": "y"
         },
         {
          "align": "left",
          "font": {
           "color": "#000000"
          },
          "showarrow": false,
          "text": "Corpus",
          "x": 4.55,
          "xanchor": "left",
          "xref": "x",
          "y": 26,
          "yref": "y"
         },
         {
          "align": "left",
          "font": {
           "color": "#000000"
          },
          "showarrow": false,
          "text": "datatext\\babasan-paribasa.txt",
          "x": -0.45,
          "xanchor": "left",
          "xref": "x",
          "y": 27,
          "yref": "y"
         },
         {
          "align": "left",
          "font": {
           "color": "#000000"
          },
          "showarrow": false,
          "text": "2",
          "x": 0.55,
          "xanchor": "left",
          "xref": "x",
          "y": 27,
          "yref": "y"
         },
         {
          "align": "left",
          "font": {
           "color": "#000000"
          },
          "showarrow": false,
          "text": "bulán",
          "x": 1.55,
          "xanchor": "left",
          "xref": "x",
          "y": 27,
          "yref": "y"
         },
         {
          "align": "left",
          "font": {
           "color": "#000000"
          },
          "showarrow": false,
          "text": "UNK",
          "x": 2.55,
          "xanchor": "left",
          "xref": "x",
          "y": 27,
          "yref": "y"
         },
         {
          "align": "left",
          "font": {
           "color": "#000000"
          },
          "showarrow": false,
          "text": "UNK",
          "x": 3.55,
          "xanchor": "left",
          "xref": "x",
          "y": 27,
          "yref": "y"
         },
         {
          "align": "left",
          "font": {
           "color": "#000000"
          },
          "showarrow": false,
          "text": "OOV",
          "x": 4.55,
          "xanchor": "left",
          "xref": "x",
          "y": 27,
          "yref": "y"
         },
         {
          "align": "left",
          "font": {
           "color": "#000000"
          },
          "showarrow": false,
          "text": "datatext\\babasan-paribasa.txt",
          "x": -0.45,
          "xanchor": "left",
          "xref": "x",
          "y": 28,
          "yref": "y"
         },
         {
          "align": "left",
          "font": {
           "color": "#000000"
          },
          "showarrow": false,
          "text": "2",
          "x": 0.55,
          "xanchor": "left",
          "xref": "x",
          "y": 28,
          "yref": "y"
         },
         {
          "align": "left",
          "font": {
           "color": "#000000"
          },
          "showarrow": false,
          "text": ",",
          "x": 1.55,
          "xanchor": "left",
          "xref": "x",
          "y": 28,
          "yref": "y"
         },
         {
          "align": "left",
          "font": {
           "color": "#000000"
          },
          "showarrow": false,
          "text": "PUNCT",
          "x": 2.55,
          "xanchor": "left",
          "xref": "x",
          "y": 28,
          "yref": "y"
         },
         {
          "align": "left",
          "font": {
           "color": "#000000"
          },
          "showarrow": false,
          "text": "TANDA_BACA",
          "x": 3.55,
          "xanchor": "left",
          "xref": "x",
          "y": 28,
          "yref": "y"
         },
         {
          "align": "left",
          "font": {
           "color": "#000000"
          },
          "showarrow": false,
          "text": "Corpus",
          "x": 4.55,
          "xanchor": "left",
          "xref": "x",
          "y": 28,
          "yref": "y"
         },
         {
          "align": "left",
          "font": {
           "color": "#000000"
          },
          "showarrow": false,
          "text": "datatext\\babasan-paribasa.txt",
          "x": -0.45,
          "xanchor": "left",
          "xref": "x",
          "y": 29,
          "yref": "y"
         },
         {
          "align": "left",
          "font": {
           "color": "#000000"
          },
          "showarrow": false,
          "text": "2",
          "x": 0.55,
          "xanchor": "left",
          "xref": "x",
          "y": 29,
          "yref": "y"
         },
         {
          "align": "left",
          "font": {
           "color": "#000000"
          },
          "showarrow": false,
          "text": "duit",
          "x": 1.55,
          "xanchor": "left",
          "xref": "x",
          "y": 29,
          "yref": "y"
         },
         {
          "align": "left",
          "font": {
           "color": "#000000"
          },
          "showarrow": false,
          "text": "UNK",
          "x": 2.55,
          "xanchor": "left",
          "xref": "x",
          "y": 29,
          "yref": "y"
         },
         {
          "align": "left",
          "font": {
           "color": "#000000"
          },
          "showarrow": false,
          "text": "UNK",
          "x": 3.55,
          "xanchor": "left",
          "xref": "x",
          "y": 29,
          "yref": "y"
         },
         {
          "align": "left",
          "font": {
           "color": "#000000"
          },
          "showarrow": false,
          "text": "OOV",
          "x": 4.55,
          "xanchor": "left",
          "xref": "x",
          "y": 29,
          "yref": "y"
         },
         {
          "align": "left",
          "font": {
           "color": "#000000"
          },
          "showarrow": false,
          "text": "datatext\\babasan-paribasa.txt",
          "x": -0.45,
          "xanchor": "left",
          "xref": "x",
          "y": 30,
          "yref": "y"
         },
         {
          "align": "left",
          "font": {
           "color": "#000000"
          },
          "showarrow": false,
          "text": "2",
          "x": 0.55,
          "xanchor": "left",
          "xref": "x",
          "y": 30,
          "yref": "y"
         },
         {
          "align": "left",
          "font": {
           "color": "#000000"
          },
          "showarrow": false,
          "text": "gajih",
          "x": 1.55,
          "xanchor": "left",
          "xref": "x",
          "y": 30,
          "yref": "y"
         },
         {
          "align": "left",
          "font": {
           "color": "#000000"
          },
          "showarrow": false,
          "text": "UNK",
          "x": 2.55,
          "xanchor": "left",
          "xref": "x",
          "y": 30,
          "yref": "y"
         },
         {
          "align": "left",
          "font": {
           "color": "#000000"
          },
          "showarrow": false,
          "text": "UNK",
          "x": 3.55,
          "xanchor": "left",
          "xref": "x",
          "y": 30,
          "yref": "y"
         },
         {
          "align": "left",
          "font": {
           "color": "#000000"
          },
          "showarrow": false,
          "text": "OOV",
          "x": 4.55,
          "xanchor": "left",
          "xref": "x",
          "y": 30,
          "yref": "y"
         },
         {
          "align": "left",
          "font": {
           "color": "#000000"
          },
          "showarrow": false,
          "text": "datatext\\babasan-paribasa.txt",
          "x": -0.45,
          "xanchor": "left",
          "xref": "x",
          "y": 31,
          "yref": "y"
         },
         {
          "align": "left",
          "font": {
           "color": "#000000"
          },
          "showarrow": false,
          "text": "2",
          "x": 0.55,
          "xanchor": "left",
          "xref": "x",
          "y": 31,
          "yref": "y"
         },
         {
          "align": "left",
          "font": {
           "color": "#000000"
          },
          "showarrow": false,
          "text": "ogé",
          "x": 1.55,
          "xanchor": "left",
          "xref": "x",
          "y": 31,
          "yref": "y"
         },
         {
          "align": "left",
          "font": {
           "color": "#000000"
          },
          "showarrow": false,
          "text": "ADV",
          "x": 2.55,
          "xanchor": "left",
          "xref": "x",
          "y": 31,
          "yref": "y"
         },
         {
          "align": "left",
          "font": {
           "color": "#000000"
          },
          "showarrow": false,
          "text": "KT",
          "x": 3.55,
          "xanchor": "left",
          "xref": "x",
          "y": 31,
          "yref": "y"
         },
         {
          "align": "left",
          "font": {
           "color": "#000000"
          },
          "showarrow": false,
          "text": "Corpus",
          "x": 4.55,
          "xanchor": "left",
          "xref": "x",
          "y": 31,
          "yref": "y"
         },
         {
          "align": "left",
          "font": {
           "color": "#000000"
          },
          "showarrow": false,
          "text": "datatext\\babasan-paribasa.txt",
          "x": -0.45,
          "xanchor": "left",
          "xref": "x",
          "y": 32,
          "yref": "y"
         },
         {
          "align": "left",
          "font": {
           "color": "#000000"
          },
          "showarrow": false,
          "text": "2",
          "x": 0.55,
          "xanchor": "left",
          "xref": "x",
          "y": 32,
          "yref": "y"
         },
         {
          "align": "left",
          "font": {
           "color": "#000000"
          },
          "showarrow": false,
          "text": "béak",
          "x": 1.55,
          "xanchor": "left",
          "xref": "x",
          "y": 32,
          "yref": "y"
         },
         {
          "align": "left",
          "font": {
           "color": "#000000"
          },
          "showarrow": false,
          "text": "ADJ",
          "x": 2.55,
          "xanchor": "left",
          "xref": "x",
          "y": 32,
          "yref": "y"
         },
         {
          "align": "left",
          "font": {
           "color": "#000000"
          },
          "showarrow": false,
          "text": "KS",
          "x": 3.55,
          "xanchor": "left",
          "xref": "x",
          "y": 32,
          "yref": "y"
         },
         {
          "align": "left",
          "font": {
           "color": "#000000"
          },
          "showarrow": false,
          "text": "Corpus",
          "x": 4.55,
          "xanchor": "left",
          "xref": "x",
          "y": 32,
          "yref": "y"
         },
         {
          "align": "left",
          "font": {
           "color": "#000000"
          },
          "showarrow": false,
          "text": "datatext\\babasan-paribasa.txt",
          "x": -0.45,
          "xanchor": "left",
          "xref": "x",
          "y": 33,
          "yref": "y"
         },
         {
          "align": "left",
          "font": {
           "color": "#000000"
          },
          "showarrow": false,
          "text": "2",
          "x": 0.55,
          "xanchor": "left",
          "xref": "x",
          "y": 33,
          "yref": "y"
         },
         {
          "align": "left",
          "font": {
           "color": "#000000"
          },
          "showarrow": false,
          "text": "deuih",
          "x": 1.55,
          "xanchor": "left",
          "xref": "x",
          "y": 33,
          "yref": "y"
         },
         {
          "align": "left",
          "font": {
           "color": "#000000"
          },
          "showarrow": false,
          "text": "UNK",
          "x": 2.55,
          "xanchor": "left",
          "xref": "x",
          "y": 33,
          "yref": "y"
         },
         {
          "align": "left",
          "font": {
           "color": "#000000"
          },
          "showarrow": false,
          "text": "UNK",
          "x": 3.55,
          "xanchor": "left",
          "xref": "x",
          "y": 33,
          "yref": "y"
         },
         {
          "align": "left",
          "font": {
           "color": "#000000"
          },
          "showarrow": false,
          "text": "OOV",
          "x": 4.55,
          "xanchor": "left",
          "xref": "x",
          "y": 33,
          "yref": "y"
         },
         {
          "align": "left",
          "font": {
           "color": "#000000"
          },
          "showarrow": false,
          "text": "datatext\\babasan-paribasa.txt",
          "x": -0.45,
          "xanchor": "left",
          "xref": "x",
          "y": 34,
          "yref": "y"
         },
         {
          "align": "left",
          "font": {
           "color": "#000000"
          },
          "showarrow": false,
          "text": "2",
          "x": 0.55,
          "xanchor": "left",
          "xref": "x",
          "y": 34,
          "yref": "y"
         },
         {
          "align": "left",
          "font": {
           "color": "#000000"
          },
          "showarrow": false,
          "text": ".",
          "x": 1.55,
          "xanchor": "left",
          "xref": "x",
          "y": 34,
          "yref": "y"
         },
         {
          "align": "left",
          "font": {
           "color": "#000000"
          },
          "showarrow": false,
          "text": "PUNCT",
          "x": 2.55,
          "xanchor": "left",
          "xref": "x",
          "y": 34,
          "yref": "y"
         },
         {
          "align": "left",
          "font": {
           "color": "#000000"
          },
          "showarrow": false,
          "text": "TANDA_BACA",
          "x": 3.55,
          "xanchor": "left",
          "xref": "x",
          "y": 34,
          "yref": "y"
         },
         {
          "align": "left",
          "font": {
           "color": "#000000"
          },
          "showarrow": false,
          "text": "Corpus",
          "x": 4.55,
          "xanchor": "left",
          "xref": "x",
          "y": 34,
          "yref": "y"
         },
         {
          "align": "left",
          "font": {
           "color": "#000000"
          },
          "showarrow": false,
          "text": "datatext\\babasan-paribasa.txt",
          "x": -0.45,
          "xanchor": "left",
          "xref": "x",
          "y": 35,
          "yref": "y"
         },
         {
          "align": "left",
          "font": {
           "color": "#000000"
          },
          "showarrow": false,
          "text": "3",
          "x": 0.55,
          "xanchor": "left",
          "xref": "x",
          "y": 35,
          "yref": "y"
         },
         {
          "align": "left",
          "font": {
           "color": "#000000"
          },
          "showarrow": false,
          "text": "Abong",
          "x": 1.55,
          "xanchor": "left",
          "xref": "x",
          "y": 35,
          "yref": "y"
         },
         {
          "align": "left",
          "font": {
           "color": "#000000"
          },
          "showarrow": false,
          "text": "ADV",
          "x": 2.55,
          "xanchor": "left",
          "xref": "x",
          "y": 35,
          "yref": "y"
         },
         {
          "align": "left",
          "font": {
           "color": "#000000"
          },
          "showarrow": false,
          "text": "KT",
          "x": 3.55,
          "xanchor": "left",
          "xref": "x",
          "y": 35,
          "yref": "y"
         },
         {
          "align": "left",
          "font": {
           "color": "#000000"
          },
          "showarrow": false,
          "text": "Corpus",
          "x": 4.55,
          "xanchor": "left",
          "xref": "x",
          "y": 35,
          "yref": "y"
         },
         {
          "align": "left",
          "font": {
           "color": "#000000"
          },
          "showarrow": false,
          "text": "datatext\\babasan-paribasa.txt",
          "x": -0.45,
          "xanchor": "left",
          "xref": "x",
          "y": 36,
          "yref": "y"
         },
         {
          "align": "left",
          "font": {
           "color": "#000000"
          },
          "showarrow": false,
          "text": "3",
          "x": 0.55,
          "xanchor": "left",
          "xref": "x",
          "y": 36,
          "yref": "y"
         },
         {
          "align": "left",
          "font": {
           "color": "#000000"
          },
          "showarrow": false,
          "text": "biwir",
          "x": 1.55,
          "xanchor": "left",
          "xref": "x",
          "y": 36,
          "yref": "y"
         },
         {
          "align": "left",
          "font": {
           "color": "#000000"
          },
          "showarrow": false,
          "text": "NOUN",
          "x": 2.55,
          "xanchor": "left",
          "xref": "x",
          "y": 36,
          "yref": "y"
         },
         {
          "align": "left",
          "font": {
           "color": "#000000"
          },
          "showarrow": false,
          "text": "KB",
          "x": 3.55,
          "xanchor": "left",
          "xref": "x",
          "y": 36,
          "yref": "y"
         },
         {
          "align": "left",
          "font": {
           "color": "#000000"
          },
          "showarrow": false,
          "text": "Corpus",
          "x": 4.55,
          "xanchor": "left",
          "xref": "x",
          "y": 36,
          "yref": "y"
         },
         {
          "align": "left",
          "font": {
           "color": "#000000"
          },
          "showarrow": false,
          "text": "datatext\\babasan-paribasa.txt",
          "x": -0.45,
          "xanchor": "left",
          "xref": "x",
          "y": 37,
          "yref": "y"
         },
         {
          "align": "left",
          "font": {
           "color": "#000000"
          },
          "showarrow": false,
          "text": "3",
          "x": 0.55,
          "xanchor": "left",
          "xref": "x",
          "y": 37,
          "yref": "y"
         },
         {
          "align": "left",
          "font": {
           "color": "#000000"
          },
          "showarrow": false,
          "text": "teu",
          "x": 1.55,
          "xanchor": "left",
          "xref": "x",
          "y": 37,
          "yref": "y"
         },
         {
          "align": "left",
          "font": {
           "color": "#000000"
          },
          "showarrow": false,
          "text": "PART",
          "x": 2.55,
          "xanchor": "left",
          "xref": "x",
          "y": 37,
          "yref": "y"
         },
         {
          "align": "left",
          "font": {
           "color": "#000000"
          },
          "showarrow": false,
          "text": "PL",
          "x": 3.55,
          "xanchor": "left",
          "xref": "x",
          "y": 37,
          "yref": "y"
         },
         {
          "align": "left",
          "font": {
           "color": "#000000"
          },
          "showarrow": false,
          "text": "Corpus",
          "x": 4.55,
          "xanchor": "left",
          "xref": "x",
          "y": 37,
          "yref": "y"
         },
         {
          "align": "left",
          "font": {
           "color": "#000000"
          },
          "showarrow": false,
          "text": "datatext\\babasan-paribasa.txt",
          "x": -0.45,
          "xanchor": "left",
          "xref": "x",
          "y": 38,
          "yref": "y"
         },
         {
          "align": "left",
          "font": {
           "color": "#000000"
          },
          "showarrow": false,
          "text": "3",
          "x": 0.55,
          "xanchor": "left",
          "xref": "x",
          "y": 38,
          "yref": "y"
         },
         {
          "align": "left",
          "font": {
           "color": "#000000"
          },
          "showarrow": false,
          "text": "diwengku",
          "x": 1.55,
          "xanchor": "left",
          "xref": "x",
          "y": 38,
          "yref": "y"
         },
         {
          "align": "left",
          "font": {
           "color": "#000000"
          },
          "showarrow": false,
          "text": "UNK",
          "x": 2.55,
          "xanchor": "left",
          "xref": "x",
          "y": 38,
          "yref": "y"
         },
         {
          "align": "left",
          "font": {
           "color": "#000000"
          },
          "showarrow": false,
          "text": "UNK",
          "x": 3.55,
          "xanchor": "left",
          "xref": "x",
          "y": 38,
          "yref": "y"
         },
         {
          "align": "left",
          "font": {
           "color": "#000000"
          },
          "showarrow": false,
          "text": "OOV",
          "x": 4.55,
          "xanchor": "left",
          "xref": "x",
          "y": 38,
          "yref": "y"
         },
         {
          "align": "left",
          "font": {
           "color": "#000000"
          },
          "showarrow": false,
          "text": "datatext\\babasan-paribasa.txt",
          "x": -0.45,
          "xanchor": "left",
          "xref": "x",
          "y": 39,
          "yref": "y"
         },
         {
          "align": "left",
          "font": {
           "color": "#000000"
          },
          "showarrow": false,
          "text": "3",
          "x": 0.55,
          "xanchor": "left",
          "xref": "x",
          "y": 39,
          "yref": "y"
         },
         {
          "align": "left",
          "font": {
           "color": "#000000"
          },
          "showarrow": false,
          "text": ",",
          "x": 1.55,
          "xanchor": "left",
          "xref": "x",
          "y": 39,
          "yref": "y"
         },
         {
          "align": "left",
          "font": {
           "color": "#000000"
          },
          "showarrow": false,
          "text": "PUNCT",
          "x": 2.55,
          "xanchor": "left",
          "xref": "x",
          "y": 39,
          "yref": "y"
         },
         {
          "align": "left",
          "font": {
           "color": "#000000"
          },
          "showarrow": false,
          "text": "TANDA_BACA",
          "x": 3.55,
          "xanchor": "left",
          "xref": "x",
          "y": 39,
          "yref": "y"
         },
         {
          "align": "left",
          "font": {
           "color": "#000000"
          },
          "showarrow": false,
          "text": "Corpus",
          "x": 4.55,
          "xanchor": "left",
          "xref": "x",
          "y": 39,
          "yref": "y"
         },
         {
          "align": "left",
          "font": {
           "color": "#000000"
          },
          "showarrow": false,
          "text": "datatext\\babasan-paribasa.txt",
          "x": -0.45,
          "xanchor": "left",
          "xref": "x",
          "y": 40,
          "yref": "y"
         },
         {
          "align": "left",
          "font": {
           "color": "#000000"
          },
          "showarrow": false,
          "text": "3",
          "x": 0.55,
          "xanchor": "left",
          "xref": "x",
          "y": 40,
          "yref": "y"
         },
         {
          "align": "left",
          "font": {
           "color": "#000000"
          },
          "showarrow": false,
          "text": "abong",
          "x": 1.55,
          "xanchor": "left",
          "xref": "x",
          "y": 40,
          "yref": "y"
         },
         {
          "align": "left",
          "font": {
           "color": "#000000"
          },
          "showarrow": false,
          "text": "ADV",
          "x": 2.55,
          "xanchor": "left",
          "xref": "x",
          "y": 40,
          "yref": "y"
         },
         {
          "align": "left",
          "font": {
           "color": "#000000"
          },
          "showarrow": false,
          "text": "KT",
          "x": 3.55,
          "xanchor": "left",
          "xref": "x",
          "y": 40,
          "yref": "y"
         },
         {
          "align": "left",
          "font": {
           "color": "#000000"
          },
          "showarrow": false,
          "text": "Corpus",
          "x": 4.55,
          "xanchor": "left",
          "xref": "x",
          "y": 40,
          "yref": "y"
         },
         {
          "align": "left",
          "font": {
           "color": "#000000"
          },
          "showarrow": false,
          "text": "datatext\\babasan-paribasa.txt",
          "x": -0.45,
          "xanchor": "left",
          "xref": "x",
          "y": 41,
          "yref": "y"
         },
         {
          "align": "left",
          "font": {
           "color": "#000000"
          },
          "showarrow": false,
          "text": "3",
          "x": 0.55,
          "xanchor": "left",
          "xref": "x",
          "y": 41,
          "yref": "y"
         },
         {
          "align": "left",
          "font": {
           "color": "#000000"
          },
          "showarrow": false,
          "text": "létah",
          "x": 1.55,
          "xanchor": "left",
          "xref": "x",
          "y": 41,
          "yref": "y"
         },
         {
          "align": "left",
          "font": {
           "color": "#000000"
          },
          "showarrow": false,
          "text": "NOUN",
          "x": 2.55,
          "xanchor": "left",
          "xref": "x",
          "y": 41,
          "yref": "y"
         },
         {
          "align": "left",
          "font": {
           "color": "#000000"
          },
          "showarrow": false,
          "text": "KB",
          "x": 3.55,
          "xanchor": "left",
          "xref": "x",
          "y": 41,
          "yref": "y"
         },
         {
          "align": "left",
          "font": {
           "color": "#000000"
          },
          "showarrow": false,
          "text": "Corpus",
          "x": 4.55,
          "xanchor": "left",
          "xref": "x",
          "y": 41,
          "yref": "y"
         },
         {
          "align": "left",
          "font": {
           "color": "#000000"
          },
          "showarrow": false,
          "text": "datatext\\babasan-paribasa.txt",
          "x": -0.45,
          "xanchor": "left",
          "xref": "x",
          "y": 42,
          "yref": "y"
         },
         {
          "align": "left",
          "font": {
           "color": "#000000"
          },
          "showarrow": false,
          "text": "3",
          "x": 0.55,
          "xanchor": "left",
          "xref": "x",
          "y": 42,
          "yref": "y"
         },
         {
          "align": "left",
          "font": {
           "color": "#000000"
          },
          "showarrow": false,
          "text": "teu",
          "x": 1.55,
          "xanchor": "left",
          "xref": "x",
          "y": 42,
          "yref": "y"
         },
         {
          "align": "left",
          "font": {
           "color": "#000000"
          },
          "showarrow": false,
          "text": "PART",
          "x": 2.55,
          "xanchor": "left",
          "xref": "x",
          "y": 42,
          "yref": "y"
         },
         {
          "align": "left",
          "font": {
           "color": "#000000"
          },
          "showarrow": false,
          "text": "PL",
          "x": 3.55,
          "xanchor": "left",
          "xref": "x",
          "y": 42,
          "yref": "y"
         },
         {
          "align": "left",
          "font": {
           "color": "#000000"
          },
          "showarrow": false,
          "text": "Corpus",
          "x": 4.55,
          "xanchor": "left",
          "xref": "x",
          "y": 42,
          "yref": "y"
         },
         {
          "align": "left",
          "font": {
           "color": "#000000"
          },
          "showarrow": false,
          "text": "datatext\\babasan-paribasa.txt",
          "x": -0.45,
          "xanchor": "left",
          "xref": "x",
          "y": 43,
          "yref": "y"
         },
         {
          "align": "left",
          "font": {
           "color": "#000000"
          },
          "showarrow": false,
          "text": "3",
          "x": 0.55,
          "xanchor": "left",
          "xref": "x",
          "y": 43,
          "yref": "y"
         },
         {
          "align": "left",
          "font": {
           "color": "#000000"
          },
          "showarrow": false,
          "text": "tulangan",
          "x": 1.55,
          "xanchor": "left",
          "xref": "x",
          "y": 43,
          "yref": "y"
         },
         {
          "align": "left",
          "font": {
           "color": "#000000"
          },
          "showarrow": false,
          "text": "UNK",
          "x": 2.55,
          "xanchor": "left",
          "xref": "x",
          "y": 43,
          "yref": "y"
         },
         {
          "align": "left",
          "font": {
           "color": "#000000"
          },
          "showarrow": false,
          "text": "UNK",
          "x": 3.55,
          "xanchor": "left",
          "xref": "x",
          "y": 43,
          "yref": "y"
         },
         {
          "align": "left",
          "font": {
           "color": "#000000"
          },
          "showarrow": false,
          "text": "OOV",
          "x": 4.55,
          "xanchor": "left",
          "xref": "x",
          "y": 43,
          "yref": "y"
         },
         {
          "align": "left",
          "font": {
           "color": "#000000"
          },
          "showarrow": false,
          "text": "datatext\\babasan-paribasa.txt",
          "x": -0.45,
          "xanchor": "left",
          "xref": "x",
          "y": 44,
          "yref": "y"
         },
         {
          "align": "left",
          "font": {
           "color": "#000000"
          },
          "showarrow": false,
          "text": "3",
          "x": 0.55,
          "xanchor": "left",
          "xref": "x",
          "y": 44,
          "yref": "y"
         },
         {
          "align": "left",
          "font": {
           "color": "#000000"
          },
          "showarrow": false,
          "text": "=",
          "x": 1.55,
          "xanchor": "left",
          "xref": "x",
          "y": 44,
          "yref": "y"
         },
         {
          "align": "left",
          "font": {
           "color": "#000000"
          },
          "showarrow": false,
          "text": "PUNCT",
          "x": 2.55,
          "xanchor": "left",
          "xref": "x",
          "y": 44,
          "yref": "y"
         },
         {
          "align": "left",
          "font": {
           "color": "#000000"
          },
          "showarrow": false,
          "text": "TANDA_BACA",
          "x": 3.55,
          "xanchor": "left",
          "xref": "x",
          "y": 44,
          "yref": "y"
         },
         {
          "align": "left",
          "font": {
           "color": "#000000"
          },
          "showarrow": false,
          "text": "Corpus",
          "x": 4.55,
          "xanchor": "left",
          "xref": "x",
          "y": 44,
          "yref": "y"
         },
         {
          "align": "left",
          "font": {
           "color": "#000000"
          },
          "showarrow": false,
          "text": "datatext\\babasan-paribasa.txt",
          "x": -0.45,
          "xanchor": "left",
          "xref": "x",
          "y": 45,
          "yref": "y"
         },
         {
          "align": "left",
          "font": {
           "color": "#000000"
          },
          "showarrow": false,
          "text": "3",
          "x": 0.55,
          "xanchor": "left",
          "xref": "x",
          "y": 45,
          "yref": "y"
         },
         {
          "align": "left",
          "font": {
           "color": "#000000"
          },
          "showarrow": false,
          "text": "jalma",
          "x": 1.55,
          "xanchor": "left",
          "xref": "x",
          "y": 45,
          "yref": "y"
         },
         {
          "align": "left",
          "font": {
           "color": "#000000"
          },
          "showarrow": false,
          "text": "UNK",
          "x": 2.55,
          "xanchor": "left",
          "xref": "x",
          "y": 45,
          "yref": "y"
         },
         {
          "align": "left",
          "font": {
           "color": "#000000"
          },
          "showarrow": false,
          "text": "UNK",
          "x": 3.55,
          "xanchor": "left",
          "xref": "x",
          "y": 45,
          "yref": "y"
         },
         {
          "align": "left",
          "font": {
           "color": "#000000"
          },
          "showarrow": false,
          "text": "OOV",
          "x": 4.55,
          "xanchor": "left",
          "xref": "x",
          "y": 45,
          "yref": "y"
         },
         {
          "align": "left",
          "font": {
           "color": "#000000"
          },
          "showarrow": false,
          "text": "datatext\\babasan-paribasa.txt",
          "x": -0.45,
          "xanchor": "left",
          "xref": "x",
          "y": 46,
          "yref": "y"
         },
         {
          "align": "left",
          "font": {
           "color": "#000000"
          },
          "showarrow": false,
          "text": "3",
          "x": 0.55,
          "xanchor": "left",
          "xref": "x",
          "y": 46,
          "yref": "y"
         },
         {
          "align": "left",
          "font": {
           "color": "#000000"
          },
          "showarrow": false,
          "text": "anu",
          "x": 1.55,
          "xanchor": "left",
          "xref": "x",
          "y": 46,
          "yref": "y"
         },
         {
          "align": "left",
          "font": {
           "color": "#000000"
          },
          "showarrow": false,
          "text": "UNK",
          "x": 2.55,
          "xanchor": "left",
          "xref": "x",
          "y": 46,
          "yref": "y"
         },
         {
          "align": "left",
          "font": {
           "color": "#000000"
          },
          "showarrow": false,
          "text": "UNK",
          "x": 3.55,
          "xanchor": "left",
          "xref": "x",
          "y": 46,
          "yref": "y"
         },
         {
          "align": "left",
          "font": {
           "color": "#000000"
          },
          "showarrow": false,
          "text": "OOV",
          "x": 4.55,
          "xanchor": "left",
          "xref": "x",
          "y": 46,
          "yref": "y"
         },
         {
          "align": "left",
          "font": {
           "color": "#000000"
          },
          "showarrow": false,
          "text": "datatext\\babasan-paribasa.txt",
          "x": -0.45,
          "xanchor": "left",
          "xref": "x",
          "y": 47,
          "yref": "y"
         },
         {
          "align": "left",
          "font": {
           "color": "#000000"
          },
          "showarrow": false,
          "text": "3",
          "x": 0.55,
          "xanchor": "left",
          "xref": "x",
          "y": 47,
          "yref": "y"
         },
         {
          "align": "left",
          "font": {
           "color": "#000000"
          },
          "showarrow": false,
          "text": "ngomongna",
          "x": 1.55,
          "xanchor": "left",
          "xref": "x",
          "y": 47,
          "yref": "y"
         },
         {
          "align": "left",
          "font": {
           "color": "#000000"
          },
          "showarrow": false,
          "text": "UNK",
          "x": 2.55,
          "xanchor": "left",
          "xref": "x",
          "y": 47,
          "yref": "y"
         },
         {
          "align": "left",
          "font": {
           "color": "#000000"
          },
          "showarrow": false,
          "text": "UNK",
          "x": 3.55,
          "xanchor": "left",
          "xref": "x",
          "y": 47,
          "yref": "y"
         },
         {
          "align": "left",
          "font": {
           "color": "#000000"
          },
          "showarrow": false,
          "text": "OOV",
          "x": 4.55,
          "xanchor": "left",
          "xref": "x",
          "y": 47,
          "yref": "y"
         },
         {
          "align": "left",
          "font": {
           "color": "#000000"
          },
          "showarrow": false,
          "text": "datatext\\babasan-paribasa.txt",
          "x": -0.45,
          "xanchor": "left",
          "xref": "x",
          "y": 48,
          "yref": "y"
         },
         {
          "align": "left",
          "font": {
           "color": "#000000"
          },
          "showarrow": false,
          "text": "3",
          "x": 0.55,
          "xanchor": "left",
          "xref": "x",
          "y": 48,
          "yref": "y"
         },
         {
          "align": "left",
          "font": {
           "color": "#000000"
          },
          "showarrow": false,
          "text": "sakarep",
          "x": 1.55,
          "xanchor": "left",
          "xref": "x",
          "y": 48,
          "yref": "y"
         },
         {
          "align": "left",
          "font": {
           "color": "#000000"
          },
          "showarrow": false,
          "text": "UNK",
          "x": 2.55,
          "xanchor": "left",
          "xref": "x",
          "y": 48,
          "yref": "y"
         },
         {
          "align": "left",
          "font": {
           "color": "#000000"
          },
          "showarrow": false,
          "text": "UNK",
          "x": 3.55,
          "xanchor": "left",
          "xref": "x",
          "y": 48,
          "yref": "y"
         },
         {
          "align": "left",
          "font": {
           "color": "#000000"
          },
          "showarrow": false,
          "text": "OOV",
          "x": 4.55,
          "xanchor": "left",
          "xref": "x",
          "y": 48,
          "yref": "y"
         },
         {
          "align": "left",
          "font": {
           "color": "#000000"
          },
          "showarrow": false,
          "text": "datatext\\babasan-paribasa.txt",
          "x": -0.45,
          "xanchor": "left",
          "xref": "x",
          "y": 49,
          "yref": "y"
         },
         {
          "align": "left",
          "font": {
           "color": "#000000"
          },
          "showarrow": false,
          "text": "3",
          "x": 0.55,
          "xanchor": "left",
          "xref": "x",
          "y": 49,
          "yref": "y"
         },
         {
          "align": "left",
          "font": {
           "color": "#000000"
          },
          "showarrow": false,
          "text": "-",
          "x": 1.55,
          "xanchor": "left",
          "xref": "x",
          "y": 49,
          "yref": "y"
         },
         {
          "align": "left",
          "font": {
           "color": "#000000"
          },
          "showarrow": false,
          "text": "PUNCT",
          "x": 2.55,
          "xanchor": "left",
          "xref": "x",
          "y": 49,
          "yref": "y"
         },
         {
          "align": "left",
          "font": {
           "color": "#000000"
          },
          "showarrow": false,
          "text": "TANDA_BACA",
          "x": 3.55,
          "xanchor": "left",
          "xref": "x",
          "y": 49,
          "yref": "y"
         },
         {
          "align": "left",
          "font": {
           "color": "#000000"
          },
          "showarrow": false,
          "text": "Corpus",
          "x": 4.55,
          "xanchor": "left",
          "xref": "x",
          "y": 49,
          "yref": "y"
         },
         {
          "align": "left",
          "font": {
           "color": "#000000"
          },
          "showarrow": false,
          "text": "datatext\\babasan-paribasa.txt",
          "x": -0.45,
          "xanchor": "left",
          "xref": "x",
          "y": 50,
          "yref": "y"
         },
         {
          "align": "left",
          "font": {
           "color": "#000000"
          },
          "showarrow": false,
          "text": "3",
          "x": 0.55,
          "xanchor": "left",
          "xref": "x",
          "y": 50,
          "yref": "y"
         },
         {
          "align": "left",
          "font": {
           "color": "#000000"
          },
          "showarrow": false,
          "text": "karep",
          "x": 1.55,
          "xanchor": "left",
          "xref": "x",
          "y": 50,
          "yref": "y"
         },
         {
          "align": "left",
          "font": {
           "color": "#000000"
          },
          "showarrow": false,
          "text": "UNK",
          "x": 2.55,
          "xanchor": "left",
          "xref": "x",
          "y": 50,
          "yref": "y"
         },
         {
          "align": "left",
          "font": {
           "color": "#000000"
          },
          "showarrow": false,
          "text": "UNK",
          "x": 3.55,
          "xanchor": "left",
          "xref": "x",
          "y": 50,
          "yref": "y"
         },
         {
          "align": "left",
          "font": {
           "color": "#000000"
          },
          "showarrow": false,
          "text": "OOV",
          "x": 4.55,
          "xanchor": "left",
          "xref": "x",
          "y": 50,
          "yref": "y"
         }
        ],
        "height": 1580,
        "margin": {
         "b": 0,
         "l": 0,
         "r": 0,
         "t": 0
        },
        "template": {
         "data": {
          "bar": [
           {
            "error_x": {
             "color": "#2a3f5f"
            },
            "error_y": {
             "color": "#2a3f5f"
            },
            "marker": {
             "line": {
              "color": "#E5ECF6",
              "width": 0.5
             },
             "pattern": {
              "fillmode": "overlay",
              "size": 10,
              "solidity": 0.2
             }
            },
            "type": "bar"
           }
          ],
          "barpolar": [
           {
            "marker": {
             "line": {
              "color": "#E5ECF6",
              "width": 0.5
             },
             "pattern": {
              "fillmode": "overlay",
              "size": 10,
              "solidity": 0.2
             }
            },
            "type": "barpolar"
           }
          ],
          "carpet": [
           {
            "aaxis": {
             "endlinecolor": "#2a3f5f",
             "gridcolor": "white",
             "linecolor": "white",
             "minorgridcolor": "white",
             "startlinecolor": "#2a3f5f"
            },
            "baxis": {
             "endlinecolor": "#2a3f5f",
             "gridcolor": "white",
             "linecolor": "white",
             "minorgridcolor": "white",
             "startlinecolor": "#2a3f5f"
            },
            "type": "carpet"
           }
          ],
          "choropleth": [
           {
            "colorbar": {
             "outlinewidth": 0,
             "ticks": ""
            },
            "type": "choropleth"
           }
          ],
          "contour": [
           {
            "colorbar": {
             "outlinewidth": 0,
             "ticks": ""
            },
            "colorscale": [
             [
              0,
              "#0d0887"
             ],
             [
              0.1111111111111111,
              "#46039f"
             ],
             [
              0.2222222222222222,
              "#7201a8"
             ],
             [
              0.3333333333333333,
              "#9c179e"
             ],
             [
              0.4444444444444444,
              "#bd3786"
             ],
             [
              0.5555555555555556,
              "#d8576b"
             ],
             [
              0.6666666666666666,
              "#ed7953"
             ],
             [
              0.7777777777777778,
              "#fb9f3a"
             ],
             [
              0.8888888888888888,
              "#fdca26"
             ],
             [
              1,
              "#f0f921"
             ]
            ],
            "type": "contour"
           }
          ],
          "contourcarpet": [
           {
            "colorbar": {
             "outlinewidth": 0,
             "ticks": ""
            },
            "type": "contourcarpet"
           }
          ],
          "heatmap": [
           {
            "colorbar": {
             "outlinewidth": 0,
             "ticks": ""
            },
            "colorscale": [
             [
              0,
              "#0d0887"
             ],
             [
              0.1111111111111111,
              "#46039f"
             ],
             [
              0.2222222222222222,
              "#7201a8"
             ],
             [
              0.3333333333333333,
              "#9c179e"
             ],
             [
              0.4444444444444444,
              "#bd3786"
             ],
             [
              0.5555555555555556,
              "#d8576b"
             ],
             [
              0.6666666666666666,
              "#ed7953"
             ],
             [
              0.7777777777777778,
              "#fb9f3a"
             ],
             [
              0.8888888888888888,
              "#fdca26"
             ],
             [
              1,
              "#f0f921"
             ]
            ],
            "type": "heatmap"
           }
          ],
          "heatmapgl": [
           {
            "colorbar": {
             "outlinewidth": 0,
             "ticks": ""
            },
            "colorscale": [
             [
              0,
              "#0d0887"
             ],
             [
              0.1111111111111111,
              "#46039f"
             ],
             [
              0.2222222222222222,
              "#7201a8"
             ],
             [
              0.3333333333333333,
              "#9c179e"
             ],
             [
              0.4444444444444444,
              "#bd3786"
             ],
             [
              0.5555555555555556,
              "#d8576b"
             ],
             [
              0.6666666666666666,
              "#ed7953"
             ],
             [
              0.7777777777777778,
              "#fb9f3a"
             ],
             [
              0.8888888888888888,
              "#fdca26"
             ],
             [
              1,
              "#f0f921"
             ]
            ],
            "type": "heatmapgl"
           }
          ],
          "histogram": [
           {
            "marker": {
             "pattern": {
              "fillmode": "overlay",
              "size": 10,
              "solidity": 0.2
             }
            },
            "type": "histogram"
           }
          ],
          "histogram2d": [
           {
            "colorbar": {
             "outlinewidth": 0,
             "ticks": ""
            },
            "colorscale": [
             [
              0,
              "#0d0887"
             ],
             [
              0.1111111111111111,
              "#46039f"
             ],
             [
              0.2222222222222222,
              "#7201a8"
             ],
             [
              0.3333333333333333,
              "#9c179e"
             ],
             [
              0.4444444444444444,
              "#bd3786"
             ],
             [
              0.5555555555555556,
              "#d8576b"
             ],
             [
              0.6666666666666666,
              "#ed7953"
             ],
             [
              0.7777777777777778,
              "#fb9f3a"
             ],
             [
              0.8888888888888888,
              "#fdca26"
             ],
             [
              1,
              "#f0f921"
             ]
            ],
            "type": "histogram2d"
           }
          ],
          "histogram2dcontour": [
           {
            "colorbar": {
             "outlinewidth": 0,
             "ticks": ""
            },
            "colorscale": [
             [
              0,
              "#0d0887"
             ],
             [
              0.1111111111111111,
              "#46039f"
             ],
             [
              0.2222222222222222,
              "#7201a8"
             ],
             [
              0.3333333333333333,
              "#9c179e"
             ],
             [
              0.4444444444444444,
              "#bd3786"
             ],
             [
              0.5555555555555556,
              "#d8576b"
             ],
             [
              0.6666666666666666,
              "#ed7953"
             ],
             [
              0.7777777777777778,
              "#fb9f3a"
             ],
             [
              0.8888888888888888,
              "#fdca26"
             ],
             [
              1,
              "#f0f921"
             ]
            ],
            "type": "histogram2dcontour"
           }
          ],
          "mesh3d": [
           {
            "colorbar": {
             "outlinewidth": 0,
             "ticks": ""
            },
            "type": "mesh3d"
           }
          ],
          "parcoords": [
           {
            "line": {
             "colorbar": {
              "outlinewidth": 0,
              "ticks": ""
             }
            },
            "type": "parcoords"
           }
          ],
          "pie": [
           {
            "automargin": true,
            "type": "pie"
           }
          ],
          "scatter": [
           {
            "fillpattern": {
             "fillmode": "overlay",
             "size": 10,
             "solidity": 0.2
            },
            "type": "scatter"
           }
          ],
          "scatter3d": [
           {
            "line": {
             "colorbar": {
              "outlinewidth": 0,
              "ticks": ""
             }
            },
            "marker": {
             "colorbar": {
              "outlinewidth": 0,
              "ticks": ""
             }
            },
            "type": "scatter3d"
           }
          ],
          "scattercarpet": [
           {
            "marker": {
             "colorbar": {
              "outlinewidth": 0,
              "ticks": ""
             }
            },
            "type": "scattercarpet"
           }
          ],
          "scattergeo": [
           {
            "marker": {
             "colorbar": {
              "outlinewidth": 0,
              "ticks": ""
             }
            },
            "type": "scattergeo"
           }
          ],
          "scattergl": [
           {
            "marker": {
             "colorbar": {
              "outlinewidth": 0,
              "ticks": ""
             }
            },
            "type": "scattergl"
           }
          ],
          "scattermapbox": [
           {
            "marker": {
             "colorbar": {
              "outlinewidth": 0,
              "ticks": ""
             }
            },
            "type": "scattermapbox"
           }
          ],
          "scatterpolar": [
           {
            "marker": {
             "colorbar": {
              "outlinewidth": 0,
              "ticks": ""
             }
            },
            "type": "scatterpolar"
           }
          ],
          "scatterpolargl": [
           {
            "marker": {
             "colorbar": {
              "outlinewidth": 0,
              "ticks": ""
             }
            },
            "type": "scatterpolargl"
           }
          ],
          "scatterternary": [
           {
            "marker": {
             "colorbar": {
              "outlinewidth": 0,
              "ticks": ""
             }
            },
            "type": "scatterternary"
           }
          ],
          "surface": [
           {
            "colorbar": {
             "outlinewidth": 0,
             "ticks": ""
            },
            "colorscale": [
             [
              0,
              "#0d0887"
             ],
             [
              0.1111111111111111,
              "#46039f"
             ],
             [
              0.2222222222222222,
              "#7201a8"
             ],
             [
              0.3333333333333333,
              "#9c179e"
             ],
             [
              0.4444444444444444,
              "#bd3786"
             ],
             [
              0.5555555555555556,
              "#d8576b"
             ],
             [
              0.6666666666666666,
              "#ed7953"
             ],
             [
              0.7777777777777778,
              "#fb9f3a"
             ],
             [
              0.8888888888888888,
              "#fdca26"
             ],
             [
              1,
              "#f0f921"
             ]
            ],
            "type": "surface"
           }
          ],
          "table": [
           {
            "cells": {
             "fill": {
              "color": "#EBF0F8"
             },
             "line": {
              "color": "white"
             }
            },
            "header": {
             "fill": {
              "color": "#C8D4E3"
             },
             "line": {
              "color": "white"
             }
            },
            "type": "table"
           }
          ]
         },
         "layout": {
          "annotationdefaults": {
           "arrowcolor": "#2a3f5f",
           "arrowhead": 0,
           "arrowwidth": 1
          },
          "autotypenumbers": "strict",
          "coloraxis": {
           "colorbar": {
            "outlinewidth": 0,
            "ticks": ""
           }
          },
          "colorscale": {
           "diverging": [
            [
             0,
             "#8e0152"
            ],
            [
             0.1,
             "#c51b7d"
            ],
            [
             0.2,
             "#de77ae"
            ],
            [
             0.3,
             "#f1b6da"
            ],
            [
             0.4,
             "#fde0ef"
            ],
            [
             0.5,
             "#f7f7f7"
            ],
            [
             0.6,
             "#e6f5d0"
            ],
            [
             0.7,
             "#b8e186"
            ],
            [
             0.8,
             "#7fbc41"
            ],
            [
             0.9,
             "#4d9221"
            ],
            [
             1,
             "#276419"
            ]
           ],
           "sequential": [
            [
             0,
             "#0d0887"
            ],
            [
             0.1111111111111111,
             "#46039f"
            ],
            [
             0.2222222222222222,
             "#7201a8"
            ],
            [
             0.3333333333333333,
             "#9c179e"
            ],
            [
             0.4444444444444444,
             "#bd3786"
            ],
            [
             0.5555555555555556,
             "#d8576b"
            ],
            [
             0.6666666666666666,
             "#ed7953"
            ],
            [
             0.7777777777777778,
             "#fb9f3a"
            ],
            [
             0.8888888888888888,
             "#fdca26"
            ],
            [
             1,
             "#f0f921"
            ]
           ],
           "sequentialminus": [
            [
             0,
             "#0d0887"
            ],
            [
             0.1111111111111111,
             "#46039f"
            ],
            [
             0.2222222222222222,
             "#7201a8"
            ],
            [
             0.3333333333333333,
             "#9c179e"
            ],
            [
             0.4444444444444444,
             "#bd3786"
            ],
            [
             0.5555555555555556,
             "#d8576b"
            ],
            [
             0.6666666666666666,
             "#ed7953"
            ],
            [
             0.7777777777777778,
             "#fb9f3a"
            ],
            [
             0.8888888888888888,
             "#fdca26"
            ],
            [
             1,
             "#f0f921"
            ]
           ]
          },
          "colorway": [
           "#636efa",
           "#EF553B",
           "#00cc96",
           "#ab63fa",
           "#FFA15A",
           "#19d3f3",
           "#FF6692",
           "#B6E880",
           "#FF97FF",
           "#FECB52"
          ],
          "font": {
           "color": "#2a3f5f"
          },
          "geo": {
           "bgcolor": "white",
           "lakecolor": "white",
           "landcolor": "#E5ECF6",
           "showlakes": true,
           "showland": true,
           "subunitcolor": "white"
          },
          "hoverlabel": {
           "align": "left"
          },
          "hovermode": "closest",
          "mapbox": {
           "style": "light"
          },
          "paper_bgcolor": "white",
          "plot_bgcolor": "#E5ECF6",
          "polar": {
           "angularaxis": {
            "gridcolor": "white",
            "linecolor": "white",
            "ticks": ""
           },
           "bgcolor": "#E5ECF6",
           "radialaxis": {
            "gridcolor": "white",
            "linecolor": "white",
            "ticks": ""
           }
          },
          "scene": {
           "xaxis": {
            "backgroundcolor": "#E5ECF6",
            "gridcolor": "white",
            "gridwidth": 2,
            "linecolor": "white",
            "showbackground": true,
            "ticks": "",
            "zerolinecolor": "white"
           },
           "yaxis": {
            "backgroundcolor": "#E5ECF6",
            "gridcolor": "white",
            "gridwidth": 2,
            "linecolor": "white",
            "showbackground": true,
            "ticks": "",
            "zerolinecolor": "white"
           },
           "zaxis": {
            "backgroundcolor": "#E5ECF6",
            "gridcolor": "white",
            "gridwidth": 2,
            "linecolor": "white",
            "showbackground": true,
            "ticks": "",
            "zerolinecolor": "white"
           }
          },
          "shapedefaults": {
           "line": {
            "color": "#2a3f5f"
           }
          },
          "ternary": {
           "aaxis": {
            "gridcolor": "white",
            "linecolor": "white",
            "ticks": ""
           },
           "baxis": {
            "gridcolor": "white",
            "linecolor": "white",
            "ticks": ""
           },
           "bgcolor": "#E5ECF6",
           "caxis": {
            "gridcolor": "white",
            "linecolor": "white",
            "ticks": ""
           }
          },
          "title": {
           "x": 0.05
          },
          "xaxis": {
           "automargin": true,
           "gridcolor": "white",
           "linecolor": "white",
           "ticks": "",
           "title": {
            "standoff": 15
           },
           "zerolinecolor": "white",
           "zerolinewidth": 2
          },
          "yaxis": {
           "automargin": true,
           "gridcolor": "white",
           "linecolor": "white",
           "ticks": "",
           "title": {
            "standoff": 15
           },
           "zerolinecolor": "white",
           "zerolinewidth": 2
          }
         }
        },
        "xaxis": {
         "dtick": 1,
         "gridwidth": 2,
         "showticklabels": false,
         "tick0": -0.5,
         "ticks": "",
         "zeroline": false
        },
        "yaxis": {
         "autorange": "reversed",
         "dtick": 1,
         "gridwidth": 2,
         "showticklabels": false,
         "tick0": 0.5,
         "ticks": "",
         "zeroline": false
        }
       }
      }
     },
     "metadata": {},
     "output_type": "display_data"
    },
    {
     "data": {
      "application/vnd.plotly.v1+json": {
       "config": {
        "plotlyServerURL": "https://plot.ly"
       },
       "data": [
        {
         "alignmentgroup": "True",
         "hovertemplate": "POS=%{x}<br>Jumlah=%{text}<extra></extra>",
         "legendgroup": "UNK",
         "marker": {
          "color": "#636efa",
          "pattern": {
           "shape": ""
          }
         },
         "name": "UNK",
         "offsetgroup": "UNK",
         "orientation": "v",
         "showlegend": true,
         "text": [
          17033
         ],
         "textposition": "outside",
         "type": "bar",
         "x": [
          "UNK"
         ],
         "xaxis": "x",
         "y": [
          17033
         ],
         "yaxis": "y"
        },
        {
         "alignmentgroup": "True",
         "hovertemplate": "POS=%{x}<br>Jumlah=%{text}<extra></extra>",
         "legendgroup": "PUNCT",
         "marker": {
          "color": "#EF553B",
          "pattern": {
           "shape": ""
          }
         },
         "name": "PUNCT",
         "offsetgroup": "PUNCT",
         "orientation": "v",
         "showlegend": true,
         "text": [
          6299
         ],
         "textposition": "outside",
         "type": "bar",
         "x": [
          "PUNCT"
         ],
         "xaxis": "x",
         "y": [
          6299
         ],
         "yaxis": "y"
        },
        {
         "alignmentgroup": "True",
         "hovertemplate": "POS=%{x}<br>Jumlah=%{text}<extra></extra>",
         "legendgroup": "NOUN",
         "marker": {
          "color": "#00cc96",
          "pattern": {
           "shape": ""
          }
         },
         "name": "NOUN",
         "offsetgroup": "NOUN",
         "orientation": "v",
         "showlegend": true,
         "text": [
          2650
         ],
         "textposition": "outside",
         "type": "bar",
         "x": [
          "NOUN"
         ],
         "xaxis": "x",
         "y": [
          2650
         ],
         "yaxis": "y"
        },
        {
         "alignmentgroup": "True",
         "hovertemplate": "POS=%{x}<br>Jumlah=%{text}<extra></extra>",
         "legendgroup": "VERB",
         "marker": {
          "color": "#ab63fa",
          "pattern": {
           "shape": ""
          }
         },
         "name": "VERB",
         "offsetgroup": "VERB",
         "orientation": "v",
         "showlegend": true,
         "text": [
          1664
         ],
         "textposition": "outside",
         "type": "bar",
         "x": [
          "VERB"
         ],
         "xaxis": "x",
         "y": [
          1664
         ],
         "yaxis": "y"
        },
        {
         "alignmentgroup": "True",
         "hovertemplate": "POS=%{x}<br>Jumlah=%{text}<extra></extra>",
         "legendgroup": "ADJ",
         "marker": {
          "color": "#FFA15A",
          "pattern": {
           "shape": ""
          }
         },
         "name": "ADJ",
         "offsetgroup": "ADJ",
         "orientation": "v",
         "showlegend": true,
         "text": [
          1011
         ],
         "textposition": "outside",
         "type": "bar",
         "x": [
          "ADJ"
         ],
         "xaxis": "x",
         "y": [
          1011
         ],
         "yaxis": "y"
        },
        {
         "alignmentgroup": "True",
         "hovertemplate": "POS=%{x}<br>Jumlah=%{text}<extra></extra>",
         "legendgroup": "PART",
         "marker": {
          "color": "#19d3f3",
          "pattern": {
           "shape": ""
          }
         },
         "name": "PART",
         "offsetgroup": "PART",
         "orientation": "v",
         "showlegend": true,
         "text": [
          813
         ],
         "textposition": "outside",
         "type": "bar",
         "x": [
          "PART"
         ],
         "xaxis": "x",
         "y": [
          813
         ],
         "yaxis": "y"
        },
        {
         "alignmentgroup": "True",
         "hovertemplate": "POS=%{x}<br>Jumlah=%{text}<extra></extra>",
         "legendgroup": "PRON",
         "marker": {
          "color": "#FF6692",
          "pattern": {
           "shape": ""
          }
         },
         "name": "PRON",
         "offsetgroup": "PRON",
         "orientation": "v",
         "showlegend": true,
         "text": [
          796
         ],
         "textposition": "outside",
         "type": "bar",
         "x": [
          "PRON"
         ],
         "xaxis": "x",
         "y": [
          796
         ],
         "yaxis": "y"
        },
        {
         "alignmentgroup": "True",
         "hovertemplate": "POS=%{x}<br>Jumlah=%{text}<extra></extra>",
         "legendgroup": "ADV",
         "marker": {
          "color": "#B6E880",
          "pattern": {
           "shape": ""
          }
         },
         "name": "ADV",
         "offsetgroup": "ADV",
         "orientation": "v",
         "showlegend": true,
         "text": [
          576
         ],
         "textposition": "outside",
         "type": "bar",
         "x": [
          "ADV"
         ],
         "xaxis": "x",
         "y": [
          576
         ],
         "yaxis": "y"
        },
        {
         "alignmentgroup": "True",
         "hovertemplate": "POS=%{x}<br>Jumlah=%{text}<extra></extra>",
         "legendgroup": "ADP",
         "marker": {
          "color": "#FF97FF",
          "pattern": {
           "shape": ""
          }
         },
         "name": "ADP",
         "offsetgroup": "ADP",
         "orientation": "v",
         "showlegend": true,
         "text": [
          459
         ],
         "textposition": "outside",
         "type": "bar",
         "x": [
          "ADP"
         ],
         "xaxis": "x",
         "y": [
          459
         ],
         "yaxis": "y"
        },
        {
         "alignmentgroup": "True",
         "hovertemplate": "POS=%{x}<br>Jumlah=%{text}<extra></extra>",
         "legendgroup": "CCONJ",
         "marker": {
          "color": "#FECB52",
          "pattern": {
           "shape": ""
          }
         },
         "name": "CCONJ",
         "offsetgroup": "CCONJ",
         "orientation": "v",
         "showlegend": true,
         "text": [
          439
         ],
         "textposition": "outside",
         "type": "bar",
         "x": [
          "CCONJ"
         ],
         "xaxis": "x",
         "y": [
          439
         ],
         "yaxis": "y"
        },
        {
         "alignmentgroup": "True",
         "hovertemplate": "POS=%{x}<br>Jumlah=%{text}<extra></extra>",
         "legendgroup": "SCONJ",
         "marker": {
          "color": "#636efa",
          "pattern": {
           "shape": ""
          }
         },
         "name": "SCONJ",
         "offsetgroup": "SCONJ",
         "orientation": "v",
         "showlegend": true,
         "text": [
          439
         ],
         "textposition": "outside",
         "type": "bar",
         "x": [
          "SCONJ"
         ],
         "xaxis": "x",
         "y": [
          439
         ],
         "yaxis": "y"
        },
        {
         "alignmentgroup": "True",
         "hovertemplate": "POS=%{x}<br>Jumlah=%{text}<extra></extra>",
         "legendgroup": "AUX",
         "marker": {
          "color": "#EF553B",
          "pattern": {
           "shape": ""
          }
         },
         "name": "AUX",
         "offsetgroup": "AUX",
         "orientation": "v",
         "showlegend": true,
         "text": [
          425
         ],
         "textposition": "outside",
         "type": "bar",
         "x": [
          "AUX"
         ],
         "xaxis": "x",
         "y": [
          425
         ],
         "yaxis": "y"
        },
        {
         "alignmentgroup": "True",
         "hovertemplate": "POS=%{x}<br>Jumlah=%{text}<extra></extra>",
         "legendgroup": "PROPN",
         "marker": {
          "color": "#00cc96",
          "pattern": {
           "shape": ""
          }
         },
         "name": "PROPN",
         "offsetgroup": "PROPN",
         "orientation": "v",
         "showlegend": true,
         "text": [
          199
         ],
         "textposition": "outside",
         "type": "bar",
         "x": [
          "PROPN"
         ],
         "xaxis": "x",
         "y": [
          199
         ],
         "yaxis": "y"
        },
        {
         "alignmentgroup": "True",
         "hovertemplate": "POS=%{x}<br>Jumlah=%{text}<extra></extra>",
         "legendgroup": "DET",
         "marker": {
          "color": "#ab63fa",
          "pattern": {
           "shape": ""
          }
         },
         "name": "DET",
         "offsetgroup": "DET",
         "orientation": "v",
         "showlegend": true,
         "text": [
          121
         ],
         "textposition": "outside",
         "type": "bar",
         "x": [
          "DET"
         ],
         "xaxis": "x",
         "y": [
          121
         ],
         "yaxis": "y"
        },
        {
         "alignmentgroup": "True",
         "hovertemplate": "POS=%{x}<br>Jumlah=%{text}<extra></extra>",
         "legendgroup": "X",
         "marker": {
          "color": "#FFA15A",
          "pattern": {
           "shape": ""
          }
         },
         "name": "X",
         "offsetgroup": "X",
         "orientation": "v",
         "showlegend": true,
         "text": [
          67
         ],
         "textposition": "outside",
         "type": "bar",
         "x": [
          "X"
         ],
         "xaxis": "x",
         "y": [
          67
         ],
         "yaxis": "y"
        },
        {
         "alignmentgroup": "True",
         "hovertemplate": "POS=%{x}<br>Jumlah=%{text}<extra></extra>",
         "legendgroup": "NUM",
         "marker": {
          "color": "#19d3f3",
          "pattern": {
           "shape": ""
          }
         },
         "name": "NUM",
         "offsetgroup": "NUM",
         "orientation": "v",
         "showlegend": true,
         "text": [
          57
         ],
         "textposition": "outside",
         "type": "bar",
         "x": [
          "NUM"
         ],
         "xaxis": "x",
         "y": [
          57
         ],
         "yaxis": "y"
        }
       ],
       "layout": {
        "barmode": "relative",
        "legend": {
         "title": {
          "text": "POS"
         },
         "tracegroupgap": 0
        },
        "template": {
         "data": {
          "bar": [
           {
            "error_x": {
             "color": "#2a3f5f"
            },
            "error_y": {
             "color": "#2a3f5f"
            },
            "marker": {
             "line": {
              "color": "#E5ECF6",
              "width": 0.5
             },
             "pattern": {
              "fillmode": "overlay",
              "size": 10,
              "solidity": 0.2
             }
            },
            "type": "bar"
           }
          ],
          "barpolar": [
           {
            "marker": {
             "line": {
              "color": "#E5ECF6",
              "width": 0.5
             },
             "pattern": {
              "fillmode": "overlay",
              "size": 10,
              "solidity": 0.2
             }
            },
            "type": "barpolar"
           }
          ],
          "carpet": [
           {
            "aaxis": {
             "endlinecolor": "#2a3f5f",
             "gridcolor": "white",
             "linecolor": "white",
             "minorgridcolor": "white",
             "startlinecolor": "#2a3f5f"
            },
            "baxis": {
             "endlinecolor": "#2a3f5f",
             "gridcolor": "white",
             "linecolor": "white",
             "minorgridcolor": "white",
             "startlinecolor": "#2a3f5f"
            },
            "type": "carpet"
           }
          ],
          "choropleth": [
           {
            "colorbar": {
             "outlinewidth": 0,
             "ticks": ""
            },
            "type": "choropleth"
           }
          ],
          "contour": [
           {
            "colorbar": {
             "outlinewidth": 0,
             "ticks": ""
            },
            "colorscale": [
             [
              0,
              "#0d0887"
             ],
             [
              0.1111111111111111,
              "#46039f"
             ],
             [
              0.2222222222222222,
              "#7201a8"
             ],
             [
              0.3333333333333333,
              "#9c179e"
             ],
             [
              0.4444444444444444,
              "#bd3786"
             ],
             [
              0.5555555555555556,
              "#d8576b"
             ],
             [
              0.6666666666666666,
              "#ed7953"
             ],
             [
              0.7777777777777778,
              "#fb9f3a"
             ],
             [
              0.8888888888888888,
              "#fdca26"
             ],
             [
              1,
              "#f0f921"
             ]
            ],
            "type": "contour"
           }
          ],
          "contourcarpet": [
           {
            "colorbar": {
             "outlinewidth": 0,
             "ticks": ""
            },
            "type": "contourcarpet"
           }
          ],
          "heatmap": [
           {
            "colorbar": {
             "outlinewidth": 0,
             "ticks": ""
            },
            "colorscale": [
             [
              0,
              "#0d0887"
             ],
             [
              0.1111111111111111,
              "#46039f"
             ],
             [
              0.2222222222222222,
              "#7201a8"
             ],
             [
              0.3333333333333333,
              "#9c179e"
             ],
             [
              0.4444444444444444,
              "#bd3786"
             ],
             [
              0.5555555555555556,
              "#d8576b"
             ],
             [
              0.6666666666666666,
              "#ed7953"
             ],
             [
              0.7777777777777778,
              "#fb9f3a"
             ],
             [
              0.8888888888888888,
              "#fdca26"
             ],
             [
              1,
              "#f0f921"
             ]
            ],
            "type": "heatmap"
           }
          ],
          "heatmapgl": [
           {
            "colorbar": {
             "outlinewidth": 0,
             "ticks": ""
            },
            "colorscale": [
             [
              0,
              "#0d0887"
             ],
             [
              0.1111111111111111,
              "#46039f"
             ],
             [
              0.2222222222222222,
              "#7201a8"
             ],
             [
              0.3333333333333333,
              "#9c179e"
             ],
             [
              0.4444444444444444,
              "#bd3786"
             ],
             [
              0.5555555555555556,
              "#d8576b"
             ],
             [
              0.6666666666666666,
              "#ed7953"
             ],
             [
              0.7777777777777778,
              "#fb9f3a"
             ],
             [
              0.8888888888888888,
              "#fdca26"
             ],
             [
              1,
              "#f0f921"
             ]
            ],
            "type": "heatmapgl"
           }
          ],
          "histogram": [
           {
            "marker": {
             "pattern": {
              "fillmode": "overlay",
              "size": 10,
              "solidity": 0.2
             }
            },
            "type": "histogram"
           }
          ],
          "histogram2d": [
           {
            "colorbar": {
             "outlinewidth": 0,
             "ticks": ""
            },
            "colorscale": [
             [
              0,
              "#0d0887"
             ],
             [
              0.1111111111111111,
              "#46039f"
             ],
             [
              0.2222222222222222,
              "#7201a8"
             ],
             [
              0.3333333333333333,
              "#9c179e"
             ],
             [
              0.4444444444444444,
              "#bd3786"
             ],
             [
              0.5555555555555556,
              "#d8576b"
             ],
             [
              0.6666666666666666,
              "#ed7953"
             ],
             [
              0.7777777777777778,
              "#fb9f3a"
             ],
             [
              0.8888888888888888,
              "#fdca26"
             ],
             [
              1,
              "#f0f921"
             ]
            ],
            "type": "histogram2d"
           }
          ],
          "histogram2dcontour": [
           {
            "colorbar": {
             "outlinewidth": 0,
             "ticks": ""
            },
            "colorscale": [
             [
              0,
              "#0d0887"
             ],
             [
              0.1111111111111111,
              "#46039f"
             ],
             [
              0.2222222222222222,
              "#7201a8"
             ],
             [
              0.3333333333333333,
              "#9c179e"
             ],
             [
              0.4444444444444444,
              "#bd3786"
             ],
             [
              0.5555555555555556,
              "#d8576b"
             ],
             [
              0.6666666666666666,
              "#ed7953"
             ],
             [
              0.7777777777777778,
              "#fb9f3a"
             ],
             [
              0.8888888888888888,
              "#fdca26"
             ],
             [
              1,
              "#f0f921"
             ]
            ],
            "type": "histogram2dcontour"
           }
          ],
          "mesh3d": [
           {
            "colorbar": {
             "outlinewidth": 0,
             "ticks": ""
            },
            "type": "mesh3d"
           }
          ],
          "parcoords": [
           {
            "line": {
             "colorbar": {
              "outlinewidth": 0,
              "ticks": ""
             }
            },
            "type": "parcoords"
           }
          ],
          "pie": [
           {
            "automargin": true,
            "type": "pie"
           }
          ],
          "scatter": [
           {
            "fillpattern": {
             "fillmode": "overlay",
             "size": 10,
             "solidity": 0.2
            },
            "type": "scatter"
           }
          ],
          "scatter3d": [
           {
            "line": {
             "colorbar": {
              "outlinewidth": 0,
              "ticks": ""
             }
            },
            "marker": {
             "colorbar": {
              "outlinewidth": 0,
              "ticks": ""
             }
            },
            "type": "scatter3d"
           }
          ],
          "scattercarpet": [
           {
            "marker": {
             "colorbar": {
              "outlinewidth": 0,
              "ticks": ""
             }
            },
            "type": "scattercarpet"
           }
          ],
          "scattergeo": [
           {
            "marker": {
             "colorbar": {
              "outlinewidth": 0,
              "ticks": ""
             }
            },
            "type": "scattergeo"
           }
          ],
          "scattergl": [
           {
            "marker": {
             "colorbar": {
              "outlinewidth": 0,
              "ticks": ""
             }
            },
            "type": "scattergl"
           }
          ],
          "scattermapbox": [
           {
            "marker": {
             "colorbar": {
              "outlinewidth": 0,
              "ticks": ""
             }
            },
            "type": "scattermapbox"
           }
          ],
          "scatterpolar": [
           {
            "marker": {
             "colorbar": {
              "outlinewidth": 0,
              "ticks": ""
             }
            },
            "type": "scatterpolar"
           }
          ],
          "scatterpolargl": [
           {
            "marker": {
             "colorbar": {
              "outlinewidth": 0,
              "ticks": ""
             }
            },
            "type": "scatterpolargl"
           }
          ],
          "scatterternary": [
           {
            "marker": {
             "colorbar": {
              "outlinewidth": 0,
              "ticks": ""
             }
            },
            "type": "scatterternary"
           }
          ],
          "surface": [
           {
            "colorbar": {
             "outlinewidth": 0,
             "ticks": ""
            },
            "colorscale": [
             [
              0,
              "#0d0887"
             ],
             [
              0.1111111111111111,
              "#46039f"
             ],
             [
              0.2222222222222222,
              "#7201a8"
             ],
             [
              0.3333333333333333,
              "#9c179e"
             ],
             [
              0.4444444444444444,
              "#bd3786"
             ],
             [
              0.5555555555555556,
              "#d8576b"
             ],
             [
              0.6666666666666666,
              "#ed7953"
             ],
             [
              0.7777777777777778,
              "#fb9f3a"
             ],
             [
              0.8888888888888888,
              "#fdca26"
             ],
             [
              1,
              "#f0f921"
             ]
            ],
            "type": "surface"
           }
          ],
          "table": [
           {
            "cells": {
             "fill": {
              "color": "#EBF0F8"
             },
             "line": {
              "color": "white"
             }
            },
            "header": {
             "fill": {
              "color": "#C8D4E3"
             },
             "line": {
              "color": "white"
             }
            },
            "type": "table"
           }
          ]
         },
         "layout": {
          "annotationdefaults": {
           "arrowcolor": "#2a3f5f",
           "arrowhead": 0,
           "arrowwidth": 1
          },
          "autotypenumbers": "strict",
          "coloraxis": {
           "colorbar": {
            "outlinewidth": 0,
            "ticks": ""
           }
          },
          "colorscale": {
           "diverging": [
            [
             0,
             "#8e0152"
            ],
            [
             0.1,
             "#c51b7d"
            ],
            [
             0.2,
             "#de77ae"
            ],
            [
             0.3,
             "#f1b6da"
            ],
            [
             0.4,
             "#fde0ef"
            ],
            [
             0.5,
             "#f7f7f7"
            ],
            [
             0.6,
             "#e6f5d0"
            ],
            [
             0.7,
             "#b8e186"
            ],
            [
             0.8,
             "#7fbc41"
            ],
            [
             0.9,
             "#4d9221"
            ],
            [
             1,
             "#276419"
            ]
           ],
           "sequential": [
            [
             0,
             "#0d0887"
            ],
            [
             0.1111111111111111,
             "#46039f"
            ],
            [
             0.2222222222222222,
             "#7201a8"
            ],
            [
             0.3333333333333333,
             "#9c179e"
            ],
            [
             0.4444444444444444,
             "#bd3786"
            ],
            [
             0.5555555555555556,
             "#d8576b"
            ],
            [
             0.6666666666666666,
             "#ed7953"
            ],
            [
             0.7777777777777778,
             "#fb9f3a"
            ],
            [
             0.8888888888888888,
             "#fdca26"
            ],
            [
             1,
             "#f0f921"
            ]
           ],
           "sequentialminus": [
            [
             0,
             "#0d0887"
            ],
            [
             0.1111111111111111,
             "#46039f"
            ],
            [
             0.2222222222222222,
             "#7201a8"
            ],
            [
             0.3333333333333333,
             "#9c179e"
            ],
            [
             0.4444444444444444,
             "#bd3786"
            ],
            [
             0.5555555555555556,
             "#d8576b"
            ],
            [
             0.6666666666666666,
             "#ed7953"
            ],
            [
             0.7777777777777778,
             "#fb9f3a"
            ],
            [
             0.8888888888888888,
             "#fdca26"
            ],
            [
             1,
             "#f0f921"
            ]
           ]
          },
          "colorway": [
           "#636efa",
           "#EF553B",
           "#00cc96",
           "#ab63fa",
           "#FFA15A",
           "#19d3f3",
           "#FF6692",
           "#B6E880",
           "#FF97FF",
           "#FECB52"
          ],
          "font": {
           "color": "#2a3f5f"
          },
          "geo": {
           "bgcolor": "white",
           "lakecolor": "white",
           "landcolor": "#E5ECF6",
           "showlakes": true,
           "showland": true,
           "subunitcolor": "white"
          },
          "hoverlabel": {
           "align": "left"
          },
          "hovermode": "closest",
          "mapbox": {
           "style": "light"
          },
          "paper_bgcolor": "white",
          "plot_bgcolor": "#E5ECF6",
          "polar": {
           "angularaxis": {
            "gridcolor": "white",
            "linecolor": "white",
            "ticks": ""
           },
           "bgcolor": "#E5ECF6",
           "radialaxis": {
            "gridcolor": "white",
            "linecolor": "white",
            "ticks": ""
           }
          },
          "scene": {
           "xaxis": {
            "backgroundcolor": "#E5ECF6",
            "gridcolor": "white",
            "gridwidth": 2,
            "linecolor": "white",
            "showbackground": true,
            "ticks": "",
            "zerolinecolor": "white"
           },
           "yaxis": {
            "backgroundcolor": "#E5ECF6",
            "gridcolor": "white",
            "gridwidth": 2,
            "linecolor": "white",
            "showbackground": true,
            "ticks": "",
            "zerolinecolor": "white"
           },
           "zaxis": {
            "backgroundcolor": "#E5ECF6",
            "gridcolor": "white",
            "gridwidth": 2,
            "linecolor": "white",
            "showbackground": true,
            "ticks": "",
            "zerolinecolor": "white"
           }
          },
          "shapedefaults": {
           "line": {
            "color": "#2a3f5f"
           }
          },
          "ternary": {
           "aaxis": {
            "gridcolor": "white",
            "linecolor": "white",
            "ticks": ""
           },
           "baxis": {
            "gridcolor": "white",
            "linecolor": "white",
            "ticks": ""
           },
           "bgcolor": "#E5ECF6",
           "caxis": {
            "gridcolor": "white",
            "linecolor": "white",
            "ticks": ""
           }
          },
          "title": {
           "x": 0.05
          },
          "xaxis": {
           "automargin": true,
           "gridcolor": "white",
           "linecolor": "white",
           "ticks": "",
           "title": {
            "standoff": 15
           },
           "zerolinecolor": "white",
           "zerolinewidth": 2
          },
          "yaxis": {
           "automargin": true,
           "gridcolor": "white",
           "linecolor": "white",
           "ticks": "",
           "title": {
            "standoff": 15
           },
           "zerolinecolor": "white",
           "zerolinewidth": 2
          }
         }
        },
        "title": {
         "text": "Distribusi POS (Universal)"
        },
        "xaxis": {
         "anchor": "y",
         "categoryarray": [
          "UNK",
          "PUNCT",
          "NOUN",
          "VERB",
          "ADJ",
          "PART",
          "PRON",
          "ADV",
          "ADP",
          "CCONJ",
          "SCONJ",
          "AUX",
          "PROPN",
          "DET",
          "X",
          "NUM"
         ],
         "categoryorder": "array",
         "domain": [
          0,
          1
         ],
         "title": {
          "text": "POS"
         }
        },
        "yaxis": {
         "anchor": "x",
         "domain": [
          0,
          1
         ],
         "title": {
          "text": "Jumlah"
         }
        }
       }
      }
     },
     "metadata": {},
     "output_type": "display_data"
    },
    {
     "data": {
      "application/vnd.plotly.v1+json": {
       "config": {
        "plotlyServerURL": "https://plot.ly"
       },
       "data": [
        {
         "alignmentgroup": "True",
         "hovertemplate": "POS=%{x}<br>Jumlah=%{text}<extra></extra>",
         "legendgroup": "UNK",
         "marker": {
          "color": "#636efa",
          "pattern": {
           "shape": ""
          }
         },
         "name": "UNK",
         "offsetgroup": "UNK",
         "orientation": "v",
         "showlegend": true,
         "text": [
          16523
         ],
         "textposition": "outside",
         "type": "bar",
         "x": [
          "UNK"
         ],
         "xaxis": "x",
         "y": [
          16523
         ],
         "yaxis": "y"
        },
        {
         "alignmentgroup": "True",
         "hovertemplate": "POS=%{x}<br>Jumlah=%{text}<extra></extra>",
         "legendgroup": "TANDA_BACA",
         "marker": {
          "color": "#EF553B",
          "pattern": {
           "shape": ""
          }
         },
         "name": "TANDA_BACA",
         "offsetgroup": "TANDA_BACA",
         "orientation": "v",
         "showlegend": true,
         "text": [
          6291
         ],
         "textposition": "outside",
         "type": "bar",
         "x": [
          "TANDA_BACA"
         ],
         "xaxis": "x",
         "y": [
          6291
         ],
         "yaxis": "y"
        },
        {
         "alignmentgroup": "True",
         "hovertemplate": "POS=%{x}<br>Jumlah=%{text}<extra></extra>",
         "legendgroup": "KB",
         "marker": {
          "color": "#00cc96",
          "pattern": {
           "shape": ""
          }
         },
         "name": "KB",
         "offsetgroup": "KB",
         "orientation": "v",
         "showlegend": true,
         "text": [
          3160
         ],
         "textposition": "outside",
         "type": "bar",
         "x": [
          "KB"
         ],
         "xaxis": "x",
         "y": [
          3160
         ],
         "yaxis": "y"
        },
        {
         "alignmentgroup": "True",
         "hovertemplate": "POS=%{x}<br>Jumlah=%{text}<extra></extra>",
         "legendgroup": "KP",
         "marker": {
          "color": "#ab63fa",
          "pattern": {
           "shape": ""
          }
         },
         "name": "KP",
         "offsetgroup": "KP",
         "orientation": "v",
         "showlegend": true,
         "text": [
          1664
         ],
         "textposition": "outside",
         "type": "bar",
         "x": [
          "KP"
         ],
         "xaxis": "x",
         "y": [
          1664
         ],
         "yaxis": "y"
        },
        {
         "alignmentgroup": "True",
         "hovertemplate": "POS=%{x}<br>Jumlah=%{text}<extra></extra>",
         "legendgroup": "KS",
         "marker": {
          "color": "#FFA15A",
          "pattern": {
           "shape": ""
          }
         },
         "name": "KS",
         "offsetgroup": "KS",
         "orientation": "v",
         "showlegend": true,
         "text": [
          1011
         ],
         "textposition": "outside",
         "type": "bar",
         "x": [
          "KS"
         ],
         "xaxis": "x",
         "y": [
          1011
         ],
         "yaxis": "y"
        },
        {
         "alignmentgroup": "True",
         "hovertemplate": "POS=%{x}<br>Jumlah=%{text}<extra></extra>",
         "legendgroup": "PL",
         "marker": {
          "color": "#19d3f3",
          "pattern": {
           "shape": ""
          }
         },
         "name": "PL",
         "offsetgroup": "PL",
         "orientation": "v",
         "showlegend": true,
         "text": [
          813
         ],
         "textposition": "outside",
         "type": "bar",
         "x": [
          "PL"
         ],
         "xaxis": "x",
         "y": [
          813
         ],
         "yaxis": "y"
        },
        {
         "alignmentgroup": "True",
         "hovertemplate": "POS=%{x}<br>Jumlah=%{text}<extra></extra>",
         "legendgroup": "KG",
         "marker": {
          "color": "#FF6692",
          "pattern": {
           "shape": ""
          }
         },
         "name": "KG",
         "offsetgroup": "KG",
         "orientation": "v",
         "showlegend": true,
         "text": [
          796
         ],
         "textposition": "outside",
         "type": "bar",
         "x": [
          "KG"
         ],
         "xaxis": "x",
         "y": [
          796
         ],
         "yaxis": "y"
        },
        {
         "alignmentgroup": "True",
         "hovertemplate": "POS=%{x}<br>Jumlah=%{text}<extra></extra>",
         "legendgroup": "KT",
         "marker": {
          "color": "#B6E880",
          "pattern": {
           "shape": ""
          }
         },
         "name": "KT",
         "offsetgroup": "KT",
         "orientation": "v",
         "showlegend": true,
         "text": [
          576
         ],
         "textposition": "outside",
         "type": "bar",
         "x": [
          "KT"
         ],
         "xaxis": "x",
         "y": [
          576
         ],
         "yaxis": "y"
        },
        {
         "alignmentgroup": "True",
         "hovertemplate": "POS=%{x}<br>Jumlah=%{text}<extra></extra>",
         "legendgroup": "PA",
         "marker": {
          "color": "#FF97FF",
          "pattern": {
           "shape": ""
          }
         },
         "name": "PA",
         "offsetgroup": "PA",
         "orientation": "v",
         "showlegend": true,
         "text": [
          459
         ],
         "textposition": "outside",
         "type": "bar",
         "x": [
          "PA"
         ],
         "xaxis": "x",
         "y": [
          459
         ],
         "yaxis": "y"
        },
        {
         "alignmentgroup": "True",
         "hovertemplate": "POS=%{x}<br>Jumlah=%{text}<extra></extra>",
         "legendgroup": "KPN",
         "marker": {
          "color": "#FECB52",
          "pattern": {
           "shape": ""
          }
         },
         "name": "KPN",
         "offsetgroup": "KPN",
         "orientation": "v",
         "showlegend": true,
         "text": [
          439
         ],
         "textposition": "outside",
         "type": "bar",
         "x": [
          "KPN"
         ],
         "xaxis": "x",
         "y": [
          439
         ],
         "yaxis": "y"
        },
        {
         "alignmentgroup": "True",
         "hovertemplate": "POS=%{x}<br>Jumlah=%{text}<extra></extra>",
         "legendgroup": "KPB",
         "marker": {
          "color": "#636efa",
          "pattern": {
           "shape": ""
          }
         },
         "name": "KPB",
         "offsetgroup": "KPB",
         "orientation": "v",
         "showlegend": true,
         "text": [
          439
         ],
         "textposition": "outside",
         "type": "bar",
         "x": [
          "KPB"
         ],
         "xaxis": "x",
         "y": [
          439
         ],
         "yaxis": "y"
        },
        {
         "alignmentgroup": "True",
         "hovertemplate": "POS=%{x}<br>Jumlah=%{text}<extra></extra>",
         "legendgroup": "KBT",
         "marker": {
          "color": "#EF553B",
          "pattern": {
           "shape": ""
          }
         },
         "name": "KBT",
         "offsetgroup": "KBT",
         "orientation": "v",
         "showlegend": true,
         "text": [
          425
         ],
         "textposition": "outside",
         "type": "bar",
         "x": [
          "KBT"
         ],
         "xaxis": "x",
         "y": [
          425
         ],
         "yaxis": "y"
        },
        {
         "alignmentgroup": "True",
         "hovertemplate": "POS=%{x}<br>Jumlah=%{text}<extra></extra>",
         "legendgroup": "KN",
         "marker": {
          "color": "#00cc96",
          "pattern": {
           "shape": ""
          }
         },
         "name": "KN",
         "offsetgroup": "KN",
         "orientation": "v",
         "showlegend": true,
         "text": [
          199
         ],
         "textposition": "outside",
         "type": "bar",
         "x": [
          "KN"
         ],
         "xaxis": "x",
         "y": [
          199
         ],
         "yaxis": "y"
        },
        {
         "alignmentgroup": "True",
         "hovertemplate": "POS=%{x}<br>Jumlah=%{text}<extra></extra>",
         "legendgroup": "PNJ",
         "marker": {
          "color": "#ab63fa",
          "pattern": {
           "shape": ""
          }
         },
         "name": "PNJ",
         "offsetgroup": "PNJ",
         "orientation": "v",
         "showlegend": true,
         "text": [
          121
         ],
         "textposition": "outside",
         "type": "bar",
         "x": [
          "PNJ"
         ],
         "xaxis": "x",
         "y": [
          121
         ],
         "yaxis": "y"
        },
        {
         "alignmentgroup": "True",
         "hovertemplate": "POS=%{x}<br>Jumlah=%{text}<extra></extra>",
         "legendgroup": "X",
         "marker": {
          "color": "#FFA15A",
          "pattern": {
           "shape": ""
          }
         },
         "name": "X",
         "offsetgroup": "X",
         "orientation": "v",
         "showlegend": true,
         "text": [
          67
         ],
         "textposition": "outside",
         "type": "bar",
         "x": [
          "X"
         ],
         "xaxis": "x",
         "y": [
          67
         ],
         "yaxis": "y"
        },
        {
         "alignmentgroup": "True",
         "hovertemplate": "POS=%{x}<br>Jumlah=%{text}<extra></extra>",
         "legendgroup": "WIL",
         "marker": {
          "color": "#19d3f3",
          "pattern": {
           "shape": ""
          }
         },
         "name": "WIL",
         "offsetgroup": "WIL",
         "orientation": "v",
         "showlegend": true,
         "text": [
          54
         ],
         "textposition": "outside",
         "type": "bar",
         "x": [
          "WIL"
         ],
         "xaxis": "x",
         "y": [
          54
         ],
         "yaxis": "y"
        },
        {
         "alignmentgroup": "True",
         "hovertemplate": "POS=%{x}<br>Jumlah=%{text}<extra></extra>",
         "legendgroup": "TB",
         "marker": {
          "color": "#FF6692",
          "pattern": {
           "shape": ""
          }
         },
         "name": "TB",
         "offsetgroup": "TB",
         "orientation": "v",
         "showlegend": true,
         "text": [
          8
         ],
         "textposition": "outside",
         "type": "bar",
         "x": [
          "TB"
         ],
         "xaxis": "x",
         "y": [
          8
         ],
         "yaxis": "y"
        },
        {
         "alignmentgroup": "True",
         "hovertemplate": "POS=%{x}<br>Jumlah=%{text}<extra></extra>",
         "legendgroup": "ANGKA",
         "marker": {
          "color": "#B6E880",
          "pattern": {
           "shape": ""
          }
         },
         "name": "ANGKA",
         "offsetgroup": "ANGKA",
         "orientation": "v",
         "showlegend": true,
         "text": [
          3
         ],
         "textposition": "outside",
         "type": "bar",
         "x": [
          "ANGKA"
         ],
         "xaxis": "x",
         "y": [
          3
         ],
         "yaxis": "y"
        }
       ],
       "layout": {
        "barmode": "relative",
        "legend": {
         "title": {
          "text": "POS"
         },
         "tracegroupgap": 0
        },
        "template": {
         "data": {
          "bar": [
           {
            "error_x": {
             "color": "#2a3f5f"
            },
            "error_y": {
             "color": "#2a3f5f"
            },
            "marker": {
             "line": {
              "color": "#E5ECF6",
              "width": 0.5
             },
             "pattern": {
              "fillmode": "overlay",
              "size": 10,
              "solidity": 0.2
             }
            },
            "type": "bar"
           }
          ],
          "barpolar": [
           {
            "marker": {
             "line": {
              "color": "#E5ECF6",
              "width": 0.5
             },
             "pattern": {
              "fillmode": "overlay",
              "size": 10,
              "solidity": 0.2
             }
            },
            "type": "barpolar"
           }
          ],
          "carpet": [
           {
            "aaxis": {
             "endlinecolor": "#2a3f5f",
             "gridcolor": "white",
             "linecolor": "white",
             "minorgridcolor": "white",
             "startlinecolor": "#2a3f5f"
            },
            "baxis": {
             "endlinecolor": "#2a3f5f",
             "gridcolor": "white",
             "linecolor": "white",
             "minorgridcolor": "white",
             "startlinecolor": "#2a3f5f"
            },
            "type": "carpet"
           }
          ],
          "choropleth": [
           {
            "colorbar": {
             "outlinewidth": 0,
             "ticks": ""
            },
            "type": "choropleth"
           }
          ],
          "contour": [
           {
            "colorbar": {
             "outlinewidth": 0,
             "ticks": ""
            },
            "colorscale": [
             [
              0,
              "#0d0887"
             ],
             [
              0.1111111111111111,
              "#46039f"
             ],
             [
              0.2222222222222222,
              "#7201a8"
             ],
             [
              0.3333333333333333,
              "#9c179e"
             ],
             [
              0.4444444444444444,
              "#bd3786"
             ],
             [
              0.5555555555555556,
              "#d8576b"
             ],
             [
              0.6666666666666666,
              "#ed7953"
             ],
             [
              0.7777777777777778,
              "#fb9f3a"
             ],
             [
              0.8888888888888888,
              "#fdca26"
             ],
             [
              1,
              "#f0f921"
             ]
            ],
            "type": "contour"
           }
          ],
          "contourcarpet": [
           {
            "colorbar": {
             "outlinewidth": 0,
             "ticks": ""
            },
            "type": "contourcarpet"
           }
          ],
          "heatmap": [
           {
            "colorbar": {
             "outlinewidth": 0,
             "ticks": ""
            },
            "colorscale": [
             [
              0,
              "#0d0887"
             ],
             [
              0.1111111111111111,
              "#46039f"
             ],
             [
              0.2222222222222222,
              "#7201a8"
             ],
             [
              0.3333333333333333,
              "#9c179e"
             ],
             [
              0.4444444444444444,
              "#bd3786"
             ],
             [
              0.5555555555555556,
              "#d8576b"
             ],
             [
              0.6666666666666666,
              "#ed7953"
             ],
             [
              0.7777777777777778,
              "#fb9f3a"
             ],
             [
              0.8888888888888888,
              "#fdca26"
             ],
             [
              1,
              "#f0f921"
             ]
            ],
            "type": "heatmap"
           }
          ],
          "heatmapgl": [
           {
            "colorbar": {
             "outlinewidth": 0,
             "ticks": ""
            },
            "colorscale": [
             [
              0,
              "#0d0887"
             ],
             [
              0.1111111111111111,
              "#46039f"
             ],
             [
              0.2222222222222222,
              "#7201a8"
             ],
             [
              0.3333333333333333,
              "#9c179e"
             ],
             [
              0.4444444444444444,
              "#bd3786"
             ],
             [
              0.5555555555555556,
              "#d8576b"
             ],
             [
              0.6666666666666666,
              "#ed7953"
             ],
             [
              0.7777777777777778,
              "#fb9f3a"
             ],
             [
              0.8888888888888888,
              "#fdca26"
             ],
             [
              1,
              "#f0f921"
             ]
            ],
            "type": "heatmapgl"
           }
          ],
          "histogram": [
           {
            "marker": {
             "pattern": {
              "fillmode": "overlay",
              "size": 10,
              "solidity": 0.2
             }
            },
            "type": "histogram"
           }
          ],
          "histogram2d": [
           {
            "colorbar": {
             "outlinewidth": 0,
             "ticks": ""
            },
            "colorscale": [
             [
              0,
              "#0d0887"
             ],
             [
              0.1111111111111111,
              "#46039f"
             ],
             [
              0.2222222222222222,
              "#7201a8"
             ],
             [
              0.3333333333333333,
              "#9c179e"
             ],
             [
              0.4444444444444444,
              "#bd3786"
             ],
             [
              0.5555555555555556,
              "#d8576b"
             ],
             [
              0.6666666666666666,
              "#ed7953"
             ],
             [
              0.7777777777777778,
              "#fb9f3a"
             ],
             [
              0.8888888888888888,
              "#fdca26"
             ],
             [
              1,
              "#f0f921"
             ]
            ],
            "type": "histogram2d"
           }
          ],
          "histogram2dcontour": [
           {
            "colorbar": {
             "outlinewidth": 0,
             "ticks": ""
            },
            "colorscale": [
             [
              0,
              "#0d0887"
             ],
             [
              0.1111111111111111,
              "#46039f"
             ],
             [
              0.2222222222222222,
              "#7201a8"
             ],
             [
              0.3333333333333333,
              "#9c179e"
             ],
             [
              0.4444444444444444,
              "#bd3786"
             ],
             [
              0.5555555555555556,
              "#d8576b"
             ],
             [
              0.6666666666666666,
              "#ed7953"
             ],
             [
              0.7777777777777778,
              "#fb9f3a"
             ],
             [
              0.8888888888888888,
              "#fdca26"
             ],
             [
              1,
              "#f0f921"
             ]
            ],
            "type": "histogram2dcontour"
           }
          ],
          "mesh3d": [
           {
            "colorbar": {
             "outlinewidth": 0,
             "ticks": ""
            },
            "type": "mesh3d"
           }
          ],
          "parcoords": [
           {
            "line": {
             "colorbar": {
              "outlinewidth": 0,
              "ticks": ""
             }
            },
            "type": "parcoords"
           }
          ],
          "pie": [
           {
            "automargin": true,
            "type": "pie"
           }
          ],
          "scatter": [
           {
            "fillpattern": {
             "fillmode": "overlay",
             "size": 10,
             "solidity": 0.2
            },
            "type": "scatter"
           }
          ],
          "scatter3d": [
           {
            "line": {
             "colorbar": {
              "outlinewidth": 0,
              "ticks": ""
             }
            },
            "marker": {
             "colorbar": {
              "outlinewidth": 0,
              "ticks": ""
             }
            },
            "type": "scatter3d"
           }
          ],
          "scattercarpet": [
           {
            "marker": {
             "colorbar": {
              "outlinewidth": 0,
              "ticks": ""
             }
            },
            "type": "scattercarpet"
           }
          ],
          "scattergeo": [
           {
            "marker": {
             "colorbar": {
              "outlinewidth": 0,
              "ticks": ""
             }
            },
            "type": "scattergeo"
           }
          ],
          "scattergl": [
           {
            "marker": {
             "colorbar": {
              "outlinewidth": 0,
              "ticks": ""
             }
            },
            "type": "scattergl"
           }
          ],
          "scattermapbox": [
           {
            "marker": {
             "colorbar": {
              "outlinewidth": 0,
              "ticks": ""
             }
            },
            "type": "scattermapbox"
           }
          ],
          "scatterpolar": [
           {
            "marker": {
             "colorbar": {
              "outlinewidth": 0,
              "ticks": ""
             }
            },
            "type": "scatterpolar"
           }
          ],
          "scatterpolargl": [
           {
            "marker": {
             "colorbar": {
              "outlinewidth": 0,
              "ticks": ""
             }
            },
            "type": "scatterpolargl"
           }
          ],
          "scatterternary": [
           {
            "marker": {
             "colorbar": {
              "outlinewidth": 0,
              "ticks": ""
             }
            },
            "type": "scatterternary"
           }
          ],
          "surface": [
           {
            "colorbar": {
             "outlinewidth": 0,
             "ticks": ""
            },
            "colorscale": [
             [
              0,
              "#0d0887"
             ],
             [
              0.1111111111111111,
              "#46039f"
             ],
             [
              0.2222222222222222,
              "#7201a8"
             ],
             [
              0.3333333333333333,
              "#9c179e"
             ],
             [
              0.4444444444444444,
              "#bd3786"
             ],
             [
              0.5555555555555556,
              "#d8576b"
             ],
             [
              0.6666666666666666,
              "#ed7953"
             ],
             [
              0.7777777777777778,
              "#fb9f3a"
             ],
             [
              0.8888888888888888,
              "#fdca26"
             ],
             [
              1,
              "#f0f921"
             ]
            ],
            "type": "surface"
           }
          ],
          "table": [
           {
            "cells": {
             "fill": {
              "color": "#EBF0F8"
             },
             "line": {
              "color": "white"
             }
            },
            "header": {
             "fill": {
              "color": "#C8D4E3"
             },
             "line": {
              "color": "white"
             }
            },
            "type": "table"
           }
          ]
         },
         "layout": {
          "annotationdefaults": {
           "arrowcolor": "#2a3f5f",
           "arrowhead": 0,
           "arrowwidth": 1
          },
          "autotypenumbers": "strict",
          "coloraxis": {
           "colorbar": {
            "outlinewidth": 0,
            "ticks": ""
           }
          },
          "colorscale": {
           "diverging": [
            [
             0,
             "#8e0152"
            ],
            [
             0.1,
             "#c51b7d"
            ],
            [
             0.2,
             "#de77ae"
            ],
            [
             0.3,
             "#f1b6da"
            ],
            [
             0.4,
             "#fde0ef"
            ],
            [
             0.5,
             "#f7f7f7"
            ],
            [
             0.6,
             "#e6f5d0"
            ],
            [
             0.7,
             "#b8e186"
            ],
            [
             0.8,
             "#7fbc41"
            ],
            [
             0.9,
             "#4d9221"
            ],
            [
             1,
             "#276419"
            ]
           ],
           "sequential": [
            [
             0,
             "#0d0887"
            ],
            [
             0.1111111111111111,
             "#46039f"
            ],
            [
             0.2222222222222222,
             "#7201a8"
            ],
            [
             0.3333333333333333,
             "#9c179e"
            ],
            [
             0.4444444444444444,
             "#bd3786"
            ],
            [
             0.5555555555555556,
             "#d8576b"
            ],
            [
             0.6666666666666666,
             "#ed7953"
            ],
            [
             0.7777777777777778,
             "#fb9f3a"
            ],
            [
             0.8888888888888888,
             "#fdca26"
            ],
            [
             1,
             "#f0f921"
            ]
           ],
           "sequentialminus": [
            [
             0,
             "#0d0887"
            ],
            [
             0.1111111111111111,
             "#46039f"
            ],
            [
             0.2222222222222222,
             "#7201a8"
            ],
            [
             0.3333333333333333,
             "#9c179e"
            ],
            [
             0.4444444444444444,
             "#bd3786"
            ],
            [
             0.5555555555555556,
             "#d8576b"
            ],
            [
             0.6666666666666666,
             "#ed7953"
            ],
            [
             0.7777777777777778,
             "#fb9f3a"
            ],
            [
             0.8888888888888888,
             "#fdca26"
            ],
            [
             1,
             "#f0f921"
            ]
           ]
          },
          "colorway": [
           "#636efa",
           "#EF553B",
           "#00cc96",
           "#ab63fa",
           "#FFA15A",
           "#19d3f3",
           "#FF6692",
           "#B6E880",
           "#FF97FF",
           "#FECB52"
          ],
          "font": {
           "color": "#2a3f5f"
          },
          "geo": {
           "bgcolor": "white",
           "lakecolor": "white",
           "landcolor": "#E5ECF6",
           "showlakes": true,
           "showland": true,
           "subunitcolor": "white"
          },
          "hoverlabel": {
           "align": "left"
          },
          "hovermode": "closest",
          "mapbox": {
           "style": "light"
          },
          "paper_bgcolor": "white",
          "plot_bgcolor": "#E5ECF6",
          "polar": {
           "angularaxis": {
            "gridcolor": "white",
            "linecolor": "white",
            "ticks": ""
           },
           "bgcolor": "#E5ECF6",
           "radialaxis": {
            "gridcolor": "white",
            "linecolor": "white",
            "ticks": ""
           }
          },
          "scene": {
           "xaxis": {
            "backgroundcolor": "#E5ECF6",
            "gridcolor": "white",
            "gridwidth": 2,
            "linecolor": "white",
            "showbackground": true,
            "ticks": "",
            "zerolinecolor": "white"
           },
           "yaxis": {
            "backgroundcolor": "#E5ECF6",
            "gridcolor": "white",
            "gridwidth": 2,
            "linecolor": "white",
            "showbackground": true,
            "ticks": "",
            "zerolinecolor": "white"
           },
           "zaxis": {
            "backgroundcolor": "#E5ECF6",
            "gridcolor": "white",
            "gridwidth": 2,
            "linecolor": "white",
            "showbackground": true,
            "ticks": "",
            "zerolinecolor": "white"
           }
          },
          "shapedefaults": {
           "line": {
            "color": "#2a3f5f"
           }
          },
          "ternary": {
           "aaxis": {
            "gridcolor": "white",
            "linecolor": "white",
            "ticks": ""
           },
           "baxis": {
            "gridcolor": "white",
            "linecolor": "white",
            "ticks": ""
           },
           "bgcolor": "#E5ECF6",
           "caxis": {
            "gridcolor": "white",
            "linecolor": "white",
            "ticks": ""
           }
          },
          "title": {
           "x": 0.05
          },
          "xaxis": {
           "automargin": true,
           "gridcolor": "white",
           "linecolor": "white",
           "ticks": "",
           "title": {
            "standoff": 15
           },
           "zerolinecolor": "white",
           "zerolinewidth": 2
          },
          "yaxis": {
           "automargin": true,
           "gridcolor": "white",
           "linecolor": "white",
           "ticks": "",
           "title": {
            "standoff": 15
           },
           "zerolinecolor": "white",
           "zerolinewidth": 2
          }
         }
        },
        "title": {
         "text": "Distribusi POS (Custom)"
        },
        "xaxis": {
         "anchor": "y",
         "categoryarray": [
          "UNK",
          "TANDA_BACA",
          "KB",
          "KP",
          "KS",
          "PL",
          "KG",
          "KT",
          "PA",
          "KPN",
          "KPB",
          "KBT",
          "KN",
          "PNJ",
          "X",
          "WIL",
          "TB",
          "ANGKA"
         ],
         "categoryorder": "array",
         "domain": [
          0,
          1
         ],
         "title": {
          "text": "POS"
         }
        },
        "yaxis": {
         "anchor": "x",
         "domain": [
          0,
          1
         ],
         "title": {
          "text": "Jumlah"
         }
        }
       }
      }
     },
     "metadata": {},
     "output_type": "display_data"
    },
    {
     "data": {
      "application/vnd.plotly.v1+json": {
       "config": {
        "plotlyServerURL": "https://plot.ly"
       },
       "data": [
        {
         "hovertemplate": "POS Universal=%{x}<br>POS Custom=%{y}<br>Count=%{marker.color}<extra></extra>",
         "legendgroup": "",
         "marker": {
          "color": [
           1011,
           459,
           576,
           425,
           439,
           121,
           2650,
           3,
           54,
           813,
           796,
           199,
           6291,
           8,
           439,
           510,
           16523,
           1664,
           67
          ],
          "coloraxis": "coloraxis",
          "size": [
           1011,
           459,
           576,
           425,
           439,
           121,
           2650,
           3,
           54,
           813,
           796,
           199,
           6291,
           8,
           439,
           510,
           16523,
           1664,
           67
          ],
          "sizemode": "area",
          "sizeref": 41.3075,
          "symbol": "circle"
         },
         "mode": "markers",
         "name": "",
         "orientation": "v",
         "showlegend": false,
         "type": "scatter",
         "x": [
          "ADJ",
          "ADP",
          "ADV",
          "AUX",
          "CCONJ",
          "DET",
          "NOUN",
          "NUM",
          "NUM",
          "PART",
          "PRON",
          "PROPN",
          "PUNCT",
          "PUNCT",
          "SCONJ",
          "UNK",
          "UNK",
          "VERB",
          "X"
         ],
         "xaxis": "x",
         "y": [
          "KS",
          "PA",
          "KT",
          "KBT",
          "KPN",
          "PNJ",
          "KB",
          "ANGKA",
          "WIL",
          "PL",
          "KG",
          "KN",
          "TANDA_BACA",
          "TB",
          "KPB",
          "KB",
          "UNK",
          "KP",
          "X"
         ],
         "yaxis": "y"
        }
       ],
       "layout": {
        "coloraxis": {
         "colorbar": {
          "title": {
           "text": "Count"
          }
         },
         "colorscale": [
          [
           0,
           "#0d0887"
          ],
          [
           0.1111111111111111,
           "#46039f"
          ],
          [
           0.2222222222222222,
           "#7201a8"
          ],
          [
           0.3333333333333333,
           "#9c179e"
          ],
          [
           0.4444444444444444,
           "#bd3786"
          ],
          [
           0.5555555555555556,
           "#d8576b"
          ],
          [
           0.6666666666666666,
           "#ed7953"
          ],
          [
           0.7777777777777778,
           "#fb9f3a"
          ],
          [
           0.8888888888888888,
           "#fdca26"
          ],
          [
           1,
           "#f0f921"
          ]
         ]
        },
        "legend": {
         "itemsizing": "constant",
         "tracegroupgap": 0
        },
        "template": {
         "data": {
          "bar": [
           {
            "error_x": {
             "color": "#2a3f5f"
            },
            "error_y": {
             "color": "#2a3f5f"
            },
            "marker": {
             "line": {
              "color": "#E5ECF6",
              "width": 0.5
             },
             "pattern": {
              "fillmode": "overlay",
              "size": 10,
              "solidity": 0.2
             }
            },
            "type": "bar"
           }
          ],
          "barpolar": [
           {
            "marker": {
             "line": {
              "color": "#E5ECF6",
              "width": 0.5
             },
             "pattern": {
              "fillmode": "overlay",
              "size": 10,
              "solidity": 0.2
             }
            },
            "type": "barpolar"
           }
          ],
          "carpet": [
           {
            "aaxis": {
             "endlinecolor": "#2a3f5f",
             "gridcolor": "white",
             "linecolor": "white",
             "minorgridcolor": "white",
             "startlinecolor": "#2a3f5f"
            },
            "baxis": {
             "endlinecolor": "#2a3f5f",
             "gridcolor": "white",
             "linecolor": "white",
             "minorgridcolor": "white",
             "startlinecolor": "#2a3f5f"
            },
            "type": "carpet"
           }
          ],
          "choropleth": [
           {
            "colorbar": {
             "outlinewidth": 0,
             "ticks": ""
            },
            "type": "choropleth"
           }
          ],
          "contour": [
           {
            "colorbar": {
             "outlinewidth": 0,
             "ticks": ""
            },
            "colorscale": [
             [
              0,
              "#0d0887"
             ],
             [
              0.1111111111111111,
              "#46039f"
             ],
             [
              0.2222222222222222,
              "#7201a8"
             ],
             [
              0.3333333333333333,
              "#9c179e"
             ],
             [
              0.4444444444444444,
              "#bd3786"
             ],
             [
              0.5555555555555556,
              "#d8576b"
             ],
             [
              0.6666666666666666,
              "#ed7953"
             ],
             [
              0.7777777777777778,
              "#fb9f3a"
             ],
             [
              0.8888888888888888,
              "#fdca26"
             ],
             [
              1,
              "#f0f921"
             ]
            ],
            "type": "contour"
           }
          ],
          "contourcarpet": [
           {
            "colorbar": {
             "outlinewidth": 0,
             "ticks": ""
            },
            "type": "contourcarpet"
           }
          ],
          "heatmap": [
           {
            "colorbar": {
             "outlinewidth": 0,
             "ticks": ""
            },
            "colorscale": [
             [
              0,
              "#0d0887"
             ],
             [
              0.1111111111111111,
              "#46039f"
             ],
             [
              0.2222222222222222,
              "#7201a8"
             ],
             [
              0.3333333333333333,
              "#9c179e"
             ],
             [
              0.4444444444444444,
              "#bd3786"
             ],
             [
              0.5555555555555556,
              "#d8576b"
             ],
             [
              0.6666666666666666,
              "#ed7953"
             ],
             [
              0.7777777777777778,
              "#fb9f3a"
             ],
             [
              0.8888888888888888,
              "#fdca26"
             ],
             [
              1,
              "#f0f921"
             ]
            ],
            "type": "heatmap"
           }
          ],
          "heatmapgl": [
           {
            "colorbar": {
             "outlinewidth": 0,
             "ticks": ""
            },
            "colorscale": [
             [
              0,
              "#0d0887"
             ],
             [
              0.1111111111111111,
              "#46039f"
             ],
             [
              0.2222222222222222,
              "#7201a8"
             ],
             [
              0.3333333333333333,
              "#9c179e"
             ],
             [
              0.4444444444444444,
              "#bd3786"
             ],
             [
              0.5555555555555556,
              "#d8576b"
             ],
             [
              0.6666666666666666,
              "#ed7953"
             ],
             [
              0.7777777777777778,
              "#fb9f3a"
             ],
             [
              0.8888888888888888,
              "#fdca26"
             ],
             [
              1,
              "#f0f921"
             ]
            ],
            "type": "heatmapgl"
           }
          ],
          "histogram": [
           {
            "marker": {
             "pattern": {
              "fillmode": "overlay",
              "size": 10,
              "solidity": 0.2
             }
            },
            "type": "histogram"
           }
          ],
          "histogram2d": [
           {
            "colorbar": {
             "outlinewidth": 0,
             "ticks": ""
            },
            "colorscale": [
             [
              0,
              "#0d0887"
             ],
             [
              0.1111111111111111,
              "#46039f"
             ],
             [
              0.2222222222222222,
              "#7201a8"
             ],
             [
              0.3333333333333333,
              "#9c179e"
             ],
             [
              0.4444444444444444,
              "#bd3786"
             ],
             [
              0.5555555555555556,
              "#d8576b"
             ],
             [
              0.6666666666666666,
              "#ed7953"
             ],
             [
              0.7777777777777778,
              "#fb9f3a"
             ],
             [
              0.8888888888888888,
              "#fdca26"
             ],
             [
              1,
              "#f0f921"
             ]
            ],
            "type": "histogram2d"
           }
          ],
          "histogram2dcontour": [
           {
            "colorbar": {
             "outlinewidth": 0,
             "ticks": ""
            },
            "colorscale": [
             [
              0,
              "#0d0887"
             ],
             [
              0.1111111111111111,
              "#46039f"
             ],
             [
              0.2222222222222222,
              "#7201a8"
             ],
             [
              0.3333333333333333,
              "#9c179e"
             ],
             [
              0.4444444444444444,
              "#bd3786"
             ],
             [
              0.5555555555555556,
              "#d8576b"
             ],
             [
              0.6666666666666666,
              "#ed7953"
             ],
             [
              0.7777777777777778,
              "#fb9f3a"
             ],
             [
              0.8888888888888888,
              "#fdca26"
             ],
             [
              1,
              "#f0f921"
             ]
            ],
            "type": "histogram2dcontour"
           }
          ],
          "mesh3d": [
           {
            "colorbar": {
             "outlinewidth": 0,
             "ticks": ""
            },
            "type": "mesh3d"
           }
          ],
          "parcoords": [
           {
            "line": {
             "colorbar": {
              "outlinewidth": 0,
              "ticks": ""
             }
            },
            "type": "parcoords"
           }
          ],
          "pie": [
           {
            "automargin": true,
            "type": "pie"
           }
          ],
          "scatter": [
           {
            "fillpattern": {
             "fillmode": "overlay",
             "size": 10,
             "solidity": 0.2
            },
            "type": "scatter"
           }
          ],
          "scatter3d": [
           {
            "line": {
             "colorbar": {
              "outlinewidth": 0,
              "ticks": ""
             }
            },
            "marker": {
             "colorbar": {
              "outlinewidth": 0,
              "ticks": ""
             }
            },
            "type": "scatter3d"
           }
          ],
          "scattercarpet": [
           {
            "marker": {
             "colorbar": {
              "outlinewidth": 0,
              "ticks": ""
             }
            },
            "type": "scattercarpet"
           }
          ],
          "scattergeo": [
           {
            "marker": {
             "colorbar": {
              "outlinewidth": 0,
              "ticks": ""
             }
            },
            "type": "scattergeo"
           }
          ],
          "scattergl": [
           {
            "marker": {
             "colorbar": {
              "outlinewidth": 0,
              "ticks": ""
             }
            },
            "type": "scattergl"
           }
          ],
          "scattermapbox": [
           {
            "marker": {
             "colorbar": {
              "outlinewidth": 0,
              "ticks": ""
             }
            },
            "type": "scattermapbox"
           }
          ],
          "scatterpolar": [
           {
            "marker": {
             "colorbar": {
              "outlinewidth": 0,
              "ticks": ""
             }
            },
            "type": "scatterpolar"
           }
          ],
          "scatterpolargl": [
           {
            "marker": {
             "colorbar": {
              "outlinewidth": 0,
              "ticks": ""
             }
            },
            "type": "scatterpolargl"
           }
          ],
          "scatterternary": [
           {
            "marker": {
             "colorbar": {
              "outlinewidth": 0,
              "ticks": ""
             }
            },
            "type": "scatterternary"
           }
          ],
          "surface": [
           {
            "colorbar": {
             "outlinewidth": 0,
             "ticks": ""
            },
            "colorscale": [
             [
              0,
              "#0d0887"
             ],
             [
              0.1111111111111111,
              "#46039f"
             ],
             [
              0.2222222222222222,
              "#7201a8"
             ],
             [
              0.3333333333333333,
              "#9c179e"
             ],
             [
              0.4444444444444444,
              "#bd3786"
             ],
             [
              0.5555555555555556,
              "#d8576b"
             ],
             [
              0.6666666666666666,
              "#ed7953"
             ],
             [
              0.7777777777777778,
              "#fb9f3a"
             ],
             [
              0.8888888888888888,
              "#fdca26"
             ],
             [
              1,
              "#f0f921"
             ]
            ],
            "type": "surface"
           }
          ],
          "table": [
           {
            "cells": {
             "fill": {
              "color": "#EBF0F8"
             },
             "line": {
              "color": "white"
             }
            },
            "header": {
             "fill": {
              "color": "#C8D4E3"
             },
             "line": {
              "color": "white"
             }
            },
            "type": "table"
           }
          ]
         },
         "layout": {
          "annotationdefaults": {
           "arrowcolor": "#2a3f5f",
           "arrowhead": 0,
           "arrowwidth": 1
          },
          "autotypenumbers": "strict",
          "coloraxis": {
           "colorbar": {
            "outlinewidth": 0,
            "ticks": ""
           }
          },
          "colorscale": {
           "diverging": [
            [
             0,
             "#8e0152"
            ],
            [
             0.1,
             "#c51b7d"
            ],
            [
             0.2,
             "#de77ae"
            ],
            [
             0.3,
             "#f1b6da"
            ],
            [
             0.4,
             "#fde0ef"
            ],
            [
             0.5,
             "#f7f7f7"
            ],
            [
             0.6,
             "#e6f5d0"
            ],
            [
             0.7,
             "#b8e186"
            ],
            [
             0.8,
             "#7fbc41"
            ],
            [
             0.9,
             "#4d9221"
            ],
            [
             1,
             "#276419"
            ]
           ],
           "sequential": [
            [
             0,
             "#0d0887"
            ],
            [
             0.1111111111111111,
             "#46039f"
            ],
            [
             0.2222222222222222,
             "#7201a8"
            ],
            [
             0.3333333333333333,
             "#9c179e"
            ],
            [
             0.4444444444444444,
             "#bd3786"
            ],
            [
             0.5555555555555556,
             "#d8576b"
            ],
            [
             0.6666666666666666,
             "#ed7953"
            ],
            [
             0.7777777777777778,
             "#fb9f3a"
            ],
            [
             0.8888888888888888,
             "#fdca26"
            ],
            [
             1,
             "#f0f921"
            ]
           ],
           "sequentialminus": [
            [
             0,
             "#0d0887"
            ],
            [
             0.1111111111111111,
             "#46039f"
            ],
            [
             0.2222222222222222,
             "#7201a8"
            ],
            [
             0.3333333333333333,
             "#9c179e"
            ],
            [
             0.4444444444444444,
             "#bd3786"
            ],
            [
             0.5555555555555556,
             "#d8576b"
            ],
            [
             0.6666666666666666,
             "#ed7953"
            ],
            [
             0.7777777777777778,
             "#fb9f3a"
            ],
            [
             0.8888888888888888,
             "#fdca26"
            ],
            [
             1,
             "#f0f921"
            ]
           ]
          },
          "colorway": [
           "#636efa",
           "#EF553B",
           "#00cc96",
           "#ab63fa",
           "#FFA15A",
           "#19d3f3",
           "#FF6692",
           "#B6E880",
           "#FF97FF",
           "#FECB52"
          ],
          "font": {
           "color": "#2a3f5f"
          },
          "geo": {
           "bgcolor": "white",
           "lakecolor": "white",
           "landcolor": "#E5ECF6",
           "showlakes": true,
           "showland": true,
           "subunitcolor": "white"
          },
          "hoverlabel": {
           "align": "left"
          },
          "hovermode": "closest",
          "mapbox": {
           "style": "light"
          },
          "paper_bgcolor": "white",
          "plot_bgcolor": "#E5ECF6",
          "polar": {
           "angularaxis": {
            "gridcolor": "white",
            "linecolor": "white",
            "ticks": ""
           },
           "bgcolor": "#E5ECF6",
           "radialaxis": {
            "gridcolor": "white",
            "linecolor": "white",
            "ticks": ""
           }
          },
          "scene": {
           "xaxis": {
            "backgroundcolor": "#E5ECF6",
            "gridcolor": "white",
            "gridwidth": 2,
            "linecolor": "white",
            "showbackground": true,
            "ticks": "",
            "zerolinecolor": "white"
           },
           "yaxis": {
            "backgroundcolor": "#E5ECF6",
            "gridcolor": "white",
            "gridwidth": 2,
            "linecolor": "white",
            "showbackground": true,
            "ticks": "",
            "zerolinecolor": "white"
           },
           "zaxis": {
            "backgroundcolor": "#E5ECF6",
            "gridcolor": "white",
            "gridwidth": 2,
            "linecolor": "white",
            "showbackground": true,
            "ticks": "",
            "zerolinecolor": "white"
           }
          },
          "shapedefaults": {
           "line": {
            "color": "#2a3f5f"
           }
          },
          "ternary": {
           "aaxis": {
            "gridcolor": "white",
            "linecolor": "white",
            "ticks": ""
           },
           "baxis": {
            "gridcolor": "white",
            "linecolor": "white",
            "ticks": ""
           },
           "bgcolor": "#E5ECF6",
           "caxis": {
            "gridcolor": "white",
            "linecolor": "white",
            "ticks": ""
           }
          },
          "title": {
           "x": 0.05
          },
          "xaxis": {
           "automargin": true,
           "gridcolor": "white",
           "linecolor": "white",
           "ticks": "",
           "title": {
            "standoff": 15
           },
           "zerolinecolor": "white",
           "zerolinewidth": 2
          },
          "yaxis": {
           "automargin": true,
           "gridcolor": "white",
           "linecolor": "white",
           "ticks": "",
           "title": {
            "standoff": 15
           },
           "zerolinecolor": "white",
           "zerolinewidth": 2
          }
         }
        },
        "title": {
         "text": "Perbandingan POS Universal vs Custom"
        },
        "xaxis": {
         "anchor": "y",
         "domain": [
          0,
          1
         ],
         "title": {
          "text": "POS Universal"
         }
        },
        "yaxis": {
         "anchor": "x",
         "domain": [
          0,
          1
         ],
         "title": {
          "text": "POS Custom"
         }
        }
       }
      }
     },
     "metadata": {},
     "output_type": "display_data"
    }
   ],
   "source": [
    "import glob\n",
    "import re\n",
    "import pandas as pd\n",
    "import plotly.express as px\n",
    "import plotly.figure_factory as ff\n",
    "\n",
    "# ==== 1. Fungsi untuk load corpus POS ====\n",
    "def load_corpus(path):\n",
    "    corpus = {}\n",
    "    with open(path, \"r\", encoding=\"utf-8\") as f:\n",
    "        for line in f:\n",
    "            line = line.strip()\n",
    "            if not line or \"/\" not in line:\n",
    "                continue\n",
    "            word, pos = line.rsplit(\"/\", 1)  # pakai rsplit supaya lebih aman\n",
    "            word = word.lower().replace(\"é\", \"e\")  # anggap é = e\n",
    "            corpus[word] = pos\n",
    "    return corpus\n",
    "\n",
    "# ==== 2. Load corpus universal & custom ====\n",
    "corpus_universal = load_corpus(\"corpus/pos-uni.txt\")\n",
    "corpus_custom = load_corpus(\"corpus/pos-sun.txt\")\n",
    "\n",
    "# ==== 3. Fungsi bantu untuk cek ke corpus ====\n",
    "def _get_word_tag(word: str) -> str:\n",
    "    \"\"\"Cek tag dari corpus custom dulu, lalu universal\"\"\"\n",
    "    return corpus_custom.get(word, corpus_universal.get(word, \"UNK\"))\n",
    "\n",
    "def _check_infiks_ar(word: str):\n",
    "    \"\"\"Check for -ar- infix pattern (huruf ke-2 'a' dan ke-3 'r')\"\"\"\n",
    "    if len(word) >= 4 and word[1] == 'a' and word[2] == 'r':\n",
    "        base_word = word[0] + word[3:]\n",
    "        return True, base_word\n",
    "    return False, word\n",
    "\n",
    "def _apply_kb_rules(word: str):\n",
    "    \"\"\"Apply KB rules untuk kata OOV\"\"\"\n",
    "    word_lower = word.lower()\n",
    "\n",
    "    # Rule: (-ar- jika huruf ke-2 a dan ke-3 r) + KB\n",
    "    has_ar_infix, word_without_ar = _check_infiks_ar(word_lower)\n",
    "    if has_ar_infix:\n",
    "        base_tag = _get_word_tag(word_without_ar)\n",
    "        if base_tag == 'KB':\n",
    "            return 'KB'\n",
    "        word_lower = word_without_ar\n",
    "\n",
    "    # Rule: ka- + KS\n",
    "    if word_lower.startswith('ka'):\n",
    "        base_word = word_lower[2:]\n",
    "        if base_word and _get_word_tag(base_word) == 'KS':\n",
    "            return 'KB'\n",
    "\n",
    "    # Rule: pa- + [KB / KP / KS]\n",
    "    if word_lower.startswith('pa'):\n",
    "        base_word = word_lower[2:]\n",
    "        if base_word and _get_word_tag(base_word) in ['KB', 'KP', 'KS']:\n",
    "            return 'KB'\n",
    "\n",
    "    # Rule: pang- + [KB / KS]\n",
    "    if word_lower.startswith('pang'):\n",
    "        base_word = word_lower[4:]\n",
    "        if base_word and _get_word_tag(base_word) in ['KB', 'KS']:\n",
    "            return 'KB'\n",
    "\n",
    "    # Rule: ar- + KB\n",
    "    if word_lower.startswith('ar'):\n",
    "        base_word = word_lower[2:]\n",
    "        if base_word and _get_word_tag(base_word) == 'KB':\n",
    "            return 'KB'\n",
    "\n",
    "    # Rule: [KB / KP / KS] + -an\n",
    "    if word_lower.endswith('an'):\n",
    "        base_word = word_lower[:-2]\n",
    "        if base_word and _get_word_tag(base_word) in ['KB', 'KP', 'KS']:\n",
    "            return 'KB'\n",
    "\n",
    "    # Rule: [KB / KP] + -eun\n",
    "    if word_lower.endswith('eun'):\n",
    "        base_word = word_lower[:-3]\n",
    "        if base_word and _get_word_tag(base_word) in ['KB', 'KP']:\n",
    "            return 'KB'\n",
    "\n",
    "    # Rule: [KB / KP / KS / WIL] + -na\n",
    "    if word_lower.endswith('na'):\n",
    "        base_word = word_lower[:-2]\n",
    "        if base_word and _get_word_tag(base_word) in ['KB', 'KP', 'KS', 'WIL']:\n",
    "            return 'KB'\n",
    "\n",
    "    # Rule: ka- + [KB / KP / KS] + -an\n",
    "    if word_lower.startswith('ka') and word_lower.endswith('an'):\n",
    "        base_word = word_lower[2:-2]\n",
    "        if base_word and _get_word_tag(base_word) in ['KB', 'KP', 'KS']:\n",
    "            return 'KB'\n",
    "\n",
    "    # Rule: pa- + [KB / KP / KS] + -an\n",
    "    if word_lower.startswith('pa') and word_lower.endswith('an'):\n",
    "        base_word = word_lower[2:-2]\n",
    "        if base_word and _get_word_tag(base_word) in ['KB', 'KP', 'KS']:\n",
    "            return 'KB'\n",
    "\n",
    "    # Rule: per- + KP + -an\n",
    "    if word_lower.startswith('per') and word_lower.endswith('an'):\n",
    "        base_word = word_lower[3:-2]\n",
    "        if base_word and _get_word_tag(base_word) == 'KP':\n",
    "            return 'KB'\n",
    "\n",
    "    # Rule: pi- + KB + -an\n",
    "    if word_lower.startswith('pi') and word_lower.endswith('an'):\n",
    "        base_word = word_lower[2:-2]\n",
    "        if base_word and _get_word_tag(base_word) == 'KB':\n",
    "            return 'KB'\n",
    "\n",
    "    # Rule: pi- + [KB / KP / KS] + -eun\n",
    "    if word_lower.startswith('pi') and word_lower.endswith('eun'):\n",
    "        base_word = word_lower[2:-3]\n",
    "        if base_word and _get_word_tag(base_word) in ['KB', 'KP', 'KS']:\n",
    "            return 'KB'\n",
    "\n",
    "    return None\n",
    "\n",
    "# ==== 4. Ambil semua file teks ====\n",
    "files = glob.glob(\"datatext/*.txt\")\n",
    "\n",
    "all_data = []\n",
    "oov_words = set()\n",
    "\n",
    "# ==== 5. Proses setiap file ====\n",
    "for file in files:\n",
    "    with open(file, \"r\", encoding=\"utf-8\") as f:\n",
    "        text = f.read()\n",
    "\n",
    "    # Pisahkan kalimat (akhiran .!? atau baris baru)\n",
    "    sentences = re.split(r'(?<=[.!?])\\s+|\\n+', text.strip())\n",
    "    sentences = [s for s in sentences if s]\n",
    "\n",
    "    for i, sentence in enumerate(sentences, start=1):\n",
    "        tokens = re.findall(r\"\\w+|[^\\w\\s]\", sentence, re.UNICODE)\n",
    "\n",
    "        for w in tokens:\n",
    "            w_norm = w.lower().replace(\"é\", \"e\")  # normalisasi huruf\n",
    "            sumber_tag = \"Corpus\"\n",
    "\n",
    "            if w_norm.isdigit():\n",
    "                pos_uni, pos_cus = \"NUM\", \"ANGKA\"\n",
    "            elif re.match(r\"^\\W+$\", w_norm):  # tanda baca\n",
    "                pos_uni, pos_cus = \"PUNCT\", \"TANDA_BACA\"\n",
    "            else:\n",
    "                pos_uni = corpus_universal.get(w_norm, \"NOUN\")  # default = NOUN\n",
    "                pos_cus = corpus_custom.get(w_norm, \"KB\")       # default = KB (kata benda)\n",
    "\n",
    "                # Kalau OOV, coba rule-based\n",
    "                if pos_uni == \"NOUN\" and pos_cus == \"KB\":\n",
    "                    rule_tag = _apply_kb_rules(w_norm)\n",
    "                    if rule_tag:\n",
    "                        pos_cus = rule_tag\n",
    "                        sumber_tag = \"Rule\"\n",
    "                    else:\n",
    "                        oov_words.add(w_norm)\n",
    "                        sumber_tag = \"OOV\"\n",
    "\n",
    "\n",
    "            all_data.append({\n",
    "                \"File\": file,\n",
    "                \"Kalimat ke\": i,\n",
    "                \"Kata\": w,\n",
    "                \"POS Universal\": pos_uni,\n",
    "                \"POS Custom\": pos_cus,\n",
    "                \"Sumber Tag\": sumber_tag\n",
    "            })\n",
    "\n",
    "# ==== 6. DataFrame hasil tagging ====\n",
    "df_pos = pd.DataFrame(all_data)\n",
    "\n",
    "# ==== 7. Statistik kata ====\n",
    "total_kata = len(df_pos)\n",
    "kata_oov = len([w for w in df_pos[\"Sumber Tag\"] if w == \"OOV\"])\n",
    "kata_rule = len([w for w in df_pos[\"Sumber Tag\"] if w == \"Rule\"])\n",
    "kata_corpus = total_kata - kata_oov - kata_rule\n",
    "\n",
    "print(\"=== Statistik Kata ===\")\n",
    "print(f\"Total kata        : {total_kata}\")\n",
    "print(f\"Kata dari Corpus  : {kata_corpus}\")\n",
    "print(f\"Kata dari Rule    : {kata_rule}\")\n",
    "print(f\"Kata OOV          : {kata_oov}\")\n",
    "\n",
    "# Simpan kata OOV ke file\n",
    "import os\n",
    "\n",
    "# Pastikan file disimpan di folder yang valid\n",
    "output_file = os.path.join(os.getcwd(), \"oov.txt\")\n",
    "\n",
    "with open(output_file, \"w\", encoding=\"utf-8\") as f:\n",
    "    for w in sorted(oov_words):\n",
    "        f.write(w + \"\\n\")\n",
    "\n",
    "print(f\"Daftar OOV berhasil disimpan ke: {output_file}\")\n",
    "\n",
    "# ==== 8. Tabel interaktif (preview 50 baris pertama) ====\n",
    "fig_table = ff.create_table(df_pos.head(50))\n",
    "fig_table.show()\n",
    "\n",
    "# ==== 9. Distribusi POS Universal ====\n",
    "pos_counts_uni = df_pos[\"POS Universal\"].value_counts().reset_index()\n",
    "pos_counts_uni.columns = [\"POS\", \"Jumlah\"]\n",
    "\n",
    "fig_uni = px.bar(\n",
    "    pos_counts_uni, x=\"POS\", y=\"Jumlah\",\n",
    "    title=\"Distribusi POS (Universal)\", color=\"POS\",\n",
    "    text=\"Jumlah\"\n",
    ")\n",
    "fig_uni.update_traces(textposition=\"outside\")\n",
    "fig_uni.show()\n",
    "\n",
    "# ==== 10. Distribusi POS Custom ====\n",
    "pos_counts_cus = df_pos[\"POS Custom\"].value_counts().reset_index()\n",
    "pos_counts_cus.columns = [\"POS\", \"Jumlah\"]\n",
    "\n",
    "fig_cus = px.bar(\n",
    "    pos_counts_cus, x=\"POS\", y=\"Jumlah\",\n",
    "    title=\"Distribusi POS (Custom)\", color=\"POS\",\n",
    "    text=\"Jumlah\"\n",
    ")\n",
    "fig_cus.update_traces(textposition=\"outside\")\n",
    "fig_cus.show()\n",
    "\n",
    "# ==== 11. Perbandingan Universal vs Custom ====\n",
    "comparison = df_pos.groupby([\"POS Universal\", \"POS Custom\"]).size().reset_index(name=\"Count\")\n",
    "\n",
    "fig_comp = px.scatter(\n",
    "    comparison, x=\"POS Universal\", y=\"POS Custom\", size=\"Count\",\n",
    "    title=\"Perbandingan POS Universal vs Custom\", color=\"Count\"\n",
    ")\n",
    "fig_comp.show()\n"
   ]
  },
  {
   "cell_type": "code",
   "execution_count": 28,
   "id": "e8b9ffbd",
   "metadata": {},
   "outputs": [
    {
     "name": "stdout",
     "output_type": "stream",
     "text": [
      "=== Sunda POS Tagger ===\n",
      "\n",
      "Tag kalimat dari file:\n",
      "Input : Abang-abang lambé = beureum biwirna wungkul, caritaan nu ngan saukur keur ngangeunahkeun haté nu séjén.\n",
      "Output: Abang/UNK abang/UNK lambé/UNK beureum/KS biwirna/KB wungkul/KT caritaan/UNK nu/KG ngan/KT saukur/UNK keur/UNK ngangeunahkeun/UNK haté/UNK nu/KG séjén/UNK\n",
      "\n",
      "Input : Abis bulan, abis uang = béak bulán, duit gajih ogé béak deuih.\n",
      "Output: Abis/UNK bulan/KB abis/UNK uang/UNK béak/UNK bulán/UNK duit/UNK gajih/UNK ogé/UNK béak/UNK deuih/UNK\n",
      "\n",
      "Input : Abong biwir teu diwengku, abong létah teu tulangan = jalma anu ngomongna sakarep-karep, ngomong teu reujeung, wiwaha.\n",
      "Output: Abong/KT biwir/KB teu/PL diwengku/UNK abong/KT létah/UNK teu/PL tulangan/UNK jalma/UNK anu/UNK ngomongna/UNK sakarep/UNK karep/UNK ngomong/UNK teu/PL reujeung/UNK wiwaha/KB\n",
      "\n",
      "Input : Adep-hidép = kumawula (ka salaki)\n",
      "Output: Adep/UNK hidép/UNK kumawula/UNK ka/UNK salaki/KB\n",
      "\n",
      "Input : Adil paramarta = kacida adilna.\n",
      "Output: Adil/UNK paramarta/KT kacida/KT adilna/UNK\n",
      "\n",
      "Input : Ahli leleb = tukang baranghakan.\n",
      "Output: Ahli/UNK leleb/UNK tukang/UNK baranghakan/UNK\n",
      "\n",
      "Input : Ajak jawa = tawar gatra, ngajak tambah teu hadé.\n",
      "Output: Ajak/UNK jawa/UNK tawar/KB gatra/UNK ngajak/UNK tambah/UNK teu/PL hadé/UNK\n",
      "\n",
      "Input : Akal bulus = akal jahat, akal licik.\n",
      "Output: Akal/UNK bulus/KB akal/UNK jahat/UNK akal/UNK licik/UNK\n",
      "\n",
      "Input : Akal keling atawa akal koja = akal licik. Il. akal bulus.\n",
      "Output: Akal/UNK keling/UNK atawa/KPN akal/UNK koja/KB akal/UNK licik/UNK Il/UNK akal/UNK bulus/KB\n",
      "\n",
      "Input : Aku-aku angga = ngaku-ngaku atawa miboga barang batur.\n",
      "Output: Aku/UNK aku/UNK angga/UNK ngaku/UNK ngaku/UNK atawa/KPN miboga/UNK barang/UNK batur/X\n",
      "\n",
      "Input : Along-along bagja = teu tulus meunang bagja.\n",
      "Output: Along/UNK along/UNK bagja/KB teu/PL tulus/KP meunang/UNK bagja/KB\n",
      "\n",
      "Input : Ambek nyedek tanaga midek = kacida ambekna tapi teu bisa ngalawan lantaran moal pikuaeun.\n",
      "Output: Ambek/KB nyedek/KB tanaga/KB midek/UNK kacida/KT ambekna/KB tapi/KPN teu/PL bisa/UNK ngalawan/UNK lantaran/PA moal/KB pikuaeun/UNK\n",
      "\n",
      "Input : Ambekna sakulit bawang = babari ambek.\n",
      "Output: Ambekna/KB sakulit/UNK bawang/UNK babari/KS ambek/KB\n",
      "\n",
      "Input : Amis budi = alus budi parangi, anu nyarita diundung ku seuri.\n",
      "Output: Amis/KB budi/UNK alus/KS budi/UNK parangi/KB anu/UNK nyarita/UNK diundung/UNK ku/UNK seuri/KP\n",
      "\n",
      "Input : Amis daging = gampang katerap kasakit kulit, tur hésé cageurna deui, mun raheut saeutik oge sok jadi radang.\n",
      "Output: Amis/KB daging/UNK gampang/KS katerap/UNK kasakit/UNK kulit/UNK tur/KPN hésé/UNK cageurna/UNK deui/UNK mun/KB raheut/UNK saeutik/UNK oge/KT sok/KP jadi/KP radang/UNK\n",
      "\n",
      "Input : Anak hiji keur gumelis = awéwé nu karék boga anak hiji, katénjona téh sok beuki geulis baé, komo nu bisa ngurus awak mah.\n",
      "Output: Anak/UNK hiji/WIL keur/UNK gumelis/UNK awéwé/UNK nu/KG karék/UNK boga/KP anak/UNK hiji/WIL katénjona/UNK téh/UNK sok/KP beuki/KT geulis/UNK baé/UNK komo/KT nu/KG bisa/UNK ngurus/UNK awak/KB mah/UNK\n",
      "\n",
      "Input : Anak dua keur gumunda = awéwé nu karék boga anak dua, keur meujeuhna tegep, pikabogohéun.\n",
      "Output: Anak/UNK dua/UNK keur/UNK gumunda/UNK awéwé/UNK nu/KG karék/UNK boga/KP anak/UNK dua/UNK keur/UNK meujeuhna/KP tegep/KS pikabogohéun/UNK\n",
      "\n",
      "Input : Anak tilu keur kumusut = awéwé nu boga anak tilu, katénjona sok karusut, komo nu teu bisa ngurus awak mah.\n",
      "Output: Anak/UNK tilu/WIL keur/UNK kumusut/UNK awéwé/UNK nu/KG boga/KP anak/UNK tilu/WIL katénjona/UNK sok/KP karusut/UNK komo/KT nu/KG teu/PL bisa/UNK ngurus/UNK awak/KB mah/UNK\n",
      "\n",
      "Input : Anggeus-anggeusan = bébékahan.\n",
      "Output: Anggeus/KP anggeusan/KT bébékahan/UNK\n",
      "\n",
      "Input : Apal cangkem = apal tapi teu ngarti hartina.\n",
      "Output: Apal/UNK cangkem/KB apal/UNK tapi/KPN teu/PL ngarti/UNK hartina/UNK\n",
      "\n",
      "Input : Asa bucat bisul = ngarasa lugina sanggeus ngarangéskeun pangaweruh anu berat atawa sanggeus lésot tina kasusah.\n",
      "Output: Asa/KB bucat/KP bisul/UNK ngarasa/UNK lugina/UNK sanggeus/KPB ngarangéskeun/UNK pangaweruh/UNK anu/UNK berat/UNK atawa/KPN sanggeus/KPB lésot/UNK tina/PA kasusah/UNK\n",
      "\n",
      "Input : Asa dijual payu = ngarasakeun dihargaan atawa dipamingpinan.\n",
      "Output: Asa/KB dijual/UNK payu/KB ngarasakeun/UNK dihargaan/UNK atawa/KPN dipamingpinan/UNK\n",
      "\n",
      "Input : Asa dina pangimpian = rarasaan keur ngimpi bawaaning hélok, padahal keur nyaring.\n",
      "Output: Asa/KB dina/PA pangimpian/UNK rarasaan/UNK keur/UNK ngimpi/UNK bawaaning/UNK hélok/UNK padahal/UNK keur/UNK nyaring/KP\n",
      "\n",
      "Input : Asa dipupuk birus = ngarasa tibra haté.\n",
      "Output: Asa/KB dipupuk/UNK birus/KB ngarasa/UNK tibra/KP haté/UNK\n",
      "\n",
      "Input : Asa ditonjok congcot = ngarasa atoh duméh meunang rejeki atawa pikabungeuhan anu teu disangka-sangka.\n",
      "Output: Asa/KB ditonjok/UNK congcot/KB ngarasa/UNK atoh/KN duméh/UNK meunang/UNK rejeki/UNK atawa/KPN pikabungeuhan/UNK anu/UNK teu/PL disangka/UNK sangka/UNK\n",
      "\n",
      "Input : Asa kagunturan madu kaurugan menyan bodas = kacida bungahna jeung kacida bagjana.\n",
      "Output: Asa/KB kagunturan/KB madu/UNK kaurugan/KB menyan/UNK bodas/KS kacida/KT bungahna/KB jeung/UNK kacida/KT bagjana/KB\n",
      "\n",
      "Input : Asa katumbu umur = ngarasakeun atoh ditulungan dina keur aya kasusah.\n",
      "Output: Asa/KB katumbu/UNK umur/UNK ngarasakeun/UNK atoh/KN ditulungan/UNK dina/PA keur/UNK aya/KP kasusah/UNK\n",
      "\n",
      "Input : Asa nyanghulu ka jarian = teu ngeunah rasa, lantaran kudu ngawula/ngabdi ka jalma nu sahandapeun pangartina atawa harkat darajatna.\n",
      "Output: Asa/KB nyanghulu/UNK ka/UNK jarian/UNK teu/PL ngeunah/KS rasa/UNK lantaran/PA kudu/UNK ngawula/UNK ngabdi/UNK ka/UNK jalma/UNK nu/KG sahandapeun/UNK pangartina/UNK atawa/KPN harkat/UNK darajatna/UNK\n",
      "\n",
      "Input : Asa kiamat = pohara sedihna jeung susah luar biasa.\n",
      "Output: Asa/KB kiamat/UNK pohara/UNK sedihna/UNK jeung/UNK susah/UNK luar/UNK biasa/UNK\n",
      "\n",
      "Input : Asa peunggas rancatan = leungiteun batur nu nalang dina pagawean.\n",
      "Output: Asa/KB peunggas/KS rancatan/UNK leungiteun/UNK batur/X nu/KG nalang/UNK dina/PA pagawean/UNK\n",
      "\n",
      "Input : Asa pinggés leungeun katuhu =asa peunggas rancatan.\n",
      "Output: Asa/KB pinggés/UNK leungeun/UNK katuhu/KB asa/KB peunggas/KS rancatan/UNK\n",
      "\n",
      "Input : Asa rawing daun ceuli = mindeng ngadéngé omongan nu teu ngeunah.\n",
      "Output: Asa/KB rawing/UNK daun/UNK ceuli/UNK mindeng/KT ngadéngé/UNK omongan/UNK nu/KG teu/PL ngeunah/KS\n",
      "\n",
      "Input : Atah adol = kurang ajar, kurang pangwarah, teu nyaho di kasopanan.\n",
      "Output: Atah/KS adol/UNK kurang/UNK ajar/UNK kurang/UNK pangwarah/KB teu/PL nyaho/KP di/UNK kasopanan/UNK\n",
      "\n",
      "Input : Atah anjang = arang nganjang.\n",
      "Output: Atah/KS anjang/KP arang/UNK nganjang/KP\n",
      "\n",
      "Input : Atah warah =atah adol.\n",
      "Output: Atah/KS warah/KB atah/KS adol/UNK\n",
      "\n",
      "Input : Ateul biwir = geus hayang pok ngedalkeun kakeuheul atawa nyarita.\n",
      "Output: Ateul/KP biwir/KB geus/KBT hayang/KP pok/UNK ngedalkeun/UNK kakeuheul/KB atawa/KPN nyarita/UNK\n",
      "\n",
      "Input : Atung énéh atung énéh aé = kitu-kitu kénéh baé.\n",
      "Output: Atung/UNK énéh/UNK atung/UNK énéh/UNK aé/UNK kitu/PA kitu/PA kénéh/UNK baé/UNK\n",
      "\n",
      "Input : Awak kawas badawang = jangkung gedé teu matut.\n",
      "Output: Awak/KB kawas/PA badawang/KB jangkung/UNK gedé/UNK teu/PL matut/UNK\n",
      "\n",
      "Input : Awak sabeulaan = awak nu hirup mina-ménah sorangan.\n",
      "Output: Awak/KB sabeulaan/UNK awak/KB nu/KG hirup/KP mina/KB ménah/UNK sorangan/PNJ\n",
      "\n",
      "Input : Awak sampayan = jangkung leutik atawa lenjang atawa janjang, pantes maké baju.\n",
      "Output: Awak/KB sampayan/KB jangkung/UNK leutik/UNK atawa/KPN lenjang/UNK atawa/KPN janjang/UNK pantes/KS maké/UNK baju/UNK\n",
      "\n",
      "Input : Awét rajét = nu laki rabi, lana tapi réa pacéngkadan, mindeng paséa.\n",
      "Output: Awét/UNK rajét/UNK nu/KG laki/UNK rabi/UNK lana/KS tapi/KPN réa/UNK pacéngkadan/UNK mindeng/KT paséa/UNK\n",
      "\n",
      "Input : Awéwé dulang tinandé = awéwé mah biasana kumaha kahayang lalaki.\n",
      "Output: Awéwé/UNK dulang/UNK tinandé/UNK awéwé/UNK mah/UNK biasana/UNK kumaha/UNK kahayang/UNK lalaki/UNK\n",
      "\n",
      "Input : Awéwé mah tara cari ka Batawi = awéwé mah teu kudu usaha ka nu jauh, cukup ngawulaan salaki.\n",
      "Output: Awéwé/UNK mah/UNK tara/KT cari/KB ka/UNK Batawi/UNK awéwé/UNK mah/UNK teu/PL kudu/UNK usaha/UNK ka/UNK nu/KG jauh/UNK cukup/UNK ngawulaan/UNK salaki/KB\n",
      "\n",
      "Input : Aya astana sajeungkal = datangna ajal teu gumantung kana umur.\n",
      "Output: Aya/KP astana/KB sajeungkal/UNK datangna/UNK ajal/UNK teu/PL gumantung/KB kana/UNK umur/UNK\n",
      "\n",
      "Input : Aya bagja teu daulat = meunang bagja tapi teu jadi kabeungharan atawa henteu tulus meunang bagjana.\n",
      "Output: Aya/KP bagja/KB teu/PL daulat/UNK meunang/UNK bagja/KB tapi/KPN teu/PL jadi/KP kabeungharan/KB atawa/KPN henteu/PL tulus/KP meunang/UNK bagjana/KB\n",
      "\n",
      "Input : Aya buntutna = aya terusna (tina perkara) anu nguciwakeun.\n",
      "Output: Aya/KP buntutna/UNK aya/KP terusna/UNK tina/PA perkara/UNK anu/UNK nguciwakeun/UNK\n",
      "\n",
      "Input : Aya di sihung maung = loba hubungan jeung gegedén, jadi babari meunang pitulung.\n",
      "Output: Aya/KP di/UNK sihung/UNK maung/UNK loba/UNK hubungan/UNK jeung/UNK gegedén/UNK jadi/KP babari/KS meunang/UNK pitulung/UNK\n",
      "\n",
      "Input : Aya gantar kakaitna = aya hal anu teu sapuk jeung haténa tapi henteu dikedalkeun, henteu iklas pisan.\n",
      "Output: Aya/KP gantar/KB kakaitna/UNK aya/KP hal/UNK anu/UNK teu/PL sapuk/KP jeung/UNK haténa/UNK tapi/KPN henteu/PL dikedalkeun/UNK henteu/PL iklas/UNK pisan/UNK\n",
      "\n",
      "Input : Aya garad atawa boga garad = aya maksud nu dikemu, aya nu dipampih, henteu iklas.\n",
      "Output: Aya/KP garad/UNK atawa/KPN boga/KP garad/UNK aya/KP maksud/UNK nu/KG dikemu/UNK aya/KP nu/KG dipampih/UNK henteu/PL iklas/UNK\n",
      "\n",
      "Input : Aya jodo pakokolot = bisa ngajodo sanggeus papada kolot.\n",
      "Output: Aya/KP jodo/UNK pakokolot/KB bisa/UNK ngajodo/UNK sanggeus/KPB papada/KB kolot/KS\n",
      "\n",
      "Input : Aya kélong néwo-néwo = aya nu ngusutkeun (ngarorocét) hiji perkara anu geus beres pisan.\n",
      "Output: Aya/KP kélong/UNK néwo/UNK néwo/UNK aya/KP nu/KG ngusutkeun/UNK ngarorocét/UNK hiji/WIL perkara/UNK anu/UNK geus/KBT beres/KP pisan/UNK\n",
      "\n",
      "Input : Aya nu dianjing cai = aya nu dihéronan.\n",
      "Output: Aya/KP nu/KG dianjing/UNK cai/KB aya/KP nu/KG dihéronan/UNK\n",
      "\n",
      "Input : Aya pikir kapingburi = aya pikir atawa rasa anu timbul pandcuri.\n",
      "Output: Aya/KP pikir/UNK kapingburi/UNK aya/KP pikir/UNK atawa/KPN rasa/UNK anu/UNK timbul/KB pandcuri/UNK\n",
      "\n",
      "Input : Ayak-ayak béas, nu badag moncor nu leubut nyangsang = nuduhkeun kaayaan anu teu sawajarna sabab anu dihukum téh kadang nu alit atawa kasalahanana, ari nu gedé kasalahanana teu dihukum.\n",
      "Output: Ayak/KG ayak/KG béas/UNK nu/KG badag/KS moncor/UNK nu/KG leubut/UNK nyangsang/KP nuduhkeun/UNK kaayaan/KB anu/UNK teu/PL sawajarna/UNK sabab/PA anu/UNK dihukum/UNK téh/UNK kadang/KB nu/KG alit/KS atawa/KPN kasalahanana/UNK ari/KPB nu/KG gedé/UNK kasalahanana/UNK teu/PL dihukum/UNK\n",
      "\n",
      "Input : Ayang-ayangan = tumperak kana perkara anu réa rambat kamaléna, réa ambat-ambatanana.\n",
      "Output: Ayang/UNK ayangan/UNK tumperak/UNK kana/UNK perkara/UNK anu/UNK réa/UNK rambat/UNK kamaléna/UNK réa/UNK ambat/KB ambatanana/UNK\n",
      "\n",
      "Input : Bisa ka bala ka balé = bisa campur jeung jalma ti rupa-rupa golongan, atawa bisa gawe kasar jeung gawe lemes.\n",
      "Output: Bisa/UNK ka/UNK bala/KB ka/UNK balé/UNK bisa/UNK campur/UNK jeung/UNK jalma/UNK ti/KPB rupa/UNK rupa/UNK golongan/UNK atawa/KPN bisa/UNK gawe/UNK kasar/UNK jeung/UNK gawe/UNK lemes/UNK\n",
      "\n",
      "Input : Biwir nyiru rombéngeun = resep nyaritakeun céckék bocék jeung anu saenyana kudu dirusiahkeun.\n",
      "Output: Biwir/KB nyiru/KB rombéngeun/UNK resep/UNK nyaritakeun/UNK céckék/UNK bocék/UNK jeung/UNK anu/UNK saenyana/UNK kudu/UNK dirusiahkeun/UNK\n",
      "\n",
      "Input : Bobo sapanon carang sapakan = teu puguh undak-usukna, teu puguh entép seureuhna. Biasana sok dipaké pamungkas carita, minangka sasadu bisi aya nu salah pokpokanana atawa pérelanana.\n",
      "Output: Bobo/KS sapanon/UNK carang/KS sapakan/UNK teu/PL puguh/UNK undak/KP usukna/KB teu/PL puguh/UNK entép/UNK seureuhna/KB Biasana/UNK sok/KP dipaké/UNK pamungkas/KS carita/UNK minangka/KT sasadu/KB bisi/KPB aya/KP nu/KG salah/UNK pokpokanana/UNK atawa/KPN pérelanana/UNK\n",
      "\n",
      "Input : Bobor karahayuan = katarajang apes, cilaka, atawa meunang kasusah.\n",
      "Output: Bobor/KB karahayuan/UNK katarajang/UNK apes/UNK cilaka/UNK atawa/KPN meunang/UNK kasusah/UNK\n",
      "\n",
      "Input : Bobot pangayon timbang taraju = pangadilan, timbangan anu adil.\n",
      "Output: Bobot/UNK pangayon/UNK timbang/UNK taraju/KB pangadilan/UNK timbangan/UNK anu/UNK adil/UNK\n",
      "\n",
      "Input : Bodo aléwoh = bodo tapi bari daék tatanya.\n",
      "Output: Bodo/UNK aléwoh/UNK bodo/UNK tapi/KPN bari/KS daék/UNK tatanya/UNK\n",
      "\n",
      "Input : Bodo katotoloyoh = bodo bari tara daék tatanya atawa tara daék nurut kana naséhat batur.\n",
      "Output: Bodo/UNK katotoloyoh/KT bodo/UNK bari/KS tara/KT daék/UNK tatanya/UNK atawa/KPN tara/KT daék/UNK nurut/UNK kana/UNK naséhat/UNK batur/X\n",
      "\n",
      "Input : Boga pikir rangkepan = henteu bolostrang, henteu ujug-ujug percaya kana omongan batur anu manis.\n",
      "Output: Boga/KP pikir/UNK rangkepan/UNK henteu/PL bolostrang/UNK henteu/PL ujug/UNK ujug/UNK percaya/UNK kana/UNK omongan/UNK batur/X anu/UNK manis/UNK\n",
      "\n",
      "Input : Boga sawah saicak = boga sawah saeutik.\n",
      "Output: Boga/KP sawah/UNK saicak/UNK boga/KP sawah/UNK saeutik/UNK\n",
      "\n",
      "Input : Boga ngocéngang = boga sosoranangan, teu dilayanan. Ambon sorangan.\n",
      "Output: Boga/KP ngocéngang/UNK boga/KP sosoranangan/UNK teu/PL dilayanan/UNK Ambon/UNK sorangan/PNJ\n",
      "\n",
      "Input : Bongkok méongkeun = potongan badan (awéwé) nu lebah cangkengna semu bengkung ka tukang.\n",
      "Output: Bongkok/UNK méongkeun/UNK potongan/UNK badan/KB awéwé/UNK nu/KG lebah/UNK cangkengna/KB semu/KB bengkung/UNK ka/UNK tukang/UNK\n",
      "\n",
      "Input : Bosongot badé amprotan = dipikagimir, pasemon jagoan.\n",
      "Output: Bosongot/KB badé/UNK amprotan/UNK dipikagimir/UNK pasemon/KB jagoan/KB\n",
      "\n",
      "Input : Borangan ku surak = éraan dina gempungan jalma réa.\n",
      "Output: Borangan/KS ku/UNK surak/KB éraan/UNK dina/PA gempungan/UNK jalma/UNK réa/UNK\n",
      "\n",
      "Input : Bru di juru bro di panto = beunghar, barang teundeunna ogé teu puguh tempatna bakal ku loba.\n",
      "Output: Bru/UNK di/UNK juru/UNK bro/PA di/UNK panto/KB beunghar/KS barang/UNK teundeunna/KB ogé/UNK teu/PL puguh/UNK tempatna/UNK bakal/UNK ku/UNK loba/UNK\n",
      "\n",
      "Input : Buburuh nyatu diupah béas = diajar bari meunang tunjangan. Meunang dua rupa kauntungan.\n",
      "Output: Buburuh/UNK nyatu/KP diupah/UNK béas/UNK diajar/UNK bari/KS meunang/UNK tunjangan/UNK Meunang/UNK dua/UNK rupa/UNK kauntungan/UNK\n",
      "\n",
      "Input : Budak olol lého =budak bau jaringao\n",
      "Output: Budak/KB olol/KB lého/UNK budak/KB bau/UNK jaringao/UNK\n",
      "\n",
      "Input : Budak rodék hulu =budak bau jaringao jeung budak olol lého.\n",
      "Output: Budak/KB rodék/UNK hulu/KB budak/KB bau/UNK jaringao/UNK jeung/UNK budak/KB olol/KB lého/UNK\n",
      "\n",
      "Input : Bujang jengglengan = jajaka tulén sarta legep.\n",
      "Output: Bujang/UNK jengglengan/UNK jajaka/UNK tulén/UNK sarta/KPN legep/UNK\n",
      "\n",
      "Input : Bujang tarangna = lalaki anu can kawin geus lécu bujang.\n",
      "Output: Bujang/UNK tarangna/UNK lalaki/UNK anu/UNK can/PL kawin/UNK geus/KBT lécu/UNK bujang/UNK\n",
      "\n",
      "Input : Bulu taneuh = tukang tani, patani.\n",
      "Output: Bulu/UNK taneuh/KB tukang/UNK tani/UNK patani/UNK\n",
      "\n",
      "Input : Buncir leuit loba duit = taya kakurangan.\n",
      "Output: Buncir/KN leuit/KB loba/UNK duit/UNK taya/KB kakurangan/UNK\n",
      "\n",
      "Input : Buntu laku = teu bisa neruskeun usaha atawa pagawéan.\n",
      "Output: Buntu/UNK laku/UNK teu/PL bisa/UNK neruskeun/UNK usaha/UNK atawa/KPN pagawéan/UNK\n",
      "\n",
      "Input : Buntut kasiran = kumed, korét.\n",
      "Output: Buntut/UNK kasiran/KB kumed/UNK korét/UNK\n",
      "\n",
      "Input : Bur beureum bur hideung, hurung nangtung siang leumpang = hirup taya kurang, salilana ginding.\n",
      "Output: Bur/UNK beureum/KS bur/UNK hideung/KS hurung/KP nangtung/KG siang/KB leumpang/UNK hirup/KP taya/KB kurang/UNK salilana/UNK ginding/KP\n",
      "\n",
      "Input : Caang bulan opat welas, jalan gede sasapuan = rido pisan, taya geuneuk malecukmeuk dina haté.\n",
      "Output: Caang/KS bulan/KB opat/WIL welas/KS jalan/UNK gede/UNK sasapuan/UNK rido/UNK pisan/UNK taya/KB geuneuk/UNK malecukmeuk/UNK dina/PA haté/UNK\n",
      "\n",
      "Input : (biasa ogé dipiheulaan ku: balungbang timur. Jadi: Balungbang timur, caang bulan opat welas, jalan gede sasapuan.)\n",
      "Output: biasa/UNK ogé/UNK dipiheulaan/UNK ku/UNK balungbang/KB timur/UNK Jadi/KP Balungbang/KB timur/UNK caang/KS bulan/KB opat/WIL welas/KS jalan/UNK gede/UNK sasapuan/UNK\n",
      "\n",
      "Input : Caang padang narawangan = caang pikir.\n",
      "Output: Caang/KS padang/KS narawangan/UNK caang/KS pikir/UNK\n",
      "\n",
      "Input : Cacag nangkaeun = henteu bérés atawa henteu alus, lantaran mindeng katunda tuluy dihanca deui (pagawéan atawa carita).\n",
      "Output: Cacag/KB nangkaeun/UNK henteu/PL bérés/UNK atawa/KPN henteu/PL alus/KS lantaran/PA mindeng/KT katunda/UNK tuluy/KPB dihanca/UNK deui/UNK pagawéan/UNK atawa/KPN carita/UNK\n",
      "\n",
      "Input : Cacah rucah atah warah = cacah bolongkotan, taya pisan turunan jeung taya kabisa atawa kanyaho.\n",
      "Output: Cacah/UNK rucah/KB atah/KS warah/KB cacah/UNK bolongkotan/KB taya/KB pisan/UNK turunan/UNK jeung/UNK taya/KB kabisa/UNK atawa/KPN kanyaho/UNK\n",
      "\n",
      "Input : Cacarakan = kakara diajar, tacan bisa bener.\n",
      "Output: Cacarakan/KB kakara/UNK diajar/UNK tacan/PL bisa/UNK bener/KS\n",
      "\n",
      "Input : Cadu mungkuk haram dempak = sumpah yén bener-bener embung atawa ngalampahkeun salasahiji perkara.\n",
      "Output: Cadu/UNK mungkuk/KB haram/UNK dempak/KS sumpah/UNK yén/UNK bener/KS bener/KS embung/KB atawa/KPN ngalampahkeun/UNK salasahiji/UNK perkara/UNK\n",
      "\n",
      "Input : Campaka jadi di reuma = nu geulis urang lembur atawa kampung lain pipanteseunana aya di pasisian.\n",
      "Output: Campaka/UNK jadi/KP di/UNK reuma/UNK nu/KG geulis/UNK urang/KG lembur/UNK atawa/KPN kampung/UNK lain/PL pipanteseunana/UNK aya/KP di/UNK pasisian/UNK\n",
      "\n",
      "Input : Campur kaya = tepung kaya atawa kaya reujeung kaya, harta banda babarengan nu rimbitan.\n",
      "Output: Campur/UNK kaya/UNK tepung/KP kaya/UNK atawa/KPN kaya/UNK reujeung/UNK kaya/UNK harta/UNK banda/KB babarengan/UNK nu/KG rimbitan/UNK\n",
      "\n",
      "Input : Caringcing pageuh kancing, saringget pageuh iket = taliti ngajaga kaamanan, mageuhan tulak, jsb. bisi aya bancang pakéwuh.\n",
      "Output: Caringcing/KS pageuh/KP kancing/UNK saringget/UNK pageuh/KP iket/UNK taliti/KP ngajaga/KT kaamanan/UNK mageuhan/UNK tulak/KB jsb/UNK bisi/KPB aya/KP bancang/KP pakéwuh/UNK\n",
      "\n",
      "Input : Ceuli léntaheun = sadéng-déngéan, sanajan lain déngékeunanuna.\n",
      "Output: Ceuli/UNK léntaheun/UNK sadéng/UNK déngéan/UNK sanajan/KPB lain/PL déngékeunanuna/UNK\n",
      "\n",
      "Input : Ceplak pahang = satarabasna teuing, kajucun teuing matak teu ngeunah kana haté batur ogé.\n",
      "Output: Ceplak/KP pahang/KB satarabasna/UNK teuing/KT kajucun/UNK teuing/KT matak/UNK teu/PL ngeunah/KS kana/UNK haté/UNK batur/X ogé/UNK\n",
      "\n",
      "Input : Ciduh jeung reuhak = sarua goréngna atawa sarua goréng adatna.\n",
      "Output: Ciduh/UNK jeung/UNK reuhak/UNK sarua/KS goréngna/UNK atawa/KPN sarua/KS goréng/UNK adatna/UNK\n",
      "\n",
      "Input : Cilaka dua belas = cilaka pohara.\n",
      "Output: Cilaka/UNK dua/UNK belas/UNK cilaka/UNK pohara/UNK\n",
      "\n",
      "Input : Ciri sabumi cara sadésa = adat kabiasaan di unggal nagara atawa désa.\n",
      "Output: Ciri/UNK sabumi/UNK cara/KB sadésa/UNK adat/UNK kabiasaan/UNK di/UNK unggal/PNJ nagara/KB atawa/KPN désa/UNK\n",
      "\n",
      "Input : Clik putih clak hérang = rido, iklas, kaluar tina haté anu beresih.\n",
      "Output: Clik/UNK putih/UNK clak/UNK hérang/UNK rido/UNK iklas/UNK kaluar/UNK tina/PA haté/UNK anu/UNK beresih/UNK\n",
      "\n",
      "Input : Cruk-crek = gunta-ganti pamajikan.\n",
      "Output: Cruk/UNK crek/UNK gunta/UNK ganti/UNK pamajikan/KB\n",
      "\n",
      "Input : Cucuk panon = teu adil dina barangbéré atawa ngabagikeun barang.\n",
      "Output: Cucuk/UNK panon/KB teu/PL adil/UNK dina/PA barangbéré/UNK atawa/KPN ngabagikeun/UNK barang/UNK\n",
      "\n",
      "Input : Cucuk rungkang = perkara leutik atawa reme, tapi lamun diantara bisa ngaganggu kana urusan anu gede.\n",
      "Output: Cucuk/UNK rungkang/UNK perkara/UNK leutik/UNK atawa/KPN reme/UNK tapi/KPN lamun/KPB diantara/UNK bisa/UNK ngaganggu/UNK kana/UNK urusan/UNK anu/UNK gede/UNK\n",
      "\n",
      "Input : Cukang tara néangan nu ngising = nu hayang ditulungan sapantesna datang ka nu rék dipentaaan tulungna.\n",
      "Output: Cukang/UNK tara/KT néangan/UNK nu/KG ngising/UNK nu/KG hayang/KP ditulungan/UNK sapantesna/UNK datang/UNK ka/UNK nu/KG rék/UNK dipentaaan/UNK tulungna/UNK\n",
      "\n",
      "Input : Cukup belengur = kakurangan rejeki atawa barang lantaran loba teuing anu dibikeun ka batur.\n",
      "Output: Cukup/UNK belengur/KT kakurangan/UNK rejeki/UNK atawa/KPN barang/UNK lantaran/PA loba/UNK teuing/KT anu/UNK dibikeun/UNK ka/UNK batur/X\n",
      "\n",
      "Input : Dagang pindang ka Cirebon = dagang barang ka tempat nyieun éta barang.\n",
      "Output: Dagang/UNK pindang/UNK ka/UNK Cirebon/UNK dagang/UNK barang/UNK ka/UNK tempat/UNK nyieun/UNK éta/UNK barang/UNK\n",
      "\n",
      "Input : Dahar kawas meri = uprat-aprét jeung ngarémbéh.\n",
      "Output: Dahar/KP kawas/PA meri/KB uprat/UNK aprét/UNK jeung/UNK ngarémbéh/UNK\n",
      "\n",
      "Input : Daharna sakésér daun = daharna mindeng pisan (budak).\n",
      "Output: Daharna/KB sakésér/UNK daun/UNK daharna/KB mindeng/KT pisan/UNK budak/KB\n",
      "\n",
      "Input : Dah kapas dah bawang = jual beuli kontan.\n",
      "Output: Dah/UNK kapas/UNK dah/UNK bawang/UNK jual/UNK beuli/KP kontan/KB\n",
      "\n",
      "Input : Datang katingali tarang, undur katingali punduk = datang kanyahoan, balik (indit) oge kanyahoan, menta izin heula.\n",
      "Output: Datang/UNK katingali/UNK tarang/KN undur/UNK katingali/UNK punduk/UNK datang/UNK kanyahoan/KB balik/KP indit/UNK oge/KT kanyahoan/KB menta/UNK izin/UNK heula/KT\n",
      "\n",
      "Input : Dédéngé tarak atawa dédéngé tara = ngadéngé béja atawa carita tapi teu puguh (teu kaharti) leunjuranana, bisa jadi ku lantaran ngadéngé sapotong-sapotong atawa bari migawé pagawéan séjén.\n",
      "Output: Dédéngé/UNK tarak/UNK atawa/KPN dédéngé/UNK tara/KT ngadéngé/UNK béja/UNK atawa/KPN carita/UNK tapi/KPN teu/PL puguh/UNK teu/PL kaharti/UNK leunjuranana/UNK bisa/UNK jadi/KP ku/UNK lantaran/PA ngadéngé/UNK sapotong/UNK sapotong/UNK atawa/KPN bari/KS migawé/UNK pagawéan/UNK séjén/UNK\n",
      "\n",
      "Input : Deuket-deuket anak taleus = sakitu padeukeut teu nyaho yén baraya, atawa teu nyaho yén aya kajadian penting di salasaurang di antara maranéhna.\n",
      "Output: Deuket/UNK deuket/UNK anak/UNK taleus/KB sakitu/UNK padeukeut/KB teu/PL nyaho/KP yén/UNK baraya/KB atawa/KPN teu/PL nyaho/KP yén/UNK aya/KP kajadian/KB penting/UNK di/UNK salasaurang/UNK di/UNK antara/UNK maranéhna/UNK\n",
      "\n",
      "Input : Deukeut deuleu pondok léngkah = kurang pamandangan jeung teu pati bébas dina indit-inditan.\n",
      "Output: Deukeut/KS deuleu/KP pondok/UNK léngkah/UNK kurang/UNK pamandangan/UNK jeung/UNK teu/PL pati/KB bébas/UNK dina/PA indit/UNK inditan/UNK\n",
      "\n",
      "Input : Deungeun haseum = teu baraya saeutik-eutik acan.\n",
      "Output: Deungeun/KB haseum/KN teu/PL baraya/KB saeutik/UNK eutik/KS acan/PL\n",
      "\n",
      "Input : Diadukumbangkeun = dua jelema atawa sato, dicekel pundukna tuluy diadukeun lebah tarangna sataker tanaga.\n",
      "Output: Diadukumbangkeun/UNK dua/UNK jelema/UNK atawa/KPN sato/KB dicekel/UNK pundukna/UNK tuluy/KPB diadukeun/UNK lebah/UNK tarangna/UNK sataker/UNK tanaga/KB\n",
      "\n",
      "Input : Dibabuk lalay = dibabukan kawas lalay (musuh loba ngaromong urang), ngabubukan ngécna ngatulhu.\n",
      "Output: Dibabuk/UNK lalay/KB dibabukan/UNK kawas/PA lalay/KB musuh/KB loba/UNK ngaromong/UNK urang/KG ngabubukan/UNK ngécna/UNK ngatulhu/UNK\n",
      "\n",
      "Input : Di bawah tangan = teu maké saksi ti pihak resmi.\n",
      "Output: Di/UNK bawah/KB tangan/UNK teu/PL maké/UNK saksi/UNK ti/KPB pihak/UNK resmi/UNK\n",
      "\n",
      "Input : Dibejérbéaskeun = dicécéskeun, ditétélakeun, dijentrekkeun nepi kana bubuk leutikna.\n",
      "Output: Dibejérbéaskeun/UNK dicécéskeun/UNK ditétélakeun/UNK dijentrekkeun/UNK nepi/PA kana/UNK bubuk/UNK leutikna/UNK\n",
      "\n",
      "Input : Dibeuweung diutahkeun = dipikir dibulak-balik.\n",
      "Output: Dibeuweung/UNK diutahkeun/UNK dipikir/UNK dibulak/UNK balik/KP\n",
      "\n",
      "Input : Didagoan ku sééng nyéngsréng = didagoan ku pangabutuh rumah tangga atawa pangabutuh sapopoe.\n",
      "Output: Didagoan/UNK ku/UNK sééng/UNK nyéngsréng/UNK didagoan/UNK ku/UNK pangabutuh/UNK rumah/UNK tangga/KB atawa/KPN pangabutuh/UNK sapopoe/UNK\n",
      "\n",
      "Input : Didago-dago tiléwo = didagoan ari péh teu datang.\n",
      "Output: Didago/UNK dago/KP tiléwo/UNK didagoan/UNK ari/KPB péh/UNK teu/PL datang/UNK\n",
      "\n",
      "Input : Dihin pinasti anyar pinanggih = sagala rupa nu kaalaman ayeuna, saéstuna geus ditangtukeun ti heula ku Pangéran.\n",
      "Output: Dihin/UNK pinasti/UNK anyar/KS pinanggih/UNK sagala/UNK rupa/UNK nu/KG kaalaman/UNK ayeuna/KT saéstuna/UNK geus/KBT ditangtukeun/UNK ti/KPB heula/KT ku/UNK Pangéran/UNK\n",
      "\n",
      "Input : Dihurun suluhkeun = disamarutkeun jeung nu boga dosa.\n",
      "Output: Dihurun/UNK suluhkeun/UNK disamarutkeun/KP jeung/UNK nu/KG boga/KP dosa/UNK\n",
      "\n",
      "Input : Dijieum lalah rumbah = diomomorkeun, teu diajénan, dianggap teu sabaraha.\n",
      "Output: Dijieum/UNK lalah/UNK rumbah/KB diomomorkeun/UNK teu/PL diajénan/UNK dianggap/UNK teu/PL sabaraha/KT\n",
      "\n",
      "Input : Dikeprak reumis = parah diutah-utah, ngajalankeun pagawéan anu lain lumayan.\n",
      "Output: Dikeprak/UNK reumis/UNK parah/UNK diutah/UNK utah/KB ngajalankeun/UNK pagawéan/UNK anu/UNK lain/PL lumayan/UNK\n",
      "\n",
      "Input : Dikepung wakul buaya mangap = dikepung ku musuh anu samakta ku pakarangna.\n",
      "Output: Dikepung/UNK wakul/UNK buaya/UNK mangap/UNK dikepung/UNK ku/UNK musuh/KB anu/UNK samakta/KS ku/UNK pakarangna/KB\n",
      "\n",
      "Input : Dikerid peuti = dibawa kabéh saeusi imah atawa saeusi kampung.\n",
      "Output: Dikerid/UNK peuti/KB dibawa/UNK kabéh/UNK saeusi/UNK imah/UNK atawa/KPN saeusi/UNK kampung/UNK\n",
      "\n",
      "Input : Dikompétdaunkeun atawa disakompétdaunkeun =dihurunsuluhkeun.\n",
      "Output: Dikompétdaunkeun/UNK atawa/KPN disakompétdaunkeun/UNK dihurunsuluhkeun/UNK\n",
      "\n",
      "Input : Dinina-bobokeun = dipépéndé ku rupa-rupa jangji jeung omongan pangoloan supaya tetep nurut ka pamaréntah.\n",
      "Output: Dinina/UNK bobokeun/UNK dipépéndé/UNK ku/UNK rupa/UNK rupa/UNK jangji/UNK jeung/UNK omongan/UNK pangoloan/UNK supaya/PA tetep/KP nurut/UNK ka/UNK pamaréntah/UNK\n",
      "\n",
      "Input : Dipaké cocok conggan = dimomorékeun pisan.\n",
      "Output: Dipaké/UNK cocok/UNK conggan/UNK dimomorékeun/UNK pisan/UNK\n",
      "\n",
      "Input : Dipisudi méré budi = dipiharep tapi kalah ka ngabaeudan.\n",
      "Output: Dipisudi/UNK méré/UNK budi/UNK dipiharep/UNK tapi/KPN kalah/UNK ka/UNK ngabaeudan/UNK\n",
      "\n",
      "Input : Disiksik dikunyit-kunyit, dicacag diwalang-walang = dihukum beurat pisan, dihukum pati.\n",
      "Output: Disiksik/KB dikunyit/UNK kunyit/UNK dicacag/UNK diwalang/UNK walang/KB dihukum/UNK beurat/KS pisan/UNK dihukum/UNK pati/KB\n",
      "\n",
      "Input : Disuhun dina embun-embunan = ditarimakeun pisan.\n",
      "Output: Disuhun/UNK dina/PA embun/UNK embunan/UNK ditarimakeun/UNK pisan/UNK\n",
      "\n",
      "Input : Disusul tepus = disusul atawa ditéangan nepi ka beunangna.\n",
      "Output: Disusul/UNK tepus/KB disusul/UNK atawa/KPN ditéangan/UNK nepi/PA ka/UNK beunangna/UNK\n",
      "\n",
      "Input : Ditangtang-téngténg dijieun bonténg sapasi = digulang gapér.\n",
      "Output: Ditangtang/UNK téngténg/UNK dijieun/UNK bonténg/UNK sapasi/UNK digulang/UNK gapér/UNK\n",
      "\n",
      "Input : Dogdog pangréwong = milu nyarita minangka éstra.\n",
      "Output: Dogdog/UNK pangréwong/UNK milu/UNK nyarita/UNK minangka/KT éstra/UNK\n",
      "\n",
      "Input : Dosa salaput hulu = loba pisan dosa.\n",
      "Output: Dosa/UNK salaput/UNK hulu/KB loba/UNK pisan/UNK dosa/UNK\n",
      "\n",
      "Input : Dug hulu pet nyawa = digawé beurat méh taya eureunna.\n",
      "Output: Dug/UNK hulu/KB pet/KP nyawa/UNK digawé/UNK beurat/KS méh/UNK taya/KB eureunna/KB\n",
      "\n",
      "Input : Dug tinetek = il, dug hulu pet nyawa.\n",
      "Output: Dug/UNK tinetek/UNK il/UNK dug/UNK hulu/KB pet/KP nyawa/UNK\n",
      "\n",
      "Input : Duit pait = Duit anu teu meunang dipaké pikeun kapentingan pribadi.\n",
      "Output: Duit/UNK pait/KS Duit/UNK anu/UNK teu/PL meunang/UNK dipaké/UNK pikeun/UNK kapentingan/UNK pribadi/UNK\n",
      "\n",
      "Input : Duit panas = il, duit pait.\n",
      "Output: Duit/UNK panas/UNK il/UNK duit/UNK pait/KS\n",
      "\n",
      "Input : Éléh déét = sanajan teu sapuk jeung haté kapaksa nyaluyuan lantaran karunya.\n",
      "Output: Éléh/UNK déét/UNK sanajan/KPB teu/PL sapuk/KP jeung/UNK haté/UNK kapaksa/UNK nyaluyuan/UNK lantaran/PA karunya/UNK\n",
      "\n",
      "Input : Élmu ajug = élmu nu teu dipaké ku sorangan, ngan ukur dipaké mapatahan batur.\n",
      "Output: Élmu/UNK ajug/UNK élmu/UNK nu/KG teu/PL dipaké/UNK ku/UNK sorangan/PNJ ngan/KT ukur/UNK dipaké/UNK mapatahan/UNK batur/X\n",
      "\n",
      "Input : Élmu tungtut dunya siar, sukan-sukan sakadarna = hirup kudu bari nyiar élmu pikeun kasalametan dunya ahérat, sarta kudu siger tengah.\n",
      "Output: Élmu/UNK tungtut/KT dunya/UNK siar/KP sukan/UNK sukan/UNK sakadarna/UNK hirup/KP kudu/UNK bari/KS nyiar/KP élmu/UNK pikeun/UNK kasalametan/UNK dunya/UNK ahérat/UNK sarta/KPN kudu/UNK siger/KB tengah/KB\n",
      "\n",
      "Input : Élmu sapi = samiuk atawa guyub kana hal anu kurang hadé.\n",
      "Output: Élmu/UNK sapi/UNK samiuk/KS atawa/KPN guyub/UNK kana/UNK hal/UNK anu/UNK kurang/UNK hadé/UNK\n",
      "\n",
      "Input : Embung kalalangkangan = embung kaéléhkeun ku nu séjén.\n",
      "Output: Embung/KB kalalangkangan/UNK embung/KB kaéléhkeun/UNK ku/UNK nu/KG séjén/UNK\n",
      "\n",
      "Input : Éra parada = éra ku lampah batur atawa ku omonganana nu matak aéh.\n",
      "Output: Éra/UNK parada/KB éra/UNK ku/UNK lampah/KB batur/X atawa/KPN ku/UNK omonganana/UNK nu/KG matak/UNK aéh/UNK\n",
      "\n",
      "Input : Euweuh élmu panungtungan = élmu mah moal aya béakna sanajan nepi ka ajal ogé atawa sok aya baé anu leuwih loba élmuna.\n",
      "Output: Euweuh/KP élmu/UNK panungtungan/UNK élmu/UNK mah/UNK moal/KB aya/KP béakna/UNK sanajan/KPB nepi/PA ka/UNK ajal/UNK ogé/UNK atawa/KPN sok/KP aya/KP baé/UNK anu/UNK leuwih/UNK loba/UNK élmuna/UNK\n",
      "\n",
      "Input : Galak sinongnong = mimitina aya sir ka awéwé, tapi can wani adu hareupan.\n",
      "Output: Galak/UNK sinongnong/UNK mimitina/KB aya/KP sir/KB ka/UNK awéwé/UNK tapi/KPN can/PL wani/KS adu/UNK hareupan/UNK\n",
      "\n",
      "Input : Galak timburu = babari timburuan.\n",
      "Output: Galak/UNK timburu/KB babari/KS timburuan/KB\n",
      "\n",
      "Input : Galégéh gado = saréséh, séréwél, soméah, akuan.\n",
      "Output: Galégéh/UNK gado/KB saréséh/UNK séréwél/UNK soméah/UNK akuan/UNK\n",
      "\n",
      "Input : Gancang pincang = pagawéan gancang tapi hasilna teu hadé.\n",
      "Output: Gancang/KS pincang/UNK pagawéan/UNK gancang/KS tapi/KPN hasilna/UNK teu/PL hadé/UNK\n",
      "\n",
      "Input : Gantung déngé = ngarasa hanjakal hayang kénéh ngadéngékeun anggeus mantén.\n",
      "Output: Gantung/UNK déngé/UNK ngarasa/UNK hanjakal/KP hayang/KP kénéh/UNK ngadéngékeun/UNK anggeus/KP mantén/UNK\n",
      "\n",
      "Input : Gantung teureuyeun = ngarasa hanjakal (hanjelu), barang dahar hayang kénéh kapaksa kudu dieureunkeun.\n",
      "Output: Gantung/UNK teureuyeun/KB ngarasa/UNK hanjakal/KP hanjelu/KB barang/UNK dahar/KP hayang/KP kénéh/UNK kapaksa/UNK kudu/UNK dieureunkeun/UNK\n",
      "\n",
      "Input : Garo-garo teu ateul = gagaro tukangeun ceuli lantaran bingung atawa keuheul.\n",
      "Output: Garo/KP garo/KP teu/PL ateul/KP gagaro/UNK tukangeun/UNK ceuli/UNK lantaran/PA bingung/UNK atawa/KPN keuheul/KS\n",
      "\n",
      "Input : Garo singsat = gagaro bari nyingsat lantaran teu sabar atawa ambek.\n",
      "Output: Garo/KP singsat/KB gagaro/UNK bari/KS nyingsat/KB lantaran/PA teu/PL sabar/UNK atawa/KPN ambek/KB\n",
      "\n",
      "Input : Gedé-gedé ngadagé = gedé awak tapi euweuh kawani.\n",
      "Output: Gedé/UNK gedé/UNK ngadagé/UNK gedé/UNK awak/KB tapi/KPN euweuh/KP kawani/KB\n",
      "\n",
      "Input : Gedé gunung pananggeuhan = boga baraya atawa sobat luhur pangkat, gedé dunya anu dipaké andelan pibisaeun nulungan dina perluna.\n",
      "Output: Gedé/UNK gunung/UNK pananggeuhan/UNK boga/KP baraya/KB atawa/KPN sobat/KB luhur/UNK pangkat/UNK gedé/UNK dunya/UNK anu/UNK dipaké/UNK andelan/KS pibisaeun/UNK nulungan/UNK dina/PA perluna/UNK\n",
      "\n",
      "Input : Gedé hulu = adigung.\n",
      "Output: Gedé/UNK hulu/KB adigung/KB\n",
      "\n",
      "Input : Gemah ripah loh jinawi = gegek cacah jiwana sarta raharja.\n",
      "Output: Gemah/UNK ripah/UNK loh/UNK jinawi/UNK gegek/UNK cacah/UNK jiwana/UNK sarta/KPN raharja/UNK\n",
      "\n",
      "Input : Géntlél kéak = méh tara lésot (budak ti indungna), lamun dilésotkeun sok ceurik.\n",
      "Output: Géntlél/UNK kéak/UNK méh/UNK tara/KT lésot/UNK budak/KB ti/KPB indungna/UNK lamun/KPB dilésotkeun/UNK sok/KP ceurik/KP\n",
      "\n",
      "Input : Genténg-genténg ulah potong = sanajan hasilna teu sabaraha keun baé tinimbang luput atawa sanajan gering ripuh ogé muga-muga ulah nepi ka maot, sing cager deui.\n",
      "Output: Genténg/UNK genténg/UNK ulah/PL potong/UNK sanajan/KPB hasilna/UNK teu/PL sabaraha/KT keun/KN baé/UNK tinimbang/PA luput/UNK atawa/KPN sanajan/KPB gering/UNK ripuh/UNK ogé/UNK muga/KN muga/KN ulah/PL nepi/PA ka/UNK maot/UNK sing/KPB cager/KB deui/UNK\n",
      "\n",
      "Input : Gereges-gedebug = ngalampahkeun pagawéan teu karana dipikir panjang heula.\n",
      "Output: Gereges/UNK gedebug/UNK ngalampahkeun/UNK pagawéan/UNK teu/PL karana/UNK dipikir/UNK panjang/UNK heula/KT\n",
      "\n",
      "Input : Gering nangtung = ngalanglayung, ngareunggeuy, henteu gering parna tapi séhat bener ogé henteu deuih.\n",
      "Output: Gering/UNK nangtung/KG ngalanglayung/UNK ngareunggeuy/UNK henteu/PL gering/UNK parna/KB tapi/KPN séhat/UNK bener/KS ogé/UNK henteu/PL deuih/UNK\n",
      "\n",
      "Input : Getes harupateun = babari ambek, babari anggeus-anggeusan.\n",
      "Output: Getes/UNK harupateun/UNK babari/KS ambek/KB babari/KS anggeus/KP anggeusan/KT\n",
      "\n",
      "Input : Geugeut manjahari = nénéh bonténg, ngan henteu nepi ka neunggeul.nénéh bonténg.\n",
      "Output: Geugeut/UNK manjahari/UNK nénéh/UNK bonténg/UNK ngan/KT henteu/PL nepi/PA ka/UNK neunggeul/UNK nénéh/UNK bonténg/UNK\n",
      "\n",
      "Input : Geus apal luar jerona = geus nyaho kana kalakuan jeung tabéat jalma.\n",
      "Output: Geus/KBT apal/UNK luar/UNK jerona/UNK geus/KBT nyaho/KP kana/UNK kalakuan/UNK jeung/UNK tabéat/UNK jalma/UNK\n",
      "\n",
      "Input : Geus aya dina pésak = kakeupeul, geus kanyahoan rusiahna.\n",
      "Output: Geus/KBT aya/KP dina/PA pésak/UNK kakeupeul/UNK geus/KBT kanyahoan/KB rusiahna/KB\n",
      "\n",
      "Input : Geus aya kembang-kembangna = geus aya hal-hal anu nimbulkeun harepan kana hasil maksud.\n",
      "Output: Geus/KBT aya/KP kembang/KB kembangna/KB geus/KBT aya/KP hal/UNK hal/UNK anu/UNK nimbulkeun/UNK harepan/KB kana/UNK hasil/UNK maksud/UNK\n",
      "\n",
      "Input : Geus bijil bulu mayang = geus balég, geus mimiti begér (lalaki).\n",
      "Output: Geus/KBT bijil/KP bulu/UNK mayang/UNK geus/KBT balég/UNK geus/KBT mimiti/KP begér/KB lalaki/UNK\n",
      "\n",
      "Input : Geus cueut ka hareup = geus kolot, geus liwat tengah tuwuh.\n",
      "Output: Geus/KBT cueut/UNK ka/UNK hareup/KS geus/KBT kolot/KS geus/KBT liwat/KP tengah/KB tuwuh/KP\n",
      "\n",
      "Input : Geus karasa pait peuheur-na = geus kaalaman sagala rupa nu teu ngeunahna atawa nu matak susah.\n",
      "Output: Geus/KBT karasa/UNK pait/KS peuheur/UNK na/KN geus/KBT kaalaman/UNK sagala/UNK rupa/UNK nu/KG teu/PL ngeunahna/KB atawa/KPN nu/KG matak/UNK susah/UNK\n",
      "\n",
      "Input : Geus labuh bandéra = geus diputus (perkara).\n",
      "Output: Geus/KBT labuh/KP bandéra/UNK geus/KBT diputus/UNK perkara/UNK\n",
      "\n",
      "Input : Geura mageuhan cangcut tali wanda = geura saged pikeun bajuang.\n",
      "Output: Geura/KS mageuhan/UNK cangcut/UNK tali/KB wanda/UNK geura/KS saged/KP pikeun/UNK bajuang/UNK\n",
      "\n",
      "Input : Geus nyanghulu ngalér = geus maot.\n",
      "Output: Geus/KBT nyanghulu/UNK ngalér/UNK geus/KBT maot/UNK\n",
      "\n",
      "Input : Geus turun amis cau = geus mangkat begér (awéwé).\n",
      "Output: Geus/KBT turun/UNK amis/KB cau/KB geus/KBT mangkat/UNK begér/KB awéwé/UNK\n",
      "\n",
      "Input : Gindi pikir belang bayah = goréng haté.\n",
      "Output: Gindi/UNK pikir/UNK belang/UNK bayah/KB goréng/UNK haté/UNK\n",
      "\n",
      "Input : Ginding bangbara = resep gigindingan jeung royal ngarah katénjo ku batur, tapi ari di imah kékéréhét.\n",
      "Output: Ginding/KP bangbara/KB resep/UNK gigindingan/UNK jeung/UNK royal/UNK ngarah/UNK katénjo/UNK ku/UNK batur/X tapi/KPN ari/KPB di/UNK imah/UNK kékéréhét/UNK\n",
      "\n",
      "Input : Ginding kakampis = ginding tapi teu boga duit.\n",
      "Output: Ginding/KP kakampis/UNK ginding/KP tapi/KPN teu/PL boga/KP duit/UNK\n",
      "\n",
      "Input : Goong saba karia = nu datang sorangan ka nu kariaan, teu karana diondang atawa dicorok gawé, malar katitah ngarah milu seubeuh baranghakan.\n",
      "Output: Goong/UNK saba/KB karia/UNK nu/KG datang/UNK sorangan/PNJ ka/UNK nu/KG kariaan/KB teu/PL karana/UNK diondang/UNK atawa/KPN dicorok/UNK gawé/UNK malar/KPB katitah/UNK ngarah/UNK milu/UNK seubeuh/KS baranghakan/UNK\n",
      "\n",
      "Input : Goréng peu-jit = goréng haté.\n",
      "Output: Goréng/UNK peu/UNK jit/UNK goréng/UNK haté/UNK\n",
      "\n",
      "Input : Goréng sisit = goréng milik\n",
      "Output: Goréng/UNK sisit/KB goréng/UNK milik/KB\n",
      "\n",
      "Input : Gugon tuhon = kukuh, satuhu, boh ka dunungan, boh kana kabiasaan atawa kapercayaan.\n",
      "Output: Gugon/UNK tuhon/UNK kukuh/KS satuhu/UNK boh/UNK ka/UNK dunungan/KB boh/UNK kana/UNK kabiasaan/UNK atawa/KPN kapercayaan/UNK\n",
      "\n",
      "Input : Gulak-giluk kari tuur, hérang-hérang kari mata, teuas-teuas kari bincurang = Asal beunghar jadi miskin, teu boga naon-naon nu aya hargana.\n",
      "Output: Gulak/UNK giluk/UNK kari/KB tuur/KB hérang/UNK hérang/UNK kari/KB mata/UNK teuas/KS teuas/KS kari/KB bincurang/KB Asal/UNK beunghar/KS jadi/KP miskin/KS teu/PL boga/KP naon/KG naon/KG nu/KG aya/KP hargana/UNK\n",
      "\n",
      "Input : Gunung tanpa tutugan sagara tanpa tepi = taya wates wangenna.\n",
      "Output: Gunung/UNK tanpa/UNK tutugan/KB sagara/KB tanpa/UNK tepi/KB taya/KB wates/KB wangenna/KB\n",
      "\n",
      "Input : Gurat batu = kukuh, teguh tangtungan.\n",
      "Output: Gurat/KN batu/UNK kukuh/KS teguh/KS tangtungan/UNK\n",
      "\n",
      "Input : Pa Ohlé mah jalma gurat batu, moal beunang kapangaruhan ku nu teu pararuguh.\n",
      "Output: Pa/UNK Ohlé/UNK mah/UNK jalma/UNK gurat/KN batu/UNK moal/KB beunang/KN kapangaruhan/KB ku/UNK nu/KG teu/PL pararuguh/UNK\n",
      "\n",
      "Input : Gurat cai = teu puguh jangjina, sok robah tangtungan.\n",
      "Output: Gurat/KN cai/KB teu/PL puguh/UNK jangjina/UNK sok/KP robah/UNK tangtungan/UNK\n",
      "\n",
      "Input : Hadé gogog hadé tagog = hadé basa, budi parangi, jeung sikep nyaho tata-titi.\n",
      "Output: Hadé/UNK gogog/UNK hadé/UNK tagog/KB hadé/UNK basa/KB budi/UNK parangi/KB jeung/UNK sikep/KB nyaho/KP tata/KS titi/UNK\n",
      "\n",
      "Input : Hadé ku omong goréng ku omong = sagala rupa perkara biasana dianggap hadé atawa goréng ku batur gumantung kana caritaan urang atawa kana basa anu dipaké ku urang.\n",
      "Output: Hadé/UNK ku/UNK omong/UNK goréng/UNK ku/UNK omong/UNK sagala/UNK rupa/UNK perkara/UNK biasana/UNK dianggap/UNK hadé/UNK atawa/KPN goréng/UNK ku/UNK batur/X gumantung/KB kana/UNK caritaan/UNK urang/KG atawa/KPN kana/UNK basa/KB anu/UNK dipaké/UNK ku/UNK urang/KG\n",
      "\n",
      "Input : Hadé lalambé = alus omongna wungkul, henteu terus jeung haté.\n",
      "Output: Hadé/UNK lalambé/UNK alus/KS omongna/UNK wungkul/KT henteu/PL terus/UNK jeung/UNK haté/UNK\n",
      "\n",
      "Input : Hambur bacot murah congcot = babari nyarékan tapi béréhan.\n",
      "Output: Hambur/UNK bacot/UNK murah/UNK congcot/KB babari/KS nyarékan/UNK tapi/KPN béréhan/UNK\n",
      "\n",
      "Input : Hampang birit = daékan (dititah).\n",
      "Output: Hampang/KS birit/KB daékan/UNK dititah/UNK\n",
      "\n",
      "Input : Hampang leungeun = gampang jeung resep teuteunggeul.\n",
      "Output: Hampang/KS leungeun/UNK gampang/KS jeung/UNK resep/UNK teuteunggeul/UNK\n",
      "\n",
      "Input : Handap asor = daék ngahargaan atawa ngahormat ka batur.\n",
      "Output: Handap/KB asor/KS daék/UNK ngahargaan/UNK atawa/KPN ngahormat/UNK ka/UNK batur/X\n",
      "\n",
      "Input : Handap lanyap = hormat tapi matak nyeuntug kana haté.\n",
      "Output: Handap/KB lanyap/UNK hormat/UNK tapi/KPN matak/UNK nyeuntug/UNK kana/UNK haté/UNK\n",
      "\n",
      "Input : Hapa héman = taya panarima, taya pamales budi ka nu geus nyieun kahadéan.\n",
      "Output: Hapa/UNK héman/UNK taya/KB panarima/UNK taya/KB pamales/UNK budi/UNK ka/UNK nu/KG geus/KBT nyieun/UNK kahadéan/UNK\n",
      "\n",
      "Input : Hapa hui = teu jamuga.\n",
      "Output: Hapa/UNK hui/KB teu/PL jamuga/UNK\n",
      "\n",
      "Input : Hapa-hapa ogé ranggeuyan = miskin-miskin ogé boga salaki.\n",
      "Output: Hapa/UNK hapa/UNK ogé/UNK ranggeuyan/UNK miskin/KS miskin/KS ogé/UNK boga/KP salaki/KB\n",
      "\n",
      "Input : Hareleng jangkung = kacida jangkungna.\n",
      "Output: Hareleng/UNK jangkung/UNK kacida/KT jangkungna/UNK\n",
      "\n",
      "Input : Haréwos bojong = omongan anu diharéwoskeun tapi kadéngé ku nu deukeut ka nu diharéwosan.\n",
      "Output: Haréwos/UNK bojong/KB omongan/UNK anu/UNK diharéwoskeun/UNK tapi/KPN kadéngé/UNK ku/UNK nu/KG deukeut/KS ka/UNK nu/KG diharéwosan/UNK\n",
      "\n",
      "Input : Harigu manukeun = harigu jelema anu nonjol ka hareup.\n",
      "Output: Harigu/UNK manukeun/UNK harigu/UNK jelema/UNK anu/UNK nonjol/UNK ka/UNK hareup/KS\n",
      "\n",
      "Input : Haripeut ku teuteureuyeun = gampang kagoda ku dibibita\n",
      "Output: Haripeut/KB ku/UNK teuteureuyeun/UNK gampang/KS kagoda/UNK ku/UNK dibibita/UNK\n",
      "\n",
      "Input : Harus omong batan goong = béja nu ngandung pitenah (sensasi) gancang pisan sumebarna bari jeung sok ditarambahan.\n",
      "Output: Harus/KP omong/UNK batan/PA goong/UNK béja/UNK nu/KG ngandung/UNK pitenah/UNK sensasi/UNK gancang/KS pisan/UNK sumebarna/UNK bari/KS jeung/UNK sok/KP ditarambahan/UNK\n",
      "\n",
      "Input : Haseum budi = leuwih loba bacod jeung cambertut batan seuri atawa marahmay. Sabalikna tina amis budi.\n",
      "Output: Haseum/KN budi/UNK leuwih/UNK loba/UNK bacod/UNK jeung/UNK cambertut/UNK batan/PA seuri/KP atawa/KPN marahmay/UNK Sabalikna/UNK tina/PA amis/KB budi/UNK\n",
      "\n",
      "Input : Haseum kawas cuka bibit = kurawéud haseum, teu méré budi pisan.\n",
      "Output: Haseum/KN kawas/PA cuka/UNK bibit/UNK kurawéud/UNK haseum/KN teu/PL méré/UNK budi/UNK pisan/UNK\n",
      "\n",
      "Input : Hawara biwir = resep ngabéja-béjakeun perkara anu tacan tangtu bakal dilaksanakeun atawa hal anu lila kénéh kana waktu dilaksanakeunana.\n",
      "Output: Hawara/UNK biwir/KB resep/UNK ngabéja/UNK béjakeun/UNK perkara/UNK anu/UNK tacan/PL tangtu/KP bakal/UNK dilaksanakeun/UNK atawa/KPN hal/UNK anu/UNK lila/UNK kénéh/UNK kana/UNK waktu/UNK dilaksanakeunana/UNK\n",
      "\n",
      "Input : Hayang leuwih jadi léwéh = hayang untung kalah rugi.\n",
      "Output: Hayang/KP leuwih/UNK jadi/KP léwéh/UNK hayang/KP untung/UNK kalah/UNK rugi/UNK\n",
      "\n",
      "Input : Hayang untung kalah buntung =hayang leuwih kalah léwéh.\n",
      "Output: Hayang/KP untung/UNK kalah/UNK buntung/UNK hayang/KP leuwih/UNK kalah/UNK léwéh/UNK\n",
      "\n",
      "Input : Héjo cokor badag sambel = dusun pisan.\n",
      "Output: Héjo/UNK cokor/UNK badag/KS sambel/KB dusun/UNK pisan/UNK\n",
      "\n",
      "Input : Héjo tihang = teu céehan, resep pipindahan (imah) atawa gunta ganti pagawéan.\n",
      "Output: Héjo/UNK tihang/KB teu/PL céehan/UNK resep/UNK pipindahan/UNK imah/UNK atawa/KPN gunta/UNK ganti/UNK pagawéan/UNK\n",
      "\n",
      "Input : Henteu cai hérang-hérang acan = teu disuguhan nanaon.\n",
      "Output: Henteu/PL cai/KB hérang/UNK hérang/UNK acan/PL teu/PL disuguhan/UNK nanaon/UNK\n",
      "\n",
      "Input : Henteu jingjing henteu bawa = teu mawa oléh-oléh keur nu dijujug.\n",
      "Output: Henteu/PL jingjing/UNK henteu/PL bawa/UNK teu/PL mawa/UNK oléh/UNK oléh/UNK keur/UNK nu/KG dijujug/UNK\n",
      "\n",
      "Input : Henteu unggut kalinduan henteu gedag kaanginan = pageuh nyekel tangtungan sorangan, henteu kapangaruhan ku ruruba. jsté.\n",
      "Output: Henteu/PL unggut/KB kalinduan/UNK henteu/PL gedag/KB kaanginan/UNK pageuh/KP nyekel/UNK tangtungan/UNK sorangan/PNJ henteu/PL kapangaruhan/KB ku/UNK ruruba/KB jsté/UNK\n",
      "\n",
      "Input : Hérang caina beunang laukna = hasil maksud ku jalan badami, henteu ku paksa pirusa.\n",
      "Output: Hérang/UNK caina/KB beunang/KN laukna/UNK hasil/UNK maksud/UNK ku/UNK jalan/UNK badami/KP henteu/PL ku/UNK paksa/UNK pirusa/UNK\n",
      "\n",
      "Input : Hésé capé teu kapaké = hanas ceuk rarasaan mah gawé téh soson-soson, ari hég dianggap salah ku dunungan atawa hasilna mubadir.\n",
      "Output: Hésé/UNK capé/UNK teu/PL kapaké/UNK hanas/UNK ceuk/UNK rarasaan/UNK mah/UNK gawé/UNK téh/UNK soson/KT soson/KT ari/KPB hég/UNK dianggap/UNK salah/UNK ku/UNK dunungan/KB atawa/KPN hasilna/UNK mubadir/KS\n",
      "\n",
      "Input : Heunceut ucingeun = babari reuneuh.\n",
      "Output: Heunceut/UNK ucingeun/KB babari/KS reuneuh/UNK\n",
      "\n",
      "Input : Heuras genggerong = teu bisa ngeunahkeun haté batur ku omongan.\n",
      "Output: Heuras/KS genggerong/KB teu/PL bisa/UNK ngeunahkeun/UNK haté/UNK batur/X ku/UNK omongan/UNK\n",
      "\n",
      "Input : Heureut pakeun = teu réa kaboga, saeutik pangasilan.\n",
      "Output: Heureut/KS pakeun/KB teu/PL réa/UNK kaboga/UNK saeutik/UNK pangasilan/KB\n",
      "\n",
      "Input : Heurin ku létah = teu bisa nyaritakeun perkara kasalahan batur, lantaran bisa aya nyatana ka ditu ka dieu.\n",
      "Output: Heurin/UNK ku/UNK létah/UNK teu/PL bisa/UNK nyaritakeun/UNK perkara/UNK kasalahan/UNK batur/X lantaran/PA bisa/UNK aya/KP nyatana/UNK ka/UNK ditu/KP ka/UNK dieu/UNK\n",
      "\n",
      "Input : Heueuh-heueuh bueuk = nyebut heueuh atawa mupakat tapi teu terus jeung haté.\n",
      "Output: Heueuh/PL heueuh/PL bueuk/UNK nyebut/UNK heueuh/PL atawa/KPN mupakat/KB tapi/KPN teu/PL terus/UNK jeung/UNK haté/UNK\n",
      "\n",
      "Input : Hideung ogé buah manggu, matak tigurawil bajing = sanajan luarna teu pikabitaeun, tapi jerona mah matak deudeuieun.\n",
      "Output: Hideung/KS ogé/UNK buah/UNK manggu/UNK matak/UNK tigurawil/UNK bajing/UNK sanajan/KPB luarna/UNK teu/PL pikabitaeun/UNK tapi/KPN jerona/UNK mah/UNK matak/UNK deudeuieun/UNK\n",
      "\n",
      "Input : Hirup dinuhun paéh dirampés = pasrah sumerah kana kersa Nu Maha Kawasa, lantaran geus béak déngkak.\n",
      "Output: Hirup/KP dinuhun/UNK paéh/UNK dirampés/UNK pasrah/KP sumerah/UNK kana/UNK kersa/KP Nu/KG Maha/UNK Kawasa/KB lantaran/PA geus/KBT béak/UNK déngkak/UNK\n",
      "\n",
      "Input : Hirup katungkul ku pati = hirup diungtungan ku maot.\n",
      "Output: Hirup/KP katungkul/UNK ku/UNK pati/KB hirup/KP diungtungan/UNK ku/UNK maot/UNK\n",
      "\n",
      "Input : Hirup ku ibun gedé ku poé = sasat cuewuh nu ngurus, hirup kalantar.\n",
      "Output: Hirup/KP ku/UNK ibun/UNK gedé/UNK ku/UNK poé/UNK sasat/KPN cuewuh/UNK nu/KG ngurus/UNK hirup/KP kalantar/UNK\n",
      "\n",
      "Input : Hirup ku panyukup gedé ku paméré = euweuh gadag, teu daék atawa teu bisa usaha sorangan.\n",
      "Output: Hirup/KP ku/UNK panyukup/UNK gedé/UNK ku/UNK paméré/UNK euweuh/KP gadag/KB teu/PL daék/UNK atawa/KPN teu/PL bisa/UNK usaha/UNK sorangan/PNJ\n",
      "\n",
      "Input : Hirup ramijud = hirup henteu ngalagu atawa henteu ngaleujeur lantaran numbuk di sué (taya kamarasaran).\n",
      "Output: Hirup/KP ramijud/UNK hirup/KP henteu/PL ngalagu/UNK atawa/KPN henteu/PL ngaleujeur/UNK lantaran/PA numbuk/KB di/UNK sué/UNK taya/KB kamarasaran/UNK\n",
      "\n",
      "Input : Hirup teu neut paéh teu hos = terus-terusan gering ripuh, tapi teu maot hirup teu walagri terus-terusan.\n",
      "Output: Hirup/KP teu/PL neut/KB paéh/UNK teu/PL hos/UNK terus/UNK terusan/UNK gering/UNK ripuh/UNK tapi/KPN teu/PL maot/UNK hirup/KP teu/PL walagri/KS terus/UNK terusan/UNK\n",
      "\n",
      "Input : Huap hiji diduakeun = ngirit-ngirit sagala kaperluan sapopoé, supaya bisa nyumponan kaperluan anak atawa saha baé anu perlu dibélaan.\n",
      "Output: Huap/UNK hiji/WIL diduakeun/UNK ngirit/UNK ngirit/UNK sagala/UNK kaperluan/UNK sapopoé/UNK supaya/PA bisa/UNK nyumponan/UNK kaperluan/UNK anak/UNK atawa/KPN saha/KG baé/UNK anu/UNK perlu/UNK dibélaan/UNK\n",
      "\n",
      "Input : Hudang pineuh = teu jongjon saré atawa ngedeng (nu gering).\n",
      "Output: Hudang/KP pineuh/UNK teu/PL jongjon/UNK saré/UNK atawa/KPN ngedeng/UNK nu/KG gering/UNK\n",
      "\n",
      "Input : Hudang tineuh =hudang pineuh.\n",
      "Output: Hudang/KP tineuh/UNK hudang/KP pineuh/UNK\n",
      "\n",
      "Input : Hujan cipanon = loba ceurik.\n",
      "Output: Hujan/UNK cipanon/UNK loba/UNK ceurik/KP\n",
      "\n",
      "Input : Hulu peutieun = jelema anu leutik teuing sirahna henteu surup jeung awakna.\n",
      "Output: Hulu/KB peutieun/KB jelema/UNK anu/UNK leutik/UNK teuing/KT sirahna/KB henteu/PL surup/KS jeung/UNK awakna/KB\n",
      "\n",
      "Input : Hirup gusti waras abdi = jaman féodal, raja senang sarta mulya rakyat cageur.\n",
      "Output: Hirup/KP gusti/UNK waras/UNK abdi/UNK jaman/UNK féodal/UNK raja/KS senang/UNK sarta/KPN mulya/KN rakyat/UNK cageur/UNK\n",
      "\n",
      "Input : Hurung nangtung siang leumpang = beunghar sarta dipaké ngaginding.\n",
      "Output: Hurung/KP nangtung/KG siang/KB leumpang/UNK beunghar/KS sarta/KPN dipaké/UNK ngaginding/UNK\n",
      "\n",
      "Input : Hutang-hatong = nyapirakeun hutang, daék bayar henteu entong.\n",
      "Output: Hutang/UNK hatong/UNK nyapirakeun/UNK hutang/UNK daék/UNK bayar/UNK henteu/PL entong/PL\n",
      "\n",
      "Input : Hutang salaput hulu = loba pisan hutang nepi ka samar bisa kabayar.\n",
      "Output: Hutang/UNK salaput/UNK hulu/KB loba/UNK pisan/UNK hutang/UNK nepi/PA ka/UNK samar/UNK bisa/UNK kabayar/UNK\n",
      "\n",
      "Input : Hutang uyah bayar uyah, hutang nyeri bayar nyeri = amal perbuatan sok aya wawalesna.\n",
      "Output: Hutang/UNK uyah/KB bayar/UNK uyah/KB hutang/UNK nyeri/KS bayar/UNK nyeri/KS amal/UNK perbuatan/UNK sok/KP aya/KP wawalesna/KB\n",
      "\n",
      "Input : Ieu aing = angkuh, sombong, adigung.\n",
      "Output: Ieu/PNJ aing/KG angkuh/KS sombong/UNK adigung/KB\n",
      "\n",
      "Input : Igana kawas rambang = ragas, kacida kuruna nepi ka kaciri tulang-tulang igana.\n",
      "Output: Igana/UNK kawas/PA rambang/UNK ragas/UNK kacida/KT kuruna/UNK nepi/PA ka/UNK kaciri/UNK tulang/UNK tulang/UNK igana/UNK\n",
      "\n",
      "Input : Ilang-along margahina = katunaan, kakurangan.\n",
      "Output: Ilang/UNK along/UNK margahina/UNK katunaan/UNK kakurangan/UNK\n",
      "\n",
      "Input : Ilang lebih tanpa karana = leungit teu puguh sababna.\n",
      "Output: Ilang/UNK lebih/UNK tanpa/UNK karana/UNK leungit/UNK teu/PL puguh/UNK sababna/UNK\n",
      "\n",
      "Input : Indit sirib = indit saréréa sacusi imah.\n",
      "Output: Indit/UNK sirib/KB indit/UNK saréréa/UNK sacusi/UNK imah/UNK\n",
      "\n",
      "Input : Indung hukum bapa darigama = papagon nagara jeung agama.\n",
      "Output: Indung/UNK hukum/UNK bapa/UNK darigama/UNK papagon/UNK nagara/KB jeung/UNK agama/UNK\n",
      "\n",
      "Input : Indung suku gé moal dibéjaan = niat pageuh nyekel rasiah (baraya anu landes ogé moal dibéjaan).\n",
      "Output: Indung/UNK suku/KB gé/UNK moal/KB dibéjaan/UNK niat/UNK pageuh/KP nyekel/UNK rasiah/UNK baraya/KB anu/UNK landes/KS ogé/UNK moal/KB dibéjaan/UNK\n",
      "\n",
      "Input : Indung tunggul rahayu, bapa tunggal darajat = kasalametan jeung kabagjaan nu jadi anak gumantung kana karidoan jeung doa indung-bapa.\n",
      "Output: Indung/UNK tunggul/KB rahayu/UNK bapa/UNK tunggal/UNK darajat/UNK kasalametan/UNK jeung/UNK kabagjaan/KB nu/KG jadi/KP anak/UNK gumantung/KB kana/UNK karidoan/UNK jeung/UNK doa/UNK indung/UNK bapa/UNK\n",
      "\n",
      "Input : Inggis batan maut hinis = kacida inggisna atawa paurna, sok sieun salah ucap.\n",
      "Output: Inggis/UNK batan/PA maut/UNK hinis/KB kacida/KT inggisna/UNK atawa/KPN paurna/UNK sok/KP sieun/KP salah/UNK ucap/UNK\n",
      "\n",
      "Input : Inggis ku bisi rémpan ku sugan = sieun aya kajadian nu teu disangka-sangka.\n",
      "Output: Inggis/UNK ku/UNK bisi/KPB rémpan/UNK ku/UNK sugan/KT sieun/KP aya/KP kajadian/KB nu/KG teu/PL disangka/UNK sangka/UNK\n",
      "\n",
      "Input : Inggis ku bisi rémpan ku basa =inggis ku bisi rémpan ku sugan.\n",
      "Output: Inggis/UNK ku/UNK bisi/KPB rémpan/UNK ku/UNK basa/KB inggis/UNK ku/UNK bisi/KPB rémpan/UNK ku/UNK sugan/KT\n",
      "\n",
      "Input : Ipis biwir = épés méér, babari ceurik.\n",
      "Output: Ipis/UNK biwir/KB épés/UNK méér/UNK babari/KS ceurik/KP\n",
      "\n",
      "Input : Ipis wiwirang = kurang kaéra.\n",
      "Output: Ipis/UNK wiwirang/UNK kurang/UNK kaéra/UNK\n",
      "\n",
      "Input : Jadi cikal bugang = pangheulana kasambut di pangperangan.\n",
      "Output: Jadi/KP cikal/KN bugang/KB pangheulana/UNK kasambut/KP di/UNK pangperangan/UNK\n",
      "\n",
      "Input : Jadi dogdog pangréwong = teu boga tugas penting, sakadar bunta-bantu.\n",
      "Output: Jadi/KP dogdog/UNK pangréwong/UNK teu/PL boga/KP tugas/UNK penting/UNK sakadar/KT bunta/UNK bantu/UNK\n",
      "\n",
      "Input : Jadi kulit jadi daging = jadi kabiasaan nu hésé dipiccunna.\n",
      "Output: Jadi/KP kulit/UNK jadi/KP daging/UNK jadi/KP kabiasaan/UNK nu/KG hésé/UNK dipiccunna/UNK\n",
      "\n",
      "Input : Jadi sabiwir hiji = jadi omong (carita) saréréa, atawa padamuji, padagaleman lantaran kahadéanana.\n",
      "Output: Jadi/KP sabiwir/UNK hiji/WIL jadi/KP omong/UNK carita/UNK saréréa/UNK atawa/KPN padamuji/UNK padagaleman/UNK lantaran/PA kahadéanana/UNK\n",
      "\n",
      "Input : Jadi sendén kalémékan = jadi tungtung saur.\n",
      "Output: Jadi/KP sendén/UNK kalémékan/UNK jadi/KP tungtung/UNK saur/KB\n",
      "\n",
      "Input : Jadi sénéén kalémékan Ahad kacapangan =jadi sendén kalémékan.\n",
      "Output: Jadi/KP sénéén/UNK kalémékan/UNK Ahad/UNK kacapangan/KB jadi/KP sendén/UNK kalémékan/UNK\n",
      "\n",
      "Input : Jajar pasar = sedeng tegepna, teu pati geulis, tapi teu kasebut goréng patut.\n",
      "Output: Jajar/UNK pasar/UNK sedeng/KBT tegepna/KB teu/PL pati/KB geulis/UNK tapi/KPN teu/PL kasebut/UNK goréng/UNK patut/KS\n",
      "\n",
      "Input : Jalma cepet bener = satia, jujur, tara linyok bohong.\n",
      "Output: Jalma/UNK cepet/KS bener/KS satia/KS jujur/UNK tara/KT linyok/UNK bohong/UNK\n",
      "\n",
      "Input : Jalma masagi = jelema boga, réa kabisa turunan hadé.\n",
      "Output: Jalma/UNK masagi/UNK jelema/UNK boga/KP réa/UNK kabisa/UNK turunan/UNK hadé/UNK\n",
      "\n",
      "Input : Jalma notorogan = jalma anu boga lampah teu pantes pikacuaeun.\n",
      "Output: Jalma/UNK notorogan/UNK jalma/UNK anu/UNK boga/KP lampah/KB teu/PL pantes/KS pikacuaeun/UNK\n",
      "\n",
      "Input : Jaman bedil sundut = jaman baheula.\n",
      "Output: Jaman/UNK bedil/UNK sundut/KB jaman/UNK baheula/KB\n",
      "\n",
      "Input : Jaman cacing dua saduit = jaman baheula pisan.\n",
      "Output: Jaman/UNK cacing/UNK dua/UNK saduit/UNK jaman/UNK baheula/KB pisan/UNK\n",
      "\n",
      "Input : Jaman tai kotok dilebuan =jaman cacing dua saduit.\n",
      "Output: Jaman/UNK tai/KB kotok/KB dilebuan/UNK jaman/UNK cacing/UNK dua/UNK saduit/UNK\n",
      "\n",
      "Input : Jaman kuda ngégél beusi =jaman cacing dua saduit.\n",
      "Output: Jaman/UNK kuda/UNK ngégél/UNK beusi/KB jaman/UNK cacing/UNK dua/UNK saduit/UNK\n",
      "\n",
      "Input : Jauh ka bedug = dusun, kampungan.\n",
      "Output: Jauh/UNK ka/UNK bedug/KB dusun/UNK kampungan/UNK\n",
      "\n",
      "Input : Jauh-jauh panjang gagang = hanas jauh-jauh geus dijujug, ari pék teu hasil maksud.\n",
      "Output: Jauh/UNK jauh/UNK panjang/UNK gagang/UNK hanas/UNK jauh/UNK jauh/UNK geus/KBT dijujug/UNK ari/KPB pék/UNK teu/PL hasil/UNK maksud/UNK\n",
      "\n",
      "Input : Jauh ka bedug carang ka dayeuh = dusun, teu nyaho di tata adat.\n",
      "Output: Jauh/UNK ka/UNK bedug/KB carang/KS ka/UNK dayeuh/KB dusun/UNK teu/PL nyaho/KP di/UNK tata/KS adat/UNK\n",
      "\n",
      "Input : Jauh tanah ka langit = kacida bédana.\n",
      "Output: Jauh/UNK tanah/UNK ka/UNK langit/UNK kacida/KT bédana/UNK\n",
      "\n",
      "Input : Jawadah tutung biritna, sacarana-sacarana = adat kebiasaan tidak sama di mana-mana, setiap bangsa atau keturunan punya adat yang berbeda.\n",
      "Output: Jawadah/UNK tutung/KS biritna/KB sacarana/UNK sacarana/UNK adat/UNK kebiasaan/UNK tidak/UNK sama/UNK di/UNK mana/UNK mana/UNK setiap/UNK bangsa/UNK atau/UNK keturunan/UNK punya/UNK adat/UNK yang/UNK berbeda/UNK\n",
      "\n",
      "Input : Jelema balung tunggal = jelema bedas pisan (orang yang sangat kuat).\n",
      "Output: Jelema/UNK balung/UNK tunggal/UNK jelema/UNK bedas/KS pisan/UNK orang/UNK yang/UNK sangat/UNK kuat/UNK\n",
      "\n",
      "Input : Jelema bangkarak = jelema nu geus taya gunana pikeun hirup kumbuh (orang yang sudah tidak berguna lagi).\n",
      "Output: Jelema/UNK bangkarak/KB jelema/UNK nu/KG geus/KBT taya/KB gunana/UNK pikeun/UNK hirup/KP kumbuh/UNK orang/UNK yang/UNK sudah/UNK tidak/UNK berguna/UNK lagi/KT\n",
      "\n",
      "Input : Jelema paséséan = jelema nu kungsi gélo (orang yang pernah gila).\n",
      "Output: Jelema/UNK paséséan/UNK jelema/UNK nu/KG kungsi/UNK gélo/UNK orang/UNK yang/UNK pernah/UNK gila/UNK\n",
      "\n",
      "Input : Jelema sok keuna ku owah gingsir = umumnya jelema mah sok robah tangtunganana, tara kuat nahan gogoda (umumnya orang sering berubah pendirian, tidak kuat menahan godaan).\n",
      "Output: Jelema/UNK sok/KP keuna/KB ku/UNK owah/KB gingsir/KP umumnya/UNK jelema/UNK mah/UNK sok/KP robah/UNK tangtunganana/UNK tara/KT kuat/UNK nahan/UNK gogoda/UNK umumnya/UNK orang/UNK sering/UNK berubah/UNK pendirian/UNK tidak/UNK kuat/UNK menahan/UNK godaan/UNK\n",
      "\n",
      "Input : Jelema teu balég = jelema teu bener (orang tidak benar).\n",
      "Output: Jelema/UNK teu/PL balég/UNK jelema/UNK teu/PL bener/KS orang/UNK tidak/UNK benar/UNK\n",
      "\n",
      "Input : Jelema teu bérés = jelema teu bener ingetana (orang yang pikirannya tidak benar).\n",
      "Output: Jelema/UNK teu/PL bérés/UNK jelema/UNK teu/PL bener/KS ingetana/UNK orang/UNK yang/UNK pikirannya/UNK tidak/UNK benar/UNK\n",
      "\n",
      "Input : Jelema teu eucreug =jelema teu balég (sama dengan jelema teu balég).\n",
      "Output: Jelema/UNK teu/PL eucreug/KS jelema/UNK teu/PL balég/UNK sama/UNK dengan/UNK jelema/UNK teu/PL balég/UNK\n",
      "\n",
      "Input : Jelema kurang saeundan =jelema teu bérés (sama dengan jelema teu bérés).\n",
      "Output: Jelema/UNK kurang/UNK saeundan/UNK jelema/UNK teu/PL bérés/UNK sama/UNK dengan/UNK jelema/UNK teu/PL bérés/UNK\n",
      "\n",
      "Input : Jengkol aya usumna = pikeun nyindiran nu loba ékol (untuk menyindir orang yang banyak akalnya/licik).\n",
      "Output: Jengkol/UNK aya/KP usumna/KB pikeun/UNK nyindiran/UNK nu/KG loba/UNK ékol/UNK untuk/UNK menyindir/UNK orang/UNK yang/UNK banyak/UNK akalnya/UNK licik/UNK\n",
      "\n",
      "Input : Jiga tunggul kahuru = goréng patut.\n",
      "Output: Jiga/UNK tunggul/KB kahuru/UNK goréng/UNK patut/KS\n",
      "\n",
      "Input : Jongjon bontos = junun kana gawé, tara kabéngbat.\n",
      "Output: Jongjon/UNK bontos/KN junun/UNK kana/UNK gawé/UNK tara/KT kabéngbat/UNK\n",
      "\n",
      "Input : Jual dedet = ngajual barang satengah maksa.\n",
      "Output: Jual/UNK dedet/KB ngajual/UNK barang/UNK satengah/UNK maksa/UNK\n",
      "\n",
      "Input : Kabawa ku sakaba-kaba = kabawakeun teu puguh lampah ku batur, kapangaruhan ku batur nepi ka teu eucreug.\n",
      "Output: Kabawa/UNK ku/UNK sakaba/UNK kaba/UNK kabawakeun/UNK teu/PL puguh/UNK lampah/KB ku/UNK batur/X kapangaruhan/KB ku/UNK batur/X nepi/PA ka/UNK teu/PL eucreug/KS\n",
      "\n",
      "Input : Kabedil-langit = kalinglap.\n",
      "Output: Kabedil/UNK langit/UNK kalinglap/UNK\n",
      "\n",
      "Input : Kacanir bangban = kawiwiwangan, meunang kaéra.\n",
      "Output: Kacanir/UNK bangban/KB kawiwiwangan/UNK meunang/UNK kaéra/UNK\n",
      "\n",
      "Input : Kacekel bagal buntutna = katéwak luluguna.\n",
      "Output: Kacekel/UNK bagal/KB buntutna/UNK katéwak/UNK luluguna/UNK\n",
      "\n",
      "Input : Kaceluk ka awun-awun = kawéntar ka mana-mana.\n",
      "Output: Kaceluk/KS ka/UNK awun/UNK awun/UNK kawéntar/UNK ka/UNK mana/UNK mana/UNK\n",
      "\n",
      "Input : Kaduhung tara tiheula = ngarasa hanjakal mah tangtu moal saméméh migawé kasalahan nu matak kudu ati-ati nepi ka ngarasa kaduhung.\n",
      "Output: Kaduhung/KP tara/KT tiheula/UNK ngarasa/UNK hanjakal/KP mah/UNK tangtu/KP moal/KB saméméh/UNK migawé/UNK kasalahan/UNK nu/KG matak/UNK kudu/UNK ati/KB ati/KB nepi/PA ka/UNK ngarasa/UNK kaduhung/KP\n",
      "\n",
      "Input : Kagok asor atawa kagok asong = kapalang geus nyanggupan, teu bisa mundur deui.\n",
      "Output: Kagok/UNK asor/KS atawa/KPN kagok/UNK asong/KP kapalang/KB geus/KBT nyanggupan/UNK teu/PL bisa/UNK mundur/UNK deui/UNK\n",
      "\n",
      "Input : Kahieuman bangkong = siga beunghar lantaran katitipan barang batur.\n",
      "Output: Kahieuman/KB bangkong/KB siga/KB beunghar/KS lantaran/PA katitipan/UNK barang/UNK batur/X\n",
      "\n",
      "Input : Kahieupan jelema sok aya pasang-surudna = nasib jelema mah nu hirup sok aya jayana, sok aya apesna.\n",
      "Output: Kahieupan/UNK jelema/UNK sok/KP aya/KP pasang/UNK surudna/KB nasib/UNK jelema/UNK mah/UNK nu/KG hirup/KP sok/KP aya/KP jayana/UNK sok/KP aya/KP apesna/UNK\n",
      "\n",
      "Input : Kajejek ku hakan = hasil usaha béak dipaké dahar wungkul.\n",
      "Output: Kajejek/UNK ku/UNK hakan/KP hasil/UNK usaha/UNK béak/UNK dipaké/UNK dahar/KP wungkul/KT\n",
      "\n",
      "Input : Kakeueum ku cai togé = éléh pisan ku pamajikan nepi ka di pangnyéwélengkeun gé cicing baé. Pamajikan ngancreud ogé kalah ka diantép.\n",
      "Output: Kakeueum/UNK ku/UNK cai/KB togé/UNK éléh/UNK pisan/UNK ku/UNK pamajikan/KB nepi/PA ka/UNK di/UNK pangnyéwélengkeun/UNK gé/UNK cicing/KB baé/UNK Pamajikan/KB ngancreud/UNK ogé/UNK kalah/UNK ka/UNK diantép/UNK\n",
      "\n",
      "Input : Kalah ka éngkég = kalah ka capé leumpang, hasil henteu.\n",
      "Output: Kalah/UNK ka/UNK éngkég/UNK kalah/UNK ka/UNK capé/UNK leumpang/UNK hasil/UNK henteu/PL\n",
      "\n",
      "Input : Kalapa bijil ti cungap = muka rusiah sorangan kalawan teu dihaja.\n",
      "Output: Kalapa/UNK bijil/KP ti/KPB cungap/UNK muka/KP rusiah/KB sorangan/PNJ kalawan/UNK teu/PL dihaja/UNK\n",
      "\n",
      "Input : Kaliung kasiput = loba baraya anu beunghar, sasat kalingkung.\n",
      "Output: Kaliung/KP kasiput/UNK loba/UNK baraya/KB anu/UNK beunghar/KS sasat/KPN kalingkung/UNK\n",
      "\n",
      "Input : Kapiheulaan ngaluluh taneuh = hudang kabeurangan.\n",
      "Output: Kapiheulaan/UNK ngaluluh/UNK taneuh/KB hudang/KP kabeurangan/KB\n",
      "\n",
      "Input : Kapipit galih, kadudut kalbu = kapincut, bogoh.\n",
      "Output: Kapipit/UNK galih/KB kadudut/UNK kalbu/UNK kapincut/UNK bogoh/KB\n",
      "\n",
      "Input : Kapiring leutik = kaisinan, kaéraan.\n",
      "Output: Kapiring/UNK leutik/UNK kaisinan/UNK kaéraan/UNK\n",
      "\n",
      "Input : Kasép ngalegréng konéng = nya kasép nya ginding.\n",
      "Output: Kasép/UNK ngalegréng/UNK konéng/KB nya/KS kasép/UNK nya/KS ginding/KP\n",
      "\n",
      "Input : Kasuhun kalingga murda = katarima pisan lahir batin.\n",
      "Output: Kasuhun/KP kalingga/UNK murda/PA katarima/UNK pisan/UNK lahir/KP batin/UNK\n",
      "\n",
      "Input : Katempuhan buntut maung = katempuhan kasusah atawa urusan batur.\n",
      "Output: Katempuhan/KP buntut/UNK maung/UNK katempuhan/KP kasusah/UNK atawa/KPN urusan/UNK batur/X\n",
      "\n",
      "Input : Katindih ku kari-kari = katuding pédah aya patalina jeung kajadian nu jadi perkara atawa kasangka boga dosa.\n",
      "Output: Katindih/UNK ku/UNK kari/KB kari/KB katuding/UNK pédah/UNK aya/KP patalina/UNK jeung/UNK kajadian/KB nu/KG jadi/KP perkara/UNK atawa/KPN kasangka/UNK boga/KP dosa/UNK\n",
      "\n",
      "Input : Katerka ku kira-kira =katindih ku kari-kari.\n",
      "Output: Katerka/UNK ku/UNK kira/teu ngira/KP kira/teu ngira/KP katindih/UNK ku/UNK kari/KB kari/KB\n",
      "\n",
      "Input : Katurug katutuh = keur susah katambah ku pikasusaheun deui.\n",
      "Output: Katurug/UNK katutuh/UNK keur/UNK susah/UNK katambah/UNK ku/UNK pikasusaheun/UNK deui/UNK\n",
      "\n",
      "Input : Kandel kulit beungeut = teu boga kaéra.\n",
      "Output: Kandel/UNK kulit/UNK beungeut/KB teu/PL boga/KP kaéra/UNK\n",
      "\n",
      "Input : Kawas aeud = nya goréng budi nya bangor.\n",
      "Output: Kawas/PA aeud/UNK nya/KS goréng/UNK budi/UNK nya/KS bangor/KS\n",
      "\n",
      "Input : Kawas anu teu dibedong = kaluar asup tara meundeutkeun panto.\n",
      "Output: Kawas/PA anu/UNK teu/PL dibedong/UNK kaluar/UNK asup/KP tara/KT meundeutkeun/UNK panto/KB\n",
      "\n",
      "Input : Kawas bayah kuda = belél pisan.\n",
      "Output: Kawas/PA bayah/KB kuda/UNK belél/UNK pisan/UNK\n",
      "\n",
      "Input : Kawas beubeulahan térong = sakarupa pisan siga beubeulahan térong, saperti budak kembar.\n",
      "Output: Kawas/PA beubeulahan/UNK térong/UNK sakarupa/UNK pisan/UNK siga/KB beubeulahan/UNK térong/UNK saperti/UNK budak/KB kembar/KB\n",
      "\n",
      "Input : Kawas beusi atah beuleum = geuncuk (beungeut) jalma nu kacida ambekna.\n",
      "Output: Kawas/PA beusi/KB atah/KS beuleum/KB geuncuk/UNK beungeut/KB jalma/UNK nu/KG kacida/KT ambekna/KB\n",
      "\n",
      "Input : Kawas bodor réog = jelema anu tingkah lakuna pikaseurieun.\n",
      "Output: Kawas/PA bodor/KB réog/UNK jelema/UNK anu/UNK tingkah/UNK lakuna/UNK pikaseurieun/UNK\n",
      "\n",
      "Input : Kawas bueuk beunang mabuk = ngeluk jeung teu wani ngomong lantaran rumasa boga dosa.\n",
      "Output: Kawas/PA bueuk/UNK beunang/KN mabuk/UNK ngeluk/UNK jeung/UNK teu/PL wani/KS ngomong/UNK lantaran/PA rumasa/UNK boga/KP dosa/UNK\n",
      "\n",
      "Input : Kawas bujur aseupan = diuk teu daék cicing.\n",
      "Output: Kawas/PA bujur/KB aseupan/KB diuk/KP teu/PL daék/UNK cicing/KB\n",
      "\n",
      "Input : Kawas carangka runtah = jelema anu sagala beuki jeung gembul.\n",
      "Output: Kawas/PA carangka/KB runtah/KB jelema/UNK anu/UNK sagala/UNK beuki/KT jeung/UNK gembul/UNK\n",
      "\n",
      "Input : Kawas careuh bulan = nu diwedak kandel teuing.\n",
      "Output: Kawas/PA careuh/KB bulan/KB nu/KG diwedak/UNK kandel/UNK teuing/KT\n",
      "\n",
      "Input : Kawas ciduh jeung reuhak = sarua goréngna.\n",
      "Output: Kawas/PA ciduh/UNK jeung/UNK reuhak/UNK sarua/KS goréngna/UNK\n",
      "\n",
      "Input : Kawas congcorang murus = jelema jangkung tapi kacida begangna.\n",
      "Output: Kawas/PA congcorang/UNK murus/KB jelema/UNK jangkung/UNK tapi/KPN kacida/KT begangna/KB\n",
      "\n",
      "Input : Kawas cucurut kaibunan = goréng patut jeung pikarunyaeun.\n",
      "Output: Kawas/PA cucurut/UNK kaibunan/UNK goréng/UNK patut/KS jeung/UNK pikarunyaeun/UNK\n",
      "\n",
      "Input : Kawas dodol bulukan = kulit hideung diwedakan teu rata.\n",
      "Output: Kawas/PA dodol/UNK bulukan/KB kulit/UNK hideung/KS diwedakan/UNK teu/PL rata/UNK\n",
      "\n",
      "Input : Kawas dongéng Si Boséték = gunta-ganti aturan, tapi tetep taya kamajuan.\n",
      "Output: Kawas/PA dongéng/UNK Si/UNK Boséték/UNK gunta/UNK ganti/UNK aturan/UNK tapi/KPN tetep/KP taya/KB kamajuan/UNK\n",
      "\n",
      "Input : Kawas durukan huut = pibahayaeun anu teu kaciri sarta beuki lila beuki gedé.\n",
      "Output: Kawas/PA durukan/KB huut/KB pibahayaeun/UNK anu/UNK teu/PL kaciri/UNK sarta/KPN beuki/KT lila/UNK beuki/KT gedé/UNK\n",
      "\n",
      "Input : Kawas gaang katincak = répéh sapada harita, ngadadak jempling lantaran reuwaseun atawa embung kadéngé ku nu anyar datang.\n",
      "Output: Kawas/PA gaang/KB katincak/UNK répéh/UNK sapada/UNK harita/UNK ngadadak/UNK jempling/UNK lantaran/PA reuwaseun/UNK atawa/KPN embung/KB kadéngé/UNK ku/UNK nu/KG anyar/KS datang/UNK\n",
      "\n",
      "Input : Kawas gateuw = teu bisa liar, lantaran kasakit atawa rarémpo, tapi awak lintuh.\n",
      "Output: Kawas/PA gateuw/UNK teu/PL bisa/UNK liar/UNK lantaran/PA kasakit/UNK atawa/KPN rarémpo/UNK tapi/KPN awak/KB lintuh/UNK\n",
      "\n",
      "Input : Kawas gula jeung peueut = sarua layeutna atawa geugeutna.\n",
      "Output: Kawas/PA gula/UNK jeung/UNK peueut/KB sarua/KS layeutna/UNK atawa/KPN geugeutna/UNK\n",
      "\n",
      "Input : Kawas hayam lamba = bérését taya kawani.\n",
      "Output: Kawas/PA hayam/KB lamba/UNK bérését/UNK taya/KB kawani/KB\n",
      "\n",
      "Input : Kawas hayam panyambungan = talamba-tolombo dina runguan lantaran euweuh nu wawuh.\n",
      "Output: Kawas/PA hayam/KB panyambungan/UNK talamba/UNK tolombo/UNK dina/PA runguan/KB lantaran/PA euweuh/KP nu/KG wawuh/KP\n",
      "\n",
      "Input : Kawas heulang pateuh jangjang = méh teu wala-walaya lantaran teu boga nu diandelkeun.\n",
      "Output: Kawas/PA heulang/UNK pateuh/UNK jangjang/UNK méh/UNK teu/PL wala/UNK walaya/UNK lantaran/PA teu/PL boga/KP nu/KG diandelkeun/UNK\n",
      "\n",
      "Input : Kawas hileud peuteuy = jelema nu ngahalang-halang harep batur.\n",
      "Output: Kawas/PA hileud/KB peuteuy/UNK jelema/UNK nu/KG ngahalang/UNK halang/UNK harep/KT batur/X\n",
      "\n",
      "Input : Kawas himi-himi = méh salilana babarengan duaan, tara daék papisah.\n",
      "Output: Kawas/PA himi/UNK himi/UNK méh/UNK salilana/UNK babarengan/UNK duaan/UNK tara/KT daék/UNK papisah/UNK\n",
      "\n",
      "Input : Kawas jogjog mondok = cékcok, récok, gandéng ku nu babaturanana.\n",
      "Output: Kawas/PA jogjog/UNK mondok/KP cékcok/UNK récok/UNK gandéng/UNK ku/UNK nu/KG babaturanana/UNK\n",
      "\n",
      "Input : Kawas budak rodék hulu = ngahina, kawas ka jelema bodo atawa kawas ka budak nu bolon kénéh.\n",
      "Output: Kawas/PA budak/KB rodék/UNK hulu/KB ngahina/UNK kawas/PA ka/UNK jelema/UNK bodo/UNK atawa/KPN kawas/PA ka/UNK budak/KB nu/KG bolon/KB kénéh/UNK\n",
      "\n",
      "Input : Kawas kacang ninggang kajang = norotos, capétang, bedas (nu biantara atawa nyarékan).\n",
      "Output: Kawas/PA kacang/UNK ninggang/UNK kajang/UNK norotos/UNK capétang/UNK bedas/KS nu/KG biantara/UNK atawa/KPN nyarékan/UNK\n",
      "\n",
      "Input : 332. Kawas kedok bakal = goréng patut pisano.\n",
      "Output: 332/UNK Kawas/PA kedok/UNK bakal/UNK goréng/UNK patut/KS pisano/UNK\n",
      "\n",
      "Input : Kawas kedok rautaneun =kawas kedok bakal.\n",
      "Output: Kawas/PA kedok/UNK rautaneun/UNK kawas/PA kedok/UNK bakal/UNK\n",
      "\n",
      "Input : Kawas langit jeung bumi = kacida bédana.\n",
      "Output: Kawas/PA langit/UNK jeung/UNK bumi/UNK kacida/KT bédana/UNK\n",
      "\n",
      "Input : Kawas lauk asup kana bubu = hésé kaluar tina hiji lingkungan atawa organisasi lantaran katalian ku jangji atawa ku aturan.\n",
      "Output: Kawas/PA lauk/UNK asup/KP kana/UNK bubu/KB hésé/UNK kaluar/UNK tina/PA hiji/WIL lingkungan/UNK atawa/KPN organisasi/UNK lantaran/PA katalian/KB ku/UNK jangji/UNK atawa/KPN ku/UNK aturan/UNK\n",
      "\n",
      "Input : Kawas leungeun nu palid = ngopepang, sagala dicabak atawa dicekel.\n",
      "Output: Kawas/PA leungeun/UNK nu/KG palid/KP ngopepang/KP sagala/UNK dicabak/UNK atawa/KPN dicekel/UNK\n",
      "\n",
      "Input : Kawas maung meunang = biwirna lamokot beureum ku luah.\n",
      "Output: Kawas/PA maung/UNK meunang/UNK biwirna/KB lamokot/UNK beureum/KS ku/UNK luah/UNK\n",
      "\n",
      "Input : Kawas nu dipupul bayu = taya tangan pangawasa, laleuleus pisan.\n",
      "Output: Kawas/PA nu/KG dipupul/UNK bayu/KB taya/KB tangan/UNK pangawasa/UNK laleuleus/UNK pisan/UNK\n",
      "\n",
      "Input : Kawas nu kékéd = teu bisa barangbawa.\n",
      "Output: Kawas/PA nu/KG kékéd/UNK teu/PL bisa/UNK barangbawa/UNK\n",
      "\n",
      "Input : Kawas nu meunang lotré = meunang rejeki gedé (duit) nu teu disangka-sangka.\n",
      "Output: Kawas/PA nu/KG meunang/UNK lotré/UNK meunang/UNK rejeki/UNK gedé/UNK duit/UNK nu/KG teu/PL disangka/UNK sangka/UNK\n",
      "\n",
      "Input : Kawas panyeupahan lalay = belél sarta buruk (kaén).\n",
      "Output: Kawas/PA panyeupahan/UNK lalay/KB belél/UNK sarta/KPN buruk/UNK kaén/UNK\n",
      "\n",
      "Input : Kawas Rama jeung Sinta = nurub cupu, nu kasép jeung nu geulis.\n",
      "Output: Kawas/PA Rama/UNK jeung/UNK Sinta/UNK nurub/UNK cupu/UNK nu/KG kasép/UNK jeung/UNK nu/KG geulis/UNK\n",
      "\n",
      "Input : Kawas siraru jadi = riab ka mana-mana (jelema).\n",
      "Output: Kawas/PA siraru/KN jadi/KP riab/UNK ka/UNK mana/UNK mana/UNK jelema/UNK\n",
      "\n",
      "Input : Kawas tatah = teu hideng sorangan, kudu diutuh-étah baé.\n",
      "Output: Kawas/PA tatah/KB teu/PL hideng/KB sorangan/PNJ kudu/UNK diutuh/UNK étah/UNK baé/UNK\n",
      "\n",
      "Input : Kawas totéd = beuki ngomong, cembéng (budak).\n",
      "Output: Kawas/PA totéd/UNK beuki/KT ngomong/UNK cembéng/UNK budak/KB\n",
      "\n",
      "Input : Kawas tunggul kahuru = goréng patut.\n",
      "Output: Kawas/PA tunggul/KB kahuru/UNK goréng/UNK patut/KS\n",
      "\n",
      "Input : Kawas ucing garong = jalma jahat nu sok ngaranjah imah, sakapeung bari nandasa nu bogana.\n",
      "Output: Kawas/PA ucing/KB garong/UNK jalma/UNK jahat/UNK nu/KG sok/KP ngaranjah/UNK imah/UNK sakapeung/UNK bari/KS nandasa/UNK nu/KG bogana/KB\n",
      "\n",
      "Input : Kawas ucing kumareumbi = sagala dicabak, sagala dicel-kel kawas ucing keur kumincir.\n",
      "Output: Kawas/PA ucing/KB kumareumbi/UNK sagala/UNK dicabak/UNK sagala/UNK dicel/UNK kel/UNK kawas/PA ucing/KB keur/UNK kumincir/KB\n",
      "\n",
      "Input : Kembang buruan = budak sumedeng lucu, sarta geus resep ulin di buruan.\n",
      "Output: Kembang/KB buruan/UNK budak/KB sumedeng/UNK lucu/UNK sarta/KPN geus/KBT resep/UNK ulin/KP di/UNK buruan/UNK\n",
      "\n",
      "Input : Kembang carita = jadi bahan carita nu narik perhatian dina riungan.\n",
      "Output: Kembang/KB carita/UNK jadi/KP bahan/UNK carita/UNK nu/KG narik/UNK perhatian/UNK dina/PA riungan/UNK\n",
      "\n",
      "Input : Keuna ku aén = meunang cocoba lantaran ku panénjo batur (loba teuing nu muji), atawa lara aén.\n",
      "Output: Keuna/KB ku/UNK aén/UNK meunang/UNK cocoba/UNK lantaran/PA ku/UNK panénjo/UNK batur/X loba/UNK teuing/KT nu/KG muji/UNK atawa/KPN lara/KB aén/UNK\n",
      "\n",
      "Input : Keuna ku lara teu keuna ku pati = bisa jadi éléh atawa tatu, tapi moal nepi ka maot.\n",
      "Output: Keuna/KB ku/UNK lara/KB teu/PL keuna/KB ku/UNK pati/KB bisa/UNK jadi/KP éléh/UNK atawa/KPN tatu/KB tapi/KPN moal/KB nepi/PA ka/UNK maot/UNK\n",
      "\n",
      "Input : Keur béntang surem = keur apes.\n",
      "Output: Keur/UNK béntang/UNK surem/UNK keur/UNK apes/UNK\n",
      "\n",
      "Input : Keur meujeuhna bilatung dulang = keur meujeuhna parabaneun (budak).\n",
      "Output: Keur/UNK meujeuhna/KP bilatung/KB dulang/UNK keur/UNK meujeuhna/KP parabaneun/UNK budak/KB\n",
      "\n",
      "Input : Keuyeuup apu = jalma nu éléhan jeung euweuh kahayang.\n",
      "Output: Keuyeuup/UNK apu/UNK jalma/UNK nu/KG éléhan/UNK jeung/UNK euweuh/KP kahayang/UNK\n",
      "\n",
      "Input : Kokod monongeun = teu daék asak, lantaran mindeng dicabakan.\n",
      "Output: Kokod/KB monongeun/KB teu/PL daék/UNK asak/KB lantaran/PA mindeng/KT dicabakan/UNK\n",
      "\n",
      "Input : Kokolot begog = ngomong teu merenah kawas kolot (ka budak atawa budak ngora).\n",
      "Output: Kokolot/KB begog/KB ngomong/UNK teu/PL merenah/KB kawas/PA kolot/KS ka/UNK budak/KB atawa/KPN budak/KB ngora/KS\n",
      "\n",
      "Input : Kokoro manggih mulud = makmak-mekmek, kokomoan ha-rangdahar atawa kukumpul barang, nepi ka poho kana ka-utamaun, kawas jelema kéré dina riungan sidekah Mulud.\n",
      "Output: Kokoro/KB manggih/UNK mulud/KB makmak/UNK mekmek/UNK kokomoan/KT ha/UNK rangdahar/UNK atawa/KPN kukumpul/UNK barang/UNK nepi/PA ka/UNK poho/UNK kana/UNK ka/UNK utamaun/UNK kawas/PA jelema/UNK kéré/UNK dina/PA riungan/UNK sidekah/KB Mulud/KB\n",
      "\n",
      "Input : Kokoro nyénang = némbongkeun pangaboga nu teu saha-raha lantaran hayang kapuji.\n",
      "Output: Kokoro/KB nyénang/UNK némbongkeun/UNK pangaboga/UNK nu/KG teu/PL saha/KG raha/UNK lantaran/PA hayang/KP kapuji/UNK\n",
      "\n",
      "Input : Kokoro nyoso malarat rosa = miskin pisan.\n",
      "Output: Kokoro/KB nyoso/KT malarat/UNK rosa/UNK miskin/KS pisan/UNK\n",
      "\n",
      "Input : Kolot dapuran = kolot nurutkeun pancakaki.\n",
      "Output: Kolot/KS dapuran/UNK kolot/KS nurutkeun/UNK pancakaki/KB\n",
      "\n",
      "Input : Kolot kolotok = kolot tapi euweuh kanyaho, kosong tina élmu pangaweruh.\n",
      "Output: Kolot/KS kolotok/UNK kolot/KS tapi/KPN euweuh/KP kanyaho/UNK kosong/UNK tina/PA élmu/UNK pangaweruh/UNK\n",
      "\n",
      "Input : Kolot pawongan = ngora-ngora siga geus kolot.\n",
      "Output: Kolot/KS pawongan/UNK ngora/KS ngora/KS siga/KB geus/KBT kolot/KS\n",
      "\n",
      "Input : Koréh-koréh cok = usaha jalma leutik, hasilna ngan keur saharitaeun.\n",
      "Output: Koréh/UNK koréh/UNK cok/UNK usaha/UNK jalma/UNK leutik/UNK hasilna/UNK ngan/KT keur/UNK saharitaeun/UNK\n",
      "\n",
      "Input : Kudu bisa ngeureut pakeun = kudu bisa ngajeujeuhkeun rejeki, kudu sina mapat.\n",
      "Output: Kudu/UNK bisa/UNK ngeureut/UNK pakeun/KB kudu/UNK bisa/UNK ngajeujeuhkeun/UNK rejeki/UNK kudu/UNK sina/KPB mapat/UNK\n",
      "\n",
      "Input : Kujang dua pangadékna = usaha anu ngadatangkeun dua kauntungan.\n",
      "Output: Kujang/KB dua/UNK pangadékna/UNK usaha/UNK anu/UNK ngadatangkeun/UNK dua/UNK kauntungan/UNK\n",
      "\n",
      "Input : Kukuh Ciburuy = teu beunang diongget-ongget, teu daék nurut kana paham batur nu leuwih bener.\n",
      "Output: Kukuh/KS Ciburuy/UNK teu/PL beunang/KN diongget/UNK ongget/UNK teu/PL daék/UNK nurut/UNK kana/UNK paham/UNK batur/X nu/KG leuwih/UNK bener/KS\n",
      "\n",
      "Input : Kumaha bulé hideungna = kumaha engké baé buktina.\n",
      "Output: Kumaha/UNK bulé/UNK hideungna/KB kumaha/UNK engké/UNK baé/UNK buktina/UNK\n",
      "\n",
      "Input : Kumaha ceuk nu dibendo = kumaha ceuk pangagung (gegedén) baé.\n",
      "Output: Kumaha/UNK ceuk/UNK nu/KG dibendo/UNK kumaha/UNK ceuk/UNK pangagung/UNK gegedén/UNK baé/UNK\n",
      "\n",
      "Input : Kumaha geletuk batuna kecebur caina = kumaha béhna baé, kumaha engké.\n",
      "Output: Kumaha/UNK geletuk/UNK batuna/UNK kecebur/KB caina/KB kumaha/UNK béhna/UNK baé/UNK kumaha/UNK engké/UNK\n",
      "\n",
      "Input : Kumaha raména pasar = pula-pilu, kumaha guyubna batur jeung balaréa.\n",
      "Output: Kumaha/UNK raména/UNK pasar/UNK pula/UNK pilu/UNK kumaha/UNK guyubna/UNK batur/X jeung/UNK balaréa/UNK\n",
      "\n",
      "Input : Kumis bangbara ngaliang = kumis anu nyeseg kana liang irung.\n",
      "Output: Kumis/UNK bangbara/KB ngaliang/UNK kumis/UNK anu/UNK nyeseg/UNK kana/UNK liang/UNK irung/UNK\n",
      "\n",
      "Input : Kurang jeujeuhan = kurang ati-ati, kurang itungan.\n",
      "Output: Kurang/UNK jeujeuhan/UNK kurang/UNK ati/KB ati/KB kurang/UNK itungan/UNK\n",
      "\n",
      "Input : Kurang saeundan =jelema kurang sacundan.\n",
      "Output: Kurang/UNK saeundan/UNK jelema/UNK kurang/UNK sacundan/UNK\n",
      "\n",
      "Input : Kur'an butut = Dilarapkeun ka turunan ménak, geus kolot, euweuh kaboga, tapi masih kénéh gumedé.\n",
      "Output: Kur/UNK an/UNK butut/UNK Dilarapkeun/UNK ka/UNK turunan/UNK ménak/UNK geus/KBT kolot/KS euweuh/KP kaboga/UNK tapi/KPN masih/UNK kénéh/UNK gumedé/UNK\n",
      "\n",
      "Input : Kuru aking ngajangjawing = kacida kuruna.\n",
      "Output: Kuru/UNK aking/UNK ngajangjawing/UNK kacida/KT kuruna/UNK\n",
      "\n",
      "Input : Kuru cileuh kentél peujit = ngurangan saré, ngurangan dahar, lantaran aya nu dimaksud.\n",
      "Output: Kuru/UNK cileuh/KB kentél/UNK peujit/KB ngurangan/UNK saré/UNK ngurangan/UNK dahar/KP lantaran/PA aya/KP nu/KG dimaksud/UNK\n",
      "\n",
      "Input : Kuru kurulung-kuriling = lara sangsara kadungsang-dungsang.\n",
      "Output: Kuru/UNK kurulung/UNK kuriling/UNK lara/KB sangsara/UNK kadungsang/UNK dungsang/UNK\n",
      "\n",
      "Input : Kurung batok = teu daék lunta ti lembur jadi taya kanyaho.\n",
      "Output: Kurung/UNK batok/KB teu/PL daék/UNK lunta/UNK ti/KPB lembur/UNK jadi/KP taya/KB kanyaho/UNK\n",
      "\n",
      "Input : Laér gado = sok kabitaan ku kadaharan nu aya di batur, caréraman.\n",
      "Output: Laér/UNK gado/KB sok/KP kabitaan/UNK ku/UNK kadaharan/KP nu/KG aya/KP di/UNK batur/X caréraman/UNK\n",
      "\n",
      "Input : Lain lantung tambuh laku lain lentang tanpa béja = lain indit-inditan teu puguh maksud, tapi aya picaeitaeun anu penting.\n",
      "Output: Lain/PL lantung/UNK tambuh/KS laku/UNK lain/PL lentang/KP tanpa/UNK béja/UNK lain/PL indit/UNK inditan/UNK teu/PL puguh/UNK maksud/UNK tapi/KPN aya/KP picaeitaeun/UNK anu/UNK penting/UNK\n",
      "\n",
      "Input : Lain palid ku cikiih = lain jelema sakaba-kaba.\n",
      "Output: Lain/PL palid/KP ku/UNK cikiih/UNK lain/PL jelema/UNK sakaba/UNK kaba/UNK\n",
      "\n",
      "Input : Lalaki kembang kamangi = lalaki teu bisa nyukup pangabutuh rumah tangga.\n",
      "Output: Lalaki/UNK kembang/KB kamangi/UNK lalaki/UNK teu/PL bisa/UNK nyukup/UNK pangabutuh/UNK rumah/UNK tangga/KB\n",
      "\n",
      "Input : Lalaki langit lalalang jagat = lalaki anu gagah perkasa sarta kasép.\n",
      "Output: Lalaki/UNK langit/UNK lalalang/UNK jagat/UNK lalaki/UNK anu/UNK gagah/UNK perkasa/UNK sarta/KPN kasép/UNK\n",
      "\n",
      "Input : Lali rabi tégang pati = poho ka pamajikan jeung tégana kana nyawa pikeun ngabéla nagara jeung bangsa.\n",
      "Output: Lali/KP rabi/UNK tégang/UNK pati/KB poho/UNK ka/UNK pamajikan/KB jeung/UNK tégana/UNK kana/UNK nyawa/UNK pikeun/UNK ngabéla/UNK nagara/KB jeung/UNK bangsa/UNK\n",
      "\n",
      "Input : Langkung saur bahé carék = sok gampang nyarékan atawa nyarita anu ngenjing teu kana haté batur.\n",
      "Output: Langkung/PA saur/KB bahé/UNK carék/UNK sok/KP gampang/KS nyarékan/UNK atawa/KPN nyarita/UNK anu/UNK ngenjing/UNK teu/PL kana/UNK haté/UNK batur/X\n",
      "\n",
      "Input : Lantip budi = gancang ngarti kana maksud atawa kahayang, batur sarta teu diceplakeun.\n",
      "Output: Lantip/UNK budi/UNK gancang/KS ngarti/UNK kana/UNK maksud/UNK atawa/KPN kahayang/UNK batur/X sarta/KPN teu/PL diceplakeun/KP\n",
      "\n",
      "Input : Lara aén = teu ngenah ku nu séjén.\n",
      "Output: Lara/KB aén/UNK teu/PL ngenah/UNK ku/UNK nu/KG séjén/UNK\n",
      "\n",
      "Input : Léngég léhé budi santri, ari lampah euwah-ewah = tingkah-tandukna kawas jalma alim, sihoréng sok pulang-paling.\n",
      "Output: Léngég/UNK léhé/UNK budi/UNK santri/UNK ari/KPB lampah/KB euwah/UNK ewah/UNK tingkah/UNK tandukna/UNK kawas/PA jalma/UNK alim/UNK sihoréng/UNK sok/KP pulang/UNK paling/KG\n",
      "\n",
      "Input : Léngkah halu = kakara bisa leumpang kaléngkah dua léngkah (buddak).\n",
      "Output: Léngkah/UNK halu/UNK kakara/UNK bisa/UNK leumpang/UNK kaléngkah/UNK dua/UNK léngkah/UNK buddak/UNK\n",
      "\n",
      "Input : Lembur singkur mandalah singkah = tempat anu nyumput sarta jauh.\n",
      "Output: Lembur/UNK singkur/KB mandalah/UNK singkah/KP tempat/UNK anu/UNK nyumput/UNK sarta/KPN jauh/UNK\n",
      "\n",
      "Input : Léngkah kapiceun = nyaba bari aya nu dimaksud tapi henteu hasil.\n",
      "Output: Léngkah/UNK kapiceun/UNK nyaba/UNK bari/KS aya/KP nu/KG dimaksud/UNK tapi/KPN henteu/PL hasil/UNK\n",
      "\n",
      "Input : Léngkéh léngéh = buheukeu, euweuh cangkéngan bawaning ku lintuh.\n",
      "Output: Léngkéh/UNK léngéh/UNK buheukeu/UNK euweuh/KP cangkéngan/UNK bawaning/UNK ku/UNK lintuh/UNK\n",
      "\n",
      "Input : Lentah darat = jalma nu nginjeumkeun duit maké renten.\n",
      "Output: Lentah/KB darat/UNK jalma/UNK nu/KG nginjeumkeun/UNK duit/UNK maké/UNK renten/UNK\n",
      "\n",
      "Input : Leuleus jeung teuas = bisa diajak leuleus bisa diajak teuas urang peumaan.\n",
      "Output: Leuleus/KS jeung/UNK teuas/KS bisa/UNK diajak/UNK leuleus/KS bisa/UNK diajak/UNK teuas/KS urang/KG peumaan/UNK\n",
      "\n",
      "Input : Leuleus keureut = bisa dipareuman keur diheureuyan.\n",
      "Output: Leuleus/KS keureut/UNK bisa/UNK dipareuman/UNK keur/UNK diheureuyan/UNK\n",
      "\n",
      "Input : Leumpeung nuturkeun indung suku = leumpeung (nyaho) teu puguh nu dijujug.\n",
      "Output: Leumpeung/UNK nuturkeun/KP indung/UNK suku/KB leumpeung/UNK nyaho/KP teu/PL puguh/UNK nu/KG dijujug/UNK\n",
      "\n",
      "Input : Leumpeung tali = lempeng tapi lemes, bisa méngkol tapi teu matak.\n",
      "Output: Leumpeung/UNK tali/KB lempeng/UNK tapi/KPN lemes/UNK bisa/UNK méngkol/UNK tapi/KPN teu/PL matak/UNK\n",
      "\n",
      "Input : Leumpeuh puni = lembek haté, babari kapangaruhan, teu kuat nahan gogoda.\n",
      "Output: Leumpeuh/KP puni/UNK lembek/UNK haté/UNK babari/KS kapangaruhan/KB teu/PL kuat/UNK nahan/UNK gogoda/UNK\n",
      "\n",
      "Input : Leungit tanpa lebih = ilang tanpa karana.\n",
      "Output: Leungit/UNK tanpa/UNK lebih/UNK ilang/UNK tanpa/UNK karana/UNK\n",
      "\n",
      "Input : Leutik burih = borangan, leutik haté.\n",
      "Output: Leutik/UNK burih/UNK borangan/KS leutik/UNK haté/UNK\n",
      "\n",
      "Input : Leutik leutik cabé rawit = ilikan leutik-leutik ngagalaik.\n",
      "Output: Leutik/UNK leutik/UNK cabé/UNK rawit/UNK ilikan/UNK leutik/UNK leutik/UNK ngagalaik/UNK\n",
      "\n",
      "Input : Leutik-leutik ngagalakik = jalma leutik tapi wanian.\n",
      "Output: Leutik/UNK leutik/UNK ngagalakik/UNK jalma/UNK leutik/UNK tapi/KPN wanian/KB\n",
      "\n",
      "Input : Leutik ringkang gedé bugang = sipat jalema, umama mah loba urusanana, sunawoma mun nepa ka misot di panyabaan.\n",
      "Output: Leutik/UNK ringkang/UNK gedé/UNK bugang/KB sipat/KB jalema/UNK umama/UNK mah/UNK loba/UNK urusanana/UNK sunawoma/UNK mun/KB nepa/UNK ka/UNK misot/UNK di/UNK panyabaan/UNK\n",
      "\n",
      "Input : Leuweung gorowong simagocong, leuweung si sumenem = jati leuweung geueuman atawa pikakeueungeun.\n",
      "Output: Leuweung/UNK gorowong/UNK simagocong/UNK leuweung/UNK si/UNK sumenem/UNK jati/UNK leuweung/UNK geueuman/KP atawa/KPN pikakeueungeun/UNK\n",
      "\n",
      "Input : Liang cocopet = tempat leutik hara-haraeun.\n",
      "Output: Liang/UNK cocopet/UNK tempat/UNK leutik/UNK hara/UNK haraeun/UNK\n",
      "\n",
      "Input : Lieuk euweuh ragap taya = malarat, taya kaboga.\n",
      "Output: Lieuk/UNK euweuh/KP ragap/UNK taya/KB malarat/UNK taya/KB kaboga/UNK\n",
      "\n",
      "Input : Lindeuk japati = siga lindeuk tapi linghas, bisa méré budi manis tapi teu bisa dipaké kahareuyan (awéwé).\n",
      "Output: Lindeuk/UNK japati/UNK siga/KB lindeuk/UNK tapi/KPN linghas/UNK bisa/UNK méré/UNK budi/UNK manis/UNK tapi/KPN teu/PL bisa/UNK dipaké/UNK kahareuyan/UNK awéwé/UNK\n",
      "\n",
      "Input : Lindeuk piteuk =lindeuk japati.\n",
      "Output: Lindeuk/UNK piteuk/KB lindeuk/UNK japati/UNK\n",
      "\n",
      "Input : Loba catur tanpa bukur = loba omong tapi euweuh buktina.\n",
      "Output: Loba/UNK catur/KB tanpa/UNK bukur/UNK loba/UNK omong/UNK tapi/KPN euweuh/KP buktina/UNK\n",
      "\n",
      "Input : Loba jaksa = loba leungeun euweuh nu meurad atawa timbangan.\n",
      "Output: Loba/UNK jaksa/UNK loba/UNK leungeun/UNK euweuh/KP nu/KG meurad/UNK atawa/KPN timbangan/UNK\n",
      "\n",
      "Input : Lolondokan = bisa nyaluyukeun diri jeung kaayaan lingkungan.\n",
      "Output: Lolondokan/UNK bisa/UNK nyaluyukeun/UNK diri/UNK jeung/UNK kaayaan/KB lingkungan/UNK\n",
      "\n",
      "Input : Luhur kokopan = gumeidé.\n",
      "Output: Luhur/UNK kokopan/KB gumeidé/UNK\n",
      "\n",
      "Input : Luhur pamakanan =luhur kokopan.\n",
      "Output: Luhur/UNK pamakanan/KB luhur/UNK kokopan/KB\n",
      "\n",
      "Input : Luhur tincak = boga kalakuan kawas nu luhur pangkat.\n",
      "Output: Luhur/UNK tincak/KP boga/KP kalakuan/UNK kawas/PA nu/KG luhur/UNK pangkat/UNK\n",
      "\n",
      "Input : Luhur tulupan = luhur angen-angen atawa cita-cita anu henteu kasaritaan.\n",
      "Output: Luhur/UNK tulupan/UNK luhur/UNK angen/KN angen/KN atawa/KPN cita/UNK cita/UNK anu/UNK henteu/PL kasaritaan/UNK\n",
      "\n",
      "Input : Luncat mulang = teu tigin kana janaji.\n",
      "Output: Luncat/UNK mulang/UNK teu/PL tigin/KS kana/UNK janaji/UNK\n",
      "\n",
      "Input : Lungguh tutut bodo kéong = Siga nu lungguh kaényona, padahal bangor.\n",
      "Output: Lungguh/UNK tutut/KB bodo/UNK kéong/UNK Siga/KB nu/KG lungguh/UNK kaényona/UNK padahal/UNK bangor/KS\n",
      "\n",
      "Input : Mabok pangkat = adigung, asa aing jeung.\n",
      "Output: Mabok/UNK pangkat/UNK adigung/KB asa/KB aing/KG jeung/UNK\n",
      "\n",
      "Input : Macan biungan = jelema anu teu akur jeung batur salembur.\n",
      "Output: Macan/UNK biungan/KB jelema/UNK anu/UNK teu/PL akur/UNK jeung/UNK batur/X salembur/UNK\n",
      "\n",
      "Input : Maén sabun = koropkow, maén teu sawajarna.\n",
      "Output: Maén/UNK sabun/UNK koropkow/UNK maén/UNK teu/PL sawajarna/UNK\n",
      "\n",
      "Input : Maliding sanak = pilih kasih.\n",
      "Output: Maliding/UNK sanak/KB pilih/UNK kasih/UNK\n",
      "\n",
      "Input : Malik méngél = gulung-guling lantaran teu kuat nahan kahayang.\n",
      "Output: Malik/UNK méngél/UNK gulung/UNK guling/UNK lantaran/PA teu/PL kuat/UNK nahan/UNK kahayang/UNK\n",
      "\n",
      "Input : Malik rabi pindah ngawula = nganjeurkeun dahareun ka ménak, dunungan, atawa atasan nu anyar.\n",
      "Output: Malik/UNK rabi/UNK pindah/UNK ngawula/UNK nganjeurkeun/UNK dahareun/KB ka/UNK ménak/UNK dunungan/KB atawa/KPN atasan/UNK nu/KG anyar/KS\n",
      "\n",
      "Input : Malikeun pakarang = ngabalikeun kakuatan atawa timbangan.\n",
      "Output: Malikeun/UNK pakarang/KP ngabalikeun/UNK kakuatan/UNK atawa/KPN timbangan/UNK\n",
      "\n",
      "Input : Manasina = sabar atawa kalayan.\n",
      "Output: Manasina/UNK sabar/UNK atawa/KPN kalayan/UNK\n",
      "\n",
      "Input : Mani hayang utah = ngarasa kacida seubeuh nénjo atawa ngadengé kalakuan batur nu pikalieun.\n",
      "Output: Mani/UNK hayang/KP utah/KB ngarasa/UNK kacida/KT seubeuh/KS nénjo/UNK atawa/KPN ngadengé/UNK kalakuan/UNK batur/X nu/KG pikalieun/UNK\n",
      "\n",
      "Input : Maot ulah manggi hatur, paeh ulah manggih beja = sing bener waktu keur hirup supaya ulah diomongkeun ari geus maot.\n",
      "Output: Maot/UNK ulah/PL manggi/UNK hatur/UNK paeh/KN ulah/PL manggih/UNK beja/KB sing/KPB bener/KS waktu/UNK keur/UNK hirup/KP supaya/PA ulah/PL diomongkeun/UNK ari/KPB geus/KBT maot/UNK\n",
      "\n",
      "Input : Marebutkeun paisan kosong = marebutkeun paséa rorongkah, marebutkeun perkara nu taya gunana atawa euweuh mangpaatna.\n",
      "Output: Marebutkeun/UNK paisan/KB kosong/UNK marebutkeun/UNK paséa/UNK rorongkah/UNK marebutkeun/UNK perkara/UNK nu/KG taya/KB gunana/UNK atawa/KPN euweuh/KP mangpaatna/UNK\n",
      "\n",
      "Input : Malik atawa kuat tuman batan tumanbal = kabiasaan anu teu hadé, ngarobahna ku tumbak tangeun pamaénkeun.\n",
      "Output: Malik/UNK atawa/KPN kuat/UNK tuman/UNK batan/PA tumanbal/UNK kabiasaan/UNK anu/UNK teu/PL hadé/UNK ngarobahna/UNK ku/UNK tumbak/KB tangeun/UNK pamaénkeun/UNK\n",
      "\n",
      "Input : Mata dijal ka peda = dilarapkeun ka nu malawung, nepi ka teu awas ka nu disanghareupan.\n",
      "Output: Mata/UNK dijal/UNK ka/UNK peda/UNK dilarapkeun/UNK ka/UNK nu/KG malawung/UNK nepi/PA ka/UNK teu/PL awas/UNK ka/UNK nu/KG disanghareupan/UNK\n",
      "\n",
      "Input : Mata duliteun = piduiteun, kaséngsem ku duit.\n",
      "Output: Mata/UNK duliteun/UNK piduiteun/UNK kaséngsem/UNK ku/UNK duit/UNK\n",
      "\n",
      "Input : Mata karanjang = resep ka awéwé, teu kaop nénjo nu luus.\n",
      "Output: Mata/UNK karanjang/UNK resep/UNK ka/UNK awéwé/UNK teu/PL kaop/UNK nénjo/UNK nu/KG luus/UNK\n",
      "\n",
      "Input : Matak andel-andeleun = matak ngurangan kapercayaan nu dihadekeun anu nitah.\n",
      "Output: Matak/UNK andel/KS andeleun/UNK matak/UNK ngurangan/UNK kapercayaan/UNK nu/KG dihadekeun/UNK anu/UNK nitah/UNK\n",
      "\n",
      "Input : Matak ibur salembur = matak geunjleung, jadi carita di mamana.\n",
      "Output: Matak/UNK ibur/KP salembur/UNK matak/UNK geunjleung/UNK jadi/KP carita/UNK di/UNK mamana/UNK\n",
      "\n",
      "Input : Matak car sagajagat =matak ibur salembur.\n",
      "Output: Matak/UNK car/UNK sagajagat/UNK matak/UNK ibur/KP salembur/UNK\n",
      "\n",
      "Input : Matak muringkak bulu punduk = piksieuneun, pikakeueungeun.\n",
      "Output: Matak/UNK muringkak/UNK bulu/UNK punduk/UNK piksieuneun/UNK pikakeueungeun/UNK\n",
      "\n",
      "Input : Matak pabaik lelah = diomongeun ka budak anu paméréna dipenta deui.\n",
      "Output: Matak/UNK pabaik/UNK lelah/UNK diomongeun/UNK ka/UNK budak/KB anu/UNK paméréna/UNK dipenta/UNK deui/UNK\n",
      "\n",
      "Input : Matak pajauh hurma = matak teu silipakahuyana, tara dibéré rejeki, jeung dulur atawa baraya lantaran paséa.\n",
      "Output: Matak/UNK pajauh/UNK hurma/UNK matak/UNK teu/PL silipakahuyana/UNK tara/KT dibéré/UNK rejeki/UNK jeung/UNK dulur/KB atawa/KPN baraya/KB lantaran/PA paséa/UNK\n",
      "\n",
      "Input : Matak tibahlik asupkeun = matak teu bisa nyangu, asupkeun kana gajihan diundur atuh meureun kudu aya uang mah.\n",
      "Output: Matak/UNK tibahlik/UNK asupkeun/UNK matak/UNK teu/PL bisa/UNK nyangu/KB asupkeun/UNK kana/UNK gajihan/UNK diundur/UNK atuh/KB meureun/KT kudu/UNK aya/KP uang/UNK mah/UNK\n",
      "\n",
      "Input : Maung malang = jalma nu jadi panghalang kana maksyud batur.\n",
      "Output: Maung/UNK malang/UNK jalma/UNK nu/KG jadi/KP panghalang/UNK kana/UNK maksyud/UNK batur/X\n",
      "\n",
      "Input : Maung ompong = bedil kosong, karéta kosong = jelema anu boga komara mah sanajan geus teu nyekel kawasaan ogé teu weléh dipikasebah.\n",
      "Output: Maung/UNK ompong/UNK bedil/UNK kosong/UNK karéta/UNK kosong/UNK jelema/UNK anu/UNK boga/KP komara/UNK mah/UNK sanajan/KPB geus/KBT teu/PL nyekel/UNK kawasaan/KB ogé/UNK teu/PL weléh/UNK dipikasebah/UNK\n",
      "\n",
      "Input : Maung sarungkun = tunggal baraya, lain nu lian (sakaw-hui), tapi dina bendéngna (icu badéna) alah jeung jeung jeung cun-deungeun haseum.\n",
      "Output: Maung/UNK sarungkun/UNK tunggal/UNK baraya/KB lain/PL nu/KG lian/UNK sakaw/UNK hui/KB tapi/KPN dina/PA bendéngna/KB icu/UNK badéna/UNK alah/X jeung/UNK jeung/UNK jeung/UNK cun/UNK deungeun/KB haseum/KN\n",
      "\n",
      "Input : Melengkung umbul-umbulna, ngerab-ngerab bandérana = ngagambarkeun iring-iringan atawa kawasan di tempat pesta.\n",
      "Output: Melengkung/UNK umbul/UNK umbulna/UNK ngerab/UNK ngerab/UNK bandérana/UNK ngagambarkeun/UNK iring/UNK iringan/UNK atawa/KPN kawasan/UNK di/UNK tempat/UNK pesta/UNK\n",
      "\n",
      "Input : Mendiding pait tiheula tinimbang pait tungtungna = papatah, kudu asak heula badami, bisi jadi pacogrégan di ahirna.\n",
      "Output: Mendiding/UNK pait/KS tiheula/UNK tinimbang/PA pait/KS tungtungna/UNK papatah/KB kudu/UNK asak/KB heula/KT badami/KP bisi/KPB jadi/KP pacogrégan/UNK di/UNK ahirna/UNK\n",
      "\n",
      "Input : Mendinding waléh batan léwéh = mending wakca tibatan geuring pikir.manan léwéh mending waléh.\n",
      "Output: Mendinding/UNK waléh/UNK batan/PA léwéh/UNK mending/UNK wakca/KT tibatan/PA geuring/UNK pikir/UNK manan/KB léwéh/UNK mending/UNK waléh/UNK\n",
      "\n",
      "Input : Méré langgir kalieun = méré duit atawa méré barang anu kudu ditagih heula ti batur bari bisa jadi aya mamalana.\n",
      "Output: Méré/UNK langgir/UNK kalieun/UNK méré/UNK duit/UNK atawa/KPN méré/UNK barang/UNK anu/UNK kudu/UNK ditagih/UNK heula/KT ti/KPB batur/X bari/KS bisa/UNK jadi/KP aya/KP mamalana/UNK\n",
      "\n",
      "Input : Meubeut meulit = nyarékan bari ngajawab henteu meuli ka jalma séjén.\n",
      "Output: Meubeut/UNK meulit/UNK nyarékan/UNK bari/KS ngajawab/UNK henteu/PL meuli/UNK ka/UNK jalma/UNK séjén/UNK\n",
      "\n",
      "Input : Meunging kopi pait = digeuleung atawa dicarek ku dunungan.\n",
      "Output: Meunging/UNK kopi/UNK pait/KS digeuleung/UNK atawa/KPN dicarek/UNK ku/UNK dunungan/KB\n",
      "\n",
      "Input : Meunpeun carang = api-api teu katénjo atawa api-api teu nyaho, padahal sakuduna mah jadi urusan.\n",
      "Output: Meunpeun/UNK carang/KS api/UNK api/UNK teu/PL katénjo/UNK atawa/KPN api/UNK api/UNK teu/PL nyaho/KP padahal/UNK sakuduna/UNK mah/UNK jadi/KP urusan/UNK\n",
      "\n",
      "Input : Meupeus keyang = ngababetkeun kakeucit atawa amal-an ka nu teu jauh dosa, tampolana kana barang, lantaran rupa ka nu boga kasalahanana mah teu wani ngambek.\n",
      "Output: Meupeus/UNK keyang/UNK ngababetkeun/UNK kakeucit/UNK atawa/KPN amal/UNK an/UNK ka/UNK nu/KG teu/PL jauh/UNK dosa/UNK tampolana/UNK kana/UNK barang/UNK lantaran/PA rupa/UNK ka/UNK nu/KG boga/KP kasalahanana/UNK mah/UNK teu/PL wani/KS ngambek/KB\n",
      "\n",
      "Input : Midua pikir = teu satia dina urusan cinta.\n",
      "Output: Midua/UNK pikir/UNK teu/PL satia/KS dina/PA urusan/UNK cinta/UNK\n",
      "\n",
      "Input : Milih-milih rabi mindah-mindah rasa = ganti pamajikan sigan leuwih ngawula.\n",
      "Output: Milih/UNK milih/UNK rabi/UNK mindah/UNK mindah/UNK rasa/UNK ganti/UNK pamajikan/KB sigan/UNK leuwih/UNK ngawula/UNK\n",
      "\n",
      "Input : Mindingan beungeut ku saweuy = nyimbutan rusingah sorangan nu geus jadi rasiat umum, atawa ngémbongkeun budi baé.\n",
      "Output: Mindingan/UNK beungeut/KB ku/UNK saweuy/KB nyimbutan/KB rusingah/UNK sorangan/PNJ nu/KG geus/KBT jadi/KP rasiat/UNK umum/UNK atawa/KPN ngémbongkeun/UNK budi/UNK baé/UNK\n",
      "\n",
      "Input : Mipit teu amit ngala teu ménta = maling.\n",
      "Output: Mipit/KP teu/PL amit/KB ngala/KP teu/PL ménta/UNK maling/UNK\n",
      "\n",
      "Input : Misah badan misah nyawa = teu sarua boh lahir boh batin.\n",
      "Output: Misah/UNK badan/KB misah/UNK nyawa/UNK teu/PL sarua/KS boh/UNK lahir/KP boh/UNK batin/UNK\n",
      "\n",
      "Input : Miyuni hayam kabiri, kuméok memeh dipacok = euweuh kawani, can gé acan geus jejerih.\n",
      "Output: Miyuni/KP hayam/KB kabiri/UNK kuméok/UNK memeh/UNK dipacok/UNK euweuh/KP kawani/KB can/PL gé/UNK acan/PL geus/KBT jejerih/UNK\n",
      "\n",
      "Input : Miyuni hui kamayung = teu payaan, katodeh sacuitik ngambek, atawa buruk.\n",
      "Output: Miyuni/KP hui/KB kamayung/UNK teu/PL payaan/KB katodeh/UNK sacuitik/UNK ngambek/KB atawa/KPN buruk/UNK\n",
      "\n",
      "Input : Miyuni hurang, tai ka hulu-hulu = kaoloda podona.\n",
      "Output: Miyuni/KP hurang/KB tai/KB ka/UNK hulu/KB hulu/KB kaoloda/UNK podona/UNK\n",
      "\n",
      "Input : Miyuni umang = teu daék indar nepi ka bisa boga imah sorangan (saumur-umur téh ngontrak baé).\n",
      "Output: Miyuni/KP umang/UNK teu/PL daék/UNK indar/UNK nepi/PA ka/UNK bisa/UNK boga/KP imah/UNK sorangan/PNJ saumur/UNK umur/UNK téh/UNK ngontrak/UNK baé/UNK\n",
      "\n",
      "Input : Moal jauh laukna = moal hésé piungunana.\n",
      "Output: Moal/KB jauh/UNK laukna/UNK moal/KB hésé/UNK piungunana/UNK\n",
      "\n",
      "Input : Moal ditarajéan = teu sieun.\n",
      "Output: Moal/KB ditarajéan/UNK teu/PL sieun/KP\n",
      "\n",
      "Input : Moal mundur satunjang béas = teu sieun (gimir) sacuitik-cuitik acan, moal mundur (ngejal) sanajan saléngkah.\n",
      "Output: Moal/KB mundur/UNK satunjang/UNK béas/UNK teu/PL sieun/KP gimir/KP sacuitik/UNK cuitik/UNK acan/PL moal/KB mundur/UNK ngejal/UNK sanajan/KPB saléngkah/UNK\n",
      "\n",
      "Input : Moal nelangun jurig teu kadeuleu = moal nyangka ka saha-saha deui nu boga dosana, sabab geus teg ka Si Anu lur aya buktina.\n",
      "Output: Moal/KB nelangun/UNK jurig/UNK teu/PL kadeuleu/UNK moal/KB nyangka/UNK ka/UNK saha/KG saha/KG deui/UNK nu/KG boga/KP dosana/UNK sabab/PA geus/KBT teg/KB ka/UNK Si/UNK Anu/UNK lur/UNK aya/KP buktina/UNK\n",
      "\n",
      "Input : Moal ngejat satunjang béasmoal mundur satunjang béas.\n",
      "Output: Moal/KB ngejat/UNK satunjang/UNK béasmoal/UNK mundur/UNK satunjang/UNK béas/UNK\n",
      "\n",
      "Input : Moal nyapék mun teu ngoprek = sarcana moal barangdah-har atawa meunang rejeki mun teu usaha.\n",
      "Output: Moal/KB nyapék/UNK mun/KB teu/PL ngoprek/UNK sarcana/UNK moal/KB barangdah/UNK har/UNK atawa/KPN meunang/UNK rejeki/UNK mun/KB teu/PL usaha/UNK\n",
      "\n",
      "Input : Mobok manggih gorowong = kabeneran manggih jalan pikeun ngalaksanakeun karepna.\n",
      "Output: Mobok/UNK manggih/UNK gorowong/UNK kabeneran/KB manggih/UNK jalan/UNK pikeun/UNK ngalaksanakeun/UNK karepna/UNK\n",
      "\n",
      "Input : Modal dengkul = modal mangrupa kadeék jeung tanaga wungkul.\n",
      "Output: Modal/KS dengkul/UNK modal/KS mangrupa/UNK kadeék/UNK jeung/UNK tanaga/KB wungkul/KT\n",
      "\n",
      "Input : Mucuk curih = lakinrop kawas pucuk curih, upamana ramo awéwé.\n",
      "Output: Mucuk/UNK curih/UNK lakinrop/UNK kawas/PA pucuk/UNK curih/UNK upamana/UNK ramo/UNK awéwé/UNK\n",
      "\n",
      "Input : Mulangkeun panyiraman = mikahayang nu lain-lain anu cénah dipikahayang ku indungna waktu keur nyiram ku manéhna.\n",
      "Output: Mulangkeun/KP panyiraman/KB mikahayang/UNK nu/KG lain/PL lain/PL anu/UNK cénah/UNK dipikahayang/UNK ku/UNK indungna/UNK waktu/UNK keur/UNK nyiram/KB ku/UNK manéhna/UNK\n",
      "\n",
      "Input : Musuh atawa satru kabuyutan = musuh ti baheula nepi ka ayeuna, musuh tuturunan.\n",
      "Output: Musuh/KB atawa/KPN satru/KB kabuyutan/UNK musuh/KB ti/KPB baheula/KB nepi/PA ka/UNK ayeuna/KT musuh/KB tuturunan/UNK\n",
      "\n",
      "Input : Mupugkeun tai kanjut = kariaan leuwih gedé ti biasa, lantaran ku ijiran moal rék kariaan deui.\n",
      "Output: Mupugkeun/UNK tai/KB kanjut/UNK kariaan/KB leuwih/UNK gedé/UNK ti/KPB biasa/UNK lantaran/PA ku/UNK ijiran/UNK moal/KB rék/UNK kariaan/KB deui/UNK\n",
      "\n",
      "Input : 474. Murag bulu bitis = Teu betah cicing di imah, hayang udar-idér baé.\n",
      "Output: 474/UNK Murag/UNK bulu/UNK bitis/KB Teu/PL betah/KBT cicing/KB di/UNK imah/UNK hayang/KP udar/KP idér/UNK baé/UNK\n",
      "\n",
      "Input : Murah sandang murah pangan = loba pakeun jeung dahareun (di nagara raharja).\n",
      "Output: Murah/UNK sandang/UNK murah/UNK pangan/UNK loba/UNK pakeun/KB jeung/UNK dahareun/KB di/UNK nagara/KB raharja/UNK\n",
      "\n",
      "Input : Muriang teu kawayaan = Kalah wowotan, teu kuat nyanggara lara ati, upamana anu keur kabingunguleun.\n",
      "Output: Muriang/KB teu/PL kawayaan/UNK Kalah/UNK wowotan/KP teu/PL kuat/UNK nyanggara/UNK lara/KB ati/KB upamana/UNK anu/UNK keur/UNK kabingunguleun/UNK\n",
      "\n",
      "Input : Najan dibawa kana liang cocopét, moal burung nuturkeun = dibawa ka mana-mana ogé daék.\n",
      "Output: Najan/KPB dibawa/UNK kana/UNK liang/UNK cocopét/UNK moal/KB burung/KS nuturkeun/KP dibawa/UNK ka/UNK mana/UNK mana/UNK ogé/UNK daék/UNK\n",
      "\n",
      "Input : Naheun bubu pahareup-hareup = pahutang-hutangan, nepi ka pada kagok nagih.\n",
      "Output: Naheun/UNK bubu/KB pahareup/KB hareup/KS pahutang/UNK hutangan/UNK nepi/PA ka/UNK pada/KB kagok/UNK nagih/UNK\n",
      "\n",
      "Input : Nanggung bugang = ditinggal maot ku lanceuk jeung ku adi.\n",
      "Output: Nanggung/KB bugang/KB ditinggal/UNK maot/UNK ku/UNK lanceuk/KB jeung/UNK ku/UNK adi/UNK\n",
      "\n",
      "Input : Nénéh bonténg = ngogo ka budak, tapi ari ambek gampang neunggeul.\n",
      "Output: Nénéh/UNK bonténg/UNK ngogo/UNK ka/UNK budak/KB tapi/KPN ari/KPB ambek/KB gampang/KS neunggeul/UNK\n",
      "\n",
      "Input : Nepi ka nyanghulu ngalér = nepi ka paéh.\n",
      "Output: Nepi/PA ka/UNK nyanghulu/UNK ngalér/UNK nepi/PA ka/UNK paéh/UNK\n",
      "\n",
      "Input : Nepi ka pakotrék iteuk = nepi ka pakokolot pisan.\n",
      "Output: Nepi/PA ka/UNK pakotrék/UNK iteuk/UNK nepi/PA ka/UNK pakokolot/KB pisan/UNK\n",
      "\n",
      "Input : Nepung-nepung bangkelung = ngaraketkeun babarayaan ku jalan bébésanan.\n",
      "Output: Nepung/UNK nepung/UNK bangkelung/KB ngaraketkeun/UNK babarayaan/UNK ku/UNK jalan/UNK bébésanan/UNK\n",
      "\n",
      "Input : Mipit teu amit ngala teu ménta = maling.\n",
      "Output: Mipit/KP teu/PL amit/KB ngala/KP teu/PL ménta/UNK maling/UNK\n",
      "\n",
      "Input : Misah badan misah nyawa = teu sarua boh lahir boh batin.\n",
      "Output: Misah/UNK badan/KB misah/UNK nyawa/UNK teu/PL sarua/KS boh/UNK lahir/KP boh/UNK batin/UNK\n",
      "\n",
      "Input : Miyuni hayam kabiri, kuméok memeh dipacok = euweuh kawani, can gé acan geus jejerih.\n",
      "Output: Miyuni/KP hayam/KB kabiri/UNK kuméok/UNK memeh/UNK dipacok/UNK euweuh/KP kawani/KB can/PL gé/UNK acan/PL geus/KBT jejerih/UNK\n",
      "\n",
      "Input : Miyuni hui kamayung = teu payaan, katodeh sacuitik ngambek, atawa buruk.\n",
      "Output: Miyuni/KP hui/KB kamayung/UNK teu/PL payaan/KB katodeh/UNK sacuitik/UNK ngambek/KB atawa/KPN buruk/UNK\n",
      "\n",
      "Input : Miyuni hurang, tai ka hulu-hulu = kaoloda podona.\n",
      "Output: Miyuni/KP hurang/KB tai/KB ka/UNK hulu/KB hulu/KB kaoloda/UNK podona/UNK\n",
      "\n",
      "Input : Miyuni umang = teu daék indar nepi ka bisa boga imah sorangan (saumur-umur téh ngontrak baé).\n",
      "Output: Miyuni/KP umang/UNK teu/PL daék/UNK indar/UNK nepi/PA ka/UNK bisa/UNK boga/KP imah/UNK sorangan/PNJ saumur/UNK umur/UNK téh/UNK ngontrak/UNK baé/UNK\n",
      "\n",
      "Input : Moal jauh laukna = moal hésé piungunana.\n",
      "Output: Moal/KB jauh/UNK laukna/UNK moal/KB hésé/UNK piungunana/UNK\n",
      "\n",
      "Input : Moal ditarajéan = teu sieun.\n",
      "Output: Moal/KB ditarajéan/UNK teu/PL sieun/KP\n",
      "\n",
      "Input : Moal mundur satunjang béas = teu sieun (gimir) sacuitik-cuitik acan, moal mundur (ngejal) sanajan saléngkah.\n",
      "Output: Moal/KB mundur/UNK satunjang/UNK béas/UNK teu/PL sieun/KP gimir/KP sacuitik/UNK cuitik/UNK acan/PL moal/KB mundur/UNK ngejal/UNK sanajan/KPB saléngkah/UNK\n",
      "\n",
      "Input : Nété akar ngeumbing jangkas = sésélékét, nyorang jalan anu rumit.\n",
      "Output: Nété/UNK akar/UNK ngeumbing/UNK jangkas/UNK sésélékét/UNK nyorang/KP jalan/UNK anu/UNK rumit/UNK\n",
      "\n",
      "Input : Nété porot ngeumbing lésot = sagala usaha teu hasil.\n",
      "Output: Nété/UNK porot/UNK ngeumbing/UNK lésot/UNK sagala/UNK usaha/UNK teu/PL hasil/UNK\n",
      "\n",
      "Input : Neukteuk leukeun meulah jantung, geus lain-lainna deui = teu hayang dibalikeun deui.\n",
      "Output: Neukteuk/KP leukeun/KB meulah/UNK jantung/UNK geus/KBT lain/PL lainna/UNK deui/UNK teu/PL hayang/KP dibalikeun/UNK deui/UNK\n",
      "\n",
      "Input : Ngabéjaan bulu tuur = ngabéjaan ka nu geus nyaho.\n",
      "Output: Ngabéjaan/UNK bulu/UNK tuur/KB ngabéjaan/UNK ka/UNK nu/KG geus/KBT nyaho/KP\n",
      "\n",
      "Input : Ngabudi ucing = kawas nu teu karep, api-api teu hayang, padahal ngadagoan batur bongoh.\n",
      "Output: Ngabudi/UNK ucing/KB kawas/PA nu/KG teu/PL karep/UNK api/UNK api/UNK teu/PL hayang/KP padahal/UNK ngadagoan/KP batur/X bongoh/KB\n",
      "\n",
      "Input : Ngabuntut bangkong = teu bisa méré katerangan nepi ka écés (tétélana) pisan atawa teu bisa ngagungkeun pagawéan.\n",
      "Output: Ngabuntut/UNK bangkong/KB teu/PL bisa/UNK méré/UNK katerangan/UNK nepi/PA ka/UNK écés/UNK tétélana/UNK pisan/UNK atawa/KPN teu/PL bisa/UNK ngagungkeun/UNK pagawéan/UNK\n",
      "\n",
      "Input : Ngaburuy = nyaneut teu maké lalawuhna.\n",
      "Output: Ngaburuy/UNK nyaneut/KB teu/PL maké/UNK lalawuhna/UNK\n",
      "\n",
      "Input : Ngacak-ngebur = kokomoan, mangpang-meungpeung.\n",
      "Output: Ngacak/UNK ngebur/UNK kokomoan/KT mangpang/UNK meungpeung/KP\n",
      "\n",
      "Input : Ngadago-dago dawuh = téréh maot.\n",
      "Output: Ngadago/UNK dago/KP dawuh/KB téréh/UNK maot/UNK\n",
      "\n",
      "Input : Ngadagoan kuda tandukan = miharep perkara anu mustahil.\n",
      "Output: Ngadagoan/KP kuda/UNK tandukan/UNK miharep/UNK perkara/UNK anu/UNK mustahil/KS\n",
      "\n",
      "Input : Ngadaun ngora = némbongkeun deui kamajuan, sanggeus ngalaman mundar (daérah atawa kota).\n",
      "Output: Ngadaun/UNK ngora/KS némbongkeun/UNK deui/UNK kamajuan/UNK sanggeus/KPB ngalaman/UNK mundar/UNK daérah/UNK atawa/KPN kota/UNK\n",
      "\n",
      "Input : Ngadeupaan lincar = karalang-kuriling deukeut imah nu keur hajat ngarah diondang.\n",
      "Output: Ngadeupaan/UNK lincar/UNK karalang/UNK kuriling/UNK deukeut/KS imah/UNK nu/KG keur/UNK hajat/UNK ngarah/UNK diondang/UNK\n",
      "\n",
      "Input : Ngadu angklung = papaduan atawa paréa-réa omong nu taya gunana.\n",
      "Output: Ngadu/UNK angklung/UNK papaduan/KB atawa/KPN paréa/UNK réa/UNK omong/UNK nu/KG taya/KB gunana/UNK\n",
      "\n",
      "Input : Ngahurun balung ku tulang = nangkup tuur nandakeun keur bingung atawa susah.\n",
      "Output: Ngahurun/UNK balung/UNK ku/UNK tulang/UNK nangkup/UNK tuur/KB nandakeun/UNK keur/UNK bingung/UNK atawa/KPN susah/UNK\n",
      "\n",
      "Input : Ngajelér paéh = halis anu ngajepat alus, saperti jelér paéh.\n",
      "Output: Ngajelér/UNK paéh/UNK halis/UNK anu/UNK ngajepat/UNK alus/KS saperti/UNK jelér/UNK paéh/UNK\n",
      "\n",
      "Input : Ngajerit maratan langit, ngocéak maratan méga = ngajerit tarik pisan.\n",
      "Output: Ngajerit/UNK maratan/UNK langit/UNK ngocéak/UNK maratan/UNK méga/UNK ngajerit/UNK tarik/KS pisan/UNK\n",
      "\n",
      "Input : Ngalap haté = ngangeunahkeun haté batur supaya nyaheun atawa resepeun (cinta).\n",
      "Output: Ngalap/UNK haté/UNK ngangeunahkeun/UNK haté/UNK batur/X supaya/PA nyaheun/UNK atawa/KPN resepeun/UNK cinta/UNK\n",
      "\n",
      "Input : Ngalénghoy lir macan teu nangan = leumpang alon tapi alus katénjona.\n",
      "Output: Ngalénghoy/UNK lir/UNK macan/UNK teu/PL nangan/UNK leumpang/UNK alon/KT tapi/KPN alus/KS katénjona/UNK\n",
      "\n",
      "Input : Ngalétak ciduh = narik omongan nu geus dikedalkeun.\n",
      "Output: Ngalétak/UNK ciduh/UNK narik/UNK omongan/UNK nu/KG geus/KBT dikedalkeun/UNK\n",
      "\n",
      "Input : Ngaleut ngeungkeuy ngabandaléut, ngembat-ngembat nyatang pinang = ngaleut panjang pisan.\n",
      "Output: Ngaleut/KP ngeungkeuy/KN ngabandaléut/UNK ngembat/UNK ngembat/UNK nyatang/UNK pinang/UNK ngaleut/KP panjang/UNK pisan/UNK\n",
      "\n",
      "Input : Ngalintuhan maung kuru = néangan pibahayaeun.\n",
      "Output: Ngalintuhan/UNK maung/UNK kuru/UNK néangan/UNK pibahayaeun/UNK\n",
      "\n",
      "Input : Ngan ukur saoléeseun = ngan ukur sauliineun, lain bener-bener rék dijieun pamajikan.\n",
      "Output: Ngan/KT ukur/UNK saoléeseun/UNK ngan/KT ukur/UNK sauliineun/UNK lain/PL bener/KS bener/KS rék/UNK dijieun/UNK pamajikan/KB\n",
      "\n",
      "Input : Ngandung haté = ngunek-ngunek, boga haté goréng, hayang males kanyaah.\n",
      "Output: Ngandung/UNK haté/UNK ngunek/UNK ngunek/UNK boga/KP haté/UNK goréng/UNK hayang/KP males/UNK kanyaah/UNK\n",
      "\n",
      "Input : Ngarah ngarinah = nipu, ngarugikeun batur ku jalan nga' bobodo.\n",
      "Output: Ngarah/UNK ngarinah/UNK nipu/UNK ngarugikeun/UNK batur/X ku/UNK jalan/UNK nga/UNK bobodo/UNK\n",
      "\n",
      "Input : Ngaraja déwék = maréntah nagara nurutkeun kahayang sorangan.\n",
      "Output: Ngaraja/UNK déwék/UNK maréntah/UNK nagara/KB nurutkeun/UNK kahayang/UNK sorangan/PNJ\n",
      "\n",
      "Input : Ngarah sahuapeun sakopeun = usaha leuleutikan, néangan rejeki saharitaeun.\n",
      "Output: Ngarah/UNK sahuapeun/UNK sakopeun/UNK usaha/UNK leuleutikan/UNK néangan/UNK rejeki/UNK saharitaeun/UNK\n",
      "\n",
      "Input : Ngarangkaskeun dungus = ilikan ngareuntaskeun dungus.\n",
      "Output: Ngarangkaskeun/UNK dungus/UNK ilikan/UNK ngareuntaskeun/UNK dungus/UNK\n",
      "\n",
      "Input : Ngarangkay koja = mimitina hadé, lila-lila jadi goréng.\n",
      "Output: Ngarangkay/UNK koja/KB mimitina/KB hadé/UNK lila/UNK lila/UNK jadi/KP goréng/UNK\n",
      "\n",
      "Input : Ngareuntaskeun dungus = kalaksanakeun ngawin kabogoh ti keur padangora dina umur pakokolot.\n",
      "Output: Ngareuntaskeun/UNK dungus/UNK kalaksanakeun/UNK ngawin/UNK kabogoh/UNK ti/KPB keur/UNK padangora/UNK dina/PA umur/UNK pakokolot/KB\n",
      "\n",
      "Input : Ngarujak sentul = nya picung nya hulu maung, batur ngalér ieu ngidul.\n",
      "Output: Ngarujak/UNK sentul/UNK nya/KS picung/KP nya/KS hulu/KB maung/UNK batur/X ngalér/UNK ieu/PNJ ngidul/UNK\n",
      "\n",
      "Input : Ngégél curuk = ngalamot curuk, teu hasil maksud.\n",
      "Output: Ngégél/UNK curuk/KP ngalamot/UNK curuk/KP teu/PL hasil/UNK maksud/UNK\n",
      "\n",
      "Input : Nggeumbeuk awi = ngeumbreuk, teu laku.\n",
      "Output: Nggeumbeuk/UNK awi/KB ngeumbreuk/UNK teu/PL laku/UNK\n",
      "\n",
      "Input : Ngembang bako = bosongot.\n",
      "Output: Ngembang/UNK bako/UNK bosongot/KB\n",
      "\n",
      "Input : Ngembang bolang = ancal-ancalan.\n",
      "Output: Ngembang/UNK bolang/KB ancal/KB ancalan/KB\n",
      "\n",
      "Input : Ngembang boléd = tétélan.\n",
      "Output: Ngembang/UNK boléd/UNK tétélan/UNK\n",
      "\n",
      "Input : Ngembang cau = jantungeun.\n",
      "Output: Ngembang/UNK cau/KB jantungeun/UNK\n",
      "\n",
      "Input : Ngembang cengék = méncéngés, nenggang ti nu séjén, geulis.\n",
      "Output: Ngembang/UNK cengék/UNK méncéngés/UNK nenggang/KB ti/KPB nu/KG séjén/UNK geulis/UNK\n",
      "\n",
      "Input : Ngembang génjér = gélényé.\n",
      "Output: Ngembang/UNK génjér/UNK gélényé/UNK\n",
      "\n",
      "Input : Ngembang jaat = jalingeur.\n",
      "Output: Ngembang/UNK jaat/UNK jalingeur/UNK\n",
      "\n",
      "Input : Ngembang jambé = kumayungyang.\n",
      "Output: Ngembang/UNK jambé/UNK kumayungyang/UNK\n",
      "\n",
      "Input : Ngembang jambu = lumenyap.\n",
      "Output: Ngembang/UNK jambu/UNK lumenyap/UNK\n",
      "\n",
      "Input : Ngembang jéngkol = mérékenyényén.\n",
      "Output: Ngembang/UNK jéngkol/UNK mérékenyényén/UNK\n",
      "\n",
      "Input : Ngembang kaso = ciriwis, cilimit.\n",
      "Output: Ngembang/UNK kaso/UNK ciriwis/UNK cilimit/KB\n",
      "\n",
      "Input : Ngembang koja = olohok, molohok.\n",
      "Output: Ngembang/UNK koja/KB olohok/KB molohok/KS\n",
      "\n",
      "Input : Ngembang laja = jamotrot.\n",
      "Output: Ngembang/UNK laja/KB jamotrot/UNK\n",
      "\n",
      "Input : Ngembang lopang = nyacas.\n",
      "Output: Ngembang/UNK lopang/UNK nyacas/KP\n",
      "\n",
      "Input : Ngembang paré = baringsang.\n",
      "Output: Ngembang/UNK paré/UNK baringsang/KB\n",
      "\n",
      "Input : Ngembang tiwu = ngabadagus.\n",
      "Output: Ngembang/UNK tiwu/KB ngabadagus/UNK\n",
      "\n",
      "Input : Ngembang waluh = alèwoh.\n",
      "Output: Ngembang/UNK waluh/KN alèwoh/UNK\n",
      "\n",
      "Input : Ngéplék jawér ngandah jangjangmiyuni hayam kabiri.\n",
      "Output: Ngéplék/UNK jawér/UNK ngandah/UNK jangjangmiyuni/UNK hayam/KB kabiri/UNK\n",
      "\n",
      "Input : Ngépung méja = dariuk sakurilingeun méja, rék atawa eu keur dahar.\n",
      "Output: Ngépung/UNK méja/UNK dariuk/UNK sakurilingeun/UNK méja/UNK rék/UNK atawa/KPN eu/UNK keur/UNK dahar/KP\n",
      "\n",
      "Input : Ngeunah éon teu ngeunah éhé = teu adil, lantaran nu sapihak licik atawa pinter kodék.\n",
      "Output: Ngeunah/KS éon/UNK teu/PL ngeunah/KS éhé/UNK teu/PL adil/UNK lantaran/PA nu/KG sapihak/UNK licik/UNK atawa/KPN pinter/UNK kodék/UNK\n",
      "\n",
      "Input : Ngeunah angen ngeunah angeunngeunah nyandang ngeunah nyanding.\n",
      "Output: Ngeunah/KS angen/KN ngeunah/KS angeunngeunah/UNK nyandang/UNK ngeunah/KS nyanding/UNK\n",
      "\n",
      "Input : Ngeunah nyandang ngeunah nyanding = hirup senang lantaran cukup paké jeung nyandingkeun pamajikan nu satia satuhu.\n",
      "Output: Ngeunah/KS nyandang/UNK ngeunah/KS nyanding/UNK hirup/KP senang/UNK lantaran/PA cukup/UNK paké/UNK jeung/UNK nyandingkeun/UNK pamajikan/KB nu/KG satia/KS satuhu/UNK\n",
      "\n",
      "Input : Ngijing sila béngkok sembah = teu satia ka dunungan.\n",
      "Output: Ngijing/UNK sila/UNK béngkok/UNK sembah/UNK teu/PL satia/KS ka/UNK dunungan/KB\n",
      "\n",
      "Input : Nginjeum sirit ka nu kawin = nginjeum barang (parabot) anu keur nu bogana kacida perluna jeung ngan sakitu-kituna.\n",
      "Output: Nginjeum/UNK sirit/KB ka/UNK nu/KG kawin/UNK nginjeum/UNK barang/UNK parabot/KB anu/UNK keur/UNK nu/KG bogana/KB kacida/KT perluna/UNK jeung/UNK ngan/KT sakitu/UNK kituna/UNK\n",
      "\n",
      "Input : Ngodok liang buntu = geus hésé capé, ari pék teu hasil, sabab aya nu ngahalangan.\n",
      "Output: Ngodok/KB liang/UNK buntu/UNK geus/KBT hésé/UNK capé/UNK ari/KPB pék/UNK teu/PL hasil/UNK sabab/PA aya/KP nu/KG ngahalangan/UNK\n",
      "\n",
      "Input : Ngomong sabedug sakali = arang ngomong.\n",
      "Output: Ngomong/UNK sabedug/UNK sakali/UNK arang/UNK ngomong/UNK\n",
      "\n",
      "Input : Ngotok ngowo = cicing lila di imah batur.\n",
      "Output: Ngotok/UNK ngowo/KP cicing/KB lila/UNK di/UNK imah/UNK batur/X\n",
      "\n",
      "Input : Ngukur ku kujur nimbang ka awak = mikiran sarupaning perkara luyu henteuna jeung kaayaan diri sorangan.\n",
      "Output: Ngukur/UNK ku/UNK kujur/KB nimbang/UNK ka/UNK awak/KB mikiran/UNK sarupaning/UNK perkara/UNK luyu/UNK henteuna/UNK jeung/UNK kaayaan/KB diri/UNK sorangan/PNJ\n",
      "\n",
      "Input : Ngulit bawang = ipis, teu terus kana haté.\n",
      "Output: Ngulit/UNK bawang/UNK ipis/UNK teu/PL terus/UNK kana/UNK haté/UNK\n",
      "\n",
      "Input : Ngusap birit bari indit = ninggalkeun pasamoan atawa pangangian tanpa pamit heula, malah semu keuheul.\n",
      "Output: Ngusap/UNK birit/KB bari/KS indit/UNK ninggalkeun/UNK pasamoan/KB atawa/KPN pangangian/UNK tanpa/UNK pamit/KB heula/KT malah/UNK semu/KB keuheul/KS\n",
      "\n",
      "Input : Nikukur atawa kawas tikukur = nyebut ngaran sorangan ka nu anyar pinanggih.\n",
      "Output: Nikukur/UNK atawa/KPN kawas/PA tikukur/KB nyebut/UNK ngaran/KB sorangan/PNJ ka/UNK nu/KG anyar/KS pinanggih/UNK\n",
      "\n",
      "Input : Ninggalkeun hayam dudutaneun = ninggalkeun pagawéan nu can anggeus, keur kapalangna pisan.\n",
      "Output: Ninggalkeun/UNK hayam/KB dudutaneun/UNK ninggalkeun/UNK pagawéan/UNK nu/KG can/PL anggeus/KP keur/UNK kapalangna/KB pisan/UNK\n",
      "\n",
      "Input : Nini-nini dikeningan, éwé randa dihiasan = ngararangkénan barang nu geus butut atawa ruksak.\n",
      "Output: Nini/KB nini/KB dikeningan/UNK éwé/UNK randa/UNK dihiasan/UNK ngararangkénan/UNK barang/UNK nu/KG geus/KBT butut/UNK atawa/KPN ruksak/UNK\n",
      "\n",
      "Input : Nini-nini leungit sapeuting, tai maung huisan = kari-kari.\n",
      "Output: Nini/KB nini/KB leungit/UNK sapeuting/UNK tai/KB maung/UNK huisan/KB kari/KB kari/KB\n",
      "\n",
      "Input : Nista, maja, utama = sakali kurang hadé, dua kali meujeuhna, tilu kali cukup.\n",
      "Output: Nista/KB maja/UNK utama/UNK sakali/UNK kurang/UNK hadé/UNK dua/UNK kali/UNK meujeuhna/KP tilu/WIL kali/UNK cukup/UNK\n",
      "\n",
      "Input : Nontot jodo = geus, aya nu ngalanaat tapi bodo deui.\n",
      "Output: Nontot/UNK jodo/UNK geus/KBT aya/KP nu/KG ngalanaat/UNK tapi/KPN bodo/UNK deui/UNK\n",
      "\n",
      "Input : Nu borok dirorojok, nu titeuleum disimbeuhan = nu keur susah dipupuas, ditambahan kasusahna.\n",
      "Output: Nu/KG borok/KB dirorojok/UNK nu/KG titeuleum/UNK disimbeuhan/UNK nu/KG keur/UNK susah/UNK dipupuas/UNK ditambahan/UNK kasusahna/UNK\n",
      "\n",
      "Input : Nu burung diangklungan nu édana dikendangan = nanggap carita gedebul rahul atawa nu ngégcap kawas heueuh, malah dihaja sina leuwih ngabuih.\n",
      "Output: Nu/KG burung/KS diangklungan/UNK nu/KG édana/UNK dikendangan/UNK nanggap/KP carita/UNK gedebul/UNK rahul/UNK atawa/KPN nu/KG ngégcap/UNK kawas/PA heueuh/PL malah/UNK dihaja/UNK sina/KPB leuwih/UNK ngabuih/KP\n",
      "\n",
      "Input : Nuju hurup ninggang wirahma = paséhat tur ngeunah laguna.\n",
      "Output: Nuju/KP hurup/KB ninggang/UNK wirahma/KB paséhat/UNK tur/KPN ngeunah/KS laguna/KB\n",
      "\n",
      "Input : Numbuk di sué = ninggang atawa meneran keur sué sawatara kali.\n",
      "Output: Numbuk/KB di/UNK sué/UNK ninggang/UNK atawa/KPN meneran/KP keur/UNK sué/UNK sawatara/PNJ kali/UNK\n",
      "\n",
      "Input : Nungtik lari mapay tapak = néangan katerangan tapak lacak nu baheula.\n",
      "Output: Nungtik/UNK lari/UNK mapay/UNK tapak/KB néangan/UNK katerangan/UNK tapak/KB lacak/KB nu/KG baheula/KB\n",
      "\n",
      "Input : Nungtut bari ngeusi = usaha ngulik élmu atawa rejeki saeutik-saeutik, nepi ka aya buktina.\n",
      "Output: Nungtut/UNK bari/KS ngeusi/UNK usaha/UNK ngulik/KP élmu/UNK atawa/KPN rejeki/UNK saeutik/UNK saeutik/UNK nepi/PA ka/UNK aya/KP buktina/UNK\n",
      "\n",
      "Input : Nurub cupu = ninggang pasanganana, nu kasép jeung nu geulis.\n",
      "Output: Nurub/UNK cupu/UNK ninggang/UNK pasanganana/UNK nu/KG kasép/UNK jeung/UNK nu/KG geulis/UNK\n",
      "\n",
      "Input : Nyaah dulang = nyaahna ka anak ngan perkara dahar-pakéna baé, teu merhatikeun atikanana.\n",
      "Output: Nyaah/KB dulang/UNK nyaahna/KB ka/UNK anak/UNK ngan/KT perkara/UNK dahar/KP pakéna/UNK baé/UNK teu/PL merhatikeun/UNK atikanana/UNK\n",
      "\n",
      "Input : Nya di hurang nya di keuyep = parasaana mah teu di rahayat teu di pajabat, sarua baé.\n",
      "Output: Nya/KS di/UNK hurang/KB nya/KS di/UNK keuyep/UNK parasaana/UNK mah/UNK teu/PL di/UNK rahayat/UNK teu/PL di/UNK pajabat/UNK sarua/KS baé/UNK\n",
      "\n",
      "Input : Nya ngagogog nya mantog = nitah digawé ka batur bari prak ku sorangan atawa indit sorangan pikeun nguruskeun hiji perkara, lantaran teu bérés.\n",
      "Output: Nya/KS ngagogog/UNK nya/KS mantog/UNK nitah/UNK digawé/UNK ka/UNK batur/X bari/KS prak/UNK ku/UNK sorangan/PNJ atawa/KPN indit/UNK sorangan/PNJ pikeun/UNK nguruskeun/UNK hiji/WIL perkara/UNK lantaran/PA teu/PL bérés/UNK\n",
      "\n",
      "Input : Nyaho lautanana = nyaho karesep jeung kateuresepna.\n",
      "Output: Nyaho/KP lautanana/UNK nyaho/KP karesep/UNK jeung/UNK kateuresepna/UNK\n",
      "\n",
      "Input : Nyekel sabuk milang tatu = perang tanding, ngadu jajatén.\n",
      "Output: Nyekel/UNK sabuk/UNK milang/UNK tatu/KB perang/KB tanding/UNK ngadu/UNK jajatén/UNK\n",
      "\n",
      "Input : Nyeri beuheung sosonggéteun = kesel ngadagoan nu rék datang, mindeng ngalieukan nepi ka asa nyeri beuheung.\n",
      "Output: Nyeri/KS beuheung/KB sosonggéteun/UNK kesel/KS ngadagoan/KP nu/KG rék/UNK datang/UNK mindeng/KT ngalieukan/UNK nepi/PA ka/UNK asa/KB nyeri/KS beuheung/KB\n",
      "\n",
      "Input : Nyeri peurih geus kapanggih, lara wirang geus kasorang = sagala rupa dodoja hirup geus kaalaman.\n",
      "Output: Nyeri/KS peurih/KB geus/KBT kapanggih/UNK lara/KB wirang/KT geus/KBT kasorang/UNK sagala/UNK rupa/UNK dodoja/KB hirup/KP geus/KBT kaalaman/UNK\n",
      "\n",
      "Input : Nyiar batuk pibaraheun = néangan picilakaeun.\n",
      "Output: Nyiar/KP batuk/UNK pibaraheun/KB néangan/UNK picilakaeun/UNK\n",
      "\n",
      "Input : Nyieun catur taya dapur = ngarang carita teu puguh galurna.\n",
      "Output: Nyieun/UNK catur/KB taya/KB dapur/UNK ngarang/UNK carita/UNK teu/PL puguh/UNK galurna/KB\n",
      "\n",
      "Input : Nyieun piandel = nyieun piheueuh, nyieun carita bohong ngarah dipercaya.\n",
      "Output: Nyieun/UNK piandel/UNK nyieun/UNK piheueuh/UNK nyieun/UNK carita/UNK bohong/UNK ngarah/UNK dipercaya/UNK\n",
      "\n",
      "Input : Nyiruan teu resepeun nyeyeuseup nu pait-pait = umumna jalma tara resep sobatana jeung nu miskin.\n",
      "Output: Nyiruan/KB teu/PL resepeun/UNK nyeyeuseup/UNK nu/KG pait/KS pait/KS umumna/UNK jalma/UNK tara/KT resep/UNK sobatana/UNK jeung/UNK nu/KG miskin/KS\n",
      "\n",
      "Input : Nyolok mata buncelik = nyarita atawa ngalakukeun hal anu teu ngeunah ka salahsawurang atawa sagolongan anu aya di dinya.\n",
      "Output: Nyolok/UNK mata/UNK buncelik/KP nyarita/UNK atawa/KPN ngalakukeun/UNK hal/UNK anu/UNK teu/PL ngeunah/KS ka/UNK salahsawurang/UNK atawa/KPN sagolongan/UNK anu/UNK aya/KP di/UNK dinya/UNK\n",
      "\n",
      "Input : Nyolong badé = ulat bageur padahal jahat.\n",
      "Output: Nyolong/UNK badé/UNK ulat/KB bageur/KS padahal/UNK jahat/UNK\n",
      "\n",
      "Input : Nyoo gado = ngahareuykeun jalma nu pantes dihormat.\n",
      "Output: Nyoo/KP gado/KB ngahareuykeun/UNK jalma/UNK nu/KG pantes/KS dihormat/UNK\n",
      "\n",
      "Input : Ombak banyuan = buuk nu galing ombak-ombakan.\n",
      "Output: Ombak/UNK banyuan/UNK buuk/UNK nu/KG galing/KS ombak/UNK ombakan/UNK\n",
      "\n",
      "Input : Padarubak sisi samping, pagadégdé ham-pura = pagadégdé teu nepi ka papajangan, pagétréng téh teu nepi ka papanjangna, cukup ku dimusawarakeun baé di antara maranéhna.\n",
      "Output: Padarubak/UNK sisi/UNK samping/KB pagadégdé/UNK ham/UNK pura/UNK pagadégdé/UNK teu/PL nepi/PA ka/UNK papajangan/UNK pagétréng/UNK téh/UNK teu/PL nepi/PA ka/UNK papanjangna/UNK cukup/UNK ku/UNK dimusawarakeun/UNK baé/UNK di/UNK antara/UNK maranéhna/UNK\n",
      "\n",
      "Input : 576. Padu teu buruk digantung = perkara moal ruksak ku tindakan.\n",
      "Output: 576/UNK Padu/KP teu/PL buruk/UNK digantung/UNK perkara/UNK moal/KB ruksak/UNK ku/UNK tindakan/UNK\n",
      "\n",
      "Input : Paéh pikir = teu boga karep.\n",
      "Output: Paéh/UNK pikir/UNK teu/PL boga/KP karep/UNK\n",
      "\n",
      "Input : Paéh poso = méakkeun kadadak tisusut tidungdung.\n",
      "Output: Paéh/UNK poso/UNK méakkeun/UNK kadadak/UNK tisusut/UNK tidungdung/UNK\n",
      "\n",
      "Input : Paéh teu hos, hirup teu neuthirup teu neut, paéh teu hos.\n",
      "Output: Paéh/UNK teu/PL hos/UNK hirup/KP teu/PL neuthirup/UNK teu/PL neut/KB paéh/UNK teu/PL hos/UNK\n",
      "\n",
      "Input : Pagedé-gedé urat renggé = patarik-tarik nyora, nu beuki atawa nu paséa.\n",
      "Output: Pagedé/UNK gedé/UNK urat/UNK renggé/UNK patarik/KB tarik/KS nyora/UNK nu/KG beuki/KT atawa/KPN nu/KG paséa/UNK\n",
      "\n",
      "Input : Pageuh kancing loba anjing = canngcing.\n",
      "Output: Pageuh/KP kancing/UNK loba/UNK anjing/UNK canngcing/UNK\n",
      "\n",
      "Input : Pait daging tulang = mulus awak, langka katerap ku sakit, tara radang atawa borok. Sabalikna, amis daging, kasakit, tara radang atawa borok.\n",
      "Output: Pait/KS daging/UNK tulang/UNK mulus/KB awak/KB langka/KT katerap/UNK ku/UNK sakit/UNK tara/KT radang/UNK atawa/KPN borok/KB Sabalikna/UNK amis/KB daging/UNK kasakit/UNK tara/KT radang/UNK atawa/KPN borok/KB\n",
      "\n",
      "Input : Pait paria = pait ngeunah, atawa pait ogé ngeunah.\n",
      "Output: Pait/KS paria/UNK pait/KS ngeunah/KS atawa/KPN pait/KS ogé/UNK ngeunah/KS\n",
      "\n",
      "Input : Pakait pikir = patukeur tineung, jangji rék ngahiji.\n",
      "Output: Pakait/UNK pikir/UNK patukeur/KP tineung/KP jangji/UNK rék/UNK ngahiji/UNK\n",
      "\n",
      "Input : Panas leungeun = teu kajadian pepelakan.\n",
      "Output: Panas/UNK leungeun/UNK teu/PL kajadian/KB pepelakan/UNK\n",
      "\n",
      "Input : Panday tara boga bedog = nyindiran tukang nyieun sarupaning barang, nu teu bogaeun éta barang nu sok dijieunna.\n",
      "Output: Panday/KB tara/KT boga/KP bedog/KB nyindiran/UNK tukang/UNK nyieun/UNK sarupaning/UNK barang/UNK nu/KG teu/PL bogaeun/KB éta/UNK barang/UNK nu/KG sok/KP dijieunna/UNK\n",
      "\n",
      "Input : Pangeprak reumis = purah diutuh-étah, ngajalankeun pagawéan nu lumayan.\n",
      "Output: Pangeprak/KB reumis/UNK purah/UNK diutuh/UNK étah/UNK ngajalankeun/UNK pagawéan/UNK nu/KG lumayan/UNK\n",
      "\n",
      "Input : Panjang léngkah = jauh panyabaan, henteu kagok indit-inditan.\n",
      "Output: Panjang/UNK léngkah/UNK jauh/UNK panyabaan/UNK henteu/PL kagok/UNK indit/UNK inditan/UNK\n",
      "\n",
      "Input : Panjang leungeun = sok pulang-paling, tukang cecemmed.\n",
      "Output: Panjang/UNK leungeun/UNK sok/KP pulang/UNK paling/KG tukang/UNK cecemmed/UNK\n",
      "\n",
      "Input : Panon kéongeun = panon caian baé.\n",
      "Output: Panon/KB kéongeun/UNK panon/KB caian/KB baé/UNK\n",
      "\n",
      "Input : Panonna kandar ka sisi = resep ngarérétan anu kasép (awéwé léngér).\n",
      "Output: Panonna/KB kandar/UNK ka/UNK sisi/UNK resep/UNK ngarérétan/UNK anu/UNK kasép/UNK awéwé/UNK léngér/UNK\n",
      "\n",
      "Input : Papadon los ka kolong = pasini geus asak pisan, tuluyana bolay.\n",
      "Output: Papadon/KG los/UNK ka/UNK kolong/KB pasini/KB geus/KBT asak/KB pisan/UNK tuluyana/UNK bolay/UNK\n",
      "\n",
      "Input : Papais pais paray = paéntép kawas paray dipais.\n",
      "Output: Papais/KB pais/KB paray/KB paéntép/UNK kawas/PA paray/KB dipais/UNK\n",
      "\n",
      "Input : Pariuk manggih kekeb = nyétél, nu goréng patut meunangkeun nu goréng sopak.\n",
      "Output: Pariuk/KB manggih/UNK kekeb/KP nyétél/UNK nu/KG goréng/UNK patut/KS meunangkeun/UNK nu/KG goréng/UNK sopak/KP\n",
      "\n",
      "Input : Pareumeun obor = teu nyaho saha-saha nu jadi baraya atawa karuhun lantaran taya nu méré nyaho.\n",
      "Output: Pareumeun/UNK obor/KB teu/PL nyaho/KP saha/KG saha/KG nu/KG jadi/KP baraya/KB atawa/KPN karuhun/KB lantaran/PA taya/KB nu/KG méré/UNK nyaho/KP\n",
      "\n",
      "Input : Pasini jangji pasang subaya = ngayakeun perjanjian.\n",
      "Output: Pasini/KB jangji/UNK pasang/UNK subaya/KB ngayakeun/UNK perjanjian/UNK\n",
      "\n",
      "Input : Pasrah arit = pasrah luarna atawa basana wungkul, henteu terus jeung haté.\n",
      "Output: Pasrah/KP arit/UNK pasrah/KP luarna/UNK atawa/KPN basana/KB wungkul/KT henteu/PL terus/UNK jeung/UNK haté/UNK\n",
      "\n",
      "Input : Patpat gulipat = kalakuan licik, teu jujur.\n",
      "Output: Patpat/UNK gulipat/UNK kalakuan/UNK licik/UNK teu/PL jujur/UNK\n",
      "\n",
      "Input : Perlu kasambut sunat kalampahkeun = ngalakukeun anu wajib bari sakalian jeung anu henteu dikudukeun.\n",
      "Output: Perlu/UNK kasambut/KP sunat/UNK kalampahkeun/UNK ngalakukeun/UNK anu/UNK wajib/UNK bari/KS sakalian/UNK jeung/UNK anu/UNK henteu/PL dikudukeun/UNK\n",
      "\n",
      "Input : Peujit koréseun = isuk-isuk geus kudu barangdahar, atawa mun élat dahar meureusan téh sok nyelengit beuteung.\n",
      "Output: Peujit/KB koréseun/UNK isuk/UNK isuk/UNK geus/KBT kudu/UNK barangdahar/UNK atawa/KPN mun/KB élat/UNK dahar/KP meureusan/UNK téh/UNK sok/KP nyelengit/UNK beuteung/KB\n",
      "\n",
      "Input : Pilih kasih = nyaah waréwéhan, nyaah ka sawaréh.\n",
      "Output: Pilih/UNK kasih/UNK nyaah/KB waréwéhan/UNK nyaah/KB ka/UNK sawaréh/UNK\n",
      "\n",
      "Input : Pindah cai pindah tampian = ngaluyukeun diri kana adat jeung kabiasaan di tempat anyar.\n",
      "Output: Pindah/UNK cai/KB pindah/UNK tampian/KB ngaluyukeun/UNK diri/UNK kana/UNK adat/UNK jeung/UNK kabiasaan/UNK di/UNK tempat/UNK anyar/KS\n",
      "\n",
      "Input : Pindahan cai dibawa tampianana = aya di pangumbaraan nagaeun adat kabiasaan sorangan.\n",
      "Output: Pindahan/UNK cai/KB dibawa/UNK tampianana/UNK aya/KP di/UNK pangumbaraan/KB nagaeun/UNK adat/UNK kabiasaan/UNK sorangan/PNJ\n",
      "\n",
      "Input : Pindah pileumpangan = robah adat lantaran jadi beunghar atawa jadi gogedén.\n",
      "Output: Pindah/UNK pileumpangan/UNK robah/UNK adat/UNK lantaran/PA jadi/KP beunghar/KS atawa/KPN jadi/KP gogedén/UNK\n",
      "\n",
      "Input : Pinter kabalinger = ongkoh cénah pinter, tapi katipu atawa nyieun aturan anu teu bener.\n",
      "Output: Pinter/UNK kabalinger/KS ongkoh/UNK cénah/UNK pinter/UNK tapi/KPN katipu/UNK atawa/KPN nyieun/UNK aturan/UNK anu/UNK teu/PL bener/KS\n",
      "\n",
      "Input : Pinter kodék = licik, daék ménta embung méré.\n",
      "Output: Pinter/UNK kodék/UNK licik/UNK daék/UNK ménta/UNK embung/KB méré/UNK\n",
      "\n",
      "Input : Piruruhan dikatengah-imahkeun = anu dusun dipilukeun kana riungan atawa gempungan jalma anu loba kanyahona.\n",
      "Output: Piruruhan/KB dikatengah/UNK imahkeun/UNK anu/UNK dusun/UNK dipilukeun/UNK kana/UNK riungan/UNK atawa/KPN gempungan/UNK jalma/UNK anu/UNK loba/UNK kanyahona/UNK\n",
      "\n",
      "Input : Poék mongkleng buta rajin = poék pisan, teu katenjo nanaon.\n",
      "Output: Poék/UNK mongkleng/KB buta/KB rajin/UNK poék/UNK pisan/UNK teu/PL katenjo/UNK nanaon/UNK\n",
      "\n",
      "Input : Poho ka purwadaksina = unggah adat, pindah pileumpangan, jadi gedé hulu. Biasa ogé disebut lali ka purwadaksina.\n",
      "Output: Poho/UNK ka/UNK purwadaksina/UNK unggah/KP adat/UNK pindah/UNK pileumpangan/UNK jadi/KP gedé/UNK hulu/KB Biasa/UNK ogé/UNK disebut/UNK lali/KP ka/UNK purwadaksina/UNK\n",
      "\n",
      "Input : Pokrol bangbu (Ind. pokok bambu)= teu boga kaahlian dina widang hukum, ngan ukur boga pangalaman.\n",
      "Output: Pokrol/UNK bangbu/UNK Ind/UNK pokok/UNK bambu/UNK teu/PL boga/KP kaahlian/UNK dina/PA widang/KB hukum/UNK ngan/KT ukur/UNK boga/KP pangalaman/UNK\n",
      "\n",
      "Input : Pondok catur panjang maksud = caritaan nu ringkes tapi ngeusi.\n",
      "Output: Pondok/UNK catur/KB panjang/UNK maksud/UNK caritaan/UNK nu/KG ringkes/UNK tapi/KPN ngeusi/UNK\n",
      "\n",
      "Input : Pondok heureut = kurang akal, teu daék mikir hésé-hésé.\n",
      "Output: Pondok/UNK heureut/KS kurang/UNK akal/UNK teu/PL daék/UNK mikir/UNK hésé/UNK hésé/UNK\n",
      "\n",
      "Input : Pondok jodo panjang baraya = sanajan pondok jodo, sing nuluy (ulah pegat) jadi baraya.\n",
      "Output: Pondok/UNK jodo/UNK panjang/UNK baraya/KB sanajan/KPB pondok/UNK jodo/UNK sing/KPB nuluy/UNK ulah/PL pegat/KP jadi/KP baraya/KB\n",
      "\n",
      "Input : Pondok léngkah = saeutik panyabaan teu pati bébas lunta ti lembur.\n",
      "Output: Pondok/UNK léngkah/UNK saeutik/UNK panyabaan/UNK teu/PL pati/KB bébas/UNK lunta/UNK ti/KPB lembur/UNK\n",
      "\n",
      "Input : Pondok nyogok panjang nyugak = garihal, teu matak resep ngadéngékeunana.\n",
      "Output: Pondok/UNK nyogok/KB panjang/UNK nyugak/UNK garihal/KS teu/PL matak/UNK resep/UNK ngadéngékeunana/UNK\n",
      "\n",
      "Input : Potol téko = potol pisan, parna atawa kacida potolna.\n",
      "Output: Potol/UNK téko/UNK potol/UNK pisan/UNK parna/KB atawa/KPN kacida/KT potolna/UNK\n",
      "\n",
      "Input : Puasa manggih lebarankokoro manggih Mulud.\n",
      "Output: Puasa/UNK manggih/UNK lebarankokoro/UNK manggih/UNK Mulud/KB\n",
      "\n",
      "Input : Pucuk awian, lir awi sumaér di pasir = pula-pili, plinplan, teu boga tangtungan sorangan.\n",
      "Output: Pucuk/UNK awian/KB lir/UNK awi/KB sumaér/UNK di/UNK pasir/KN pula/UNK pili/UNK plinplan/UNK teu/PL boga/KP tangtungan/UNK sorangan/PNJ\n",
      "\n",
      "Input : Punduk moal ngaluhuran hulu = sakumaha pinterna murid (waktu harita), moal leuwih pinter ti guruna.\n",
      "Output: Punduk/UNK moal/KB ngaluhuran/UNK hulu/KB sakumaha/UNK pinterna/UNK murid/KB waktu/UNK harita/UNK moal/KB leuwih/UNK pinter/UNK ti/KPB guruna/UNK\n",
      "\n",
      "Input : Pundung éon = pundung jijieunan ngarah padungupan.\n",
      "Output: Pundung/UNK éon/UNK pundung/UNK jijieunan/UNK ngarah/UNK padungupan/UNK\n",
      "\n",
      "Input : Puraga tamba kadéngda = dapon, asal baé, tamba henteu teuing.\n",
      "Output: Puraga/UNK tamba/KB kadéngda/UNK dapon/KPB asal/UNK baé/UNK tamba/KB henteu/PL teuing/KT\n",
      "\n",
      "Input : Pur manuk = ngawawékeun jelema bari teu disuguhan, ditawaran duit wungkul.\n",
      "Output: Pur/UNK manuk/UNK ngawawékeun/UNK jelema/UNK bari/KS teu/PL disuguhan/UNK ditawaran/UNK duit/UNK wungkul/KT\n",
      "\n",
      "Input : Raga papisah jeung nyawa = maot.\n",
      "Output: Raga/UNK papisah/UNK jeung/UNK nyawa/UNK maot/UNK\n",
      "\n",
      "Input : Ragaji Inggris = jalma nu bisa pisan nipu ku jalan ngolo-ngolo.\n",
      "Output: Ragaji/UNK Inggris/UNK jalma/UNK nu/KG bisa/UNK pisan/UNK nipu/UNK ku/UNK jalan/UNK ngolo/UNK ngolo/UNK\n",
      "\n",
      "Input : Rambay alaeun raweuy beuweungeun = subur mahmur, loba dahareun hasil tani.\n",
      "Output: Rambay/UNK alaeun/KB raweuy/UNK beuweungeun/KB subur/UNK mahmur/UNK loba/UNK dahareun/KB hasil/UNK tani/UNK\n",
      "\n",
      "Input : Ranggaék méméh tandukan = beunghar méméh boga, jeneng méméh pangkat agul mantén saméméh beunghar atawa jeneng.\n",
      "Output: Ranggaék/UNK méméh/UNK tandukan/UNK beunghar/KS méméh/UNK boga/KP jeneng/UNK méméh/UNK pangkat/UNK agul/KP mantén/UNK saméméh/UNK beunghar/KS atawa/KPN jeneng/UNK\n",
      "\n",
      "Input : Raris anjing = loba nu mikaresep (awéwé) tapi euweuh nu jadi kawin, atawa loba nu nitah tapi teu puguh buruhanana.\n",
      "Output: Raris/UNK anjing/UNK loba/UNK nu/KG mikaresep/UNK awéwé/UNK tapi/KPN euweuh/KP nu/KG jadi/KP kawin/UNK atawa/KPN loba/UNK nu/KG nitah/UNK tapi/KPN teu/PL puguh/UNK buruhanana/UNK\n",
      "\n",
      "Input : Réa jungjang karawatna = réa patula-patalina jeung perkara séjén.\n",
      "Output: Réa/UNK jungjang/UNK karawatna/UNK réa/UNK patula/UNK patalina/UNK jeung/UNK perkara/UNK séjén/UNK\n",
      "\n",
      "Input : Réa kétan réa keton = loba dahareun jeung loba duit, taya kakurang.\n",
      "Output: Réa/UNK kétan/UNK réa/UNK keton/KB loba/UNK dahareun/KB jeung/UNK loba/UNK duit/UNK taya/KB kakurang/UNK\n",
      "\n",
      "Input : Réa rambat kamalénaréa jungjang karawatna.\n",
      "Output: Réa/UNK rambat/UNK kamalénaréa/UNK jungjang/UNK karawatna/UNK\n",
      "\n",
      "Input : Rejeki kasésér ku hakan = rejeki béak dipaké barangdahar.\n",
      "Output: Rejeki/UNK kasésér/UNK ku/UNK hakan/KP rejeki/UNK béak/UNK dipaké/UNK barangdahar/UNK\n",
      "\n",
      "Input : Sahérang-hérang cibéas = jelema anu geus meunang kanyeri, haténa moal beresih pisan, sanajan di luarna hadé.\n",
      "Output: Sahérang/UNK hérang/UNK cibéas/UNK jelema/UNK anu/UNK geus/KBT meunang/UNK kanyeri/KB haténa/UNK moal/KB beresih/UNK pisan/UNK sanajan/KPB di/UNK luarna/UNK hadé/UNK\n",
      "\n",
      "Input : Sakecap kadua gobang = babari ngambek jeung babari ngadék.\n",
      "Output: Sakecap/UNK kadua/UNK gobang/UNK babari/KS ngambek/KB jeung/UNK babari/KS ngadék/UNK\n",
      "\n",
      "Input : Sakésér daun = babari lapar (budak).\n",
      "Output: Sakésér/UNK daun/UNK babari/KS lapar/UNK budak/KB\n",
      "\n",
      "Input : Sakuru-kuruna lembu, saregéng-regéngna banténg = Sateu-bogana ogé nu jeneng atawa pangkat luhur urut nu beunghar.\n",
      "Output: Sakuru/UNK kuruna/UNK lembu/UNK saregéng/UNK regéngna/UNK banténg/UNK Sateu/UNK bogana/KB ogé/UNK nu/KG jeneng/UNK atawa/KPN pangkat/UNK luhur/UNK urut/KB nu/KG beunghar/KS\n",
      "\n",
      "Input : Salah kaprah = salah tapi geus umum.\n",
      "Output: Salah/UNK kaprah/UNK salah/UNK tapi/KPN geus/KBT umum/UNK\n",
      "\n",
      "Input : Salieuk béh = sagala nyampak, taya kakurang.\n",
      "Output: Salieuk/UNK béh/UNK sagala/UNK nyampak/KP taya/KB kakurang/UNK\n",
      "\n",
      "Input : Salisung garduh = sapongkol atawa sakongkol.\n",
      "Output: Salisung/UNK garduh/UNK sapongkol/UNK atawa/KPN sakongkol/UNK\n",
      "\n",
      "Input : Saluhurundung = punduk tara ngaleuihuhan hulupunduk tara ngaluhuran hulu.\n",
      "Output: Saluhurundung/UNK punduk/UNK tara/KT ngaleuihuhan/UNK hulupunduk/UNK tara/KT ngaluhuran/UNK hulu/KB\n",
      "\n",
      "Input : Sanajan nepi ka bisa ngukir langit = sanajan sakumaha pinterna.\n",
      "Output: Sanajan/KPB nepi/PA ka/UNK bisa/UNK ngukir/UNK langit/UNK sanajan/KPB sakumaha/UNK pinterna/UNK\n",
      "\n",
      "Input : Sapapait samamanis = sabagja sacilaka, sauyunan boh keur senang boh keur cilaka.\n",
      "Output: Sapapait/UNK samamanis/UNK sabagja/UNK sacilaka/UNK sauyunan/UNK boh/UNK keur/UNK senang/UNK boh/UNK keur/UNK cilaka/UNK\n",
      "\n",
      "Input : Sapi anut ka banténg = awéwé nuturkeun lalaki (salaki).\n",
      "Output: Sapi/UNK anut/KP ka/UNK banténg/UNK awéwé/UNK nuturkeun/KP lalaki/UNK salaki/KB\n",
      "\n",
      "Input : Sari gunung = tegép geulis katénjona ti kaanggangan ari ti kadeukeutan mah teu sabaraha.\n",
      "Output: Sari/UNK gunung/UNK tegép/UNK geulis/UNK katénjona/UNK ti/KPB kaanggangan/KB ari/KPB ti/KPB kadeukeutan/KB mah/UNK teu/PL sabaraha/KT\n",
      "\n",
      "Input : Sareundeuk saigel = sauyunan.\n",
      "Output: Sareundeuk/UNK saigel/UNK sauyunan/UNK\n",
      "\n",
      "Input : Satalén tilu baru = Sarua, kitu-kitu kénéh.\n",
      "Output: Satalén/UNK tilu/WIL baru/UNK Sarua/KS kitu/PA kitu/PA kénéh/UNK\n",
      "\n",
      "Input : Satengah buah leunca = kurang ingetana, rada gélo.\n",
      "Output: Satengah/UNK buah/UNK leunca/KB kurang/UNK ingetana/UNK rada/UNK gélo/UNK\n",
      "\n",
      "Input : Satru kabuyutan = musuh turunan, musuh gerot.\n",
      "Output: Satru/KB kabuyutan/UNK musuh/KB turunan/UNK musuh/KB gerot/UNK\n",
      "\n",
      "Input : Saungkab peundeuy = omongan nu ringkes sarta rada janggal.\n",
      "Output: Saungkab/UNK peundeuy/KB omongan/UNK nu/KG ringkes/UNK sarta/KPN rada/UNK janggal/UNK\n",
      "\n",
      "Input : Saur manuk = ngajawab pertanyaan bareng sarta sarua.\n",
      "Output: Saur/KB manuk/UNK ngajawab/UNK pertanyaan/UNK bareng/UNK sarta/KPN sarua/KS\n",
      "\n",
      "Input : Sawaja sabeusi = sarua matabatna.\n",
      "Output: Sawaja/UNK sabeusi/UNK sarua/KS matabatna/UNK\n",
      "\n",
      "Input : Sawan geureuh = teu jadi sakumaha nu dipikarep atawa teu tulus kajadian sanggeus jadi carita balaréa.\n",
      "Output: Sawan/KB geureuh/UNK teu/PL jadi/KP sakumaha/UNK nu/KG dipikarep/UNK atawa/KPN teu/PL tulus/KP kajadian/KB sanggeus/KPB jadi/KP carita/UNK balaréa/UNK\n",
      "\n",
      "Input : Sawan kuya = teu bisa turun deui (nu naék) atawa teu bisa balik ka lembur lantaran geus teu boga ongkos.\n",
      "Output: Sawan/KB kuya/KB teu/PL bisa/UNK turun/UNK deui/UNK nu/KG naék/UNK atawa/KPN teu/PL bisa/UNK balik/KP ka/UNK lembur/UNK lantaran/PA geus/KBT teu/PL boga/KP ongkos/UNK\n",
      "\n",
      "Input : Selang-seling = aya éling aya henteu (nu gélo atawa nu gering).\n",
      "Output: Selang/KB seling/UNK aya/KP éling/UNK aya/KP henteu/PL nu/KG gélo/UNK atawa/KPN nu/KG gering/UNK\n",
      "\n",
      "Input : Selenting bawang angin, kolébat bawang béja = nuturkeun kabar angin.\n",
      "Output: Selenting/UNK bawang/UNK angin/UNK kolébat/KP bawang/UNK béja/UNK nuturkeun/KP kabar/UNK angin/UNK\n",
      "\n",
      "Input : Sembah kuriling = ménta idin atawa ménta hampuara ka sababaraha jelema nu boga wewenang.\n",
      "Output: Sembah/UNK kuriling/UNK ménta/UNK idin/UNK atawa/KPN ménta/UNK hampuara/UNK ka/UNK sababaraha/KT jelema/UNK nu/KG boga/KP wewenang/UNK\n",
      "\n",
      "Input : Séngsérang panon = keur meujeuhna pikaresepeun (mojang atawa jajaka) atawa keur meujeuhna resep nénjo nu tegép, lantaran mangkat begér.\n",
      "Output: Séngsérang/UNK panon/KB keur/UNK meujeuhna/KP pikaresepeun/UNK mojang/KB atawa/KPN jajaka/UNK atawa/KPN keur/UNK meujeuhna/KP resep/UNK nénjo/UNK nu/KG tegép/UNK lantaran/PA mangkat/UNK begér/KB\n",
      "\n",
      "Input : Séngsérang padung = geus kolot, geus mikir-mikir pati.\n",
      "Output: Séngsérang/UNK padung/KB geus/KBT kolot/KS geus/KBT mikir/UNK mikir/UNK pati/KB\n",
      "\n",
      "Input : Séntak badakeun = digawé rosa tapi ngan sajongjongan.\n",
      "Output: Séntak/UNK badakeun/UNK digawé/UNK rosa/UNK tapi/KPN ngan/KT sajongjongan/UNK\n",
      "\n",
      "Input : Sepi paling towong rampog = aman, karta raharja.\n",
      "Output: Sepi/KS paling/KG towong/KB rampog/UNK aman/KB karta/UNK raharja/UNK\n",
      "\n",
      "Input : Serah bongkakan = taluk tanpa sarat.\n",
      "Output: Serah/KB bongkakan/UNK taluk/UNK tanpa/UNK sarat/KB\n",
      "\n",
      "Input : Sétan bungkeuleukan = jelema nu kacida jahatna, taya rasrasan dina kadolimanana.\n",
      "Output: Sétan/UNK bungkeuleukan/KP jelema/UNK nu/KG kacida/KT jahatna/UNK taya/KB rasrasan/UNK dina/PA kadolimanana/UNK\n",
      "\n",
      "Input : Seuseut batan neureuy keueus = kacida héséna.\n",
      "Output: Seuseut/KS batan/PA neureuy/UNK keueus/KB kacida/KT héséna/UNK\n",
      "\n",
      "Input : Sibanyo laleur = ledis, teu nyésa saeutik-eutik acan (susuguh).\n",
      "Output: Sibanyo/KP laleur/KB ledis/UNK teu/PL nyésa/UNK saeutik/UNK eutik/KS acan/PL susuguh/UNK\n",
      "\n",
      "Input : Si Cépot jadi raja = jalma euweuh kabisa jadi pamingpin atawa kapala.\n",
      "Output: Si/UNK Cépot/UNK jadi/KP raja/KS jalma/UNK euweuh/KP kabisa/UNK jadi/KP pamingpin/UNK atawa/KPN kapala/UNK\n",
      "\n",
      "Input : Sieun nyakclak jadi bahé = sieun rugi saeutik, tapi tungtungna jadi lapur.\n",
      "Output: Sieun/KP nyakclak/KB jadi/KP bahé/UNK sieun/KP rugi/UNK saeutik/UNK tapi/KPN tungtungna/UNK jadi/KP lapur/UNK\n",
      "\n",
      "Input : Sumput salindung = boga kalakuan anu ulah kanyahoan ku batur.\n",
      "Output: Sumput/KB salindung/KP boga/KP kalakuan/UNK anu/UNK ulah/PL kanyahoan/KB ku/UNK batur/X\n",
      "\n",
      "Input : Sundul ka langit = kacida luhurna nepi ka kawas nu adek kana langit.\n",
      "Output: Sundul/KB ka/UNK langit/UNK kacida/KT luhurna/UNK nepi/PA ka/UNK kawas/PA nu/KG adek/UNK kana/UNK langit/UNK\n",
      "\n",
      "Input : Taarna téja mentrangan = tarang nu alus, jiga cahaya.\n",
      "Output: Taarna/UNK téja/UNK mentrangan/UNK tarang/KN nu/KG alus/KS jiga/UNK cahaya/UNK\n",
      "\n",
      "Input : Tai ka hulu-hulu = kacida bodona.\n",
      "Output: Tai/KB ka/UNK hulu/KB hulu/KB kacida/KT bodona/UNK\n",
      "\n",
      "Input : Taktak korangeun = taktak leway kawas korang.\n",
      "Output: Taktak/KP korangeun/KB taktak/KP leway/UNK kawas/PA korang/KB\n",
      "\n",
      "Input : Tamba gado ngaburuyot = tamba cicing teu barang dahar, lumayan sanajan lain teu ngeunah.\n",
      "Output: Tamba/KB gado/KB ngaburuyot/UNK tamba/KB cicing/KB teu/PL barang/UNK dahar/KP lumayan/UNK sanajan/KPB lain/PL teu/PL ngeunah/KS\n",
      "\n",
      "Input : Tamplok batokeun = béréhan (balabah) teuing nepi ka teu ngingetkeun kana keperluan sorangan atawa rejekina loba teu-ing dibikeun ka batur ari sorangan teu kabagéan.\n",
      "Output: Tamplok/KS batokeun/KB béréhan/UNK balabah/KB teuing/KT nepi/PA ka/UNK teu/PL ngingetkeun/UNK kana/UNK keperluan/UNK sorangan/PNJ atawa/KPN rejekina/UNK loba/UNK teu/PL ing/UNK dibikeun/UNK ka/UNK batur/X ari/KPB sorangan/PNJ teu/PL kabagéan/UNK\n",
      "\n",
      "Input : Tapel adam = bibit-buit, beuti pamelaran.\n",
      "Output: Tapel/KP adam/UNK bibit/UNK buit/KB beuti/UNK pamelaran/UNK\n",
      "\n",
      "Input : Tarajé nanggeuh dulang tinandé = siap atawa sadia ngajalankeun paréntah.\n",
      "Output: Tarajé/UNK nanggeuh/UNK dulang/UNK tinandé/UNK siap/UNK atawa/KPN sadia/KS ngajalankeun/UNK paréntah/UNK\n",
      "\n",
      "Input : Tarik alah batan mimis = kacida tarikna (lumpat, jsté).\n",
      "Output: Tarik/KS alah/X batan/PA mimis/KB kacida/KT tarikna/UNK lumpat/UNK jsté/UNK\n",
      "\n",
      "Input : Taya geusan pakumaha = taya batur keur diajak badami, teu boga baraya pisan.\n",
      "Output: Taya/KB geusan/UNK pakumaha/UNK taya/KB batur/X keur/UNK diajak/UNK badami/KP teu/PL boga/KP baraya/KB pisan/UNK\n",
      "\n",
      "Input : Taya kabau = teu bauan sagala daék, sagala beuki, atawa budak anu daék ka saha baé.\n",
      "Output: Taya/KB kabau/UNK teu/PL bauan/UNK sagala/UNK daék/UNK sagala/UNK beuki/KT atawa/KPN budak/KB anu/UNK daék/UNK ka/UNK saha/KG baé/UNK\n",
      "\n",
      "Input : Taya dunya kinasihan = euweuh barang nu dikorékeun pikeun jalma nu dipikanyaah.\n",
      "Output: Taya/KB dunya/UNK kinasihan/KB euweuh/KP barang/UNK nu/KG dikorékeun/UNK pikeun/UNK jalma/UNK nu/KG dipikanyaah/UNK\n",
      "\n",
      "Input : Taya genah panasaran = teu ngandung haté, teu ngarasa puas.\n",
      "Output: Taya/KB genah/KS panasaran/KS teu/PL ngandung/UNK haté/UNK teu/PL ngarasa/UNK puas/UNK\n",
      "\n",
      "Input : Taya halodo panyadapan = taya eureunna.\n",
      "Output: Taya/KB halodo/KB panyadapan/UNK taya/KB eureunna/KB\n",
      "\n",
      "Input : Taya siruaneunana = jelema nu taya gunana lantaran teu eucreug, taya araheunana.\n",
      "Output: Taya/KB siruaneunana/UNK jelema/UNK nu/KG taya/KB gunana/UNK lantaran/PA teu/PL eucreug/KS taya/KB araheunana/UNK\n",
      "\n",
      "Input : Taya tangan pangawasa = teu boga tanaga atawa kakawasaan.\n",
      "Output: Taya/KB tangan/UNK pangawasa/UNK teu/PL boga/KP tanaga/KB atawa/KPN kakawasaan/UNK\n",
      "\n",
      "Input : Teguh pancuh = pageuh pamadegan.\n",
      "Output: Teguh/KS pancuh/KS pageuh/KP pamadegan/KB\n",
      "\n",
      "Input : Témbong gélor = siga deukeut padahal jauh.\n",
      "Output: Témbong/UNK gélor/UNK siga/KB deukeut/KS padahal/UNK jauh/UNK\n",
      "\n",
      "Input : Témbong tambagana = kanyahoan goréngna atawa lampahna nu asalna disumput-sumput.\n",
      "Output: Témbong/UNK tambagana/KB kanyahoan/KB goréngna/UNK atawa/KPN lampahna/KB nu/KG asalna/UNK disumput/UNK sumput/KB\n",
      "\n",
      "Input : Terusing ratu rembesing kusumah = turunan ménak.\n",
      "Output: Terusing/UNK ratu/UNK rembesing/UNK kusumah/UNK turunan/UNK ménak/UNK\n",
      "\n",
      "Input : Teu asa jeung jiga = loma pisan.\n",
      "Output: Teu/PL asa/KB jeung/UNK jiga/UNK loma/KB pisan/UNK\n",
      "\n",
      "Input : Teu asup kolem = teu asup bilangan, teu kaaku kana golongan éta.\n",
      "Output: Teu/PL asup/KP kolem/KB teu/PL asup/KP bilangan/KB teu/PL kaaku/UNK kana/UNK golongan/UNK éta/UNK\n",
      "\n",
      "Input : Teu asup ka rewah mulud = teu kaaku lantaran minculak ti batur.\n",
      "Output: Teu/PL asup/KP ka/UNK rewah/UNK mulud/KB teu/PL kaaku/UNK lantaran/PA minculak/KS ti/KPB batur/X\n",
      "\n",
      "Input : Teu aya geuneuk maleukmeuk = beresih haté, teu nguneuk-nguneuk.\n",
      "Output: Teu/PL aya/KP geuneuk/UNK maleukmeuk/UNK beresih/UNK haté/UNK teu/PL nguneuk/UNK nguneuk/UNK\n",
      "\n",
      "Input : Teu badé gawé = teu pantes bisa digawé.\n",
      "Output: Teu/PL badé/UNK gawé/UNK teu/PL pantes/KS bisa/UNK digawé/UNK\n",
      "\n",
      "Input : Teu béja teu carita = teu méré (ngirim) béja pisan.\n",
      "Output: Teu/PL béja/UNK teu/PL carita/UNK teu/PL méré/UNK ngirim/UNK béja/UNK pisan/UNK\n",
      "\n",
      "Input : Teu boga pikir rangkepan = bolostrong, teu boga curiga, teu boga timburu.\n",
      "Output: Teu/PL boga/KP pikir/UNK rangkepan/UNK bolostrong/KP teu/PL boga/KP curiga/UNK teu/PL boga/KP timburu/KB\n",
      "\n",
      "Input : Teu boga tulang tonggong = teu boga tatalang raga.\n",
      "Output: Teu/PL boga/KP tulang/UNK tonggong/KB teu/PL boga/KP tatalang/UNK raga/UNK\n",
      "\n",
      "Input : Teu busik-busik acanteu busik bulu salambar.\n",
      "Output: Teu/PL busik/KS busik/KS acanteu/UNK busik/KS bulu/UNK salambar/UNK\n",
      "\n",
      "Input : Teu busik bulu salambar = salamet henteu kabeunangan ku musuh.\n",
      "Output: Teu/PL busik/KS bulu/UNK salambar/UNK salamet/UNK henteu/PL kabeunangan/UNK ku/UNK musuh/KB\n",
      "\n",
      "Input : Teu cai hérang-hérang acan = teu disuguhan naon-naon.\n",
      "Output: Teu/PL cai/KB hérang/UNK hérang/UNK acan/PL teu/PL disuguhan/UNK naon/KG naon/KG\n",
      "\n",
      "Input : Teu ditari teu ditakon = teu ditanya-tanya, diantep.\n",
      "Output: Teu/PL ditari/UNK teu/PL ditakon/UNK teu/PL ditanya/UNK tanya/UNK diantep/UNK\n",
      "\n",
      "Input : Teu dibéré ciatah = teu diogo, dicarékan.\n",
      "Output: Teu/PL dibéré/UNK ciatah/UNK teu/PL diogo/UNK dicarékan/UNK\n",
      "\n",
      "Input : Teu didéngé ku tai ceuli = teu diperhatikeun pisan.\n",
      "Output: Teu/PL didéngé/UNK ku/UNK tai/KB ceuli/UNK teu/PL diperhatikeun/UNK pisan/UNK\n",
      "\n",
      "Input : Teu di hurang teu di keuyeup = parasaan mah teu di cacah teu ménak, sarua baé.\n",
      "Output: Teu/PL di/UNK hurang/KB teu/PL di/UNK keuyeup/UNK parasaan/UNK mah/UNK teu/PL di/UNK cacah/UNK teu/PL ménak/UNK sarua/KS baé/UNK\n",
      "\n",
      "Input : Teu didingding kelir = diceplakkeun satarabasna, taya nu dipinding-pinding.\n",
      "Output: Teu/PL didingding/UNK kelir/KB diceplakkeun/UNK satarabasna/UNK taya/KB nu/KG dipinding/UNK pinding/UNK\n",
      "\n",
      "Input : Teu éléh géléng = teu éléh jajaten, teu éléh pangabisa atawa teu éléh carita ku batur.\n",
      "Output: Teu/PL éléh/UNK géléng/UNK teu/PL éléh/UNK jajaten/UNK teu/PL éléh/UNK pangabisa/UNK atawa/KPN teu/PL éléh/UNK carita/UNK ku/UNK batur/X\n",
      "\n",
      "Input : Teu éléh teu embol = teu témbong-témbong, teu katénjo datang atawa balik.\n",
      "Output: Teu/PL éléh/UNK teu/PL embol/UNK teu/PL témbong/UNK témbong/UNK teu/PL katénjo/UNK datang/UNK atawa/KPN balik/KP\n",
      "\n",
      "Input : Teu embut teu ciak = teu daék méré béja saeutik-eutik acan.\n",
      "Output: Teu/PL embut/UNK teu/PL ciak/UNK teu/PL daék/UNK méré/UNK béja/UNK saeutik/UNK eutik/KS acan/PL\n",
      "\n",
      "Input : Teu gedag bulu salambar = teu sieun saeutik-eutik acan ku ancaman nu jadi lawan.\n",
      "Output: Teu/PL gedag/KB bulu/UNK salambar/UNK teu/PL sieun/KP saeutik/UNK eutik/KS acan/PL ku/UNK ancaman/UNK nu/KG jadi/KP lawan/UNK\n",
      "\n",
      "Input : Teu gugur teu angin = teu aya lantaranana.\n",
      "Output: Teu/PL gugur/UNK teu/PL angin/UNK teu/PL aya/KP lantaranana/UNK\n",
      "\n",
      "Input : Teu hir teu walahir = deungeun-deungeun tulén, teu baraya yeueus-yeueus acan. Sakapeung sok ditambahan ku teu bau-bau acan.\n",
      "Output: Teu/PL hir/UNK teu/PL walahir/UNK deungeun/KB deungeun/KB tulén/UNK teu/PL baraya/KB yeueus/UNK yeueus/UNK acan/PL Sakapeung/UNK sok/KP ditambahan/UNK ku/UNK teu/PL bau/UNK bau/UNK acan/PL\n",
      "\n",
      "Input : Teu inget sacongo buuk = teu inget pisan.\n",
      "Output: Teu/PL inget/UNK sacongo/UNK buuk/UNK teu/PL inget/UNK pisan/UNK\n",
      "\n",
      "Input : Teu kaur buluan = teu kaur aya kaboga, béak deui béak deui.\n",
      "Output: Teu/PL kaur/KN buluan/UNK teu/PL kaur/KN aya/KP kaboga/UNK béak/UNK deui/UNK béak/UNK deui/UNK\n",
      "\n",
      "Input : Teu kakurung ku entik = teu kaasup bilangan nu ditang-gung dahareunana.\n",
      "Output: Teu/PL kakurung/UNK ku/UNK entik/UNK teu/PL kaasup/UNK bilangan/KB nu/KG ditang/UNK gung/UNK dahareunana/UNK\n",
      "\n",
      "Input : Teu kaleungitan peuting = tacan kajadian salaki sapeuting jeput euweuh di imah (ciri-ciri teu mangduakeun).\n",
      "Output: Teu/PL kaleungitan/UNK peuting/KB tacan/PL kajadian/KB salaki/KB sapeuting/UNK jeput/UNK euweuh/KP di/UNK imah/UNK ciri/UNK ciri/UNK teu/PL mangduakeun/UNK\n",
      "\n",
      "Input : Teu lémék teu nyarék = teu ngomong naon-naon.\n",
      "Output: Teu/PL lémék/UNK teu/PL nyarék/UNK teu/PL ngomong/UNK naon/KG naon/KG\n",
      "\n",
      "Input : Teu mais teu meuleum = teu pipilueun kana urusan nu jadi catur, malah teu nyaho-nyaho acan.\n",
      "Output: Teu/PL mais/UNK teu/PL meuleum/UNK teu/PL pipilueun/UNK kana/UNK urusan/UNK nu/KG jadi/KP catur/KB malah/UNK teu/PL nyaho/KP nyaho/KP acan/PL\n",
      "\n",
      "Input : Teu meunang ciatah = teu dipameungmeunangkeun, teu dibéla.\n",
      "Output: Teu/PL meunang/UNK ciatah/UNK teu/PL dipameungmeunangkeun/UNK teu/PL dibéla/UNK\n",
      "\n",
      "Input : Teu nalipak manéh = teu ngukur ku kujur, ngalampahkeun hal anu teu saluyu jeung kaayaan diri.\n",
      "Output: Teu/PL nalipak/UNK manéh/UNK teu/PL ngukur/UNK ku/UNK kujur/KB ngalampahkeun/UNK hal/UNK anu/UNK teu/PL saluyu/UNK jeung/UNK kaayaan/KB diri/UNK\n",
      "\n",
      "Input : Teu ngalarung nu burung, teu nyésakeun nu édan = ngalajur napsu satakerha geus teu dipilih deui.\n",
      "Output: Teu/PL ngalarung/UNK nu/KG burung/KS teu/PL nyésakeun/UNK nu/KG édan/UNK ngalajur/UNK napsu/UNK satakerha/UNK geus/KBT teu/PL dipilih/UNK deui/UNK\n",
      "\n",
      "Input : Teu nginjeum ceuli teu nginjeum mata = nyaksian sorangan, lain béja.\n",
      "Output: Teu/PL nginjeum/UNK ceuli/UNK teu/PL nginjeum/UNK mata/UNK nyaksian/UNK sorangan/PNJ lain/PL béja/UNK\n",
      "\n",
      "Input : Teu nyaho di alip bingkeng = buta hurup.\n",
      "Output: Teu/PL nyaho/KP di/UNK alip/UNK bingkeng/UNK buta/KB hurup/KB\n",
      "\n",
      "Input : Teu nyaho di hitut bau = teu loba pangalaman, dusun, atawa balata-boloto kénéh, can bisa ngabédakeun nu salah jeung nu bener.\n",
      "Output: Teu/PL nyaho/KP di/UNK hitut/KB bau/UNK teu/PL loba/UNK pangalaman/UNK dusun/UNK atawa/KPN balata/UNK boloto/UNK kénéh/UNK can/PL bisa/UNK ngabédakeun/UNK nu/KG salah/UNK jeung/UNK nu/KG bener/KS\n",
      "\n",
      "Input : Teu nyaho di cedoteu nyaho di hitut bau.\n",
      "Output: Teu/PL nyaho/KP di/UNK cedoteu/UNK nyaho/KP di/UNK hitut/KB bau/UNK\n",
      "\n",
      "Input : Teu nyaho di kalér kidul = kapaider, linglung.\n",
      "Output: Teu/PL nyaho/KP di/UNK kalér/UNK kidul/UNK kapaider/UNK linglung/UNK\n",
      "\n",
      "Input : Teu nyaho di lauk = teu nyaho naon nu bakal matak untung atawa matak senang.\n",
      "Output: Teu/PL nyaho/KP di/UNK lauk/UNK teu/PL nyaho/KP naon/KG nu/KG bakal/UNK matak/UNK untung/UNK atawa/KPN matak/UNK senang/UNK\n",
      "\n",
      "Input : Teu pindo damelteu pindo gawé.\n",
      "Output: Teu/PL pindo/UNK damelteu/UNK pindo/UNK gawé/UNK\n",
      "\n",
      "Input : Teu pindo gawé = henteu ngabohong.\n",
      "Output: Teu/PL pindo/UNK gawé/UNK henteu/PL ngabohong/UNK\n",
      "\n",
      "Input : Teu puguh alur ujurna = dongéng atawa carita nu teu bérés, teu ngaleunjeur, teu puguh salang surupna.\n",
      "Output: Teu/PL puguh/UNK alur/KB ujurna/UNK dongéng/UNK atawa/KPN carita/UNK nu/KG teu/PL bérés/UNK teu/PL ngaleunjeur/UNK teu/PL puguh/UNK salang/UNK surupna/KB\n",
      "\n",
      "Input : Teu puguh monyét hideungna = teu puguh tungtungna.\n",
      "Output: Teu/PL puguh/UNK monyét/UNK hideungna/KB teu/PL puguh/UNK tungtungna/UNK\n",
      "\n",
      "Input : Teu sanak teu kadang = teu boga baraya pisan.\n",
      "Output: Teu/PL sanak/KB teu/PL kadang/KB teu/PL boga/KP baraya/KB pisan/UNK\n",
      "\n",
      "Input : Teu tuah teu dosa = teu boga kasalahan nanaon.\n",
      "Output: Teu/PL tuah/UNK teu/PL dosa/UNK teu/PL boga/KP kasalahan/UNK nanaon/UNK\n",
      "\n",
      "Input : Teu uyahan = réhé, teu lucu.\n",
      "Output: Teu/PL uyahan/KB réhé/UNK teu/PL lucu/UNK\n",
      "\n",
      "Input : Tibalik pasangan = lain kitu kuduna, tojaiah jeung aturan nu bener.\n",
      "Output: Tibalik/UNK pasangan/UNK lain/PL kitu/PA kuduna/UNK tojaiah/UNK jeung/UNK aturan/UNK nu/KG bener/KS\n",
      "\n",
      "Input : Tibatan kapok anggur gawok = henteu kapok malah anggur ngahanakeun.\n",
      "Output: Tibatan/PA kapok/UNK anggur/UNK gawok/UNK henteu/PL kapok/UNK malah/UNK anggur/UNK ngahanakeun/UNK\n",
      "\n",
      "Input : Tibatan meunang pala anggur meunang palu = Tibatan meunang pujian atawa buruhan kalah dicarékan atawa meunang hukuman.\n",
      "Output: Tibatan/PA meunang/UNK pala/KB anggur/UNK meunang/UNK palu/UNK Tibatan/PA meunang/UNK pujian/UNK atawa/KPN buruhan/UNK kalah/UNK dicarékan/UNK atawa/KPN meunang/UNK hukuman/UNK\n",
      "\n",
      "Input : Tiis ceuli hérang mata = ngarasa sugema, taya kahariwang, taya kasusah, ngeunah dédéngéan, ngeunah téténjoan.\n",
      "Output: Tiis/KS ceuli/UNK hérang/UNK mata/UNK ngarasa/UNK sugema/KS taya/KB kahariwang/UNK taya/KB kasusah/UNK ngeunah/KS dédéngéan/UNK ngeunah/KS téténjoan/UNK\n",
      "\n",
      "Input : Tiis dingin paripurna = kacida sugemana. il. tiis ceuli hérang mata.\n",
      "Output: Tiis/KS dingin/UNK paripurna/KS kacida/KT sugemana/KB il/UNK tiis/KS ceuli/UNK hérang/UNK mata/UNK\n",
      "\n",
      "Input : Tiis leungeun = jadian pepelakan.\n",
      "Output: Tiis/KS leungeun/UNK jadian/KB pepelakan/UNK\n",
      "\n",
      "Input : Tiis-tiis jahé = teu kaciri pahibut dina nyanghareupan kariaan, jsté.\n",
      "Output: Tiis/KS tiis/KS jahé/UNK teu/PL kaciri/UNK pahibut/KB dina/PA nyanghareupan/KB kariaan/KB jsté/UNK\n",
      "\n",
      "Input : Ti kikiriik nepi ka jadi anjing = ti bubudak nepi ka sawawa.\n",
      "Output: Ti/KPB kikiriik/UNK nepi/PA ka/UNK jadi/KP anjing/UNK ti/KPB bubudak/UNK nepi/PA ka/UNK sawawa/KS\n",
      "\n",
      "Input : Tikoro kotokeun, caréham hayameun = isuk-isuk kénéh (neut hudang) geus kudu barangdahar.\n",
      "Output: Tikoro/KB kotokeun/KB caréham/UNK hayameun/KB isuk/UNK isuk/UNK kénéh/UNK neut/KB hudang/KP geus/KBT kudu/UNK barangdahar/UNK\n",
      "\n",
      "Input : Tinggal tulang jeung kulit = kacida begangna.\n",
      "Output: Tinggal/UNK tulang/UNK jeung/UNK kulit/UNK kacida/KT begangna/KB\n",
      "\n",
      "Input : Tinggar kalongeun = geus tara ngagugu kana papatah sarta geus teu riuk-riuk ku dicarékan lantaran dikerasan teuing atawa mindeng teuing dicarékanana.\n",
      "Output: Tinggar/KB kalongeun/UNK geus/KBT tara/KT ngagugu/KB kana/UNK papatah/KB sarta/KPN geus/KBT teu/PL riuk/UNK riuk/UNK ku/UNK dicarékan/UNK lantaran/PA dikerasan/KP teuing/KT atawa/KPN mindeng/KT teuing/KT dicarékanana/UNK\n",
      "\n",
      "Input : Ti ngongkoak nepi ka ngungkuuk = ti bubudak nepi ka bongkok ku kakolotan.\n",
      "Output: Ti/KPB ngongkoak/UNK nepi/PA ka/UNK ngungkuuk/UNK ti/KPB bubudak/UNK nepi/PA ka/UNK bongkok/UNK ku/UNK kakolotan/KB\n",
      "\n",
      "Input : Ti nanggérang lila beurang ti nanggorék lila poék = ti tempat anu kacida jauhna ti kota.\n",
      "Output: Ti/KPB nanggérang/UNK lila/UNK beurang/KB ti/KPB nanggorék/UNK lila/UNK poék/UNK ti/KPB tempat/UNK anu/UNK kacida/KT jauhna/UNK ti/KPB kota/UNK\n",
      "\n",
      "Input : Titirah ngadon kanceuh = hayang cageur atawa senang tapi kalah ka beuki ripuh atawa leuwih susah.\n",
      "Output: Titirah/UNK ngadon/UNK kanceuh/UNK hayang/KP cageur/UNK atawa/KPN senang/UNK tapi/KPN kalah/UNK ka/UNK beuki/KT ripuh/UNK atawa/KPN leuwih/UNK susah/UNK\n",
      "\n",
      "Input : TISUSUT TIDUNGDUNG = digawe beurat bari ripuh (nu kumawula).\n",
      "Output: TISUSUT/UNK TIDUNGDUNG/UNK digawe/UNK beurat/KS bari/KS ripuh/UNK nu/KG kumawula/UNK\n",
      "\n",
      "Input : TRONG KOHKOL MORONGKOL, DUR BEDUG MURUNGKUT = keur nu ngedul hudang subuh.\n",
      "Output: TRONG/KB KOHKOL/KB MORONGKOL/UNK DUR/UNK BEDUG/KB MURUNGKUT/UNK keur/UNK nu/KG ngedul/UNK hudang/KP subuh/UNK\n",
      "\n",
      "Input : TUANG JINIS = nyeungseurikeun sorangan atawa lucu ceuk sorangan.\n",
      "Output: TUANG/KB JINIS/UNK nyeungseurikeun/UNK sorangan/PNJ atawa/KPN lucu/UNK ceuk/UNK sorangan/PNJ\n",
      "\n",
      "Input : TUDUH ACUNGAN = dititah deui ka nu séjén (biasana di nu loba jelema).\n",
      "Output: TUDUH/UNK ACUNGAN/UNK dititah/UNK deui/UNK ka/UNK nu/KG séjén/UNK biasana/UNK di/UNK nu/KG loba/UNK jelema/UNK\n",
      "\n",
      "Input : TUKANG JILAT = tukang jilétak, supaya kapaké ku dunungan leuwih ti batur ngarah dipikanyaah, naék pangkat, jsté.\n",
      "Output: TUKANG/UNK JILAT/UNK tukang/UNK jilétak/UNK supaya/PA kapaké/UNK ku/UNK dunungan/KB leuwih/UNK ti/KPB batur/X ngarah/UNK dipikanyaah/UNK naék/UNK pangkat/UNK jsté/UNK\n",
      "\n",
      "Input : TUKUH CIBURUY = tukuh kalaleuwihi, sanajan tétéla tangtunganana teu pati bener atawa moal aya matakna upama dirobah ogé atawa teu daék narima pamadegan batur nu leuwih bener.\n",
      "Output: TUKUH/KS CIBURUY/UNK tukuh/KS kalaleuwihi/UNK sanajan/KPB tétéla/UNK tangtunganana/UNK teu/PL pati/KB bener/KS atawa/KPN moal/KB aya/KP matakna/UNK upama/UNK dirobah/UNK ogé/UNK atawa/KPN teu/PL daék/UNK narima/UNK pamadegan/KB batur/X nu/KG leuwih/UNK bener/KS\n",
      "\n",
      "Input : TUMPANG SIRANG = tumarimpang, kararagok baé jeung nu dicicingan.\n",
      "Output: TUMPANG/UNK SIRANG/KS tumarimpang/UNK kararagok/UNK baé/UNK jeung/UNK nu/KG dicicingan/UNK\n",
      "\n",
      "Input : TUMAROJOG TANPA LARAPAN = datang teu ngiberan heula.\n",
      "Output: TUMAROJOG/UNK TANPA/UNK LARAPAN/UNK datang/UNK teu/PL ngiberan/UNK heula/KT\n",
      "\n",
      "Input : TUNGGUL DIRARUD CATANG DIRUMPAK = ngalajur napsu taya nu dihidng.\n",
      "Output: TUNGGUL/KB DIRARUD/UNK CATANG/UNK DIRUMPAK/UNK ngalajur/UNK napsu/UNK taya/KB nu/KG dihidng/UNK\n",
      "\n",
      "Input : TUNGGUL KURAS = duit nu ngahaja disésakeun saeutik, tamba kosong teuing kantong, tamba teu boga teuing keukeupeulan.\n",
      "Output: TUNGGUL/KB KURAS/UNK duit/UNK nu/KG ngahaja/UNK disésakeun/UNK saeutik/UNK tamba/KB kosong/UNK teuing/KT kantong/UNK tamba/KB teu/PL boga/KP teuing/KT keukeupeulan/UNK\n",
      "\n",
      "Input : TURUN KA RANJANG = kawin ka adi beuteung sanggeus lanceukna maot.\n",
      "Output: TURUN/UNK KA/UNK RANJANG/UNK kawin/UNK ka/UNK adi/UNK beuteung/KB sanggeus/KPB lanceukna/KB maot/UNK\n",
      "\n",
      "Input : TURUNAN TUMENGGUNG SUNG SUNG, PATIH ARIT = lain turunan ménak sanajan jeneng (pamoyok jaman féodal).\n",
      "Output: TURUNAN/UNK TUMENGGUNG/UNK SUNG/UNK SUNG/UNK PATIH/UNK ARIT/UNK lain/PL turunan/UNK ménak/UNK sanajan/KPB jeneng/UNK pamoyok/UNK jaman/UNK féodal/UNK\n",
      "\n",
      "Input : TUTURUT MUNDING = nurutan kalakuan batur bari teu ngarti kana maksudna, atawa teu ditimbang luyu henteuna keur sorangan.\n",
      "Output: TUTURUT/UNK MUNDING/KB nurutan/UNK kalakuan/UNK batur/X bari/KS teu/PL ngarti/UNK kana/UNK maksudna/UNK atawa/KPN teu/PL ditimbang/UNK luyu/UNK henteuna/UNK keur/UNK sorangan/PNJ\n",
      "\n",
      "Input : TUTUS LANGKUNG KEPANG HALANGNA = omongan atawa caritaan anu salah atawa teu merenah.\n",
      "Output: TUTUS/UNK LANGKUNG/PA KEPANG/UNK HALANGNA/UNK omongan/UNK atawa/KPN caritaan/UNK anu/UNK salah/UNK atawa/KPN teu/PL merenah/KB\n",
      "\n",
      "Input : Uang semir = panyogok, palculeueur, supaya paménta urang gancang dikabulkeun.\n",
      "Output: Uang/UNK semir/UNK panyogok/KB palculeueur/UNK supaya/PA paménta/UNK urang/KG gancang/KS dikabulkeun/UNK\n",
      "\n",
      "Input : Ubar puruluk = omongan pikeun nengtremkeun pikir sakadarna ulah ngarasula.\n",
      "Output: Ubar/KB puruluk/UNK omongan/UNK pikeun/UNK nengtremkeun/UNK pikir/UNK sakadarna/UNK ulah/PL ngarasula/UNK\n",
      "\n",
      "Input : Ukur pulang modal = teu untung teu rugi.\n",
      "Output: Ukur/UNK pulang/UNK modal/KS teu/PL untung/UNK teu/PL rugi/UNK\n",
      "\n",
      "Input : Ulah incah balilahan = ulah pindah pamatuhan.\n",
      "Output: Ulah/PL incah/UNK balilahan/UNK ulah/PL pindah/UNK pamatuhan/UNK\n",
      "\n",
      "Input : Ulah sok ngéok méméh dipacok = ulah sok ngarasa horéam ku pagawéan méméh dicoba.\n",
      "Output: Ulah/PL sok/KP ngéok/UNK méméh/UNK dipacok/UNK ulah/PL sok/KP ngarasa/UNK horéam/UNK ku/UNK pagawéan/UNK méméh/UNK dicoba/UNK\n",
      "\n",
      "Input : Ulah tiis-tiis jahé = ulah senang-senang atawa cicing-cicing baé saméméh sasadiaan nyanghareupan perkara nu rék disanghareupan.\n",
      "Output: Ulah/PL tiis/KS tiis/KS jahé/UNK ulah/PL senang/UNK senang/UNK atawa/KPN cicing/KB cicing/KB baé/UNK saméméh/UNK sasadiaan/UNK nyanghareupan/KB perkara/UNK nu/KG rék/UNK disanghareupan/UNK\n",
      "\n",
      "Input : Undur katingali punduk, datang katingali tarangdatang katingali tarang, undur katingali punduk.\n",
      "Output: Undur/UNK katingali/UNK punduk/UNK datang/UNK katingali/UNK tarangdatang/UNK katingali/UNK tarang/KN undur/UNK katingali/UNK punduk/UNK\n",
      "\n",
      "Input : Unggah balé watangan = katarik perkara.\n",
      "Output: Unggah/KP balé/UNK watangan/KB katarik/KB perkara/UNK\n",
      "\n",
      "Input : Urang curug ngebul = urang kampung nu jauh ti kota.\n",
      "Output: Urang/KG curug/UNK ngebul/UNK urang/KG kampung/UNK nu/KG jauh/UNK ti/KPB kota/UNK\n",
      "\n",
      "Input : Urang kampung bau lisung, cacah rucah atah warah = jelema dusun.\n",
      "Output: Urang/KG kampung/UNK bau/UNK lisung/KB cacah/UNK rucah/KB atah/KS warah/KB jelema/UNK dusun/UNK\n",
      "\n",
      "Input : Uteuk éncér = calakan, pinter.\n",
      "Output: Uteuk/UNK éncér/UNK calakan/KS pinter/UNK\n",
      "\n",
      "Input : Uteuk tongo walang taga = barang-barang atawa sasatoan nu pangleutikna.\n",
      "Output: Uteuk/UNK tongo/KB walang/KB taga/UNK barang/UNK barang/UNK atawa/KPN sasatoan/UNK nu/KG pangleutikna/UNK\n",
      "\n",
      "Input : Wawuh munding = wawuh meueusan pédah sok papanggih di jalan atawa di pasamoan, tapi ngaranna mah can nyaho.\n",
      "Output: Wawuh/KP munding/KB wawuh/KP meueusan/KT pédah/UNK sok/KP papanggih/KB di/UNK jalan/UNK atawa/KPN di/UNK pasamoan/KB tapi/KPN ngaranna/KB mah/UNK can/PL nyaho/KP\n",
      "\n",
      "Input : Weruh sadurung winarah = nyaho saméméh dibéjaan, bisa norah, terus tingal.\n",
      "Output: Weruh/KP sadurung/UNK winarah/UNK nyaho/KP saméméh/UNK dibéjaan/UNK bisa/UNK norah/UNK terus/UNK tingal/KB\n",
      "\n",
      "Input : Wiwirang di kolong catang, nya badag nya panjang = nyorang wiwirang gedé.\n",
      "Output: Wiwirang/UNK di/UNK kolong/KB catang/UNK nya/KS badag/KS nya/KS panjang/UNK nyorang/KP wiwirang/UNK gedé/UNK\n",
      "\n",
      "Input : Yuni kembang = rupa jeung tingkah laku na pikarespeun.\n",
      "Output: Yuni/KB kembang/KB rupa/UNK jeung/UNK tingkah/UNK laku/UNK na/KN pikarespeun/UNK\n",
      "\n",
      "Input : Yuni tai = matak pikucuaeun baé.\n",
      "Output: Yuni/KB tai/KB matak/UNK pikucuaeun/UNK baé/UNK\n",
      "\n",
      "Input : Adam lali tapel = poho ka baraya, jelema nu geus poho ka bali geusan ngajadi, nya éta nu geus teu inget ka baraya.\n",
      "Output: Adam/UNK lali/KP tapel/KP poho/UNK ka/UNK baraya/KB jelema/UNK nu/KG geus/KBT poho/UNK ka/UNK bali/KP geusan/UNK ngajadi/UNK nya/KS éta/UNK nu/KG geus/KBT teu/PL inget/UNK ka/UNK baraya/KB\n",
      "\n",
      "Input : Adat kakurung ku iga = tabéat nu geus hésé dirobahna.\n",
      "Output: Adat/UNK kakurung/UNK ku/UNK iga/UNK tabéat/UNK nu/KG geus/KBT hésé/UNK dirobahna/UNK\n",
      "\n",
      "Input : Adean ku kuda beureum = ginding ku barang batur atawa ku barang meunang nginjeum.\n",
      "Output: Adean/UNK ku/UNK kuda/UNK beureum/KS ginding/KP ku/UNK barang/UNK batur/X atawa/KPN ku/UNK barang/UNK meunang/UNK nginjeum/UNK\n",
      "\n",
      "Input : Adu telu ampar tiga = diriungkeun, nu perkara atawa nu jual beuli.\n",
      "Output: Adu/UNK telu/WIL ampar/KP tiga/UNK diriungkeun/UNK nu/KG perkara/UNK atawa/KPN nu/KG jual/UNK beuli/KP\n",
      "\n",
      "Input : Agul ku payung butut = jalma taya kaboga, tapi mindeng nyaritakeun yén manéhna turunan ménak baheula.\n",
      "Output: Agul/KP ku/UNK payung/UNK butut/UNK jalma/UNK taya/KB kaboga/UNK tapi/KPN mindeng/KT nyaritakeun/UNK yén/UNK manéhna/UNK turunan/UNK ménak/UNK baheula/KB\n",
      "\n",
      "Input : Alak-alak cumampaka = niru-niru (mapadani) saluhureun.\n",
      "Output: Alak/UNK alak/UNK cumampaka/UNK niru/UNK niru/UNK mapadani/UNK saluhureun/UNK\n",
      "\n",
      "Input : Alloh tara nanggeuy di bongkokna = Alloh moal mihak ka jalma nu teu boga dosa.\n",
      "Output: Alloh/UNK tara/KT nanggeuy/KN di/UNK bongkokna/UNK Alloh/UNK moal/KB mihak/UNK ka/UNK jalma/UNK nu/KG teu/PL boga/KP dosa/UNK\n",
      "\n",
      "Input : Ambek sadu santa budi = soléh haté.\n",
      "Output: Ambek/KB sadu/KB santa/UNK budi/UNK soléh/UNK haté/UNK\n",
      "\n",
      "Input : Anjing ngagogogan kalong = mikahayang nu pamohalan.\n",
      "Output: Anjing/UNK ngagogogan/UNK kalong/UNK mikahayang/UNK nu/KG pamohalan/KS\n",
      "\n",
      "Input : Anjing nyampeurkeun paneunggeul = nyampeurkeun nu rék mahala.\n",
      "Output: Anjing/UNK nyampeurkeun/KB paneunggeul/UNK nyampeurkeun/KB nu/KG rék/UNK mahala/KP\n",
      "\n",
      "Input : Ari diarah supana, kudu dijaga catangna = ari aya barog rang (banda) nu diala hasilna, kudu daék ngurusna.\n",
      "Output: Ari/KPB diarah/UNK supana/UNK kudu/UNK dijaga/UNK catangna/UNK ari/KPB aya/KP barog/UNK rang/UNK banda/KB nu/KG diala/UNK hasilna/UNK kudu/UNK daék/UNK ngurusna/UNK\n",
      "\n",
      "Input : Ari umur tunggang gunung angen-angen pecat sawed = sawed, maké jeung hayang meujeung di BIP sagala.\n",
      "Output: Ari/KPB umur/UNK tunggang/UNK gunung/UNK angen/KN angen/KN pecat/KP sawed/KB sawed/KB maké/UNK jeung/UNK hayang/KP meujeung/UNK di/UNK BIP/UNK sagala/UNK\n",
      "\n",
      "Input : Asa aing uyah kidul = asa jadi pangunjulna.\n",
      "Output: Asa/KB aing/KG uyah/KB kidul/UNK asa/KB jadi/KP pangunjulna/UNK\n",
      "\n",
      "Input : Asa kabur pangacian = kacida reuwasna, nepi ka teu puguh cabak.\n",
      "Output: Asa/KB kabur/UNK pangacian/UNK kacida/KT reuwasna/UNK nepi/PA ka/UNK teu/PL puguh/UNK cabak/KB\n",
      "\n",
      "Input : Aya jalan komo meuntas = kabeneran aya jalan pikeun gancang-gancang ngalaksanakeun pamaksudna.\n",
      "Output: Aya/KP jalan/UNK komo/KT meuntas/KB kabeneran/KB aya/KP jalan/UNK pikeun/UNK gancang/KS gancang/KS ngalaksanakeun/UNK pamaksudna/UNK\n",
      "\n",
      "Input : Ari putih badan bodas = tomada, nuduhkeun teu aya pikir goréng, masrahkeun badan tina tumarima kasalahan.\n",
      "Output: Ari/KPB putih/UNK badan/KB bodas/KS tomada/KP nuduhkeun/UNK teu/PL aya/KP pikir/UNK goréng/UNK masrahkeun/UNK badan/KB tina/PA tumarima/KP kasalahan/UNK\n",
      "\n",
      "Input : Ayakan mah tara meunang kancra = usaha ku modal leutik hasilna ogé moal gedé.\n",
      "Output: Ayakan/KB mah/UNK tara/KT meunang/UNK kancra/UNK usaha/UNK ku/UNK modal/KS leutik/UNK hasilna/UNK ogé/UNK moal/KB gedé/UNK\n",
      "\n",
      "Input : Aub payung sabet panon soba-soba = nuduhkeun wewatesan pakuwon.\n",
      "Output: Aub/UNK payung/UNK sabet/UNK panon/KB soba/KB soba/KB nuduhkeun/UNK wewatesan/UNK pakuwon/KB\n",
      "\n",
      "Input : Ayeuh ngora = tumetep kana turunan anu maraot ngora-ngora.\n",
      "Output: Ayeuh/KB ngora/KS tumetep/UNK kana/UNK turunan/UNK anu/UNK maraot/UNK ngora/KS ngora/KS\n",
      "\n",
      "Input : Babon kapurba ku jago = awéwé kudu nurut ka salaki.\n",
      "Output: Babon/KB kapurba/UNK ku/UNK jago/KS awéwé/UNK kudu/UNK nurut/UNK ka/UNK salaki/KB\n",
      "\n",
      "Input : Balung kulit kotok meuting = henteu beresih pisan haténa, masih ngunek-ngunek.\n",
      "Output: Balung/UNK kulit/UNK kotok/KB meuting/KB henteu/PL beresih/UNK pisan/UNK haténa/UNK masih/UNK ngunek/UNK ngunek/UNK\n",
      "\n",
      "Input : Banda sasampiran, nyawa gagaduhan = ulah boga angkeuhan nyawa jeung banda bisa diatur ku urang.\n",
      "Output: Banda/KB sasampiran/UNK nyawa/UNK gagaduhan/UNK ulah/PL boga/KP angkeuhan/KB nyawa/UNK jeung/UNK banda/KB bisa/UNK diatur/UNK ku/UNK urang/KG\n",
      "\n",
      "Input : Banda tatalang raga = leuwih hadé ngorbankeun banda, batan cilaka awak.\n",
      "Output: Banda/KB tatalang/UNK raga/UNK leuwih/UNK hadé/UNK ngorbankeun/UNK banda/KB batan/PA cilaka/UNK awak/KB\n",
      "\n",
      "Input : Batok bulu eusi madu = goréng rupa, tapi pinter jeung bageur. Atawa siga bodo tapi pinter.\n",
      "Output: Batok/KB bulu/UNK eusi/UNK madu/UNK goréng/UNK rupa/UNK tapi/KPN pinter/UNK jeung/UNK bageur/KS Atawa/KPN siga/KB bodo/UNK tapi/KPN pinter/UNK\n",
      "\n",
      "Input : Bébék ngoyor di sagara, rék nginum néangan cai = lubak-libuk tapi teu bisa maké ku lantaran lain hakna.\n",
      "Output: Bébék/UNK ngoyor/UNK di/UNK sagara/KB rék/UNK nginum/UNK néangan/UNK cai/KB lubak/UNK libuk/UNK tapi/KPN teu/PL bisa/UNK maké/UNK ku/UNK lantaran/PA lain/PL hakna/UNK\n",
      "\n",
      "Input : Bengkuang ngariung bongkok ngaronyok = kajeun ripuh asal teu jauh jeung anak incu atawa baraya.\n",
      "Output: Bengkuang/UNK ngariung/UNK bongkok/UNK ngaronyok/KB kajeun/UNK ripuh/UNK asal/UNK teu/PL jauh/UNK jeung/UNK anak/UNK incu/UNK atawa/KPN baraya/KB\n",
      "\n",
      "Input : Bentik curuk balas manjuk, capéng balas miwarang = sabisa-bisa ngan maréntah atawa nitah, tara prak digawé sorangan.\n",
      "Output: Bentik/KS curuk/KP balas/KP manjuk/UNK capéng/UNK balas/KP miwarang/UNK sabisa/UNK bisa/UNK ngan/KT maréntah/UNK atawa/KPN nitah/UNK tara/KT prak/UNK digawé/UNK sorangan/PNJ\n",
      "\n",
      "Input : Beungeut nyanghareup ati mungkir = henteu terus jeung haté.\n",
      "Output: Beungeut/KB nyanghareup/KP ati/KB mungkir/UNK henteu/PL terus/UNK jeung/UNK haté/UNK\n",
      "\n",
      "Input : Bilatung ninggang dagé = jalma teu jujur meunang kadudukan nu nguntungkeun keur dirina.\n",
      "Output: Bilatung/KB ninggang/UNK dagé/UNK jalma/UNK teu/PL jujur/UNK meunang/UNK kadudukan/UNK nu/KG nguntungkeun/UNK keur/UNK dirina/UNK\n",
      "\n",
      "Input : Bonténg ngalawan kadu = nu lemah ngalawan nu kuat.\n",
      "Output: Bonténg/UNK ngalawan/UNK kadu/UNK nu/KG lemah/UNK ngalawan/UNK nu/KG kuat/UNK\n",
      "\n",
      "Input : Bubu ngawarégan cocok = méré naséhat atawa nyieun aturan anu balukarna nguntungkeun tapi ogé ngungkulan ku sorangan.\n",
      "Output: Bubu/KB ngawarégan/UNK cocok/UNK méré/UNK naséhat/UNK atawa/KPN nyieun/UNK aturan/UNK anu/UNK balukarna/UNK nguntungkeun/UNK tapi/KPN ogé/UNK ngungkulan/KB ku/UNK sorangan/PNJ\n",
      "\n",
      "Input : Caang bulan dadamaran = migawé hal anu teu perlu deui.\n",
      "Output: Caang/KS bulan/KB dadamaran/UNK migawé/UNK hal/UNK anu/UNK teu/PL perlu/UNK deui/UNK\n",
      "\n",
      "Input : Cai asa tuak bari, kéjo asa catang bobo = sagala teu nguyenah lantaran keur susah atawa keur gering.\n",
      "Output: Cai/KB asa/KB tuak/UNK bari/KS kéjo/UNK asa/KB catang/UNK bobo/KS sagala/UNK teu/PL nguyenah/UNK lantaran/PA keur/UNK susah/UNK atawa/KPN keur/UNK gering/UNK\n",
      "\n",
      "Input : Cai dihilr mah kumaha ti girangna = rayat leutik sok nyonto kalakuan nu ngaheuyeukna.\n",
      "Output: Cai/KB dihilr/UNK mah/UNK kumaha/UNK ti/KPB girangna/UNK rayat/UNK leutik/UNK sok/KP nyonto/UNK kalakuan/UNK nu/KG ngaheuyeukna/UNK\n",
      "\n",
      "Input : Cécéndét mandé kiara, ciluncang mandé sagara = nu miskin atawa jalma leutik hayang nyaruaan nu beunghar atawa mapadani jalma gedé.\n",
      "Output: Cécéndét/UNK mandé/UNK kiara/KB ciluncang/UNK mandé/UNK sagara/KB nu/KG miskin/KS atawa/KPN jalma/UNK leutik/UNK hayang/KP nyaruaan/UNK nu/KG beunghar/KS atawa/KPN mapadani/UNK jalma/UNK gedé/UNK\n",
      "\n",
      "Input : Cikaracak ninggang batu, laun-laun jadi legok = upama dileukeunan bari junun sagala rupa nu hésé ogé bakal bisa.\n",
      "Output: Cikaracak/UNK ninggang/UNK batu/UNK laun/UNK laun/UNK jadi/KP legok/UNK upama/UNK dileukeunan/UNK bari/KS junun/UNK sagala/UNK rupa/UNK nu/KG hésé/UNK ogé/UNK bakal/UNK bisa/UNK\n",
      "\n",
      "Input : Congo-congo ku amis, mun rék amis gé puhuna = anak-anakna teu bageur da kolotna ogé henteu.\n",
      "Output: Congo/UNK congo/UNK ku/UNK amis/KB mun/KB rék/UNK amis/KB gé/UNK puhuna/UNK anak/UNK anakna/UNK teu/PL bageur/KS da/UNK kolotna/KB ogé/UNK henteu/PL\n",
      "\n",
      "Input : Cul dogdog tinggal igel = ninggalkeun gawé baku, ngalampahkeun pagawéan nu teu aya hasilna.\n",
      "Output: Cul/UNK dogdog/UNK tinggal/UNK igel/UNK ninggalkeun/UNK gawé/UNK baku/UNK ngalampahkeun/UNK pagawéan/UNK nu/KG teu/PL aya/KP hasilna/UNK\n",
      "\n",
      "Input : Daék macok embung dipacok = daék ménta embung dibéré, pédah atawa daék dibéré embung méré.\n",
      "Output: Daék/UNK macok/UNK embung/KB dipacok/UNK daék/UNK ménta/UNK embung/KB dibéré/UNK pédah/UNK atawa/KPN daék/UNK dibéré/UNK embung/KB méré/UNK\n",
      "\n",
      "Input : Dagang oncom rancatan emas = modal gedé, ari nu dijual jeung diarah balina teu sabaraha.\n",
      "Output: Dagang/UNK oncom/UNK rancatan/UNK emas/UNK modal/KS gedé/UNK ari/KPB nu/KG dijual/UNK jeung/UNK diarah/UNK balina/KB teu/PL sabaraha/KT\n",
      "\n",
      "Input : Dibéré sabuku ménta sajeungkal, dibéré sajeungkal ménta sadéupa = lantaran dibéré wani sacuik, jadi beuki loba paméntana sarta nyalutak (jalma kurang ajar).\n",
      "Output: Dibéré/UNK sabuku/UNK ménta/UNK sajeungkal/UNK dibéré/UNK sajeungkal/UNK ménta/UNK sadéupa/UNK lantaran/PA dibéré/UNK wani/KS sacuik/UNK jadi/KP beuki/KT loba/UNK paméntana/UNK sarta/KPN nyalutak/UNK jalma/UNK kurang/UNK ajar/UNK\n",
      "\n",
      "Input : Dijeun hulu teu nyanggeut, dijeun buntut teu ngépot = teu beunang dijeunkeun, teu eucreug baé.\n",
      "Output: Dijeun/UNK hulu/KB teu/PL nyanggeut/UNK dijeun/UNK buntut/UNK teu/PL ngépot/UNK teu/PL beunang/KN dijeunkeun/UNK teu/PL eucreug/KS baé/UNK\n",
      "\n",
      "Input : Dikungkun dina diawur, dicangcang teu diparaban = dikurung, ditalak henteu, dinapakahán ogé henteu.\n",
      "Output: Dikungkun/UNK dina/PA diawur/UNK dicangcang/UNK teu/PL diparaban/UNK dikurung/UNK ditalak/UNK henteu/PL dinapakahán/UNK ogé/UNK henteu/PL\n",
      "\n",
      "Input : Dipiamis buah gin-tung = disangka hadé atawa bageur, ari hég sabalikna.\n",
      "Output: Dipiamis/UNK buah/UNK gin/UNK tung/UNK disangka/UNK hadé/UNK atawa/KPN bageur/KS ari/KPB hég/UNK sabalikna/UNK\n",
      "\n",
      "Input : Diitung geus hujan = kakara iana sanggeus karuhan cilaka.\n",
      "Output: Diitung/UNK geus/KBT hujan/UNK kakara/UNK iana/UNK sanggeus/KPB karuhan/UNK cilaka/UNK\n",
      "\n",
      "Input : Dogong-dogong tulak cau, geus gedé diuar batur = ngalindukeun lanjang pipamajikan eun, ari geus meujeuhna dikawin, pék ku batur.\n",
      "Output: Dogong/KB dogong/KB tulak/KB cau/KB geus/KBT gedé/UNK diuar/UNK batur/X ngalindukeun/UNK lanjang/UNK pipamajikan/UNK eun/UNK ari/KPB geus/KBT meujeuhna/KP dikawin/UNK pék/UNK ku/UNK batur/X\n",
      "\n",
      "Input : Elmu angklung = jolédar ka kolot.\n",
      "Output: Elmu/UNK angklung/UNK jolédar/UNK ka/UNK kolot/KS\n",
      "\n",
      "Input : Endog sapatarangan tara megar kabéh = di antara dulur-dulur saindung-sabapa sok aya baé nu teu pati alus milikna.\n",
      "Output: Endog/KB sapatarangan/UNK tara/KT megar/UNK kabéh/UNK di/UNK antara/UNK dulur/KB dulur/KB saindung/UNK sabapa/UNK sok/KP aya/KP baé/UNK nu/KG teu/PL pati/KB alus/KS milikna/KB\n",
      "\n",
      "Input : Endog sasayung, peupeus hiji peupeus kabéh = mun di antara dulur-dulur aya saurang anu codéka, sok mamawa ka saréréa.\n",
      "Output: Endog/KB sasayung/UNK peupeus/KP hiji/WIL peupeus/KP kabéh/UNK mun/KB di/UNK antara/UNK dulur/KB dulur/KB aya/KP saurang/UNK anu/UNK codéka/UNK sok/KP mamawa/UNK ka/UNK saréréa/UNK\n",
      "\n",
      "Input : Galagah kacaahan = ngalajur napsu kabaud ku batur.\n",
      "Output: Galagah/UNK kacaahan/KB ngalajur/UNK napsu/UNK kabaud/UNK ku/UNK batur/X\n",
      "\n",
      "Input : Gedé cahak manan cohok = leuwih loba ngaluarkeun duit batan panghasilan.\n",
      "Output: Gedé/UNK cahak/KB manan/KB cohok/UNK leuwih/UNK loba/UNK ngaluarkeun/UNK duit/UNK batan/PA panghasilan/UNK\n",
      "\n",
      "Input : Giri lungsi tampahingan = jalma anu siga bodo atawa lemah, malah ulah waka dicampah sabab bisa jadi nyolong badé.\n",
      "Output: Giri/UNK lungsi/UNK tampahingan/UNK jalma/UNK anu/UNK siga/KB bodo/UNK atawa/KPN lemah/UNK malah/UNK ulah/PL waka/KS dicampah/UNK sabab/PA bisa/UNK jadi/KP nyolong/UNK badé/UNK\n",
      "\n",
      "Input : Goong nabeuh maneh = muji atawa ngagungkeun sorangan.\n",
      "Output: Goong/UNK nabeuh/UNK maneh/UNK muji/UNK atawa/KPN ngagungkeun/UNK sorangan/PNJ\n",
      "\n",
      "Input : Gunung luhur beunang diukur, laut jero beunang dijugjugan, tapi haté jelema najan déét moal kakobét = teu nyaho eusidrasiahkeun kacida héséna.\n",
      "Output: Gunung/UNK luhur/UNK beunang/KN diukur/UNK laut/UNK jero/UNK beunang/KN dijugjugan/UNK tapi/KPN haté/UNK jelema/UNK najan/KPB déét/UNK moal/KB kakobét/UNK teu/PL nyaho/KP eusidrasiahkeun/UNK kacida/KT héséna/UNK\n",
      "\n",
      "Input : Halodo satuan lantis ku hujan sakali = kahadéan nu geus aya jamanna, bisa leungit atawa musna ku kagoréngan sakali.\n",
      "Output: Halodo/KB satuan/UNK lantis/UNK ku/UNK hujan/UNK sakali/UNK kahadéan/UNK nu/KG geus/KBT aya/KP jamanna/UNK bisa/UNK leungit/UNK atawa/KPN musna/KP ku/UNK kagoréngan/UNK sakali/UNK\n",
      "\n",
      "Input : Hantang-hantung hantigong hantriwéli = kalah ka hadé rupa hadé tagog, tapi taya araheunanan.\n",
      "Output: Hantang/UNK hantung/UNK hantigong/UNK hantriwéli/UNK kalah/UNK ka/UNK hadé/UNK rupa/UNK hadé/UNK tagog/KB tapi/KPN taya/KB araheunanan/UNK\n",
      "\n",
      "Input : Hulu gundul dihihidan = nu keur untung tambah untung.\n",
      "Output: Hulu/KB gundul/UNK dihihidan/UNK nu/KG keur/UNK untung/UNK tambah/UNK untung/UNK\n",
      "\n",
      "Input : Hunyar mandéan gunungcécéndét mandé kiara, ciluncang mandé sagara.\n",
      "Output: Hunyar/UNK mandéan/UNK gunungcécéndét/UNK mandé/UNK kiara/KB ciluncang/UNK mandé/UNK sagara/KB\n",
      "\n",
      "Input : Iwak nangtang sujén = wani nyorang picilakaeun atawa pibahayaeun.\n",
      "Output: Iwak/UNK nangtang/UNK sujén/UNK wani/KS nyorang/KP picilakaeun/UNK atawa/KPN pibahayaeun/UNK\n",
      "\n",
      "Input : Indung lembu bapa banténg = turunan gagah, beunghar, atawa ménak ti indung ti bapa.\n",
      "Output: Indung/UNK lembu/UNK bapa/UNK banténg/UNK turunan/UNK gagah/UNK beunghar/KS atawa/KPN ménak/UNK ti/KPB indung/UNK ti/KPB bapa/UNK\n",
      "\n",
      "Input : Janget kinatelon = turunan hadé atawa goréng ti indung ti bapa.\n",
      "Output: Janget/UNK kinatelon/UNK turunan/UNK hadé/UNK atawa/KPN goréng/UNK ti/KPB indung/UNK ti/KPB bapa/UNK\n",
      "\n",
      "Input : Jati kasilih ku junti = ménak kaéléhkeun ku somah atawa pribumi kaéléhkeun ku sémah (bangsa asing).\n",
      "Output: Jati/UNK kasilih/UNK ku/UNK junti/UNK ménak/UNK kaéléhkeun/UNK ku/UNK somah/KB atawa/KPN pribumi/UNK kaéléhkeun/UNK ku/UNK sémah/UNK bangsa/UNK asing/UNK\n",
      "\n",
      "Input : Jogjog neureuy buah loa = mikahayang perkara anu teu layak.\n",
      "Output: Jogjog/UNK neureuy/UNK buah/UNK loa/UNK mikahayang/UNK perkara/UNK anu/UNK teu/PL layak/UNK\n",
      "\n",
      "Input : Jojodog unggah ka salu = urut badéga jadi patih goah.\n",
      "Output: Jojodog/UNK unggah/KP ka/UNK salu/UNK urut/KB badéga/UNK jadi/KP patih/UNK goah/UNK\n",
      "\n",
      "Input : Kabeureuyan mah tara ku tulang munding, tapi ku cucuk peda = cilaka mah biasana tina mokahaan urusan leutik.\n",
      "Output: Kabeureuyan/KB mah/UNK tara/KT ku/UNK tulang/UNK munding/KB tapi/KPN ku/UNK cucuk/UNK peda/UNK cilaka/UNK mah/UNK biasana/UNK tina/PA mokahaan/UNK urusan/UNK leutik/UNK\n",
      "\n",
      "Input : Kacang poho ka lanjaran = poho ka asal wiwitan, atawa pindah pileumpangan.\n",
      "Output: Kacang/UNK poho/UNK ka/UNK lanjaran/UNK poho/UNK ka/UNK asal/UNK wiwitan/KB atawa/KPN pindah/UNK pileumpangan/UNK\n",
      "\n",
      "Input : Kaciwit kulit kabawa daging = kabawa goréng ku kalakuan baraya anu salah, atawa milu ngarasa teu ngeunah lantaran aya baraya dihina ku batur.\n",
      "Output: Kaciwit/UNK kulit/UNK kabawa/UNK daging/UNK kabawa/UNK goréng/UNK ku/UNK kalakuan/UNK baraya/KB anu/UNK salah/UNK atawa/KPN milu/UNK ngarasa/UNK teu/PL ngeunah/KS lantaran/PA aya/KP baraya/KB dihina/UNK ku/UNK batur/X\n",
      "\n",
      "Input : Ka hareup ngala sajeujeuh, ka tukang ngala sajeungkal = hirup ati-ati maké itungan.\n",
      "Output: Ka/UNK hareup/KS ngala/KP sajeujeuh/UNK ka/UNK tukang/UNK ngala/KP sajeungkal/UNK hirup/KP ati/KB ati/KB maké/UNK itungan/UNK\n",
      "\n",
      "Input : Kajeun pait heula amis tungtung, manan amis heula pait tungtung = leuwih hadé banggaritkeun heula nu banggana, tibatan dibibitaan heula piuntungeunana, bisi ahirna kaduhung.\n",
      "Output: Kajeun/UNK pait/KS heula/KT amis/KB tungtung/UNK manan/KB amis/KB heula/KT pait/KS tungtung/UNK leuwih/UNK hadé/UNK banggaritkeun/UNK heula/KT nu/KG banggana/UNK tibatan/PA dibibitaan/UNK heula/KT piuntungeunana/UNK bisi/KPB ahirna/UNK kaduhung/KP\n",
      "\n",
      "Input : Kajeun panas tonggong asal tiis beuteung = nuduhkeun jelema getol digawé, capé ogé ngeureuyeuh wé, nu antukna bisa meunang pangupa jiwa.\n",
      "Output: Kajeun/UNK panas/UNK tonggong/KB asal/UNK tiis/KS beuteung/KB nuduhkeun/UNK jelema/UNK getol/KP digawé/UNK capé/UNK ogé/UNK ngeureuyeuh/UNK wé/UNK nu/KG antukna/UNK bisa/UNK meunang/UNK pangupa/UNK jiwa/UNK\n",
      "\n",
      "Input : Kalapa bijil ti cungap = ngomongkeun rusiah sorangan bari teu dihaja.\n",
      "Output: Kalapa/UNK bijil/KP ti/KPB cungap/UNK ngomongkeun/UNK rusiah/KB sorangan/PNJ bari/KS teu/PL dihaja/UNK\n",
      "\n",
      "Input : Ka luhur sieun gugur, ka handap sieun cacing = taya kawani.\n",
      "Output: Ka/UNK luhur/UNK sieun/KP gugur/UNK ka/UNK handap/KB sieun/KP cacing/UNK taya/KB kawani/KB\n",
      "\n",
      "Input : Ka luhur teu sirungan, ka handap teu akaran = taya kamajuan sarta taya kamarasan (jelema doraka).\n",
      "Output: Ka/UNK luhur/UNK teu/PL sirungan/KB ka/UNK handap/KB teu/PL akaran/UNK taya/KB kamajuan/UNK sarta/KPN taya/KB kamarasan/UNK jelema/UNK doraka/UNK\n",
      "\n",
      "Input : Kawas anjing kadempét lincar = nu leutik dikaniaya ku dununganana, ari rék ngalawan teu bisa, ngan bati humandeuar baé.\n",
      "Output: Kawas/PA anjing/UNK kadempét/UNK lincar/UNK nu/KG leutik/UNK dikaniaya/UNK ku/UNK dununganana/UNK ari/KPB rék/UNK ngalawan/UNK teu/PL bisa/UNK ngan/KT bati/KB humandeuar/KP baé/UNK\n",
      "\n",
      "Input : Kawas anjing tutung buntut = ku bawaning atoh atawa ku bawaning susah teu ngeunah cicing di imah, udar-ider baé.\n",
      "Output: Kawas/PA anjing/UNK tutung/KS buntut/UNK ku/UNK bawaning/UNK atoh/KN atawa/KPN ku/UNK bawaning/UNK susah/UNK teu/PL ngeunah/KS cicing/KB di/UNK imah/UNK udar/KP ider/KP baé/UNK\n",
      "\n",
      "Input : Kawas awi sumér di pasir = luak-léok pikir, teu puguh tangtungan.\n",
      "Output: Kawas/PA awi/KB sumér/UNK di/UNK pasir/KN luak/UNK léok/UNK pikir/UNK teu/PL puguh/UNK tangtungan/UNK\n",
      "\n",
      "Input : Kawas badak Cihéa = jalma nu leumpangna noyod siga nu degig.\n",
      "Output: Kawas/PA badak/UNK Cihéa/UNK jalma/UNK nu/KG leumpangna/UNK noyod/PA siga/KB nu/KG degig/KBT\n",
      "\n",
      "Input : Kawas cai dina daun bolang = naséhat atawa papatah taya nyangsangna, taya nerapna.\n",
      "Output: Kawas/PA cai/KB dina/PA daun/UNK bolang/KB naséhat/UNK atawa/KPN papatah/KB taya/KB nyangsangna/KB taya/KB nerapna/UNK\n",
      "\n",
      "Input : Kawas cai dina daun taleuskawas cai dina daun bolang.\n",
      "Output: Kawas/PA cai/KB dina/PA daun/UNK taleuskawas/UNK cai/KB dina/PA daun/UNK bolang/KB\n",
      "\n",
      "Input : Kawas kuda leupas ti gedogan = ngumbar kahayang lantaran geus euweuh nu ngahalangan.\n",
      "Output: Kawas/PA kuda/UNK leupas/UNK ti/KPB gedogan/KB ngumbar/UNK kahayang/UNK lantaran/PA geus/KBT euweuh/KP nu/KG ngahalangan/UNK\n",
      "\n",
      "Input : Kawas nanggeuy endog beubeureumna = kacida dadahdeuhna ka nu dipikanyaah lantaran inggis kuma onam (gering, cilaka, jsté.).\n",
      "Output: Kawas/PA nanggeuy/KN endog/KB beubeureumna/UNK kacida/KT dadahdeuhna/UNK ka/UNK nu/KG dipikanyaah/UNK lantaran/PA inggis/UNK kuma/UNK onam/KB gering/UNK cilaka/UNK jsté/UNK\n",
      "\n",
      "Input : Kawas pantun teu jeung kacapi = bisa mapatahan wungkul, teu bisa nyontoan.\n",
      "Output: Kawas/PA pantun/KB teu/PL jeung/UNK kacapi/UNK bisa/UNK mapatahan/UNK wungkul/KT teu/PL bisa/UNK nyontoan/UNK\n",
      "\n",
      "Input : Kawas ucing nyanding paisan = piraku henteu kagoda.\n",
      "Output: Kawas/PA ucing/KB nyanding/UNK paisan/KB piraku/UNK henteu/PL kagoda/UNK\n",
      "\n",
      "Input : Kebo mulih pakandangan = balik ti pangumbaraan ka tempat asal dilahirkeun.\n",
      "Output: Kebo/UNK mulih/KP pakandangan/UNK balik/KP ti/KPB pangumbaraan/KB ka/UNK tempat/UNK asal/UNK dilahirkeun/UNK\n",
      "\n",
      "Input : Kotok bongkok kumolorong, kacingcalang kumarantang = pipilueun nyarita (diomongkeun ka nu lain layakna).\n",
      "Output: Kotok/KB bongkok/UNK kumolorong/UNK kacingcalang/KP kumarantang/UNK pipilueun/UNK nyarita/UNK diomongkeun/UNK ka/UNK nu/KG lain/PL layakna/UNK\n",
      "\n",
      "Input : Kudu nyaho lautanana, kudu nyaho tatambanganana = kudu nyaho lilinggeranana, kudu nganyahokeun adatna, kalakuanana, kangéwana jeung karesepna.\n",
      "Output: Kudu/UNK nyaho/KP lautanana/UNK kudu/UNK nyaho/KP tatambanganana/UNK kudu/UNK nyaho/KP lilinggeranana/UNK kudu/UNK nganyahokeun/UNK adatna/UNK kalakuanana/UNK kangéwana/UNK jeung/UNK karesepna/UNK\n",
      "\n",
      "Input : Kukuk sumpung dilawan dada leway = sarua goréngna nu ngambek dilawan nu burung dilawan gélo.\n",
      "Output: Kukuk/KB sumpung/KP dilawan/UNK dada/UNK leway/UNK sarua/KS goréngna/UNK nu/KG ngambek/KB dilawan/UNK nu/KG burung/KS dilawan/UNK gélo/UNK\n",
      "\n",
      "Input : Landung kandungan laér aisan = gedé timbangan.\n",
      "Output: Landung/UNK kandungan/UNK laér/UNK aisan/UNK gedé/UNK timbangan/UNK\n",
      "\n",
      "Input : Lauk buruk milu mijah, piritan milu endogan = pipilueun nyarita atawa ilubiung kana sarupaning urusan, padahal lain cabakna atawa ahlina.\n",
      "Output: Lauk/UNK buruk/UNK milu/UNK mijah/KP piritan/UNK milu/UNK endogan/KB pipilueun/UNK nyarita/UNK atawa/KPN ilubiung/UNK kana/UNK sarupaning/UNK urusan/UNK padahal/UNK lain/PL cabakna/KB atawa/KPN ahlina/UNK\n",
      "\n",
      "Input : Legok tapak genténg kadék = loba luang jeung pangalamanana.\n",
      "Output: Legok/UNK tapak/KB genténg/UNK kadék/UNK loba/UNK luang/UNK jeung/UNK pangalamanana/UNK\n",
      "\n",
      "Input : Leuleus jeujeur liat tali = gedé tinimbangan, sabar darana, henteu getas harupateun.\n",
      "Output: Leuleus/KS jeujeur/UNK liat/UNK tali/KB gedé/UNK tinimbangan/UNK sabar/UNK darana/UNK henteu/PL getas/KS harupateun/UNK\n",
      "\n",
      "Input : Leuleus kéjo poéna = mimitina bengis, lila-lila jadi bageur.\n",
      "Output: Leuleus/KS kéjo/UNK poéna/UNK mimitina/KB bengis/UNK lila/UNK lila/UNK jadi/KP bageur/KS\n",
      "\n",
      "Input : Leunggeuh cau beuleum = méméh hiji pagawéan anggus geus gap deui kana gawé séjén.\n",
      "Output: Leunggeuh/UNK cau/KB beuleum/KB méméh/UNK hiji/WIL pagawéan/UNK anggus/UNK geus/KBT gap/UNK deui/UNK kana/UNK gawé/UNK séjén/UNK\n",
      "\n",
      "Input : Lodong kosong ngelentrung = pamoyok ka jalma nu taya kanyaho, tapi loba omong tanpa eusi.\n",
      "Output: Lodong/UNK kosong/UNK ngelentrung/UNK pamoyok/UNK ka/UNK jalma/UNK nu/KG taya/KB kanyaho/UNK tapi/KPN loba/UNK omong/UNK tanpa/UNK eusi/UNK\n",
      "\n",
      "Input : Maléngpéng pakél ku munding = ngalampahkeun perkara nu moal pihasileun.\n",
      "Output: Maléngpéng/UNK pakél/UNK ku/UNK munding/KB ngalampahkeun/UNK perkara/UNK nu/KG moal/KB pihasileun/UNK\n",
      "\n",
      "Input : Malik ka temen = asal banyol, tuluy na jadi enyaan.\n",
      "Output: Malik/UNK ka/UNK temen/KT asal/UNK banyol/KB tuluy/KPB na/KN jadi/KP enyaan/KB\n",
      "\n",
      "Input : Malikkeun pangali = nu disérénan gawé kawajibanana, kalah ka nempuhkeun ka nu nyérénkeunana.\n",
      "Output: Malikkeun/UNK pangali/UNK nu/KG disérénan/UNK gawé/UNK kawajibanana/UNK kalah/UNK ka/UNK nempuhkeun/UNK ka/UNK nu/KG nyérénkeunana/UNK\n",
      "\n",
      "Input : Mangkok emas eusi madu = jelema nu hadé, terus omongna alus gékna hadé, lampahna bageur, omongna jeung lampahna terus hadé ka ati-atina.\n",
      "Output: Mangkok/UNK emas/UNK eusi/UNK madu/UNK jelema/UNK nu/KG hadé/UNK terus/UNK omongna/UNK alus/KS gékna/UNK hadé/UNK lampahna/KB bageur/KS omongna/UNK jeung/UNK lampahna/KB terus/UNK hadé/UNK ka/UNK ati/KB atina/KB\n",
      "\n",
      "Input : Manuk hiber ku jangjangna, jalma hirup ku akalna = unggal mahluk ku Alloh geus dipaparin rupa-rupa parabot pikeun nyiar kahirupanana (rejeki).\n",
      "Output: Manuk/UNK hiber/KB ku/UNK jangjangna/UNK jalma/UNK hirup/KP ku/UNK akalna/UNK unggal/PNJ mahluk/UNK ku/UNK Alloh/UNK geus/KBT dipaparin/UNK rupa/UNK rupa/UNK parabot/KB pikeun/UNK nyiar/KP kahirupanana/UNK rejeki/UNK\n",
      "\n",
      "Input : Mapay ka puhu leungeun = kasalahan jelema sok mamawa goréng ka kolotna atawa ka saluhureunana.\n",
      "Output: Mapay/UNK ka/UNK puhu/UNK leungeun/UNK kasalahan/UNK jelema/UNK sok/KP mamawa/UNK goréng/UNK ka/UNK kolotna/KB atawa/KPN ka/UNK saluhureunana/UNK\n",
      "\n",
      "Input : Mapatahan naék ka monyét = mapatahan ka nu leuwih pinter.\n",
      "Output: Mapatahan/UNK naék/UNK ka/UNK monyét/UNK mapatahan/UNK ka/UNK nu/KG leuwih/UNK pinter/UNK\n",
      "\n",
      "Input : Mapatahan ngojay ka meri = mapatahan ka jalma anu leuwih loba kanyahona jeung pangalamanana.\n",
      "Output: Mapatahan/UNK ngojay/KP ka/UNK meri/KB mapatahan/UNK ka/UNK jalma/UNK anu/UNK leuwih/UNK loba/UNK kanyahona/UNK jeung/UNK pangalamanana/UNK\n",
      "\n",
      "Input : Maut ka puhu = mamawa ka kolot (paséa budak).\n",
      "Output: Maut/UNK ka/UNK puhu/UNK mamawa/UNK ka/UNK kolot/KS paséa/UNK budak/KB\n",
      "\n",
      "Input : Maut nyérék ka congona = hirup susah pakokolot ngarandapan kurang rejeki sanggeus kolot.\n",
      "Output: Maut/UNK nyérék/UNK ka/UNK congona/UNK hirup/KP susah/UNK pakokolot/KB ngarandapan/UNK kurang/UNK rejeki/UNK sanggeus/KPB kolot/KS\n",
      "\n",
      "Input : Mébér-mébér totopong heureut = ngajeujeuhkeun rejeki saeutik supaya mahi.\n",
      "Output: Mébér/UNK mébér/UNK totopong/KB heureut/KS ngajeujeuhkeun/UNK rejeki/UNK saeutik/UNK supaya/PA mahi/UNK\n",
      "\n",
      "Input : Mending kendor ngagémbol tibatan gancang pincang = mending kénéh lila tapi hasilna alus tibatan gancang hasilna goréng atawa teu hadé.\n",
      "Output: Mending/UNK kendor/KS ngagémbol/UNK tibatan/PA gancang/KS pincang/UNK mending/UNK kénéh/UNK lila/UNK tapi/KPN hasilna/UNK alus/KS tibatan/PA gancang/KS hasilna/UNK goréng/UNK atawa/KPN teu/PL hadé/UNK\n",
      "\n",
      "Input : Meunang luang tina burang = meunang pangalaman hadé tina cilakaan.\n",
      "Output: Meunang/UNK luang/UNK tina/PA burang/KN meunang/UNK pangalaman/UNK hadé/UNK tina/PA cilakaan/UNK\n",
      "\n",
      "Input : Meungpeun carang ku ayakan = api-api teu nyaho, ngantep jelema nu ngalampahkeun pagawéan nu dilarang.\n",
      "Output: Meungpeun/KB carang/KS ku/UNK ayakan/KB api/UNK api/UNK teu/PL nyaho/KP ngantep/UNK jelema/UNK nu/KG ngalampahkeun/UNK pagawéan/UNK nu/KG dilarang/UNK\n",
      "\n",
      "Input : Mihapé hayam ka heulang = nitipkeun barang atawa banda ka nu geus katotol teu jujur.\n",
      "Output: Mihapé/UNK hayam/KB ka/UNK heulang/UNK nitipkeun/UNK barang/UNK atawa/KPN banda/KB ka/UNK nu/KG geus/KBT katotol/UNK teu/PL jujur/UNK\n",
      "\n",
      "Input : Moal aya haseup mun euweuh seuneu = sagala rupa béja tangtu aya benerna, sanajan loba tambahna nu meunang ngaréka.\n",
      "Output: Moal/KB aya/KP haseup/KB mun/KB euweuh/KP seuneu/KB sagala/UNK rupa/UNK béja/UNK tangtu/KP aya/KP benerna/KB sanajan/KPB loba/UNK tambahna/UNK nu/KG meunang/UNK ngaréka/UNK\n",
      "\n",
      "Input : Monyét dibéré séséngkéd = dibéré kasempetan komo ngahanakeun (kana kalakuan goréng).\n",
      "Output: Monyét/UNK dibéré/UNK séséngkéd/UNK dibéré/UNK kasempetan/KB komo/KT ngahanakeun/UNK kana/UNK kalakuan/UNK goréng/UNK\n",
      "\n",
      "Input : Monyét kapalingan jagong = nu maling kapalingan nu nipu katipu.\n",
      "Output: Monyét/UNK kapalingan/UNK jagong/UNK nu/KG maling/UNK kapalingan/UNK nu/KG nipu/UNK katipu/UNK\n",
      "\n",
      "Input : Monyét ngagugulung kalapa = nyaho kana luarna wungkul, kana eusina mah teu taram-taram acan.\n",
      "Output: Monyét/UNK ngagugulung/UNK kalapa/UNK nyaho/KP kana/UNK luarna/UNK wungkul/KT kana/UNK eusina/UNK mah/UNK teu/PL taram/UNK taram/UNK acan/PL\n",
      "\n",
      "Input : Mopo méméh nanggung = wegah rék ngalaksanakeun pagawéan.\n",
      "Output: Mopo/KP méméh/UNK nanggung/KB wegah/UNK rék/UNK ngalaksanakeun/UNK pagawéan/UNK\n",
      "\n",
      "Input : Moro julang ngaleupaskeun peusing = ngaléotkeun barang nu geus kapimilik, lantaran kabita ku nu leuwih gedé, padahal can tangtu hasil.\n",
      "Output: Moro/UNK julang/UNK ngaleupaskeun/UNK peusing/KP ngaléotkeun/UNK barang/UNK nu/KG geus/KBT kapimilik/UNK lantaran/PA kabita/UNK ku/UNK nu/KG leuwih/UNK gedé/UNK padahal/UNK can/PL tangtu/KP hasil/UNK\n",
      "\n",
      "Input : Moro taya tinggal kaya = pakaya nu geus mukti, nu geus aya, ditinggalkeun, lantaran hayang pindah ka tempat anyar nu singsarwa euweuh, padahal maksudna mah hayang leuwih ti nu tadi.\n",
      "Output: Moro/UNK taya/KB tinggal/UNK kaya/UNK pakaya/KB nu/KG geus/KBT mukti/KS nu/KG geus/KBT aya/KP ditinggalkeun/UNK lantaran/PA hayang/KP pindah/UNK ka/UNK tempat/UNK anyar/KS nu/KG singsarwa/UNK euweuh/KP padahal/UNK maksudna/UNK mah/UNK hayang/KP leuwih/UNK ti/KPB nu/KG tadi/UNK\n",
      "\n",
      "Input : Muncang labuh ka puhukebo mulih pakandangan.\n",
      "Output: Muncang/KB labuh/KP ka/UNK puhukebo/UNK mulih/KP pakandangan/UNK\n",
      "\n",
      "Input : Mun kiruh ti girang, komo ka hilirna = lamun nu kasébut pamingpin lampahna kurang hadé, komo nu dipingpinna.\n",
      "Output: Mun/KB kiruh/KS ti/KPB girang/UNK komo/KT ka/UNK hilirna/UNK lamun/KPB nu/KG kasébut/UNK pamingpin/UNK lampahna/KB kurang/UNK hadé/UNK komo/KT nu/KG dipingpinna/UNK\n",
      "\n",
      "Input : Nangkeup mawa eunyeuh = mawa cilaka ka nu dipéntaan tulung.\n",
      "Output: Nangkeup/KP mawa/UNK eunyeuh/KP mawa/UNK cilaka/UNK ka/UNK nu/KG dipéntaan/UNK tulung/UNK\n",
      "\n",
      "Input : Nangtung di kariungan, ngadeg di karageman = kumpul barempug, ragem, musawarah.\n",
      "Output: Nangtung/KG di/UNK kariungan/UNK ngadeg/UNK di/UNK karageman/UNK kumpul/UNK barempug/KP ragem/UNK musawarah/KB\n",
      "\n",
      "Input : Nepak cai malér cérét = api-api nyual, susuganan bisa nyaho tina jawaban nu ditanya atawa hasud ka batur sangkan manéhna dipihadé.\n",
      "Output: Nepak/KP cai/KB malér/UNK cérét/UNK api/UNK api/UNK nyual/UNK susuganan/UNK bisa/UNK nyaho/KP tina/PA jawaban/UNK nu/KG ditanya/UNK atawa/KPN hasud/UNK ka/UNK batur/X sangkan/KPB manéhna/UNK dipihadé/UNK\n",
      "\n",
      "Input : Népakeun jurig pateuh = mamawa kasusah ka batur atawa mindahkeun kasusah ka batur.\n",
      "Output: Népakeun/UNK jurig/UNK pateuh/UNK mamawa/UNK kasusah/UNK ka/UNK batur/X atawa/KPN mindahkeun/UNK kasusah/UNK ka/UNK batur/X\n",
      "\n",
      "Input : Nété semplék nincak semplak = kitu salah kieu salah, sagala usaha teu hasil.\n",
      "Output: Nété/UNK semplék/UNK nincak/UNK semplak/KB kitu/PA salah/UNK kieu/PA salah/UNK sagala/UNK usaha/UNK teu/PL hasil/UNK\n",
      "\n",
      "Input : Nété tarajé, nincak hambalan = tartib, mapay ti nu handap ka nu luhur.\n",
      "Output: Nété/UNK tarajé/UNK nincak/UNK hambalan/UNK tartib/KP mapay/UNK ti/KPB nu/KG handap/KB ka/UNK nu/KG luhur/UNK\n",
      "\n",
      "Input : Neuteuk curuk dina pingping = nyilakakeun baraya atawa batur sagolongan.\n",
      "Output: Neuteuk/UNK curuk/KP dina/PA pingping/UNK nyilakakeun/UNK baraya/KB atawa/KPN batur/X sagolongan/UNK\n",
      "\n",
      "Input : Neukteuk mari atawa méré anggeus = mutuskeun hubungan.\n",
      "Output: Neukteuk/KP mari/KB atawa/KPN méré/UNK anggeus/KP mutuskeun/UNK hubungan/UNK\n",
      "\n",
      "Input : Neundeun piheuleut nunda picela = kasalahan nu ngalantarankeun pacéngkadan atawa nu matak ngarenggengkeun silaturahmi.\n",
      "Output: Neundeun/KP piheuleut/UNK nunda/UNK picela/UNK kasalahan/UNK nu/KG ngalantarankeun/UNK pacéngkadan/UNK atawa/KPN nu/KG matak/UNK ngarenggengkeun/UNK silaturahmi/UNK\n",
      "\n",
      "Input : Ngaborétkeun liang tai di pasar = nyaritakeun rasiah sorangan nu matak aéb.\n",
      "Output: Ngaborétkeun/UNK liang/UNK tai/KB di/UNK pasar/UNK nyaritakeun/UNK rasiah/UNK sorangan/PNJ nu/KG matak/UNK aéb/UNK\n",
      "\n",
      "Input : Ngadagoan belut sisitan, oray jangjangan = moal kaalaman, mustahil kajadian.\n",
      "Output: Ngadagoan/KP belut/UNK sisitan/KB oray/KB jangjangan/UNK moal/KB kaalaman/UNK mustahil/KS kajadian/KB\n",
      "\n",
      "Input : Ngadagoan uncal mapal = ngadagoan rejeki bari teu usaha.\n",
      "Output: Ngadagoan/KP uncal/KB mapal/UNK ngadagoan/KP rejeki/UNK bari/KS teu/PL usaha/UNK\n",
      "\n",
      "Input : Ngadék sacécna, nilas saqlasna = satarabasna, teu diréka.\n",
      "Output: Ngadék/UNK sacécna/UNK nilas/UNK saqlasna/UNK satarabasna/UNK teu/PL diréka/UNK\n",
      "\n",
      "Input : Ngadu-ngadu raja wisuna = ngahudang amarah dua jalma ngarah bengkak.\n",
      "Output: Ngadu/UNK ngadu/UNK raja/KS wisuna/UNK ngahudang/UNK amarah/KP dua/UNK jalma/UNK ngarah/UNK bengkak/UNK\n",
      "\n",
      "Input : Ngajual jarum ka tukang géndong = niat nipu ka nu pinter.\n",
      "Output: Ngajual/UNK jarum/UNK ka/UNK tukang/UNK géndong/UNK niat/UNK nipu/UNK ka/UNK nu/KG pinter/UNK\n",
      "\n",
      "Input : Ngajul béntang (bulan) ku asiwung = hal anu pamohalan bisa kalaksanakeun.\n",
      "Output: Ngajul/KB béntang/UNK bulan/KB ku/UNK asiwung/UNK hal/UNK anu/UNK pamohalan/KS bisa/UNK kalaksanakeun/UNK\n",
      "\n",
      "Input : Ngaliarkeun talus ateul = nyebarkeun kagoréngan batur.\n",
      "Output: Ngaliarkeun/UNK talus/UNK ateul/KP nyebarkeun/UNK kagoréngan/UNK batur/X\n",
      "\n",
      "Input : Ngalungkeun kuya ka leuwi = nempatkeun jelema (pagawé) di, atawa mindahkeun ka lemburna sorangan.\n",
      "Output: Ngalungkeun/KP kuya/KB ka/UNK leuwi/UNK nempatkeun/UNK jelema/UNK pagawé/UNK di/UNK atawa/KPN mindahkeun/UNK ka/UNK lemburna/UNK sorangan/PNJ\n",
      "\n",
      "Input : Ngawur kasintu nyieuhkeun hayam = béréhan ka deungeun-deungeun, ari ka baraya kakad-kékéd.\n",
      "Output: Ngawur/KB kasintu/UNK nyieuhkeun/UNK hayam/KB béréhan/UNK ka/UNK deungeun/KB deungeun/KB ari/KPB ka/UNK baraya/KB kakad/UNK kékéd/UNK\n",
      "\n",
      "Input : Ngawurkeun wijén kana keusik = pagawéan mubadir, taya gunana.\n",
      "Output: Ngawurkeun/KB wijén/UNK kana/UNK keusik/KB pagawéan/UNK mubadir/KS taya/KB gunana/UNK\n",
      "\n",
      "Input : Ngeundeuk-ngeundeuk geusan eunteup = néangan akal pikeun nyilakakeun dunungan.\n",
      "Output: Ngeundeuk/UNK ngeundeuk/UNK geusan/UNK eunteup/KP néangan/UNK akal/UNK pikeun/UNK nyilakakeun/UNK dunungan/KB\n",
      "\n",
      "Input : Ngeupeul ngahuapan manéh = méré naséhat atawa nyieun aturan nu balukarna nguntungkeun tu sorangan.\n",
      "Output: Ngeupeul/UNK ngahuapan/UNK manéh/UNK méré/UNK naséhat/UNK atawa/KPN nyieun/UNK aturan/UNK nu/KG balukarna/UNK nguntungkeun/UNK tu/UNK sorangan/PNJ\n",
      "\n",
      "Input : Ngimpi gé diangir mandi = baraid teuing, kacida teu panujuna.\n",
      "Output: Ngimpi/UNK gé/UNK diangir/UNK mandi/UNK baraid/UNK teuing/KT kacida/KT teu/PL panujuna/KB\n",
      "\n",
      "Input : Ngingu kuda kuru, ari geus lintuh nyépak = miara atawa ngamemenan jalma walurat, ari geus senang jadi cucungah.\n",
      "Output: Ngingu/UNK kuda/UNK kuru/UNK ari/KPB geus/KBT lintuh/UNK nyépak/UNK miara/UNK atawa/KPN ngamemenan/UNK jalma/UNK walurat/KS ari/KPB geus/KBT senang/UNK jadi/KP cucungah/KB\n",
      "\n",
      "Input : Ngudag-ngudag kalangkang heulang = miharép perkara anu samar bisa kalaksanakeun.\n",
      "Output: Ngudag/UNK ngudag/UNK kalangkang/UNK heulang/UNK miharép/UNK perkara/UNK anu/UNK samar/UNK bisa/UNK kalaksanakeun/UNK\n",
      "\n",
      "Input : Ngusik-ngusik ula mandi = ngagugat perkara nu geus kaliwat, sarta nu temahna matak nimbulkeun pacogrégan.\n",
      "Output: Ngusik/UNK ngusik/UNK ula/UNK mandi/UNK ngagugat/UNK perkara/UNK nu/KG geus/KBT kaliwat/UNK sarta/KPN nu/KG temahna/KB matak/UNK nimbulkeun/UNK pacogrégan/UNK\n",
      "\n",
      "Input : Ngukur baju sasereg awak = hirup saeukeurma, dina papait dina mamanis teu daék pacorok jeung batur.\n",
      "Output: Ngukur/UNK baju/UNK sasereg/UNK awak/KB hirup/KP saeukeurma/UNK dina/PA papait/KB dina/PA mamanis/UNK teu/PL daék/UNK pacorok/UNK jeung/UNK batur/X\n",
      "\n",
      "Input : Nu asih dipulang sengit, nu haat dipulang moha = nu nyieun kahadéan dibales ku kagoréngan.\n",
      "Output: Nu/KG asih/UNK dipulang/UNK sengit/UNK nu/KG haat/UNK dipulang/UNK moha/KS nu/KG nyieun/UNK kahadéan/UNK dibales/UNK ku/UNK kagoréngan/UNK\n",
      "\n",
      "Input : Nu geulis jadi werejit, nu lenjang jadi baruang = nu geulis bisa jadi ngabahayakeun ka lalaki atawa salaki.\n",
      "Output: Nu/KG geulis/UNK jadi/KP werejit/KB nu/KG lenjang/UNK jadi/KP baruang/UNK nu/KG geulis/UNK bisa/UNK jadi/KP ngabahayakeun/UNK ka/UNK lalaki/UNK atawa/KPN salaki/KB\n",
      "\n",
      "Input : Nulungan anjing kadempét = nulungan jelema nu taya panarimana.\n",
      "Output: Nulungan/UNK anjing/UNK kadempét/UNK nulungan/UNK jelema/UNK nu/KG taya/KB panarimana/UNK\n",
      "\n",
      "Input : Nyair hurang meunang kancra = kabeneran meunang untung gedé ku usaha leuleutikan.\n",
      "Output: Nyair/UNK hurang/KB meunang/UNK kancra/UNK kabeneran/KB meunang/UNK untung/UNK gedé/UNK ku/UNK usaha/UNK leuleutikan/UNK\n",
      "\n",
      "Input : Nyalisik ka buuk leutik = barangpénta atawa ngarah ka-untungan nu rupa-rupa jalaran ti rahayat (dilakukeun ku pamingpin atawa kapala nu kadedemes).\n",
      "Output: Nyalisik/UNK ka/UNK buuk/UNK leutik/UNK barangpénta/UNK atawa/KPN ngarah/UNK ka/UNK untungan/UNK nu/KG rupa/UNK rupa/UNK jalaran/UNK ti/KPB rahayat/UNK dilakukeun/UNK ku/UNK pamingpin/UNK atawa/KPN kapala/UNK nu/KG kadedemes/KB\n",
      "\n",
      "Input : Nyalindung ka gelung = hirup ngandelkeun banda atawa pangala pamajikan.\n",
      "Output: Nyalindung/KP ka/UNK gelung/UNK hirup/KP ngandelkeun/UNK banda/KB atawa/KPN pangala/KB pamajikan/KB\n",
      "\n",
      "Input : Nyecepo ka nu rarémpo = ngaréndahkeun jalma teu boga.\n",
      "Output: Nyecepo/KP ka/UNK nu/KG rarémpo/UNK ngaréndahkeun/UNK jalma/UNK teu/PL boga/KP\n",
      "\n",
      "Input : Nyeungeut damar di suhunan = némbongkeun kabeungharan, méré mawéh ka deungeun-deungeun ngarah pamuji.\n",
      "Output: Nyeungeut/UNK damar/UNK di/UNK suhunan/KP némbongkeun/UNK kabeungharan/KB méré/UNK mawéh/UNK ka/UNK deungeun/KB deungeun/KB ngarah/UNK pamuji/UNK\n",
      "\n",
      "Input : Nyiari teri meunang japuh = meunang untung gedé leuwih ti dipiharép.\n",
      "Output: Nyiari/UNK teri/UNK meunang/UNK japuh/UNK meunang/UNK untung/UNK gedé/UNK leuwih/UNK ti/KPB dipiharép/UNK\n",
      "\n",
      "Input : Nyiduh ka langit = mapatahan ka saluhureun.\n",
      "Output: Nyiduh/UNK ka/UNK langit/UNK mapatahan/UNK ka/UNK saluhureun/UNK\n",
      "\n",
      "Input : Nyieun pucuk ti girang = nyieun jalan pipaséaun.\n",
      "Output: Nyieun/UNK pucuk/UNK ti/KPB girang/UNK nyieun/UNK jalan/UNK pipaséaun/UNK\n",
      "\n",
      "Input : Nyiuk cai ku ayakan = migawé kalakuan nu moal aya hasilna.\n",
      "Output: Nyiuk/UNK cai/KB ku/UNK ayakan/KB migawé/UNK kalakuan/UNK nu/KG moal/KB aya/KP hasilna/UNK\n",
      "\n",
      "Input : Nyium bari ngégél = muji bari ngarah paméré.\n",
      "Output: Nyium/UNK bari/KS ngégél/UNK muji/UNK bari/KS ngarah/UNK paméré/UNK\n",
      "\n",
      "Input : Omong harus batan goong = béja gampang nerekabna, jeung biasana sok pada ngaleuwihan tina buktina.\n",
      "Output: Omong/UNK harus/KP batan/PA goong/UNK béja/UNK gampang/KS nerekabna/UNK jeung/UNK biasana/UNK sok/KP pada/KB ngaleuwihan/UNK tina/PA buktina/UNK\n",
      "\n"
     ]
    }
   ],
   "source": [
    "import re\n",
    "from typing import List, Tuple, Optional\n",
    "\n",
    "class SundaPOSTagger:\n",
    "    def __init__(self, corpus_path: str):\n",
    "        \"\"\"\n",
    "        Initialize Sunda POS Tagger with corpus text file\n",
    "        Format: kata/POS per line\n",
    "        \"\"\"\n",
    "        self.dataset = self._load_dataset(corpus_path)\n",
    "        self.word_dict = self._create_word_dict()\n",
    "\n",
    "    def _load_dataset(self, corpus_path: str) -> list:\n",
    "        \"\"\"Load dataset from text file format kata/POS\"\"\"\n",
    "        data = []\n",
    "        try:\n",
    "            with open(corpus_path, \"r\", encoding=\"utf-8\") as f:\n",
    "                for line in f:\n",
    "                    line = line.strip()\n",
    "                    if not line or line.startswith(\"#\"):  # skip kosong/komentar\n",
    "                        continue\n",
    "                    if \"/\" in line:\n",
    "                        word, tag = line.split(\"/\", 1)\n",
    "                        word, tag = word.strip(), tag.strip()\n",
    "                        data.append((word, tag))\n",
    "            return data\n",
    "        except Exception as e:\n",
    "            raise Exception(f\"Error loading dataset: {e}\")\n",
    "\n",
    "    def _create_word_dict(self) -> dict:\n",
    "        \"\"\"Create dictionary for fast word lookup\"\"\"\n",
    "        word_dict = {}\n",
    "        for word, tag in self.dataset:\n",
    "            word = word.lower()\n",
    "            if \",\" in word:\n",
    "                words = [w.strip() for w in word.split(\",\")]\n",
    "                for w in words:\n",
    "                    word_dict[w] = tag\n",
    "            else:\n",
    "                word_dict[word] = tag\n",
    "        return word_dict\n",
    "\n",
    "    def _get_word_tag(self, word: str) -> Optional[str]:\n",
    "        \"\"\"Get tag for a word from dataset\"\"\"\n",
    "        return self.word_dict.get(word.lower())\n",
    "\n",
    "    def _check_infiks_ar(self, word: str) -> Tuple[bool, str]:\n",
    "        \"\"\"Check for -ar- infix pattern\"\"\"\n",
    "        if len(word) >= 4 and word[1] == \"a\" and word[2] == \"r\":\n",
    "            base_word = word[0] + word[3:]\n",
    "            return True, base_word\n",
    "        return False, word\n",
    "\n",
    "    def _apply_kb_rules(self, word: str) -> Optional[str]:\n",
    "        \"\"\"Apply KB rules\"\"\"\n",
    "        word_lower = word.lower()\n",
    "\n",
    "        # Rule: -ar- infix\n",
    "        has_ar_infix, word_without_ar = self._check_infiks_ar(word_lower)\n",
    "        if has_ar_infix:\n",
    "            base_tag = self._get_word_tag(word_without_ar)\n",
    "            if base_tag == \"KB\":\n",
    "                return \"KB\"\n",
    "            word_lower = word_without_ar\n",
    "\n",
    "        # Rule: ka- + KS\n",
    "        if word_lower.startswith(\"ka\"):\n",
    "            base_word = word_lower[2:]\n",
    "            if base_word and self._get_word_tag(base_word) == \"KS\":\n",
    "                return \"KB\"\n",
    "\n",
    "        # Rule: pa- + [KB/KP/KS]\n",
    "        if word_lower.startswith(\"pa\"):\n",
    "            base_word = word_lower[2:]\n",
    "            if base_word:\n",
    "                base_tag = self._get_word_tag(base_word)\n",
    "                if base_tag in [\"KB\", \"KP\", \"KS\"]:\n",
    "                    return \"KB\"\n",
    "\n",
    "        # Rule: pang- + [KB/KS]\n",
    "        if word_lower.startswith(\"pang\"):\n",
    "            base_word = word_lower[4:]\n",
    "            if base_word:\n",
    "                base_tag = self._get_word_tag(base_word)\n",
    "                if base_tag in [\"KB\", \"KS\"]:\n",
    "                    return \"KB\"\n",
    "\n",
    "        # Rule: ar- + KB\n",
    "        if word_lower.startswith(\"ar\"):\n",
    "            base_word = word_lower[2:]\n",
    "            if base_word and self._get_word_tag(base_word) == \"KB\":\n",
    "                return \"KB\"\n",
    "\n",
    "        # Rule: [KB/KP/KS] + -an\n",
    "        if word_lower.endswith(\"an\"):\n",
    "            base_word = word_lower[:-2]\n",
    "            if base_word:\n",
    "                base_tag = self._get_word_tag(base_word)\n",
    "                if base_tag in [\"KB\", \"KP\", \"KS\"]:\n",
    "                    return \"KB\"\n",
    "\n",
    "        # Rule: [KB/KP] + -eun\n",
    "        if word_lower.endswith(\"eun\"):\n",
    "            base_word = word_lower[:-3]\n",
    "            if base_word:\n",
    "                base_tag = self._get_word_tag(base_word)\n",
    "                if base_tag in [\"KB\", \"KP\"]:\n",
    "                    return \"KB\"\n",
    "\n",
    "        # Rule: [KB/KP/KS/WIL] + -na\n",
    "        if word_lower.endswith(\"na\"):\n",
    "            base_word = word_lower[:-2]\n",
    "            if base_word:\n",
    "                base_tag = self._get_word_tag(base_word)\n",
    "                if base_tag in [\"KB\", \"KP\", \"KS\", \"WIL\"]:\n",
    "                    return \"KB\"\n",
    "\n",
    "        # Rule: ka- + [KB/KP/KS] + -an\n",
    "        if word_lower.startswith(\"ka\") and word_lower.endswith(\"an\"):\n",
    "            base_word = word_lower[2:-2]\n",
    "            if base_word:\n",
    "                base_tag = self._get_word_tag(base_word)\n",
    "                if base_tag in [\"KB\", \"KP\", \"KS\"]:\n",
    "                    return \"KB\"\n",
    "\n",
    "        # Rule: pa- + [KB/KP/KS] + -an\n",
    "        if word_lower.startswith(\"pa\") and word_lower.endswith(\"an\"):\n",
    "            base_word = word_lower[2:-2]\n",
    "            if base_word:\n",
    "                base_tag = self._get_word_tag(base_word)\n",
    "                if base_tag in [\"KB\", \"KP\", \"KS\"]:\n",
    "                    return \"KB\"\n",
    "\n",
    "        # Rule: per- + KP + -an\n",
    "        if word_lower.startswith(\"per\") and word_lower.endswith(\"an\"):\n",
    "            base_word = word_lower[3:-2]\n",
    "            if base_word and self._get_word_tag(base_word) == \"KP\":\n",
    "                return \"KB\"\n",
    "\n",
    "        # Rule: pi- + KB + -an\n",
    "        if word_lower.startswith(\"pi\") and word_lower.endswith(\"an\"):\n",
    "            base_word = word_lower[2:-2]\n",
    "            if base_word and self._get_word_tag(base_word) == \"KB\":\n",
    "                return \"KB\"\n",
    "\n",
    "        # Rule: pi- + [KB/KP/KS] + -eun\n",
    "        if word_lower.startswith(\"pi\") and word_lower.endswith(\"eun\"):\n",
    "            base_word = word_lower[2:-3]\n",
    "            if base_word:\n",
    "                base_tag = self._get_word_tag(base_word)\n",
    "                if base_tag in [\"KB\", \"KP\", \"KS\"]:\n",
    "                    return \"KB\"\n",
    "\n",
    "        return None\n",
    "\n",
    "    def tag_word(self, word: str) -> str:\n",
    "        \"\"\"Tag a single word\"\"\"\n",
    "        exact_tag = self._get_word_tag(word)\n",
    "        if exact_tag:\n",
    "            return exact_tag\n",
    "        kb_tag = self._apply_kb_rules(word)\n",
    "        if kb_tag:\n",
    "            return kb_tag\n",
    "        return \"UNK\"\n",
    "\n",
    "    def tag_sentence(self, sentence: str) -> List[Tuple[str, str]]:\n",
    "        \"\"\"Tag all words in a sentence\"\"\"\n",
    "        words = re.findall(r\"\\b\\w+\\b\", sentence)\n",
    "        return [(word, self.tag_word(word)) for word in words]\n",
    "\n",
    "    def tag_sentence_string(self, sentence: str) -> str:\n",
    "        tagged_words = self.tag_sentence(sentence)\n",
    "        return \" \".join([f\"{w}/{t}\" for w, t in tagged_words])\n",
    "\n",
    "\n",
    "# === Main ===\n",
    "if __name__ == \"__main__\":\n",
    "    # Load corpus kata/POS\n",
    "    tagger = SundaPOSTagger(\"corpus/pos-sun.txt\")\n",
    "\n",
    "    print(\"=== Sunda POS Tagger ===\\n\")\n",
    "\n",
    "    # Baca kalimat uji dari file multi-dokumen\n",
    "    with open(\"datatext/babasan-paribasa.txt\", \"r\", encoding=\"utf-8\") as f:\n",
    "        sentences = [line.strip() for line in f if line.strip()]\n",
    "\n",
    "    print(\"Tag kalimat dari file:\")\n",
    "    for sentence in sentences:\n",
    "        print(f\"Input : {sentence}\")\n",
    "        print(f\"Output: {tagger.tag_sentence_string(sentence)}\\n\")\n"
   ]
  }
 ],
 "metadata": {
  "kernelspec": {
   "display_name": "Python 3",
   "language": "python",
   "name": "python3"
  },
  "language_info": {
   "codemirror_mode": {
    "name": "ipython",
    "version": 3
   },
   "file_extension": ".py",
   "mimetype": "text/x-python",
   "name": "python",
   "nbconvert_exporter": "python",
   "pygments_lexer": "ipython3",
   "version": "3.12.6"
  }
 },
 "nbformat": 4,
 "nbformat_minor": 5
}
